{
 "cells": [
  {
   "cell_type": "markdown",
   "metadata": {
    "papermill": {
     "duration": 0.047987,
     "end_time": "2020-11-08T15:24:42.329460",
     "exception": false,
     "start_time": "2020-11-08T15:24:42.281473",
     "status": "completed"
    },
    "tags": []
   },
   "source": [
    "\n",
    "\n",
    "Oblig2 ML Dat158 Playing the whole game (Niklas Johansson, Darren Bernardo, Per-Helge Litzheim, Hassan Ali Abdullahi)\n",
    "\n",
    "During this exercise we will follow the eight steps of Appendix B:\n",
    "\n",
    " 1   Frame the problem and look at the big picture\n",
    " 2   Get the data\n",
    " 3   Explore the data to gain insights\n",
    " 4   Prepare the data\n",
    " 5   Explore many different models and short-list the best ones\n",
    " 6   Fine-tune your models and combine them into a great solution\n",
    " 7   Present your solution\n",
    " 8   Launch, monitor and maintain your system\n",
    "    "
   ]
  },
  {
   "cell_type": "markdown",
   "metadata": {
    "papermill": {
     "duration": 0.046713,
     "end_time": "2020-11-08T15:24:42.423057",
     "exception": false,
     "start_time": "2020-11-08T15:24:42.376344",
     "status": "completed"
    },
    "tags": []
   },
   "source": [
    "**1. Framing the problem**\n"
   ]
  },
  {
   "cell_type": "markdown",
   "metadata": {
    "papermill": {
     "duration": 0.046595,
     "end_time": "2020-11-08T15:24:42.517002",
     "exception": false,
     "start_time": "2020-11-08T15:24:42.470407",
     "status": "completed"
    },
    "tags": []
   },
   "source": [
    "**2. Getting the Data**"
   ]
  },
  {
   "cell_type": "code",
   "execution_count": null,
   "metadata": {
    "papermill": {
     "duration": 0.04644,
     "end_time": "2020-11-08T15:24:42.611511",
     "exception": false,
     "start_time": "2020-11-08T15:24:42.565071",
     "status": "completed"
    },
    "tags": []
   },
   "outputs": [],
   "source": []
  },
  {
   "cell_type": "code",
   "execution_count": 2,
   "metadata": {
    "execution": {
     "iopub.execute_input": "2020-11-08T15:24:42.733947Z",
     "iopub.status.busy": "2020-11-08T15:24:42.720518Z",
     "iopub.status.idle": "2020-11-08T15:24:50.996631Z",
     "shell.execute_reply": "2020-11-08T15:24:50.995889Z"
    },
    "papermill": {
     "duration": 8.337982,
     "end_time": "2020-11-08T15:24:50.996766",
     "exception": false,
     "start_time": "2020-11-08T15:24:42.658784",
     "status": "completed"
    },
    "tags": []
   },
   "outputs": [
    {
     "name": "stderr",
     "output_type": "stream",
     "text": [
      "c:\\users\\ph\\pycharmprojects\\dat158ml2\\venv\\lib\\site-packages\\sklearn\\utils\\deprecation.py:143: FutureWarning: The sklearn.metrics.scorer module is  deprecated in version 0.22 and will be removed in version 0.24. The corresponding classes / functions should instead be imported from sklearn.metrics. Anything that cannot be imported from sklearn.metrics is now part of the private API.\n",
      "  warnings.warn(message, FutureWarning)\n",
      "c:\\users\\ph\\pycharmprojects\\dat158ml2\\venv\\lib\\site-packages\\sklearn\\utils\\deprecation.py:143: FutureWarning: The sklearn.feature_selection.base module is  deprecated in version 0.22 and will be removed in version 0.24. The corresponding classes / functions should instead be imported from sklearn.feature_selection. Anything that cannot be imported from sklearn.feature_selection is now part of the private API.\n",
      "  warnings.warn(message, FutureWarning)\n"
     ]
    }
   ],
   "source": [
    "%matplotlib inline\n",
    "import numpy as np # linear algebra\n",
    "import pandas as pd # data processing, CSV file I/O (e.g. pd.read_csv)\n",
    "import matplotlib.pyplot as plt\n",
    "import seaborn as sns # prettier plotting\n",
    "import lightgbm as lgb\n",
    "import itertools\n",
    "import ast\n",
    "import eli5\n",
    "import time\n",
    "import xgboost as xgb\n",
    "\n",
    "\n",
    "from sklearn.feature_extraction.text import TfidfVectorizer\n",
    "from sklearn.model_selection import train_test_split, KFold\n",
    "from scipy import stats\n",
    "from sklearn.base import BaseEstimator,TransformerMixin,RegressorMixin\n",
    "from sklearn.pipeline import Pipeline\n",
    "from sklearn.preprocessing import OneHotEncoder\n",
    "from sklearn.preprocessing import StandardScaler\n",
    "from sklearn.ensemble import RandomForestRegressor\n",
    "from sklearn.metrics import mean_squared_error\n",
    "from sklearn.model_selection import GridSearchCV\n",
    "from sklearn.feature_selection import f_regression\n",
    "from sklearn.preprocessing import OrdinalEncoder\n",
    "from sklearn.impute import SimpleImputer\n",
    "from sklearn.tree import DecisionTreeRegressor\n",
    "from collections import Counter\n",
    "from sklearn.model_selection import train_test_split\n",
    "from sklearn.decomposition import TruncatedSVD\n",
    "from sklearn.preprocessing import Normalizer\n",
    "from sklearn.pipeline import make_pipeline\n",
    "from sklearn.preprocessing import LabelEncoder, OneHotEncoder\n",
    "from sklearn.model_selection import RandomizedSearchCV, GridSearchCV\n",
    "from sklearn import model_selection\n",
    "import warnings\n",
    "\n",
    "warnings.filterwarnings(\"ignore\")\n",
    "plt.style.use('fivethirtyeight')\n",
    "\n",
    "\n",
    "import os\n",
    "for dirname, _, filenames in os.walk('/kaggle/input'):\n",
    "    for filename in filenames:\n",
    "        print(os.path.join(dirname, filename))\n",
    "\n",
    "# You can write up to 5GB to the current directory (/kaggle/working/) that gets preserved as output when you create a version using \"Save & Run All\" \n",
    "# You can also write temporary files to /kaggle/temp/, but they won't be saved outside of the current session"
   ]
  },
  {
   "cell_type": "code",
   "execution_count": 3,
   "metadata": {
    "_cell_guid": "79c7e3d0-c299-4dcb-8224-4455121ee9b0",
    "_uuid": "d629ff2d2480ee46fbb7e2d37f6b5fab8052498a",
    "execution": {
     "iopub.execute_input": "2020-11-08T15:24:51.107315Z",
     "iopub.status.busy": "2020-11-08T15:24:51.106530Z",
     "iopub.status.idle": "2020-11-08T15:24:52.086178Z",
     "shell.execute_reply": "2020-11-08T15:24:52.085445Z"
    },
    "papermill": {
     "duration": 1.040877,
     "end_time": "2020-11-08T15:24:52.086305",
     "exception": false,
     "start_time": "2020-11-08T15:24:51.045428",
     "status": "completed"
    },
    "tags": []
   },
   "outputs": [
    {
     "name": "stdout",
     "output_type": "stream",
     "text": [
      "<class 'pandas.core.frame.DataFrame'>\n",
      "RangeIndex: 3000 entries, 0 to 2999\n",
      "Data columns (total 23 columns):\n",
      " #   Column                 Non-Null Count  Dtype  \n",
      "---  ------                 --------------  -----  \n",
      " 0   id                     3000 non-null   int64  \n",
      " 1   belongs_to_collection  604 non-null    object \n",
      " 2   budget                 3000 non-null   int64  \n",
      " 3   genres                 2993 non-null   object \n",
      " 4   homepage               946 non-null    object \n",
      " 5   imdb_id                3000 non-null   object \n",
      " 6   original_language      3000 non-null   object \n",
      " 7   original_title         3000 non-null   object \n",
      " 8   overview               2992 non-null   object \n",
      " 9   popularity             3000 non-null   float64\n",
      " 10  poster_path            2999 non-null   object \n",
      " 11  production_companies   2844 non-null   object \n",
      " 12  production_countries   2945 non-null   object \n",
      " 13  release_date           3000 non-null   object \n",
      " 14  runtime                2998 non-null   float64\n",
      " 15  spoken_languages       2980 non-null   object \n",
      " 16  status                 3000 non-null   object \n",
      " 17  tagline                2403 non-null   object \n",
      " 18  title                  3000 non-null   object \n",
      " 19  Keywords               2724 non-null   object \n",
      " 20  cast                   2987 non-null   object \n",
      " 21  crew                   2984 non-null   object \n",
      " 22  revenue                3000 non-null   int64  \n",
      "dtypes: float64(2), int64(3), object(18)\n",
      "memory usage: 539.2+ KB\n"
     ]
    }
   ],
   "source": [
    "#train = pd.read_csv('../input/tmdb-box-office-prediction/train.csv')\n",
    "#test = pd.read_csv('../input/tmdb-box-office-prediction/test.csv')\n",
    "#sample_submission = pd.read_csv('../input/tmdb-box-office-prediction/sample_submission.csv')\n",
    "train = pd.read_csv('DATA/train.csv')\n",
    "test = pd.read_csv('DATA/test.csv')\n",
    "train.info()"
   ]
  },
  {
   "cell_type": "code",
   "execution_count": 3,
   "metadata": {
    "execution": {
     "iopub.execute_input": "2020-11-08T15:24:52.192299Z",
     "iopub.status.busy": "2020-11-08T15:24:52.191424Z",
     "iopub.status.idle": "2020-11-08T15:24:52.196450Z",
     "shell.execute_reply": "2020-11-08T15:24:52.195815Z"
    },
    "papermill": {
     "duration": 0.061274,
     "end_time": "2020-11-08T15:24:52.196573",
     "exception": false,
     "start_time": "2020-11-08T15:24:52.135299",
     "status": "completed"
    },
    "tags": []
   },
   "outputs": [
    {
     "data": {
      "text/plain": [
       "((3000, 23), (4398, 22))"
      ]
     },
     "execution_count": 3,
     "metadata": {},
     "output_type": "execute_result"
    }
   ],
   "source": [
    "# checking shape of data\n",
    "shape = train.shape\n",
    "train.shape, test.shape\n"
   ]
  },
  {
   "cell_type": "markdown",
   "metadata": {
    "papermill": {
     "duration": 0.048892,
     "end_time": "2020-11-08T15:24:52.294759",
     "exception": false,
     "start_time": "2020-11-08T15:24:52.245867",
     "status": "completed"
    },
    "tags": []
   },
   "source": [
    "\n",
    "**3. Exploring the data**\n",
    "\n",
    "The set has allready been split into a train and a test set. In this case we have 3000 entries in the test set and 4398 in the test set. This is far away from the normal 80/20 split and seems unfortunate when the test set is so small. With 21 columns of data there is a lot to play with so lets see what it contains:\n"
   ]
  },
  {
   "cell_type": "code",
   "execution_count": 4,
   "metadata": {
    "execution": {
     "iopub.execute_input": "2020-11-08T15:24:52.410622Z",
     "iopub.status.busy": "2020-11-08T15:24:52.409714Z",
     "iopub.status.idle": "2020-11-08T15:24:52.850967Z",
     "shell.execute_reply": "2020-11-08T15:24:52.851542Z"
    },
    "papermill": {
     "duration": 0.507743,
     "end_time": "2020-11-08T15:24:52.851689",
     "exception": false,
     "start_time": "2020-11-08T15:24:52.343946",
     "status": "completed"
    },
    "tags": []
   },
   "outputs": [
    {
     "data": {
      "image/png": "[encoded data removed]",
      "text/plain": [
       "<Figure size 1440x576 with 1 Axes>"
      ]
     },
     "metadata": {},
     "output_type": "display_data"
    }
   ],
   "source": [
    "# calculate percentage of missing values\n",
    "pct_nans = round(train.isnull().sum()/shape[0]*100,1).to_frame().sort_values(by=[0], ascending=False)\n",
    "# create a bar chart\n",
    "plt.figure(figsize=(20,8))\n",
    "sns.barplot(x=pct_nans.index, y=pct_nans[0])\n",
    "plt.axhline(10, ls=\"--\")\n",
    "plt.xticks(rotation=90, fontsize=14)\n",
    "plt.title(\"Percentage of missing values\", fontsize=14)\n",
    "plt.ylabel(\"Missing values [%]\", fontsize=14)\n",
    "plt.show()"
   ]
  },
  {
   "cell_type": "code",
   "execution_count": 5,
   "metadata": {
    "execution": {
     "iopub.execute_input": "2020-11-08T15:24:52.966331Z",
     "iopub.status.busy": "2020-11-08T15:24:52.962450Z",
     "iopub.status.idle": "2020-11-08T15:24:53.019142Z",
     "shell.execute_reply": "2020-11-08T15:24:53.019754Z"
    },
    "papermill": {
     "duration": 0.116768,
     "end_time": "2020-11-08T15:24:53.019912",
     "exception": false,
     "start_time": "2020-11-08T15:24:52.903144",
     "status": "completed"
    },
    "tags": []
   },
   "outputs": [
    {
     "data": {
      "text/html": [
       "<div>\n",
       "<style scoped>\n",
       "    .dataframe tbody tr th:only-of-type {\n",
       "        vertical-align: middle;\n",
       "    }\n",
       "\n",
       "    .dataframe tbody tr th {\n",
       "        vertical-align: top;\n",
       "    }\n",
       "\n",
       "    .dataframe thead th {\n",
       "        text-align: right;\n",
       "    }\n",
       "</style>\n",
       "<table border=\"1\" class=\"dataframe\">\n",
       "  <thead>\n",
       "    <tr style=\"text-align: right;\">\n",
       "      <th></th>\n",
       "      <th>id</th>\n",
       "      <th>belongs_to_collection</th>\n",
       "      <th>budget</th>\n",
       "      <th>genres</th>\n",
       "      <th>homepage</th>\n",
       "      <th>imdb_id</th>\n",
       "      <th>original_language</th>\n",
       "      <th>original_title</th>\n",
       "      <th>overview</th>\n",
       "      <th>popularity</th>\n",
       "      <th>...</th>\n",
       "      <th>release_date</th>\n",
       "      <th>runtime</th>\n",
       "      <th>spoken_languages</th>\n",
       "      <th>status</th>\n",
       "      <th>tagline</th>\n",
       "      <th>title</th>\n",
       "      <th>Keywords</th>\n",
       "      <th>cast</th>\n",
       "      <th>crew</th>\n",
       "      <th>revenue</th>\n",
       "    </tr>\n",
       "  </thead>\n",
       "  <tbody>\n",
       "    <tr>\n",
       "      <th>0</th>\n",
       "      <td>1</td>\n",
       "      <td>[{'id': 313576, 'name': 'Hot Tub Time Machine ...</td>\n",
       "      <td>14000000</td>\n",
       "      <td>[{'id': 35, 'name': 'Comedy'}]</td>\n",
       "      <td>NaN</td>\n",
       "      <td>tt2637294</td>\n",
       "      <td>en</td>\n",
       "      <td>Hot Tub Time Machine 2</td>\n",
       "      <td>When Lou, who has become the \"father of the In...</td>\n",
       "      <td>6.575393</td>\n",
       "      <td>...</td>\n",
       "      <td>2/20/15</td>\n",
       "      <td>93.0</td>\n",
       "      <td>[{'iso_639_1': 'en', 'name': 'English'}]</td>\n",
       "      <td>Released</td>\n",
       "      <td>The Laws of Space and Time are About to be Vio...</td>\n",
       "      <td>Hot Tub Time Machine 2</td>\n",
       "      <td>[{'id': 4379, 'name': 'time travel'}, {'id': 9...</td>\n",
       "      <td>[{'cast_id': 4, 'character': 'Lou', 'credit_id...</td>\n",
       "      <td>[{'credit_id': '59ac067c92514107af02c8c8', 'de...</td>\n",
       "      <td>12314651</td>\n",
       "    </tr>\n",
       "    <tr>\n",
       "      <th>1</th>\n",
       "      <td>2</td>\n",
       "      <td>[{'id': 107674, 'name': 'The Princess Diaries ...</td>\n",
       "      <td>40000000</td>\n",
       "      <td>[{'id': 35, 'name': 'Comedy'}, {'id': 18, 'nam...</td>\n",
       "      <td>NaN</td>\n",
       "      <td>tt0368933</td>\n",
       "      <td>en</td>\n",
       "      <td>The Princess Diaries 2: Royal Engagement</td>\n",
       "      <td>Mia Thermopolis is now a college graduate and ...</td>\n",
       "      <td>8.248895</td>\n",
       "      <td>...</td>\n",
       "      <td>8/6/04</td>\n",
       "      <td>113.0</td>\n",
       "      <td>[{'iso_639_1': 'en', 'name': 'English'}]</td>\n",
       "      <td>Released</td>\n",
       "      <td>It can take a lifetime to find true love; she'...</td>\n",
       "      <td>The Princess Diaries 2: Royal Engagement</td>\n",
       "      <td>[{'id': 2505, 'name': 'coronation'}, {'id': 42...</td>\n",
       "      <td>[{'cast_id': 1, 'character': 'Mia Thermopolis'...</td>\n",
       "      <td>[{'credit_id': '52fe43fe9251416c7502563d', 'de...</td>\n",
       "      <td>95149435</td>\n",
       "    </tr>\n",
       "    <tr>\n",
       "      <th>2</th>\n",
       "      <td>3</td>\n",
       "      <td>NaN</td>\n",
       "      <td>3300000</td>\n",
       "      <td>[{'id': 18, 'name': 'Drama'}]</td>\n",
       "      <td>http://sonyclassics.com/whiplash/</td>\n",
       "      <td>tt2582802</td>\n",
       "      <td>en</td>\n",
       "      <td>Whiplash</td>\n",
       "      <td>Under the direction of a ruthless instructor, ...</td>\n",
       "      <td>64.299990</td>\n",
       "      <td>...</td>\n",
       "      <td>10/10/14</td>\n",
       "      <td>105.0</td>\n",
       "      <td>[{'iso_639_1': 'en', 'name': 'English'}]</td>\n",
       "      <td>Released</td>\n",
       "      <td>The road to greatness can take you to the edge.</td>\n",
       "      <td>Whiplash</td>\n",
       "      <td>[{'id': 1416, 'name': 'jazz'}, {'id': 1523, 'n...</td>\n",
       "      <td>[{'cast_id': 5, 'character': 'Andrew Neimann',...</td>\n",
       "      <td>[{'credit_id': '54d5356ec3a3683ba0000039', 'de...</td>\n",
       "      <td>13092000</td>\n",
       "    </tr>\n",
       "    <tr>\n",
       "      <th>3</th>\n",
       "      <td>4</td>\n",
       "      <td>NaN</td>\n",
       "      <td>1200000</td>\n",
       "      <td>[{'id': 53, 'name': 'Thriller'}, {'id': 18, 'n...</td>\n",
       "      <td>http://kahaanithefilm.com/</td>\n",
       "      <td>tt1821480</td>\n",
       "      <td>hi</td>\n",
       "      <td>Kahaani</td>\n",
       "      <td>Vidya Bagchi (Vidya Balan) arrives in Kolkata ...</td>\n",
       "      <td>3.174936</td>\n",
       "      <td>...</td>\n",
       "      <td>3/9/12</td>\n",
       "      <td>122.0</td>\n",
       "      <td>[{'iso_639_1': 'en', 'name': 'English'}, {'iso...</td>\n",
       "      <td>Released</td>\n",
       "      <td>NaN</td>\n",
       "      <td>Kahaani</td>\n",
       "      <td>[{'id': 10092, 'name': 'mystery'}, {'id': 1054...</td>\n",
       "      <td>[{'cast_id': 1, 'character': 'Vidya Bagchi', '...</td>\n",
       "      <td>[{'credit_id': '52fe48779251416c9108d6eb', 'de...</td>\n",
       "      <td>16000000</td>\n",
       "    </tr>\n",
       "    <tr>\n",
       "      <th>4</th>\n",
       "      <td>5</td>\n",
       "      <td>NaN</td>\n",
       "      <td>0</td>\n",
       "      <td>[{'id': 28, 'name': 'Action'}, {'id': 53, 'nam...</td>\n",
       "      <td>NaN</td>\n",
       "      <td>tt1380152</td>\n",
       "      <td>ko</td>\n",
       "      <td>마린보이</td>\n",
       "      <td>Marine Boy is the story of a former national s...</td>\n",
       "      <td>1.148070</td>\n",
       "      <td>...</td>\n",
       "      <td>2/5/09</td>\n",
       "      <td>118.0</td>\n",
       "      <td>[{'iso_639_1': 'ko', 'name': '한국어/조선말'}]</td>\n",
       "      <td>Released</td>\n",
       "      <td>NaN</td>\n",
       "      <td>Marine Boy</td>\n",
       "      <td>NaN</td>\n",
       "      <td>[{'cast_id': 3, 'character': 'Chun-soo', 'cred...</td>\n",
       "      <td>[{'credit_id': '52fe464b9251416c75073b43', 'de...</td>\n",
       "      <td>3923970</td>\n",
       "    </tr>\n",
       "    <tr>\n",
       "      <th>...</th>\n",
       "      <td>...</td>\n",
       "      <td>...</td>\n",
       "      <td>...</td>\n",
       "      <td>...</td>\n",
       "      <td>...</td>\n",
       "      <td>...</td>\n",
       "      <td>...</td>\n",
       "      <td>...</td>\n",
       "      <td>...</td>\n",
       "      <td>...</td>\n",
       "      <td>...</td>\n",
       "      <td>...</td>\n",
       "      <td>...</td>\n",
       "      <td>...</td>\n",
       "      <td>...</td>\n",
       "      <td>...</td>\n",
       "      <td>...</td>\n",
       "      <td>...</td>\n",
       "      <td>...</td>\n",
       "      <td>...</td>\n",
       "      <td>...</td>\n",
       "    </tr>\n",
       "    <tr>\n",
       "      <th>2995</th>\n",
       "      <td>2996</td>\n",
       "      <td>NaN</td>\n",
       "      <td>0</td>\n",
       "      <td>[{'id': 35, 'name': 'Comedy'}, {'id': 10749, '...</td>\n",
       "      <td>NaN</td>\n",
       "      <td>tt0109403</td>\n",
       "      <td>en</td>\n",
       "      <td>Chasers</td>\n",
       "      <td>Military men Rock Reilly and Eddie Devane are ...</td>\n",
       "      <td>9.853270</td>\n",
       "      <td>...</td>\n",
       "      <td>4/22/94</td>\n",
       "      <td>102.0</td>\n",
       "      <td>[{'iso_639_1': 'en', 'name': 'English'}]</td>\n",
       "      <td>Released</td>\n",
       "      <td>It was supposed to be a routine prisoner trans...</td>\n",
       "      <td>Chasers</td>\n",
       "      <td>[{'id': 378, 'name': 'prison'}, {'id': 572, 'n...</td>\n",
       "      <td>[{'cast_id': 2, 'character': 'Rock Reilly', 'c...</td>\n",
       "      <td>[{'credit_id': '52fe4494c3a368484e02ac7d', 'de...</td>\n",
       "      <td>1596687</td>\n",
       "    </tr>\n",
       "    <tr>\n",
       "      <th>2996</th>\n",
       "      <td>2997</td>\n",
       "      <td>NaN</td>\n",
       "      <td>0</td>\n",
       "      <td>[{'id': 18, 'name': 'Drama'}, {'id': 10402, 'n...</td>\n",
       "      <td>NaN</td>\n",
       "      <td>tt2364975</td>\n",
       "      <td>sv</td>\n",
       "      <td>Vi är bäst!</td>\n",
       "      <td>Three girls in 1980s Stockholm decide to form ...</td>\n",
       "      <td>3.727996</td>\n",
       "      <td>...</td>\n",
       "      <td>3/28/13</td>\n",
       "      <td>102.0</td>\n",
       "      <td>[{'iso_639_1': 'sv', 'name': 'svenska'}]</td>\n",
       "      <td>Released</td>\n",
       "      <td>NaN</td>\n",
       "      <td>We Are the Best!</td>\n",
       "      <td>[{'id': 1192, 'name': 'sweden'}, {'id': 4470, ...</td>\n",
       "      <td>[{'cast_id': 5, 'character': 'Bobo', 'credit_i...</td>\n",
       "      <td>[{'credit_id': '5716b72ac3a3686678012c84', 'de...</td>\n",
       "      <td>180590</td>\n",
       "    </tr>\n",
       "    <tr>\n",
       "      <th>2997</th>\n",
       "      <td>2998</td>\n",
       "      <td>NaN</td>\n",
       "      <td>65000000</td>\n",
       "      <td>[{'id': 80, 'name': 'Crime'}, {'id': 28, 'name...</td>\n",
       "      <td>NaN</td>\n",
       "      <td>tt0116908</td>\n",
       "      <td>en</td>\n",
       "      <td>The Long Kiss Goodnight</td>\n",
       "      <td>Samantha Caine, suburban homemaker, is the ide...</td>\n",
       "      <td>14.482345</td>\n",
       "      <td>...</td>\n",
       "      <td>10/11/96</td>\n",
       "      <td>120.0</td>\n",
       "      <td>[{'iso_639_1': 'en', 'name': 'English'}]</td>\n",
       "      <td>Released</td>\n",
       "      <td>What's forgotten is not always gone.</td>\n",
       "      <td>The Long Kiss Goodnight</td>\n",
       "      <td>[{'id': 441, 'name': 'assassination'}, {'id': ...</td>\n",
       "      <td>[{'cast_id': 10, 'character': 'Samantha Caine ...</td>\n",
       "      <td>[{'credit_id': '52fe443a9251416c7502d579', 'de...</td>\n",
       "      <td>89456761</td>\n",
       "    </tr>\n",
       "    <tr>\n",
       "      <th>2998</th>\n",
       "      <td>2999</td>\n",
       "      <td>NaN</td>\n",
       "      <td>42000000</td>\n",
       "      <td>[{'id': 35, 'name': 'Comedy'}, {'id': 10749, '...</td>\n",
       "      <td>http://www.alongcamepolly.com/</td>\n",
       "      <td>tt0343135</td>\n",
       "      <td>en</td>\n",
       "      <td>Along Came Polly</td>\n",
       "      <td>Reuben Feffer is a guy who's spent his entire ...</td>\n",
       "      <td>15.725542</td>\n",
       "      <td>...</td>\n",
       "      <td>1/16/04</td>\n",
       "      <td>90.0</td>\n",
       "      <td>[{'iso_639_1': 'en', 'name': 'English'}]</td>\n",
       "      <td>Released</td>\n",
       "      <td>For the most cautious man on Earth, life is ab...</td>\n",
       "      <td>Along Came Polly</td>\n",
       "      <td>[{'id': 966, 'name': 'beach'}, {'id': 2676, 'n...</td>\n",
       "      <td>[{'cast_id': 8, 'character': 'Reuben Feffer', ...</td>\n",
       "      <td>[{'credit_id': '556f817b9251410866000a63', 'de...</td>\n",
       "      <td>171963386</td>\n",
       "    </tr>\n",
       "    <tr>\n",
       "      <th>2999</th>\n",
       "      <td>3000</td>\n",
       "      <td>NaN</td>\n",
       "      <td>35000000</td>\n",
       "      <td>[{'id': 53, 'name': 'Thriller'}, {'id': 28, 'n...</td>\n",
       "      <td>http://www.abductionthefilm.com/</td>\n",
       "      <td>tt1600195</td>\n",
       "      <td>en</td>\n",
       "      <td>Abduction</td>\n",
       "      <td>A young man sets out to uncover the truth abou...</td>\n",
       "      <td>10.512109</td>\n",
       "      <td>...</td>\n",
       "      <td>9/22/11</td>\n",
       "      <td>106.0</td>\n",
       "      <td>[{'iso_639_1': 'en', 'name': 'English'}]</td>\n",
       "      <td>Released</td>\n",
       "      <td>They stole his life. He's taking it back.</td>\n",
       "      <td>Abduction</td>\n",
       "      <td>[{'id': 591, 'name': 'cia'}, {'id': 822, 'name...</td>\n",
       "      <td>[{'cast_id': 2, 'character': 'Nathan Harper', ...</td>\n",
       "      <td>[{'credit_id': '5391990d0e0a260fb5001629', 'de...</td>\n",
       "      <td>82087155</td>\n",
       "    </tr>\n",
       "  </tbody>\n",
       "</table>\n",
       "<p>3000 rows × 23 columns</p>\n",
       "</div>"
      ],
      "text/plain": [
       "        id                              belongs_to_collection    budget  \\\n",
       "0        1  [{'id': 313576, 'name': 'Hot Tub Time Machine ...  14000000   \n",
       "1        2  [{'id': 107674, 'name': 'The Princess Diaries ...  40000000   \n",
       "2        3                                                NaN   3300000   \n",
       "3        4                                                NaN   1200000   \n",
       "4        5                                                NaN         0   \n",
       "...    ...                                                ...       ...   \n",
       "2995  2996                                                NaN         0   \n",
       "2996  2997                                                NaN         0   \n",
       "2997  2998                                                NaN  65000000   \n",
       "2998  2999                                                NaN  42000000   \n",
       "2999  3000                                                NaN  35000000   \n",
       "\n",
       "                                                 genres  \\\n",
       "0                        [{'id': 35, 'name': 'Comedy'}]   \n",
       "1     [{'id': 35, 'name': 'Comedy'}, {'id': 18, 'nam...   \n",
       "2                         [{'id': 18, 'name': 'Drama'}]   \n",
       "3     [{'id': 53, 'name': 'Thriller'}, {'id': 18, 'n...   \n",
       "4     [{'id': 28, 'name': 'Action'}, {'id': 53, 'nam...   \n",
       "...                                                 ...   \n",
       "2995  [{'id': 35, 'name': 'Comedy'}, {'id': 10749, '...   \n",
       "2996  [{'id': 18, 'name': 'Drama'}, {'id': 10402, 'n...   \n",
       "2997  [{'id': 80, 'name': 'Crime'}, {'id': 28, 'name...   \n",
       "2998  [{'id': 35, 'name': 'Comedy'}, {'id': 10749, '...   \n",
       "2999  [{'id': 53, 'name': 'Thriller'}, {'id': 28, 'n...   \n",
       "\n",
       "                               homepage    imdb_id original_language  \\\n",
       "0                                   NaN  tt2637294                en   \n",
       "1                                   NaN  tt0368933                en   \n",
       "2     http://sonyclassics.com/whiplash/  tt2582802                en   \n",
       "3            http://kahaanithefilm.com/  tt1821480                hi   \n",
       "4                                   NaN  tt1380152                ko   \n",
       "...                                 ...        ...               ...   \n",
       "2995                                NaN  tt0109403                en   \n",
       "2996                                NaN  tt2364975                sv   \n",
       "2997                                NaN  tt0116908                en   \n",
       "2998     http://www.alongcamepolly.com/  tt0343135                en   \n",
       "2999   http://www.abductionthefilm.com/  tt1600195                en   \n",
       "\n",
       "                                original_title  \\\n",
       "0                       Hot Tub Time Machine 2   \n",
       "1     The Princess Diaries 2: Royal Engagement   \n",
       "2                                     Whiplash   \n",
       "3                                      Kahaani   \n",
       "4                                         마린보이   \n",
       "...                                        ...   \n",
       "2995                                   Chasers   \n",
       "2996                               Vi är bäst!   \n",
       "2997                   The Long Kiss Goodnight   \n",
       "2998                          Along Came Polly   \n",
       "2999                                 Abduction   \n",
       "\n",
       "                                               overview  popularity  ...  \\\n",
       "0     When Lou, who has become the \"father of the In...    6.575393  ...   \n",
       "1     Mia Thermopolis is now a college graduate and ...    8.248895  ...   \n",
       "2     Under the direction of a ruthless instructor, ...   64.299990  ...   \n",
       "3     Vidya Bagchi (Vidya Balan) arrives in Kolkata ...    3.174936  ...   \n",
       "4     Marine Boy is the story of a former national s...    1.148070  ...   \n",
       "...                                                 ...         ...  ...   \n",
       "2995  Military men Rock Reilly and Eddie Devane are ...    9.853270  ...   \n",
       "2996  Three girls in 1980s Stockholm decide to form ...    3.727996  ...   \n",
       "2997  Samantha Caine, suburban homemaker, is the ide...   14.482345  ...   \n",
       "2998  Reuben Feffer is a guy who's spent his entire ...   15.725542  ...   \n",
       "2999  A young man sets out to uncover the truth abou...   10.512109  ...   \n",
       "\n",
       "     release_date runtime                                   spoken_languages  \\\n",
       "0         2/20/15    93.0           [{'iso_639_1': 'en', 'name': 'English'}]   \n",
       "1          8/6/04   113.0           [{'iso_639_1': 'en', 'name': 'English'}]   \n",
       "2        10/10/14   105.0           [{'iso_639_1': 'en', 'name': 'English'}]   \n",
       "3          3/9/12   122.0  [{'iso_639_1': 'en', 'name': 'English'}, {'iso...   \n",
       "4          2/5/09   118.0           [{'iso_639_1': 'ko', 'name': '한국어/조선말'}]   \n",
       "...           ...     ...                                                ...   \n",
       "2995      4/22/94   102.0           [{'iso_639_1': 'en', 'name': 'English'}]   \n",
       "2996      3/28/13   102.0           [{'iso_639_1': 'sv', 'name': 'svenska'}]   \n",
       "2997     10/11/96   120.0           [{'iso_639_1': 'en', 'name': 'English'}]   \n",
       "2998      1/16/04    90.0           [{'iso_639_1': 'en', 'name': 'English'}]   \n",
       "2999      9/22/11   106.0           [{'iso_639_1': 'en', 'name': 'English'}]   \n",
       "\n",
       "        status                                            tagline  \\\n",
       "0     Released  The Laws of Space and Time are About to be Vio...   \n",
       "1     Released  It can take a lifetime to find true love; she'...   \n",
       "2     Released    The road to greatness can take you to the edge.   \n",
       "3     Released                                                NaN   \n",
       "4     Released                                                NaN   \n",
       "...        ...                                                ...   \n",
       "2995  Released  It was supposed to be a routine prisoner trans...   \n",
       "2996  Released                                                NaN   \n",
       "2997  Released               What's forgotten is not always gone.   \n",
       "2998  Released  For the most cautious man on Earth, life is ab...   \n",
       "2999  Released          They stole his life. He's taking it back.   \n",
       "\n",
       "                                         title  \\\n",
       "0                       Hot Tub Time Machine 2   \n",
       "1     The Princess Diaries 2: Royal Engagement   \n",
       "2                                     Whiplash   \n",
       "3                                      Kahaani   \n",
       "4                                   Marine Boy   \n",
       "...                                        ...   \n",
       "2995                                   Chasers   \n",
       "2996                          We Are the Best!   \n",
       "2997                   The Long Kiss Goodnight   \n",
       "2998                          Along Came Polly   \n",
       "2999                                 Abduction   \n",
       "\n",
       "                                               Keywords  \\\n",
       "0     [{'id': 4379, 'name': 'time travel'}, {'id': 9...   \n",
       "1     [{'id': 2505, 'name': 'coronation'}, {'id': 42...   \n",
       "2     [{'id': 1416, 'name': 'jazz'}, {'id': 1523, 'n...   \n",
       "3     [{'id': 10092, 'name': 'mystery'}, {'id': 1054...   \n",
       "4                                                   NaN   \n",
       "...                                                 ...   \n",
       "2995  [{'id': 378, 'name': 'prison'}, {'id': 572, 'n...   \n",
       "2996  [{'id': 1192, 'name': 'sweden'}, {'id': 4470, ...   \n",
       "2997  [{'id': 441, 'name': 'assassination'}, {'id': ...   \n",
       "2998  [{'id': 966, 'name': 'beach'}, {'id': 2676, 'n...   \n",
       "2999  [{'id': 591, 'name': 'cia'}, {'id': 822, 'name...   \n",
       "\n",
       "                                                   cast  \\\n",
       "0     [{'cast_id': 4, 'character': 'Lou', 'credit_id...   \n",
       "1     [{'cast_id': 1, 'character': 'Mia Thermopolis'...   \n",
       "2     [{'cast_id': 5, 'character': 'Andrew Neimann',...   \n",
       "3     [{'cast_id': 1, 'character': 'Vidya Bagchi', '...   \n",
       "4     [{'cast_id': 3, 'character': 'Chun-soo', 'cred...   \n",
       "...                                                 ...   \n",
       "2995  [{'cast_id': 2, 'character': 'Rock Reilly', 'c...   \n",
       "2996  [{'cast_id': 5, 'character': 'Bobo', 'credit_i...   \n",
       "2997  [{'cast_id': 10, 'character': 'Samantha Caine ...   \n",
       "2998  [{'cast_id': 8, 'character': 'Reuben Feffer', ...   \n",
       "2999  [{'cast_id': 2, 'character': 'Nathan Harper', ...   \n",
       "\n",
       "                                                   crew    revenue  \n",
       "0     [{'credit_id': '59ac067c92514107af02c8c8', 'de...   12314651  \n",
       "1     [{'credit_id': '52fe43fe9251416c7502563d', 'de...   95149435  \n",
       "2     [{'credit_id': '54d5356ec3a3683ba0000039', 'de...   13092000  \n",
       "3     [{'credit_id': '52fe48779251416c9108d6eb', 'de...   16000000  \n",
       "4     [{'credit_id': '52fe464b9251416c75073b43', 'de...    3923970  \n",
       "...                                                 ...        ...  \n",
       "2995  [{'credit_id': '52fe4494c3a368484e02ac7d', 'de...    1596687  \n",
       "2996  [{'credit_id': '5716b72ac3a3686678012c84', 'de...     180590  \n",
       "2997  [{'credit_id': '52fe443a9251416c7502d579', 'de...   89456761  \n",
       "2998  [{'credit_id': '556f817b9251410866000a63', 'de...  171963386  \n",
       "2999  [{'credit_id': '5391990d0e0a260fb5001629', 'de...   82087155  \n",
       "\n",
       "[3000 rows x 23 columns]"
      ]
     },
     "execution_count": 5,
     "metadata": {},
     "output_type": "execute_result"
    }
   ],
   "source": [
    "train"
   ]
  },
  {
   "cell_type": "markdown",
   "metadata": {
    "papermill": {
     "duration": 0.052547,
     "end_time": "2020-11-08T15:24:53.125682",
     "exception": false,
     "start_time": "2020-11-08T15:24:53.073135",
     "status": "completed"
    },
    "tags": []
   },
   "source": [
    "**Belongs_to_collection:**  \n",
    "Contains the TMDB Id, Name, Movie Poster and Backdrop URL of a movie in JSON format. Lets keep it simple and make it a yes(1)/no(0).\n",
    "\n"
   ]
  },
  {
   "cell_type": "code",
   "execution_count": 6,
   "metadata": {
    "execution": {
     "iopub.execute_input": "2020-11-08T15:24:53.243121Z",
     "iopub.status.busy": "2020-11-08T15:24:53.242032Z",
     "iopub.status.idle": "2020-11-08T15:24:53.246209Z",
     "shell.execute_reply": "2020-11-08T15:24:53.245482Z"
    },
    "papermill": {
     "duration": 0.067092,
     "end_time": "2020-11-08T15:24:53.246336",
     "exception": false,
     "start_time": "2020-11-08T15:24:53.179244",
     "status": "completed"
    },
    "tags": []
   },
   "outputs": [
    {
     "data": {
      "text/plain": [
       "count                                                   604\n",
       "unique                                                  422\n",
       "top       [{'id': 645, 'name': 'James Bond Collection', ...\n",
       "freq                                                     16\n",
       "Name: belongs_to_collection, dtype: object"
      ]
     },
     "execution_count": 6,
     "metadata": {},
     "output_type": "execute_result"
    }
   ],
   "source": [
    "train.belongs_to_collection.describe()"
   ]
  },
  {
   "cell_type": "markdown",
   "metadata": {
    "papermill": {
     "duration": 0.05313,
     "end_time": "2020-11-08T15:24:53.352957",
     "exception": false,
     "start_time": "2020-11-08T15:24:53.299827",
     "status": "completed"
    },
    "tags": []
   },
   "source": [
    "**Budget:** \n",
    "Budget of a movie in dollars. 0 values mean unknown. A lot of unknown values, we should try to replace theese(values can be stolen from other Notebooks)"
   ]
  },
  {
   "cell_type": "markdown",
   "metadata": {
    "papermill": {
     "duration": 0.054322,
     "end_time": "2020-11-08T15:24:53.460679",
     "exception": false,
     "start_time": "2020-11-08T15:24:53.406357",
     "status": "completed"
    },
    "tags": []
   },
   "source": [
    "**Homepage:** \n",
    "Contains the official homepage URL of a movie.    "
   ]
  },
  {
   "cell_type": "markdown",
   "metadata": {
    "papermill": {
     "duration": 0.054099,
     "end_time": "2020-11-08T15:24:53.570102",
     "exception": false,
     "start_time": "2020-11-08T15:24:53.516003",
     "status": "completed"
    },
    "tags": []
   },
   "source": [
    "**Imdb_id, Keywords, Poster path, Original_title, Overview,Spoken languages, Status & Title:**\n",
    "Theese contains mostly useless links or are of little consequence, I'll drop'em for now!"
   ]
  },
  {
   "cell_type": "code",
   "execution_count": 7,
   "metadata": {
    "execution": {
     "iopub.execute_input": "2020-11-08T15:24:53.686306Z",
     "iopub.status.busy": "2020-11-08T15:24:53.685346Z",
     "iopub.status.idle": "2020-11-08T15:24:53.689682Z",
     "shell.execute_reply": "2020-11-08T15:24:53.690249Z"
    },
    "papermill": {
     "duration": 0.066661,
     "end_time": "2020-11-08T15:24:53.690416",
     "exception": false,
     "start_time": "2020-11-08T15:24:53.623755",
     "status": "completed"
    },
    "tags": []
   },
   "outputs": [
    {
     "data": {
      "text/plain": [
       "Released    2996\n",
       "Rumored        4\n",
       "Name: status, dtype: int64"
      ]
     },
     "execution_count": 7,
     "metadata": {},
     "output_type": "execute_result"
    }
   ],
   "source": [
    "# Status: Only 4 values in \"Rumored\"! Remove Status..\n",
    "train.status.value_counts()"
   ]
  },
  {
   "cell_type": "code",
   "execution_count": 8,
   "metadata": {
    "execution": {
     "iopub.execute_input": "2020-11-08T15:24:53.813070Z",
     "iopub.status.busy": "2020-11-08T15:24:53.809511Z",
     "iopub.status.idle": "2020-11-08T15:24:53.818068Z",
     "shell.execute_reply": "2020-11-08T15:24:53.817346Z"
    },
    "papermill": {
     "duration": 0.072583,
     "end_time": "2020-11-08T15:24:53.818194",
     "exception": false,
     "start_time": "2020-11-08T15:24:53.745611",
     "status": "completed"
    },
    "tags": []
   },
   "outputs": [
    {
     "data": {
      "text/plain": [
       "[{'id': 10183, 'name': 'independent film'}]                                                                                                                                                                                                                                                                                                                                                                                                                                                                                                                                                                                                                                                                                          27\n",
       "[{'id': 187056, 'name': 'woman director'}]                                                                                                                                                                                                                                                                                                                                                                                                                                                                                                                                                                                                                                                                                           19\n",
       "[{'id': 179431, 'name': 'duringcreditsstinger'}]                                                                                                                                                                                                                                                                                                                                                                                                                                                                                                                                                                                                                                                                                      7\n",
       "[{'id': 9937, 'name': 'suspense'}]                                                                                                                                                                                                                                                                                                                                                                                                                                                                                                                                                                                                                                                                                                    6\n",
       "[{'id': 5565, 'name': 'biography'}]                                                                                                                                                                                                                                                                                                                                                                                                                                                                                                                                                                                                                                                                                                   5\n",
       "                                                                                                                                                                                                                                                                                                                                                                                                                                                                                                                                                                                                                                                                                                                                     ..\n",
       "[{'id': 293, 'name': 'female nudity'}, {'id': 2483, 'name': 'nudity'}, {'id': 2669, 'name': 'motel'}, {'id': 6259, 'name': 'psychopath'}, {'id': 9663, 'name': 'sequel'}, {'id': 9748, 'name': 'revenge'}, {'id': 9826, 'name': 'murder'}, {'id': 9937, 'name': 'suspense'}, {'id': 10292, 'name': 'gore'}, {'id': 11221, 'name': 'blood'}, {'id': 157499, 'name': 'mother son relationship'}, {'id': 180340, 'name': 'voyeur'}]                                                                                                                                                                                                                                                                                                      1\n",
       "[{'id': 1523, 'name': 'obsession'}, {'id': 1566, 'name': 'dream'}, {'id': 1930, 'name': 'kidnapping'}, {'id': 2483, 'name': 'nudity'}, {'id': 9937, 'name': 'suspense'}, {'id': 10048, 'name': 'unrequited love'}, {'id': 13005, 'name': 'doctor'}, {'id': 13063, 'name': 'car accident'}, {'id': 159278, 'name': 'obsessive love'}, {'id': 187056, 'name': 'woman director'}, {'id': 206219, 'name': 'captivity'}]                                                                                                                                                                                                                                                                                                                   1\n",
       "[{'id': 612, 'name': 'hotel'}, {'id': 1317, 'name': 'card game'}, {'id': 1437, 'name': 'burglar'}, {'id': 2456, 'name': 'industrialist'}, {'id': 8627, 'name': 'stolen money'}, {'id': 9552, 'name': 'baron'}, {'id': 9661, 'name': 'dying man'}, {'id': 9826, 'name': 'murder'}, {'id': 10703, 'name': 'tragic love'}, {'id': 33674, 'name': 'conscience'}, {'id': 156236, 'name': 'jewel thief'}, {'id': 169057, 'name': 'merger'}, {'id': 170418, 'name': 'public humiliation'}, {'id': 172327, 'name': 'revolving door'}, {'id': 177995, 'name': 'dachshund'}, {'id': 191786, 'name': 'stenographer'}, {'id': 201490, 'name': 'flirtation'}, {'id': 238090, 'name': 'prima ballerina'}, {'id': 238091, 'name': 'bookkeeper'}]     1\n",
       "[{'id': 10266, 'name': 'prom'}, {'id': 12342, 'name': 'gay son'}, {'id': 14522, 'name': 'co-worker'}, {'id': 14590, 'name': 'recital'}]                                                                                                                                                                                                                                                                                                                                                                                                                                                                                                                                                                                               1\n",
       "[{'id': 897, 'name': 'rap music'}]                                                                                                                                                                                                                                                                                                                                                                                                                                                                                                                                                                                                                                                                                                    1\n",
       "Name: Keywords, Length: 2648, dtype: int64"
      ]
     },
     "execution_count": 8,
     "metadata": {},
     "output_type": "execute_result"
    }
   ],
   "source": [
    "train.Keywords.value_counts()"
   ]
  },
  {
   "cell_type": "markdown",
   "metadata": {
    "papermill": {
     "duration": 0.054862,
     "end_time": "2020-11-08T15:24:53.928809",
     "exception": false,
     "start_time": "2020-11-08T15:24:53.873947",
     "status": "completed"
    },
    "tags": []
   },
   "source": [
    "**Original_language:**\n",
    "Two digit code of the original language, in which the movie was made. Like: en = English, fr = french. (Finished)"
   ]
  },
  {
   "cell_type": "markdown",
   "metadata": {
    "papermill": {
     "duration": 0.055157,
     "end_time": "2020-11-08T15:24:54.039467",
     "exception": false,
     "start_time": "2020-11-08T15:24:53.984310",
     "status": "completed"
    },
    "tags": []
   },
   "source": [
    "**Popularity:** Popularity of the movie in float"
   ]
  },
  {
   "cell_type": "markdown",
   "metadata": {
    "papermill": {
     "duration": 0.055493,
     "end_time": "2020-11-08T15:24:54.149968",
     "exception": false,
     "start_time": "2020-11-08T15:24:54.094475",
     "status": "completed"
    },
    "tags": []
   },
   "source": [
    "**Production_companies:** All production company name and TMDB id in JSON format of a movie."
   ]
  },
  {
   "cell_type": "markdown",
   "metadata": {
    "papermill": {
     "duration": 0.054918,
     "end_time": "2020-11-08T15:24:54.260046",
     "exception": false,
     "start_time": "2020-11-08T15:24:54.205128",
     "status": "completed"
    },
    "tags": []
   },
   "source": [
    "**Production_countries:** Two digit code and full name of the production company in JSON format."
   ]
  },
  {
   "cell_type": "code",
   "execution_count": 9,
   "metadata": {
    "execution": {
     "iopub.execute_input": "2020-11-08T15:24:54.381479Z",
     "iopub.status.busy": "2020-11-08T15:24:54.380387Z",
     "iopub.status.idle": "2020-11-08T15:24:54.385153Z",
     "shell.execute_reply": "2020-11-08T15:24:54.385704Z"
    },
    "papermill": {
     "duration": 0.070206,
     "end_time": "2020-11-08T15:24:54.385872",
     "exception": false,
     "start_time": "2020-11-08T15:24:54.315666",
     "status": "completed"
    },
    "tags": []
   },
   "outputs": [
    {
     "data": {
      "text/plain": [
       "[{'iso_3166_1': 'US', 'name': 'United States of America'}]                                                                                                                                    1752\n",
       "[{'iso_3166_1': 'GB', 'name': 'United Kingdom'}, {'iso_3166_1': 'US', 'name': 'United States of America'}]                                                                                     118\n",
       "[{'iso_3166_1': 'GB', 'name': 'United Kingdom'}]                                                                                                                                                94\n",
       "[{'iso_3166_1': 'IN', 'name': 'India'}]                                                                                                                                                         69\n",
       "[{'iso_3166_1': 'FR', 'name': 'France'}]                                                                                                                                                        51\n",
       "                                                                                                                                                                                              ... \n",
       "[{'iso_3166_1': 'DE', 'name': 'Germany'}, {'iso_3166_1': 'ES', 'name': 'Spain'}, {'iso_3166_1': 'GB', 'name': 'United Kingdom'}, {'iso_3166_1': 'US', 'name': 'United States of America'}]       1\n",
       "[{'iso_3166_1': 'GB', 'name': 'United Kingdom'}, {'iso_3166_1': 'IT', 'name': 'Italy'}, {'iso_3166_1': 'FR', 'name': 'France'}, {'iso_3166_1': 'CH', 'name': 'Switzerland'}]                     1\n",
       "[{'iso_3166_1': 'DE', 'name': 'Germany'}, {'iso_3166_1': 'SE', 'name': 'Sweden'}, {'iso_3166_1': 'DK', 'name': 'Denmark'}]                                                                       1\n",
       "[{'iso_3166_1': 'CN', 'name': 'China'}, {'iso_3166_1': 'DE', 'name': 'Germany'}, {'iso_3166_1': 'GB', 'name': 'United Kingdom'}]                                                                 1\n",
       "[{'iso_3166_1': 'CA', 'name': 'Canada'}, {'iso_3166_1': 'FR', 'name': 'France'}, {'iso_3166_1': 'BE', 'name': 'Belgium'}]                                                                        1\n",
       "Name: production_countries, Length: 321, dtype: int64"
      ]
     },
     "execution_count": 9,
     "metadata": {},
     "output_type": "execute_result"
    }
   ],
   "source": [
    "train.production_countries.value_counts()"
   ]
  },
  {
   "cell_type": "markdown",
   "metadata": {
    "papermill": {
     "duration": 0.056136,
     "end_time": "2020-11-08T15:24:54.498413",
     "exception": false,
     "start_time": "2020-11-08T15:24:54.442277",
     "status": "completed"
    },
    "tags": []
   },
   "source": [
    "**Release_date:** Release date of a movie in mm/dd/yy format."
   ]
  },
  {
   "cell_type": "code",
   "execution_count": 10,
   "metadata": {
    "execution": {
     "iopub.execute_input": "2020-11-08T15:24:54.619021Z",
     "iopub.status.busy": "2020-11-08T15:24:54.617664Z",
     "iopub.status.idle": "2020-11-08T15:24:54.622283Z",
     "shell.execute_reply": "2020-11-08T15:24:54.621647Z"
    },
    "papermill": {
     "duration": 0.067664,
     "end_time": "2020-11-08T15:24:54.622415",
     "exception": false,
     "start_time": "2020-11-08T15:24:54.554751",
     "status": "completed"
    },
    "tags": []
   },
   "outputs": [
    {
     "data": {
      "text/plain": [
       "0      7/14/07\n",
       "1      5/19/58\n",
       "2      5/23/97\n",
       "3       9/4/10\n",
       "4      2/11/05\n",
       "5       2/7/96\n",
       "6     12/23/10\n",
       "7      2/11/00\n",
       "8       3/2/07\n",
       "9     10/30/99\n",
       "10      9/1/05\n",
       "11     6/27/14\n",
       "12     9/10/80\n",
       "13     5/16/02\n",
       "14      9/9/08\n",
       "15     9/12/10\n",
       "16     3/26/10\n",
       "17     4/16/14\n",
       "18    12/20/79\n",
       "19    11/18/97\n",
       "Name: release_date, dtype: object"
      ]
     },
     "execution_count": 10,
     "metadata": {},
     "output_type": "execute_result"
    }
   ],
   "source": [
    "test.release_date.head(20)"
   ]
  },
  {
   "cell_type": "markdown",
   "metadata": {
    "papermill": {
     "duration": 0.057128,
     "end_time": "2020-11-08T15:24:54.735978",
     "exception": false,
     "start_time": "2020-11-08T15:24:54.678850",
     "status": "completed"
    },
    "tags": []
   },
   "source": [
    "**Runtime:** Total runtime of a movie in minutes (Integer)."
   ]
  },
  {
   "cell_type": "markdown",
   "metadata": {
    "papermill": {
     "duration": 0.055835,
     "end_time": "2020-11-08T15:24:54.849318",
     "exception": false,
     "start_time": "2020-11-08T15:24:54.793483",
     "status": "completed"
    },
    "tags": []
   },
   "source": [
    "**Tagline**: Tagline of a movie "
   ]
  },
  {
   "cell_type": "markdown",
   "metadata": {
    "papermill": {
     "duration": 0.055764,
     "end_time": "2020-11-08T15:24:54.961051",
     "exception": false,
     "start_time": "2020-11-08T15:24:54.905287",
     "status": "completed"
    },
    "tags": []
   },
   "source": [
    "**Cast:** All cast TMDB id, name, character name, gender (1 = Female, 2 = Male) in JSON format"
   ]
  },
  {
   "cell_type": "code",
   "execution_count": 11,
   "metadata": {
    "execution": {
     "iopub.execute_input": "2020-11-08T15:24:55.096064Z",
     "iopub.status.busy": "2020-11-08T15:24:55.092053Z",
     "iopub.status.idle": "2020-11-08T15:24:55.100804Z",
     "shell.execute_reply": "2020-11-08T15:24:55.100079Z"
    },
    "papermill": {
     "duration": 0.083857,
     "end_time": "2020-11-08T15:24:55.100945",
     "exception": false,
     "start_time": "2020-11-08T15:24:55.017088",
     "status": "completed"
    },
    "tags": []
   },
   "outputs": [
    {
     "data": {
      "text/plain": [
       "count     2987\n",
       "unique    2975\n",
       "top         []\n",
       "freq        13\n",
       "Name: cast, dtype: object"
      ]
     },
     "execution_count": 11,
     "metadata": {},
     "output_type": "execute_result"
    }
   ],
   "source": [
    "train.cast.describe()\n",
    "#train.cast.head()"
   ]
  },
  {
   "cell_type": "markdown",
   "metadata": {
    "papermill": {
     "duration": 0.056109,
     "end_time": "2020-11-08T15:24:55.213768",
     "exception": false,
     "start_time": "2020-11-08T15:24:55.157659",
     "status": "completed"
    },
    "tags": []
   },
   "source": [
    "**Crew:** Name, TMDB id, profile path of various kind of crew members job like Director, Writer, Art, Sound etc. (Use Director)"
   ]
  },
  {
   "cell_type": "code",
   "execution_count": 12,
   "metadata": {
    "execution": {
     "iopub.execute_input": "2020-11-08T15:24:55.347386Z",
     "iopub.status.busy": "2020-11-08T15:24:55.346287Z",
     "iopub.status.idle": "2020-11-08T15:24:55.371844Z",
     "shell.execute_reply": "2020-11-08T15:24:55.372453Z"
    },
    "papermill": {
     "duration": 0.102184,
     "end_time": "2020-11-08T15:24:55.372610",
     "exception": false,
     "start_time": "2020-11-08T15:24:55.270426",
     "status": "completed"
    },
    "tags": []
   },
   "outputs": [
    {
     "data": {
      "text/plain": [
       "[{'credit_id': '52fe43e39251416c75021f39', 'department': 'Directing', 'gender': 2, 'id': 67795, 'job': 'Director', 'name': 'Steven Shainberg', 'profile_path': '/nkJrwamjmx5ZMQvEyTa5zWnRNId.jpg'}, {'credit_id': '52fe43e39251416c75021f3f', 'department': 'Writing', 'gender': 1, 'id': 67796, 'job': 'Screenplay', 'name': 'Erin Cressida Wilson', 'profile_path': '/wR8K6Cb6Xqc41SXDjUaWSS5BqN3.jpg'}, {'credit_id': '52fe43e39251416c75021f45', 'department': 'Production', 'gender': 1, 'id': 66593, 'job': 'Producer', 'name': 'Amy Hobby', 'profile_path': None}, {'credit_id': '52fe43e39251416c75021f4b', 'department': 'Production', 'gender': 2, 'id': 67795, 'job': 'Producer', 'name': 'Steven Shainberg', 'profile_path': '/nkJrwamjmx5ZMQvEyTa5zWnRNId.jpg'}, {'credit_id': '52fe43e39251416c75021f51', 'department': 'Sound', 'gender': 2, 'id': 5628, 'job': 'Original Music Composer', 'name': 'Angelo Badalamenti', 'profile_path': '/n5euRajRHN2xSSq4MnGMfHEHkBZ.jpg'}, {'credit_id': '52fe43e39251416c75021f57', 'department': 'Camera', 'gender': 2, 'id': 63924, 'job': 'Director of Photography', 'name': 'Steven Fierberg', 'profile_path': None}, {'credit_id': '52fe43e39251416c75021f5d', 'department': 'Editing', 'gender': 0, 'id': 7437, 'job': 'Editor', 'name': 'Pam Wise', 'profile_path': None}, {'credit_id': '52fe43e39251416c75021f73', 'department': 'Production', 'gender': 2, 'id': 66594, 'job': 'Producer', 'name': 'Andrew Fierberg', 'profile_path': None}, {'credit_id': '5490a7c39251411f58000354', 'department': 'Production', 'gender': 1, 'id': 957622, 'job': 'Casting', 'name': 'Ellen Parks', 'profile_path': None}, {'credit_id': '5490a7f89251411f65000372', 'department': 'Costume & Make-Up', 'gender': 0, 'id': 1017338, 'job': 'Costume Design', 'name': 'Marjorie Bowers', 'profile_path': None}]                                                                                                                                                                                                                                                                                                                                                                                                                                                                                                                                                                                                                                                                                                                                                                                                                                                                                                                                                                                                                                                                                                                                                                                                                                                                                                                                                                                                                                                                                                                                                                                                                                                                                                                                                                                                                                                                                                                                                                                                                                                                                                                                                                                                                                                                                                                                                                                                                                                                                                                                                                                                                                                                                                                                                                                                                                                                                                                                                                                                                                                                                                                                                                                                                                                                                                                                                                                                                                                                                                                                                                                                                                                                                                                                                                                                                                                                                                                                                                                                                                                                                                                                                                                                                                                                                                                                                                                                                                                                                                                                                                                                                                                                                                                                                                                                                                                                                                                                                                                                                                                                                                                                                                                                                                                                                                                                                                                                                                                                                                                                                                                                                                                                                                                                                                                                                                                                                                                                                                                                                                                                                                                                                                                                                                                                                                                                                                                                                                                                                                                                                                                                                                                                                                                                                                                                                                                                                                                                                                                                                                                                                                                                                                                                                                                                                                                                                                                                                                                                                                                                                                                                                                                                                                                                                                                                                                                                                                                                                                                                                                                                                                                                                                                                                                                                                                                                                                                                                                                                                                                                                                                                                                                                                                                                                                                                                                                                                                                                                                                                                                                                                                                                                                                                                                                                                                                                                                                                                                                                                                                                                                                                                                                                                                                                                                                                                                                                                                                                                                                                                                                                                                                                                                                                                                                                                                                                                                                                                                                                                                                                                                                                                                                                                                                                                                                                                                                                                                                                                                                                                                                                                                                                                                                                                                                                                                                                                                                                                                                                                                                                                                                                                                                                                                                                                                                                                                                                                                                                                                                                                                                                                                                                                                                                                                                                                                                                                                                                                                                                                                                                                                                                                                                                                                                                                                                                                                                                                                                                                                                                                                                                                                                                                                                                                                                                                                                                                                                                      1\n",
       "[{'credit_id': '538d957dc3a368713c004917', 'department': 'Art', 'gender': 1, 'id': 8383, 'job': 'Set Decoration', 'name': 'Maggie Gray', 'profile_path': None}, {'credit_id': '52fe47749251416c75099dfb', 'department': 'Production', 'gender': 2, 'id': 1032, 'job': 'Producer', 'name': 'Martin Scorsese', 'profile_path': '/4Xwx5XL1RJj0JQmEo8Fhr6nkpOg.jpg'}, {'credit_id': '538d9483c3a3687152004815', 'department': 'Production', 'gender': 1, 'id': 1302, 'job': 'Casting', 'name': 'Susie Figgis', 'profile_path': None}, {'credit_id': '52fe47749251416c75099e0d', 'department': 'Editing', 'gender': 1, 'id': 3050, 'job': 'Editor', 'name': 'Jill Bilcock', 'profile_path': None}, {'credit_id': '52fe47749251416c75099e07', 'department': 'Camera', 'gender': 2, 'id': 8194, 'job': 'Director of Photography', 'name': 'Hagen Bogdanski', 'profile_path': None}, {'credit_id': '52fe47749251416c75099e1d', 'department': 'Costume & Make-Up', 'gender': 0, 'id': 9027, 'job': 'Costume Design', 'name': 'Sandy Powell', 'profile_path': '/6J0JwsWmFv3vKEguRTV71aK5J.jpg'}, {'credit_id': '538d955dc3a368714300472e', 'department': 'Art', 'gender': 0, 'id': 11226, 'job': 'Art Direction', 'name': 'Alexandra Walker', 'profile_path': None}, {'credit_id': '52fe47749251416c75099de3', 'department': 'Writing', 'gender': 2, 'id': 10747, 'job': 'Writer', 'name': 'Julian Fellowes', 'profile_path': '/kf38Wij4DyNyVFFL9HokomrQNkc.jpg'}, {'credit_id': '52fe47749251416c75099df5', 'department': 'Production', 'gender': 2, 'id': 16729, 'job': 'Producer', 'name': 'Graham King', 'profile_path': None}, {'credit_id': '538d951ec3a368714b00493a', 'department': 'Art', 'gender': 0, 'id': 23425, 'job': 'Art Direction', 'name': 'Chris Lowe', 'profile_path': None}, {'credit_id': '52fe47749251416c75099e01', 'department': 'Sound', 'gender': 0, 'id': 23451, 'job': 'Original Music Composer', 'name': 'Ilan Eshkeri', 'profile_path': None}, {'credit_id': '570b6e989251413a0e0001f0', 'department': 'Art', 'gender': 2, 'id': 30463, 'job': 'Supervising Art Director', 'name': 'Paul Inglis', 'profile_path': None}, {'credit_id': '52fe47749251416c75099ddd', 'department': 'Directing', 'gender': 2, 'id': 69371, 'job': 'Director', 'name': 'Jean-Marc Vall√©e', 'profile_path': '/zFb4XBBx3TYSeeTXYv6GkAKYYcK.jpg'}, {'credit_id': '52fe47749251416c75099def', 'department': 'Production', 'gender': 2, 'id': 114479, 'job': 'Producer', 'name': 'Tim Headington', 'profile_path': None}, {'credit_id': '52fe47749251416c75099de9', 'department': 'Production', 'gender': 1, 'id': 115098, 'job': 'Producer', 'name': 'Sarah Ferguson', 'profile_path': '/etyvBwKNqYiGegVSaH6FFyuYD5O.jpg'}, {'credit_id': '52fe47749251416c75099e13', 'department': 'Editing', 'gender': 2, 'id': 115099, 'job': 'Editor', 'name': 'Matt Garner', 'profile_path': None}, {'credit_id': '538d949ac3a368714b00492b', 'department': 'Art', 'gender': 2, 'id': 102873, 'job': 'Production Design', 'name': 'Patrice Vermette', 'profile_path': None}, {'credit_id': '538d95aec3a368713c004920', 'department': 'Costume & Make-Up', 'gender': 0, 'id': 1327155, 'job': 'Costume Supervisor', 'name': 'Yvonne Duckett', 'profile_path': None}]                                                                                                                                                                                                                                                                                                                                                                                                                                                                                                                                                                                                                                                                                                                                                                                                                                                                                                                                                                                                                                                                                                                                                                                                                                                                                                                                                                                                                                                                                                                                                                                                                                                                                                                                                                                                                                                                                                                                                                                                                                                                                                                                                                                                                                                                                                                                                                                                                                                                                                                                                                                                                                                                                                                                                                                                                                                                                                                                                                                                                                                                                                                                                                                                                                                                                                                                                                                                                                                                                                                                                                                                                                                                                                                                                                                                                                                                                                                                                                                                                                                                                                                                                                                                                                                                                                                                                                                                                                                                                                                                                                                                                                                                                                                                                                                                                                                                                                                                                                                                                                                                                                                                                                                                                                                                                                                                                                                                                                                                                                                                                                                                                                                                                                                                                                                                                                                                                                                                                                                                                                                                                                                                                                                                                                                                                                                                                                                                                                                                                                                                                                                                                                                                                                                                                                                                                                                                                                                                                                                                                                                                                                                                                                                                                                                                                                                                                                                                                                                                                                                                                                                                                                                                                                                                                                                                                                                                                                                                                                                                                                                                                                                                                                                                                                                                                                                                                                                                                                                                                                                                                                                                                                                                                                                                                                                                                                                                                                                                                                                                                                                                                                                                                                                                                                                                                                                                                                                                                                                                                                                                                                                                                                                                                                                                                                                                                                                                                                                                                                                                                                                                                                                                                                                                                                                                                                                                                                                                                                                                                                                                                                                                                                                                                                                                                                                                                                                                                                                                                                                                                                                                                                                                                                                                                                                                                                                                                                                                                                                                                                                                                                                                                                                                                                                                                                                                                                                                                                                                                                                                              1\n",
       "[{'credit_id': '52fe48c29251416c750b2731', 'department': 'Writing', 'gender': 2, 'id': 939128, 'job': 'Screenplay', 'name': 'Kim Tae-yong', 'profile_path': '/hVeg9uTLkliynlu7JZZMAGRabkt.jpg'}, {'credit_id': '52fe48c29251416c750b272b', 'department': 'Directing', 'gender': 2, 'id': 939128, 'job': 'Director', 'name': 'Kim Tae-yong', 'profile_path': '/hVeg9uTLkliynlu7JZZMAGRabkt.jpg'}]                                                                                                                                                                                                                                                                                                                                                                                                                                                                                                                                                                                                                                                                                                                                                                                                                                                                                                                                                                                                                                                                                                                                                                                                                                                                                                                                                                                                                                                                                                                                                                                                                                                                                                                                                                                                                                                                                                                                                                                                                                                                                                                                                                                                                                                                                                                                                                                                                                                                                                                                                                                                                                                                                                                                                                                                                                                                                                                                                                                                                                                                                                                                                                                                                                                                                                                                                                                                                                                                                                                                                                                                                                                                                                                                                                                                                                                                                                                                                                                                                                                                                                                                                                                                                                                                                                                                                                                                                                                                                                                                                                                                                                                                                                                                                                                                                                                                                                                                                                                                                                                                                                                                                                                                                                                                                                                                                                                                                                                                                                                                                                                                                                                                                                                                                                                                                                                                                                                                                                                                                                                                                                                                                                                                                                                                                                                                                                                                                                                                                                                                                                                                                                                                                                                                                                                                                                                                                                                                                                                                                                                                                                                                                                                                                                                                                                                                                                                                                                                                                                                                                                                                                                                                                                                                                                                                                                                                                                                                                                                                                                                                                                                                                                                                                                                                                                                                                                                                                                                                                                                                                                                                                                                                                                                                                                                                                                                                                                                                                                                                                                                                                                                                                                                                                                                                                                                                                                                                                                                                                                                                                                                                                                                                                                                                                                                                                                                                                                                                                                                                                                                                                                                                                                                                                                                                                                                                                                                                                                                                                                                                                                                                                                                                                                                                                                                                                                                                                                                                                                                                                                                                                                                                                                                                                                                                                                                                                                                                                                                                                                                                                                                                                                                                                                                                                                                                                                                                                                                                                                                                                                                                                                                                                                                                                                                                                                                                                                                                                                                                                                                                                                                                                                                                                                                                                                                                                                                                                                                                                                                                                                                                                                                                                                                                                                                                                                                                                                                                                                                                                                                                                                                                                                                                                                                                                                                                                                                                                                                                                                                                                                                                                                                                                                                                                                                                                                                                                                                                                                                                                                                                                                                                                                                                                                                                                                                                                                                                    1\n",
       "[{'credit_id': '52fe4223c3a36847f8006c57', 'department': 'Directing', 'gender': 2, 'id': 2127, 'job': 'Director', 'name': 'James Wan', 'profile_path': '/d1LSKfzi5J6QngWS7niN1zPJdud.jpg'}, {'credit_id': '56f5fec79251417cb7000347', 'department': 'Writing', 'gender': 2, 'id': 2127, 'job': 'Story', 'name': 'James Wan', 'profile_path': '/d1LSKfzi5J6QngWS7niN1zPJdud.jpg'}, {'credit_id': '56f5feb2c3a3686a67001960', 'department': 'Writing', 'gender': 2, 'id': 2128, 'job': 'Writer', 'name': 'Leigh Whannell', 'profile_path': '/18dtzbzEGkyHC7AjgDZY15F7X7q.jpg'}, {'credit_id': '56f5feb992514155fe0018fb', 'department': 'Writing', 'gender': 2, 'id': 2128, 'job': 'Story', 'name': 'Leigh Whannell', 'profile_path': '/18dtzbzEGkyHC7AjgDZY15F7X7q.jpg'}, {'credit_id': '52fe4223c3a36847f8006ca3', 'department': 'Production', 'gender': 2, 'id': 2145, 'job': 'Producer', 'name': 'Mark Burg', 'profile_path': None}, {'credit_id': '52fe4223c3a36847f8006ca9', 'department': 'Production', 'gender': 2, 'id': 2146, 'job': 'Producer', 'name': 'Gregg Hoffman', 'profile_path': None}, {'credit_id': '52fe4223c3a36847f8006caf', 'department': 'Production', 'gender': 2, 'id': 2147, 'job': 'Producer', 'name': 'Oren Koules', 'profile_path': None}, {'credit_id': '52fe4223c3a36847f8006cb5', 'department': 'Sound', 'gender': 2, 'id': 2148, 'job': 'Original Music Composer', 'name': 'Charlie Clouser', 'profile_path': None}, {'credit_id': '52fe4223c3a36847f8006cbb', 'department': 'Camera', 'gender': 2, 'id': 2149, 'job': 'Director of Photography', 'name': 'David A. Armstrong', 'profile_path': None}, {'credit_id': '52fe4223c3a36847f8006cc1', 'department': 'Editing', 'gender': 2, 'id': 2150, 'job': 'Editor', 'name': 'Kevin Greutert', 'profile_path': '/ffijXhDTs8Up2YQyKRQFIjk5fwc.jpg'}, {'credit_id': '52fe4223c3a36847f8006cc7', 'department': 'Production', 'gender': 1, 'id': 2151, 'job': 'Casting', 'name': 'Amy Lippens', 'profile_path': None}, {'credit_id': '591a20ea9251415723060986', 'department': 'Visual Effects', 'gender': 2, 'id': 8911, 'job': 'Visual Effects Coordinator', 'name': 'Mark Allan', 'profile_path': None}, {'credit_id': '557a06839251417f6c00037f', 'department': 'Production', 'gender': 0, 'id': 51026, 'job': 'Co-Producer', 'name': 'Daniel J. Heffner', 'profile_path': None}, {'credit_id': '591a1e1e92514159c105cc3b', 'department': 'Directing', 'gender': 0, 'id': 51026, 'job': 'First Assistant Director', 'name': 'Daniel J. Heffner', 'profile_path': None}, {'credit_id': '557a069b9251417f810003bb', 'department': 'Production', 'gender': 0, 'id': 51029, 'job': 'Executive Producer', 'name': 'Stacey Testro', 'profile_path': None}, {'credit_id': '557a066b9251417f76000385', 'department': 'Production', 'gender': 2, 'id': 51030, 'job': 'Executive Producer', 'name': 'Peter Block', 'profile_path': None}, {'credit_id': '557a06769251417f6c00037d', 'department': 'Production', 'gender': 2, 'id': 51032, 'job': 'Executive Producer', 'name': 'Jason Constantine', 'profile_path': None}, {'credit_id': '536b98d20e0a2647d800c1b6', 'department': 'Costume & Make-Up', 'gender': 0, 'id': 62587, 'job': 'Costume Design', 'name': 'Jennifer L. Soulages', 'profile_path': None}, {'credit_id': '591a1fcac3a36842c10614f4', 'department': 'Sound', 'gender': 0, 'id': 80810, 'job': 'Foley', 'name': 'Jeremy Balko', 'profile_path': None}, {'credit_id': '536b992c0e0a2647d100bc13', 'department': 'Art', 'gender': 1, 'id': 141301, 'job': 'Production Design', 'name': 'Julie Berghoff', 'profile_path': None}, {'credit_id': '591a1f98c3a36842d606187a', 'department': 'Production', 'gender': 0, 'id': 1001817, 'job': 'Production Manager', 'name': 'Richard H. Prince', 'profile_path': None}, {'credit_id': '557a0690c3a368035400038e', 'department': 'Production', 'gender': 0, 'id': 1001817, 'job': 'Co-Producer', 'name': 'Richard H. Prince', 'profile_path': None}, {'credit_id': '591a1ff0c3a368371b050e44', 'department': 'Sound', 'gender': 0, 'id': 1136753, 'job': 'Music Editor', 'name': 'Cameron Allan', 'profile_path': None}, {'credit_id': '591a20b7925141572306096a', 'department': 'Visual Effects', 'gender': 2, 'id': 1280435, 'job': 'Special Effects Supervisor', 'name': 'Thomas L. Bellissimo', 'profile_path': '/wuM4lfVxABrFpd1fljCYJkd2v7l.jpg'}, {'credit_id': '56f5ff14925141560a0016c6', 'department': 'Costume & Make-Up', 'gender': 0, 'id': 1295780, 'job': 'Prosthetic Supervisor', 'name': 'Rocky Faulkner', 'profile_path': None}, {'credit_id': '591a1cd7c3a3683fb6059226', 'department': 'Costume & Make-Up', 'gender': 2, 'id': 1316296, 'job': 'Makeup Artist', 'name': 'Scott Eddo', 'profile_path': None}, {'credit_id': '536b990b0e0a2647c800c54a', 'department': 'Costume & Make-Up', 'gender': 0, 'id': 1317667, 'job': 'Makeup Department Head', 'name': 'Eleanor Sabaduquia', 'profile_path': None}, {'credit_id': '536b99420e0a2647ce00bc0b', 'department': 'Art', 'gender': 0, 'id': 1317668, 'job': 'Art Direction', 'name': 'Nanet Harty', 'profile_path': None}, {'credit_id': '591a2034c3a3683fb6059442', 'department': 'Sound', 'gender': 0, 'id': 1339989, 'job': 'Sound Effects Editor', 'name': 'Randy Babajtis', 'profile_path': None}, {'credit_id': '53be6c170e0a26157c003bcf', 'department': 'Sound', 'gender': 0, 'id': 1340003, 'job': 'Sound Designer', 'name': 'Jonathan Miller', 'profile_path': None}, {'credit_id': '53be6c2b0e0a26157f003e14', 'department': 'Sound', 'gender': 0, 'id': 1340003, 'job': 'Supervising Sound Editor', 'name': 'Jonathan Miller', 'profile_path': None}, {'credit_id': '591a1fafc3a3683a9305b9fb', 'department': 'Sound', 'gender': 0, 'id': 1349969, 'job': 'Boom Operator', 'name': 'Speed Ratliff', 'profile_path': None}, {'credit_id': '591a2088925141061e058542', 'department': 'Visual Effects', 'gender': 0, 'id': 1364422, 'job': 'Digital Compositors', 'name': 'Derek Bird', 'profile_path': None}, {'credit_id': '591a2118925141061e0585bc', 'department': 'Visual Effects', 'gender': 0, 'id': 1387777, 'job': 'Visual Effects Producer', 'name': 'Andrew Midgley', 'profile_path': None}, {'credit_id': '591a1dcfc3a36840aa056cb2', 'department': 'Crew', 'gender': 0, 'id': 1389621, 'job': 'Stunt Coordinator', 'name': 'Keith Adams', 'profile_path': None}, {'credit_id': '591a1c48c3a368371b050b85', 'department': 'Camera', 'gender': 0, 'id': 1394414, 'job': 'First Assistant Camera', 'name': 'Josh Harrison', 'profile_path': None}, {'credit_id': '591a1e08c3a36842c1061393', 'department': 'Crew', 'gender': 0, 'id': 1433954, 'job': 'Video Assist Operator', 'name': 'Martin Glover', 'profile_path': None}, {'credit_id': '591a1eaec3a36842d60617c5', 'department': 'Lighting', 'gender': 0, 'id': 1463809, 'job': 'Electrician', 'name': 'Thomas Kuo', 'profile_path': None}, {'credit_id': '557a0661c3a3680354000387', 'department': 'Production', 'gender': 0, 'id': 1476346, 'job': 'Associate Producer', 'name': 'Lark Bernini', 'profile_path': None}, {'credit_id': '591a1e3ec3a368371b050ccf', 'department': 'Directing', 'gender': 1, 'id': 1533037, 'job': 'Script Supervisor', 'name': 'Jillian Giacomini', 'profile_path': None}, {'credit_id': '591a1e5292514157230607b3', 'department': 'Editing', 'gender': 0, 'id': 1548684, 'job': 'Color Timer', 'name': 'Dan Muscarella', 'profile_path': None}, {'credit_id': '591a1d6ac3a36840aa056c6e', 'department': 'Crew', 'gender': 0, 'id': 1599631, 'job': 'Post Production Assistant', 'name': 'Ian Elias', 'profile_path': None}, {'credit_id': '591a1e69c3a3683fb605931d', 'department': 'Editing', 'gender': 0, 'id': 1652092, 'job': 'Dialogue Editor', 'name': 'Andrew Patterson', 'profile_path': None}, {'credit_id': '591a1cfe925141583c05e2e1', 'department': 'Crew', 'gender': 0, 'id': 1652449, 'job': 'Carpenter', 'name': 'Timothy Feimster', 'profile_path': None}, {'credit_id': '591a1c77925141061e058271', 'department': 'Camera', 'gender': 0, 'id': 1738163, 'job': 'Grip', 'name': 'Chris Gordon', 'profile_path': None}, {'credit_id': '591a1c2f92514159c105cb0a', 'department': 'Art', 'gender': 0, 'id': 1817616, 'job': 'Art Department Assistant', 'name': 'Jill Bream', 'profile_path': None}, {'credit_id': '591a1c65925141061e058267', 'department': 'Camera', 'gender': 0, 'id': 1817617, 'job': 'Key Grip', 'name': 'Oscar Garcia', 'profile_path': None}, {'credit_id': '591a1c8bc3a368371b050bb2', 'department': 'Camera', 'gender': 0, 'id': 1817618, 'job': 'Still Photographer', 'name': 'Greg Gayne', 'profile_path': None}, {'credit_id': '591a1ca9925141585205f95f', 'department': 'Costume & Make-Up', 'gender': 0, 'id': 1817620, 'job': 'Costume Supervisor', 'name': 'Kathleen Russo', 'profile_path': None}, {'credit_id': '591a1cb7c3a36842690633fc', 'department': 'Costume & Make-Up', 'gender': 0, 'id': 1817621, 'job': 'Hairstylist', 'name': 'Kashka Banjoko', 'profile_path': None}, {'credit_id': '591a1cc4c3a368371b050bdb', 'department': 'Costume & Make-Up', 'gender': 0, 'id': 1817622, 'job': 'Key Hair Stylist', 'name': 'Michelle Rene Elam', 'profile_path': None}, {'credit_id': '591a1d0cc3a368371b050c0c', 'department': 'Crew', 'gender': 0, 'id': 1817626, 'job': 'Craft Service', 'name': 'Tricia Sherwood', 'profile_path': None}, {'credit_id': '591a1d2592514159c105cb9f', 'department': 'Camera', 'gender': 0, 'id': 1817627, 'job': 'Camera Loader', 'name': 'Lisa Villaire', 'profile_path': None}, {'credit_id': '591a1d82c3a3683a9305b876', 'department': 'Crew', 'gender': 0, 'id': 1817630, 'job': 'Production Intern', 'name': 'Chuck Radtke', 'profile_path': None}, {'credit_id': '591a1d98c3a368426906349a', 'department': 'Art', 'gender': 2, 'id': 1817631, 'job': 'Property Master', 'name': 'Bill Davis', 'profile_path': None}, {'credit_id': '591a1dad92514156f5060a46', 'department': 'Crew', 'gender': 0, 'id': 1817632, 'job': 'Scenic Artist', 'name': 'Summer Ramsey', 'profile_path': None}, {'credit_id': '591a1dbc925141572306075c', 'department': 'Crew', 'gender': 0, 'id': 1817634, 'job': 'Set Production Assistant', 'name': 'Tory Mell', 'profile_path': None}, {'credit_id': '591a1e8d925141583c05e3c2', 'department': 'Editing', 'gender': 0, 'id': 1817641, 'job': 'Digital Intermediate', 'name': 'Mark Griffith', 'profile_path': None}, {'credit_id': '591a1e9cc3a36840aa056d30', 'department': 'Lighting', 'gender': 0, 'id': 1817642, 'job': 'Best Boy Electric', 'name': 'Brandon Cunningham', 'profile_path': None}, {'credit_id': '591a1effc3a3683a9305b982', 'department': 'Lighting', 'gender': 0, 'id': 1817644, 'job': 'Gaffer', 'name': 'Yaron Levy', 'profile_path': None}, {'credit_id': '591a1f0d92514159c105cce2', 'department': 'Lighting', 'gender': 0, 'id': 1817645, 'job': 'Rigging Grip', 'name': 'Bill Persaud', 'profile_path': None}, {'credit_id': '591a1f449251415723060850', 'department': 'Production', 'gender': 1, 'id': 1817646, 'job': 'Casting Associate', 'name': 'Jennifer Levy', 'profile_path': None}, {'credit_id': '591a1f63c3a3683a9305b9c4', 'department': 'Production', 'gender': 0, 'id': 1817649, 'job': 'Production Accountant', 'name': 'Monica Muehlhause-Horn', 'profile_path': None}, {'credit_id': '591a1f8592514159c105cd2b', 'department': 'Production', 'gender': 0, 'id': 1817652, 'job': 'Production Coordinator', 'name': 'Vicky Choy', 'profile_path': None}, {'credit_id': '591a2019925141061e0584ea', 'department': 'Sound', 'gender': 0, 'id': 1817656, 'job': 'Music Supervisor', 'name': 'Jonathan Scott Miller', 'profile_path': None}, {'credit_id': '591a206cc3a36840aa056e92', 'department': 'Sound', 'gender': 0, 'id': 1817659, 'job': 'Sound Mixer', 'name': 'John Taylor', 'profile_path': None}, {'credit_id': '591a214592514157230609d4', 'department': 'Visual Effects', 'gender': 0, 'id': 1817664, 'job': 'Visual Effects Supervisor', 'name': 'Marlo Pabon', 'profile_path': None}]                                                                                                                                                                                                                                                                                                                                                                                                                                                                                                                                                                                                                                                                                                                                                                                                                                                                                                                                                                                                                                                                                                                                                                                                                                                                                                                                                                                                                                                                                                                                                                                                                                                                                                                                                                                                                                                                                                                                                                                                                                                                                                                                                                                                                                                                                                                                                                                                                                                                                                                                                                                                                                                                                                                                                                                                                                                                                                                                                                                                                                                                                                                                                                              1\n",
       "[{'credit_id': '5916f0c09251415852030679', 'department': 'Sound', 'gender': 2, 'id': 23739, 'job': 'Original Music Composer', 'name': 'James L. Venable', 'profile_path': None}, {'credit_id': '5916f1a3925141580d02fd87', 'department': 'Production', 'gender': 2, 'id': 81613, 'job': 'Executive Producer', 'name': 'Brian A. Miller', 'profile_path': None}, {'credit_id': '5916f0b6925141061e0286e0', 'department': 'Editing', 'gender': 0, 'id': 81655, 'job': 'Editor', 'name': 'Rob Desales', 'profile_path': None}, {'credit_id': '5696c207c3a3682cc300003a', 'department': 'Writing', 'gender': 0, 'id': 122967, 'job': 'Screenplay', 'name': 'Craig McCracken', 'profile_path': None}, {'credit_id': '52fe498dc3a36847f81a01f9', 'department': 'Directing', 'gender': 0, 'id': 122967, 'job': 'Director', 'name': 'Craig McCracken', 'profile_path': None}, {'credit_id': '52fe498dc3a36847f81a01ff', 'department': 'Writing', 'gender': 0, 'id': 185443, 'job': 'Screenplay', 'name': 'Charlie Bean', 'profile_path': None}, {'credit_id': '52fe498dc3a36847f81a0211', 'department': 'Writing', 'gender': 0, 'id': 185446, 'job': 'Screenplay', 'name': 'Paul Rudish', 'profile_path': None}, {'credit_id': '52fe498dc3a36847f81a0205', 'department': 'Writing', 'gender': 0, 'id': 219954, 'job': 'Screenplay', 'name': 'Lauren Faust', 'profile_path': None}, {'credit_id': '5916f0d492514156f5030e87', 'department': 'Production', 'gender': 0, 'id': 966797, 'job': 'Casting', 'name': 'Collette Sunderman', 'profile_path': None}, {'credit_id': '5552494cc3a3684191003aee', 'department': 'Visual Effects', 'gender': 0, 'id': 1113194, 'job': 'Animation', 'name': 'Dave Kupczyk', 'profile_path': None}, {'credit_id': '55524944c3a368426f004c1d', 'department': 'Directing', 'gender': 0, 'id': 1113194, 'job': 'Layout', 'name': 'Dave Kupczyk', 'profile_path': None}, {'credit_id': '5916f184c3a368371b021053', 'department': 'Production', 'gender': 0, 'id': 1128341, 'job': 'Executive In Charge Of Production', 'name': 'Nikki Vanzo', 'profile_path': None}, {'credit_id': '54c5208b9251412d9c0018be', 'department': 'Writing', 'gender': 0, 'id': 1218983, 'job': 'Screenplay', 'name': 'Don Shank', 'profile_path': None}, {'credit_id': '5916f087c3a368426903210b', 'department': 'Visual Effects', 'gender': 0, 'id': 1447327, 'job': 'Character Designer', 'name': 'Carey Yost', 'profile_path': None}, {'credit_id': '55468e81c3a3680cdb0075e7', 'department': 'Visual Effects', 'gender': 0, 'id': 1451684, 'job': 'Animation', 'name': 'Matthew Maners', 'profile_path': None}, {'credit_id': '555ff4d3c3a36868e9004519', 'department': 'Production', 'gender': 0, 'id': 1469852, 'job': 'Production Manager', 'name': 'Chul-ho Kim', 'profile_path': None}, {'credit_id': '5916f156925141061e02879e', 'department': 'Production', 'gender': 0, 'id': 1815843, 'job': 'Producer', 'name': 'Donna Castricone', 'profile_path': None}]                                                                                                                                                                                                                                                                                                                                                                                                                                                                                                                                                                                                                                                                                                                                                                                                                                                                                                                                                                                                                                                                                                                                                                                                                                                                                                                                                                                                                                                                                                                                                                                                                                                                                                                                                                                                                                                                                                                                                                                                                                                                                                                                                                                                                                                                                                                                                                                                                                                                                                                                                                                                                                                                                                                                                                                                                                                                                                                                                                                                                                                                                                                                                                                                                                                                                                                                                                                                                                                                                                                                                                                                                                                                                                                                                                                                                                                                                                                                                                                                                                                                                                                                                                                                                                                                                                                                                                                                                                                                                                                                                                                                                                                                                                                                                                                                                                                                                                                                                                                                                                                                                                                                                                                                                                                                                                                                                                                                                                                                                                                                                                                                                                                                                                                                                                                                                                                                                                                                                                                                                                                                                                                                                                                                                                                                                                                                                                                                                                                                                                                                                                                                                                                                                                                                                                                                                                                                                                                                                                                                                                                                                                                                                                                                                                                                                                                                                                                                                                                                                                                                                                                                                                                                                                                                                                                                                                                                                                                                                                                                                                                                                                                                                                                                                                                                                                                                                                                                                                                                                                                                                                                                                                                                                                                                                                                                                                                                                                                                                                                                                                                                                                                                                                                                                                                                                                                                                                                                                                                                                                                                                                                                                                                                                                                                                                                                                                                                                                                                                                                                                                                                                                                                                                                                                                                                                                                                                                                                                                                                                                                                                                                                                                                                                                                                                                                                                                                                                                                                                                                                                                                                                                                                                                                                                                                                                                                                                                                                                                                                                                                                                                                                                                                                                                                                                                                                                                                                                                                                                                                                                                                                                                                                                                                                                                                                                            1\n",
       "                                                                                                                                                                                                                                                                                                                                                                                                                                                                                                                                                                                                                                                                                                                                                                                                                                                                                                                                                                                                                                                                                                                                                                                                                                                                                                                                                                                                                                                                                                                                                                                                                                                                                                                                                                                                                                                                                                                                                                                                                                                                                                                                                                                                                                                                                                                                                                                                                                                                                                                                                                                                                                                                                                                                                                                                                                                                                                                                                                                                                                                                                                                                                                                                                                                                                                                                                                                                                                                                                                                                                                                                                                                                                                                                                                                                                                                                                                                                                                                                                                                                                                                                                                                                                                                                                                                                                                                                                                                                                                                                                                                                                                                                                                                                                                                                                                                                                                                                                                                                                                                                                                                                                                                                                                                                                                                                                                                                                                                                                                                                                                                                                                                                                                                                                                                                                                                                                                                                                                                                                                                                                                                                                                                                                                                                                                                                                                                                                                                                                                                                                                                                                                                                                                                                                                                                                                                                                                                                                                                                                                                                                                                                                                                                                                                                                                                                                                                                                                                                                                                                                                                                                                                                                                                                                                                                                                                                                                                                                                                                                                                                                                                                                                                                                                                                                                                                                                                                                                                                                                                                                                                                                                                                                                                                                                                                                                                                                                                                                                                                                                                                                                                                                                                                                                                                                                                                                                                                                                                                                                                                                                                                                                                                                                                                                                                                                                                                                                                                                                                                                                                                                                                                                                                                                                                                                                                                                                                                                                                                                                                                                                                                                                                                                                                                                                                                                                                                                                                                                                                                                                                                                                                                                                                                                                                                                                                                                                                                                                                                                                                                                                                                                                                                                                                                                                                                                                                                                                                                                                                                                                                                                                                                                                                                                                                                                                                                                                                                                                                                                                                                                                                                                                                                                                                                                                                                                                                                                                                                                                                                                                                                                                                                                                                                                                                                                                                                                                                                                                                                                                                                                                                                                                                                                                                                                                                                                                                                                                                                                                                                                                                                                                                                                                                                                                                                                                                                                                                                                                                                                                                                                                                                                                                                                                                                                                                                                                                                                                                                                                                                                                                                                                                                                                                                                                                                   ..\n",
       "[{'credit_id': '55722baac3a368368e0023cc', 'department': 'Production', 'gender': 2, 'id': 298, 'job': 'Co-Producer', 'name': 'Chris Bender', 'profile_path': None}, {'credit_id': '58583173925141594100d35c', 'department': 'Sound', 'gender': 0, 'id': 562, 'job': 'Supervising Sound Editor', 'name': 'Richard LeGrand Jr.', 'profile_path': None}, {'credit_id': '52fe4336c3a36847f8042ca1', 'department': 'Editing', 'gender': 1, 'id': 1217, 'job': 'Editor', 'name': 'Priscilla Nedd-Friendly', 'profile_path': None}, {'credit_id': '52fe4336c3a36847f8042ca7', 'department': 'Production', 'gender': 2, 'id': 1593, 'job': 'Casting', 'name': 'Joseph Middleton', 'profile_path': None}, {'credit_id': '58582fc0c3a3682fb806f8af', 'department': 'Production', 'gender': 1, 'id': 1594, 'job': 'Casting Associate', 'name': 'Michelle Morris', 'profile_path': None}, {'credit_id': '52fe4336c3a36847f8042c71', 'department': 'Directing', 'gender': 0, 'id': 3288, 'job': 'Director', 'name': 'Chris Weitz', 'profile_path': '/xlnVbsnoP3PZCjEa2d99ETVLAFB.jpg'}, {'credit_id': '52fe4336c3a36847f8042c89', 'department': 'Production', 'gender': 0, 'id': 3288, 'job': 'Producer', 'name': 'Chris Weitz', 'profile_path': '/xlnVbsnoP3PZCjEa2d99ETVLAFB.jpg'}, {'credit_id': '52fe4336c3a36847f8042c6b', 'department': 'Directing', 'gender': 2, 'id': 3289, 'job': 'Director', 'name': 'Paul Weitz', 'profile_path': '/u6VYkIxricoJ31MkmljXs2ZCSFQ.jpg'}, {'credit_id': '52fe4336c3a36847f8042c7d', 'department': 'Production', 'gender': 2, 'id': 6627, 'job': 'Producer', 'name': 'Chris Moore', 'profile_path': '/bCHrDtipWaxFuoHYeOUfm3QMBMu.jpg'}, {'credit_id': '58582ee4c3a36806a7051b72', 'department': 'Directing', 'gender': 0, 'id': 7409, 'job': 'Assistant Director', 'name': 'J.B. Rogers', 'profile_path': '/rL2r7j20Aq2JRWeDpTpk35YxUzb.jpg'}, {'credit_id': '55722bc09251416cd5002405', 'department': 'Production', 'gender': 0, 'id': 7409, 'job': 'Associate Producer', 'name': 'J.B. Rogers', 'profile_path': '/rL2r7j20Aq2JRWeDpTpk35YxUzb.jpg'}, {'credit_id': '52fe4336c3a36847f8042c77', 'department': 'Writing', 'gender': 2, 'id': 21584, 'job': 'Screenplay', 'name': 'Adam Herz', 'profile_path': None}, {'credit_id': '55722c05c3a36838d300255a', 'department': 'Production', 'gender': 2, 'id': 21584, 'job': 'Co-Producer', 'name': 'Adam Herz', 'profile_path': None}, {'credit_id': '52fe4336c3a36847f8042c83', 'department': 'Production', 'gender': 2, 'id': 21585, 'job': 'Producer', 'name': 'Craig Perry', 'profile_path': None}, {'credit_id': '52fe4336c3a36847f8042c8f', 'department': 'Production', 'gender': 2, 'id': 21586, 'job': 'Producer', 'name': 'Warren Zide', 'profile_path': None}, {'credit_id': '52fe4336c3a36847f8042c95', 'department': 'Sound', 'gender': 2, 'id': 21587, 'job': 'Original Music Composer', 'name': 'David Lawrence', 'profile_path': None}, {'credit_id': '585830dcc3a368258f05b176', 'department': 'Sound', 'gender': 2, 'id': 21587, 'job': 'Orchestrator', 'name': 'David Lawrence', 'profile_path': None}, {'credit_id': '52fe4336c3a36847f8042c9b', 'department': 'Camera', 'gender': 2, 'id': 21588, 'job': 'Director of Photography', 'name': 'Richard Crudo', 'profile_path': None}, {'credit_id': '52fe4336c3a36847f8042ced', 'department': 'Art', 'gender': 2, 'id': 21589, 'job': 'Production Design', 'name': 'Paul Peters', 'profile_path': None}, {'credit_id': '585829bb9251416f63063ef9', 'department': 'Art', 'gender': 2, 'id': 21589, 'job': 'Art Direction', 'name': 'Paul Peters', 'profile_path': None}, {'credit_id': '58582a00c3a368258f05ab53', 'department': 'Art', 'gender': 1, 'id': 21591, 'job': 'Set Decoration', 'name': 'Amy Wells', 'profile_path': None}, {'credit_id': '52fe4336c3a36847f8042cb3', 'department': 'Costume & Make-Up', 'gender': 1, 'id': 21592, 'job': 'Costume Design', 'name': 'Leesa Evans', 'profile_path': None}, {'credit_id': '58582f58c3a3682f5805ccd3', 'department': 'Lighting', 'gender': 0, 'id': 26771, 'job': 'Best Boy Electric', 'name': 'Michael Baxter-Lax', 'profile_path': None}, {'credit_id': '58582ea2c3a3682fb806f7a5', 'department': 'Production', 'gender': 2, 'id': 57084, 'job': 'Unit Production Manager', 'name': 'Louis G. Friedman', 'profile_path': None}, {'credit_id': '55722bb4925141318e0006c8', 'department': 'Production', 'gender': 2, 'id': 57084, 'job': 'Co-Producer', 'name': 'Louis G. Friedman', 'profile_path': None}, {'credit_id': '58582e15c3a3683150058e7e', 'department': 'Crew', 'gender': 0, 'id': 61570, 'job': 'Stunt Coordinator', 'name': 'Russell Towery', 'profile_path': None}, {'credit_id': '585830f392514146c904dfc8', 'department': 'Sound', 'gender': 0, 'id': 108882, 'job': 'Production Sound Mixer', 'name': 'Cameron Hamza', 'profile_path': None}, {'credit_id': '58582da19251416f63064297', 'department': 'Crew', 'gender': 0, 'id': 231419, 'job': 'Propmaker', 'name': 'Scott Austin', 'profile_path': None}, {'credit_id': '58582e2ec3a368258f05af44', 'department': 'Crew', 'gender': 0, 'id': 232458, 'job': 'Stunts', 'name': 'Jim Henry', 'profile_path': None}, {'credit_id': '5858315dc3a3682f5805ce43', 'department': 'Sound', 'gender': 0, 'id': 548435, 'job': 'Sound Mixer', 'name': 'Nerses Gezalyan', 'profile_path': None}, {'credit_id': '58582f2dc3a3682dfe061314', 'department': 'Editing', 'gender': 0, 'id': 1049325, 'job': 'Dialogue Editor', 'name': 'Bob McNabb', 'profile_path': None}, {'credit_id': '58582e44c3a368258c057959', 'department': 'Crew', 'gender': 0, 'id': 1219858, 'job': 'Technical Supervisor', 'name': 'Glenn Cannon', 'profile_path': None}, {'credit_id': '58582df892514146c904dd65', 'department': 'Crew', 'gender': 0, 'id': 1271793, 'job': 'Special Effects Coordinator', 'name': 'Ron Trost', 'profile_path': None}, {'credit_id': '58582ae1c3a368258c057674', 'department': 'Art', 'gender': 0, 'id': 1334782, 'job': 'Set Designer', 'name': 'Josh Lusby', 'profile_path': None}, {'credit_id': '5858307892514175ad0536d5', 'department': 'Sound', 'gender': 0, 'id': 1351327, 'job': 'Boom Operator', 'name': 'Michael Garner', 'profile_path': None}, {'credit_id': '5858309692514175ad0536ed', 'department': 'Sound', 'gender': 0, 'id': 1367493, 'job': 'Foley', 'name': 'John T. Cucci', 'profile_path': None}, {'credit_id': '58582f0392514175ad053599', 'department': 'Directing', 'gender': 1, 'id': 1391605, 'job': 'Script Supervisor', 'name': 'Annie Welles', 'profile_path': None}, {'credit_id': '58582e609251411a46061247', 'department': 'Crew', 'gender': 0, 'id': 1392250, 'job': 'Transportation Captain', 'name': 'David Marder', 'profile_path': None}, {'credit_id': '5858311cc3a3682fb806f9f0', 'department': 'Sound', 'gender': 2, 'id': 1398120, 'job': 'Sound Designer', 'name': 'Gary S. Gerlich', 'profile_path': None}, {'credit_id': '58582eb99251416fad05dd8b', 'department': 'Crew', 'gender': 0, 'id': 1398982, 'job': 'Unit Publicist', 'name': 'Rachel Aberly', 'profile_path': None}, {'credit_id': '58582cd3c3a368258c05781c', 'department': 'Costume & Make-Up', 'gender': 0, 'id': 1401368, 'job': 'Set Costumer', 'name': 'Amy Jo Hoppenfeld', 'profile_path': None}, {'credit_id': '58582c33c3a3682f5805ca19', 'department': 'Costume & Make-Up', 'gender': 1, 'id': 1405728, 'job': 'Costume Supervisor', 'name': 'Janet Sobel', 'profile_path': None}, {'credit_id': '585831319251416f63064584', 'department': 'Sound', 'gender': 0, 'id': 1409256, 'job': 'Sound Editor', 'name': 'Harry Cheney', 'profile_path': None}, {'credit_id': '58582a90c3a3682f5805c897', 'department': 'Art', 'gender': 0, 'id': 1418823, 'job': 'Construction Foreman', 'name': 'Jay M. Hirsch', 'profile_path': None}, {'credit_id': '58582f97925141724d0341f7', 'department': 'Lighting', 'gender': 0, 'id': 1428210, 'job': 'Rigging Gaffer', 'name': 'Curtis A. Andrews Jr.', 'profile_path': None}, {'credit_id': '58582aa4c3a368258f05abfe', 'department': 'Art', 'gender': 0, 'id': 1434207, 'job': 'Greensman', 'name': 'Dave Newhouse', 'profile_path': None}, {'credit_id': '585830b0c3a3682dfe061415', 'department': 'Sound', 'gender': 0, 'id': 1435194, 'job': 'Music Editor', 'name': 'Charles Martin Inouye', 'profile_path': None}, {'credit_id': '58582a4f925141594100cd21', 'department': 'Art', 'gender': 0, 'id': 1436624, 'job': 'Art Department Coordinator', 'name': 'Angela Stauffer', 'profile_path': None}, {'credit_id': '58582a7bc3a3682dfe060eb6', 'department': 'Art', 'gender': 0, 'id': 1443053, 'job': 'Construction Coordinator', 'name': 'Michael Muscarella', 'profile_path': None}, {'credit_id': '58582c9d9251411a460610e4', 'department': 'Costume & Make-Up', 'gender': 0, 'id': 1527917, 'job': 'Key Hair Stylist', 'name': 'Voni Hinkle', 'profile_path': None}, {'credit_id': '5858303c925141594100d25b', 'department': 'Production', 'gender': 0, 'id': 1537119, 'job': 'Production Coordinator', 'name': 'Kathleen Keller', 'profile_path': None}, {'credit_id': '58582a67c3a3682dfe060eaa', 'department': 'Art', 'gender': 0, 'id': 1552165, 'job': 'Assistant Art Director', 'name': 'Lisette Thomas', 'profile_path': None}, {'credit_id': '58582ab692514146c904dab9', 'department': 'Art', 'gender': 2, 'id': 1552166, 'job': 'Leadman', 'name': 'Patrick Lees', 'profile_path': None}, {'credit_id': '58582acbc3a3682dfe060f0d', 'department': 'Art', 'gender': 0, 'id': 1552167, 'job': 'Painter', 'name': 'John G. Campbell', 'profile_path': None}, {'credit_id': '58582b10c3a36827a5058c0d', 'department': 'Art', 'gender': 0, 'id': 1552168, 'job': 'Standby Painter', 'name': 'Bill Williams', 'profile_path': None}, {'credit_id': '58582b2ac3a3683150058c1f', 'department': 'Camera', 'gender': 0, 'id': 1552169, 'job': 'First Assistant Camera', 'name': 'Brian S. Osmond', 'profile_path': None}, {'credit_id': '58582bcf9251416fad05db0d', 'department': 'Camera', 'gender': 0, 'id': 1552171, 'job': 'Steadicam Operator', 'name': \"Gerry O'Malley\", 'profile_path': None}, {'credit_id': '58582bffc3a3682f5805c9e5', 'department': 'Camera', 'gender': 0, 'id': 1552172, 'job': 'Still Photographer', 'name': 'Vivian Zink', 'profile_path': None}, {'credit_id': '58582cfd9251416fad05dc25', 'department': 'Crew', 'gender': 0, 'id': 1552173, 'job': 'Craft Service', 'name': 'Rashied Aljuwani', 'profile_path': None}, {'credit_id': '58582d11c3a36806a70519d2', 'department': 'Crew', 'gender': 0, 'id': 1552174, 'job': 'Dialect Coach', 'name': 'Linda Brennan', 'profile_path': None}, {'credit_id': '58582d2fc3a368258c057867', 'department': 'Crew', 'gender': 0, 'id': 1552176, 'job': 'Driver', 'name': 'Richard Austin', 'profile_path': None}, {'credit_id': '58582d46c3a368258f05ae62', 'department': 'Crew', 'gender': 0, 'id': 1552177, 'job': 'Loader', 'name': 'Bill Olofsson', 'profile_path': None}, {'credit_id': '58582d619251416f6306425c', 'department': 'Crew', 'gender': 2, 'id': 1552178, 'job': 'Post Production Assistant', 'name': 'Mike Miller', 'profile_path': None}, {'credit_id': '58582d75c3a3682f5805cb53', 'department': 'Crew', 'gender': 1, 'id': 1552179, 'job': 'Post Production Supervisor', 'name': 'Tricia Miles', 'profile_path': None}, {'credit_id': '58582d89925141724d034050', 'department': 'Crew', 'gender': 0, 'id': 1552180, 'job': 'Production Intern', 'name': 'Joe Gonzalez', 'profile_path': None}, {'credit_id': '58582db892514146c904dd1c', 'department': 'Crew', 'gender': 0, 'id': 1552181, 'job': 'Property Master', 'name': 'Chris Call', 'profile_path': None}, {'credit_id': '58582dcd92514146c904dd38', 'department': 'Crew', 'gender': 0, 'id': 1552182, 'job': 'Set Production Assistant', 'name': 'Michael Etheridge', 'profile_path': None}, {'credit_id': '58582de5c3a3682fb806f6f6', 'department': 'Crew', 'gender': 0, 'id': 1552184, 'job': 'Sound Recordist', 'name': 'Mike Day', 'profile_path': None}, {'credit_id': '58582e8fc3a368258c0579a9', 'department': 'Crew', 'gender': 0, 'id': 1552186, 'job': 'Transportation Coordinator', 'name': \"James 'Obee' Oberman\", 'profile_path': None}, {'credit_id': '58582ecfc3a3683150058f1a', 'department': 'Crew', 'gender': 0, 'id': 1552187, 'job': 'Video Assist Operator', 'name': 'Lance Jay Velazco', 'profile_path': None}, {'credit_id': '58582f19925141594100d176', 'department': 'Editing', 'gender': 0, 'id': 1552188, 'job': 'Color Timer', 'name': 'Phil Hetos', 'profile_path': None}, {'credit_id': '58582f4b9251411a46061311', 'department': 'Editing', 'gender': 2, 'id': 1552190, 'job': 'First Assistant Editor', 'name': 'Danny Miller', 'profile_path': None}, {'credit_id': '58582f8bc3a3683150058fbc', 'department': 'Lighting', 'gender': 0, 'id': 1552193, 'job': 'Gaffer', 'name': 'Dexter Eneriz', 'profile_path': None}, {'credit_id': '585830c792514175ad05370c', 'department': 'Sound', 'gender': 2, 'id': 1552533, 'job': 'Music Supervisor', 'name': 'Gary Jones', 'profile_path': None}, {'credit_id': '58582cbec3a368258c05780c', 'department': 'Costume & Make-Up', 'gender': 0, 'id': 1593980, 'job': 'Makeup Artist', 'name': 'Kelly M. Beatty', 'profile_path': None}, {'credit_id': '58582bbdc3a3682dfe060fd8', 'department': 'Camera', 'gender': 0, 'id': 1724854, 'job': 'Grip', 'name': 'David Knudson', 'profile_path': None}, {'credit_id': '58582cefc3a3682fb806f611', 'department': 'Costume & Make-Up', 'gender': 0, 'id': 1724860, 'job': 'Set Dressing Artist', 'name': 'Jeff Snyder', 'profile_path': None}, {'credit_id': '58582f7f92514146c904dea7', 'department': 'Lighting', 'gender': 0, 'id': 1724862, 'job': 'Electrician', 'name': 'Kevin Caine', 'profile_path': None}, {'credit_id': '58582faac3a36827a5058fae', 'department': 'Lighting', 'gender': 0, 'id': 1724863, 'job': 'Rigging Grip', 'name': 'Mark Aldahl', 'profile_path': None}, {'credit_id': '58582fda92514146c904deea', 'department': 'Production', 'gender': 0, 'id': 1724864, 'job': 'Location Manager', 'name': 'Geoffrey R. Smith', 'profile_path': None}, {'credit_id': '5858302b9251416f630644ba', 'department': 'Production', 'gender': 0, 'id': 1724865, 'job': 'Production Accountant', 'name': 'Joe Murphy', 'profile_path': None}, {'credit_id': '5858306292514146c904df56', 'department': 'Production', 'gender': 0, 'id': 1724866, 'job': 'Publicist', 'name': 'Blanche Aurore Duault', 'profile_path': None}, {'credit_id': '5858306e9251416fad05ded5', 'department': 'Sound', 'gender': 2, 'id': 1724867, 'job': 'ADR & Dubbing', 'name': 'Norval D. Crutcher III', 'profile_path': None}, {'credit_id': '5858308b925141594100d295', 'department': 'Sound', 'gender': 0, 'id': 1724868, 'job': 'First Assistant Sound Editor', 'name': 'Samuel Webb', 'profile_path': None}, {'credit_id': '5858310ec3a3682fb806f9d3', 'department': 'Sound', 'gender': 0, 'id': 1724869, 'job': 'Scoring Mixer', 'name': 'Guy Defazio', 'profile_path': None}, {'credit_id': '58583149c3a3682f5805ce2a', 'department': 'Sound', 'gender': 0, 'id': 1724870, 'job': 'Sound Effects Editor', 'name': 'William Hopper', 'profile_path': None}]    1\n",
       "[{'credit_id': '53578493c3a36855f2002905', 'department': 'Production', 'gender': 1, 'id': 2952, 'job': 'Casting', 'name': 'Avy Kaufman', 'profile_path': '/yQPGktsmkKkhkOQAUlmYlxHJOiJ.jpg'}, {'credit_id': '535784bdc3a36856010028ba', 'department': 'Sound', 'gender': 2, 'id': 7229, 'job': 'Music', 'name': 'Marco Beltrami', 'profile_path': '/tTBQHKWVieP5ARRfJRMkbnLTW6C.jpg'}, {'credit_id': '52fe466bc3a36847f80fe15f', 'department': 'Directing', 'gender': 2, 'id': 5140, 'job': 'Director', 'name': 'Wes Craven', 'profile_path': '/vffssPtgNn2ZwoMfLCCDJAxlXGI.jpg'}, {'credit_id': '53578450c3a36855f2002903', 'department': 'Production', 'gender': 2, 'id': 5140, 'job': 'Producer', 'name': 'Wes Craven', 'profile_path': '/vffssPtgNn2ZwoMfLCCDJAxlXGI.jpg'}, {'credit_id': '52fe466bc3a36847f80fe165', 'department': 'Writing', 'gender': 2, 'id': 5140, 'job': 'Writer', 'name': 'Wes Craven', 'profile_path': '/vffssPtgNn2ZwoMfLCCDJAxlXGI.jpg'}, {'credit_id': '5357846bc3a3685619002825', 'department': 'Production', 'gender': 2, 'id': 60187, 'job': 'Producer', 'name': 'Anthony Katagas', 'profile_path': None}, {'credit_id': '5357847fc3a36856010028b6', 'department': 'Production', 'gender': 0, 'id': 1312509, 'job': 'Producer', 'name': 'Iya Labunka', 'profile_path': None}, {'credit_id': '535784a8c3a3685619002828', 'department': 'Camera', 'gender': 1, 'id': 1312510, 'job': 'Director of Photography', 'name': 'Petra Korner', 'profile_path': None}, {'credit_id': '5955117bc3a3680d73047ced', 'department': 'Costume & Make-Up', 'gender': 0, 'id': 1327146, 'job': 'Costume Supervisor', 'name': 'Wendy M. Craig', 'profile_path': None}, {'credit_id': '575da939c3a3680470000012', 'department': 'Costume & Make-Up', 'gender': 0, 'id': 1594602, 'job': 'Costume Design', 'name': 'Kurt and Bart', 'profile_path': None}]                                                                                                                                                                                                                                                                                                                                                                                                                                                                                                                                                                                                                                                                                                                                                                                                                                                                                                                                                                                                                                                                                                                                                                                                                                                                                                                                                                                                                                                                                                                                                                                                                                                                                                                                                                                                                                                                                                                                                                                                                                                                                                                                                                                                                                                                                                                                                                                                                                                                                                                                                                                                                                                                                                                                                                                                                                                                                                                                                                                                                                                                                                                                                                                                                                                                                                                                                                                                                                                                                                                                                                                                                                                                                                                                                                                                                                                                                                                                                                                                                                                                                                                                                                                                                                                                                                                                                                                                                                                                                                                                                                                                                                                                                                                                                                                                                                                                                                                                                                                                                                                                                                                                                                                                                                                                                                                                                                                                                                                                                                                                                                                                                                                                                                                                                                                                                                                                                                                                                                                                                                                                                                                                                                                                                                                                                                                                                                                                                                                                                                                                                                                                                                                                                                                                                                                                                                                                                                                                                                                                                                                                                                                                                                                                                                                                                                                                                                                                                                                                                                                                                                                                                                                                                                                                                                                                                                                                                                                                                                                                                                                                                                                                                                                                                                                                                                                                                                                                                                                                                                                                                                                                                                                                                                                                                                                                                                                                                                                                                                                                                                                                                                                                                                                                                                                                                                                                                                                                                                                                                                                                                                                                                                                                                                                                                                                                                                                                                                                                                                                                                                                                                                                                                                                                                                                                                                                                                                                                                                                                                                                                                                                                                                                                                                                                                                                                                                                                                                                                                                                                                                                                                                                                                                                                                                                                                                                                                                                                                                                                                                                                                                                                                                                                                                                                                                                                                                                                                                                                                                                                                                                                                                                                                                                                                                                                                                                                                                                                                                                                                                                                                                                                                                                                                                                                                                                                                                                                                                                                                                                                                                                                                                                                                                                                                                                                                                                                                                                             1\n",
       "[{'credit_id': '52fe422bc3a36847f8009737', 'department': 'Directing', 'gender': 2, 'id': 1776, 'job': 'Director', 'name': 'Francis Ford Coppola', 'profile_path': '/vEGwqahu7UlI6OwELy92xbXk9Kd.jpg'}, {'credit_id': '52fe422bc3a36847f800973d', 'department': 'Production', 'gender': 2, 'id': 1776, 'job': 'Producer', 'name': 'Francis Ford Coppola', 'profile_path': '/vEGwqahu7UlI6OwELy92xbXk9Kd.jpg'}, {'credit_id': '52fe422bc3a36847f8009743', 'department': 'Production', 'gender': 2, 'id': 2870, 'job': 'Producer', 'name': 'Gray Frederickson', 'profile_path': None}, {'credit_id': '52fe422bc3a36847f8009749', 'department': 'Production', 'gender': 2, 'id': 3219, 'job': 'Producer', 'name': 'Fred Fuchs', 'profile_path': None}, {'credit_id': '52fe422bc3a36847f800974f', 'department': 'Production', 'gender': 0, 'id': 3220, 'job': 'Producer', 'name': 'Nicholas Gage', 'profile_path': None}, {'credit_id': '52fe422bc3a36847f8009755', 'department': 'Production', 'gender': 1, 'id': 3221, 'job': 'Producer', 'name': 'Marina Gefter', 'profile_path': None}, {'credit_id': '52fe422bc3a36847f800975b', 'department': 'Production', 'gender': 2, 'id': 3222, 'job': 'Producer', 'name': 'Charles Mulvehill', 'profile_path': None}, {'credit_id': '52fe422bc3a36847f8009761', 'department': 'Production', 'gender': 2, 'id': 2871, 'job': 'Producer', 'name': 'Fred Roos', 'profile_path': None}, {'credit_id': '52fe422bc3a36847f8009773', 'department': 'Camera', 'gender': 2, 'id': 3097, 'job': 'Director of Photography', 'name': 'Gordon Willis', 'profile_path': '/6gOmfatlF7UdhaHi2tPsZMb5vmz.jpg'}, {'credit_id': '52fe422bc3a36847f8009779', 'department': 'Production', 'gender': 1, 'id': 2874, 'job': 'Casting', 'name': 'Janet Hirshenson', 'profile_path': None}, {'credit_id': '52fe422bc3a36847f8009797', 'department': 'Sound', 'gender': 2, 'id': 2872, 'job': 'Original Music Composer', 'name': 'Carmine Coppola', 'profile_path': '/kMTbFLKb8wzgRMCUx6aVy8GxIoq.jpg'}, {'credit_id': '52fe422bc3a36847f800979d', 'department': 'Editing', 'gender': 1, 'id': 3274, 'job': 'Editor', 'name': 'Lisa Fruchtman', 'profile_path': None}, {'credit_id': '52fe422bc3a36847f80097a3', 'department': 'Editing', 'gender': 2, 'id': 2988, 'job': 'Editor', 'name': 'Barry Malkin', 'profile_path': None}, {'credit_id': '52fe422bc3a36847f80097a9', 'department': 'Editing', 'gender': 2, 'id': 154, 'job': 'Editor', 'name': 'Walter Murch', 'profile_path': None}, {'credit_id': '52fe422bc3a36847f80097af', 'department': 'Production', 'gender': 1, 'id': 3275, 'job': 'Casting', 'name': 'Jane Jenkins', 'profile_path': '/aVOlC6UkKaxZpzvpdRxCjkMtJHI.jpg'}, {'credit_id': '52fe422bc3a36847f80097b5', 'department': 'Production', 'gender': 2, 'id': 3276, 'job': 'Casting', 'name': 'Roger Mussenden', 'profile_path': None}, {'credit_id': '52fe422bc3a36847f80097bb', 'department': 'Art', 'gender': 2, 'id': 2875, 'job': 'Production Design', 'name': 'Dean Tavoularis', 'profile_path': None}, {'credit_id': '52fe422bc3a36847f80097cd', 'department': 'Writing', 'gender': 2, 'id': 3083, 'job': 'Screenplay', 'name': 'Mario Puzo', 'profile_path': '/sxZPpfKJ1Rr9vlO5eVZs0tyCv5u.jpg'}, {'credit_id': '52fe422bc3a36847f80097d3', 'department': 'Writing', 'gender': 2, 'id': 1776, 'job': 'Screenplay', 'name': 'Francis Ford Coppola', 'profile_path': '/vEGwqahu7UlI6OwELy92xbXk9Kd.jpg'}, {'credit_id': '56355dd6c3a3681b4d01aea7', 'department': 'Sound', 'gender': 2, 'id': 3278, 'job': 'Music Editor', 'name': 'Mark Adler', 'profile_path': None}, {'credit_id': '56355e30925141284c018c99', 'department': 'Crew', 'gender': 0, 'id': 3277, 'job': 'Sound Recordist', 'name': 'Andy Aaron', 'profile_path': None}, {'credit_id': '56355ef5c3a3681b5401916c', 'department': 'Crew', 'gender': 2, 'id': 8432, 'job': 'Stunt Coordinator', 'name': 'Buddy Joe Hooker', 'profile_path': '/gTgymZkBBvwI7wnsoPTWC28gzLU.jpg'}, {'credit_id': '56355e49c3a3681b5201867e', 'department': 'Costume & Make-Up', 'gender': 1, 'id': 5671, 'job': 'Costume Design', 'name': 'Milena Canonero', 'profile_path': None}, {'credit_id': '56fb31ca92514130800009da', 'department': 'Crew', 'gender': 0, 'id': 4659, 'job': 'Special Effects', 'name': 'Giovanni Corridori', 'profile_path': None}]                                                                                                                                                                                                                                                                                                                                                                                                                                                                                                                                                                                                                                                                                                                                                                                                                                                                                                                                                                                                                                                                                                                                                                                                                                                                                                                                                                                                                                                                                                                                                                                                                                                                                                                                                                                                                                                                                                                                                                                                                                                                                                                                                                                                                                                                                                                                                                                                                                                                                                                                                                                                                                                                                                                                                                                                                                                                                                                                                                                                                                                                                                                                                                                                                                                                                                                                                                                                                                                                                                                                                                                                                                                                                                                                                                                                                                                                                                                                                                                                                                                                                                                                                                                                                                                                                                                                                                                                                                                                                                                                                                                                                                                                                                                                                                                                                                                                                                                                                                                                                                                                                                                                                                                                                                                                                                                                                                                                                                                                                                                                                                                                                                                                                                                                                                                                                                                                                                                                                                                                                                                                                                                                                                                                                                                                                                                                                                                                                                                                                                                                                                                                                                                                                                                                                                                                                                                                                                                                                                                                                                                                                                                                                                                                                                                                                                                                                                                                                                                                                                                                                                                                                                                                                                                                                                                                                                                                                                                                                                                                                                                                                                                                                                                                                                                                                                                                                                                                                                                                                                                                                                                                                                                                                                                                                                                                                                                                                                                                                                                                                                                                                                                                                                                                                                                                                                                                                                                                                                                                                                                                                                                                                                                                                                                                                                                                                                                                                                                                                                                                                                                                                                                                                                                                                                                                                                                                                                                                                                                                                                                                                                                                                                                                                                                                                                                                                                                                                                                    1\n",
       "[{'credit_id': '53ec7644c3a3682ac800099b', 'department': 'Writing', 'gender': 2, 'id': 109542, 'job': 'Screenplay', 'name': 'Christopher Yost', 'profile_path': '/6v1wkHdEAuwD8M8i0yWa3LYvoxS.jpg'}, {'credit_id': '53eb383c0e0a265f42000e7f', 'department': 'Directing', 'gender': 2, 'id': 130837, 'job': 'Director', 'name': 'Stewart Hendler', 'profile_path': '/fEtto46PxSZjRrAZnfZPB5wKY3f.jpg'}, {'credit_id': '57125d5a9251413031000af6', 'department': 'Crew', 'gender': 0, 'id': 1407019, 'job': 'Visual Effects Editor', 'name': 'Mark Edward Wright', 'profile_path': None}]                                                                                                                                                                                                                                                                                                                                                                                                                                                                                                                                                                                                                                                                                                                                                                                                                                                                                                                                                                                                                                                                                                                                                                                                                                                                                                                                                                                                                                                                                                                                                                                                                                                                                                                                                                                                                                                                                                                                                                                                                                                                                                                                                                                                                                                                                                                                                                                                                                                                                                                                                                                                                                                                                                                                                                                                                                                                                                                                                                                                                                                                                                                                                                                                                                                                                                                                                                                                                                                                                                                                                                                                                                                                                                                                                                                                                                                                                                                                                                                                                                                                                                                                                                                                                                                                                                                                                                                                                                                                                                                                                                                                                                                                                                                                                                                                                                                                                                                                                                                                                                                                                                                                                                                                                                                                                                                                                                                                                                                                                                                                                                                                                                                                                                                                                                                                                                                                                                                                                                                                                                                                                                                                                                                                                                                                                                                                                                                                                                                                                                                                                                                                                                                                                                                                                                                                                                                                                                                                                                                                                                                                                                                                                                                                                                                                                                                                                                                                                                                                                                                                                                                                                                                                                                                                                                                                                                                                                                                                                                                                                                                                                                                                                                                                                                                                                                                                                                                                                                                                                                                                                                                                                                                                                                                                                                                                                                                                                                                                                                                                                                                                                                                                                                                                                                                                                                                                                                                                                                                                                                                                                                                                                                                                                                                                                                                                                                                                                                                                                                                                                                                                                                                                                                                                                                                                                                                                                                                                                                                                                                                                                                                                                                                                                                                                                                                                                                                                                                                                                                                                                                                                                                                                                                                                                                                                                                                                                                                                                                                                                                                                                                                                                                                                                                                                                                                                                                                                                                                                                                                                                                                                                                                                                                                                                                                                                                                                                                                                                                                                                                                                                                                                                                                                                                                                                                                                                                                                                                                                                                                                                                                                                                                                                                                                                                                                                                                                                                                                                                                                                                                                                                                                                                                                                                                                                                                                                                                                                                                                                                                                                                                                                                                                                                                                                                                                                                                                                                                                                                                                                                                                                                                                                                                                            1\n",
       "[{'credit_id': '52fe4648c3a368484e088379', 'department': 'Directing', 'gender': 2, 'id': 6729, 'job': 'Director', 'name': 'Robert Benton', 'profile_path': '/wVaHC1VX9yBg9MIEC7POAJ0JlUo.jpg'}, {'credit_id': '555b3fa4c3a36810890022bd', 'department': 'Writing', 'gender': 2, 'id': 6729, 'job': 'Writer', 'name': 'Robert Benton', 'profile_path': '/wVaHC1VX9yBg9MIEC7POAJ0JlUo.jpg'}]                                                                                                                                                                                                                                                                                                                                                                                                                                                                                                                                                                                                                                                                                                                                                                                                                                                                                                                                                                                                                                                                                                                                                                                                                                                                                                                                                                                                                                                                                                                                                                                                                                                                                                                                                                                                                                                                                                                                                                                                                                                                                                                                                                                                                                                                                                                                                                                                                                                                                                                                                                                                                                                                                                                                                                                                                                                                                                                                                                                                                                                                                                                                                                                                                                                                                                                                                                                                                                                                                                                                                                                                                                                                                                                                                                                                                                                                                                                                                                                                                                                                                                                                                                                                                                                                                                                                                                                                                                                                                                                                                                                                                                                                                                                                                                                                                                                                                                                                                                                                                                                                                                                                                                                                                                                                                                                                                                                                                                                                                                                                                                                                                                                                                                                                                                                                                                                                                                                                                                                                                                                                                                                                                                                                                                                                                                                                                                                                                                                                                                                                                                                                                                                                                                                                                                                                                                                                                                                                                                                                                                                                                                                                                                                                                                                                                                                                                                                                                                                                                                                                                                                                                                                                                                                                                                                                                                                                                                                                                                                                                                                                                                                                                                                                                                                                                                                                                                                                                                                                                                                                                                                                                                                                                                                                                                                                                                                                                                                                                                                                                                                                                                                                                                                                                                                                                                                                                                                                                                                                                                                                                                                                                                                                                                                                                                                                                                                                                                                                                                                                                                                                                                                                                                                                                                                                                                                                                                                                                                                                                                                                                                                                                                                                                                                                                                                                                                                                                                                                                                                                                                                                                                                                                                                                                                                                                                                                                                                                                                                                                                                                                                                                                                                                                                                                                                                                                                                                                                                                                                                                                                                                                                                                                                                                                                                                                                                                                                                                                                                                                                                                                                                                                                                                                                                                                                                                                                                                                                                                                                                                                                                                                                                                                                                                                                                                                                                                                                                                                                                                                                                                                                                                                                                                                                                                                                                                                                                                                                                                                                                                                                                                                                                                                                                                                                                                                                                                                                                                                                                                                                                                                                                                                                                                                                                                                                                                                                                                          1\n",
       "Name: crew, Length: 2984, dtype: int64"
      ]
     },
     "execution_count": 12,
     "metadata": {},
     "output_type": "execute_result"
    }
   ],
   "source": [
    "train.crew.value_counts()"
   ]
  },
  {
   "cell_type": "markdown",
   "metadata": {
    "papermill": {
     "duration": 0.061253,
     "end_time": "2020-11-08T15:24:55.494494",
     "exception": false,
     "start_time": "2020-11-08T15:24:55.433241",
     "status": "completed"
    },
    "tags": []
   },
   "source": [
    "**Revenue:** Total revenue earned by a movie in dollars. (Label)"
   ]
  },
  {
   "cell_type": "code",
   "execution_count": 13,
   "metadata": {
    "execution": {
     "iopub.execute_input": "2020-11-08T15:24:55.625826Z",
     "iopub.status.busy": "2020-11-08T15:24:55.622881Z",
     "iopub.status.idle": "2020-11-08T15:24:55.633891Z",
     "shell.execute_reply": "2020-11-08T15:24:55.634456Z"
    },
    "papermill": {
     "duration": 0.078554,
     "end_time": "2020-11-08T15:24:55.634660",
     "exception": false,
     "start_time": "2020-11-08T15:24:55.556106",
     "status": "completed"
    },
    "tags": []
   },
   "outputs": [
    {
     "data": {
      "text/plain": [
       "revenue       1.000000\n",
       "budget        0.752965\n",
       "popularity    0.461460\n",
       "runtime       0.216380\n",
       "id            0.000610\n",
       "Name: revenue, dtype: float64"
      ]
     },
     "execution_count": 13,
     "metadata": {},
     "output_type": "execute_result"
    }
   ],
   "source": [
    "# checking how the train data correlates to label(revenue)\n",
    "\n",
    "corr_matrix = train.corr()\n",
    "corr_matrix[\"revenue\"].sort_values(ascending=False)"
   ]
  },
  {
   "cell_type": "markdown",
   "metadata": {
    "papermill": {
     "duration": 0.062249,
     "end_time": "2020-11-08T15:24:55.760011",
     "exception": false,
     "start_time": "2020-11-08T15:24:55.697762",
     "status": "completed"
    },
    "tags": []
   },
   "source": [
    "\n",
    "\n",
    "**4. Preparing the data**\n",
    "\n",
    "Time to fix the things that needed fixing, a lot of cleaning needed:\n"
   ]
  },
  {
   "cell_type": "markdown",
   "metadata": {
    "papermill": {
     "duration": 0.06073,
     "end_time": "2020-11-08T15:24:55.881734",
     "exception": false,
     "start_time": "2020-11-08T15:24:55.821004",
     "status": "completed"
    },
    "tags": []
   },
   "source": [
    "**release_date**"
   ]
  },
  {
   "cell_type": "code",
   "execution_count": 14,
   "metadata": {
    "execution": {
     "iopub.execute_input": "2020-11-08T15:24:56.033008Z",
     "iopub.status.busy": "2020-11-08T15:24:56.012326Z",
     "iopub.status.idle": "2020-11-08T15:24:56.731835Z",
     "shell.execute_reply": "2020-11-08T15:24:56.731214Z"
    },
    "papermill": {
     "duration": 0.78944,
     "end_time": "2020-11-08T15:24:56.731972",
     "exception": false,
     "start_time": "2020-11-08T15:24:55.942532",
     "status": "completed"
    },
    "tags": []
   },
   "outputs": [
    {
     "data": {
      "text/html": [
       "<div>\n",
       "<style scoped>\n",
       "    .dataframe tbody tr th:only-of-type {\n",
       "        vertical-align: middle;\n",
       "    }\n",
       "\n",
       "    .dataframe tbody tr th {\n",
       "        vertical-align: top;\n",
       "    }\n",
       "\n",
       "    .dataframe thead th {\n",
       "        text-align: right;\n",
       "    }\n",
       "</style>\n",
       "<table border=\"1\" class=\"dataframe\">\n",
       "  <thead>\n",
       "    <tr style=\"text-align: right;\">\n",
       "      <th></th>\n",
       "      <th>release_year</th>\n",
       "      <th>release_month</th>\n",
       "    </tr>\n",
       "  </thead>\n",
       "  <tbody>\n",
       "    <tr>\n",
       "      <th>count</th>\n",
       "      <td>3000.000000</td>\n",
       "      <td>3000.000000</td>\n",
       "    </tr>\n",
       "    <tr>\n",
       "      <th>mean</th>\n",
       "      <td>2004.779667</td>\n",
       "      <td>6.775333</td>\n",
       "    </tr>\n",
       "    <tr>\n",
       "      <th>std</th>\n",
       "      <td>15.664767</td>\n",
       "      <td>3.409115</td>\n",
       "    </tr>\n",
       "    <tr>\n",
       "      <th>min</th>\n",
       "      <td>1970.000000</td>\n",
       "      <td>1.000000</td>\n",
       "    </tr>\n",
       "    <tr>\n",
       "      <th>25%</th>\n",
       "      <td>1995.000000</td>\n",
       "      <td>4.000000</td>\n",
       "    </tr>\n",
       "    <tr>\n",
       "      <th>50%</th>\n",
       "      <td>2006.000000</td>\n",
       "      <td>7.000000</td>\n",
       "    </tr>\n",
       "    <tr>\n",
       "      <th>75%</th>\n",
       "      <td>2012.000000</td>\n",
       "      <td>10.000000</td>\n",
       "    </tr>\n",
       "    <tr>\n",
       "      <th>max</th>\n",
       "      <td>2069.000000</td>\n",
       "      <td>12.000000</td>\n",
       "    </tr>\n",
       "  </tbody>\n",
       "</table>\n",
       "</div>"
      ],
      "text/plain": [
       "       release_year  release_month\n",
       "count   3000.000000    3000.000000\n",
       "mean    2004.779667       6.775333\n",
       "std       15.664767       3.409115\n",
       "min     1970.000000       1.000000\n",
       "25%     1995.000000       4.000000\n",
       "50%     2006.000000       7.000000\n",
       "75%     2012.000000      10.000000\n",
       "max     2069.000000      12.000000"
      ]
     },
     "execution_count": 14,
     "metadata": {},
     "output_type": "execute_result"
    }
   ],
   "source": [
    "# Splitting release_date into multiple columns\n",
    "def date_features(df):\n",
    "    df['release_date'] = pd.to_datetime(df['release_date'])\n",
    "    df['release_year'] = df['release_date'].dt.year\n",
    "    df['release_month'] = df['release_date'].dt.month\n",
    "    df.drop(columns=['release_date'], inplace=True)\n",
    "    return df\n",
    "\n",
    "train = date_features(train)\n",
    "test = date_features(test)\n",
    "\n",
    "#What have we done!?\n",
    "train[[\"release_year\", \"release_month\"]].describe()"
   ]
  },
  {
   "cell_type": "markdown",
   "metadata": {
    "papermill": {
     "duration": 0.071878,
     "end_time": "2020-11-08T15:24:56.880009",
     "exception": false,
     "start_time": "2020-11-08T15:24:56.808131",
     "status": "completed"
    },
    "tags": []
   },
   "source": [
    "I'm slightly worried about release_year = 2069 (hopefully its back to the future) lets check this:"
   ]
  },
  {
   "cell_type": "code",
   "execution_count": 15,
   "metadata": {
    "execution": {
     "iopub.execute_input": "2020-11-08T15:24:57.023158Z",
     "iopub.status.busy": "2020-11-08T15:24:57.019121Z",
     "iopub.status.idle": "2020-11-08T15:24:57.062246Z",
     "shell.execute_reply": "2020-11-08T15:24:57.061455Z"
    },
    "papermill": {
     "duration": 0.117321,
     "end_time": "2020-11-08T15:24:57.062379",
     "exception": false,
     "start_time": "2020-11-08T15:24:56.945058",
     "status": "completed"
    },
    "tags": []
   },
   "outputs": [
    {
     "data": {
      "text/html": [
       "<div>\n",
       "<style scoped>\n",
       "    .dataframe tbody tr th:only-of-type {\n",
       "        vertical-align: middle;\n",
       "    }\n",
       "\n",
       "    .dataframe tbody tr th {\n",
       "        vertical-align: top;\n",
       "    }\n",
       "\n",
       "    .dataframe thead th {\n",
       "        text-align: right;\n",
       "    }\n",
       "</style>\n",
       "<table border=\"1\" class=\"dataframe\">\n",
       "  <thead>\n",
       "    <tr style=\"text-align: right;\">\n",
       "      <th></th>\n",
       "      <th>id</th>\n",
       "      <th>belongs_to_collection</th>\n",
       "      <th>budget</th>\n",
       "      <th>genres</th>\n",
       "      <th>homepage</th>\n",
       "      <th>imdb_id</th>\n",
       "      <th>original_language</th>\n",
       "      <th>original_title</th>\n",
       "      <th>overview</th>\n",
       "      <th>popularity</th>\n",
       "      <th>...</th>\n",
       "      <th>spoken_languages</th>\n",
       "      <th>status</th>\n",
       "      <th>tagline</th>\n",
       "      <th>title</th>\n",
       "      <th>Keywords</th>\n",
       "      <th>cast</th>\n",
       "      <th>crew</th>\n",
       "      <th>revenue</th>\n",
       "      <th>release_year</th>\n",
       "      <th>release_month</th>\n",
       "    </tr>\n",
       "  </thead>\n",
       "  <tbody>\n",
       "    <tr>\n",
       "      <th>39</th>\n",
       "      <td>40</td>\n",
       "      <td>NaN</td>\n",
       "      <td>3800000</td>\n",
       "      <td>[{'id': 10752, 'name': 'War'}, {'id': 37, 'nam...</td>\n",
       "      <td>NaN</td>\n",
       "      <td>tt0059418</td>\n",
       "      <td>en</td>\n",
       "      <td>Major Dundee</td>\n",
       "      <td>During the last winter of the Civil War, caval...</td>\n",
       "      <td>3.055936</td>\n",
       "      <td>...</td>\n",
       "      <td>[{'iso_639_1': 'en', 'name': 'English'}, {'iso...</td>\n",
       "      <td>Released</td>\n",
       "      <td>NaN</td>\n",
       "      <td>Major Dundee</td>\n",
       "      <td>[{'id': 534, 'name': 'mexico'}, {'id': 1968, '...</td>\n",
       "      <td>[{'cast_id': 1, 'character': 'Major Amos Charl...</td>\n",
       "      <td>[{'credit_id': '52fe45f5c3a368484e078d7b', 'de...</td>\n",
       "      <td>14873</td>\n",
       "      <td>2065</td>\n",
       "      <td>4</td>\n",
       "    </tr>\n",
       "    <tr>\n",
       "      <th>41</th>\n",
       "      <td>42</td>\n",
       "      <td>NaN</td>\n",
       "      <td>3000000</td>\n",
       "      <td>[{'id': 80, 'name': 'Crime'}, {'id': 18, 'name...</td>\n",
       "      <td>NaN</td>\n",
       "      <td>tt0061512</td>\n",
       "      <td>en</td>\n",
       "      <td>Cool Hand Luke</td>\n",
       "      <td>When petty criminal Luke Jackson is sentenced ...</td>\n",
       "      <td>9.718713</td>\n",
       "      <td>...</td>\n",
       "      <td>[{'iso_639_1': 'en', 'name': 'English'}]</td>\n",
       "      <td>Released</td>\n",
       "      <td>What we've got here is failure to communicate.</td>\n",
       "      <td>Cool Hand Luke</td>\n",
       "      <td>[{'id': 378, 'name': 'prison'}, {'id': 526, 'n...</td>\n",
       "      <td>[{'cast_id': 13, 'character': 'Luke Jackson', ...</td>\n",
       "      <td>[{'credit_id': '52fe428ac3a36847f8026d8d', 'de...</td>\n",
       "      <td>16217773</td>\n",
       "      <td>2067</td>\n",
       "      <td>6</td>\n",
       "    </tr>\n",
       "    <tr>\n",
       "      <th>48</th>\n",
       "      <td>49</td>\n",
       "      <td>NaN</td>\n",
       "      <td>0</td>\n",
       "      <td>[{'id': 18, 'name': 'Drama'}, {'id': 35, 'name...</td>\n",
       "      <td>NaN</td>\n",
       "      <td>tt1781058</td>\n",
       "      <td>en</td>\n",
       "      <td>Wilson</td>\n",
       "      <td>Middle-aged and divorced, Wilson finds himself...</td>\n",
       "      <td>8.984386</td>\n",
       "      <td>...</td>\n",
       "      <td>[{'iso_639_1': 'en', 'name': 'English'}]</td>\n",
       "      <td>Released</td>\n",
       "      <td>NaN</td>\n",
       "      <td>Wilson</td>\n",
       "      <td>[{'id': 2487, 'name': 'naivety'}, {'id': 2794,...</td>\n",
       "      <td>[{'cast_id': 5, 'character': 'Wilson', 'credit...</td>\n",
       "      <td>[{'credit_id': '5590cb95c3a36807f6000075', 'de...</td>\n",
       "      <td>653951</td>\n",
       "      <td>2017</td>\n",
       "      <td>3</td>\n",
       "    </tr>\n",
       "    <tr>\n",
       "      <th>51</th>\n",
       "      <td>52</td>\n",
       "      <td>NaN</td>\n",
       "      <td>12000000</td>\n",
       "      <td>[{'id': 12, 'name': 'Adventure'}, {'id': 35, '...</td>\n",
       "      <td>NaN</td>\n",
       "      <td>tt0059243</td>\n",
       "      <td>en</td>\n",
       "      <td>The Great Race</td>\n",
       "      <td>Professional daredevil and white-suited hero, ...</td>\n",
       "      <td>4.473327</td>\n",
       "      <td>...</td>\n",
       "      <td>[{'iso_639_1': 'en', 'name': 'English'}, {'iso...</td>\n",
       "      <td>Released</td>\n",
       "      <td>The movie with 20,000-mile or one-million-laug...</td>\n",
       "      <td>The Great Race</td>\n",
       "      <td>[{'id': 9253, 'name': 'slapstick'}, {'id': 159...</td>\n",
       "      <td>[{'cast_id': 1, 'character': 'Prof. Fate', 'cr...</td>\n",
       "      <td>[{'credit_id': '52fe445e9251416c75032581', 'de...</td>\n",
       "      <td>25333333</td>\n",
       "      <td>2065</td>\n",
       "      <td>7</td>\n",
       "    </tr>\n",
       "    <tr>\n",
       "      <th>61</th>\n",
       "      <td>62</td>\n",
       "      <td>NaN</td>\n",
       "      <td>4000000</td>\n",
       "      <td>[{'id': 18, 'name': 'Drama'}]</td>\n",
       "      <td>NaN</td>\n",
       "      <td>tt0049875</td>\n",
       "      <td>en</td>\n",
       "      <td>Trapeze</td>\n",
       "      <td>A pair of men try to perform the dangerous \"tr...</td>\n",
       "      <td>1.801071</td>\n",
       "      <td>...</td>\n",
       "      <td>[{'iso_639_1': 'en', 'name': 'English'}, {'iso...</td>\n",
       "      <td>Released</td>\n",
       "      <td>High...High...High...Above Them All! - in exci...</td>\n",
       "      <td>Trapeze</td>\n",
       "      <td>[{'id': 291, 'name': 'circus'}, {'id': 180181,...</td>\n",
       "      <td>[{'cast_id': 2, 'character': 'Mike Ribble', 'c...</td>\n",
       "      <td>[{'credit_id': '52fe4594c3a36847f80cf3b9', 'de...</td>\n",
       "      <td>14400000</td>\n",
       "      <td>2056</td>\n",
       "      <td>5</td>\n",
       "    </tr>\n",
       "    <tr>\n",
       "      <th>...</th>\n",
       "      <td>...</td>\n",
       "      <td>...</td>\n",
       "      <td>...</td>\n",
       "      <td>...</td>\n",
       "      <td>...</td>\n",
       "      <td>...</td>\n",
       "      <td>...</td>\n",
       "      <td>...</td>\n",
       "      <td>...</td>\n",
       "      <td>...</td>\n",
       "      <td>...</td>\n",
       "      <td>...</td>\n",
       "      <td>...</td>\n",
       "      <td>...</td>\n",
       "      <td>...</td>\n",
       "      <td>...</td>\n",
       "      <td>...</td>\n",
       "      <td>...</td>\n",
       "      <td>...</td>\n",
       "      <td>...</td>\n",
       "      <td>...</td>\n",
       "    </tr>\n",
       "    <tr>\n",
       "      <th>2945</th>\n",
       "      <td>2946</td>\n",
       "      <td>NaN</td>\n",
       "      <td>1000000</td>\n",
       "      <td>[{'id': 12, 'name': 'Adventure'}, {'id': 35, '...</td>\n",
       "      <td>NaN</td>\n",
       "      <td>tt0057590</td>\n",
       "      <td>en</td>\n",
       "      <td>Tom Jones</td>\n",
       "      <td>Tom loves Sophie and Sophie loves Tom. But Tom...</td>\n",
       "      <td>3.315827</td>\n",
       "      <td>...</td>\n",
       "      <td>[{'iso_639_1': 'en', 'name': 'English'}]</td>\n",
       "      <td>Released</td>\n",
       "      <td>Tom Jones! . . . loves and loves and loves and...</td>\n",
       "      <td>Tom Jones</td>\n",
       "      <td>[{'id': 5626, 'name': 'from rags to riches'}, ...</td>\n",
       "      <td>[{'cast_id': 6, 'character': 'Tom Jones', 'cre...</td>\n",
       "      <td>[{'credit_id': '52fe4421c3a36847f8084025', 'de...</td>\n",
       "      <td>37600000</td>\n",
       "      <td>2063</td>\n",
       "      <td>10</td>\n",
       "    </tr>\n",
       "    <tr>\n",
       "      <th>2946</th>\n",
       "      <td>2947</td>\n",
       "      <td>NaN</td>\n",
       "      <td>483103</td>\n",
       "      <td>[{'id': 18, 'name': 'Drama'}, {'id': 35, 'name...</td>\n",
       "      <td>NaN</td>\n",
       "      <td>tt0018183</td>\n",
       "      <td>en</td>\n",
       "      <td>My Best Girl</td>\n",
       "      <td>Joe Merrill, son of the millionaire owner of a...</td>\n",
       "      <td>0.205671</td>\n",
       "      <td>...</td>\n",
       "      <td>[{'iso_639_1': 'en', 'name': 'English'}]</td>\n",
       "      <td>Released</td>\n",
       "      <td>NaN</td>\n",
       "      <td>My Best Girl</td>\n",
       "      <td>NaN</td>\n",
       "      <td>[{'cast_id': 1, 'character': 'Maggie Johnson',...</td>\n",
       "      <td>[{'credit_id': '58f2c8ac9251413d6e007220', 'de...</td>\n",
       "      <td>1027757</td>\n",
       "      <td>2027</td>\n",
       "      <td>10</td>\n",
       "    </tr>\n",
       "    <tr>\n",
       "      <th>2962</th>\n",
       "      <td>2963</td>\n",
       "      <td>NaN</td>\n",
       "      <td>20000000</td>\n",
       "      <td>[{'id': 18, 'name': 'Drama'}, {'id': 14, 'name...</td>\n",
       "      <td>http://www.theshack.movie</td>\n",
       "      <td>tt2872518</td>\n",
       "      <td>en</td>\n",
       "      <td>The Shack</td>\n",
       "      <td>After suffering a family tragedy, Mack Phillip...</td>\n",
       "      <td>16.392712</td>\n",
       "      <td>...</td>\n",
       "      <td>[{'iso_639_1': 'en', 'name': 'English'}]</td>\n",
       "      <td>Released</td>\n",
       "      <td>You're never as alone as you think.</td>\n",
       "      <td>The Shack</td>\n",
       "      <td>[{'id': 818, 'name': 'based on novel'}, {'id':...</td>\n",
       "      <td>[{'cast_id': 0, 'character': 'Mack Phillips', ...</td>\n",
       "      <td>[{'credit_id': '591ed967c3a368799b03016c', 'de...</td>\n",
       "      <td>57330873</td>\n",
       "      <td>2017</td>\n",
       "      <td>3</td>\n",
       "    </tr>\n",
       "    <tr>\n",
       "      <th>2967</th>\n",
       "      <td>2968</td>\n",
       "      <td>[{'id': 387219, 'name': 'The Hustler Collectio...</td>\n",
       "      <td>2000000</td>\n",
       "      <td>[{'id': 18, 'name': 'Drama'}]</td>\n",
       "      <td>NaN</td>\n",
       "      <td>tt0054997</td>\n",
       "      <td>en</td>\n",
       "      <td>The Hustler</td>\n",
       "      <td>Fast Eddie Felson is a small-time pool hustler...</td>\n",
       "      <td>9.333533</td>\n",
       "      <td>...</td>\n",
       "      <td>[{'iso_639_1': 'en', 'name': 'English'}]</td>\n",
       "      <td>Released</td>\n",
       "      <td>They called him Fast Eddie. He was a winner. H...</td>\n",
       "      <td>The Hustler</td>\n",
       "      <td>[{'id': 236, 'name': 'suicide'}, {'id': 395, '...</td>\n",
       "      <td>[{'cast_id': 15, 'character': 'Eddie Felson', ...</td>\n",
       "      <td>[{'credit_id': '52fe4297c3a36847f802a989', 'de...</td>\n",
       "      <td>7600000</td>\n",
       "      <td>2061</td>\n",
       "      <td>9</td>\n",
       "    </tr>\n",
       "    <tr>\n",
       "      <th>2992</th>\n",
       "      <td>2993</td>\n",
       "      <td>NaN</td>\n",
       "      <td>1135654</td>\n",
       "      <td>[{'id': 28, 'name': 'Action'}, {'id': 12, 'nam...</td>\n",
       "      <td>NaN</td>\n",
       "      <td>tt0015400</td>\n",
       "      <td>en</td>\n",
       "      <td>The Thief of Bagdad</td>\n",
       "      <td>A recalcitrant thief vies with a duplicitous M...</td>\n",
       "      <td>3.878515</td>\n",
       "      <td>...</td>\n",
       "      <td>[{'iso_639_1': 'xx', 'name': 'No Language'}]</td>\n",
       "      <td>Released</td>\n",
       "      <td>\"Happiness Must Be Earned\"</td>\n",
       "      <td>The Thief of Bagdad</td>\n",
       "      <td>[{'id': 255, 'name': 'male nudity'}, {'id': 14...</td>\n",
       "      <td>[{'cast_id': 3, 'character': 'The Thief of Bag...</td>\n",
       "      <td>[{'credit_id': '52fe45bec3a368484e06c70b', 'de...</td>\n",
       "      <td>1213880</td>\n",
       "      <td>2024</td>\n",
       "      <td>3</td>\n",
       "    </tr>\n",
       "  </tbody>\n",
       "</table>\n",
       "<p>192 rows × 24 columns</p>\n",
       "</div>"
      ],
      "text/plain": [
       "        id                              belongs_to_collection    budget  \\\n",
       "39      40                                                NaN   3800000   \n",
       "41      42                                                NaN   3000000   \n",
       "48      49                                                NaN         0   \n",
       "51      52                                                NaN  12000000   \n",
       "61      62                                                NaN   4000000   \n",
       "...    ...                                                ...       ...   \n",
       "2945  2946                                                NaN   1000000   \n",
       "2946  2947                                                NaN    483103   \n",
       "2962  2963                                                NaN  20000000   \n",
       "2967  2968  [{'id': 387219, 'name': 'The Hustler Collectio...   2000000   \n",
       "2992  2993                                                NaN   1135654   \n",
       "\n",
       "                                                 genres  \\\n",
       "39    [{'id': 10752, 'name': 'War'}, {'id': 37, 'nam...   \n",
       "41    [{'id': 80, 'name': 'Crime'}, {'id': 18, 'name...   \n",
       "48    [{'id': 18, 'name': 'Drama'}, {'id': 35, 'name...   \n",
       "51    [{'id': 12, 'name': 'Adventure'}, {'id': 35, '...   \n",
       "61                        [{'id': 18, 'name': 'Drama'}]   \n",
       "...                                                 ...   \n",
       "2945  [{'id': 12, 'name': 'Adventure'}, {'id': 35, '...   \n",
       "2946  [{'id': 18, 'name': 'Drama'}, {'id': 35, 'name...   \n",
       "2962  [{'id': 18, 'name': 'Drama'}, {'id': 14, 'name...   \n",
       "2967                      [{'id': 18, 'name': 'Drama'}]   \n",
       "2992  [{'id': 28, 'name': 'Action'}, {'id': 12, 'nam...   \n",
       "\n",
       "                       homepage    imdb_id original_language  \\\n",
       "39                          NaN  tt0059418                en   \n",
       "41                          NaN  tt0061512                en   \n",
       "48                          NaN  tt1781058                en   \n",
       "51                          NaN  tt0059243                en   \n",
       "61                          NaN  tt0049875                en   \n",
       "...                         ...        ...               ...   \n",
       "2945                        NaN  tt0057590                en   \n",
       "2946                        NaN  tt0018183                en   \n",
       "2962  http://www.theshack.movie  tt2872518                en   \n",
       "2967                        NaN  tt0054997                en   \n",
       "2992                        NaN  tt0015400                en   \n",
       "\n",
       "           original_title                                           overview  \\\n",
       "39           Major Dundee  During the last winter of the Civil War, caval...   \n",
       "41         Cool Hand Luke  When petty criminal Luke Jackson is sentenced ...   \n",
       "48                 Wilson  Middle-aged and divorced, Wilson finds himself...   \n",
       "51         The Great Race  Professional daredevil and white-suited hero, ...   \n",
       "61                Trapeze  A pair of men try to perform the dangerous \"tr...   \n",
       "...                   ...                                                ...   \n",
       "2945            Tom Jones  Tom loves Sophie and Sophie loves Tom. But Tom...   \n",
       "2946         My Best Girl  Joe Merrill, son of the millionaire owner of a...   \n",
       "2962            The Shack  After suffering a family tragedy, Mack Phillip...   \n",
       "2967          The Hustler  Fast Eddie Felson is a small-time pool hustler...   \n",
       "2992  The Thief of Bagdad  A recalcitrant thief vies with a duplicitous M...   \n",
       "\n",
       "      popularity  ...                                   spoken_languages  \\\n",
       "39      3.055936  ...  [{'iso_639_1': 'en', 'name': 'English'}, {'iso...   \n",
       "41      9.718713  ...           [{'iso_639_1': 'en', 'name': 'English'}]   \n",
       "48      8.984386  ...           [{'iso_639_1': 'en', 'name': 'English'}]   \n",
       "51      4.473327  ...  [{'iso_639_1': 'en', 'name': 'English'}, {'iso...   \n",
       "61      1.801071  ...  [{'iso_639_1': 'en', 'name': 'English'}, {'iso...   \n",
       "...          ...  ...                                                ...   \n",
       "2945    3.315827  ...           [{'iso_639_1': 'en', 'name': 'English'}]   \n",
       "2946    0.205671  ...           [{'iso_639_1': 'en', 'name': 'English'}]   \n",
       "2962   16.392712  ...           [{'iso_639_1': 'en', 'name': 'English'}]   \n",
       "2967    9.333533  ...           [{'iso_639_1': 'en', 'name': 'English'}]   \n",
       "2992    3.878515  ...       [{'iso_639_1': 'xx', 'name': 'No Language'}]   \n",
       "\n",
       "        status                                            tagline  \\\n",
       "39    Released                                                NaN   \n",
       "41    Released     What we've got here is failure to communicate.   \n",
       "48    Released                                                NaN   \n",
       "51    Released  The movie with 20,000-mile or one-million-laug...   \n",
       "61    Released  High...High...High...Above Them All! - in exci...   \n",
       "...        ...                                                ...   \n",
       "2945  Released  Tom Jones! . . . loves and loves and loves and...   \n",
       "2946  Released                                                NaN   \n",
       "2962  Released                You're never as alone as you think.   \n",
       "2967  Released  They called him Fast Eddie. He was a winner. H...   \n",
       "2992  Released                         \"Happiness Must Be Earned\"   \n",
       "\n",
       "                    title                                           Keywords  \\\n",
       "39           Major Dundee  [{'id': 534, 'name': 'mexico'}, {'id': 1968, '...   \n",
       "41         Cool Hand Luke  [{'id': 378, 'name': 'prison'}, {'id': 526, 'n...   \n",
       "48                 Wilson  [{'id': 2487, 'name': 'naivety'}, {'id': 2794,...   \n",
       "51         The Great Race  [{'id': 9253, 'name': 'slapstick'}, {'id': 159...   \n",
       "61                Trapeze  [{'id': 291, 'name': 'circus'}, {'id': 180181,...   \n",
       "...                   ...                                                ...   \n",
       "2945            Tom Jones  [{'id': 5626, 'name': 'from rags to riches'}, ...   \n",
       "2946         My Best Girl                                                NaN   \n",
       "2962            The Shack  [{'id': 818, 'name': 'based on novel'}, {'id':...   \n",
       "2967          The Hustler  [{'id': 236, 'name': 'suicide'}, {'id': 395, '...   \n",
       "2992  The Thief of Bagdad  [{'id': 255, 'name': 'male nudity'}, {'id': 14...   \n",
       "\n",
       "                                                   cast  \\\n",
       "39    [{'cast_id': 1, 'character': 'Major Amos Charl...   \n",
       "41    [{'cast_id': 13, 'character': 'Luke Jackson', ...   \n",
       "48    [{'cast_id': 5, 'character': 'Wilson', 'credit...   \n",
       "51    [{'cast_id': 1, 'character': 'Prof. Fate', 'cr...   \n",
       "61    [{'cast_id': 2, 'character': 'Mike Ribble', 'c...   \n",
       "...                                                 ...   \n",
       "2945  [{'cast_id': 6, 'character': 'Tom Jones', 'cre...   \n",
       "2946  [{'cast_id': 1, 'character': 'Maggie Johnson',...   \n",
       "2962  [{'cast_id': 0, 'character': 'Mack Phillips', ...   \n",
       "2967  [{'cast_id': 15, 'character': 'Eddie Felson', ...   \n",
       "2992  [{'cast_id': 3, 'character': 'The Thief of Bag...   \n",
       "\n",
       "                                                   crew   revenue  \\\n",
       "39    [{'credit_id': '52fe45f5c3a368484e078d7b', 'de...     14873   \n",
       "41    [{'credit_id': '52fe428ac3a36847f8026d8d', 'de...  16217773   \n",
       "48    [{'credit_id': '5590cb95c3a36807f6000075', 'de...    653951   \n",
       "51    [{'credit_id': '52fe445e9251416c75032581', 'de...  25333333   \n",
       "61    [{'credit_id': '52fe4594c3a36847f80cf3b9', 'de...  14400000   \n",
       "...                                                 ...       ...   \n",
       "2945  [{'credit_id': '52fe4421c3a36847f8084025', 'de...  37600000   \n",
       "2946  [{'credit_id': '58f2c8ac9251413d6e007220', 'de...   1027757   \n",
       "2962  [{'credit_id': '591ed967c3a368799b03016c', 'de...  57330873   \n",
       "2967  [{'credit_id': '52fe4297c3a36847f802a989', 'de...   7600000   \n",
       "2992  [{'credit_id': '52fe45bec3a368484e06c70b', 'de...   1213880   \n",
       "\n",
       "     release_year release_month  \n",
       "39           2065             4  \n",
       "41           2067             6  \n",
       "48           2017             3  \n",
       "51           2065             7  \n",
       "61           2056             5  \n",
       "...           ...           ...  \n",
       "2945         2063            10  \n",
       "2946         2027            10  \n",
       "2962         2017             3  \n",
       "2967         2061             9  \n",
       "2992         2024             3  \n",
       "\n",
       "[192 rows x 24 columns]"
      ]
     },
     "execution_count": 15,
     "metadata": {},
     "output_type": "execute_result"
    }
   ],
   "source": [
    "train[train[\"release_year\"] >=2017]"
   ]
  },
  {
   "cell_type": "markdown",
   "metadata": {
    "papermill": {
     "duration": 0.063123,
     "end_time": "2020-11-08T15:24:57.189189",
     "exception": false,
     "start_time": "2020-11-08T15:24:57.126066",
     "status": "completed"
    },
    "tags": []
   },
   "source": [
    "Ok so we can note two things. The \"newest\" movies are from 2017. And the movies from the future is actually from the past i.e. The Hustler('2061') is actually from 1961.\n",
    "\n",
    "Let's check if the same is true for the test set:"
   ]
  },
  {
   "cell_type": "code",
   "execution_count": 16,
   "metadata": {
    "execution": {
     "iopub.execute_input": "2020-11-08T15:24:57.327066Z",
     "iopub.status.busy": "2020-11-08T15:24:57.325795Z",
     "iopub.status.idle": "2020-11-08T15:24:57.341992Z",
     "shell.execute_reply": "2020-11-08T15:24:57.341253Z"
    },
    "papermill": {
     "duration": 0.088817,
     "end_time": "2020-11-08T15:24:57.342123",
     "exception": false,
     "start_time": "2020-11-08T15:24:57.253306",
     "status": "completed"
    },
    "tags": []
   },
   "outputs": [
    {
     "data": {
      "text/html": [
       "<div>\n",
       "<style scoped>\n",
       "    .dataframe tbody tr th:only-of-type {\n",
       "        vertical-align: middle;\n",
       "    }\n",
       "\n",
       "    .dataframe tbody tr th {\n",
       "        vertical-align: top;\n",
       "    }\n",
       "\n",
       "    .dataframe thead th {\n",
       "        text-align: right;\n",
       "    }\n",
       "</style>\n",
       "<table border=\"1\" class=\"dataframe\">\n",
       "  <thead>\n",
       "    <tr style=\"text-align: right;\">\n",
       "      <th></th>\n",
       "      <th>release_year</th>\n",
       "      <th>release_month</th>\n",
       "    </tr>\n",
       "  </thead>\n",
       "  <tbody>\n",
       "    <tr>\n",
       "      <th>count</th>\n",
       "      <td>4397.000000</td>\n",
       "      <td>4397.000000</td>\n",
       "    </tr>\n",
       "    <tr>\n",
       "      <th>mean</th>\n",
       "      <td>2004.678645</td>\n",
       "      <td>6.889015</td>\n",
       "    </tr>\n",
       "    <tr>\n",
       "      <th>std</th>\n",
       "      <td>16.053531</td>\n",
       "      <td>3.370233</td>\n",
       "    </tr>\n",
       "    <tr>\n",
       "      <th>min</th>\n",
       "      <td>1970.000000</td>\n",
       "      <td>1.000000</td>\n",
       "    </tr>\n",
       "    <tr>\n",
       "      <th>25%</th>\n",
       "      <td>1995.000000</td>\n",
       "      <td>4.000000</td>\n",
       "    </tr>\n",
       "    <tr>\n",
       "      <th>50%</th>\n",
       "      <td>2006.000000</td>\n",
       "      <td>7.000000</td>\n",
       "    </tr>\n",
       "    <tr>\n",
       "      <th>75%</th>\n",
       "      <td>2012.000000</td>\n",
       "      <td>10.000000</td>\n",
       "    </tr>\n",
       "    <tr>\n",
       "      <th>max</th>\n",
       "      <td>2069.000000</td>\n",
       "      <td>12.000000</td>\n",
       "    </tr>\n",
       "  </tbody>\n",
       "</table>\n",
       "</div>"
      ],
      "text/plain": [
       "       release_year  release_month\n",
       "count   4397.000000    4397.000000\n",
       "mean    2004.678645       6.889015\n",
       "std       16.053531       3.370233\n",
       "min     1970.000000       1.000000\n",
       "25%     1995.000000       4.000000\n",
       "50%     2006.000000       7.000000\n",
       "75%     2012.000000      10.000000\n",
       "max     2069.000000      12.000000"
      ]
     },
     "execution_count": 16,
     "metadata": {},
     "output_type": "execute_result"
    }
   ],
   "source": [
    "test[[\"release_year\", \"release_month\"]].describe()"
   ]
  },
  {
   "cell_type": "markdown",
   "metadata": {
    "papermill": {
     "duration": 0.065679,
     "end_time": "2020-11-08T15:24:57.524460",
     "exception": false,
     "start_time": "2020-11-08T15:24:57.458781",
     "status": "completed"
    },
    "tags": []
   },
   "source": [
    "Yes, all movies prior to 1970 has been misslabled as 20??. So we can correct this or we can just remove the incorrect values. If the point is to predict future releases you probably should opt for removing old films.\n"
   ]
  },
  {
   "cell_type": "code",
   "execution_count": 17,
   "metadata": {
    "execution": {
     "iopub.execute_input": "2020-11-08T15:24:57.665127Z",
     "iopub.status.busy": "2020-11-08T15:24:57.664344Z",
     "iopub.status.idle": "2020-11-08T15:24:57.671533Z",
     "shell.execute_reply": "2020-11-08T15:24:57.672229Z"
    },
    "papermill": {
     "duration": 0.082799,
     "end_time": "2020-11-08T15:24:57.672403",
     "exception": false,
     "start_time": "2020-11-08T15:24:57.589604",
     "status": "completed"
    },
    "tags": []
   },
   "outputs": [
    {
     "data": {
      "text/plain": [
       "count    3000.000000\n",
       "mean     1999.713000\n",
       "std        15.423313\n",
       "min      1921.000000\n",
       "25%      1993.000000\n",
       "50%      2004.000000\n",
       "75%      2011.000000\n",
       "max      2017.000000\n",
       "Name: release_year, dtype: float64"
      ]
     },
     "execution_count": 17,
     "metadata": {},
     "output_type": "execute_result"
    }
   ],
   "source": [
    "# For now lets just do some simple subtraction\n",
    "train['release_year']=np.where(train['release_year']> 2018, train['release_year']-100, train['release_year'])\n",
    "test['release_year']=np.where(test['release_year']> 2018, test['release_year']-100, test['release_year'])\n",
    "train.release_year.describe()"
   ]
  },
  {
   "cell_type": "markdown",
   "metadata": {
    "papermill": {
     "duration": 0.065618,
     "end_time": "2020-11-08T15:24:57.802492",
     "exception": false,
     "start_time": "2020-11-08T15:24:57.736874",
     "status": "completed"
    },
    "tags": []
   },
   "source": [
    "**Original Language**"
   ]
  },
  {
   "cell_type": "code",
   "execution_count": 18,
   "metadata": {
    "execution": {
     "iopub.execute_input": "2020-11-08T15:24:57.945719Z",
     "iopub.status.busy": "2020-11-08T15:24:57.944654Z",
     "iopub.status.idle": "2020-11-08T15:24:57.962140Z",
     "shell.execute_reply": "2020-11-08T15:24:57.961527Z"
    },
    "papermill": {
     "duration": 0.095096,
     "end_time": "2020-11-08T15:24:57.962277",
     "exception": false,
     "start_time": "2020-11-08T15:24:57.867181",
     "status": "completed"
    },
    "tags": []
   },
   "outputs": [],
   "source": [
    "for col in ['original_language']:\n",
    "    le = LabelEncoder()\n",
    "    le.fit(list(train[col].fillna('')) + list(test[col].fillna('')))\n",
    "    train[col] = le.transform(train[col].fillna('').astype(str))\n",
    "    test[col] = le.transform(test[col].fillna('').astype(str))\n",
    "    train.original_language.describe()"
   ]
  },
  {
   "cell_type": "markdown",
   "metadata": {
    "papermill": {
     "duration": 0.065146,
     "end_time": "2020-11-08T15:24:58.092747",
     "exception": false,
     "start_time": "2020-11-08T15:24:58.027601",
     "status": "completed"
    },
    "tags": []
   },
   "source": [
    "**Genres**"
   ]
  },
  {
   "cell_type": "code",
   "execution_count": 19,
   "metadata": {
    "execution": {
     "iopub.execute_input": "2020-11-08T15:24:58.252830Z",
     "iopub.status.busy": "2020-11-08T15:24:58.242411Z",
     "iopub.status.idle": "2020-11-08T15:24:58.733253Z",
     "shell.execute_reply": "2020-11-08T15:24:58.732486Z"
    },
    "papermill": {
     "duration": 0.57554,
     "end_time": "2020-11-08T15:24:58.733377",
     "exception": false,
     "start_time": "2020-11-08T15:24:58.157837",
     "status": "completed"
    },
    "tags": []
   },
   "outputs": [
    {
     "data": {
      "text/plain": [
       "0                            [Comedy]\n",
       "1    [Comedy, Drama, Family, Romance]\n",
       "2                             [Drama]\n",
       "3                   [Thriller, Drama]\n",
       "4                  [Action, Thriller]\n",
       "Name: genres, dtype: object"
      ]
     },
     "execution_count": 19,
     "metadata": {},
     "output_type": "execute_result"
    }
   ],
   "source": [
    "# Apply the same preprocessing on the string values\n",
    "train.genres = train.genres.apply(lambda x: list(map(lambda d: list(d.values())[1], ast.literal_eval(x)) if isinstance(x, str) else []))\n",
    "test.genres = test.genres.apply(lambda x: list(map(lambda d: list(d.values())[1], ast.literal_eval(x)) if isinstance(x, str) else []))\n",
    "\n",
    "train.genres.head()"
   ]
  },
  {
   "cell_type": "code",
   "execution_count": 20,
   "metadata": {
    "execution": {
     "iopub.execute_input": "2020-11-08T15:24:58.880895Z",
     "iopub.status.busy": "2020-11-08T15:24:58.879976Z",
     "iopub.status.idle": "2020-11-08T15:24:58.884767Z",
     "shell.execute_reply": "2020-11-08T15:24:58.884034Z"
    },
    "papermill": {
     "duration": 0.084527,
     "end_time": "2020-11-08T15:24:58.884892",
     "exception": false,
     "start_time": "2020-11-08T15:24:58.800365",
     "status": "completed"
    },
    "tags": []
   },
   "outputs": [
    {
     "data": {
      "text/plain": [
       "Counter({'Comedy': 2605,\n",
       "         'Drama': 3676,\n",
       "         'Family': 675,\n",
       "         'Romance': 1435,\n",
       "         'Thriller': 1869,\n",
       "         'Action': 1735,\n",
       "         'Animation': 382,\n",
       "         'Adventure': 1116,\n",
       "         'Horror': 735,\n",
       "         'Documentary': 221,\n",
       "         'Music': 267,\n",
       "         'Crime': 1084,\n",
       "         'Science Fiction': 744,\n",
       "         'Mystery': 550,\n",
       "         'Foreign': 84,\n",
       "         'Fantasy': 628,\n",
       "         'War': 243,\n",
       "         'Western': 117,\n",
       "         'History': 295,\n",
       "         'TV Movie': 1})"
      ]
     },
     "execution_count": 20,
     "metadata": {},
     "output_type": "execute_result"
    }
   ],
   "source": [
    "genres = Counter(itertools.chain.from_iterable(pd.concat((train.genres, test.genres), axis=0).values))\n",
    "genres"
   ]
  },
  {
   "cell_type": "code",
   "execution_count": 21,
   "metadata": {
    "execution": {
     "iopub.execute_input": "2020-11-08T15:24:59.028724Z",
     "iopub.status.busy": "2020-11-08T15:24:59.027110Z",
     "iopub.status.idle": "2020-11-08T15:24:59.245997Z",
     "shell.execute_reply": "2020-11-08T15:24:59.245222Z"
    },
    "papermill": {
     "duration": 0.294663,
     "end_time": "2020-11-08T15:24:59.246146",
     "exception": false,
     "start_time": "2020-11-08T15:24:58.951483",
     "status": "completed"
    },
    "tags": []
   },
   "outputs": [
    {
     "name": "stdout",
     "output_type": "stream",
     "text": [
      "CPU times: user 223 ms, sys: 9.52 ms, total: 233 ms\n",
      "Wall time: 213 ms\n"
     ]
    }
   ],
   "source": [
    "%%time\n",
    "temp_train = train[['id', 'genres']]\n",
    "temp_test = test[['id', 'genres']]\n",
    "\n",
    "for g in genres:\n",
    "    temp_train[g] = temp_train.genres.apply(lambda x: 1 if g in x else 0)\n",
    "    temp_test[g] = temp_test.genres.apply(lambda x: 1 if g in x else 0)\n",
    "    \n",
    "X_train = temp_train.drop(['genres', 'id'], axis=1).values\n",
    "X_test = temp_test.drop(['genres', 'id'], axis=1).values\n",
    "\n",
    "# Number of features we want for genres\n",
    "n_comp_genres = 3\n",
    "\n",
    "# Build the SVD pipeline\n",
    "svd = make_pipeline(\n",
    "    TruncatedSVD(n_components=n_comp_genres),\n",
    "    Normalizer(norm='l2', copy=False)\n",
    ")\n",
    "\n",
    "# Here are our new features\n",
    "f_train = svd.fit_transform(X_train)\n",
    "f_test = svd.transform(X_test)\n"
   ]
  },
  {
   "cell_type": "code",
   "execution_count": 22,
   "metadata": {
    "execution": {
     "iopub.execute_input": "2020-11-08T15:24:59.391559Z",
     "iopub.status.busy": "2020-11-08T15:24:59.390527Z",
     "iopub.status.idle": "2020-11-08T15:24:59.395428Z",
     "shell.execute_reply": "2020-11-08T15:24:59.394774Z"
    },
    "papermill": {
     "duration": 0.078907,
     "end_time": "2020-11-08T15:24:59.395565",
     "exception": false,
     "start_time": "2020-11-08T15:24:59.316658",
     "status": "completed"
    },
    "tags": []
   },
   "outputs": [
    {
     "data": {
      "text/plain": [
       "['Comedy',\n",
       " 'Drama',\n",
       " 'Family',\n",
       " 'Romance',\n",
       " 'Thriller',\n",
       " 'Action',\n",
       " 'Animation',\n",
       " 'Adventure',\n",
       " 'Horror',\n",
       " 'Documentary',\n",
       " 'Music',\n",
       " 'Crime',\n",
       " 'Science Fiction',\n",
       " 'Mystery',\n",
       " 'Foreign',\n",
       " 'Fantasy',\n",
       " 'War',\n",
       " 'Western',\n",
       " 'History']"
      ]
     },
     "execution_count": 22,
     "metadata": {},
     "output_type": "execute_result"
    }
   ],
   "source": [
    "my_genres = [g for g in genres if g != 'TV Movie']\n",
    "my_genres\n"
   ]
  },
  {
   "cell_type": "code",
   "execution_count": 23,
   "metadata": {
    "execution": {
     "iopub.execute_input": "2020-11-08T15:24:59.545146Z",
     "iopub.status.busy": "2020-11-08T15:24:59.543503Z",
     "iopub.status.idle": "2020-11-08T15:24:59.585750Z",
     "shell.execute_reply": "2020-11-08T15:24:59.586318Z"
    },
    "papermill": {
     "duration": 0.122509,
     "end_time": "2020-11-08T15:24:59.586490",
     "exception": false,
     "start_time": "2020-11-08T15:24:59.463981",
     "status": "completed"
    },
    "tags": []
   },
   "outputs": [
    {
     "name": "stdout",
     "output_type": "stream",
     "text": [
      "<class 'pandas.core.frame.DataFrame'>\n",
      "RangeIndex: 3000 entries, 0 to 2999\n",
      "Data columns (total 44 columns):\n",
      " #   Column                 Non-Null Count  Dtype  \n",
      "---  ------                 --------------  -----  \n",
      " 0   id                     3000 non-null   int64  \n",
      " 1   belongs_to_collection  604 non-null    object \n",
      " 2   budget                 3000 non-null   int64  \n",
      " 3   genres                 3000 non-null   object \n",
      " 4   homepage               946 non-null    object \n",
      " 5   imdb_id                3000 non-null   object \n",
      " 6   original_language      3000 non-null   int64  \n",
      " 7   original_title         3000 non-null   object \n",
      " 8   overview               2992 non-null   object \n",
      " 9   popularity             3000 non-null   float64\n",
      " 10  poster_path            2999 non-null   object \n",
      " 11  production_companies   2844 non-null   object \n",
      " 12  production_countries   2945 non-null   object \n",
      " 13  runtime                2998 non-null   float64\n",
      " 14  spoken_languages       2980 non-null   object \n",
      " 15  status                 3000 non-null   object \n",
      " 16  tagline                2403 non-null   object \n",
      " 17  title                  3000 non-null   object \n",
      " 18  Keywords               2724 non-null   object \n",
      " 19  cast                   2987 non-null   object \n",
      " 20  crew                   2984 non-null   object \n",
      " 21  revenue                3000 non-null   int64  \n",
      " 22  release_year           3000 non-null   int64  \n",
      " 23  release_month          3000 non-null   int64  \n",
      " 24  genres                 3000 non-null   object \n",
      " 25  Comedy                 3000 non-null   int64  \n",
      " 26  Drama                  3000 non-null   int64  \n",
      " 27  Family                 3000 non-null   int64  \n",
      " 28  Romance                3000 non-null   int64  \n",
      " 29  Thriller               3000 non-null   int64  \n",
      " 30  Action                 3000 non-null   int64  \n",
      " 31  Animation              3000 non-null   int64  \n",
      " 32  Adventure              3000 non-null   int64  \n",
      " 33  Horror                 3000 non-null   int64  \n",
      " 34  Documentary            3000 non-null   int64  \n",
      " 35  Music                  3000 non-null   int64  \n",
      " 36  Crime                  3000 non-null   int64  \n",
      " 37  Science Fiction        3000 non-null   int64  \n",
      " 38  Mystery                3000 non-null   int64  \n",
      " 39  Foreign                3000 non-null   int64  \n",
      " 40  Fantasy                3000 non-null   int64  \n",
      " 41  War                    3000 non-null   int64  \n",
      " 42  Western                3000 non-null   int64  \n",
      " 43  History                3000 non-null   int64  \n",
      "dtypes: float64(2), int64(25), object(17)\n",
      "memory usage: 1.0+ MB\n"
     ]
    }
   ],
   "source": [
    "train = pd.concat([train, temp_train.iloc[:,1:]], axis=1) \n",
    "train.drop(train.columns[-1],axis=1, inplace = True)\n",
    "\n",
    "test = pd.concat([test, temp_test.iloc[:,1:]], axis=1) \n",
    "test.drop(test.columns[-1], axis=1, inplace = True)\n",
    "\n",
    "train.info()"
   ]
  },
  {
   "cell_type": "markdown",
   "metadata": {
    "papermill": {
     "duration": 0.068722,
     "end_time": "2020-11-08T15:24:59.723147",
     "exception": false,
     "start_time": "2020-11-08T15:24:59.654425",
     "status": "completed"
    },
    "tags": []
   },
   "source": [
    "**Production companies**"
   ]
  },
  {
   "cell_type": "code",
   "execution_count": 24,
   "metadata": {
    "execution": {
     "iopub.execute_input": "2020-11-08T15:24:59.915798Z",
     "iopub.status.busy": "2020-11-08T15:24:59.905492Z",
     "iopub.status.idle": "2020-11-08T15:25:15.645006Z",
     "shell.execute_reply": "2020-11-08T15:25:15.644370Z"
    },
    "papermill": {
     "duration": 15.85303,
     "end_time": "2020-11-08T15:25:15.645148",
     "exception": false,
     "start_time": "2020-11-08T15:24:59.792118",
     "status": "completed"
    },
    "tags": []
   },
   "outputs": [],
   "source": [
    "# Transforming fron JSON to Dictionary columns:\n",
    "dict_columns = ['production_companies','cast', 'crew']\n",
    "\n",
    "def text_to_dict(df):\n",
    "    for column in dict_columns:\n",
    "        df[column] = df[column].apply(lambda x: {} if pd.isna(x) else ast.literal_eval(x) )\n",
    "    return df\n",
    "        \n",
    "train = text_to_dict(train)\n",
    "test = text_to_dict(test)"
   ]
  },
  {
   "cell_type": "code",
   "execution_count": 25,
   "metadata": {
    "execution": {
     "iopub.execute_input": "2020-11-08T15:25:15.805257Z",
     "iopub.status.busy": "2020-11-08T15:25:15.793802Z",
     "iopub.status.idle": "2020-11-08T15:25:16.091308Z",
     "shell.execute_reply": "2020-11-08T15:25:16.090600Z"
    },
    "papermill": {
     "duration": 0.375147,
     "end_time": "2020-11-08T15:25:16.091435",
     "exception": false,
     "start_time": "2020-11-08T15:25:15.716288",
     "status": "completed"
    },
    "tags": []
   },
   "outputs": [
    {
     "data": {
      "image/png": "[encoded data removed]",
      "text/plain": [
       "<Figure size 720x432 with 1 Axes>"
      ]
     },
     "metadata": {},
     "output_type": "display_data"
    }
   ],
   "source": [
    "# Counting the frequency of production company \n",
    "\n",
    "list_of_companies = list(train['production_companies'].apply(lambda x: [i['name'] for i in x] if x != {} else []).values)\n",
    "\n",
    "most_common_companies=Counter([i for j in list_of_companies for i in j]).most_common(20)\n",
    "\n",
    "fig = plt.figure(figsize=(10, 6))\n",
    "data=dict(most_common_companies)\n",
    "names = list(data.keys())\n",
    "values = list(data.values())\n",
    "\n",
    "plt.barh(sorted(range(len(data)),reverse=True),values,tick_label=names, color='pink')\n",
    "plt.xlabel('Count')\n",
    "plt.title('Top 20 Production Company Count')\n",
    "plt.show()"
   ]
  },
  {
   "cell_type": "code",
   "execution_count": 26,
   "metadata": {
    "execution": {
     "iopub.execute_input": "2020-11-08T15:25:16.248239Z",
     "iopub.status.busy": "2020-11-08T15:25:16.243065Z",
     "iopub.status.idle": "2020-11-08T15:25:16.665899Z",
     "shell.execute_reply": "2020-11-08T15:25:16.665035Z"
    },
    "papermill": {
     "duration": 0.502835,
     "end_time": "2020-11-08T15:25:16.666079",
     "exception": false,
     "start_time": "2020-11-08T15:25:16.163244",
     "status": "completed"
    },
    "tags": []
   },
   "outputs": [
    {
     "name": "stdout",
     "output_type": "stream",
     "text": [
      "<class 'pandas.core.frame.DataFrame'>\n",
      "RangeIndex: 3000 entries, 0 to 2999\n",
      "Data columns (total 74 columns):\n",
      " #   Column                                                     Non-Null Count  Dtype  \n",
      "---  ------                                                     --------------  -----  \n",
      " 0   id                                                         3000 non-null   int64  \n",
      " 1   belongs_to_collection                                      604 non-null    object \n",
      " 2   budget                                                     3000 non-null   int64  \n",
      " 3   genres                                                     3000 non-null   object \n",
      " 4   homepage                                                   946 non-null    object \n",
      " 5   imdb_id                                                    3000 non-null   object \n",
      " 6   original_language                                          3000 non-null   int64  \n",
      " 7   original_title                                             3000 non-null   object \n",
      " 8   overview                                                   2992 non-null   object \n",
      " 9   popularity                                                 3000 non-null   float64\n",
      " 10  poster_path                                                2999 non-null   object \n",
      " 11  production_countries                                       2945 non-null   object \n",
      " 12  runtime                                                    2998 non-null   float64\n",
      " 13  spoken_languages                                           2980 non-null   object \n",
      " 14  status                                                     3000 non-null   object \n",
      " 15  tagline                                                    2403 non-null   object \n",
      " 16  title                                                      3000 non-null   object \n",
      " 17  Keywords                                                   2724 non-null   object \n",
      " 18  cast                                                       3000 non-null   object \n",
      " 19  crew                                                       3000 non-null   object \n",
      " 20  revenue                                                    3000 non-null   int64  \n",
      " 21  release_year                                               3000 non-null   int64  \n",
      " 22  release_month                                              3000 non-null   int64  \n",
      " 23  genres                                                     3000 non-null   object \n",
      " 24  Comedy                                                     3000 non-null   int64  \n",
      " 25  Drama                                                      3000 non-null   int64  \n",
      " 26  Family                                                     3000 non-null   int64  \n",
      " 27  Romance                                                    3000 non-null   int64  \n",
      " 28  Thriller                                                   3000 non-null   int64  \n",
      " 29  Action                                                     3000 non-null   int64  \n",
      " 30  Animation                                                  3000 non-null   int64  \n",
      " 31  Adventure                                                  3000 non-null   int64  \n",
      " 32  Horror                                                     3000 non-null   int64  \n",
      " 33  Documentary                                                3000 non-null   int64  \n",
      " 34  Music                                                      3000 non-null   int64  \n",
      " 35  Crime                                                      3000 non-null   int64  \n",
      " 36  Science Fiction                                            3000 non-null   int64  \n",
      " 37  Mystery                                                    3000 non-null   int64  \n",
      " 38  Foreign                                                    3000 non-null   int64  \n",
      " 39  Fantasy                                                    3000 non-null   int64  \n",
      " 40  War                                                        3000 non-null   int64  \n",
      " 41  Western                                                    3000 non-null   int64  \n",
      " 42  History                                                    3000 non-null   int64  \n",
      " 43  num_companies                                              3000 non-null   int64  \n",
      " 44  production_company_Warner Bros.                            3000 non-null   int64  \n",
      " 45  production_company_Universal Pictures                      3000 non-null   int64  \n",
      " 46  production_company_Paramount Pictures                      3000 non-null   int64  \n",
      " 47  production_company_Twentieth Century Fox Film Corporation  3000 non-null   int64  \n",
      " 48  production_company_Columbia Pictures                       3000 non-null   int64  \n",
      " 49  production_company_Metro-Goldwyn-Mayer (MGM)               3000 non-null   int64  \n",
      " 50  production_company_New Line Cinema                         3000 non-null   int64  \n",
      " 51  production_company_Touchstone Pictures                     3000 non-null   int64  \n",
      " 52  production_company_Walt Disney Pictures                    3000 non-null   int64  \n",
      " 53  production_company_Columbia Pictures Corporation           3000 non-null   int64  \n",
      " 54  production_company_TriStar Pictures                        3000 non-null   int64  \n",
      " 55  production_company_Relativity Media                        3000 non-null   int64  \n",
      " 56  production_company_Canal+                                  3000 non-null   int64  \n",
      " 57  production_company_United Artists                          3000 non-null   int64  \n",
      " 58  production_company_Miramax Films                           3000 non-null   int64  \n",
      " 59  production_company_Village Roadshow Pictures               3000 non-null   int64  \n",
      " 60  production_company_Regency Enterprises                     3000 non-null   int64  \n",
      " 61  production_company_BBC Films                               3000 non-null   int64  \n",
      " 62  production_company_Dune Entertainment                      3000 non-null   int64  \n",
      " 63  production_company_Working Title Films                     3000 non-null   int64  \n",
      " 64  production_company_Fox Searchlight Pictures                3000 non-null   int64  \n",
      " 65  production_company_StudioCanal                             3000 non-null   int64  \n",
      " 66  production_company_Lionsgate                               3000 non-null   int64  \n",
      " 67  production_company_DreamWorks SKG                          3000 non-null   int64  \n",
      " 68  production_company_Fox 2000 Pictures                       3000 non-null   int64  \n",
      " 69  production_company_Summit Entertainment                    3000 non-null   int64  \n",
      " 70  production_company_Hollywood Pictures                      3000 non-null   int64  \n",
      " 71  production_company_Orion Pictures                          3000 non-null   int64  \n",
      " 72  production_company_Amblin Entertainment                    3000 non-null   int64  \n",
      " 73  production_company_Dimension Films                         3000 non-null   int64  \n",
      "dtypes: float64(2), int64(56), object(16)\n",
      "memory usage: 1.7+ MB\n"
     ]
    }
   ],
   "source": [
    "train['num_companies'] = train['production_companies'].apply(lambda x: len(x) if x != {} else 0)\n",
    "train['all_production_companies'] = train['production_companies'].apply(lambda x: ' '.join(sorted([i['name'] for i in x])) if x != {} else '')\n",
    "top_companies = [m[0] for m in Counter([i for j in list_of_companies for i in j]).most_common(30)]\n",
    "for g in top_companies:\n",
    "    train['production_company_' + g] = train['all_production_companies'].apply(lambda x: 1 if g in x else 0)\n",
    "    \n",
    "test['num_companies'] = test['production_companies'].apply(lambda x: len(x) if x != {} else 0)\n",
    "test['all_production_companies'] = test['production_companies'].apply(lambda x: ' '.join(sorted([i['name'] for i in x])) if x != {} else '')\n",
    "for g in top_companies:\n",
    "    test['production_company_' + g] = test['all_production_companies'].apply(lambda x: 1 if g in x else 0)\n",
    "\n",
    "train = train.drop(['production_companies', 'all_production_companies'], axis=1)\n",
    "test = test.drop(['production_companies', 'all_production_companies'], axis=1)\n",
    "train.info()"
   ]
  },
  {
   "cell_type": "markdown",
   "metadata": {
    "papermill": {
     "duration": 0.072216,
     "end_time": "2020-11-08T15:25:16.812416",
     "exception": false,
     "start_time": "2020-11-08T15:25:16.740200",
     "status": "completed"
    },
    "tags": []
   },
   "source": [
    "**Cast**"
   ]
  },
  {
   "cell_type": "code",
   "execution_count": 27,
   "metadata": {
    "execution": {
     "iopub.execute_input": "2020-11-08T15:25:17.020077Z",
     "iopub.status.busy": "2020-11-08T15:25:16.986167Z",
     "iopub.status.idle": "2020-11-08T15:25:17.024758Z",
     "shell.execute_reply": "2020-11-08T15:25:17.024119Z"
    },
    "papermill": {
     "duration": 0.14036,
     "end_time": "2020-11-08T15:25:17.024883",
     "exception": false,
     "start_time": "2020-11-08T15:25:16.884523",
     "status": "completed"
    },
    "tags": []
   },
   "outputs": [
    {
     "data": {
      "text/plain": [
       "[('Samuel L. Jackson', 30),\n",
       " ('Robert De Niro', 30),\n",
       " ('Morgan Freeman', 27),\n",
       " ('J.K. Simmons', 25),\n",
       " ('Bruce Willis', 25),\n",
       " ('Liam Neeson', 25),\n",
       " ('Susan Sarandon', 25),\n",
       " ('Bruce McGill', 24),\n",
       " ('John Turturro', 24),\n",
       " ('Forest Whitaker', 23),\n",
       " ('Willem Dafoe', 23),\n",
       " ('Bill Murray', 22),\n",
       " ('Owen Wilson', 22),\n",
       " ('Nicolas Cage', 22),\n",
       " ('Sylvester Stallone', 21),\n",
       " ('Jason Statham', 21),\n",
       " ('Keith David', 21),\n",
       " ('John Goodman', 21),\n",
       " ('Mel Gibson', 21),\n",
       " ('Sigourney Weaver', 21)]"
      ]
     },
     "execution_count": 27,
     "metadata": {},
     "output_type": "execute_result"
    }
   ],
   "source": [
    "list_of_cast_names = list(train['cast'].apply(lambda x: [i['name'] for i in x] if x != {} else []).values)\n",
    "Counter([i for j in list_of_cast_names for i in j]).most_common(20)"
   ]
  },
  {
   "cell_type": "code",
   "execution_count": 28,
   "metadata": {
    "execution": {
     "iopub.execute_input": "2020-11-08T15:25:17.217236Z",
     "iopub.status.busy": "2020-11-08T15:25:17.203176Z",
     "iopub.status.idle": "2020-11-08T15:25:24.265137Z",
     "shell.execute_reply": "2020-11-08T15:25:24.264491Z"
    },
    "papermill": {
     "duration": 7.16824,
     "end_time": "2020-11-08T15:25:24.265278",
     "exception": false,
     "start_time": "2020-11-08T15:25:17.097038",
     "status": "completed"
    },
    "tags": []
   },
   "outputs": [],
   "source": [
    "train['num_cast'] = train['cast'].apply(lambda x: len(x) if x != {} else 0)\n",
    "top_cast_names = [m[0] for m in Counter([i for j in list_of_cast_names for i in j]).most_common(15)]\n",
    "for g in top_cast_names:\n",
    "    train['cast_name_' + g] = train['cast'].apply(lambda x: 1 if g in str(x) else 0)\n",
    "    \n",
    "test['num_cast'] = test['cast'].apply(lambda x: len(x) if x != {} else 0)\n",
    "for g in top_cast_names:\n",
    "    test['cast_name_' + g] = test['cast'].apply(lambda x: 1 if g in str(x) else 0)"
   ]
  },
  {
   "cell_type": "markdown",
   "metadata": {
    "papermill": {
     "duration": 0.071816,
     "end_time": "2020-11-08T15:25:24.409624",
     "exception": false,
     "start_time": "2020-11-08T15:25:24.337808",
     "status": "completed"
    },
    "tags": []
   },
   "source": [
    "**Crew**"
   ]
  },
  {
   "cell_type": "code",
   "execution_count": 29,
   "metadata": {
    "execution": {
     "iopub.execute_input": "2020-11-08T15:25:24.562783Z",
     "iopub.status.busy": "2020-11-08T15:25:24.562044Z",
     "iopub.status.idle": "2020-11-08T15:25:24.592456Z",
     "shell.execute_reply": "2020-11-08T15:25:24.593007Z"
    },
    "papermill": {
     "duration": 0.110533,
     "end_time": "2020-11-08T15:25:24.593169",
     "exception": false,
     "start_time": "2020-11-08T15:25:24.482636",
     "status": "completed"
    },
    "tags": []
   },
   "outputs": [
    {
     "data": {
      "text/plain": [
       "[('Ron Howard', 11),\n",
       " ('Clint Eastwood', 11),\n",
       " ('Steven Spielberg', 10),\n",
       " ('Blake Edwards', 9),\n",
       " ('Woody Allen', 9),\n",
       " ('Wes Craven', 8),\n",
       " ('Martin Scorsese', 8),\n",
       " ('Paul W.S. Anderson', 8),\n",
       " ('Alfred Hitchcock', 8),\n",
       " ('Michael Bay', 8),\n",
       " ('Francis Ford Coppola', 8),\n",
       " ('Brian De Palma', 8),\n",
       " ('Steven Soderbergh', 8),\n",
       " ('Joel Schumacher', 7),\n",
       " ('Peter Hyams', 7)]"
      ]
     },
     "execution_count": 29,
     "metadata": {},
     "output_type": "execute_result"
    }
   ],
   "source": [
    "directors = train['crew'].apply(lambda x: [i[\"name\"] for i in x if i['job'] == \"Director\"])\n",
    "Counter([i for j in directors for i in j]).most_common(15)\n"
   ]
  },
  {
   "cell_type": "code",
   "execution_count": 30,
   "metadata": {
    "execution": {
     "iopub.execute_input": "2020-11-08T15:25:24.760400Z",
     "iopub.status.busy": "2020-11-08T15:25:24.759475Z",
     "iopub.status.idle": "2020-11-08T15:25:30.763424Z",
     "shell.execute_reply": "2020-11-08T15:25:30.762118Z"
    },
    "papermill": {
     "duration": 6.097579,
     "end_time": "2020-11-08T15:25:30.763647",
     "exception": false,
     "start_time": "2020-11-08T15:25:24.666068",
     "status": "completed"
    },
    "tags": []
   },
   "outputs": [],
   "source": [
    "train['num_crew'] = train['crew'].apply(lambda x: len(x) if x != {} else 0)\n",
    "top_directors = [m[0] for m in Counter([i for j in directors for i in j]).most_common(15)]\n",
    "for g in top_directors:\n",
    "    train['director_' + g] = train['crew'].apply(lambda x: 1 if g in str(x) else 0)\n",
    "    \n",
    "test['num_crew'] = test['crew'].apply(lambda x: len(x) if x != {} else 0)\n",
    "for g in top_directors:\n",
    "    test['director_' + g] = train['crew'].apply(lambda x: 1 if g in str(x) else 0)\n"
   ]
  },
  {
   "cell_type": "markdown",
   "metadata": {
    "papermill": {
     "duration": 0.073537,
     "end_time": "2020-11-08T15:25:30.912797",
     "exception": false,
     "start_time": "2020-11-08T15:25:30.839260",
     "status": "completed"
    },
    "tags": []
   },
   "source": [
    "**Taking car of the rest:**"
   ]
  },
  {
   "cell_type": "code",
   "execution_count": 31,
   "metadata": {
    "execution": {
     "iopub.execute_input": "2020-11-08T15:25:31.073750Z",
     "iopub.status.busy": "2020-11-08T15:25:31.068624Z",
     "iopub.status.idle": "2020-11-08T15:25:31.081994Z",
     "shell.execute_reply": "2020-11-08T15:25:31.081343Z"
    },
    "papermill": {
     "duration": 0.096061,
     "end_time": "2020-11-08T15:25:31.082139",
     "exception": false,
     "start_time": "2020-11-08T15:25:30.986078",
     "status": "completed"
    },
    "tags": []
   },
   "outputs": [],
   "source": [
    "class FeatureAdder(BaseEstimator,TransformerMixin):\n",
    "    \n",
    "    def fit(self,df,y=None):\n",
    "     return self\n",
    "    \n",
    "    def transform(self,df, y=None):\n",
    "      df[\"tagline\"] = df.tagline.isnull() # Only keeping if the movie has a tagline or not\n",
    "      df[\"tagline\"] = df.tagline.astype(\"int32\")\n",
    "      df[\"homepage\"] = df.homepage.isnull() # Don't care about the address but lets check if movies with a homepage has a higher revenue(or lower).\n",
    "      df[\"homepage\"] = df.homepage.astype(\"int32\")\n",
    "      df[\"belongs_to_collection\"] = df.belongs_to_collection.isnull()\n",
    "      df[\"belongs_to_collection\"] = df.belongs_to_collection.astype(\"int32\")\n",
    "      df[\"title_length\"] = df.title.str.len()\n",
    "      df.drop(columns=[\"imdb_id\"], inplace=True)\n",
    "      df.drop(columns=[\"poster_path\"], inplace=True)\n",
    "      df.drop(columns=[\"status\"], inplace=True)\n",
    "      df.drop(columns=[\"overview\"], inplace=True)\n",
    "      df.drop(columns=[\"original_title\"], inplace=True)\n",
    "      df.drop(columns=[\"spoken_languages\"], inplace=True)\n",
    "      df.drop(columns=[\"Keywords\"], inplace=True)\n",
    "      df.drop(columns=[\"production_countries\"], inplace=True)\n",
    "      df.drop(columns=[\"title\"], inplace=True)\n",
    "      df.drop(columns=['crew'], inplace=True)\n",
    "      df.drop(columns=['genres'], inplace=True)\n",
    "      df.drop(columns=['cast'], inplace=True)\n",
    "        \n",
    "      return df"
   ]
  },
  {
   "cell_type": "code",
   "execution_count": 32,
   "metadata": {
    "execution": {
     "iopub.execute_input": "2020-11-08T15:25:31.239603Z",
     "iopub.status.busy": "2020-11-08T15:25:31.238777Z",
     "iopub.status.idle": "2020-11-08T15:25:31.292439Z",
     "shell.execute_reply": "2020-11-08T15:25:31.291762Z"
    },
    "papermill": {
     "duration": 0.135857,
     "end_time": "2020-11-08T15:25:31.292561",
     "exception": false,
     "start_time": "2020-11-08T15:25:31.156704",
     "status": "completed"
    },
    "tags": []
   },
   "outputs": [
    {
     "data": {
      "text/html": [
       "<div>\n",
       "<style scoped>\n",
       "    .dataframe tbody tr th:only-of-type {\n",
       "        vertical-align: middle;\n",
       "    }\n",
       "\n",
       "    .dataframe tbody tr th {\n",
       "        vertical-align: top;\n",
       "    }\n",
       "\n",
       "    .dataframe thead th {\n",
       "        text-align: right;\n",
       "    }\n",
       "</style>\n",
       "<table border=\"1\" class=\"dataframe\">\n",
       "  <thead>\n",
       "    <tr style=\"text-align: right;\">\n",
       "      <th></th>\n",
       "      <th>id</th>\n",
       "      <th>belongs_to_collection</th>\n",
       "      <th>budget</th>\n",
       "      <th>genres</th>\n",
       "      <th>homepage</th>\n",
       "      <th>imdb_id</th>\n",
       "      <th>original_language</th>\n",
       "      <th>original_title</th>\n",
       "      <th>overview</th>\n",
       "      <th>popularity</th>\n",
       "      <th>...</th>\n",
       "      <th>director_Wes Craven</th>\n",
       "      <th>director_Martin Scorsese</th>\n",
       "      <th>director_Paul W.S. Anderson</th>\n",
       "      <th>director_Alfred Hitchcock</th>\n",
       "      <th>director_Michael Bay</th>\n",
       "      <th>director_Francis Ford Coppola</th>\n",
       "      <th>director_Brian De Palma</th>\n",
       "      <th>director_Steven Soderbergh</th>\n",
       "      <th>director_Joel Schumacher</th>\n",
       "      <th>director_Peter Hyams</th>\n",
       "    </tr>\n",
       "  </thead>\n",
       "  <tbody>\n",
       "    <tr>\n",
       "      <th>0</th>\n",
       "      <td>3001</td>\n",
       "      <td>[{'id': 34055, 'name': 'Pokémon Collection', '...</td>\n",
       "      <td>0</td>\n",
       "      <td>[Adventure, Animation, Family, Fantasy]</td>\n",
       "      <td>http://www.pokemon.com/us/movies/movie-pokemon...</td>\n",
       "      <td>tt1226251</td>\n",
       "      <td>21</td>\n",
       "      <td>ディアルガVSパルキアVSダークライ</td>\n",
       "      <td>Ash and friends (this time accompanied by newc...</td>\n",
       "      <td>3.851534</td>\n",
       "      <td>...</td>\n",
       "      <td>0.0</td>\n",
       "      <td>0.0</td>\n",
       "      <td>0.0</td>\n",
       "      <td>0.0</td>\n",
       "      <td>0.0</td>\n",
       "      <td>0.0</td>\n",
       "      <td>0.0</td>\n",
       "      <td>0.0</td>\n",
       "      <td>0.0</td>\n",
       "      <td>0.0</td>\n",
       "    </tr>\n",
       "    <tr>\n",
       "      <th>1</th>\n",
       "      <td>3002</td>\n",
       "      <td>NaN</td>\n",
       "      <td>88000</td>\n",
       "      <td>[Horror, Science Fiction]</td>\n",
       "      <td>NaN</td>\n",
       "      <td>tt0051380</td>\n",
       "      <td>10</td>\n",
       "      <td>Attack of the 50 Foot Woman</td>\n",
       "      <td>When an abused wife grows to giant size becaus...</td>\n",
       "      <td>3.559789</td>\n",
       "      <td>...</td>\n",
       "      <td>0.0</td>\n",
       "      <td>0.0</td>\n",
       "      <td>0.0</td>\n",
       "      <td>0.0</td>\n",
       "      <td>0.0</td>\n",
       "      <td>0.0</td>\n",
       "      <td>0.0</td>\n",
       "      <td>0.0</td>\n",
       "      <td>0.0</td>\n",
       "      <td>0.0</td>\n",
       "    </tr>\n",
       "    <tr>\n",
       "      <th>2</th>\n",
       "      <td>3003</td>\n",
       "      <td>NaN</td>\n",
       "      <td>0</td>\n",
       "      <td>[Comedy, Romance]</td>\n",
       "      <td>NaN</td>\n",
       "      <td>tt0118556</td>\n",
       "      <td>10</td>\n",
       "      <td>Addicted to Love</td>\n",
       "      <td>Good-natured astronomer Sam is devastated when...</td>\n",
       "      <td>8.085194</td>\n",
       "      <td>...</td>\n",
       "      <td>0.0</td>\n",
       "      <td>0.0</td>\n",
       "      <td>0.0</td>\n",
       "      <td>0.0</td>\n",
       "      <td>0.0</td>\n",
       "      <td>0.0</td>\n",
       "      <td>0.0</td>\n",
       "      <td>0.0</td>\n",
       "      <td>0.0</td>\n",
       "      <td>0.0</td>\n",
       "    </tr>\n",
       "    <tr>\n",
       "      <th>3</th>\n",
       "      <td>3004</td>\n",
       "      <td>NaN</td>\n",
       "      <td>6800000</td>\n",
       "      <td>[Drama, War, Mystery]</td>\n",
       "      <td>http://www.sonyclassics.com/incendies/</td>\n",
       "      <td>tt1255953</td>\n",
       "      <td>14</td>\n",
       "      <td>Incendies</td>\n",
       "      <td>A mother's last wishes send twins Jeanne and S...</td>\n",
       "      <td>8.596012</td>\n",
       "      <td>...</td>\n",
       "      <td>0.0</td>\n",
       "      <td>0.0</td>\n",
       "      <td>0.0</td>\n",
       "      <td>0.0</td>\n",
       "      <td>0.0</td>\n",
       "      <td>0.0</td>\n",
       "      <td>0.0</td>\n",
       "      <td>0.0</td>\n",
       "      <td>0.0</td>\n",
       "      <td>0.0</td>\n",
       "    </tr>\n",
       "    <tr>\n",
       "      <th>4</th>\n",
       "      <td>3005</td>\n",
       "      <td>NaN</td>\n",
       "      <td>2000000</td>\n",
       "      <td>[History, Documentary]</td>\n",
       "      <td>NaN</td>\n",
       "      <td>tt0418753</td>\n",
       "      <td>10</td>\n",
       "      <td>Inside Deep Throat</td>\n",
       "      <td>In 1972, a seemingly typical shoestring budget...</td>\n",
       "      <td>3.217680</td>\n",
       "      <td>...</td>\n",
       "      <td>0.0</td>\n",
       "      <td>0.0</td>\n",
       "      <td>0.0</td>\n",
       "      <td>0.0</td>\n",
       "      <td>0.0</td>\n",
       "      <td>0.0</td>\n",
       "      <td>0.0</td>\n",
       "      <td>0.0</td>\n",
       "      <td>0.0</td>\n",
       "      <td>0.0</td>\n",
       "    </tr>\n",
       "    <tr>\n",
       "      <th>...</th>\n",
       "      <td>...</td>\n",
       "      <td>...</td>\n",
       "      <td>...</td>\n",
       "      <td>...</td>\n",
       "      <td>...</td>\n",
       "      <td>...</td>\n",
       "      <td>...</td>\n",
       "      <td>...</td>\n",
       "      <td>...</td>\n",
       "      <td>...</td>\n",
       "      <td>...</td>\n",
       "      <td>...</td>\n",
       "      <td>...</td>\n",
       "      <td>...</td>\n",
       "      <td>...</td>\n",
       "      <td>...</td>\n",
       "      <td>...</td>\n",
       "      <td>...</td>\n",
       "      <td>...</td>\n",
       "      <td>...</td>\n",
       "      <td>...</td>\n",
       "    </tr>\n",
       "    <tr>\n",
       "      <th>4393</th>\n",
       "      <td>7394</td>\n",
       "      <td>NaN</td>\n",
       "      <td>42000000</td>\n",
       "      <td>[Thriller]</td>\n",
       "      <td>NaN</td>\n",
       "      <td>tt0218922</td>\n",
       "      <td>10</td>\n",
       "      <td>Original Sin</td>\n",
       "      <td>A young man is plunged into a life of subterfu...</td>\n",
       "      <td>9.970359</td>\n",
       "      <td>...</td>\n",
       "      <td>NaN</td>\n",
       "      <td>NaN</td>\n",
       "      <td>NaN</td>\n",
       "      <td>NaN</td>\n",
       "      <td>NaN</td>\n",
       "      <td>NaN</td>\n",
       "      <td>NaN</td>\n",
       "      <td>NaN</td>\n",
       "      <td>NaN</td>\n",
       "      <td>NaN</td>\n",
       "    </tr>\n",
       "    <tr>\n",
       "      <th>4394</th>\n",
       "      <td>7395</td>\n",
       "      <td>[{'id': 146534, 'name': 'Without a Paddle Coll...</td>\n",
       "      <td>19000000</td>\n",
       "      <td>[Action, Adventure, Comedy, Thriller]</td>\n",
       "      <td>NaN</td>\n",
       "      <td>tt0364751</td>\n",
       "      <td>10</td>\n",
       "      <td>Without a Paddle</td>\n",
       "      <td>Three friends, whose lives have been drifting ...</td>\n",
       "      <td>6.046516</td>\n",
       "      <td>...</td>\n",
       "      <td>NaN</td>\n",
       "      <td>NaN</td>\n",
       "      <td>NaN</td>\n",
       "      <td>NaN</td>\n",
       "      <td>NaN</td>\n",
       "      <td>NaN</td>\n",
       "      <td>NaN</td>\n",
       "      <td>NaN</td>\n",
       "      <td>NaN</td>\n",
       "      <td>NaN</td>\n",
       "    </tr>\n",
       "    <tr>\n",
       "      <th>4395</th>\n",
       "      <td>7396</td>\n",
       "      <td>NaN</td>\n",
       "      <td>16000000</td>\n",
       "      <td>[Drama]</td>\n",
       "      <td>NaN</td>\n",
       "      <td>tt0084855</td>\n",
       "      <td>10</td>\n",
       "      <td>The Verdict</td>\n",
       "      <td>Frank Galvin is a down-on-his luck lawyer, red...</td>\n",
       "      <td>9.596883</td>\n",
       "      <td>...</td>\n",
       "      <td>NaN</td>\n",
       "      <td>NaN</td>\n",
       "      <td>NaN</td>\n",
       "      <td>NaN</td>\n",
       "      <td>NaN</td>\n",
       "      <td>NaN</td>\n",
       "      <td>NaN</td>\n",
       "      <td>NaN</td>\n",
       "      <td>NaN</td>\n",
       "      <td>NaN</td>\n",
       "    </tr>\n",
       "    <tr>\n",
       "      <th>4396</th>\n",
       "      <td>7397</td>\n",
       "      <td>NaN</td>\n",
       "      <td>2000000</td>\n",
       "      <td>[Horror, Thriller]</td>\n",
       "      <td>NaN</td>\n",
       "      <td>tt3235888</td>\n",
       "      <td>10</td>\n",
       "      <td>It Follows</td>\n",
       "      <td>For 19-year-old Jay, fall should be about scho...</td>\n",
       "      <td>20.359336</td>\n",
       "      <td>...</td>\n",
       "      <td>NaN</td>\n",
       "      <td>NaN</td>\n",
       "      <td>NaN</td>\n",
       "      <td>NaN</td>\n",
       "      <td>NaN</td>\n",
       "      <td>NaN</td>\n",
       "      <td>NaN</td>\n",
       "      <td>NaN</td>\n",
       "      <td>NaN</td>\n",
       "      <td>NaN</td>\n",
       "    </tr>\n",
       "    <tr>\n",
       "      <th>4397</th>\n",
       "      <td>7398</td>\n",
       "      <td>NaN</td>\n",
       "      <td>64000</td>\n",
       "      <td>[Drama]</td>\n",
       "      <td>NaN</td>\n",
       "      <td>tt0056663</td>\n",
       "      <td>14</td>\n",
       "      <td>Vivre sa vie: film en douze tableaux</td>\n",
       "      <td>Twelve episodic tales in the life of a Parisia...</td>\n",
       "      <td>11.305910</td>\n",
       "      <td>...</td>\n",
       "      <td>NaN</td>\n",
       "      <td>NaN</td>\n",
       "      <td>NaN</td>\n",
       "      <td>NaN</td>\n",
       "      <td>NaN</td>\n",
       "      <td>NaN</td>\n",
       "      <td>NaN</td>\n",
       "      <td>NaN</td>\n",
       "      <td>NaN</td>\n",
       "      <td>NaN</td>\n",
       "    </tr>\n",
       "  </tbody>\n",
       "</table>\n",
       "<p>4398 rows × 105 columns</p>\n",
       "</div>"
      ],
      "text/plain": [
       "        id                              belongs_to_collection    budget  \\\n",
       "0     3001  [{'id': 34055, 'name': 'Pokémon Collection', '...         0   \n",
       "1     3002                                                NaN     88000   \n",
       "2     3003                                                NaN         0   \n",
       "3     3004                                                NaN   6800000   \n",
       "4     3005                                                NaN   2000000   \n",
       "...    ...                                                ...       ...   \n",
       "4393  7394                                                NaN  42000000   \n",
       "4394  7395  [{'id': 146534, 'name': 'Without a Paddle Coll...  19000000   \n",
       "4395  7396                                                NaN  16000000   \n",
       "4396  7397                                                NaN   2000000   \n",
       "4397  7398                                                NaN     64000   \n",
       "\n",
       "                                       genres  \\\n",
       "0     [Adventure, Animation, Family, Fantasy]   \n",
       "1                   [Horror, Science Fiction]   \n",
       "2                           [Comedy, Romance]   \n",
       "3                       [Drama, War, Mystery]   \n",
       "4                      [History, Documentary]   \n",
       "...                                       ...   \n",
       "4393                               [Thriller]   \n",
       "4394    [Action, Adventure, Comedy, Thriller]   \n",
       "4395                                  [Drama]   \n",
       "4396                       [Horror, Thriller]   \n",
       "4397                                  [Drama]   \n",
       "\n",
       "                                               homepage    imdb_id  \\\n",
       "0     http://www.pokemon.com/us/movies/movie-pokemon...  tt1226251   \n",
       "1                                                   NaN  tt0051380   \n",
       "2                                                   NaN  tt0118556   \n",
       "3                http://www.sonyclassics.com/incendies/  tt1255953   \n",
       "4                                                   NaN  tt0418753   \n",
       "...                                                 ...        ...   \n",
       "4393                                                NaN  tt0218922   \n",
       "4394                                                NaN  tt0364751   \n",
       "4395                                                NaN  tt0084855   \n",
       "4396                                                NaN  tt3235888   \n",
       "4397                                                NaN  tt0056663   \n",
       "\n",
       "      original_language                        original_title  \\\n",
       "0                    21                    ディアルガVSパルキアVSダークライ   \n",
       "1                    10           Attack of the 50 Foot Woman   \n",
       "2                    10                      Addicted to Love   \n",
       "3                    14                             Incendies   \n",
       "4                    10                    Inside Deep Throat   \n",
       "...                 ...                                   ...   \n",
       "4393                 10                          Original Sin   \n",
       "4394                 10                      Without a Paddle   \n",
       "4395                 10                           The Verdict   \n",
       "4396                 10                            It Follows   \n",
       "4397                 14  Vivre sa vie: film en douze tableaux   \n",
       "\n",
       "                                               overview  popularity  ...  \\\n",
       "0     Ash and friends (this time accompanied by newc...    3.851534  ...   \n",
       "1     When an abused wife grows to giant size becaus...    3.559789  ...   \n",
       "2     Good-natured astronomer Sam is devastated when...    8.085194  ...   \n",
       "3     A mother's last wishes send twins Jeanne and S...    8.596012  ...   \n",
       "4     In 1972, a seemingly typical shoestring budget...    3.217680  ...   \n",
       "...                                                 ...         ...  ...   \n",
       "4393  A young man is plunged into a life of subterfu...    9.970359  ...   \n",
       "4394  Three friends, whose lives have been drifting ...    6.046516  ...   \n",
       "4395  Frank Galvin is a down-on-his luck lawyer, red...    9.596883  ...   \n",
       "4396  For 19-year-old Jay, fall should be about scho...   20.359336  ...   \n",
       "4397  Twelve episodic tales in the life of a Parisia...   11.305910  ...   \n",
       "\n",
       "     director_Wes Craven director_Martin Scorsese  \\\n",
       "0                    0.0                      0.0   \n",
       "1                    0.0                      0.0   \n",
       "2                    0.0                      0.0   \n",
       "3                    0.0                      0.0   \n",
       "4                    0.0                      0.0   \n",
       "...                  ...                      ...   \n",
       "4393                 NaN                      NaN   \n",
       "4394                 NaN                      NaN   \n",
       "4395                 NaN                      NaN   \n",
       "4396                 NaN                      NaN   \n",
       "4397                 NaN                      NaN   \n",
       "\n",
       "      director_Paul W.S. Anderson director_Alfred Hitchcock  \\\n",
       "0                             0.0                       0.0   \n",
       "1                             0.0                       0.0   \n",
       "2                             0.0                       0.0   \n",
       "3                             0.0                       0.0   \n",
       "4                             0.0                       0.0   \n",
       "...                           ...                       ...   \n",
       "4393                          NaN                       NaN   \n",
       "4394                          NaN                       NaN   \n",
       "4395                          NaN                       NaN   \n",
       "4396                          NaN                       NaN   \n",
       "4397                          NaN                       NaN   \n",
       "\n",
       "     director_Michael Bay director_Francis Ford Coppola  \\\n",
       "0                     0.0                           0.0   \n",
       "1                     0.0                           0.0   \n",
       "2                     0.0                           0.0   \n",
       "3                     0.0                           0.0   \n",
       "4                     0.0                           0.0   \n",
       "...                   ...                           ...   \n",
       "4393                  NaN                           NaN   \n",
       "4394                  NaN                           NaN   \n",
       "4395                  NaN                           NaN   \n",
       "4396                  NaN                           NaN   \n",
       "4397                  NaN                           NaN   \n",
       "\n",
       "     director_Brian De Palma director_Steven Soderbergh  \\\n",
       "0                        0.0                        0.0   \n",
       "1                        0.0                        0.0   \n",
       "2                        0.0                        0.0   \n",
       "3                        0.0                        0.0   \n",
       "4                        0.0                        0.0   \n",
       "...                      ...                        ...   \n",
       "4393                     NaN                        NaN   \n",
       "4394                     NaN                        NaN   \n",
       "4395                     NaN                        NaN   \n",
       "4396                     NaN                        NaN   \n",
       "4397                     NaN                        NaN   \n",
       "\n",
       "     director_Joel Schumacher director_Peter Hyams  \n",
       "0                         0.0                  0.0  \n",
       "1                         0.0                  0.0  \n",
       "2                         0.0                  0.0  \n",
       "3                         0.0                  0.0  \n",
       "4                         0.0                  0.0  \n",
       "...                       ...                  ...  \n",
       "4393                      NaN                  NaN  \n",
       "4394                      NaN                  NaN  \n",
       "4395                      NaN                  NaN  \n",
       "4396                      NaN                  NaN  \n",
       "4397                      NaN                  NaN  \n",
       "\n",
       "[4398 rows x 105 columns]"
      ]
     },
     "execution_count": 32,
     "metadata": {},
     "output_type": "execute_result"
    }
   ],
   "source": [
    "test"
   ]
  },
  {
   "cell_type": "code",
   "execution_count": 33,
   "metadata": {
    "execution": {
     "iopub.execute_input": "2020-11-08T15:25:31.452951Z",
     "iopub.status.busy": "2020-11-08T15:25:31.451691Z",
     "iopub.status.idle": "2020-11-08T15:25:31.604578Z",
     "shell.execute_reply": "2020-11-08T15:25:31.603759Z"
    },
    "papermill": {
     "duration": 0.236364,
     "end_time": "2020-11-08T15:25:31.604704",
     "exception": false,
     "start_time": "2020-11-08T15:25:31.368340",
     "status": "completed"
    },
    "tags": []
   },
   "outputs": [],
   "source": [
    "test = test.drop(\"id\", axis=1)\n",
    "\n",
    "train = FeatureAdder().fit_transform(train)\n",
    "test = FeatureAdder().transform(test)\n"
   ]
  },
  {
   "cell_type": "code",
   "execution_count": 34,
   "metadata": {
    "execution": {
     "iopub.execute_input": "2020-11-08T15:25:31.763454Z",
     "iopub.status.busy": "2020-11-08T15:25:31.762513Z",
     "iopub.status.idle": "2020-11-08T15:25:31.766261Z",
     "shell.execute_reply": "2020-11-08T15:25:31.765501Z"
    },
    "papermill": {
     "duration": 0.085376,
     "end_time": "2020-11-08T15:25:31.766405",
     "exception": false,
     "start_time": "2020-11-08T15:25:31.681029",
     "status": "completed"
    },
    "tags": []
   },
   "outputs": [],
   "source": [
    "# What have we done example:\n",
    "\n",
    "# train[[\"release_year\", \"release_month\"]].describe()"
   ]
  },
  {
   "cell_type": "code",
   "execution_count": 35,
   "metadata": {
    "execution": {
     "iopub.execute_input": "2020-11-08T15:25:31.922603Z",
     "iopub.status.busy": "2020-11-08T15:25:31.921818Z",
     "iopub.status.idle": "2020-11-08T15:25:31.984125Z",
     "shell.execute_reply": "2020-11-08T15:25:31.983264Z"
    },
    "papermill": {
     "duration": 0.142825,
     "end_time": "2020-11-08T15:25:31.984263",
     "exception": false,
     "start_time": "2020-11-08T15:25:31.841438",
     "status": "completed"
    },
    "tags": []
   },
   "outputs": [
    {
     "data": {
      "text/plain": [
       "revenue                  1.000000\n",
       "budget                   0.752965\n",
       "popularity               0.461460\n",
       "num_crew                 0.372110\n",
       "num_cast                 0.335737\n",
       "                           ...   \n",
       "original_language       -0.090763\n",
       "Drama                   -0.158280\n",
       "tagline                 -0.180366\n",
       "homepage                -0.263179\n",
       "belongs_to_collection   -0.339425\n",
       "Name: revenue, Length: 94, dtype: float64"
      ]
     },
     "execution_count": 35,
     "metadata": {},
     "output_type": "execute_result"
    }
   ],
   "source": [
    "# checking how the train data correlates to label(revenue)\n",
    "\n",
    "corr_matrix = train.corr()\n",
    "corr_matrix[\"revenue\"].sort_values(ascending=False)\n"
   ]
  },
  {
   "cell_type": "code",
   "execution_count": 36,
   "metadata": {
    "execution": {
     "iopub.execute_input": "2020-11-08T15:25:32.147438Z",
     "iopub.status.busy": "2020-11-08T15:25:32.146534Z",
     "iopub.status.idle": "2020-11-08T15:25:32.150085Z",
     "shell.execute_reply": "2020-11-08T15:25:32.149314Z"
    },
    "papermill": {
     "duration": 0.08963,
     "end_time": "2020-11-08T15:25:32.150215",
     "exception": false,
     "start_time": "2020-11-08T15:25:32.060585",
     "status": "completed"
    },
    "tags": []
   },
   "outputs": [],
   "source": [
    "# removing Label(revenue) and id before scaling\n",
    "\n",
    "train_backup = train \n",
    "labels = train[\"revenue\"].copy() \n",
    "X=train.drop(['id', 'revenue'], axis=1)\n",
    "\n",
    "\n",
    "y = np.log1p(train['revenue'])\n",
    "\n"
   ]
  },
  {
   "cell_type": "code",
   "execution_count": 37,
   "metadata": {
    "execution": {
     "iopub.execute_input": "2020-11-08T15:25:32.312620Z",
     "iopub.status.busy": "2020-11-08T15:25:32.311721Z",
     "iopub.status.idle": "2020-11-08T15:25:32.354881Z",
     "shell.execute_reply": "2020-11-08T15:25:32.354280Z"
    },
    "papermill": {
     "duration": 0.129082,
     "end_time": "2020-11-08T15:25:32.355030",
     "exception": false,
     "start_time": "2020-11-08T15:25:32.225948",
     "status": "completed"
    },
    "tags": []
   },
   "outputs": [],
   "source": [
    "# pipeline for scaling and imputing\n",
    "\n",
    "pipeline = Pipeline([\n",
    "    (\"std_scaler\", StandardScaler()),\n",
    "    (\"imputer\", SimpleImputer(strategy=\"median\")),\n",
    "])\n",
    "\n",
    "prepared = pipeline.fit_transform(X)\n",
    "\n",
    "X_train, X_valid, y_train, y_valid = train_test_split(X, y, test_size=0.2)"
   ]
  },
  {
   "cell_type": "code",
   "execution_count": 38,
   "metadata": {
    "execution": {
     "iopub.execute_input": "2020-11-08T15:25:32.521604Z",
     "iopub.status.busy": "2020-11-08T15:25:32.520773Z",
     "iopub.status.idle": "2020-11-08T15:25:33.982462Z",
     "shell.execute_reply": "2020-11-08T15:25:33.983195Z"
    },
    "papermill": {
     "duration": 1.552002,
     "end_time": "2020-11-08T15:25:33.983389",
     "exception": false,
     "start_time": "2020-11-08T15:25:32.431387",
     "status": "completed"
    },
    "tags": []
   },
   "outputs": [
    {
     "name": "stdout",
     "output_type": "stream",
     "text": [
      "Training until validation scores don't improve for 200 rounds\n",
      "[1000]\ttraining's rmse: 1.55527\tvalid_1's rmse: 2.01161\n",
      "Early stopping, best iteration is:\n",
      "[933]\ttraining's rmse: 1.57353\tvalid_1's rmse: 2.0105\n"
     ]
    },
    {
     "data": {
      "text/html": [
       "\n",
       "    <style>\n",
       "    table.eli5-weights tr:hover {\n",
       "        filter: brightness(85%);\n",
       "    }\n",
       "</style>\n",
       "\n",
       "\n",
       "\n",
       "    \n",
       "\n",
       "    \n",
       "\n",
       "    \n",
       "\n",
       "    \n",
       "\n",
       "    \n",
       "\n",
       "    \n",
       "\n",
       "\n",
       "    \n",
       "\n",
       "    \n",
       "\n",
       "    \n",
       "\n",
       "    \n",
       "\n",
       "    \n",
       "\n",
       "    \n",
       "\n",
       "\n",
       "    \n",
       "\n",
       "    \n",
       "\n",
       "    \n",
       "\n",
       "    \n",
       "\n",
       "    \n",
       "        <table class=\"eli5-weights eli5-feature-importances\" style=\"border-collapse: collapse; border: none; margin-top: 0em; table-layout: auto;\">\n",
       "    <thead>\n",
       "    <tr style=\"border: none;\">\n",
       "        <th style=\"padding: 0 1em 0 0.5em; text-align: right; border: none;\">Weight</th>\n",
       "        <th style=\"padding: 0 0.5em 0 0.5em; text-align: left; border: none;\">Feature</th>\n",
       "    </tr>\n",
       "    </thead>\n",
       "    <tbody>\n",
       "    \n",
       "        <tr style=\"background-color: hsl(120, 100.00%, 80.00%); border: none;\">\n",
       "            <td style=\"padding: 0 1em 0 0.5em; text-align: right; border: none;\">\n",
       "                0.4653\n",
       "                \n",
       "            </td>\n",
       "            <td style=\"padding: 0 0.5em 0 0.5em; text-align: left; border: none;\">\n",
       "                budget\n",
       "            </td>\n",
       "        </tr>\n",
       "    \n",
       "        <tr style=\"background-color: hsl(120, 100.00%, 89.13%); border: none;\">\n",
       "            <td style=\"padding: 0 1em 0 0.5em; text-align: right; border: none;\">\n",
       "                0.1948\n",
       "                \n",
       "            </td>\n",
       "            <td style=\"padding: 0 0.5em 0 0.5em; text-align: left; border: none;\">\n",
       "                popularity\n",
       "            </td>\n",
       "        </tr>\n",
       "    \n",
       "        <tr style=\"background-color: hsl(120, 100.00%, 93.45%); border: none;\">\n",
       "            <td style=\"padding: 0 1em 0 0.5em; text-align: right; border: none;\">\n",
       "                0.0944\n",
       "                \n",
       "            </td>\n",
       "            <td style=\"padding: 0 0.5em 0 0.5em; text-align: left; border: none;\">\n",
       "                release_year\n",
       "            </td>\n",
       "        </tr>\n",
       "    \n",
       "        <tr style=\"background-color: hsl(120, 100.00%, 96.25%); border: none;\">\n",
       "            <td style=\"padding: 0 1em 0 0.5em; text-align: right; border: none;\">\n",
       "                0.0426\n",
       "                \n",
       "            </td>\n",
       "            <td style=\"padding: 0 0.5em 0 0.5em; text-align: left; border: none;\">\n",
       "                runtime\n",
       "            </td>\n",
       "        </tr>\n",
       "    \n",
       "        <tr style=\"background-color: hsl(120, 100.00%, 96.93%); border: none;\">\n",
       "            <td style=\"padding: 0 1em 0 0.5em; text-align: right; border: none;\">\n",
       "                0.0320\n",
       "                \n",
       "            </td>\n",
       "            <td style=\"padding: 0 0.5em 0 0.5em; text-align: left; border: none;\">\n",
       "                num_crew\n",
       "            </td>\n",
       "        </tr>\n",
       "    \n",
       "        <tr style=\"background-color: hsl(120, 100.00%, 97.44%); border: none;\">\n",
       "            <td style=\"padding: 0 1em 0 0.5em; text-align: right; border: none;\">\n",
       "                0.0247\n",
       "                \n",
       "            </td>\n",
       "            <td style=\"padding: 0 0.5em 0 0.5em; text-align: left; border: none;\">\n",
       "                num_cast\n",
       "            </td>\n",
       "        </tr>\n",
       "    \n",
       "        <tr style=\"background-color: hsl(120, 100.00%, 97.68%); border: none;\">\n",
       "            <td style=\"padding: 0 1em 0 0.5em; text-align: right; border: none;\">\n",
       "                0.0215\n",
       "                \n",
       "            </td>\n",
       "            <td style=\"padding: 0 0.5em 0 0.5em; text-align: left; border: none;\">\n",
       "                release_month\n",
       "            </td>\n",
       "        </tr>\n",
       "    \n",
       "        <tr style=\"background-color: hsl(120, 100.00%, 97.69%); border: none;\">\n",
       "            <td style=\"padding: 0 1em 0 0.5em; text-align: right; border: none;\">\n",
       "                0.0214\n",
       "                \n",
       "            </td>\n",
       "            <td style=\"padding: 0 0.5em 0 0.5em; text-align: left; border: none;\">\n",
       "                title_length\n",
       "            </td>\n",
       "        </tr>\n",
       "    \n",
       "        <tr style=\"background-color: hsl(120, 100.00%, 98.13%); border: none;\">\n",
       "            <td style=\"padding: 0 1em 0 0.5em; text-align: right; border: none;\">\n",
       "                0.0158\n",
       "                \n",
       "            </td>\n",
       "            <td style=\"padding: 0 0.5em 0 0.5em; text-align: left; border: none;\">\n",
       "                belongs_to_collection\n",
       "            </td>\n",
       "        </tr>\n",
       "    \n",
       "        <tr style=\"background-color: hsl(120, 100.00%, 98.22%); border: none;\">\n",
       "            <td style=\"padding: 0 1em 0 0.5em; text-align: right; border: none;\">\n",
       "                0.0147\n",
       "                \n",
       "            </td>\n",
       "            <td style=\"padding: 0 0.5em 0 0.5em; text-align: left; border: none;\">\n",
       "                original_language\n",
       "            </td>\n",
       "        </tr>\n",
       "    \n",
       "        <tr style=\"background-color: hsl(120, 100.00%, 98.52%); border: none;\">\n",
       "            <td style=\"padding: 0 1em 0 0.5em; text-align: right; border: none;\">\n",
       "                0.0113\n",
       "                \n",
       "            </td>\n",
       "            <td style=\"padding: 0 0.5em 0 0.5em; text-align: left; border: none;\">\n",
       "                tagline\n",
       "            </td>\n",
       "        </tr>\n",
       "    \n",
       "        <tr style=\"background-color: hsl(120, 100.00%, 98.80%); border: none;\">\n",
       "            <td style=\"padding: 0 1em 0 0.5em; text-align: right; border: none;\">\n",
       "                0.0084\n",
       "                \n",
       "            </td>\n",
       "            <td style=\"padding: 0 0.5em 0 0.5em; text-align: left; border: none;\">\n",
       "                num_companies\n",
       "            </td>\n",
       "        </tr>\n",
       "    \n",
       "        <tr style=\"background-color: hsl(120, 100.00%, 98.99%); border: none;\">\n",
       "            <td style=\"padding: 0 1em 0 0.5em; text-align: right; border: none;\">\n",
       "                0.0065\n",
       "                \n",
       "            </td>\n",
       "            <td style=\"padding: 0 0.5em 0 0.5em; text-align: left; border: none;\">\n",
       "                Drama\n",
       "            </td>\n",
       "        </tr>\n",
       "    \n",
       "        <tr style=\"background-color: hsl(120, 100.00%, 99.13%); border: none;\">\n",
       "            <td style=\"padding: 0 1em 0 0.5em; text-align: right; border: none;\">\n",
       "                0.0053\n",
       "                \n",
       "            </td>\n",
       "            <td style=\"padding: 0 0.5em 0 0.5em; text-align: left; border: none;\">\n",
       "                Thriller\n",
       "            </td>\n",
       "        </tr>\n",
       "    \n",
       "        <tr style=\"background-color: hsl(120, 100.00%, 99.19%); border: none;\">\n",
       "            <td style=\"padding: 0 1em 0 0.5em; text-align: right; border: none;\">\n",
       "                0.0048\n",
       "                \n",
       "            </td>\n",
       "            <td style=\"padding: 0 0.5em 0 0.5em; text-align: left; border: none;\">\n",
       "                Adventure\n",
       "            </td>\n",
       "        </tr>\n",
       "    \n",
       "        <tr style=\"background-color: hsl(120, 100.00%, 99.23%); border: none;\">\n",
       "            <td style=\"padding: 0 1em 0 0.5em; text-align: right; border: none;\">\n",
       "                0.0044\n",
       "                \n",
       "            </td>\n",
       "            <td style=\"padding: 0 0.5em 0 0.5em; text-align: left; border: none;\">\n",
       "                Crime\n",
       "            </td>\n",
       "        </tr>\n",
       "    \n",
       "        <tr style=\"background-color: hsl(120, 100.00%, 99.26%); border: none;\">\n",
       "            <td style=\"padding: 0 1em 0 0.5em; text-align: right; border: none;\">\n",
       "                0.0042\n",
       "                \n",
       "            </td>\n",
       "            <td style=\"padding: 0 0.5em 0 0.5em; text-align: left; border: none;\">\n",
       "                Comedy\n",
       "            </td>\n",
       "        </tr>\n",
       "    \n",
       "        <tr style=\"background-color: hsl(120, 100.00%, 99.28%); border: none;\">\n",
       "            <td style=\"padding: 0 1em 0 0.5em; text-align: right; border: none;\">\n",
       "                0.0040\n",
       "                \n",
       "            </td>\n",
       "            <td style=\"padding: 0 0.5em 0 0.5em; text-align: left; border: none;\">\n",
       "                homepage\n",
       "            </td>\n",
       "        </tr>\n",
       "    \n",
       "        <tr style=\"background-color: hsl(120, 100.00%, 99.42%); border: none;\">\n",
       "            <td style=\"padding: 0 1em 0 0.5em; text-align: right; border: none;\">\n",
       "                0.0030\n",
       "                \n",
       "            </td>\n",
       "            <td style=\"padding: 0 0.5em 0 0.5em; text-align: left; border: none;\">\n",
       "                Family\n",
       "            </td>\n",
       "        </tr>\n",
       "    \n",
       "        <tr style=\"background-color: hsl(120, 100.00%, 99.54%); border: none;\">\n",
       "            <td style=\"padding: 0 1em 0 0.5em; text-align: right; border: none;\">\n",
       "                0.0021\n",
       "                \n",
       "            </td>\n",
       "            <td style=\"padding: 0 0.5em 0 0.5em; text-align: left; border: none;\">\n",
       "                Action\n",
       "            </td>\n",
       "        </tr>\n",
       "    \n",
       "    \n",
       "        \n",
       "            <tr style=\"background-color: hsl(120, 100.00%, 99.54%); border: none;\">\n",
       "                <td colspan=\"2\" style=\"padding: 0 0.5em 0 0.5em; text-align: center; border: none; white-space: nowrap;\">\n",
       "                    <i>&hellip; 72 more &hellip;</i>\n",
       "                </td>\n",
       "            </tr>\n",
       "        \n",
       "    \n",
       "    </tbody>\n",
       "</table>\n",
       "    \n",
       "\n",
       "    \n",
       "\n",
       "\n",
       "    \n",
       "\n",
       "    \n",
       "\n",
       "    \n",
       "\n",
       "    \n",
       "\n",
       "    \n",
       "\n",
       "    \n",
       "\n",
       "\n",
       "\n"
      ],
      "text/plain": [
       "<IPython.core.display.HTML object>"
      ]
     },
     "execution_count": 38,
     "metadata": {},
     "output_type": "execute_result"
    }
   ],
   "source": [
    "params = {'num_leaves': 30,\n",
    "         'min_data_in_leaf': 20,\n",
    "         'objective': 'regression',\n",
    "         'max_depth': 5,\n",
    "         'learning_rate': 0.01,\n",
    "         \"boosting\": \"gbdt\",\n",
    "         \"feature_fraction\": 0.9,\n",
    "         \"bagging_freq\": 1,\n",
    "         \"bagging_fraction\": 0.9,\n",
    "         \"bagging_seed\": 11,\n",
    "         \"metric\": 'rmse',\n",
    "         \"lambda_l1\": 0.2,\n",
    "         \"verbosity\": -1}\n",
    "\n",
    "lgb_model = lgb.LGBMRegressor(**params, n_estimators = 10000, nthread = 4, n_jobs = -1)\n",
    "lgb_model.fit(X_train, y_train, \n",
    "        eval_set=[(X_train, y_train), (X_valid, y_valid)], eval_metric='rmse',\n",
    "        verbose=1000, early_stopping_rounds=200)\n",
    "\n",
    "eli5.show_weights(lgb_model, feature_filter=lambda x: x != '<BIAS>')\n",
    "\n"
   ]
  },
  {
   "cell_type": "code",
   "execution_count": 39,
   "metadata": {
    "execution": {
     "iopub.execute_input": "2020-11-08T15:25:34.181475Z",
     "iopub.status.busy": "2020-11-08T15:25:34.180683Z",
     "iopub.status.idle": "2020-11-08T15:26:42.547529Z",
     "shell.execute_reply": "2020-11-08T15:26:42.548261Z"
    },
    "papermill": {
     "duration": 68.469317,
     "end_time": "2020-11-08T15:26:42.548460",
     "exception": false,
     "start_time": "2020-11-08T15:25:34.079143",
     "status": "completed"
    },
    "tags": []
   },
   "outputs": [
    {
     "name": "stdout",
     "output_type": "stream",
     "text": [
      "Fitting 3 folds for each of 2 candidates, totalling 6 fits\n"
     ]
    },
    {
     "name": "stderr",
     "output_type": "stream",
     "text": [
      "[Parallel(n_jobs=-1)]: Using backend LokyBackend with 4 concurrent workers.\n",
      "[Parallel(n_jobs=-1)]: Done   3 out of   6 | elapsed:   19.0s remaining:   19.0s\n",
      "[Parallel(n_jobs=-1)]: Done   6 out of   6 | elapsed:   30.4s finished\n"
     ]
    },
    {
     "name": "stdout",
     "output_type": "stream",
     "text": [
      "{'boosting_type': 'gbdt', 'learning_rate': 0.01, 'max_depth': 4, 'min_data_in_leaf': 15, 'num_leaves': 40, 'objective': 'regression', 'random_state': 501, 'reg_alpha': 1, 'reg_lambda': 1.4}\n",
      "0.46336024554514504\n",
      "Fitting 3 folds for each of 1 candidates, totalling 3 fits\n"
     ]
    },
    {
     "name": "stderr",
     "output_type": "stream",
     "text": [
      "[Parallel(n_jobs=1)]: Using backend SequentialBackend with 1 concurrent workers.\n",
      "[Parallel(n_jobs=1)]: Done   3 out of   3 | elapsed:   20.4s finished\n"
     ]
    },
    {
     "name": "stdout",
     "output_type": "stream",
     "text": [
      "Best score reached: 0.46391542898827165 with params: {'random_state': 501, 'objective': 'regression', 'num_leaves': 40, 'min_data_in_leaf': 15, 'max_depth': 4, 'learning_rate': 0.01, 'boosting_type': 'gbdt'} \n"
     ]
    }
   ],
   "source": [
    "\n",
    "# Print the best parameters found\n",
    "gridParams = {\n",
    "    \"max_depth\": [4],\n",
    "    \"min_data_in_leaf\": [15],\n",
    "    'learning_rate': [0.01],\n",
    "    'num_leaves': [40],\n",
    "    'boosting_type' : ['gbdt'],\n",
    "    'objective' : ['regression'],\n",
    "    'random_state' : [501], \n",
    "    'reg_alpha' : [1],\n",
    "    'reg_lambda' : [1.4, 1.5]\n",
    "    }\n",
    "\n",
    "grid_search = GridSearchCV(lgb_model, n_jobs=-1, param_grid=gridParams, cv = 3, verbose=5)\n",
    "grid_search.fit(X_train, y_train)\n",
    "print(grid_search.best_params_)\n",
    "print(grid_search.best_score_)\n",
    "\n",
    "\n",
    "Random_Search_Params ={\n",
    "    \"max_depth\": [4],\n",
    "    \"min_data_in_leaf\": [15],\n",
    "    'learning_rate': [0.01],\n",
    "    'num_leaves': [40],\n",
    "    'boosting_type' : ['gbdt'],\n",
    "    'objective' : ['regression'],\n",
    "    'random_state' : [501], \n",
    "    }\n",
    "\n",
    "n_HP_points_to_test = 50\n",
    "\n",
    "random_search = RandomizedSearchCV(\n",
    "    estimator=lgb_model, param_distributions= Random_Search_Params, \n",
    "    n_iter=n_HP_points_to_test,\n",
    "    cv=3,\n",
    "    refit=True,\n",
    "    random_state=314,\n",
    "    verbose=True)\n",
    "\n",
    "random_search.fit(X_train, y_train)\n",
    "print('Best score reached: {} with params: {} '.format(random_search.best_score_, random_search.best_params_))\n",
    "\n",
    "# Using parameters already set above, replace in the best from the random search\n",
    "\n",
    "params['learning_rate'] = random_search.best_params_['learning_rate']\n",
    "params['max_depth'] = random_search.best_params_['max_depth']\n",
    "params['num_leaves'] = random_search.best_params_['num_leaves']"
   ]
  },
  {
   "cell_type": "code",
   "execution_count": 40,
   "metadata": {
    "execution": {
     "iopub.execute_input": "2020-11-08T15:26:42.720588Z",
     "iopub.status.busy": "2020-11-08T15:26:42.719806Z",
     "iopub.status.idle": "2020-11-08T15:26:43.835482Z",
     "shell.execute_reply": "2020-11-08T15:26:43.834725Z"
    },
    "papermill": {
     "duration": 1.202967,
     "end_time": "2020-11-08T15:26:43.835628",
     "exception": false,
     "start_time": "2020-11-08T15:26:42.632661",
     "status": "completed"
    },
    "tags": []
   },
   "outputs": [
    {
     "data": {
      "text/plain": [
       "4398"
      ]
     },
     "execution_count": 40,
     "metadata": {},
     "output_type": "execute_result"
    }
   ],
   "source": [
    "final_model = grid_search.best_estimator_\n",
    "final_predict = final_model.predict(test)\n",
    "len(final_predict)\n"
   ]
  },
  {
   "cell_type": "code",
   "execution_count": 41,
   "metadata": {
    "execution": {
     "iopub.execute_input": "2020-11-08T15:26:44.032915Z",
     "iopub.status.busy": "2020-11-08T15:26:44.031835Z",
     "iopub.status.idle": "2020-11-08T15:26:44.241016Z",
     "shell.execute_reply": "2020-11-08T15:26:44.240342Z"
    },
    "papermill": {
     "duration": 0.306053,
     "end_time": "2020-11-08T15:26:44.241146",
     "exception": false,
     "start_time": "2020-11-08T15:26:43.935093",
     "status": "completed"
    },
    "tags": []
   },
   "outputs": [],
   "source": [
    "sample_submission = pd.read_csv('../input/tmdb-box-office-prediction/sample_submission.csv')\n",
    "# sample_submission['revenue'] = np.expm1(final_prediction + y_pred)/2\n",
    "sample_submission['revenue'] = np.expm1(final_predict)\n",
    "sample_submission.to_csv('first.csv', index=False)"
   ]
  }
 ],
 "metadata": {
  "kernelspec": {
   "display_name": "Python 3",
   "language": "python",
   "name": "python3"
  },
  "language_info": {
   "codemirror_mode": {
    "name": "ipython",
    "version": 3
   },
   "file_extension": ".py",
   "mimetype": "text/x-python",
   "name": "python",
   "nbconvert_exporter": "python",
   "pygments_lexer": "ipython3",
   "version": "3.8.2"
  },
  "papermill": {
   "duration": 126.919638,
   "end_time": "2020-11-08T15:26:44.446944",
   "environment_variables": {},
   "exception": null,
   "input_path": "__notebook__.ipynb",
   "output_path": "__notebook__.ipynb",
   "parameters": {},
   "start_time": "2020-11-08T15:24:37.527306",
   "version": "2.1.0"
  }
 },
 "nbformat": 4,
 "nbformat_minor": 4
}
