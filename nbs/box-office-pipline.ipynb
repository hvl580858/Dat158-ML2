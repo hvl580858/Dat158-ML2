{
 "cells": [
  {
   "cell_type": "markdown",
   "metadata": {
    "pycharm": {
     "name": "#%% md\n"
    }
   },
   "source": [
    "# Importing libraries"
   ]
  },
  {
   "cell_type": "code",
   "execution_count": 1,
   "metadata": {
    "_cell_guid": "b1076dfc-b9ad-4769-8c92-a6c4dae69d19",
    "_uuid": "8f2839f25d086af736a60e9eeb907d3b93b6e0e5",
    "execution": {
     "iopub.execute_input": "2020-11-16T15:43:03.951561Z",
     "iopub.status.busy": "2020-11-16T15:43:03.950751Z",
     "iopub.status.idle": "2020-11-16T15:43:13.264226Z",
     "shell.execute_reply": "2020-11-16T15:43:13.264926Z"
    },
    "papermill": {
     "duration": 9.347222,
     "end_time": "2020-11-16T15:43:13.265115",
     "exception": false,
     "start_time": "2020-11-16T15:43:03.917893",
     "status": "completed"
    },
    "tags": []
   },
   "outputs": [],
   "source": [
    "import joblib\n",
    "\n",
    "import numpy as np # linear algebra\n",
    "import pandas as pd # data processing/analys\n",
    "import lightgbm as lgb # gradient boosting framework that uses tree based learning algorithms\n",
    "import warnings\n",
    "\n",
    "from sklearn.preprocessing import RobustScaler\n",
    "from sklearn.pipeline import Pipeline\n",
    "from sklearn.model_selection import RandomizedSearchCV\n",
    "\n",
    "warnings.filterwarnings(\"ignore\")"
   ]
  },
  {
   "cell_type": "markdown",
   "metadata": {
    "pycharm": {
     "name": "#%% md\n"
    }
   },
   "source": [
    "## Using Pandas to load/read train, test and sample_sub set"
   ]
  },
  {
   "cell_type": "code",
   "execution_count": 2,
   "metadata": {
    "_cell_guid": "79c7e3d0-c299-4dcb-8224-4455121ee9b0",
    "_uuid": "d629ff2d2480ee46fbb7e2d37f6b5fab8052498a",
    "execution": {
     "iopub.execute_input": "2020-11-16T15:43:13.309116Z",
     "iopub.status.busy": "2020-11-16T15:43:13.308309Z",
     "iopub.status.idle": "2020-11-16T15:43:14.511204Z",
     "shell.execute_reply": "2020-11-16T15:43:14.510550Z"
    },
    "papermill": {
     "duration": 1.231586,
     "end_time": "2020-11-16T15:43:14.511343",
     "exception": false,
     "start_time": "2020-11-16T15:43:13.279757",
     "status": "completed"
    },
    "tags": []
   },
   "outputs": [],
   "source": [
    "train = pd.read_csv('DATA/train.csv')\n",
    "test = pd.read_csv('DATA/test.csv')\n",
    "sample_submission = pd.read_csv('DATA/sample_submission.csv')"
   ]
  },
  {
   "cell_type": "markdown",
   "metadata": {
    "pycharm": {
     "name": "#%% md\n"
    }
   },
   "source": [
    "Droping the lable(\"revenue\") before Scaling.\n",
    "\n",
    "Saving label as y, using numpy log1p on label(logarithmic element-wise) to get better score.\n",
    "\n",
    "print(np.expm1(y)) is how we transform back again(necessary after predict to get the right score)"
   ]
  },
  {
   "cell_type": "code",
   "execution_count": 3,
   "metadata": {
    "execution": {
     "iopub.execute_input": "2020-11-16T15:43:16.593355Z",
     "iopub.status.busy": "2020-11-16T15:43:16.592478Z",
     "iopub.status.idle": "2020-11-16T15:43:16.595936Z",
     "shell.execute_reply": "2020-11-16T15:43:16.595327Z"
    },
    "papermill": {
     "duration": 0.027856,
     "end_time": "2020-11-16T15:43:16.596059",
     "exception": false,
     "start_time": "2020-11-16T15:43:16.568203",
     "status": "completed"
    },
    "tags": []
   },
   "outputs": [],
   "source": [
    "X = train.drop([\"revenue\"], axis=1)\n",
    "y = np.log1p(train['revenue'])"
   ]
  },
  {
   "cell_type": "markdown",
   "metadata": {
    "pycharm": {
     "name": "#%% md\n"
    }
   },
   "source": [
    "A very light weight pipeline with Robust Scaler, which takes care of outliers"
   ]
  },
  {
   "cell_type": "code",
   "execution_count": 9,
   "metadata": {
    "execution": {
     "iopub.execute_input": "2020-11-16T15:43:16.749405Z",
     "iopub.status.busy": "2020-11-16T15:43:16.748543Z",
     "iopub.status.idle": "2020-11-16T15:43:17.170673Z",
     "shell.execute_reply": "2020-11-16T15:43:17.169985Z"
    },
    "papermill": {
     "duration": 0.450242,
     "end_time": "2020-11-16T15:43:17.170815",
     "exception": false,
     "start_time": "2020-11-16T15:43:16.720573",
     "status": "completed"
    },
    "tags": []
   },
   "outputs": [],
   "source": [
    "\n",
    "pipeline = Pipeline([\n",
    "    (\"Rbt_scaler\", RobustScaler())\n",
    "])\n",
    "\n",
    "prepared = pipeline.fit_transform(X)\n"
   ]
  },
  {
   "cell_type": "code",
   "execution_count": 10,
   "metadata": {},
   "outputs": [
    {
     "data": {
      "text/plain": [
       "['../model/pipeline.joblib']"
      ]
     },
     "execution_count": 10,
     "metadata": {},
     "output_type": "execute_result"
    }
   ],
   "source": [
    "joblib.dump(pipeline, \"../model/pipeline.joblib\", compress = 1)"
   ]
  },
  {
   "cell_type": "code",
   "execution_count": null,
   "metadata": {
    "pycharm": {
     "name": "#%%\n"
    }
   },
   "outputs": [],
   "source": [
    "params = {'num_leaves': 30,\n",
    "         'min_data_in_leaf': 20,\n",
    "         'objective': 'regression',\n",
    "         'max_depth': 5,\n",
    "         'learning_rate': 0.01,\n",
    "         \"boosting\": \"gbdt\",\n",
    "         \"feature_fraction\": 0.9,\n",
    "         \"bagging_freq\": 1,\n",
    "         \"bagging_fraction\": 0.9,\n",
    "         \"bagging_seed\": 11,\n",
    "         \"metric\": 'rmse',\n",
    "         \"lambda_l1\": 0.2,\n",
    "         \"verbosity\": -1}\n",
    "\n",
    "lgb_model = lgb.LGBMRegressor(**params, n_estimators = 10000, nthread = 4, n_jobs = -1)\n"
   ]
  },
  {
   "cell_type": "markdown",
   "metadata": {},
   "source": [
    "Setting parameters for light gradient boosting model regressor (above)\n",
    "Using random search to optimize(below), note that I removed all but the best params to save time."
   ]
  },
  {
   "cell_type": "code",
   "execution_count": null,
   "metadata": {
    "pycharm": {
     "name": "#%%\n"
    }
   },
   "outputs": [],
   "source": [
    "Random_Search_Params ={\n",
    "    \"max_depth\": [4],\n",
    "    \"min_data_in_leaf\": [15],\n",
    "    'learning_rate': [0.01],\n",
    "    'num_leaves': [40],\n",
    "    'boosting_type' : ['gbdt'],\n",
    "    'objective' : ['regression'],\n",
    "    'random_state' : [501], \n",
    "    }\n",
    "\n",
    "n_HP_points_to_test = 50\n",
    "\n",
    "random_search = RandomizedSearchCV(\n",
    "    estimator=lgb_model, param_distributions= Random_Search_Params, \n",
    "    n_iter=n_HP_points_to_test,\n",
    "    cv=3,\n",
    "    refit=True,\n",
    "    random_state=314,\n",
    "    verbose=True)\n",
    "\n",
    "random_search.fit(prepared, y)\n",
    "\n",
    "# Using parameters already set above, replace in the best from the random search\n",
    "params['learning_rate'] = random_search.best_params_['learning_rate']\n",
    "params['max_depth'] = random_search.best_params_['max_depth']\n",
    "params['num_leaves'] = random_search.best_params_['num_leaves']\n",
    "\n",
    "\n",
    "\n",
    "random_search.best_estimator_"
   ]
  },
  {
   "cell_type": "code",
   "execution_count": 20,
   "metadata": {
    "pycharm": {
     "name": "#%%\n"
    }
   },
   "outputs": [
    {
     "data": {
      "text/plain": [
       "['../model/model.joblib']"
      ]
     },
     "execution_count": 20,
     "metadata": {},
     "output_type": "execute_result"
    }
   ],
   "source": [
    "joblib.dump(random_search.best_estimator_, \"../model/model.joblib\", compress = 1)\n"
   ]
  },
  {
   "cell_type": "markdown",
   "source": [
    "**7 & 8 The solution is launching** \n",
    "\n",
    "The app is upp and running! We have a db up on Heroku but when we tried to run the prediction we ran out of ram(and we're too cheap to pay). However its runnable and you get a own movie(predicted revenue is low) where we show the running app. \n",
    "One problem is that low budget results in very low revenue this i probably due to that the model uses both budget and budget_year_ratio. Another reason is that movies that where missing budget info(=0) often also had very low revenue.\n",
    "\n",
    "However most of the time we get a really decent prediction(within 300 000 of the actual revenue), considering how easy to use the app is(only  10 fields) and the small size of the train/test set we are happy. \n",
    "\n",
    "People loves movies so there could be an intrest for this app even if it probably wont be a comercial success."
   ],
   "metadata": {
    "collapsed": false
   }
  },
  {
   "cell_type": "markdown",
   "metadata": {},
   "source": [
    "**7 & 8 The solution is launching** \n",
    "\n",
    "The app is upp and running! We have a db up on Heroku but when we tried to run the prediction we ran out of ram(and we're too cheap to pay). However its runnable and you get a own movie(predicted revenue is low) where we show the running app. \n",
    "One problem is that low budget results in very low revenue this i probably due to that the model uses both budget and budget_year_ratio. Another reason is that movies that where missing budget info(=0) often also had very low revenue.\n",
    "\n",
    "However most of the time we get a really decent prediction(within 300 000 of the actual revenue), considering how easy to use the app is(only  10 fields) and the small size of the train/test set we are happy. \n",
    "\n",
    "People loves movies so there could be an intrest for this app even if it probably wont be a comercial success."
   ]
  }
 ],
 "metadata": {
  "kernelspec": {
   "display_name": "Python 3",
   "language": "python",
   "name": "python3"
  },
  "language_info": {
   "codemirror_mode": {
    "name": "ipython",
    "version": 3
   },
   "file_extension": ".py",
   "mimetype": "text/x-python",
   "name": "python",
   "nbconvert_exporter": "python",
   "pygments_lexer": "ipython3",
   "version": "3.7.3"
  },
  "papermill": {
   "duration": 66.827638,
   "end_time": "2020-11-16T15:44:05.722995",
   "environment_variables": {},
   "exception": null,
   "input_path": "__notebook__.ipynb",
   "output_path": "__notebook__.ipynb",
   "parameters": {},
   "start_time": "2020-11-16T15:42:58.895357",
   "version": "2.1.0"
  }
 },
 "nbformat": 4,
 "nbformat_minor": 4
}