{
 "cells": [
  {
   "cell_type": "markdown",
   "metadata": {
    "papermill": {
     "duration": 0.047987,
     "end_time": "2020-11-08T15:24:42.329460",
     "exception": false,
     "start_time": "2020-11-08T15:24:42.281473",
     "status": "completed"
    },
    "tags": []
   },
   "source": [
    "\n",
    "\n",
    "Oblig2 ML Dat158 Playing the whole game (Niklas Johansson, Darren Bernardo, Per-Helge Litzheim, Hassan Ali Abdullahi)\n",
    "\n",
    "During this exercise we will follow the eight steps of Appendix B:\n",
    "\n",
    " 1   Frame the problem and look at the big picture\n",
    " 2   Get the data\n",
    " 3   Explore the data to gain insights\n",
    " 4   Prepare the data\n",
    " 5   Explore many different models and short-list the best ones\n",
    " 6   Fine-tune your models and combine them into a great solution\n",
    " 7   Present your solution\n",
    " 8   Launch, monitor and maintain your system\n",
    "    "
   ]
  },
  {
   "cell_type": "markdown",
   "metadata": {
    "papermill": {
     "duration": 0.046713,
     "end_time": "2020-11-08T15:24:42.423057",
     "exception": false,
     "start_time": "2020-11-08T15:24:42.376344",
     "status": "completed"
    },
    "tags": []
   },
   "source": [
    "**1. Framing the problem**\n"
   ]
  },
  {
   "cell_type": "markdown",
   "metadata": {
    "papermill": {
     "duration": 0.046595,
     "end_time": "2020-11-08T15:24:42.517002",
     "exception": false,
     "start_time": "2020-11-08T15:24:42.470407",
     "status": "completed"
    },
    "tags": []
   },
   "source": [
    "**2. Getting the Data**"
   ]
  },
  {
   "cell_type": "code",
   "execution_count": null,
   "metadata": {
    "papermill": {
     "duration": 0.04644,
     "end_time": "2020-11-08T15:24:42.611511",
     "exception": false,
     "start_time": "2020-11-08T15:24:42.565071",
     "status": "completed"
    },
    "tags": []
   },
   "outputs": [],
   "source": []
  },
  {
   "cell_type": "code",
   "execution_count": 1,
   "metadata": {
    "execution": {
     "iopub.execute_input": "2020-11-08T15:24:42.733947Z",
     "iopub.status.busy": "2020-11-08T15:24:42.720518Z",
     "iopub.status.idle": "2020-11-08T15:24:50.996631Z",
     "shell.execute_reply": "2020-11-08T15:24:50.995889Z"
    },
    "papermill": {
     "duration": 8.337982,
     "end_time": "2020-11-08T15:24:50.996766",
     "exception": false,
     "start_time": "2020-11-08T15:24:42.658784",
     "status": "completed"
    },
    "tags": []
   },
   "outputs": [
    {
     "name": "stderr",
     "output_type": "stream",
     "text": [
      "c:\\users\\ph\\pycharmprojects\\dat158ml2\\venv\\lib\\site-packages\\sklearn\\utils\\deprecation.py:143: FutureWarning: The sklearn.metrics.scorer module is  deprecated in version 0.22 and will be removed in version 0.24. The corresponding classes / functions should instead be imported from sklearn.metrics. Anything that cannot be imported from sklearn.metrics is now part of the private API.\n",
      "  warnings.warn(message, FutureWarning)\n",
      "c:\\users\\ph\\pycharmprojects\\dat158ml2\\venv\\lib\\site-packages\\sklearn\\utils\\deprecation.py:143: FutureWarning: The sklearn.feature_selection.base module is  deprecated in version 0.22 and will be removed in version 0.24. The corresponding classes / functions should instead be imported from sklearn.feature_selection. Anything that cannot be imported from sklearn.feature_selection is now part of the private API.\n",
      "  warnings.warn(message, FutureWarning)\n"
     ]
    }
   ],
   "source": [
    "%matplotlib inline\n",
    "import numpy as np # linear algebra\n",
    "import pandas as pd # data processing, CSV file I/O (e.g. pd.read_csv)\n",
    "import matplotlib.pyplot as plt\n",
    "import seaborn as sns # prettier plotting\n",
    "import lightgbm as lgb\n",
    "import itertools\n",
    "import ast\n",
    "import eli5\n",
    "import time\n",
    "import xgboost as xgb\n",
    "\n",
    "\n",
    "from sklearn.feature_extraction.text import TfidfVectorizer\n",
    "from sklearn.model_selection import train_test_split, KFold\n",
    "from scipy import stats\n",
    "from sklearn.base import BaseEstimator,TransformerMixin,RegressorMixin\n",
    "from sklearn.pipeline import Pipeline\n",
    "from sklearn.preprocessing import OneHotEncoder\n",
    "from sklearn.preprocessing import StandardScaler\n",
    "from sklearn.ensemble import RandomForestRegressor\n",
    "from sklearn.metrics import mean_squared_error\n",
    "from sklearn.model_selection import GridSearchCV\n",
    "from sklearn.feature_selection import f_regression\n",
    "from sklearn.preprocessing import OrdinalEncoder\n",
    "from sklearn.impute import SimpleImputer\n",
    "from sklearn.tree import DecisionTreeRegressor\n",
    "from collections import Counter\n",
    "from sklearn.model_selection import train_test_split\n",
    "from sklearn.decomposition import TruncatedSVD\n",
    "from sklearn.preprocessing import Normalizer\n",
    "from sklearn.pipeline import make_pipeline\n",
    "from sklearn.preprocessing import LabelEncoder, OneHotEncoder\n",
    "from sklearn.model_selection import RandomizedSearchCV, GridSearchCV\n",
    "from sklearn import model_selection\n",
    "import warnings\n",
    "\n",
    "warnings.filterwarnings(\"ignore\")\n",
    "plt.style.use('fivethirtyeight')\n",
    "\n",
    "\n",
    "import os\n",
    "for dirname, _, filenames in os.walk('/kaggle/input'):\n",
    "    for filename in filenames:\n",
    "        print(os.path.join(dirname, filename))\n",
    "\n",
    "# You can write up to 5GB to the current directory (/kaggle/working/) that gets preserved as output when you create a version using \"Save & Run All\" \n",
    "# You can also write temporary files to /kaggle/temp/, but they won't be saved outside of the current session"
   ]
  },
  {
   "cell_type": "code",
   "execution_count": 2,
   "metadata": {
    "_cell_guid": "79c7e3d0-c299-4dcb-8224-4455121ee9b0",
    "_uuid": "d629ff2d2480ee46fbb7e2d37f6b5fab8052498a",
    "execution": {
     "iopub.execute_input": "2020-11-08T15:24:51.107315Z",
     "iopub.status.busy": "2020-11-08T15:24:51.106530Z",
     "iopub.status.idle": "2020-11-08T15:24:52.086178Z",
     "shell.execute_reply": "2020-11-08T15:24:52.085445Z"
    },
    "papermill": {
     "duration": 1.040877,
     "end_time": "2020-11-08T15:24:52.086305",
     "exception": false,
     "start_time": "2020-11-08T15:24:51.045428",
     "status": "completed"
    },
    "tags": []
   },
   "outputs": [
    {
     "name": "stdout",
     "output_type": "stream",
     "text": [
      "<class 'pandas.core.frame.DataFrame'>\n",
      "RangeIndex: 3000 entries, 0 to 2999\n",
      "Data columns (total 23 columns):\n",
      " #   Column                 Non-Null Count  Dtype  \n",
      "---  ------                 --------------  -----  \n",
      " 0   id                     3000 non-null   int64  \n",
      " 1   belongs_to_collection  604 non-null    object \n",
      " 2   budget                 3000 non-null   int64  \n",
      " 3   genres                 2993 non-null   object \n",
      " 4   homepage               946 non-null    object \n",
      " 5   imdb_id                3000 non-null   object \n",
      " 6   original_language      3000 non-null   object \n",
      " 7   original_title         3000 non-null   object \n",
      " 8   overview               2992 non-null   object \n",
      " 9   popularity             3000 non-null   float64\n",
      " 10  poster_path            2999 non-null   object \n",
      " 11  production_companies   2844 non-null   object \n",
      " 12  production_countries   2945 non-null   object \n",
      " 13  release_date           3000 non-null   object \n",
      " 14  runtime                2998 non-null   float64\n",
      " 15  spoken_languages       2980 non-null   object \n",
      " 16  status                 3000 non-null   object \n",
      " 17  tagline                2403 non-null   object \n",
      " 18  title                  3000 non-null   object \n",
      " 19  Keywords               2724 non-null   object \n",
      " 20  cast                   2987 non-null   object \n",
      " 21  crew                   2984 non-null   object \n",
      " 22  revenue                3000 non-null   int64  \n",
      "dtypes: float64(2), int64(3), object(18)\n",
      "memory usage: 539.2+ KB\n"
     ]
    }
   ],
   "source": [
    "#train = pd.read_csv('../input/tmdb-box-office-prediction/train.csv')\n",
    "#test = pd.read_csv('../input/tmdb-box-office-prediction/test.csv')\n",
    "#sample_submission = pd.read_csv('../input/tmdb-box-office-prediction/sample_submission.csv')\n",
    "train = pd.read_csv('DATA/train.csv')\n",
    "test = pd.read_csv('DATA/test.csv')\n",
    "sample_submission = pd.read_csv('DATA/sample_submission.csv')\n",
    "                   \n",
    "train.info()"
   ]
  },
  {
   "cell_type": "code",
   "execution_count": 3,
   "metadata": {
    "execution": {
     "iopub.execute_input": "2020-11-08T15:24:52.192299Z",
     "iopub.status.busy": "2020-11-08T15:24:52.191424Z",
     "iopub.status.idle": "2020-11-08T15:24:52.196450Z",
     "shell.execute_reply": "2020-11-08T15:24:52.195815Z"
    },
    "papermill": {
     "duration": 0.061274,
     "end_time": "2020-11-08T15:24:52.196573",
     "exception": false,
     "start_time": "2020-11-08T15:24:52.135299",
     "status": "completed"
    },
    "tags": []
   },
   "outputs": [
    {
     "data": {
      "text/plain": [
       "((3000, 23), (4398, 22))"
      ]
     },
     "execution_count": 3,
     "metadata": {},
     "output_type": "execute_result"
    }
   ],
   "source": [
    "# checking shape of data\n",
    "shape = train.shape\n",
    "train.shape, test.shape\n"
   ]
  },
  {
   "cell_type": "markdown",
   "metadata": {
    "papermill": {
     "duration": 0.048892,
     "end_time": "2020-11-08T15:24:52.294759",
     "exception": false,
     "start_time": "2020-11-08T15:24:52.245867",
     "status": "completed"
    },
    "tags": []
   },
   "source": [
    "\n",
    "**3. Exploring the data**\n",
    "\n",
    "The set has allready been split into a train and a test set. In this case we have 3000 entries in the test set and 4398 in the test set. This is far away from the normal 80/20 split and seems unfortunate when the test set is so small. With 21 columns of data there is a lot to play with so lets see what it contains:\n"
   ]
  },
  {
   "cell_type": "code",
   "execution_count": 4,
   "metadata": {
    "execution": {
     "iopub.execute_input": "2020-11-08T15:24:52.410622Z",
     "iopub.status.busy": "2020-11-08T15:24:52.409714Z",
     "iopub.status.idle": "2020-11-08T15:24:52.850967Z",
     "shell.execute_reply": "2020-11-08T15:24:52.851542Z"
    },
    "papermill": {
     "duration": 0.507743,
     "end_time": "2020-11-08T15:24:52.851689",
     "exception": false,
     "start_time": "2020-11-08T15:24:52.343946",
     "status": "completed"
    },
    "tags": []
   },
   "outputs": [
    {
     "data": {
      "image/png": "[encoded data removed]",
      "text/plain": [
       "<Figure size 1440x576 with 1 Axes>"
      ]
     },
     "metadata": {},
     "output_type": "display_data"
    }
   ],
   "source": [
    "# calculate percentage of missing values\n",
    "pct_nans = round(train.isnull().sum()/shape[0]*100,1).to_frame().sort_values(by=[0], ascending=False)\n",
    "# create a bar chart\n",
    "plt.figure(figsize=(20,8))\n",
    "sns.barplot(x=pct_nans.index, y=pct_nans[0])\n",
    "plt.axhline(10, ls=\"--\")\n",
    "plt.xticks(rotation=90, fontsize=14)\n",
    "plt.title(\"Percentage of missing values\", fontsize=14)\n",
    "plt.ylabel(\"Missing values [%]\", fontsize=14)\n",
    "plt.show()"
   ]
  },
  {
   "cell_type": "code",
   "execution_count": 5,
   "metadata": {
    "execution": {
     "iopub.execute_input": "2020-11-08T15:24:52.966331Z",
     "iopub.status.busy": "2020-11-08T15:24:52.962450Z",
     "iopub.status.idle": "2020-11-08T15:24:53.019142Z",
     "shell.execute_reply": "2020-11-08T15:24:53.019754Z"
    },
    "papermill": {
     "duration": 0.116768,
     "end_time": "2020-11-08T15:24:53.019912",
     "exception": false,
     "start_time": "2020-11-08T15:24:52.903144",
     "status": "completed"
    },
    "tags": []
   },
   "outputs": [
    {
     "data": {
      "text/html": [
       "<div>\n",
       "<style scoped>\n",
       "    .dataframe tbody tr th:only-of-type {\n",
       "        vertical-align: middle;\n",
       "    }\n",
       "\n",
       "    .dataframe tbody tr th {\n",
       "        vertical-align: top;\n",
       "    }\n",
       "\n",
       "    .dataframe thead th {\n",
       "        text-align: right;\n",
       "    }\n",
       "</style>\n",
       "<table border=\"1\" class=\"dataframe\">\n",
       "  <thead>\n",
       "    <tr style=\"text-align: right;\">\n",
       "      <th></th>\n",
       "      <th>id</th>\n",
       "      <th>belongs_to_collection</th>\n",
       "      <th>budget</th>\n",
       "      <th>genres</th>\n",
       "      <th>homepage</th>\n",
       "      <th>imdb_id</th>\n",
       "      <th>original_language</th>\n",
       "      <th>original_title</th>\n",
       "      <th>overview</th>\n",
       "      <th>popularity</th>\n",
       "      <th>...</th>\n",
       "      <th>release_date</th>\n",
       "      <th>runtime</th>\n",
       "      <th>spoken_languages</th>\n",
       "      <th>status</th>\n",
       "      <th>tagline</th>\n",
       "      <th>title</th>\n",
       "      <th>Keywords</th>\n",
       "      <th>cast</th>\n",
       "      <th>crew</th>\n",
       "      <th>revenue</th>\n",
       "    </tr>\n",
       "  </thead>\n",
       "  <tbody>\n",
       "    <tr>\n",
       "      <th>0</th>\n",
       "      <td>1</td>\n",
       "      <td>[{'id': 313576, 'name': 'Hot Tub Time Machine ...</td>\n",
       "      <td>14000000</td>\n",
       "      <td>[{'id': 35, 'name': 'Comedy'}]</td>\n",
       "      <td>NaN</td>\n",
       "      <td>tt2637294</td>\n",
       "      <td>en</td>\n",
       "      <td>Hot Tub Time Machine 2</td>\n",
       "      <td>When Lou, who has become the \"father of the In...</td>\n",
       "      <td>6.575393</td>\n",
       "      <td>...</td>\n",
       "      <td>2/20/15</td>\n",
       "      <td>93.0</td>\n",
       "      <td>[{'iso_639_1': 'en', 'name': 'English'}]</td>\n",
       "      <td>Released</td>\n",
       "      <td>The Laws of Space and Time are About to be Vio...</td>\n",
       "      <td>Hot Tub Time Machine 2</td>\n",
       "      <td>[{'id': 4379, 'name': 'time travel'}, {'id': 9...</td>\n",
       "      <td>[{'cast_id': 4, 'character': 'Lou', 'credit_id...</td>\n",
       "      <td>[{'credit_id': '59ac067c92514107af02c8c8', 'de...</td>\n",
       "      <td>12314651</td>\n",
       "    </tr>\n",
       "    <tr>\n",
       "      <th>1</th>\n",
       "      <td>2</td>\n",
       "      <td>[{'id': 107674, 'name': 'The Princess Diaries ...</td>\n",
       "      <td>40000000</td>\n",
       "      <td>[{'id': 35, 'name': 'Comedy'}, {'id': 18, 'nam...</td>\n",
       "      <td>NaN</td>\n",
       "      <td>tt0368933</td>\n",
       "      <td>en</td>\n",
       "      <td>The Princess Diaries 2: Royal Engagement</td>\n",
       "      <td>Mia Thermopolis is now a college graduate and ...</td>\n",
       "      <td>8.248895</td>\n",
       "      <td>...</td>\n",
       "      <td>8/6/04</td>\n",
       "      <td>113.0</td>\n",
       "      <td>[{'iso_639_1': 'en', 'name': 'English'}]</td>\n",
       "      <td>Released</td>\n",
       "      <td>It can take a lifetime to find true love; she'...</td>\n",
       "      <td>The Princess Diaries 2: Royal Engagement</td>\n",
       "      <td>[{'id': 2505, 'name': 'coronation'}, {'id': 42...</td>\n",
       "      <td>[{'cast_id': 1, 'character': 'Mia Thermopolis'...</td>\n",
       "      <td>[{'credit_id': '52fe43fe9251416c7502563d', 'de...</td>\n",
       "      <td>95149435</td>\n",
       "    </tr>\n",
       "    <tr>\n",
       "      <th>2</th>\n",
       "      <td>3</td>\n",
       "      <td>NaN</td>\n",
       "      <td>3300000</td>\n",
       "      <td>[{'id': 18, 'name': 'Drama'}]</td>\n",
       "      <td>http://sonyclassics.com/whiplash/</td>\n",
       "      <td>tt2582802</td>\n",
       "      <td>en</td>\n",
       "      <td>Whiplash</td>\n",
       "      <td>Under the direction of a ruthless instructor, ...</td>\n",
       "      <td>64.299990</td>\n",
       "      <td>...</td>\n",
       "      <td>10/10/14</td>\n",
       "      <td>105.0</td>\n",
       "      <td>[{'iso_639_1': 'en', 'name': 'English'}]</td>\n",
       "      <td>Released</td>\n",
       "      <td>The road to greatness can take you to the edge.</td>\n",
       "      <td>Whiplash</td>\n",
       "      <td>[{'id': 1416, 'name': 'jazz'}, {'id': 1523, 'n...</td>\n",
       "      <td>[{'cast_id': 5, 'character': 'Andrew Neimann',...</td>\n",
       "      <td>[{'credit_id': '54d5356ec3a3683ba0000039', 'de...</td>\n",
       "      <td>13092000</td>\n",
       "    </tr>\n",
       "    <tr>\n",
       "      <th>3</th>\n",
       "      <td>4</td>\n",
       "      <td>NaN</td>\n",
       "      <td>1200000</td>\n",
       "      <td>[{'id': 53, 'name': 'Thriller'}, {'id': 18, 'n...</td>\n",
       "      <td>http://kahaanithefilm.com/</td>\n",
       "      <td>tt1821480</td>\n",
       "      <td>hi</td>\n",
       "      <td>Kahaani</td>\n",
       "      <td>Vidya Bagchi (Vidya Balan) arrives in Kolkata ...</td>\n",
       "      <td>3.174936</td>\n",
       "      <td>...</td>\n",
       "      <td>3/9/12</td>\n",
       "      <td>122.0</td>\n",
       "      <td>[{'iso_639_1': 'en', 'name': 'English'}, {'iso...</td>\n",
       "      <td>Released</td>\n",
       "      <td>NaN</td>\n",
       "      <td>Kahaani</td>\n",
       "      <td>[{'id': 10092, 'name': 'mystery'}, {'id': 1054...</td>\n",
       "      <td>[{'cast_id': 1, 'character': 'Vidya Bagchi', '...</td>\n",
       "      <td>[{'credit_id': '52fe48779251416c9108d6eb', 'de...</td>\n",
       "      <td>16000000</td>\n",
       "    </tr>\n",
       "    <tr>\n",
       "      <th>4</th>\n",
       "      <td>5</td>\n",
       "      <td>NaN</td>\n",
       "      <td>0</td>\n",
       "      <td>[{'id': 28, 'name': 'Action'}, {'id': 53, 'nam...</td>\n",
       "      <td>NaN</td>\n",
       "      <td>tt1380152</td>\n",
       "      <td>ko</td>\n",
       "      <td>마린보이</td>\n",
       "      <td>Marine Boy is the story of a former national s...</td>\n",
       "      <td>1.148070</td>\n",
       "      <td>...</td>\n",
       "      <td>2/5/09</td>\n",
       "      <td>118.0</td>\n",
       "      <td>[{'iso_639_1': 'ko', 'name': '한국어/조선말'}]</td>\n",
       "      <td>Released</td>\n",
       "      <td>NaN</td>\n",
       "      <td>Marine Boy</td>\n",
       "      <td>NaN</td>\n",
       "      <td>[{'cast_id': 3, 'character': 'Chun-soo', 'cred...</td>\n",
       "      <td>[{'credit_id': '52fe464b9251416c75073b43', 'de...</td>\n",
       "      <td>3923970</td>\n",
       "    </tr>\n",
       "    <tr>\n",
       "      <th>...</th>\n",
       "      <td>...</td>\n",
       "      <td>...</td>\n",
       "      <td>...</td>\n",
       "      <td>...</td>\n",
       "      <td>...</td>\n",
       "      <td>...</td>\n",
       "      <td>...</td>\n",
       "      <td>...</td>\n",
       "      <td>...</td>\n",
       "      <td>...</td>\n",
       "      <td>...</td>\n",
       "      <td>...</td>\n",
       "      <td>...</td>\n",
       "      <td>...</td>\n",
       "      <td>...</td>\n",
       "      <td>...</td>\n",
       "      <td>...</td>\n",
       "      <td>...</td>\n",
       "      <td>...</td>\n",
       "      <td>...</td>\n",
       "      <td>...</td>\n",
       "    </tr>\n",
       "    <tr>\n",
       "      <th>2995</th>\n",
       "      <td>2996</td>\n",
       "      <td>NaN</td>\n",
       "      <td>0</td>\n",
       "      <td>[{'id': 35, 'name': 'Comedy'}, {'id': 10749, '...</td>\n",
       "      <td>NaN</td>\n",
       "      <td>tt0109403</td>\n",
       "      <td>en</td>\n",
       "      <td>Chasers</td>\n",
       "      <td>Military men Rock Reilly and Eddie Devane are ...</td>\n",
       "      <td>9.853270</td>\n",
       "      <td>...</td>\n",
       "      <td>4/22/94</td>\n",
       "      <td>102.0</td>\n",
       "      <td>[{'iso_639_1': 'en', 'name': 'English'}]</td>\n",
       "      <td>Released</td>\n",
       "      <td>It was supposed to be a routine prisoner trans...</td>\n",
       "      <td>Chasers</td>\n",
       "      <td>[{'id': 378, 'name': 'prison'}, {'id': 572, 'n...</td>\n",
       "      <td>[{'cast_id': 2, 'character': 'Rock Reilly', 'c...</td>\n",
       "      <td>[{'credit_id': '52fe4494c3a368484e02ac7d', 'de...</td>\n",
       "      <td>1596687</td>\n",
       "    </tr>\n",
       "    <tr>\n",
       "      <th>2996</th>\n",
       "      <td>2997</td>\n",
       "      <td>NaN</td>\n",
       "      <td>0</td>\n",
       "      <td>[{'id': 18, 'name': 'Drama'}, {'id': 10402, 'n...</td>\n",
       "      <td>NaN</td>\n",
       "      <td>tt2364975</td>\n",
       "      <td>sv</td>\n",
       "      <td>Vi är bäst!</td>\n",
       "      <td>Three girls in 1980s Stockholm decide to form ...</td>\n",
       "      <td>3.727996</td>\n",
       "      <td>...</td>\n",
       "      <td>3/28/13</td>\n",
       "      <td>102.0</td>\n",
       "      <td>[{'iso_639_1': 'sv', 'name': 'svenska'}]</td>\n",
       "      <td>Released</td>\n",
       "      <td>NaN</td>\n",
       "      <td>We Are the Best!</td>\n",
       "      <td>[{'id': 1192, 'name': 'sweden'}, {'id': 4470, ...</td>\n",
       "      <td>[{'cast_id': 5, 'character': 'Bobo', 'credit_i...</td>\n",
       "      <td>[{'credit_id': '5716b72ac3a3686678012c84', 'de...</td>\n",
       "      <td>180590</td>\n",
       "    </tr>\n",
       "    <tr>\n",
       "      <th>2997</th>\n",
       "      <td>2998</td>\n",
       "      <td>NaN</td>\n",
       "      <td>65000000</td>\n",
       "      <td>[{'id': 80, 'name': 'Crime'}, {'id': 28, 'name...</td>\n",
       "      <td>NaN</td>\n",
       "      <td>tt0116908</td>\n",
       "      <td>en</td>\n",
       "      <td>The Long Kiss Goodnight</td>\n",
       "      <td>Samantha Caine, suburban homemaker, is the ide...</td>\n",
       "      <td>14.482345</td>\n",
       "      <td>...</td>\n",
       "      <td>10/11/96</td>\n",
       "      <td>120.0</td>\n",
       "      <td>[{'iso_639_1': 'en', 'name': 'English'}]</td>\n",
       "      <td>Released</td>\n",
       "      <td>What's forgotten is not always gone.</td>\n",
       "      <td>The Long Kiss Goodnight</td>\n",
       "      <td>[{'id': 441, 'name': 'assassination'}, {'id': ...</td>\n",
       "      <td>[{'cast_id': 10, 'character': 'Samantha Caine ...</td>\n",
       "      <td>[{'credit_id': '52fe443a9251416c7502d579', 'de...</td>\n",
       "      <td>89456761</td>\n",
       "    </tr>\n",
       "    <tr>\n",
       "      <th>2998</th>\n",
       "      <td>2999</td>\n",
       "      <td>NaN</td>\n",
       "      <td>42000000</td>\n",
       "      <td>[{'id': 35, 'name': 'Comedy'}, {'id': 10749, '...</td>\n",
       "      <td>http://www.alongcamepolly.com/</td>\n",
       "      <td>tt0343135</td>\n",
       "      <td>en</td>\n",
       "      <td>Along Came Polly</td>\n",
       "      <td>Reuben Feffer is a guy who's spent his entire ...</td>\n",
       "      <td>15.725542</td>\n",
       "      <td>...</td>\n",
       "      <td>1/16/04</td>\n",
       "      <td>90.0</td>\n",
       "      <td>[{'iso_639_1': 'en', 'name': 'English'}]</td>\n",
       "      <td>Released</td>\n",
       "      <td>For the most cautious man on Earth, life is ab...</td>\n",
       "      <td>Along Came Polly</td>\n",
       "      <td>[{'id': 966, 'name': 'beach'}, {'id': 2676, 'n...</td>\n",
       "      <td>[{'cast_id': 8, 'character': 'Reuben Feffer', ...</td>\n",
       "      <td>[{'credit_id': '556f817b9251410866000a63', 'de...</td>\n",
       "      <td>171963386</td>\n",
       "    </tr>\n",
       "    <tr>\n",
       "      <th>2999</th>\n",
       "      <td>3000</td>\n",
       "      <td>NaN</td>\n",
       "      <td>35000000</td>\n",
       "      <td>[{'id': 53, 'name': 'Thriller'}, {'id': 28, 'n...</td>\n",
       "      <td>http://www.abductionthefilm.com/</td>\n",
       "      <td>tt1600195</td>\n",
       "      <td>en</td>\n",
       "      <td>Abduction</td>\n",
       "      <td>A young man sets out to uncover the truth abou...</td>\n",
       "      <td>10.512109</td>\n",
       "      <td>...</td>\n",
       "      <td>9/22/11</td>\n",
       "      <td>106.0</td>\n",
       "      <td>[{'iso_639_1': 'en', 'name': 'English'}]</td>\n",
       "      <td>Released</td>\n",
       "      <td>They stole his life. He's taking it back.</td>\n",
       "      <td>Abduction</td>\n",
       "      <td>[{'id': 591, 'name': 'cia'}, {'id': 822, 'name...</td>\n",
       "      <td>[{'cast_id': 2, 'character': 'Nathan Harper', ...</td>\n",
       "      <td>[{'credit_id': '5391990d0e0a260fb5001629', 'de...</td>\n",
       "      <td>82087155</td>\n",
       "    </tr>\n",
       "  </tbody>\n",
       "</table>\n",
       "<p>3000 rows × 23 columns</p>\n",
       "</div>"
      ],
      "text/plain": [
       "        id                              belongs_to_collection    budget  \\\n",
       "0        1  [{'id': 313576, 'name': 'Hot Tub Time Machine ...  14000000   \n",
       "1        2  [{'id': 107674, 'name': 'The Princess Diaries ...  40000000   \n",
       "2        3                                                NaN   3300000   \n",
       "3        4                                                NaN   1200000   \n",
       "4        5                                                NaN         0   \n",
       "...    ...                                                ...       ...   \n",
       "2995  2996                                                NaN         0   \n",
       "2996  2997                                                NaN         0   \n",
       "2997  2998                                                NaN  65000000   \n",
       "2998  2999                                                NaN  42000000   \n",
       "2999  3000                                                NaN  35000000   \n",
       "\n",
       "                                                 genres  \\\n",
       "0                        [{'id': 35, 'name': 'Comedy'}]   \n",
       "1     [{'id': 35, 'name': 'Comedy'}, {'id': 18, 'nam...   \n",
       "2                         [{'id': 18, 'name': 'Drama'}]   \n",
       "3     [{'id': 53, 'name': 'Thriller'}, {'id': 18, 'n...   \n",
       "4     [{'id': 28, 'name': 'Action'}, {'id': 53, 'nam...   \n",
       "...                                                 ...   \n",
       "2995  [{'id': 35, 'name': 'Comedy'}, {'id': 10749, '...   \n",
       "2996  [{'id': 18, 'name': 'Drama'}, {'id': 10402, 'n...   \n",
       "2997  [{'id': 80, 'name': 'Crime'}, {'id': 28, 'name...   \n",
       "2998  [{'id': 35, 'name': 'Comedy'}, {'id': 10749, '...   \n",
       "2999  [{'id': 53, 'name': 'Thriller'}, {'id': 28, 'n...   \n",
       "\n",
       "                               homepage    imdb_id original_language  \\\n",
       "0                                   NaN  tt2637294                en   \n",
       "1                                   NaN  tt0368933                en   \n",
       "2     http://sonyclassics.com/whiplash/  tt2582802                en   \n",
       "3            http://kahaanithefilm.com/  tt1821480                hi   \n",
       "4                                   NaN  tt1380152                ko   \n",
       "...                                 ...        ...               ...   \n",
       "2995                                NaN  tt0109403                en   \n",
       "2996                                NaN  tt2364975                sv   \n",
       "2997                                NaN  tt0116908                en   \n",
       "2998     http://www.alongcamepolly.com/  tt0343135                en   \n",
       "2999   http://www.abductionthefilm.com/  tt1600195                en   \n",
       "\n",
       "                                original_title  \\\n",
       "0                       Hot Tub Time Machine 2   \n",
       "1     The Princess Diaries 2: Royal Engagement   \n",
       "2                                     Whiplash   \n",
       "3                                      Kahaani   \n",
       "4                                         마린보이   \n",
       "...                                        ...   \n",
       "2995                                   Chasers   \n",
       "2996                               Vi är bäst!   \n",
       "2997                   The Long Kiss Goodnight   \n",
       "2998                          Along Came Polly   \n",
       "2999                                 Abduction   \n",
       "\n",
       "                                               overview  popularity  ...  \\\n",
       "0     When Lou, who has become the \"father of the In...    6.575393  ...   \n",
       "1     Mia Thermopolis is now a college graduate and ...    8.248895  ...   \n",
       "2     Under the direction of a ruthless instructor, ...   64.299990  ...   \n",
       "3     Vidya Bagchi (Vidya Balan) arrives in Kolkata ...    3.174936  ...   \n",
       "4     Marine Boy is the story of a former national s...    1.148070  ...   \n",
       "...                                                 ...         ...  ...   \n",
       "2995  Military men Rock Reilly and Eddie Devane are ...    9.853270  ...   \n",
       "2996  Three girls in 1980s Stockholm decide to form ...    3.727996  ...   \n",
       "2997  Samantha Caine, suburban homemaker, is the ide...   14.482345  ...   \n",
       "2998  Reuben Feffer is a guy who's spent his entire ...   15.725542  ...   \n",
       "2999  A young man sets out to uncover the truth abou...   10.512109  ...   \n",
       "\n",
       "     release_date runtime                                   spoken_languages  \\\n",
       "0         2/20/15    93.0           [{'iso_639_1': 'en', 'name': 'English'}]   \n",
       "1          8/6/04   113.0           [{'iso_639_1': 'en', 'name': 'English'}]   \n",
       "2        10/10/14   105.0           [{'iso_639_1': 'en', 'name': 'English'}]   \n",
       "3          3/9/12   122.0  [{'iso_639_1': 'en', 'name': 'English'}, {'iso...   \n",
       "4          2/5/09   118.0           [{'iso_639_1': 'ko', 'name': '한국어/조선말'}]   \n",
       "...           ...     ...                                                ...   \n",
       "2995      4/22/94   102.0           [{'iso_639_1': 'en', 'name': 'English'}]   \n",
       "2996      3/28/13   102.0           [{'iso_639_1': 'sv', 'name': 'svenska'}]   \n",
       "2997     10/11/96   120.0           [{'iso_639_1': 'en', 'name': 'English'}]   \n",
       "2998      1/16/04    90.0           [{'iso_639_1': 'en', 'name': 'English'}]   \n",
       "2999      9/22/11   106.0           [{'iso_639_1': 'en', 'name': 'English'}]   \n",
       "\n",
       "        status                                            tagline  \\\n",
       "0     Released  The Laws of Space and Time are About to be Vio...   \n",
       "1     Released  It can take a lifetime to find true love; she'...   \n",
       "2     Released    The road to greatness can take you to the edge.   \n",
       "3     Released                                                NaN   \n",
       "4     Released                                                NaN   \n",
       "...        ...                                                ...   \n",
       "2995  Released  It was supposed to be a routine prisoner trans...   \n",
       "2996  Released                                                NaN   \n",
       "2997  Released               What's forgotten is not always gone.   \n",
       "2998  Released  For the most cautious man on Earth, life is ab...   \n",
       "2999  Released          They stole his life. He's taking it back.   \n",
       "\n",
       "                                         title  \\\n",
       "0                       Hot Tub Time Machine 2   \n",
       "1     The Princess Diaries 2: Royal Engagement   \n",
       "2                                     Whiplash   \n",
       "3                                      Kahaani   \n",
       "4                                   Marine Boy   \n",
       "...                                        ...   \n",
       "2995                                   Chasers   \n",
       "2996                          We Are the Best!   \n",
       "2997                   The Long Kiss Goodnight   \n",
       "2998                          Along Came Polly   \n",
       "2999                                 Abduction   \n",
       "\n",
       "                                               Keywords  \\\n",
       "0     [{'id': 4379, 'name': 'time travel'}, {'id': 9...   \n",
       "1     [{'id': 2505, 'name': 'coronation'}, {'id': 42...   \n",
       "2     [{'id': 1416, 'name': 'jazz'}, {'id': 1523, 'n...   \n",
       "3     [{'id': 10092, 'name': 'mystery'}, {'id': 1054...   \n",
       "4                                                   NaN   \n",
       "...                                                 ...   \n",
       "2995  [{'id': 378, 'name': 'prison'}, {'id': 572, 'n...   \n",
       "2996  [{'id': 1192, 'name': 'sweden'}, {'id': 4470, ...   \n",
       "2997  [{'id': 441, 'name': 'assassination'}, {'id': ...   \n",
       "2998  [{'id': 966, 'name': 'beach'}, {'id': 2676, 'n...   \n",
       "2999  [{'id': 591, 'name': 'cia'}, {'id': 822, 'name...   \n",
       "\n",
       "                                                   cast  \\\n",
       "0     [{'cast_id': 4, 'character': 'Lou', 'credit_id...   \n",
       "1     [{'cast_id': 1, 'character': 'Mia Thermopolis'...   \n",
       "2     [{'cast_id': 5, 'character': 'Andrew Neimann',...   \n",
       "3     [{'cast_id': 1, 'character': 'Vidya Bagchi', '...   \n",
       "4     [{'cast_id': 3, 'character': 'Chun-soo', 'cred...   \n",
       "...                                                 ...   \n",
       "2995  [{'cast_id': 2, 'character': 'Rock Reilly', 'c...   \n",
       "2996  [{'cast_id': 5, 'character': 'Bobo', 'credit_i...   \n",
       "2997  [{'cast_id': 10, 'character': 'Samantha Caine ...   \n",
       "2998  [{'cast_id': 8, 'character': 'Reuben Feffer', ...   \n",
       "2999  [{'cast_id': 2, 'character': 'Nathan Harper', ...   \n",
       "\n",
       "                                                   crew    revenue  \n",
       "0     [{'credit_id': '59ac067c92514107af02c8c8', 'de...   12314651  \n",
       "1     [{'credit_id': '52fe43fe9251416c7502563d', 'de...   95149435  \n",
       "2     [{'credit_id': '54d5356ec3a3683ba0000039', 'de...   13092000  \n",
       "3     [{'credit_id': '52fe48779251416c9108d6eb', 'de...   16000000  \n",
       "4     [{'credit_id': '52fe464b9251416c75073b43', 'de...    3923970  \n",
       "...                                                 ...        ...  \n",
       "2995  [{'credit_id': '52fe4494c3a368484e02ac7d', 'de...    1596687  \n",
       "2996  [{'credit_id': '5716b72ac3a3686678012c84', 'de...     180590  \n",
       "2997  [{'credit_id': '52fe443a9251416c7502d579', 'de...   89456761  \n",
       "2998  [{'credit_id': '556f817b9251410866000a63', 'de...  171963386  \n",
       "2999  [{'credit_id': '5391990d0e0a260fb5001629', 'de...   82087155  \n",
       "\n",
       "[3000 rows x 23 columns]"
      ]
     },
     "execution_count": 5,
     "metadata": {},
     "output_type": "execute_result"
    }
   ],
   "source": [
    "train"
   ]
  },
  {
   "cell_type": "markdown",
   "metadata": {
    "papermill": {
     "duration": 0.052547,
     "end_time": "2020-11-08T15:24:53.125682",
     "exception": false,
     "start_time": "2020-11-08T15:24:53.073135",
     "status": "completed"
    },
    "tags": []
   },
   "source": [
    "**Belongs_to_collection:**  \n",
    "Contains the TMDB Id, Name, Movie Poster and Backdrop URL of a movie in JSON format. Lets keep it simple and make it a yes(1)/no(0).\n",
    "\n"
   ]
  },
  {
   "cell_type": "code",
   "execution_count": 6,
   "metadata": {
    "execution": {
     "iopub.execute_input": "2020-11-08T15:24:53.243121Z",
     "iopub.status.busy": "2020-11-08T15:24:53.242032Z",
     "iopub.status.idle": "2020-11-08T15:24:53.246209Z",
     "shell.execute_reply": "2020-11-08T15:24:53.245482Z"
    },
    "papermill": {
     "duration": 0.067092,
     "end_time": "2020-11-08T15:24:53.246336",
     "exception": false,
     "start_time": "2020-11-08T15:24:53.179244",
     "status": "completed"
    },
    "tags": []
   },
   "outputs": [
    {
     "data": {
      "text/plain": [
       "count                                                   604\n",
       "unique                                                  422\n",
       "top       [{'id': 645, 'name': 'James Bond Collection', ...\n",
       "freq                                                     16\n",
       "Name: belongs_to_collection, dtype: object"
      ]
     },
     "execution_count": 6,
     "metadata": {},
     "output_type": "execute_result"
    }
   ],
   "source": [
    "train.belongs_to_collection.describe()"
   ]
  },
  {
   "cell_type": "markdown",
   "metadata": {
    "papermill": {
     "duration": 0.05313,
     "end_time": "2020-11-08T15:24:53.352957",
     "exception": false,
     "start_time": "2020-11-08T15:24:53.299827",
     "status": "completed"
    },
    "tags": []
   },
   "source": [
    "**Budget:** \n",
    "Budget of a movie in dollars. 0 values mean unknown. A lot of unknown values, we should try to replace theese(values can be stolen from other Notebooks)"
   ]
  },
  {
   "cell_type": "markdown",
   "metadata": {
    "papermill": {
     "duration": 0.054322,
     "end_time": "2020-11-08T15:24:53.460679",
     "exception": false,
     "start_time": "2020-11-08T15:24:53.406357",
     "status": "completed"
    },
    "tags": []
   },
   "source": [
    "**Homepage:** \n",
    "Contains the official homepage URL of a movie.    "
   ]
  },
  {
   "cell_type": "markdown",
   "metadata": {
    "papermill": {
     "duration": 0.054099,
     "end_time": "2020-11-08T15:24:53.570102",
     "exception": false,
     "start_time": "2020-11-08T15:24:53.516003",
     "status": "completed"
    },
    "tags": []
   },
   "source": [
    "**Imdb_id, Keywords, Poster path, Original_title, Overview,Spoken languages, Status & Title:**\n",
    "Theese contains mostly useless links or are of little consequence, I'll drop'em for now!"
   ]
  },
  {
   "cell_type": "code",
   "execution_count": 7,
   "metadata": {
    "execution": {
     "iopub.execute_input": "2020-11-08T15:24:53.686306Z",
     "iopub.status.busy": "2020-11-08T15:24:53.685346Z",
     "iopub.status.idle": "2020-11-08T15:24:53.689682Z",
     "shell.execute_reply": "2020-11-08T15:24:53.690249Z"
    },
    "papermill": {
     "duration": 0.066661,
     "end_time": "2020-11-08T15:24:53.690416",
     "exception": false,
     "start_time": "2020-11-08T15:24:53.623755",
     "status": "completed"
    },
    "tags": []
   },
   "outputs": [
    {
     "data": {
      "text/plain": [
       "Released    2996\n",
       "Rumored        4\n",
       "Name: status, dtype: int64"
      ]
     },
     "execution_count": 7,
     "metadata": {},
     "output_type": "execute_result"
    }
   ],
   "source": [
    "# Status: Only 4 values in \"Rumored\"! Remove Status..\n",
    "train.status.value_counts()"
   ]
  },
  {
   "cell_type": "code",
   "execution_count": 8,
   "metadata": {
    "execution": {
     "iopub.execute_input": "2020-11-08T15:24:53.813070Z",
     "iopub.status.busy": "2020-11-08T15:24:53.809511Z",
     "iopub.status.idle": "2020-11-08T15:24:53.818068Z",
     "shell.execute_reply": "2020-11-08T15:24:53.817346Z"
    },
    "papermill": {
     "duration": 0.072583,
     "end_time": "2020-11-08T15:24:53.818194",
     "exception": false,
     "start_time": "2020-11-08T15:24:53.745611",
     "status": "completed"
    },
    "tags": []
   },
   "outputs": [
    {
     "data": {
      "text/plain": [
       "[{'id': 10183, 'name': 'independent film'}]                                                                                                                                                                                                                                                                                                                                                        27\n",
       "[{'id': 187056, 'name': 'woman director'}]                                                                                                                                                                                                                                                                                                                                                         19\n",
       "[{'id': 179431, 'name': 'duringcreditsstinger'}]                                                                                                                                                                                                                                                                                                                                                    7\n",
       "[{'id': 9937, 'name': 'suspense'}]                                                                                                                                                                                                                                                                                                                                                                  6\n",
       "[{'id': 5565, 'name': 'biography'}]                                                                                                                                                                                                                                                                                                                                                                 5\n",
       "                                                                                                                                                                                                                                                                                                                                                                                                   ..\n",
       "[{'id': 1326, 'name': 'infidelity'}, {'id': 14512, 'name': 'new york city'}, {'id': 155457, 'name': 'screwball comedy'}, {'id': 156731, 'name': 'escort'}, {'id': 163110, 'name': 'theater'}, {'id': 183133, 'name': 'aspiring actor'}, {'id': 190178, 'name': 'sex worker'}, {'id': 195726, 'name': 'broadway director'}]                                                                          1\n",
       "[{'id': 128, 'name': 'love triangle'}, {'id': 1009, 'name': 'baby'}, {'id': 9663, 'name': 'sequel'}, {'id': 13149, 'name': 'pregnancy'}, {'id': 14670, 'name': 'unknown father'}, {'id': 18011, 'name': 'pregnant woman'}, {'id': 163277, 'name': 'childbirth'}, {'id': 167310, 'name': 'sitting on a toilet'}, {'id': 187056, 'name': 'woman director'}, {'id': 221197, 'name': 'ultrasound'}]     1\n",
       "[{'id': 818, 'name': 'based on novel'}, {'id': 5565, 'name': 'biography'}, {'id': 6165, 'name': 'historical figure'}, {'id': 9073, 'name': 'marilyn monroe'}]                                                                                                                                                                                                                                       1\n",
       "[{'id': 494, 'name': 'father son relationship'}, {'id': 720, 'name': 'helicopter'}, {'id': 1812, 'name': 'fbi'}, {'id': 2669, 'name': 'motel'}, {'id': 3713, 'name': 'chase'}, {'id': 170865, 'name': 'child kidnapping'}, {'id': 173177, 'name': 'religious sect'}, {'id': 226471, 'name': 'goggles'}]                                                                                             1\n",
       "[{'id': 818, 'name': 'based on novel'}, {'id': 9663, 'name': 'sequel'}, {'id': 11477, 'name': 'talking animal'}, {'id': 14759, 'name': 'ape'}]                                                                                                                                                                                                                                                      1\n",
       "Name: Keywords, Length: 2648, dtype: int64"
      ]
     },
     "execution_count": 8,
     "metadata": {},
     "output_type": "execute_result"
    }
   ],
   "source": [
    "train.Keywords.value_counts()"
   ]
  },
  {
   "cell_type": "markdown",
   "metadata": {
    "papermill": {
     "duration": 0.054862,
     "end_time": "2020-11-08T15:24:53.928809",
     "exception": false,
     "start_time": "2020-11-08T15:24:53.873947",
     "status": "completed"
    },
    "tags": []
   },
   "source": [
    "**Original_language:**\n",
    "Two digit code of the original language, in which the movie was made. Like: en = English, fr = french. (Finished)"
   ]
  },
  {
   "cell_type": "markdown",
   "metadata": {
    "papermill": {
     "duration": 0.055157,
     "end_time": "2020-11-08T15:24:54.039467",
     "exception": false,
     "start_time": "2020-11-08T15:24:53.984310",
     "status": "completed"
    },
    "tags": []
   },
   "source": [
    "**Popularity:** Popularity of the movie in float"
   ]
  },
  {
   "cell_type": "markdown",
   "metadata": {
    "papermill": {
     "duration": 0.055493,
     "end_time": "2020-11-08T15:24:54.149968",
     "exception": false,
     "start_time": "2020-11-08T15:24:54.094475",
     "status": "completed"
    },
    "tags": []
   },
   "source": [
    "**Production_companies:** All production company name and TMDB id in JSON format of a movie."
   ]
  },
  {
   "cell_type": "markdown",
   "metadata": {
    "papermill": {
     "duration": 0.054918,
     "end_time": "2020-11-08T15:24:54.260046",
     "exception": false,
     "start_time": "2020-11-08T15:24:54.205128",
     "status": "completed"
    },
    "tags": []
   },
   "source": [
    "**Production_countries:** Two digit code and full name of the production company in JSON format."
   ]
  },
  {
   "cell_type": "code",
   "execution_count": 9,
   "metadata": {
    "execution": {
     "iopub.execute_input": "2020-11-08T15:24:54.381479Z",
     "iopub.status.busy": "2020-11-08T15:24:54.380387Z",
     "iopub.status.idle": "2020-11-08T15:24:54.385153Z",
     "shell.execute_reply": "2020-11-08T15:24:54.385704Z"
    },
    "papermill": {
     "duration": 0.070206,
     "end_time": "2020-11-08T15:24:54.385872",
     "exception": false,
     "start_time": "2020-11-08T15:24:54.315666",
     "status": "completed"
    },
    "tags": []
   },
   "outputs": [
    {
     "data": {
      "text/plain": [
       "[{'iso_3166_1': 'US', 'name': 'United States of America'}]                                                                                                                                   1752\n",
       "[{'iso_3166_1': 'GB', 'name': 'United Kingdom'}, {'iso_3166_1': 'US', 'name': 'United States of America'}]                                                                                    118\n",
       "[{'iso_3166_1': 'GB', 'name': 'United Kingdom'}]                                                                                                                                               94\n",
       "[{'iso_3166_1': 'IN', 'name': 'India'}]                                                                                                                                                        69\n",
       "[{'iso_3166_1': 'FR', 'name': 'France'}]                                                                                                                                                       51\n",
       "                                                                                                                                                                                             ... \n",
       "[{'iso_3166_1': 'DE', 'name': 'Germany'}, {'iso_3166_1': 'TR', 'name': 'Turkey'}]                                                                                                               1\n",
       "[{'iso_3166_1': 'CA', 'name': 'Canada'}, {'iso_3166_1': 'HK', 'name': 'Hong Kong'}, {'iso_3166_1': 'TW', 'name': 'Taiwan'}, {'iso_3166_1': 'US', 'name': 'United States of America'}]           1\n",
       "[{'iso_3166_1': 'CN', 'name': 'China'}, {'iso_3166_1': 'CA', 'name': 'Canada'}, {'iso_3166_1': 'US', 'name': 'United States of America'}, {'iso_3166_1': 'GB', 'name': 'United Kingdom'}]       1\n",
       "[{'iso_3166_1': 'AU', 'name': 'Australia'}, {'iso_3166_1': 'HK', 'name': 'Hong Kong'}, {'iso_3166_1': 'RU', 'name': 'Russia'}, {'iso_3166_1': 'US', 'name': 'United States of America'}]        1\n",
       "[{'iso_3166_1': 'CA', 'name': 'Canada'}, {'iso_3166_1': 'IT', 'name': 'Italy'}, {'iso_3166_1': 'US', 'name': 'United States of America'}]                                                       1\n",
       "Name: production_countries, Length: 321, dtype: int64"
      ]
     },
     "execution_count": 9,
     "metadata": {},
     "output_type": "execute_result"
    }
   ],
   "source": [
    "train.production_countries.value_counts()"
   ]
  },
  {
   "cell_type": "markdown",
   "metadata": {
    "papermill": {
     "duration": 0.056136,
     "end_time": "2020-11-08T15:24:54.498413",
     "exception": false,
     "start_time": "2020-11-08T15:24:54.442277",
     "status": "completed"
    },
    "tags": []
   },
   "source": [
    "**Release_date:** Release date of a movie in mm/dd/yy format."
   ]
  },
  {
   "cell_type": "code",
   "execution_count": 10,
   "metadata": {
    "execution": {
     "iopub.execute_input": "2020-11-08T15:24:54.619021Z",
     "iopub.status.busy": "2020-11-08T15:24:54.617664Z",
     "iopub.status.idle": "2020-11-08T15:24:54.622283Z",
     "shell.execute_reply": "2020-11-08T15:24:54.621647Z"
    },
    "papermill": {
     "duration": 0.067664,
     "end_time": "2020-11-08T15:24:54.622415",
     "exception": false,
     "start_time": "2020-11-08T15:24:54.554751",
     "status": "completed"
    },
    "tags": []
   },
   "outputs": [
    {
     "data": {
      "text/plain": [
       "0      7/14/07\n",
       "1      5/19/58\n",
       "2      5/23/97\n",
       "3       9/4/10\n",
       "4      2/11/05\n",
       "5       2/7/96\n",
       "6     12/23/10\n",
       "7      2/11/00\n",
       "8       3/2/07\n",
       "9     10/30/99\n",
       "10      9/1/05\n",
       "11     6/27/14\n",
       "12     9/10/80\n",
       "13     5/16/02\n",
       "14      9/9/08\n",
       "15     9/12/10\n",
       "16     3/26/10\n",
       "17     4/16/14\n",
       "18    12/20/79\n",
       "19    11/18/97\n",
       "Name: release_date, dtype: object"
      ]
     },
     "execution_count": 10,
     "metadata": {},
     "output_type": "execute_result"
    }
   ],
   "source": [
    "test.release_date.head(20)"
   ]
  },
  {
   "cell_type": "markdown",
   "metadata": {
    "papermill": {
     "duration": 0.057128,
     "end_time": "2020-11-08T15:24:54.735978",
     "exception": false,
     "start_time": "2020-11-08T15:24:54.678850",
     "status": "completed"
    },
    "tags": []
   },
   "source": [
    "**Runtime:** Total runtime of a movie in minutes (Integer)."
   ]
  },
  {
   "cell_type": "markdown",
   "metadata": {
    "papermill": {
     "duration": 0.055835,
     "end_time": "2020-11-08T15:24:54.849318",
     "exception": false,
     "start_time": "2020-11-08T15:24:54.793483",
     "status": "completed"
    },
    "tags": []
   },
   "source": [
    "**Tagline**: Tagline of a movie "
   ]
  },
  {
   "cell_type": "markdown",
   "metadata": {
    "papermill": {
     "duration": 0.055764,
     "end_time": "2020-11-08T15:24:54.961051",
     "exception": false,
     "start_time": "2020-11-08T15:24:54.905287",
     "status": "completed"
    },
    "tags": []
   },
   "source": [
    "**Cast:** All cast TMDB id, name, character name, gender (1 = Female, 2 = Male) in JSON format"
   ]
  },
  {
   "cell_type": "code",
   "execution_count": 11,
   "metadata": {
    "execution": {
     "iopub.execute_input": "2020-11-08T15:24:55.096064Z",
     "iopub.status.busy": "2020-11-08T15:24:55.092053Z",
     "iopub.status.idle": "2020-11-08T15:24:55.100804Z",
     "shell.execute_reply": "2020-11-08T15:24:55.100079Z"
    },
    "papermill": {
     "duration": 0.083857,
     "end_time": "2020-11-08T15:24:55.100945",
     "exception": false,
     "start_time": "2020-11-08T15:24:55.017088",
     "status": "completed"
    },
    "tags": []
   },
   "outputs": [
    {
     "data": {
      "text/plain": [
       "count     2987\n",
       "unique    2975\n",
       "top         []\n",
       "freq        13\n",
       "Name: cast, dtype: object"
      ]
     },
     "execution_count": 11,
     "metadata": {},
     "output_type": "execute_result"
    }
   ],
   "source": [
    "train.cast.describe()\n",
    "#train.cast.head()"
   ]
  },
  {
   "cell_type": "markdown",
   "metadata": {
    "papermill": {
     "duration": 0.056109,
     "end_time": "2020-11-08T15:24:55.213768",
     "exception": false,
     "start_time": "2020-11-08T15:24:55.157659",
     "status": "completed"
    },
    "tags": []
   },
   "source": [
    "**Crew:** Name, TMDB id, profile path of various kind of crew members job like Director, Writer, Art, Sound etc. (Use Director)"
   ]
  },
  {
   "cell_type": "code",
   "execution_count": 12,
   "metadata": {
    "execution": {
     "iopub.execute_input": "2020-11-08T15:24:55.347386Z",
     "iopub.status.busy": "2020-11-08T15:24:55.346287Z",
     "iopub.status.idle": "2020-11-08T15:24:55.371844Z",
     "shell.execute_reply": "2020-11-08T15:24:55.372453Z"
    },
    "papermill": {
     "duration": 0.102184,
     "end_time": "2020-11-08T15:24:55.372610",
     "exception": false,
     "start_time": "2020-11-08T15:24:55.270426",
     "status": "completed"
    },
    "tags": []
   },
   "outputs": [
    {
     "data": {
      "text/plain": [
       "[{'credit_id': '52fe464cc3a368484e088f3b', 'department': 'Writing', 'gender': 0, 'id': 232747, 'job': 'Screenplay', 'name': 'Olivier Masset-Depasse', 'profile_path': None}, {'credit_id': '52fe464cc3a368484e088f35', 'department': 'Directing', 'gender': 0, 'id': 232747, 'job': 'Director', 'name': 'Olivier Masset-Depasse', 'profile_path': None}]                                                                                                                                                                                                                                                                                                                                                                                                                                                                                                                                                                                                                                                                                                                                                                                                                                                                                                                                                                                                                                                                                                                                                                                                                                                                                                                                                                                                                                                                                                                                                                                                                                                                                                                                                                                                                                                                                                                                                                                                                                                                                                                                                                                                                                                                                                                                                                                                                                                                                                                                                                                                                                                                                                                                                                                                                                                                                                                                                                                                                                                                                                                                                                                                                                                                                                                                                                                                                                                                                                                                                                                                                                                                                                                                                                                                                                                                                                                                                                                                                                                                                                                                                                                                                                                                                                                                                                                                                                                                                                                                                                                                                                                                                                                                                                                                                                                                                                                                                                                                                                                                                                                                                                                                                                                                                                                                                                                                                                                                                                                                                                                                                                                                                                                                                                                                                                                                                                                                                                                                                                                                                                                                                                                                                                                                                                                                                                                                                                                                                                                                                                                                                                                                                                                                                                                                                                                                                                                                                                                                                                                                                                                                                                                                                                                                                                                                                                                                                                                                                                                                                                                                                                                                                                                                                                                                                                                                                                                                                                                                                                                                                                                                                                                                                                                                                                                                                                                                                                                                                                                                                                                                                                                                                                                                                                                                                                                                                                                                                                                                                                                                                                                                                                                                                                                                                                                                                                                                                                                                                                                                                                                                                                                                                                                                                                                                                                                                                                                                                                                                                                                                                                                                                                                                                                                                                                                                                                                                                                                                                                                                                                                                                                                                                                                                                                                                                                                                                                                                                                                                                                                                                                                                                                                                                                                                                                                                                                                                                                                                                                                                                                                                                                                                                                                                                                                                                                                                                                                                                                                                                                                                                                                                                                                                                                                                                                                                                                                                                                                                                                                                                                                                                                                                                                                                                                                                                                                                                                                                                                                                                                                                                                                                                                                                                                                                                                                                                                                                                                                                                                                                                                                                                                                                                                                                                                                                                                                                                                                                                                                                                                                                                                                                                                                                                                                                                                                                                                                                                                                                                                                                                                                                                                                                                                                                                     1\n",
       "[{'credit_id': '57d40429c3a3685568003fc5', 'department': 'Production', 'gender': 0, 'id': 130317, 'job': 'Producer', 'name': 'Tommy Leung Ga-Shu', 'profile_path': None}, {'credit_id': '57d403dc92514160a700449c', 'department': 'Crew', 'gender': 2, 'id': 140488, 'job': 'Cinematography', 'name': 'Kenny Tse', 'profile_path': None}, {'credit_id': '57d4041592514160a4003eef', 'department': 'Production', 'gender': 2, 'id': 548474, 'job': 'Producer', 'name': 'Wong Jing', 'profile_path': '/asZClP70V7W8zlFDzAzuQFGBZtC.jpg'}, {'credit_id': '581f488ec3a3685ef200614f', 'department': 'Writing', 'gender': 0, 'id': 1399598, 'job': 'Writer', 'name': 'Cat Kwan Ho-Ming', 'profile_path': None}, {'credit_id': '57d403c8c3a368556d0046ff', 'department': 'Editing', 'gender': 0, 'id': 1426399, 'job': 'Editor', 'name': 'Azrael Chung Wai-Chiu', 'profile_path': None}, {'credit_id': '57dc55ccc3a368639c000fdc', 'department': 'Directing', 'gender': 0, 'id': 1680238, 'job': 'Director', 'name': 'Jazz Boon', 'profile_path': None}, {'credit_id': '581f46cac3a3685afd00630f', 'department': 'Sound', 'gender': 0, 'id': 1704973, 'job': 'Music', 'name': 'Yusuke Hatano', 'profile_path': None}]                                                                                                                                                                                                                                                                                                                                                                                                                                                                                                                                                                                                                                                                                                                                                                                                                                                                                                                                                                                                                                                                                                                                                                                                                                                                                                                                                                                                                                                                                                                                                                                                                                                                                                                                                                                                                                                                                                                                                                                                                                                                                                                                                                                                                                                                                                                                                                                                                                                                                                                                                                                                                                                                                                                                                                                                                                                                                                                                                                                                                                                                                                                                                                                                                                                                                                                                                                                                                                                                                                                                                                                                                                                                                                                                                                                                                                                                                                                                                                                                                                                                                                                                                                                                                                                                                                                                                                                                                                                                                                                                                                                                                                                                                                                                                                                                                                                                                                                                                                                                                                                                                                                                                                                                                                                                                                                                                                                                                                                                                                                                                                                                                                                                                                                                                                                                                                                                                                                                                                                                                                                                                                                                                                                                                                                                                                                                                                                                                                                                                                                                                                                                                                                                                                                                                                                                                                                                                                                                                                                                                                                                                                                                                                                                                                                                                                                                                                                                                                                                                                                                                                                                                                                                                                                                                                                                                                                                                                                                                                                                                                                                                                                                                                                                                                                                                                                                                                                                                                                                                                                                                                                                                                                                                                                                                                                                                                                                                                                                                                                                                                                                                                                                                                                                                                                                                                                                                                                                                                                                                                                                                                                                                                                                                                                                                                                                                                                                                                                                                                                                                                                                                                                                                                                                                                                                                                                                                                                                                                                                                                                                                                                                                                                                                                                                                                                                                                                                                                                                                                                                                                                                                                                                                                                                                                                                                                                                                                                                                                                                                                                                                                                                                                                                                                                                                                                                                                                                                                                                                                                                                                                                                                                                                                                                                                                                                                                                                                                                                                                                                                                                                                                                                                                                                                                                                                                                                                                                                                                                                                                                                                                                                                                                                                                                                                                                                                                                                                                                                                                                                                                                                                                                                                                                                                                                                                                                                                                                                              1\n",
       "[{'credit_id': '52fe46b69251416c9105d395', 'department': 'Production', 'gender': 0, 'id': 561, 'job': 'Casting', 'name': 'John Papsidera', 'profile_path': '/quM89TMS6BncoIh4NdlWugXVhuF.jpg'}, {'credit_id': '58838526925141045100a6ce', 'department': 'Production', 'gender': 2, 'id': 1296, 'job': 'Executive Producer', 'name': 'Bruce Berman', 'profile_path': '/nXKlbRLV5aKzIW6XViCAiqWbxPk.jpg'}, {'credit_id': '52fe46b69251416c9105d37d', 'department': 'Production', 'gender': 1, 'id': 1899, 'job': 'Executive Producer', 'name': 'Denise Di Novi', 'profile_path': '/2U7NbchfxJpZOwOWE5FVtQY7gBK.jpg'}, {'credit_id': '5883a99ec3a368063c00c4a5', 'department': 'Art', 'gender': 1, 'id': 11079, 'job': 'Set Decoration', 'name': 'Cindy Carr', 'profile_path': '/vSTmvvf9X00fufN6zFBwgOxIPF1.jpg'}, {'credit_id': '52fe46b69251416c9105d389', 'department': 'Camera', 'gender': 2, 'id': 8846, 'job': 'Director of Photography', 'name': 'Andrew Dunn', 'profile_path': '/vguhffdvBgtxb5Hl08PKZl160en.jpg'}, {'credit_id': '588384c6c3a368064300b61d', 'department': 'Art', 'gender': 2, 'id': 11475, 'job': 'Production Design', 'name': 'Maher Ahmad', 'profile_path': None}, {'credit_id': '5883aea0925141045100c7df', 'department': 'Sound', 'gender': 0, 'id': 16177, 'job': 'Sound Re-Recording Mixer', 'name': 'Ron Bartlett', 'profile_path': None}, {'credit_id': '52fe46b69251416c9105d371', 'department': 'Production', 'gender': 2, 'id': 16854, 'job': 'Producer', 'name': 'Paul Brooks', 'profile_path': '/uy7mhHQSwl5IHdKgLgNDGGAJ9oe.jpg'}, {'credit_id': '588384e2c3a3684ec6008fdc', 'department': 'Production', 'gender': 2, 'id': 25138, 'job': 'Executive Producer', 'name': 'Scott Niemeyer', 'profile_path': None}, {'credit_id': '588384e9c3a3684f3a0081d8', 'department': 'Production', 'gender': 2, 'id': 25139, 'job': 'Executive Producer', 'name': 'Norm Waitt', 'profile_path': None}, {'credit_id': '5883a9979251413edb00a5af', 'department': 'Art', 'gender': 2, 'id': 19663, 'job': 'Art Direction', 'name': 'Austin Gorg', 'profile_path': None}, {'credit_id': '560c36b09251417196005ed6', 'department': 'Crew', 'gender': 0, 'id': 29216, 'job': 'Choreographer', 'name': 'Zachary Woodlee', 'profile_path': None}, {'credit_id': '588384fb925141046000b487', 'department': 'Production', 'gender': 1, 'id': 25541, 'job': 'Executive Producer', 'name': 'Katherine Heigl', 'profile_path': '/jOHVi7v3lvohI6KY7adnioiX5yl.jpg'}, {'credit_id': '52fe46b69251416c9105d377', 'department': 'Production', 'gender': 2, 'id': 42906, 'job': 'Producer', 'name': 'Barry Josephson', 'profile_path': None}, {'credit_id': '588383afc3a368064d00a8dc', 'department': 'Costume & Make-Up', 'gender': 1, 'id': 41084, 'job': 'Costume Design', 'name': 'Debra McGuire', 'profile_path': None}, {'credit_id': '52fe46b69251416c9105d38f', 'department': 'Editing', 'gender': 0, 'id': 42633, 'job': 'Editor', 'name': 'Jim Page', 'profile_path': None}, {'credit_id': '5883ac91c3a368065000d2fb', 'department': 'Art', 'gender': 2, 'id': 48452, 'job': 'Assistant Art Director', 'name': 'Mark Hunstable', 'profile_path': None}, {'credit_id': '58838454925141045d00ac8c', 'department': 'Sound', 'gender': 2, 'id': 53017, 'job': 'Music', 'name': 'Blake Neely', 'profile_path': None}, {'credit_id': '5883b03ac3a368063900d38d', 'department': 'Sound', 'gender': 2, 'id': 53017, 'job': 'Orchestrator', 'name': 'Blake Neely', 'profile_path': None}, {'credit_id': '5883aafb925141046000d465', 'department': 'Costume & Make-Up', 'gender': 0, 'id': 74323, 'job': 'Makeup Artist', 'name': 'Tania McComas', 'profile_path': None}, {'credit_id': '5883a8c9925141045b00c91a', 'department': 'Production', 'gender': 0, 'id': 75806, 'job': 'Unit Production Manager', 'name': 'Richard J. Gelfand', 'profile_path': None}, {'credit_id': '5883a8d1c3a368064300d5a4', 'department': 'Production', 'gender': 0, 'id': 75806, 'job': 'Associate Producer', 'name': 'Richard J. Gelfand', 'profile_path': None}, {'credit_id': '5883aa7f925141046000d3f5', 'department': 'Visual Effects', 'gender': 2, 'id': 80828, 'job': 'Special Effects Supervisor', 'name': 'David Fletcher', 'profile_path': None}, {'credit_id': '52fe46b69251416c9105d383', 'department': 'Production', 'gender': 0, 'id': 91161, 'job': 'Executive Producer', 'name': 'Joe Hartwick Jr.', 'profile_path': None}, {'credit_id': '52fe46b69251416c9105d33f', 'department': 'Directing', 'gender': 2, 'id': 88967, 'job': 'Director', 'name': 'Greg Berlanti', 'profile_path': '/AbocIYSo4KXx7nT6lz2dj3qMD8H.jpg'}, {'credit_id': '52fe46b69251416c9105d345', 'department': 'Writing', 'gender': 2, 'id': 120353, 'job': 'Writer', 'name': 'Ian Deitchman', 'profile_path': None}, {'credit_id': '52fe46b69251416c9105d34b', 'department': 'Writing', 'gender': 1, 'id': 120354, 'job': 'Writer', 'name': 'Kristin Rusk Robinson', 'profile_path': None}, {'credit_id': '5883afe5925141045100c8f2', 'department': 'Sound', 'gender': 0, 'id': 549349, 'job': 'Orchestrator', 'name': 'Dana Niu', 'profile_path': None}, {'credit_id': '5883aa05925141044c00cc6d', 'department': 'Editing', 'gender': 2, 'id': 960407, 'job': 'Additional Editing', 'name': 'Vince Filippone', 'profile_path': None}, {'credit_id': '5883ab05925141045700c464', 'department': 'Costume & Make-Up', 'gender': 0, 'id': 1069872, 'job': 'Key Hair Stylist', 'name': 'Shunika Terry', 'profile_path': None}, {'credit_id': '5883a990c3a368063c00c499', 'department': 'Crew', 'gender': 0, 'id': 1071998, 'job': 'Stunt Coordinator', 'name': 'Lonnie R. Smith Jr.', 'profile_path': None}, {'credit_id': '5883afb5c3a3684ec600b460', 'department': 'Sound', 'gender': 0, 'id': 1087512, 'job': 'Music Editor', 'name': 'Richard Ziegler', 'profile_path': None}, {'credit_id': '5883ad50925141045d00ce0b', 'department': 'Camera', 'gender': 0, 'id': 1194471, 'job': 'Still Photographer', 'name': 'Peter Iovino', 'profile_path': None}, {'credit_id': '5883aa91925141045700c40a', 'department': 'Costume & Make-Up', 'gender': 0, 'id': 1210259, 'job': 'Hair Department Head', 'name': 'Lucia Mace', 'profile_path': None}, {'credit_id': '5883ac68925141045100c627', 'department': 'Costume & Make-Up', 'gender': 0, 'id': 1325583, 'job': 'Costume Supervisor', 'name': 'Joseph Cigliano', 'profile_path': None}, {'credit_id': '5883afacc3a368064300dbf2', 'department': 'Editing', 'gender': 0, 'id': 1335156, 'job': 'Color Timer', 'name': 'Lee Wimer', 'profile_path': None}, {'credit_id': '5883af20c3a3684ec600b3d4', 'department': 'Editing', 'gender': 0, 'id': 1342658, 'job': 'Dialogue Editor', 'name': 'Frederick H. Stahly', 'profile_path': None}, {'credit_id': '5883acbc925141046000d5f0', 'department': 'Art', 'gender': 1, 'id': 1345586, 'job': 'Art Department Coordinator', 'name': 'Stacie McKinnon', 'profile_path': None}, {'credit_id': '5883a9db9251413edb00a5e2', 'department': 'Sound', 'gender': 0, 'id': 1355963, 'job': 'Boom Operator', 'name': 'Drew Ponder', 'profile_path': None}, {'credit_id': '5883aebec3a368064300daf8', 'department': 'Sound', 'gender': 2, 'id': 1377220, 'job': 'Sound Re-Recording Mixer', 'name': 'Doug Hemphill', 'profile_path': None}, {'credit_id': '5883a9c5925141046000d35e', 'department': 'Directing', 'gender': 0, 'id': 1386923, 'job': 'Script Supervisor', 'name': 'Alicia Accardo', 'profile_path': None}, {'credit_id': '5883af6cc3a368064d00cb4f', 'department': 'Sound', 'gender': 2, 'id': 1387183, 'job': 'ADR Editor', 'name': 'John C. Stuver', 'profile_path': None}, {'credit_id': '588383c4c3a368065000b004', 'department': 'Production', 'gender': 0, 'id': 1393367, 'job': 'Co-Producer', 'name': 'Brad Kessell', 'profile_path': None}, {'credit_id': '5883ae8a925141044c00d050', 'department': 'Sound', 'gender': 0, 'id': 1404212, 'job': 'Supervising Sound Editor', 'name': 'Karen Baker Landers', 'profile_path': None}, {'credit_id': '5883af10c3a368064300db4f', 'department': 'Sound', 'gender': 0, 'id': 1404217, 'job': 'Sound Effects Editor', 'name': 'Peter Staubli', 'profile_path': None}, {'credit_id': '5883a9b5925141045400ce4d', 'department': 'Camera', 'gender': 0, 'id': 1404288, 'job': 'Camera Operator', 'name': 'Joseph V. Cicio', 'profile_path': None}, {'credit_id': '5883af38c3a368064a00bb9c', 'department': 'Editing', 'gender': 2, 'id': 1405382, 'job': 'Dialogue Editor', 'name': 'Chris Hogan', 'profile_path': None}, {'credit_id': '5883af05c3a368063c00c967', 'department': 'Sound', 'gender': 0, 'id': 1406390, 'job': 'Sound Effects Editor', 'name': 'Dan Hegeman', 'profile_path': None}, {'credit_id': '5883a9e5925141045d00cb00', 'department': 'Lighting', 'gender': 0, 'id': 1407740, 'job': 'Chief Lighting Technician', 'name': 'Len Levine', 'profile_path': None}, {'credit_id': '5883aa0f9251413edb00a60f', 'department': 'Art', 'gender': 0, 'id': 1413090, 'job': 'Property Master', 'name': 'Kirk Corwin', 'profile_path': None}, {'credit_id': '5883a9a7c3a368063c00c4ac', 'department': 'Camera', 'gender': 0, 'id': 1418398, 'job': 'Camera Operator', 'name': 'Will Arnot', 'profile_path': None}, {'credit_id': '5883a9ac925141045d00cac5', 'department': 'Camera', 'gender': 0, 'id': 1418398, 'job': 'Steadicam Operator', 'name': 'Will Arnot', 'profile_path': None}, {'credit_id': '5883ad74c3a368064d00c9ab', 'department': 'Art', 'gender': 0, 'id': 1439015, 'job': 'Art Department Assistant', 'name': 'Jenn Moye', 'profile_path': None}, {'credit_id': '5883ab10925141045100c509', 'department': 'Costume & Make-Up', 'gender': 0, 'id': 1445828, 'job': 'Key Makeup Artist', 'name': 'Susan Ransom', 'profile_path': None}, {'credit_id': '5883aa2ec3a368063900ce23', 'department': 'Editing', 'gender': 0, 'id': 1449446, 'job': 'First Assistant Editor', 'name': 'Matt Willard', 'profile_path': None}, {'credit_id': '5883aa9ec3a368063900ce83', 'department': 'Costume & Make-Up', 'gender': 1, 'id': 1459196, 'job': 'Makeup Department Head', 'name': 'Sarah Mays', 'profile_path': None}, {'credit_id': '5883ac29c3a368063900cfbd', 'department': 'Art', 'gender': 0, 'id': 1459200, 'job': 'Construction Coordinator', 'name': 'Jay Womer', 'profile_path': None}, {'credit_id': '5883abde925141044c00ce0b', 'department': 'Production', 'gender': 0, 'id': 1463278, 'job': 'Production Coordinator', 'name': 'Russell Allen', 'profile_path': None}, {'credit_id': '5883aef7c3a3684f3a00a132', 'department': 'Sound', 'gender': 0, 'id': 1500283, 'job': 'Assistant Sound Editor', 'name': 'Philip D. Morrill', 'profile_path': None}, {'credit_id': '5883ab27c3a368064300d7bd', 'department': 'Production', 'gender': 2, 'id': 1549436, 'job': 'Location Manager', 'name': 'Sam Tedesco', 'profile_path': None}, {'credit_id': '5883a9d0c3a368065000d094', 'department': 'Sound', 'gender': 0, 'id': 1550166, 'job': 'Production Sound Mixer', 'name': 'Mary H. Ellis', 'profile_path': None}, {'credit_id': '5883ad23c3a368064a00ba01', 'department': 'Crew', 'gender': 0, 'id': 1553625, 'job': 'Transportation Coordinator', 'name': 'Steve Humphrey', 'profile_path': None}, {'credit_id': '5883a8f9925141045700c2b0', 'department': 'Directing', 'gender': 1, 'id': 1563754, 'job': 'Second Assistant Director', 'name': 'Alyson Latz', 'profile_path': None}, {'credit_id': '5883a8ec925141045d00ca20', 'department': 'Directing', 'gender': 0, 'id': 1563756, 'job': 'First Assistant Director', 'name': 'Michael Lerman', 'profile_path': '/pQ1ZbVYkHiFy8tumDvJg2TaLRnX.jpg'}, {'credit_id': '588384279251413edb00879d', 'department': 'Production', 'gender': 0, 'id': 1596782, 'job': 'Co-Producer', 'name': 'Alexander F. Young', 'profile_path': None}, {'credit_id': '5883aaf29251413edb00a71e', 'department': 'Costume & Make-Up', 'gender': 0, 'id': 1635162, 'job': 'Hairstylist', 'name': 'Sean Flanigan', 'profile_path': None}, {'credit_id': '5883ad8fc3a3684ec600b296', 'department': 'Production', 'gender': 0, 'id': 1660711, 'job': 'Casting Assistant', 'name': 'Dylan Jury', 'profile_path': None}, {'credit_id': '5883abc7925141046000d510', 'department': 'Art', 'gender': 0, 'id': 1666095, 'job': 'Set Designer', 'name': 'Everett Chase', 'profile_path': None}, {'credit_id': '5883aa4cc3a368064300d70d', 'department': 'Editing', 'gender': 0, 'id': 1707140, 'job': 'Assistant Editor', 'name': 'Dave Jackson', 'profile_path': None}, {'credit_id': '5883a9f7925141045d00cb14', 'department': 'Camera', 'gender': 0, 'id': 1738169, 'job': 'Key Grip', 'name': 'C. Alan Rawlins', 'profile_path': None}, {'credit_id': '58838509925141045b00ac48', 'department': 'Production', 'gender': 0, 'id': 1743079, 'job': 'Executive Producer', 'name': 'Nancy Heighl', 'profile_path': None}, {'credit_id': '5883aa24c3a368064300d6ea', 'department': 'Crew', 'gender': 0, 'id': 1743180, 'job': 'Post Production Supervisor', 'name': 'Christy Dimmig', 'profile_path': None}, {'credit_id': '5883abfcc3a3684f3a009eea', 'department': 'Production', 'gender': 1, 'id': 1743185, 'job': 'Production Accountant', 'name': 'Elizabeth Tompkins', 'profile_path': None}, {'credit_id': '5883ac4b925141044c00ce6f', 'department': 'Costume & Make-Up', 'gender': 1, 'id': 1743186, 'job': 'Assistant Costume Designer', 'name': 'Lorraine Z. Calvert', 'profile_path': None}, {'credit_id': '5883ac7dc3a3684ec600b18a', 'department': 'Costume & Make-Up', 'gender': 0, 'id': 1743187, 'job': 'Costume Supervisor', 'name': 'Catherine Hahn', 'profile_path': None}, {'credit_id': '5883ad47c3a368063900d0ba', 'department': 'Crew', 'gender': 0, 'id': 1743188, 'job': 'Unit Publicist', 'name': 'Michael Humble', 'profile_path': None}, {'credit_id': '5883ad5e925141046000d691', 'department': 'Costume & Make-Up', 'gender': 0, 'id': 1743189, 'job': 'Key Costumer', 'name': 'Megan Wiser', 'profile_path': None}, {'credit_id': '5883ad86925141045b00ccdb', 'department': 'Production', 'gender': 0, 'id': 1743190, 'job': 'Casting Associate', 'name': 'Jennifer Cram', 'profile_path': None}, {'credit_id': '5883ade0925141046000d6fb', 'department': 'Production', 'gender': 0, 'id': 1743191, 'job': 'Local Casting', 'name': 'Marty Keener Cherrix', 'profile_path': None}, {'credit_id': '5883ae35c3a3684f3a00a0b4', 'department': 'Crew', 'gender': 0, 'id': 1743192, 'job': 'Post Production Assistant', 'name': 'Eliezer Katzoff', 'profile_path': None}, {'credit_id': '5883ae3f925141044c00d006', 'department': 'Crew', 'gender': 0, 'id': 1743193, 'job': 'Post Production Assistant', 'name': 'Bernie Gomez', 'profile_path': None}, {'credit_id': '5883b027925141045100c92c', 'department': 'Sound', 'gender': 0, 'id': 1743195, 'job': 'Orchestrator', 'name': 'Nathaniel Blume', 'profile_path': None}, {'credit_id': '5883b04c925141045b00cf77', 'department': 'Sound', 'gender': 0, 'id': 1743196, 'job': 'Orchestrator', 'name': 'Marshall Bowen', 'profile_path': None}]    1\n",
       "[{'credit_id': '586ace83c3a3686e2a0034fa', 'department': 'Production', 'gender': 0, 'id': 1035, 'job': 'Producer', 'name': 'Paul Schrader', 'profile_path': '/hLdjFQOtgnvgKVL73dH6CWluicy.jpg'}, {'credit_id': '52fe4ac2c3a36847f81e02cf', 'department': 'Directing', 'gender': 0, 'id': 1035, 'job': 'Director', 'name': 'Paul Schrader', 'profile_path': '/hLdjFQOtgnvgKVL73dH6CWluicy.jpg'}, {'credit_id': '52fe4ac2c3a36847f81e02d5', 'department': 'Writing', 'gender': 0, 'id': 16379, 'job': 'Writer', 'name': 'Bret Easton Ellis', 'profile_path': '/8ExSaiOuvT73cfLpibswHn5lJag.jpg'}, {'credit_id': '52fe4ac2c3a36847f81e02db', 'department': 'Production', 'gender': 0, 'id': 959314, 'job': 'Producer', 'name': 'Braxton Pope', 'profile_path': None}, {'credit_id': '586ace929251412141003230', 'department': 'Production', 'gender': 0, 'id': 16379, 'job': 'Producer', 'name': 'Bret Easton Ellis', 'profile_path': '/8ExSaiOuvT73cfLpibswHn5lJag.jpg'}, {'credit_id': '58b35bef92514177a400ca72', 'department': 'Production', 'gender': 0, 'id': 1765999, 'job': 'Co-Producer', 'name': 'Ricky Horne Jr.', 'profile_path': None}, {'credit_id': '58b35c14c3a368527d00b1df', 'department': 'Production', 'gender': 0, 'id': 1766001, 'job': 'Executive Producer', 'name': 'Paul Hunter', 'profile_path': None}, {'credit_id': '58b35c3dc3a368525400c8f1', 'department': 'Production', 'gender': 0, 'id': 1718899, 'job': 'Co-Producer', 'name': 'Kurt Kittleson', 'profile_path': None}, {'credit_id': '58b35c46c3a368528500b803', 'department': 'Production', 'gender': 0, 'id': 1766002, 'job': 'Co-Producer', 'name': 'Beau Laughlin', 'profile_path': None}, {'credit_id': '58b35c75c3a368528500b821', 'department': 'Production', 'gender': 0, 'id': 1718900, 'job': 'Co-Producer', 'name': 'Ross Levine', 'profile_path': None}, {'credit_id': '58b35ca692514177b800c4f5', 'department': 'Production', 'gender': 0, 'id': 1108685, 'job': 'Co-Producer', 'name': 'Ken Locsmandi', 'profile_path': None}, {'credit_id': '58b35cb492514177b000cc5c', 'department': 'Production', 'gender': 1, 'id': 49265, 'job': 'Co-Producer', 'name': 'Lindsay Lohan', 'profile_path': '/weypivWKuNVwlyExZ7xEcN9Sopc.jpg'}, {'credit_id': '58b35cd9c3a368522000c890', 'department': 'Camera', 'gender': 0, 'id': 1458208, 'job': 'Director of Photography', 'name': 'John DeFazio', 'profile_path': None}, {'credit_id': '58b35ced92514177d100d332', 'department': 'Editing', 'gender': 0, 'id': 19044, 'job': 'Editor', 'name': 'Tim Silano', 'profile_path': None}, {'credit_id': '58b35cfd92514177a400cb31', 'department': 'Art', 'gender': 0, 'id': 1766004, 'job': 'Production Design', 'name': 'Stephanie J. Gordon', 'profile_path': None}, {'credit_id': '58b35d0bc3a36852a300c51e', 'department': 'Costume & Make-Up', 'gender': 0, 'id': 1190103, 'job': 'Costume Design', 'name': 'Keely Crum', 'profile_path': None}, {'credit_id': '58b35d2ac3a36852a300c533', 'department': 'Costume & Make-Up', 'gender': 0, 'id': 1766006, 'job': 'Key Makeup Artist', 'name': 'Julie Rea', 'profile_path': None}, {'credit_id': '58b35d3992514177a400cb6d', 'department': 'Costume & Make-Up', 'gender': 0, 'id': 1766006, 'job': 'Key Hair Stylist', 'name': 'Julie Rea', 'profile_path': None}, {'credit_id': '58b35d5892514177a800c67b', 'department': 'Visual Effects', 'gender': 0, 'id': 1108685, 'job': 'Visual Effects Supervisor', 'name': 'Ken Locsmandi', 'profile_path': None}, {'credit_id': '58b35d67c3a368522000c8f0', 'department': 'Crew', 'gender': 0, 'id': 558896, 'job': 'Stunt Coordinator', 'name': 'Julius LeFlore', 'profile_path': None}, {'credit_id': '58b35d75c3a368525400c9da', 'department': 'Camera', 'gender': 0, 'id': 1766007, 'job': 'Grip', 'name': 'J. Mike Basaman', 'profile_path': None}, {'credit_id': '58b35d81c3a368525400c9e4', 'department': 'Camera', 'gender': 0, 'id': 1766008, 'job': 'Grip', 'name': 'Christopher Boulos', 'profile_path': None}, {'credit_id': '58b35d8fc3a368526d00b329', 'department': 'Camera', 'gender': 0, 'id': 1766009, 'job': 'Key Grip', 'name': 'Cole Chetney', 'profile_path': None}, {'credit_id': '58b35d9d92514177d100d3c8', 'department': 'Camera', 'gender': 0, 'id': 1766010, 'job': 'Grip', 'name': 'Mike I. Davis', 'profile_path': None}, {'credit_id': '58b35dac92514177a800c6b8', 'department': 'Camera', 'gender': 0, 'id': 1766011, 'job': 'Grip', 'name': 'Jared Free', 'profile_path': None}, {'credit_id': '58b35dbb92514177b000ccfa', 'department': 'Camera', 'gender': 0, 'id': 1766012, 'job': 'Grip', 'name': 'Ryo Hata', 'profile_path': None}, {'credit_id': '58b35dd092514177a400cbc0', 'department': 'Art', 'gender': 0, 'id': 1766013, 'job': 'Storyboard Designer', 'name': 'Joshua D. Krohn', 'profile_path': None}, {'credit_id': '58b35de0c3a368528d00c74f', 'department': 'Lighting', 'gender': 0, 'id': 1766014, 'job': 'Gaffer', 'name': 'Christopher S. Walters', 'profile_path': None}, {'credit_id': '58b35dee92514177a400cbd6', 'department': 'Camera', 'gender': 0, 'id': 1766015, 'job': 'Grip', 'name': 'Bobby Woo', 'profile_path': None}, {'credit_id': '58b35dff92514177a400cbe9', 'department': 'Camera', 'gender': 0, 'id': 1766016, 'job': 'Grip', 'name': 'Avihai Yaffe', 'profile_path': None}, {'credit_id': '58b35e0ec3a368526d00b375', 'department': 'Camera', 'gender': 0, 'id': 1766017, 'job': 'Grip', 'name': 'Derek Cohen-Copeland', 'profile_path': None}, {'credit_id': '58b35e35c3a368529700bab5', 'department': 'Sound', 'gender': 0, 'id': 1566120, 'job': 'Music Supervisor', 'name': 'Amin√© Ramer', 'profile_path': None}]                                                                                                                                                                                                                                                                                                                                                                                                                                                                                                                                                                                                                                                                                                                                                                                                                                                                                                                                                                                                                                                                                                                                                                                                                                                                                                                                                                                                                                                                                                                                                                                                                                                                                                                                                                                                                                                                                                                                                                                                                                                                                                                                                                                                                                                                                                                                                                                                                                                                                                                                                                                                                                                                                                                                                                                                                                                                                                                                                                                                                                                                                                                                                                                                                                                                                                                                                                                                                                                                                                                                                                                                                                                                                                                                                                                                                                                                                                                                                                                                                                                                                                                                                                                                                                                                                                                                                                                                                                                                                                                                                                                                                                                                                                                                                                                                                                                                                                                                                                                                                                                                                                                                                                                                                                                                                                                                                                                                                                                                                                                                                                                                                                                                                                                                                                                                                                                                                                                                                                                                                                                                                                                                                                                                                                                                                                                                                                                                                                                                                                                                                                                                                                                                                                                                                                                                                                                                                                                                                                                                                                                                                                                                                                                                                                                                                                                                                                                                                                                                                                                                                                                                                                                                                                                                                                                                                                                                                                                                                                                                                                                                                                                                                                                                                                                                                                                                                                                                                                                                                                                                                                                                                                                                                                                                                                                                                                                                                                                                                                                                                                                                                                                                                                                                                                                                                                                                                                                                                              1\n",
       "[{'credit_id': '52fe426ec3a36847f801e06f', 'department': 'Art', 'gender': 2, 'id': 8380, 'job': 'Art Direction', 'name': 'Michael Lamont', 'profile_path': None}, {'credit_id': '52fe426ec3a36847f801e057', 'department': 'Production', 'gender': 1, 'id': 2874, 'job': 'Casting', 'name': 'Janet Hirshenson', 'profile_path': None}, {'credit_id': '52fe426ec3a36847f801e05d', 'department': 'Production', 'gender': 1, 'id': 3275, 'job': 'Casting', 'name': 'Jane Jenkins', 'profile_path': '/aVOlC6UkKaxZpzvpdRxCjkMtJHI.jpg'}, {'credit_id': '52fe426ec3a36847f801e021', 'department': 'Writing', 'gender': 2, 'id': 9856, 'job': 'Characters', 'name': 'Ian Fleming', 'profile_path': '/3Pld5n7f5AAVjP0HdsAkgSvrlJg.jpg'}, {'credit_id': '52fe426ec3a36847f801e02d', 'department': 'Production', 'gender': 2, 'id': 9861, 'job': 'Producer', 'name': 'Albert R. Broccoli', 'profile_path': '/bgYayDE2fRsgF3ytSzbWvdkDejJ.jpg'}, {'credit_id': '52fe426ec3a36847f801e063', 'department': 'Art', 'gender': 0, 'id': 8524, 'job': 'Production Design', 'name': 'Peter Lamont', 'profile_path': '/auOeNxa9viwhGN3XIO33q4v6Jcq.jpg'}, {'credit_id': '52fe426ec3a36847f801e03f', 'department': 'Sound', 'gender': 2, 'id': 7714, 'job': 'Original Music Composer', 'name': 'Michael Kamen', 'profile_path': '/y83bqw1VP1PkuvOhG2XROwc9eXG.jpg'}, {'credit_id': '52fe426ec3a36847f801e075', 'department': 'Art', 'gender': 2, 'id': 8526, 'job': 'Set Decoration', 'name': 'Michael Ford', 'profile_path': None}, {'credit_id': '52fe426ec3a36847f801e027', 'department': 'Writing', 'gender': 2, 'id': 9858, 'job': 'Screenplay', 'name': 'Richard Maibaum', 'profile_path': '/5esfG4HckFBs9MRxywwLwPnNpfV.jpg'}, {'credit_id': '52fe426ec3a36847f801e01b', 'department': 'Directing', 'gender': 2, 'id': 10179, 'job': 'Director', 'name': 'John Glen', 'profile_path': '/uR9zerOtAOSAC7rSuGLyAv03vtv.jpg'}, {'credit_id': '52fe426ec3a36847f801e039', 'department': 'Production', 'gender': 2, 'id': 10493, 'job': 'Producer', 'name': 'Tom Pevsner', 'profile_path': None}, {'credit_id': '52fe426ec3a36847f801e051', 'department': 'Editing', 'gender': 2, 'id': 10495, 'job': 'Editor', 'name': 'John Grover', 'profile_path': None}, {'credit_id': '551833c0c3a36863020042bf', 'department': 'Production', 'gender': 1, 'id': 10666, 'job': 'Associate Producer', 'name': 'Barbara Broccoli', 'profile_path': '/pHTiuUR93mTJhsThZv0Es4xMerS.jpg'}, {'credit_id': '52fe426ec3a36847f801e04b', 'department': 'Camera', 'gender': 2, 'id': 10668, 'job': 'Director of Photography', 'name': 'Alec Mills', 'profile_path': None}, {'credit_id': '52fe426ec3a36847f801e045', 'department': 'Sound', 'gender': 1, 'id': 10676, 'job': 'Songs', 'name': 'Gladys Knight', 'profile_path': '/9zf6BSoiKn8U6KpEHQNLHg6QHKc.jpg'}, {'credit_id': '52fe426ec3a36847f801e069', 'department': 'Art', 'gender': 2, 'id': 10677, 'job': 'Art Direction', 'name': 'Dennis Bosher', 'profile_path': None}, {'credit_id': '52fe426ec3a36847f801e07b', 'department': 'Costume & Make-Up', 'gender': 2, 'id': 10678, 'job': 'Costume Design', 'name': 'Jodie Lynn Tillen', 'profile_path': None}, {'credit_id': '52fe426ec3a36847f801e0b9', 'department': 'Writing', 'gender': 2, 'id': 69678, 'job': 'Screenplay', 'name': 'Michael G. Wilson', 'profile_path': '/j9E7oKJMgprlrwkUkk2JXdY5tnJ.jpg'}, {'credit_id': '52fe426ec3a36847f801e0bf', 'department': 'Production', 'gender': 2, 'id': 69678, 'job': 'Producer', 'name': 'Michael G. Wilson', 'profile_path': '/j9E7oKJMgprlrwkUkk2JXdY5tnJ.jpg'}]                                                                                                                                                                                                                                                                                                                                                                                                                                                                                                                                                                                                                                                                                                                                                                                                                                                                                                                                                                                                                                                                                                                                                                                                                                                                                                                                                                                                                                                                                                                                                                                                                                                                                                                                                                                                                                                                                                                                                                                                                                                                                                                                                                                                                                                                                                                                                                                                                                                                                                                                                                                                                                                                                                                                                                                                                                                                                                                                                                                                                                                                                                                                                                                                                                                                                                                                                                                                                                                                                                                                                                                                                                                                                                                                                                                                                                                                                                                                                                                                                                                                                                                                                                                                                                                                                                                                                                                                                                                                                                                                                                                                                                                                                                                                                                                                                                                                                                                                                                                                                                                                                                                                                                                                                                                                                                                                                                                                                                                                                                                                                                                                                                                                                                                                                                                                                                                                                                                                                                                                                                                                                                                                                                                                                                                                                                                                                                                                                                                                                                                                                                                                                                                                                                                                                                                                                                                                                                                                                                                                                                                                                                                                                                                                                                                                                                                                                                                                                                                                                                                                                                                                                                                                                                                                                                                                                                                                                                                                                                                                                                                                                                                                                                                                                                                                                                                                                                                                                                                                                                                                                                                                                                                                                                                                                                                                                                                                                                                                                                                                                                                                                                                                                                                                                                                                                                                                                                                                                                                                                                                                                                                                                                                                                                                                                                                                                                                                                                                                                                                                                                                                                                                                                                                                                                                                                                                                                                                                                                                                                                                                                                                                                                                                                                                                                                                                                                                                                                                                                                                                                                                                                                                                                                                                                                                                                                                                                                                                                                                                                                                   1\n",
       "                                                                                                                                                                                                                                                                                                                                                                                                                                                                                                                                                                                                                                                                                                                                                                                                                                                                                                                                                                                                                                                                                                                                                                                                                                                                                                                                                                                                                                                                                                                                                                                                                                                                                                                                                                                                                                                                                                                                                                                                                                                                                                                                                                                                                                                                                                                                                                                                                                                                                                                                                                                                                                                                                                                                                                                                                                                                                                                                                                                                                                                                                                                                                                                                                                                                                                                                                                                                                                                                                                                                                                                                                                                                                                                                                                                                                                                                                                                                                                                                                                                                                                                                                                                                                                                                                                                                                                                                                                                                                                                                                                                                                                                                                                                                                                                                                                                                                                                                                                                                                                                                                                                                                                                                                                                                                                                                                                                                                                                                                                                                                                                                                                                                                                                                                                                                                                                                                                                                                                                                                                                                                                                                                                                                                                                                                                                                                                                                                                                                                                                                                                                                                                                                                                                                                                                                                                                                                                                                                                                                                                                                                                                                                                                                                                                                                                                                                                                                                                                                                                                                                                                                                                                                                                                                                                                                                                                                                                                                                                                                                                                                                                                                                                                                                                                                                                                                                                                                                                                                                                                                                                                                                                                                                                                                                                                                                                                                                                                                                                                                                                                                                                                                                                                                                                                                                                                                                                                                                                                                                                                                                                                                                                                                                                                                                                                                                                                                                                                                                                                                                                                                                                                                                                                                                                                                                                                                                                                                                                                                                                                                                                                                                                                                                                                                                                                                                                                                                                                                                                                                                                                                                                                                                                                                                                                                                                                                                                                                                                                                                                                                                                                                                                                                                                                                                                                                                                                                                                                                                                                                                                                                                                                                                                                                                                                                                                                                                                                                                                                                                                                                                                                                                                                                                                                                                                                                                                                                                                                                                                                                                                                                                                                                                                                                                                                                                                                                                                                                                                                                                                                                                                                                                                                                                                                                                                                                                                                                                                                                                                                                                                                                                                                                                                                                                                                                                                                                                                                                                                                                                                                                                                                                                                                                                                                                                                                                                                                                                                                                                                                                                                                                                                            ..\n",
       "[{'credit_id': '52fe4517c3a36847f80bc0cd', 'department': 'Directing', 'gender': 2, 'id': 1927, 'job': 'Director', 'name': 'Blake Edwards', 'profile_path': '/tQ13izDBcErAV2qSz9KGjQbV5p9.jpg'}, {'credit_id': '52fe4517c3a36847f80bc0d3', 'department': 'Writing', 'gender': 2, 'id': 58415, 'job': 'Screenplay', 'name': 'Stanley Shapiro', 'profile_path': None}, {'credit_id': '52fe4518c3a36847f80bc0d9', 'department': 'Writing', 'gender': 2, 'id': 14255, 'job': 'Screenplay', 'name': 'Maurice Richlin', 'profile_path': None}, {'credit_id': '52fe4518c3a36847f80bc0df', 'department': 'Production', 'gender': 2, 'id': 30103, 'job': 'Producer', 'name': 'Robert Arthur', 'profile_path': None}, {'credit_id': '52fe4518c3a36847f80bc0eb', 'department': 'Camera', 'gender': 2, 'id': 4308, 'job': 'Director of Photography', 'name': 'Russell Harlan', 'profile_path': '/yDYlBTYPEMARI8sKwPjnleqQvFL.jpg'}, {'credit_id': '52fe4518c3a36847f80bc0f1', 'department': 'Editing', 'gender': 2, 'id': 30105, 'job': 'Editor', 'name': 'Frank Gross', 'profile_path': None}, {'credit_id': '58c88f2a9251415568000e30', 'department': 'Production', 'gender': 0, 'id': 1776711, 'job': 'Other', 'name': 'Lucius H. Chappell', 'profile_path': None}, {'credit_id': '58c8948dc3a3682d36001262', 'department': 'Writing', 'gender': 0, 'id': 1776716, 'job': 'Story', 'name': 'Paul King', 'profile_path': None}, {'credit_id': '58c894c6c3a3682d1a00124b', 'department': 'Writing', 'gender': 0, 'id': 1776717, 'job': 'Story', 'name': 'Joseph Stone', 'profile_path': None}, {'credit_id': '58c8950192514155210012e6', 'department': 'Art', 'gender': 0, 'id': 12346, 'job': 'Art Direction', 'name': 'Alexander Golitzen', 'profile_path': None}, {'credit_id': '58c89530c3a3682d220012f2', 'department': 'Art', 'gender': 0, 'id': 1110377, 'job': 'Art Direction', 'name': 'Robert Emmet Smith', 'profile_path': None}, {'credit_id': '58c8955b9251415551001269', 'department': 'Art', 'gender': 2, 'id': 12348, 'job': 'Set Decoration', 'name': 'Russell A. Gausman', 'profile_path': None}, {'credit_id': '58c895749251415536001201', 'department': 'Art', 'gender': 0, 'id': 30107, 'job': 'Set Decoration', 'name': 'Oliver Emert', 'profile_path': None}, {'credit_id': '58c8959e925141551900122c', 'department': 'Sound', 'gender': 0, 'id': 7654, 'job': 'Sound', 'name': 'Leslie I. Carey', 'profile_path': None}, {'credit_id': '58c895f5c3a3682d090012d8', 'department': 'Sound', 'gender': 0, 'id': 1776718, 'job': 'Sound', 'name': 'Vernon W. Cramer', 'profile_path': None}, {'credit_id': '58c8964892514155250013bb', 'department': 'Camera', 'gender': 0, 'id': 1716722, 'job': 'Other', 'name': 'Henri Jaffa', 'profile_path': None}, {'credit_id': '58c8967fc3a3682cfd001295', 'department': 'Editing', 'gender': 2, 'id': 2920, 'job': 'Editor', 'name': 'Ted J. Kent', 'profile_path': None}, {'credit_id': '58c896f5c3a3682caf00141b', 'department': 'Costume & Make-Up', 'gender': 0, 'id': 1776719, 'job': 'Costume Design', 'name': 'Bill Thomas', 'profile_path': None}, {'credit_id': '58c89747c3a3682d22001494', 'department': 'Costume & Make-Up', 'gender': 0, 'id': 14498, 'job': 'Makeup Artist', 'name': 'Bud Westmore', 'profile_path': None}, {'credit_id': '58c89786c3a3682d2c0014bb', 'department': 'Costume & Make-Up', 'gender': 2, 'id': 14495, 'job': 'Hairstylist', 'name': 'Larry Germain', 'profile_path': None}, {'credit_id': '58c897c5c3a3682d220014e4', 'department': 'Directing', 'gender': 0, 'id': 1123022, 'job': 'Assistant Director', 'name': 'Frank Shaw', 'profile_path': None}, {'credit_id': '58c897fc92514155680014a6', 'department': 'Crew', 'gender': 0, 'id': 12344, 'job': 'Special Effects', 'name': 'Clifford Stine', 'profile_path': None}, {'credit_id': '58c8986392514155680014ec', 'department': 'Sound', 'gender': 2, 'id': 342032, 'job': 'Music Supervisor', 'name': 'Joseph Gershenson', 'profile_path': None}, {'credit_id': '58c898e4c3a3682d2c0015cc', 'department': 'Sound', 'gender': 2, 'id': 41410, 'job': 'Music', 'name': 'David Rose', 'profile_path': None}]                                                                                                                                                                                                                                                                                                                                                                                                                                                                                                                                                                                                                                                                                                                                                                                                                                                                                                                                                                                                                                                                                                                                                                                                                                                                                                                                                                                                                                                                                                                                                                                                                                                                                                                                                                                                                                                                                                                                                                                                                                                                                                                                                                                                                                                                                                                                                                                                                                                                                                                                                                                                                                                                                                                                                                                                                                                                                                                                                                                                                                                                                                                                                                                                                                                                                                                                                                                                                                                                                                                                                                                                                                                                                                                                                                                                                                                                                                                                                                                                                                                                                                                                                                                                                                                                                                                                                                                                                                                                                                                                                                                                                                                                                                                                                                                                                                                                                                                                                                                                                                                                                                                                                                                                                                                                                                                                                                                                                                                                                                                                                                                                                                                                                                                                                                                                                                                                                                                                                                                                                                                                                                                                                                                                                                                                                                                                                                                                                                                                                                                                                                                                                                                                                                                                                                                                                                                                                                                                                                                                                                                                                                                                                                                                                                                                                                                                                                                                                                                                                                                                                                                                                                                                                                                                                                                                                                                                                                                                                                                                                                                                                                                                                                                                                                                                                                                                                                                                                                                                                                                                                                                                                                                                                                                                                                                                                                                                                                                                                                                                                                                                                                                                                                                                                                                                                                                                                                                                                                                                                                                                                                                                                                                                                                                                                                                                                                                                                                                                                                                                                                                                                                                                                                                                                                                                                                                                                                                                                                                                                                                                                                                                                                                                                                                                                                                                                                                                                                                                                    1\n",
       "[{'credit_id': '52fe449c9251416c7503adcb', 'department': 'Production', 'gender': 2, 'id': 11957, 'job': 'Producer', 'name': 'Larry Brezner', 'profile_path': None}, {'credit_id': '52fe449c9251416c7503add1', 'department': 'Directing', 'gender': 2, 'id': 518, 'job': 'Director', 'name': 'Danny DeVito', 'profile_path': '/zKuyzmKzPLG7RJo7lbbHjx6CCZc.jpg'}, {'credit_id': '52fe449c9251416c7503add7', 'department': 'Writing', 'gender': 2, 'id': 70859, 'job': 'Screenplay', 'name': 'Stu Silver', 'profile_path': None}, {'credit_id': '52fe449c9251416c7503ade3', 'department': 'Camera', 'gender': 2, 'id': 5174, 'job': 'Director of Photography', 'name': 'Barry Sonnenfeld', 'profile_path': '/m8vIfbXI44Fd8VK7HSJRisYQjQc.jpg'}, {'credit_id': '52fe449c9251416c7503ade9', 'department': 'Editing', 'gender': 2, 'id': 12940, 'job': 'Editor', 'name': 'Michael Jablow', 'profile_path': None}, {'credit_id': '5539ffb8c3a3685cf8002f51', 'department': 'Sound', 'gender': 2, 'id': 3393, 'job': 'Original Music Composer', 'name': 'David Newman', 'profile_path': '/vncTIJaBWoYmpdNCPkDnA8hT3PM.jpg'}, {'credit_id': '596f2dda9251412d3d0200df', 'department': 'Art', 'gender': 1, 'id': 5167, 'job': 'Production Design', 'name': 'Ida Random', 'profile_path': None}, {'credit_id': '596f2e289251412d3d02013a', 'department': 'Art', 'gender': 0, 'id': 1260, 'job': 'Art Direction', 'name': 'William A. Elliott', 'profile_path': None}, {'credit_id': '596f2e57c3a3686b0400aa9f', 'department': 'Art', 'gender': 1, 'id': 11375, 'job': 'Set Decoration', 'name': 'Anne D. McCulley', 'profile_path': None}, {'credit_id': '596f2e88c3a3687fc701df47', 'department': 'Costume & Make-Up', 'gender': 1, 'id': 7719, 'job': 'Costume Design', 'name': 'Marilyn Vance', 'profile_path': '/tdNcz7CYAFFKoaYm4EvWec4z3gv.jpg'}, {'credit_id': '596f2eb2925141607b0166d8', 'department': 'Costume & Make-Up', 'gender': 1, 'id': 1162118, 'job': 'Hairstylist', 'name': 'Dorothy Byrne', 'profile_path': None}, {'credit_id': '596f2ecfc3a3686b0400aaf7', 'department': 'Costume & Make-Up', 'gender': 2, 'id': 14713, 'job': 'Makeup Artist', 'name': 'Ken Chase', 'profile_path': None}, {'credit_id': '596f2f4fc3a36871a600af9b', 'department': 'Directing', 'gender': 2, 'id': 155899, 'job': 'First Assistant Director', 'name': 'Joe Napolitano', 'profile_path': None}, {'credit_id': '596f2fe2c3a3686b0400abcc', 'department': 'Art', 'gender': 2, 'id': 122090, 'job': 'Set Designer', 'name': 'R. Gilbert Clayton', 'profile_path': None}, {'credit_id': '596f3045c3a3686b5a01724a', 'department': 'Art', 'gender': 0, 'id': 1392237, 'job': 'Property Master', 'name': 'C.J. Maguire', 'profile_path': None}, {'credit_id': '596f308fc3a3686b0400ac45', 'department': 'Art', 'gender': 0, 'id': 1171097, 'job': 'Set Designer', 'name': 'Joseph G. Pacelli Jr.', 'profile_path': None}, {'credit_id': '596f30cfc3a368712800b288', 'department': 'Art', 'gender': 2, 'id': 74775, 'job': 'Construction Coordinator', 'name': 'George Stokes', 'profile_path': None}, {'credit_id': '596f316c9251412a73013c4e', 'department': 'Sound', 'gender': 0, 'id': 16639, 'job': 'ADR Editor', 'name': 'David B. Cohn', 'profile_path': None}, {'credit_id': '596f31969251415e860058dd', 'department': 'Sound', 'gender': 2, 'id': 15226, 'job': 'Sound Editor', 'name': 'Scott Hecker', 'profile_path': None}, {'credit_id': '596f31c99251416c67004d36', 'department': 'Sound', 'gender': 0, 'id': 1378756, 'job': 'Sound Editor', 'name': 'Bob Newlan', 'profile_path': None}, {'credit_id': '596f3212c3a3686b0400ad6c', 'department': 'Sound', 'gender': 2, 'id': 1544697, 'job': 'Supervising Sound Editor', 'name': 'Robert R. Rutledge', 'profile_path': None}, {'credit_id': '596f32c39251412d4c01ee83', 'department': 'Sound', 'gender': 0, 'id': 1854302, 'job': 'Sound Editor', 'name': 'Jerry Stanford', 'profile_path': None}, {'credit_id': '596f3331c3a368716200b634', 'department': 'Sound', 'gender': 2, 'id': 1854306, 'job': 'Sound Editor', 'name': 'Robert Waxman', 'profile_path': None}, {'credit_id': '596f33b6c3a3686f7c004c15', 'department': 'Crew', 'gender': 2, 'id': 10631, 'job': 'Special Effects Coordinator', 'name': 'John Frazier', 'profile_path': None}, {'credit_id': '596f34399251412d4c01effe', 'department': 'Crew', 'gender': 2, 'id': 1402879, 'job': 'Stunt Coordinator', 'name': 'Vince Deadrick Sr.', 'profile_path': '/vZQrgFgmMZShbOAg9WjulBGMWzo.jpg'}, {'credit_id': '596f349f9251416c67004f98', 'department': 'Camera', 'gender': 0, 'id': 1423866, 'job': 'Camera Operator', 'name': 'M. Todd Henry', 'profile_path': None}, {'credit_id': '596f34be9251412d4c01f064', 'department': 'Camera', 'gender': 0, 'id': 1833857, 'job': 'Still Photographer', 'name': 'Laurel Moore', 'profile_path': None}, {'credit_id': '596f34f09251412d4101f80d', 'department': 'Camera', 'gender': 0, 'id': 1758654, 'job': 'Camera Operator', 'name': 'Fred Scialla', 'profile_path': None}, {'credit_id': '596f35299251416c6700501b', 'department': 'Costume & Make-Up', 'gender': 0, 'id': 1854320, 'job': 'Costume Supervisor', 'name': 'Michele Neely', 'profile_path': None}, {'credit_id': '596f3572c3a3686b5a01772b', 'department': 'Production', 'gender': 1, 'id': 60945, 'job': 'Production Coordinator', 'name': 'Allegra Clegg', 'profile_path': '/zIBEZzjXdD761TaLWGvORUu56JN.jpg'}, {'credit_id': '596f35c1c3a368716200b8a6', 'department': 'Directing', 'gender': 0, 'id': 1433549, 'job': 'Script Supervisor', 'name': 'Esther Vivante', 'profile_path': None}]                                                                                                                                                                                                                                                                                                                                                                                                                                                                                                                                                                                                                                                                                                                                                                                                                                                                                                                                                                                                                                                                                                                                                                                                                                                                                                                                                                                                                                                                                                                                                                                                                                                                                                                                                                                                                                                                                                                                                                                                                                                                                                                                                                                                                                                                                                                                                                                                                                                                                                                                                                                                                                                                                                                                                                                                                                                                                                                                                                                                                                                                                                                                                                                                                                                                                                                                                                                                                                                                                                                                                                                                                                                                                                                                                                                                                                                                                                                                                                                                                                                                                                                                                                                                                                                                                                                                                                                                                                                                                                                                                                                                                                                                                                                                                                                                                                                                                                                                                                                                                                                                                                                                                                                                                                                                                                                                                                                                                                                                                                                                                                                                                                                                                                                                                                                                                                                                                                                                                                                                                                                                                                                                                                                                                                                                                                                                                                                                                                                                                                                                                                                                                                                                                                                                                                                                                                                                                                                                                                                                                                                                                                                                                                                                                                                                                                                                                                                                                                                                                                                                                                                                                                                                                                                                                                                                                                                                                                                                                                                                                                                                                                                                                                                                                                                                                                                                                                                                                                                                                                                                                                                                                                                                                                                                                                                                                                                                                                                                                                                                                                                                                                                                                                                                                                                                                                                                                                                                                                                                            1\n",
       "[{'credit_id': '52fe456ec3a368484e05a74b', 'department': 'Directing', 'gender': 2, 'id': 30422, 'job': 'Director', 'name': 'Jack Smight', 'profile_path': '/lLJg4SQ6kSvPL32gAvSQpO2RTEC.jpg'}, {'credit_id': '52fe456ec3a368484e05a751', 'department': 'Writing', 'gender': 2, 'id': 15773, 'job': 'Writer', 'name': 'Don Ingalls', 'profile_path': None}, {'credit_id': '52fe456ec3a368484e05a757', 'department': 'Production', 'gender': 0, 'id': 52100, 'job': 'Producer', 'name': 'William Frye', 'profile_path': None}, {'credit_id': '52fe456ec3a368484e05a763', 'department': 'Sound', 'gender': 2, 'id': 33911, 'job': 'Original Music Composer', 'name': 'John Cacavas', 'profile_path': None}, {'credit_id': '52fe456ec3a368484e05a769', 'department': 'Camera', 'gender': 2, 'id': 1939, 'job': 'Director of Photography', 'name': 'Philip H. Lathrop', 'profile_path': None}, {'credit_id': '5752813792514123f0000c9f', 'department': 'Editing', 'gender': 0, 'id': 570728, 'job': 'Editor', 'name': 'J. Terry Williams', 'profile_path': None}, {'credit_id': '575281f5c3a3685201001c48', 'department': 'Art', 'gender': 0, 'id': 1147355, 'job': 'Art Direction', 'name': 'George C. Webb', 'profile_path': None}, {'credit_id': '5752810b9251414c5d001c4a', 'department': 'Production', 'gender': 2, 'id': 14825, 'job': 'Executive Producer', 'name': 'Jennings Lang', 'profile_path': None}, {'credit_id': '575281849251414c54001be8', 'department': 'Writing', 'gender': 2, 'id': 52096, 'job': 'Novel', 'name': 'Arthur Hailey', 'profile_path': None}]                                                                                                                                                                                                                                                                                                                                                                                                                                                                                                                                                                                                                                                                                                                                                                                                                                                                                                                                                                                                                                                                                                                                                                                                                                                                                                                                                                                                                                                                                                                                                                                                                                                                                                                                                                                                                                                                                                                                                                                                                                                                                                                                                                                                                                                                                                                                                                                                                                                                                                                                                                                                                                                                                                                                                                                                                                                                                                                                                                                                                                                                                                                                                                                                                                                                                                                                                                                                                                                                                                                                                                                                                                                                                                                                                                                                                                                                                                                                                                                                                                                                                                                                                                                                                                                                                                                                                                                                                                                                                                                                                                                                                                                                                                                                                                                                                                                                                                                                                                                                                                                                                                                                                                                                                                                                                                                                                                                                                                                                                                                                                                                                                                                                                                                                                                                                                                                                                                                                                                                                                                                                                                                                                                                                                                                                                                                                                                                                                                                                                                                                                                                                                                                                                                                                                                                                                                                                                                                                                                                                                                                                                                                                                                                                                                                                                                                                                                                                                                                                                                                                                                                                                                                                                                                                                                                                                                                                                                                                                                                                                                                                                                                                                                                                                                                                                                                                                                                                                                                                                                                                                                                                                                                                                                                                                                                                                                                                                                                                                                                                                                                                                                                                                                                                                                                                                                                                                                                                                                                                                                                                                                                                                                                                                                                                                                                                                                                                                                                                                                                                                                                                                                                                                                                                                                                                                                                                                                                                                                                                                                                                                                                                                                                                                                                                                                                                                                                                                                                                                                                                                                                                                                                                                                                                                                                                                                                                                                                                                                                                                                                                                                                                                                                                                                                                                                                                                                                                                                                                                                                                                                                                                                                                                                                                                                                                                                                                                                                                                                                                                                                                                                                                                                                                                                                                                                                                                                                                                                                                                                                                                                                                                                                                                                                                                                                                                                                                                                                                                                                                                                                                   1\n",
       "[{'credit_id': '54b1fb3b925141144f000991', 'department': 'Production', 'gender': 1, 'id': 8864, 'job': 'Casting', 'name': 'Karen Rea', 'profile_path': None}, {'credit_id': '54b1fb73c3a3682346000ae3', 'department': 'Crew', 'gender': 2, 'id': 11419, 'job': 'Makeup Effects', 'name': 'Robert Kurtzman', 'profile_path': '/9hN9noJUKvomz6lNAW24sHHRU0h.jpg'}, {'credit_id': '54b1fb2fc3a368210c0007f0', 'department': 'Editing', 'gender': 1, 'id': 14189, 'job': 'Editor', 'name': 'Debra Neil-Fisher', 'profile_path': None}, {'credit_id': '54b1facac3a3680940003642', 'department': 'Production', 'gender': 2, 'id': 40832, 'job': 'Co-Producer', 'name': 'Mike Richardson', 'profile_path': None}, {'credit_id': '54b1fa8692514107e00020af', 'department': 'Production', 'gender': 0, 'id': 28401, 'job': 'Producer', 'name': 'Stuart M. Besser', 'profile_path': None}, {'credit_id': '54b1fb15c3a3680951003435', 'department': 'Sound', 'gender': 2, 'id': 58438, 'job': 'Original Music Composer', 'name': 'Brian May', 'profile_path': None}, {'credit_id': '54b1fb82c3a3680951003446', 'department': 'Crew', 'gender': 2, 'id': 59287, 'job': 'Makeup Effects', 'name': 'Gregory Nicotero', 'profile_path': '/tbSRk7j0hYlBWWX7QrjdOXeiMpW.jpg'}, {'credit_id': '54b1fb22c3a3682313000a16', 'department': 'Camera', 'gender': 0, 'id': 69141, 'job': 'Director of Photography', 'name': 'Robert Draper', 'profile_path': None}, {'credit_id': '54b1fb6392514114a2000d09', 'department': 'Crew', 'gender': 0, 'id': 107372, 'job': 'Makeup Effects', 'name': 'Howard Berger', 'profile_path': '/fz0Z8ia0Iaq4SS6NfVAcFIAeU2F.jpg'}, {'credit_id': '52fe46529251416c91050ac1', 'department': 'Directing', 'gender': 2, 'id': 41795, 'job': 'Director', 'name': 'Manny Coto', 'profile_path': None}, {'credit_id': '54b1faecc3a36820a7000718', 'department': 'Writing', 'gender': 2, 'id': 41795, 'job': 'Writer', 'name': 'Manny Coto', 'profile_path': None}, {'credit_id': '54b1faf99251412ae700286d', 'department': 'Writing', 'gender': 0, 'id': 1049254, 'job': 'Writer', 'name': 'Graeme Whifler', 'profile_path': None}, {'credit_id': '54b1fb4a925141144f000996', 'department': 'Art', 'gender': 0, 'id': 1052763, 'job': 'Production Design', 'name': 'Bill Malley', 'profile_path': None}, {'credit_id': '54b1fadec3a3680940003649', 'department': 'Production', 'gender': 0, 'id': 1412035, 'job': 'Executive Producer', 'name': 'Jack Roe', 'profile_path': None}]                                                                                                                                                                                                                                                                                                                                                                                                                                                                                                                                                                                                                                                                                                                                                                                                                                                                                                                                                                                                                                                                                                                                                                                                                                                                                                                                                                                                                                                                                                                                                                                                                                                                                                                                                                                                                                                                                                                                                                                                                                                                                                                                                                                                                                                                                                                                                                                                                                                                                                                                                                                                                                                                                                                                                                                                                                                                                                                                                                                                                                                                                                                                                                                                                                                                                                                                                                                                                                                                                                                                                                                                                                                                                                                                                                                                                                                                                                                                                                                                                                                                                                                                                                                                                                                                                                                                                                                                                                                                                                                                                                                                                                                                                                                                                                                                                                                                                                                                                                                                                                                                                                                                                                                                                                                                                                                                                                                                                                                                                                                                                                                                                                                                                                                                                                                                                                                                                                                                                                                                                                                                                                                                                                                                                                                                                                                                                                                                                                                                                                                                                                                                                                                                                                                                                                                                                                                                                                                                                                                                                                                                                                                                                                                                                                                                                                                                                                                                                                                                                                                                                                                                                                                                                                                                                                                                                                                                                                                                                                                                                                                                                                                                                                                                                                                                                                                                                                                                                                                                                                                                                                                                                                                                                                                                                                                                                                                                                                                                                                                                                                                                                                                                                                                                                                                                                                                                                                                                                                                                                                                                                                                                                                                                                                                                                                                                                                                                                                                                                                                                                                                                                                                                                                                                                                                                                                                                                                                                                                                                                                                                                                                                                                                                                                                                                                                                                                                                                                                                                                                                                                                                                                                                                                                                                                                                                                                                                                                                                                                                                                                                                                                                                                                                                                                                                                                                                                                                                                                                                                                                                                                                                                                                                                                                                                                                                                                                                                                                                                                                                                                                                                                                                      1\n",
       "[{'credit_id': '55685d7b92514156b600202d', 'department': 'Production', 'gender': 1, 'id': 7903, 'job': 'Casting', 'name': 'Mary Hidalgo', 'profile_path': None}, {'credit_id': '5891ca47c3a3680973005ca8', 'department': 'Sound', 'gender': 2, 'id': 15813, 'job': 'Original Music Composer', 'name': 'Alan Menken', 'profile_path': '/oB6at40BmYJxpRMIkCdk4lk5fJT.jpg'}, {'credit_id': '5891ca5ec3a3686b0a0015cd', 'department': 'Sound', 'gender': 2, 'id': 15813, 'job': 'Songs', 'name': 'Alan Menken', 'profile_path': '/oB6at40BmYJxpRMIkCdk4lk5fJT.jpg'}, {'credit_id': '5891de749251412dcd006f8a', 'department': 'Sound', 'gender': 2, 'id': 15814, 'job': 'Supervising Sound Editor', 'name': 'Mark A. Hester', 'profile_path': None}, {'credit_id': '5891cbbdc3a3680973005dc8', 'department': 'Editing', 'gender': 2, 'id': 15814, 'job': 'Associate Editor', 'name': 'Mark A. Hester', 'profile_path': None}, {'credit_id': '5891cb5dc3a3680968005ed4', 'department': 'Editing', 'gender': 2, 'id': 15815, 'job': 'Editor', 'name': 'H. Lee Peterson', 'profile_path': None}, {'credit_id': '52fe458d9251416c7505a85b', 'department': 'Production', 'gender': 0, 'id': 15818, 'job': 'Producer', 'name': 'Alice Dewey', 'profile_path': None}, {'credit_id': '5891df17c3a368096a006d11', 'department': 'Crew', 'gender': 2, 'id': 12824, 'job': 'Thanks', 'name': 'Don Hahn', 'profile_path': '/aYdUzIkPlyo0ckyY7GDYCY028sQ.jpg'}, {'credit_id': '5891de81c3a36863480021be', 'department': 'Sound', 'gender': 2, 'id': 21103, 'job': 'Sound Designer', 'name': 'Tim Chau', 'profile_path': None}, {'credit_id': '5891d57fc3a3680966006684', 'department': 'Crew', 'gender': 0, 'id': 23684, 'job': 'Supervising Animator', 'name': 'Bruce W. Smith', 'profile_path': '/kciyCPBwpcb28gTzRC6OAgOqeXW.jpg'}, {'credit_id': '5891debb9251412dc500729d', 'department': 'Sound', 'gender': 0, 'id': 113052, 'job': 'Assistant Sound Editor', 'name': 'Randall Guth', 'profile_path': None}, {'credit_id': '550d8467c3a368487d005f28', 'department': 'Crew', 'gender': 0, 'id': 15774, 'job': 'Supervising Animator', 'name': 'Chris Buck', 'profile_path': '/aFzDfJIIOC0tkGgqpwsZoDHzqu0.jpg'}, {'credit_id': '5891cb37c3a3686b0a00165f', 'department': 'Writing', 'gender': 0, 'id': 61414, 'job': 'Story', 'name': 'Mark Kennedy', 'profile_path': None}, {'credit_id': '5891db639251412dd7006bdf', 'department': 'Production', 'gender': 2, 'id': 61419, 'job': 'Casting', 'name': 'Matthew Jon Beck', 'profile_path': None}, {'credit_id': '5891db3bc3a3680977006b05', 'department': 'Editing', 'gender': 0, 'id': 61795, 'job': 'Assistant Editor', 'name': 'James Melton', 'profile_path': None}, {'credit_id': '5891df349251412dc200714f', 'department': 'Crew', 'gender': 0, 'id': 65858, 'job': 'Thanks', 'name': 'Baker Bloodworth', 'profile_path': None}, {'credit_id': '52fe458d9251416c7505a84f', 'department': 'Directing', 'gender': 2, 'id': 70287, 'job': 'Director', 'name': 'Will Finn', 'profile_path': '/lbFB2MFrDocpKqzgGlXBvtrLQmw.jpg'}, {'credit_id': '5891ca0dc3a3680970005f21', 'department': 'Writing', 'gender': 2, 'id': 70287, 'job': 'Writer', 'name': 'Will Finn', 'profile_path': '/lbFB2MFrDocpKqzgGlXBvtrLQmw.jpg'}, {'credit_id': '5891cac49251412dcd006256', 'department': 'Writing', 'gender': 2, 'id': 70287, 'job': 'Story', 'name': 'Will Finn', 'profile_path': '/lbFB2MFrDocpKqzgGlXBvtrLQmw.jpg'}, {'credit_id': '5891d8f7c3a3686b0a001ff3', 'department': 'Art', 'gender': 2, 'id': 73306, 'job': 'Background Designer', 'name': 'Gregory Miller', 'profile_path': None}, {'credit_id': '52fe458d9251416c7505a855', 'department': 'Directing', 'gender': 2, 'id': 80671, 'job': 'Director', 'name': 'John Sanford', 'profile_path': None}, {'credit_id': '5891ca169251412dd70060c5', 'department': 'Writing', 'gender': 2, 'id': 80671, 'job': 'Writer', 'name': 'John Sanford', 'profile_path': None}, {'credit_id': '5891cacf9251412dd1006362', 'department': 'Writing', 'gender': 2, 'id': 80671, 'job': 'Story', 'name': 'John Sanford', 'profile_path': None}, {'credit_id': '5891de61c3a3680973006964', 'department': 'Sound', 'gender': 0, 'id': 74976, 'job': 'Sound Re-Recording Mixer', 'name': 'Mel Metcalfe', 'profile_path': None}, {'credit_id': '5891de57c3a3680970006b9d', 'department': 'Sound', 'gender': 0, 'id': 74978, 'job': 'Sound Re-Recording Mixer', 'name': 'Terry Porter', 'profile_path': None}, {'credit_id': '5891deb09251412dcd006fb1', 'department': 'Sound', 'gender': 0, 'id': 83085, 'job': 'Foley Editor', 'name': 'Albert Gasser', 'profile_path': None}, {'credit_id': '5891de699251412dd1007052', 'department': 'Sound', 'gender': 2, 'id': 83091, 'job': 'Sound Re-Recording Mixer', 'name': 'Dean A. Zupancic', 'profile_path': None}, {'credit_id': '5891cad9c3a368096a00607f', 'department': 'Writing', 'gender': 0, 'id': 111448, 'job': 'Story', 'name': 'Michael LaBash', 'profile_path': None}, {'credit_id': '5891cc8b9251412dcb006584', 'department': 'Crew', 'gender': 0, 'id': 115755, 'job': 'Supervising Animator', 'name': 'Mark Henn', 'profile_path': '/vMQ65QSAUskSbCLAgbShWZsaT4X.jpg'}, {'credit_id': '5891cbdc9251412dc8006390', 'department': 'Crew', 'gender': 0, 'id': 115756, 'job': 'Additional Dialogue', 'name': 'Shirley Pierce', 'profile_path': None}, {'credit_id': '5891cb3e9251412dcd0062c1', 'department': 'Writing', 'gender': 0, 'id': 958881, 'job': 'Story', 'name': 'Robert Lence', 'profile_path': None}, {'credit_id': '5891d7c4c3a368097300652c', 'department': 'Art', 'gender': 2, 'id': 968411, 'job': 'Background Designer', 'name': 'Michael Kurinsky', 'profile_path': None}, {'credit_id': '5891ca65c3a3680973005cbd', 'department': 'Sound', 'gender': 0, 'id': 1017262, 'job': 'Songs', 'name': 'Glenn Slater', 'profile_path': None}, {'credit_id': '5891cb50c3a368096600600e', 'department': 'Production', 'gender': 2, 'id': 1120175, 'job': 'Associate Producer', 'name': 'David J. Steinberg', 'profile_path': None}, {'credit_id': '5891ddc1c3a3680970006b41', 'department': 'Sound', 'gender': 0, 'id': 1136912, 'job': 'Orchestrator', 'name': 'Michael Starobin', 'profile_path': None}, {'credit_id': '5891dadec3a3680968006835', 'department': 'Editing', 'gender': 0, 'id': 1297324, 'job': 'First Assistant Editor', 'name': 'Craig Paulsen', 'profile_path': None}, {'credit_id': '5891ddedc3a3680973006917', 'department': 'Sound', 'gender': 2, 'id': 1341141, 'job': 'Music Editor', 'name': 'Earl Ghaffari', 'profile_path': None}, {'credit_id': '5891d7b79251412dd700696f', 'department': 'Art', 'gender': 0, 'id': 1384507, 'job': 'Background Designer', 'name': 'Carl Jones', 'profile_path': None}, {'credit_id': '5543e3f2c3a3680ce6002861', 'department': 'Visual Effects', 'gender': 0, 'id': 1397792, 'job': 'Visual Effects Supervisor', 'name': 'Marlon West', 'profile_path': None}, {'credit_id': '5891cbcd9251412dc8006387', 'department': 'Production', 'gender': 0, 'id': 1398624, 'job': 'Production Manager', 'name': 'Tamara Boutcher', 'profile_path': None}, {'credit_id': '5891de8e9251412dc2007101', 'department': 'Sound', 'gender': 0, 'id': 1399057, 'job': 'ADR Supervisor', 'name': 'Jim Brookshire', 'profile_path': None}, {'credit_id': '5891d7069251412dd700690b', 'department': 'Art', 'gender': 0, 'id': 1447390, 'job': 'Background Designer', 'name': 'Sunny Apinchapong', 'profile_path': None}, {'credit_id': '5542ddab92514158760009e4', 'department': 'Art', 'gender': 0, 'id': 1447423, 'job': 'Background Designer', 'name': 'Leonard Robledo', 'profile_path': None}, {'credit_id': '5891d8e8c3a368096a006974', 'department': 'Art', 'gender': 0, 'id': 1450357, 'job': 'Background Designer', 'name': 'Kelly McGraw', 'profile_path': None}, {'credit_id': '5891cd00c3a368097700627e', 'department': 'Crew', 'gender': 0, 'id': 1455558, 'job': 'Supervising Animator', 'name': 'Dale Baer', 'profile_path': '/5xKpVNrJMuWbVAtOHsLcPziMjww.jpg'}, {'credit_id': '5891cb2dc3a36863480015ac', 'department': 'Writing', 'gender': 0, 'id': 1458592, 'job': 'Story', 'name': 'Sam Levine', 'profile_path': None}, {'credit_id': '5891d5519251412dcb006af4', 'department': 'Crew', 'gender': 0, 'id': 1460455, 'job': 'Supervising Animator', 'name': 'Sandro Cleuzo', 'profile_path': None}, {'credit_id': '5891d70dc3a3686348001d60', 'department': 'Art', 'gender': 0, 'id': 1461382, 'job': 'Background Designer', 'name': 'Doug Ball', 'profile_path': None}, {'credit_id': '5891d4f0c3a3686b0a001d16', 'department': 'Crew', 'gender': 0, 'id': 1461389, 'job': 'Supervising Animator', 'name': 'Russ Edmonds', 'profile_path': '/w9vuAIoNasS1I9BUr4dgQVnWA7N.jpg'}, {'credit_id': '55455552c3a3680cdb005082', 'department': 'Art', 'gender': 0, 'id': 1461410, 'job': 'Background Designer', 'name': 'Dan Read', 'profile_path': None}, {'credit_id': '5891d68c9251412dd1006b3d', 'department': 'Crew', 'gender': 0, 'id': 1464355, 'job': 'Post-Production Manager', 'name': 'B√©r√©nice Robinson', 'profile_path': None}, {'credit_id': '5891d8dcc3a368096a00696d', 'department': 'Art', 'gender': 0, 'id': 1464376, 'job': 'Background Designer', 'name': 'James J. Martin', 'profile_path': None}, {'credit_id': '5891cc57c3a3680973005e44', 'department': 'Crew', 'gender': 0, 'id': 1552486, 'job': 'Supervising Animator', 'name': 'Duncan Marjoribanks', 'profile_path': '/39LCeidVcvPkVqXBofJQuiOYy4D.jpg'}, {'credit_id': '5891ded4c3a36863480021f2', 'department': 'Editing', 'gender': 0, 'id': 1552873, 'job': 'Color Timer', 'name': 'Terry Claborn', 'profile_path': None}, {'credit_id': '5891cb7ac3a368096a0060f0', 'department': 'Art', 'gender': 0, 'id': 1554416, 'job': 'Art Direction', 'name': 'David Cutler', 'profile_path': None}, {'credit_id': '5891ccb7c3a3680968005fe9', 'department': 'Crew', 'gender': 0, 'id': 1563747, 'job': 'Supervising Animator', 'name': 'Mike Surrey', 'profile_path': None}, {'credit_id': '5891d7acc3a36809770068f7', 'department': 'Art', 'gender': 0, 'id': 1615286, 'job': 'Background Designer', 'name': 'Dean Gordon', 'profile_path': None}, {'credit_id': '5891d993c3a368096800677b', 'department': 'Art', 'gender': 0, 'id': 1615290, 'job': 'Background Designer', 'name': 'Tom Woodington', 'profile_path': None}, {'credit_id': '5891d8cec3a36809730065df', 'department': 'Art', 'gender': 2, 'id': 1615581, 'job': 'Background Designer', 'name': 'Jerry Loveland', 'profile_path': None}, {'credit_id': '5891d6fec3a3686348001d52', 'department': 'Art', 'gender': 0, 'id': 1719693, 'job': 'Background Designer', 'name': 'Debbie DuBois', 'profile_path': None}, {'credit_id': '5891d9379251412dcb006d7c', 'department': 'Art', 'gender': 0, 'id': 1719699, 'job': 'Background Designer', 'name': 'Philip Phillipson', 'profile_path': None}, {'credit_id': '5891def69251412dc8006fea', 'department': 'Editing', 'gender': 0, 'id': 1739962, 'job': 'Negative Cutter', 'name': 'Mary Beth Smith', 'profile_path': None}, {'credit_id': '5891d6f6c3a3686348001d4b', 'department': 'Art', 'gender': 0, 'id': 1748495, 'job': 'Background Designer', 'name': 'Jennifer K. Ando', 'profile_path': None}, {'credit_id': '5891d765c3a36809730064eb', 'department': 'Art', 'gender': 0, 'id': 1748497, 'job': 'Background Designer', 'name': 'Miguel Gil', 'profile_path': None}, {'credit_id': '5891d828c3a368096a0068f8', 'department': 'Art', 'gender': 0, 'id': 1748499, 'job': 'Background Designer', 'name': 'John Lee', 'profile_path': None}, {'credit_id': '5891d894c3a3686348001e54', 'department': 'Art', 'gender': 0, 'id': 1748501, 'job': 'Background Designer', 'name': 'William Lorencz', 'profile_path': None}, {'credit_id': '5891d92b9251412dd7006a79', 'department': 'Art', 'gender': 0, 'id': 1748503, 'job': 'Background Designer', 'name': 'Don Moore', 'profile_path': None}, {'credit_id': '5891d97ec3a368096600692c', 'department': 'Art', 'gender': 0, 'id': 1748504, 'job': 'Background Designer', 'name': 'George Taylor', 'profile_path': None}, {'credit_id': '5891d9a2c3a3680968006786', 'department': 'Art', 'gender': 0, 'id': 1748505, 'job': 'Background Designer', 'name': 'Maryann Thomas', 'profile_path': None}, {'credit_id': '5891dbb0c3a368096a006ad4', 'department': 'Production', 'gender': 0, 'id': 1748506, 'job': 'Production Accountant', 'name': 'Julianne Hale', 'profile_path': None}, {'credit_id': '5891dbd5c3a3680966006aa0', 'department': 'Production', 'gender': 0, 'id': 1748507, 'job': 'Production Accountant', 'name': 'Kathleen Marie-Frainier Fredrickson', 'profile_path': None}, {'credit_id': '5891dc77c3a3680966006b1d', 'department': 'Crew', 'gender': 0, 'id': 1748508, 'job': 'Technical Supervisor', 'name': 'Christopher W. Gee', 'profile_path': None}, {'credit_id': '5891dd28c3a3680977006c2a', 'department': 'Editing', 'gender': 0, 'id': 1748510, 'job': 'Color Timer', 'name': 'Bruce Tauscher', 'profile_path': None}, {'credit_id': '5891ddcc9251412dc8006f32', 'department': 'Sound', 'gender': 0, 'id': 1748511, 'job': 'Conductor', 'name': 'Michael Kosarin', 'profile_path': None}, {'credit_id': '5891dea39251412dc5007292', 'department': 'Sound', 'gender': 0, 'id': 1748512, 'job': 'Sound Effects Editor', 'name': 'Niles C. Jensen', 'profile_path': None}, {'credit_id': '5891deefc3a3680968006a97', 'department': 'Editing', 'gender': 0, 'id': 1748513, 'job': 'Negative Cutter', 'name': 'Rick Mackay', 'profile_path': None}]                                                                                                                                                                                                                                                                                                                                                                                                                                                                                                                                                                                                                                                                                                                                                                                                                                                                                                                                                                                                                                                                                                                                                                                                                                                                                                                                                                                                                                                                                           1\n",
       "Name: crew, Length: 2984, dtype: int64"
      ]
     },
     "execution_count": 12,
     "metadata": {},
     "output_type": "execute_result"
    }
   ],
   "source": [
    "train.crew.value_counts()"
   ]
  },
  {
   "cell_type": "markdown",
   "metadata": {
    "papermill": {
     "duration": 0.061253,
     "end_time": "2020-11-08T15:24:55.494494",
     "exception": false,
     "start_time": "2020-11-08T15:24:55.433241",
     "status": "completed"
    },
    "tags": []
   },
   "source": [
    "**Revenue:** Total revenue earned by a movie in dollars. (Label)"
   ]
  },
  {
   "cell_type": "code",
   "execution_count": 13,
   "metadata": {
    "execution": {
     "iopub.execute_input": "2020-11-08T15:24:55.625826Z",
     "iopub.status.busy": "2020-11-08T15:24:55.622881Z",
     "iopub.status.idle": "2020-11-08T15:24:55.633891Z",
     "shell.execute_reply": "2020-11-08T15:24:55.634456Z"
    },
    "papermill": {
     "duration": 0.078554,
     "end_time": "2020-11-08T15:24:55.634660",
     "exception": false,
     "start_time": "2020-11-08T15:24:55.556106",
     "status": "completed"
    },
    "tags": []
   },
   "outputs": [
    {
     "data": {
      "text/plain": [
       "revenue       1.000000\n",
       "budget        0.752965\n",
       "popularity    0.461460\n",
       "runtime       0.216380\n",
       "id            0.000610\n",
       "Name: revenue, dtype: float64"
      ]
     },
     "execution_count": 13,
     "metadata": {},
     "output_type": "execute_result"
    }
   ],
   "source": [
    "# checking how the train data correlates to label(revenue)\n",
    "\n",
    "corr_matrix = train.corr()\n",
    "corr_matrix[\"revenue\"].sort_values(ascending=False)"
   ]
  },
  {
   "cell_type": "markdown",
   "metadata": {
    "papermill": {
     "duration": 0.062249,
     "end_time": "2020-11-08T15:24:55.760011",
     "exception": false,
     "start_time": "2020-11-08T15:24:55.697762",
     "status": "completed"
    },
    "tags": []
   },
   "source": [
    "\n",
    "\n",
    "**4. Preparing the data**\n",
    "\n",
    "Time to fix the things that needed fixing, a lot of cleaning needed:\n"
   ]
  },
  {
   "cell_type": "markdown",
   "metadata": {
    "papermill": {
     "duration": 0.06073,
     "end_time": "2020-11-08T15:24:55.881734",
     "exception": false,
     "start_time": "2020-11-08T15:24:55.821004",
     "status": "completed"
    },
    "tags": []
   },
   "source": [
    "**release_date**"
   ]
  },
  {
   "cell_type": "code",
   "execution_count": 14,
   "metadata": {
    "execution": {
     "iopub.execute_input": "2020-11-08T15:24:56.033008Z",
     "iopub.status.busy": "2020-11-08T15:24:56.012326Z",
     "iopub.status.idle": "2020-11-08T15:24:56.731835Z",
     "shell.execute_reply": "2020-11-08T15:24:56.731214Z"
    },
    "papermill": {
     "duration": 0.78944,
     "end_time": "2020-11-08T15:24:56.731972",
     "exception": false,
     "start_time": "2020-11-08T15:24:55.942532",
     "status": "completed"
    },
    "tags": []
   },
   "outputs": [
    {
     "data": {
      "text/html": [
       "<div>\n",
       "<style scoped>\n",
       "    .dataframe tbody tr th:only-of-type {\n",
       "        vertical-align: middle;\n",
       "    }\n",
       "\n",
       "    .dataframe tbody tr th {\n",
       "        vertical-align: top;\n",
       "    }\n",
       "\n",
       "    .dataframe thead th {\n",
       "        text-align: right;\n",
       "    }\n",
       "</style>\n",
       "<table border=\"1\" class=\"dataframe\">\n",
       "  <thead>\n",
       "    <tr style=\"text-align: right;\">\n",
       "      <th></th>\n",
       "      <th>release_year</th>\n",
       "      <th>release_month</th>\n",
       "    </tr>\n",
       "  </thead>\n",
       "  <tbody>\n",
       "    <tr>\n",
       "      <th>count</th>\n",
       "      <td>3000.000000</td>\n",
       "      <td>3000.000000</td>\n",
       "    </tr>\n",
       "    <tr>\n",
       "      <th>mean</th>\n",
       "      <td>2004.779667</td>\n",
       "      <td>6.775333</td>\n",
       "    </tr>\n",
       "    <tr>\n",
       "      <th>std</th>\n",
       "      <td>15.664767</td>\n",
       "      <td>3.409115</td>\n",
       "    </tr>\n",
       "    <tr>\n",
       "      <th>min</th>\n",
       "      <td>1970.000000</td>\n",
       "      <td>1.000000</td>\n",
       "    </tr>\n",
       "    <tr>\n",
       "      <th>25%</th>\n",
       "      <td>1995.000000</td>\n",
       "      <td>4.000000</td>\n",
       "    </tr>\n",
       "    <tr>\n",
       "      <th>50%</th>\n",
       "      <td>2006.000000</td>\n",
       "      <td>7.000000</td>\n",
       "    </tr>\n",
       "    <tr>\n",
       "      <th>75%</th>\n",
       "      <td>2012.000000</td>\n",
       "      <td>10.000000</td>\n",
       "    </tr>\n",
       "    <tr>\n",
       "      <th>max</th>\n",
       "      <td>2069.000000</td>\n",
       "      <td>12.000000</td>\n",
       "    </tr>\n",
       "  </tbody>\n",
       "</table>\n",
       "</div>"
      ],
      "text/plain": [
       "       release_year  release_month\n",
       "count   3000.000000    3000.000000\n",
       "mean    2004.779667       6.775333\n",
       "std       15.664767       3.409115\n",
       "min     1970.000000       1.000000\n",
       "25%     1995.000000       4.000000\n",
       "50%     2006.000000       7.000000\n",
       "75%     2012.000000      10.000000\n",
       "max     2069.000000      12.000000"
      ]
     },
     "execution_count": 14,
     "metadata": {},
     "output_type": "execute_result"
    }
   ],
   "source": [
    "# Splitting release_date into multiple columns\n",
    "def date_features(df):\n",
    "    df['release_date'] = pd.to_datetime(df['release_date'])\n",
    "    df['release_year'] = df['release_date'].dt.year\n",
    "    df['release_month'] = df['release_date'].dt.month\n",
    "    df.drop(columns=['release_date'], inplace=True)\n",
    "    return df\n",
    "\n",
    "train = date_features(train)\n",
    "test = date_features(test)\n",
    "\n",
    "#What have we done!?\n",
    "train[[\"release_year\", \"release_month\"]].describe()"
   ]
  },
  {
   "cell_type": "markdown",
   "metadata": {
    "papermill": {
     "duration": 0.071878,
     "end_time": "2020-11-08T15:24:56.880009",
     "exception": false,
     "start_time": "2020-11-08T15:24:56.808131",
     "status": "completed"
    },
    "tags": []
   },
   "source": [
    "I'm slightly worried about release_year = 2069 (hopefully its back to the future) lets check this:"
   ]
  },
  {
   "cell_type": "code",
   "execution_count": 15,
   "metadata": {
    "execution": {
     "iopub.execute_input": "2020-11-08T15:24:57.023158Z",
     "iopub.status.busy": "2020-11-08T15:24:57.019121Z",
     "iopub.status.idle": "2020-11-08T15:24:57.062246Z",
     "shell.execute_reply": "2020-11-08T15:24:57.061455Z"
    },
    "papermill": {
     "duration": 0.117321,
     "end_time": "2020-11-08T15:24:57.062379",
     "exception": false,
     "start_time": "2020-11-08T15:24:56.945058",
     "status": "completed"
    },
    "tags": []
   },
   "outputs": [
    {
     "data": {
      "text/html": [
       "<div>\n",
       "<style scoped>\n",
       "    .dataframe tbody tr th:only-of-type {\n",
       "        vertical-align: middle;\n",
       "    }\n",
       "\n",
       "    .dataframe tbody tr th {\n",
       "        vertical-align: top;\n",
       "    }\n",
       "\n",
       "    .dataframe thead th {\n",
       "        text-align: right;\n",
       "    }\n",
       "</style>\n",
       "<table border=\"1\" class=\"dataframe\">\n",
       "  <thead>\n",
       "    <tr style=\"text-align: right;\">\n",
       "      <th></th>\n",
       "      <th>id</th>\n",
       "      <th>belongs_to_collection</th>\n",
       "      <th>budget</th>\n",
       "      <th>genres</th>\n",
       "      <th>homepage</th>\n",
       "      <th>imdb_id</th>\n",
       "      <th>original_language</th>\n",
       "      <th>original_title</th>\n",
       "      <th>overview</th>\n",
       "      <th>popularity</th>\n",
       "      <th>...</th>\n",
       "      <th>spoken_languages</th>\n",
       "      <th>status</th>\n",
       "      <th>tagline</th>\n",
       "      <th>title</th>\n",
       "      <th>Keywords</th>\n",
       "      <th>cast</th>\n",
       "      <th>crew</th>\n",
       "      <th>revenue</th>\n",
       "      <th>release_year</th>\n",
       "      <th>release_month</th>\n",
       "    </tr>\n",
       "  </thead>\n",
       "  <tbody>\n",
       "    <tr>\n",
       "      <th>39</th>\n",
       "      <td>40</td>\n",
       "      <td>NaN</td>\n",
       "      <td>3800000</td>\n",
       "      <td>[{'id': 10752, 'name': 'War'}, {'id': 37, 'nam...</td>\n",
       "      <td>NaN</td>\n",
       "      <td>tt0059418</td>\n",
       "      <td>en</td>\n",
       "      <td>Major Dundee</td>\n",
       "      <td>During the last winter of the Civil War, caval...</td>\n",
       "      <td>3.055936</td>\n",
       "      <td>...</td>\n",
       "      <td>[{'iso_639_1': 'en', 'name': 'English'}, {'iso...</td>\n",
       "      <td>Released</td>\n",
       "      <td>NaN</td>\n",
       "      <td>Major Dundee</td>\n",
       "      <td>[{'id': 534, 'name': 'mexico'}, {'id': 1968, '...</td>\n",
       "      <td>[{'cast_id': 1, 'character': 'Major Amos Charl...</td>\n",
       "      <td>[{'credit_id': '52fe45f5c3a368484e078d7b', 'de...</td>\n",
       "      <td>14873</td>\n",
       "      <td>2065</td>\n",
       "      <td>4</td>\n",
       "    </tr>\n",
       "    <tr>\n",
       "      <th>41</th>\n",
       "      <td>42</td>\n",
       "      <td>NaN</td>\n",
       "      <td>3000000</td>\n",
       "      <td>[{'id': 80, 'name': 'Crime'}, {'id': 18, 'name...</td>\n",
       "      <td>NaN</td>\n",
       "      <td>tt0061512</td>\n",
       "      <td>en</td>\n",
       "      <td>Cool Hand Luke</td>\n",
       "      <td>When petty criminal Luke Jackson is sentenced ...</td>\n",
       "      <td>9.718713</td>\n",
       "      <td>...</td>\n",
       "      <td>[{'iso_639_1': 'en', 'name': 'English'}]</td>\n",
       "      <td>Released</td>\n",
       "      <td>What we've got here is failure to communicate.</td>\n",
       "      <td>Cool Hand Luke</td>\n",
       "      <td>[{'id': 378, 'name': 'prison'}, {'id': 526, 'n...</td>\n",
       "      <td>[{'cast_id': 13, 'character': 'Luke Jackson', ...</td>\n",
       "      <td>[{'credit_id': '52fe428ac3a36847f8026d8d', 'de...</td>\n",
       "      <td>16217773</td>\n",
       "      <td>2067</td>\n",
       "      <td>6</td>\n",
       "    </tr>\n",
       "    <tr>\n",
       "      <th>48</th>\n",
       "      <td>49</td>\n",
       "      <td>NaN</td>\n",
       "      <td>0</td>\n",
       "      <td>[{'id': 18, 'name': 'Drama'}, {'id': 35, 'name...</td>\n",
       "      <td>NaN</td>\n",
       "      <td>tt1781058</td>\n",
       "      <td>en</td>\n",
       "      <td>Wilson</td>\n",
       "      <td>Middle-aged and divorced, Wilson finds himself...</td>\n",
       "      <td>8.984386</td>\n",
       "      <td>...</td>\n",
       "      <td>[{'iso_639_1': 'en', 'name': 'English'}]</td>\n",
       "      <td>Released</td>\n",
       "      <td>NaN</td>\n",
       "      <td>Wilson</td>\n",
       "      <td>[{'id': 2487, 'name': 'naivety'}, {'id': 2794,...</td>\n",
       "      <td>[{'cast_id': 5, 'character': 'Wilson', 'credit...</td>\n",
       "      <td>[{'credit_id': '5590cb95c3a36807f6000075', 'de...</td>\n",
       "      <td>653951</td>\n",
       "      <td>2017</td>\n",
       "      <td>3</td>\n",
       "    </tr>\n",
       "    <tr>\n",
       "      <th>51</th>\n",
       "      <td>52</td>\n",
       "      <td>NaN</td>\n",
       "      <td>12000000</td>\n",
       "      <td>[{'id': 12, 'name': 'Adventure'}, {'id': 35, '...</td>\n",
       "      <td>NaN</td>\n",
       "      <td>tt0059243</td>\n",
       "      <td>en</td>\n",
       "      <td>The Great Race</td>\n",
       "      <td>Professional daredevil and white-suited hero, ...</td>\n",
       "      <td>4.473327</td>\n",
       "      <td>...</td>\n",
       "      <td>[{'iso_639_1': 'en', 'name': 'English'}, {'iso...</td>\n",
       "      <td>Released</td>\n",
       "      <td>The movie with 20,000-mile or one-million-laug...</td>\n",
       "      <td>The Great Race</td>\n",
       "      <td>[{'id': 9253, 'name': 'slapstick'}, {'id': 159...</td>\n",
       "      <td>[{'cast_id': 1, 'character': 'Prof. Fate', 'cr...</td>\n",
       "      <td>[{'credit_id': '52fe445e9251416c75032581', 'de...</td>\n",
       "      <td>25333333</td>\n",
       "      <td>2065</td>\n",
       "      <td>7</td>\n",
       "    </tr>\n",
       "    <tr>\n",
       "      <th>61</th>\n",
       "      <td>62</td>\n",
       "      <td>NaN</td>\n",
       "      <td>4000000</td>\n",
       "      <td>[{'id': 18, 'name': 'Drama'}]</td>\n",
       "      <td>NaN</td>\n",
       "      <td>tt0049875</td>\n",
       "      <td>en</td>\n",
       "      <td>Trapeze</td>\n",
       "      <td>A pair of men try to perform the dangerous \"tr...</td>\n",
       "      <td>1.801071</td>\n",
       "      <td>...</td>\n",
       "      <td>[{'iso_639_1': 'en', 'name': 'English'}, {'iso...</td>\n",
       "      <td>Released</td>\n",
       "      <td>High...High...High...Above Them All! - in exci...</td>\n",
       "      <td>Trapeze</td>\n",
       "      <td>[{'id': 291, 'name': 'circus'}, {'id': 180181,...</td>\n",
       "      <td>[{'cast_id': 2, 'character': 'Mike Ribble', 'c...</td>\n",
       "      <td>[{'credit_id': '52fe4594c3a36847f80cf3b9', 'de...</td>\n",
       "      <td>14400000</td>\n",
       "      <td>2056</td>\n",
       "      <td>5</td>\n",
       "    </tr>\n",
       "    <tr>\n",
       "      <th>...</th>\n",
       "      <td>...</td>\n",
       "      <td>...</td>\n",
       "      <td>...</td>\n",
       "      <td>...</td>\n",
       "      <td>...</td>\n",
       "      <td>...</td>\n",
       "      <td>...</td>\n",
       "      <td>...</td>\n",
       "      <td>...</td>\n",
       "      <td>...</td>\n",
       "      <td>...</td>\n",
       "      <td>...</td>\n",
       "      <td>...</td>\n",
       "      <td>...</td>\n",
       "      <td>...</td>\n",
       "      <td>...</td>\n",
       "      <td>...</td>\n",
       "      <td>...</td>\n",
       "      <td>...</td>\n",
       "      <td>...</td>\n",
       "      <td>...</td>\n",
       "    </tr>\n",
       "    <tr>\n",
       "      <th>2945</th>\n",
       "      <td>2946</td>\n",
       "      <td>NaN</td>\n",
       "      <td>1000000</td>\n",
       "      <td>[{'id': 12, 'name': 'Adventure'}, {'id': 35, '...</td>\n",
       "      <td>NaN</td>\n",
       "      <td>tt0057590</td>\n",
       "      <td>en</td>\n",
       "      <td>Tom Jones</td>\n",
       "      <td>Tom loves Sophie and Sophie loves Tom. But Tom...</td>\n",
       "      <td>3.315827</td>\n",
       "      <td>...</td>\n",
       "      <td>[{'iso_639_1': 'en', 'name': 'English'}]</td>\n",
       "      <td>Released</td>\n",
       "      <td>Tom Jones! . . . loves and loves and loves and...</td>\n",
       "      <td>Tom Jones</td>\n",
       "      <td>[{'id': 5626, 'name': 'from rags to riches'}, ...</td>\n",
       "      <td>[{'cast_id': 6, 'character': 'Tom Jones', 'cre...</td>\n",
       "      <td>[{'credit_id': '52fe4421c3a36847f8084025', 'de...</td>\n",
       "      <td>37600000</td>\n",
       "      <td>2063</td>\n",
       "      <td>10</td>\n",
       "    </tr>\n",
       "    <tr>\n",
       "      <th>2946</th>\n",
       "      <td>2947</td>\n",
       "      <td>NaN</td>\n",
       "      <td>483103</td>\n",
       "      <td>[{'id': 18, 'name': 'Drama'}, {'id': 35, 'name...</td>\n",
       "      <td>NaN</td>\n",
       "      <td>tt0018183</td>\n",
       "      <td>en</td>\n",
       "      <td>My Best Girl</td>\n",
       "      <td>Joe Merrill, son of the millionaire owner of a...</td>\n",
       "      <td>0.205671</td>\n",
       "      <td>...</td>\n",
       "      <td>[{'iso_639_1': 'en', 'name': 'English'}]</td>\n",
       "      <td>Released</td>\n",
       "      <td>NaN</td>\n",
       "      <td>My Best Girl</td>\n",
       "      <td>NaN</td>\n",
       "      <td>[{'cast_id': 1, 'character': 'Maggie Johnson',...</td>\n",
       "      <td>[{'credit_id': '58f2c8ac9251413d6e007220', 'de...</td>\n",
       "      <td>1027757</td>\n",
       "      <td>2027</td>\n",
       "      <td>10</td>\n",
       "    </tr>\n",
       "    <tr>\n",
       "      <th>2962</th>\n",
       "      <td>2963</td>\n",
       "      <td>NaN</td>\n",
       "      <td>20000000</td>\n",
       "      <td>[{'id': 18, 'name': 'Drama'}, {'id': 14, 'name...</td>\n",
       "      <td>http://www.theshack.movie</td>\n",
       "      <td>tt2872518</td>\n",
       "      <td>en</td>\n",
       "      <td>The Shack</td>\n",
       "      <td>After suffering a family tragedy, Mack Phillip...</td>\n",
       "      <td>16.392712</td>\n",
       "      <td>...</td>\n",
       "      <td>[{'iso_639_1': 'en', 'name': 'English'}]</td>\n",
       "      <td>Released</td>\n",
       "      <td>You're never as alone as you think.</td>\n",
       "      <td>The Shack</td>\n",
       "      <td>[{'id': 818, 'name': 'based on novel'}, {'id':...</td>\n",
       "      <td>[{'cast_id': 0, 'character': 'Mack Phillips', ...</td>\n",
       "      <td>[{'credit_id': '591ed967c3a368799b03016c', 'de...</td>\n",
       "      <td>57330873</td>\n",
       "      <td>2017</td>\n",
       "      <td>3</td>\n",
       "    </tr>\n",
       "    <tr>\n",
       "      <th>2967</th>\n",
       "      <td>2968</td>\n",
       "      <td>[{'id': 387219, 'name': 'The Hustler Collectio...</td>\n",
       "      <td>2000000</td>\n",
       "      <td>[{'id': 18, 'name': 'Drama'}]</td>\n",
       "      <td>NaN</td>\n",
       "      <td>tt0054997</td>\n",
       "      <td>en</td>\n",
       "      <td>The Hustler</td>\n",
       "      <td>Fast Eddie Felson is a small-time pool hustler...</td>\n",
       "      <td>9.333533</td>\n",
       "      <td>...</td>\n",
       "      <td>[{'iso_639_1': 'en', 'name': 'English'}]</td>\n",
       "      <td>Released</td>\n",
       "      <td>They called him Fast Eddie. He was a winner. H...</td>\n",
       "      <td>The Hustler</td>\n",
       "      <td>[{'id': 236, 'name': 'suicide'}, {'id': 395, '...</td>\n",
       "      <td>[{'cast_id': 15, 'character': 'Eddie Felson', ...</td>\n",
       "      <td>[{'credit_id': '52fe4297c3a36847f802a989', 'de...</td>\n",
       "      <td>7600000</td>\n",
       "      <td>2061</td>\n",
       "      <td>9</td>\n",
       "    </tr>\n",
       "    <tr>\n",
       "      <th>2992</th>\n",
       "      <td>2993</td>\n",
       "      <td>NaN</td>\n",
       "      <td>1135654</td>\n",
       "      <td>[{'id': 28, 'name': 'Action'}, {'id': 12, 'nam...</td>\n",
       "      <td>NaN</td>\n",
       "      <td>tt0015400</td>\n",
       "      <td>en</td>\n",
       "      <td>The Thief of Bagdad</td>\n",
       "      <td>A recalcitrant thief vies with a duplicitous M...</td>\n",
       "      <td>3.878515</td>\n",
       "      <td>...</td>\n",
       "      <td>[{'iso_639_1': 'xx', 'name': 'No Language'}]</td>\n",
       "      <td>Released</td>\n",
       "      <td>\"Happiness Must Be Earned\"</td>\n",
       "      <td>The Thief of Bagdad</td>\n",
       "      <td>[{'id': 255, 'name': 'male nudity'}, {'id': 14...</td>\n",
       "      <td>[{'cast_id': 3, 'character': 'The Thief of Bag...</td>\n",
       "      <td>[{'credit_id': '52fe45bec3a368484e06c70b', 'de...</td>\n",
       "      <td>1213880</td>\n",
       "      <td>2024</td>\n",
       "      <td>3</td>\n",
       "    </tr>\n",
       "  </tbody>\n",
       "</table>\n",
       "<p>192 rows × 24 columns</p>\n",
       "</div>"
      ],
      "text/plain": [
       "        id                              belongs_to_collection    budget  \\\n",
       "39      40                                                NaN   3800000   \n",
       "41      42                                                NaN   3000000   \n",
       "48      49                                                NaN         0   \n",
       "51      52                                                NaN  12000000   \n",
       "61      62                                                NaN   4000000   \n",
       "...    ...                                                ...       ...   \n",
       "2945  2946                                                NaN   1000000   \n",
       "2946  2947                                                NaN    483103   \n",
       "2962  2963                                                NaN  20000000   \n",
       "2967  2968  [{'id': 387219, 'name': 'The Hustler Collectio...   2000000   \n",
       "2992  2993                                                NaN   1135654   \n",
       "\n",
       "                                                 genres  \\\n",
       "39    [{'id': 10752, 'name': 'War'}, {'id': 37, 'nam...   \n",
       "41    [{'id': 80, 'name': 'Crime'}, {'id': 18, 'name...   \n",
       "48    [{'id': 18, 'name': 'Drama'}, {'id': 35, 'name...   \n",
       "51    [{'id': 12, 'name': 'Adventure'}, {'id': 35, '...   \n",
       "61                        [{'id': 18, 'name': 'Drama'}]   \n",
       "...                                                 ...   \n",
       "2945  [{'id': 12, 'name': 'Adventure'}, {'id': 35, '...   \n",
       "2946  [{'id': 18, 'name': 'Drama'}, {'id': 35, 'name...   \n",
       "2962  [{'id': 18, 'name': 'Drama'}, {'id': 14, 'name...   \n",
       "2967                      [{'id': 18, 'name': 'Drama'}]   \n",
       "2992  [{'id': 28, 'name': 'Action'}, {'id': 12, 'nam...   \n",
       "\n",
       "                       homepage    imdb_id original_language  \\\n",
       "39                          NaN  tt0059418                en   \n",
       "41                          NaN  tt0061512                en   \n",
       "48                          NaN  tt1781058                en   \n",
       "51                          NaN  tt0059243                en   \n",
       "61                          NaN  tt0049875                en   \n",
       "...                         ...        ...               ...   \n",
       "2945                        NaN  tt0057590                en   \n",
       "2946                        NaN  tt0018183                en   \n",
       "2962  http://www.theshack.movie  tt2872518                en   \n",
       "2967                        NaN  tt0054997                en   \n",
       "2992                        NaN  tt0015400                en   \n",
       "\n",
       "           original_title                                           overview  \\\n",
       "39           Major Dundee  During the last winter of the Civil War, caval...   \n",
       "41         Cool Hand Luke  When petty criminal Luke Jackson is sentenced ...   \n",
       "48                 Wilson  Middle-aged and divorced, Wilson finds himself...   \n",
       "51         The Great Race  Professional daredevil and white-suited hero, ...   \n",
       "61                Trapeze  A pair of men try to perform the dangerous \"tr...   \n",
       "...                   ...                                                ...   \n",
       "2945            Tom Jones  Tom loves Sophie and Sophie loves Tom. But Tom...   \n",
       "2946         My Best Girl  Joe Merrill, son of the millionaire owner of a...   \n",
       "2962            The Shack  After suffering a family tragedy, Mack Phillip...   \n",
       "2967          The Hustler  Fast Eddie Felson is a small-time pool hustler...   \n",
       "2992  The Thief of Bagdad  A recalcitrant thief vies with a duplicitous M...   \n",
       "\n",
       "      popularity  ...                                   spoken_languages  \\\n",
       "39      3.055936  ...  [{'iso_639_1': 'en', 'name': 'English'}, {'iso...   \n",
       "41      9.718713  ...           [{'iso_639_1': 'en', 'name': 'English'}]   \n",
       "48      8.984386  ...           [{'iso_639_1': 'en', 'name': 'English'}]   \n",
       "51      4.473327  ...  [{'iso_639_1': 'en', 'name': 'English'}, {'iso...   \n",
       "61      1.801071  ...  [{'iso_639_1': 'en', 'name': 'English'}, {'iso...   \n",
       "...          ...  ...                                                ...   \n",
       "2945    3.315827  ...           [{'iso_639_1': 'en', 'name': 'English'}]   \n",
       "2946    0.205671  ...           [{'iso_639_1': 'en', 'name': 'English'}]   \n",
       "2962   16.392712  ...           [{'iso_639_1': 'en', 'name': 'English'}]   \n",
       "2967    9.333533  ...           [{'iso_639_1': 'en', 'name': 'English'}]   \n",
       "2992    3.878515  ...       [{'iso_639_1': 'xx', 'name': 'No Language'}]   \n",
       "\n",
       "        status                                            tagline  \\\n",
       "39    Released                                                NaN   \n",
       "41    Released     What we've got here is failure to communicate.   \n",
       "48    Released                                                NaN   \n",
       "51    Released  The movie with 20,000-mile or one-million-laug...   \n",
       "61    Released  High...High...High...Above Them All! - in exci...   \n",
       "...        ...                                                ...   \n",
       "2945  Released  Tom Jones! . . . loves and loves and loves and...   \n",
       "2946  Released                                                NaN   \n",
       "2962  Released                You're never as alone as you think.   \n",
       "2967  Released  They called him Fast Eddie. He was a winner. H...   \n",
       "2992  Released                         \"Happiness Must Be Earned\"   \n",
       "\n",
       "                    title                                           Keywords  \\\n",
       "39           Major Dundee  [{'id': 534, 'name': 'mexico'}, {'id': 1968, '...   \n",
       "41         Cool Hand Luke  [{'id': 378, 'name': 'prison'}, {'id': 526, 'n...   \n",
       "48                 Wilson  [{'id': 2487, 'name': 'naivety'}, {'id': 2794,...   \n",
       "51         The Great Race  [{'id': 9253, 'name': 'slapstick'}, {'id': 159...   \n",
       "61                Trapeze  [{'id': 291, 'name': 'circus'}, {'id': 180181,...   \n",
       "...                   ...                                                ...   \n",
       "2945            Tom Jones  [{'id': 5626, 'name': 'from rags to riches'}, ...   \n",
       "2946         My Best Girl                                                NaN   \n",
       "2962            The Shack  [{'id': 818, 'name': 'based on novel'}, {'id':...   \n",
       "2967          The Hustler  [{'id': 236, 'name': 'suicide'}, {'id': 395, '...   \n",
       "2992  The Thief of Bagdad  [{'id': 255, 'name': 'male nudity'}, {'id': 14...   \n",
       "\n",
       "                                                   cast  \\\n",
       "39    [{'cast_id': 1, 'character': 'Major Amos Charl...   \n",
       "41    [{'cast_id': 13, 'character': 'Luke Jackson', ...   \n",
       "48    [{'cast_id': 5, 'character': 'Wilson', 'credit...   \n",
       "51    [{'cast_id': 1, 'character': 'Prof. Fate', 'cr...   \n",
       "61    [{'cast_id': 2, 'character': 'Mike Ribble', 'c...   \n",
       "...                                                 ...   \n",
       "2945  [{'cast_id': 6, 'character': 'Tom Jones', 'cre...   \n",
       "2946  [{'cast_id': 1, 'character': 'Maggie Johnson',...   \n",
       "2962  [{'cast_id': 0, 'character': 'Mack Phillips', ...   \n",
       "2967  [{'cast_id': 15, 'character': 'Eddie Felson', ...   \n",
       "2992  [{'cast_id': 3, 'character': 'The Thief of Bag...   \n",
       "\n",
       "                                                   crew   revenue  \\\n",
       "39    [{'credit_id': '52fe45f5c3a368484e078d7b', 'de...     14873   \n",
       "41    [{'credit_id': '52fe428ac3a36847f8026d8d', 'de...  16217773   \n",
       "48    [{'credit_id': '5590cb95c3a36807f6000075', 'de...    653951   \n",
       "51    [{'credit_id': '52fe445e9251416c75032581', 'de...  25333333   \n",
       "61    [{'credit_id': '52fe4594c3a36847f80cf3b9', 'de...  14400000   \n",
       "...                                                 ...       ...   \n",
       "2945  [{'credit_id': '52fe4421c3a36847f8084025', 'de...  37600000   \n",
       "2946  [{'credit_id': '58f2c8ac9251413d6e007220', 'de...   1027757   \n",
       "2962  [{'credit_id': '591ed967c3a368799b03016c', 'de...  57330873   \n",
       "2967  [{'credit_id': '52fe4297c3a36847f802a989', 'de...   7600000   \n",
       "2992  [{'credit_id': '52fe45bec3a368484e06c70b', 'de...   1213880   \n",
       "\n",
       "     release_year release_month  \n",
       "39           2065             4  \n",
       "41           2067             6  \n",
       "48           2017             3  \n",
       "51           2065             7  \n",
       "61           2056             5  \n",
       "...           ...           ...  \n",
       "2945         2063            10  \n",
       "2946         2027            10  \n",
       "2962         2017             3  \n",
       "2967         2061             9  \n",
       "2992         2024             3  \n",
       "\n",
       "[192 rows x 24 columns]"
      ]
     },
     "execution_count": 15,
     "metadata": {},
     "output_type": "execute_result"
    }
   ],
   "source": [
    "train[train[\"release_year\"] >=2017]"
   ]
  },
  {
   "cell_type": "markdown",
   "metadata": {
    "papermill": {
     "duration": 0.063123,
     "end_time": "2020-11-08T15:24:57.189189",
     "exception": false,
     "start_time": "2020-11-08T15:24:57.126066",
     "status": "completed"
    },
    "tags": []
   },
   "source": [
    "Ok so we can note two things. The \"newest\" movies are from 2017. And the movies from the future is actually from the past i.e. The Hustler('2061') is actually from 1961.\n",
    "\n",
    "Let's check if the same is true for the test set:"
   ]
  },
  {
   "cell_type": "code",
   "execution_count": 16,
   "metadata": {
    "execution": {
     "iopub.execute_input": "2020-11-08T15:24:57.327066Z",
     "iopub.status.busy": "2020-11-08T15:24:57.325795Z",
     "iopub.status.idle": "2020-11-08T15:24:57.341992Z",
     "shell.execute_reply": "2020-11-08T15:24:57.341253Z"
    },
    "papermill": {
     "duration": 0.088817,
     "end_time": "2020-11-08T15:24:57.342123",
     "exception": false,
     "start_time": "2020-11-08T15:24:57.253306",
     "status": "completed"
    },
    "tags": []
   },
   "outputs": [
    {
     "data": {
      "text/html": [
       "<div>\n",
       "<style scoped>\n",
       "    .dataframe tbody tr th:only-of-type {\n",
       "        vertical-align: middle;\n",
       "    }\n",
       "\n",
       "    .dataframe tbody tr th {\n",
       "        vertical-align: top;\n",
       "    }\n",
       "\n",
       "    .dataframe thead th {\n",
       "        text-align: right;\n",
       "    }\n",
       "</style>\n",
       "<table border=\"1\" class=\"dataframe\">\n",
       "  <thead>\n",
       "    <tr style=\"text-align: right;\">\n",
       "      <th></th>\n",
       "      <th>release_year</th>\n",
       "      <th>release_month</th>\n",
       "    </tr>\n",
       "  </thead>\n",
       "  <tbody>\n",
       "    <tr>\n",
       "      <th>count</th>\n",
       "      <td>4397.000000</td>\n",
       "      <td>4397.000000</td>\n",
       "    </tr>\n",
       "    <tr>\n",
       "      <th>mean</th>\n",
       "      <td>2004.678645</td>\n",
       "      <td>6.889015</td>\n",
       "    </tr>\n",
       "    <tr>\n",
       "      <th>std</th>\n",
       "      <td>16.053531</td>\n",
       "      <td>3.370233</td>\n",
       "    </tr>\n",
       "    <tr>\n",
       "      <th>min</th>\n",
       "      <td>1970.000000</td>\n",
       "      <td>1.000000</td>\n",
       "    </tr>\n",
       "    <tr>\n",
       "      <th>25%</th>\n",
       "      <td>1995.000000</td>\n",
       "      <td>4.000000</td>\n",
       "    </tr>\n",
       "    <tr>\n",
       "      <th>50%</th>\n",
       "      <td>2006.000000</td>\n",
       "      <td>7.000000</td>\n",
       "    </tr>\n",
       "    <tr>\n",
       "      <th>75%</th>\n",
       "      <td>2012.000000</td>\n",
       "      <td>10.000000</td>\n",
       "    </tr>\n",
       "    <tr>\n",
       "      <th>max</th>\n",
       "      <td>2069.000000</td>\n",
       "      <td>12.000000</td>\n",
       "    </tr>\n",
       "  </tbody>\n",
       "</table>\n",
       "</div>"
      ],
      "text/plain": [
       "       release_year  release_month\n",
       "count   4397.000000    4397.000000\n",
       "mean    2004.678645       6.889015\n",
       "std       16.053531       3.370233\n",
       "min     1970.000000       1.000000\n",
       "25%     1995.000000       4.000000\n",
       "50%     2006.000000       7.000000\n",
       "75%     2012.000000      10.000000\n",
       "max     2069.000000      12.000000"
      ]
     },
     "execution_count": 16,
     "metadata": {},
     "output_type": "execute_result"
    }
   ],
   "source": [
    "test[[\"release_year\", \"release_month\"]].describe()"
   ]
  },
  {
   "cell_type": "markdown",
   "metadata": {
    "papermill": {
     "duration": 0.065679,
     "end_time": "2020-11-08T15:24:57.524460",
     "exception": false,
     "start_time": "2020-11-08T15:24:57.458781",
     "status": "completed"
    },
    "tags": []
   },
   "source": [
    "Yes, all movies prior to 1970 has been misslabled as 20??. So we can correct this or we can just remove the incorrect values. If the point is to predict future releases you probably should opt for removing old films.\n"
   ]
  },
  {
   "cell_type": "code",
   "execution_count": 17,
   "metadata": {
    "execution": {
     "iopub.execute_input": "2020-11-08T15:24:57.665127Z",
     "iopub.status.busy": "2020-11-08T15:24:57.664344Z",
     "iopub.status.idle": "2020-11-08T15:24:57.671533Z",
     "shell.execute_reply": "2020-11-08T15:24:57.672229Z"
    },
    "papermill": {
     "duration": 0.082799,
     "end_time": "2020-11-08T15:24:57.672403",
     "exception": false,
     "start_time": "2020-11-08T15:24:57.589604",
     "status": "completed"
    },
    "tags": []
   },
   "outputs": [
    {
     "data": {
      "text/plain": [
       "count    3000.000000\n",
       "mean     1999.713000\n",
       "std        15.423313\n",
       "min      1921.000000\n",
       "25%      1993.000000\n",
       "50%      2004.000000\n",
       "75%      2011.000000\n",
       "max      2017.000000\n",
       "Name: release_year, dtype: float64"
      ]
     },
     "execution_count": 17,
     "metadata": {},
     "output_type": "execute_result"
    }
   ],
   "source": [
    "# For now lets just do some simple subtraction\n",
    "train['release_year']=np.where(train['release_year']> 2018, train['release_year']-100, train['release_year'])\n",
    "test['release_year']=np.where(test['release_year']> 2018, test['release_year']-100, test['release_year'])\n",
    "train.release_year.describe()"
   ]
  },
  {
   "cell_type": "markdown",
   "metadata": {
    "papermill": {
     "duration": 0.065618,
     "end_time": "2020-11-08T15:24:57.802492",
     "exception": false,
     "start_time": "2020-11-08T15:24:57.736874",
     "status": "completed"
    },
    "tags": []
   },
   "source": [
    "**Original Language**"
   ]
  },
  {
   "cell_type": "code",
   "execution_count": 18,
   "metadata": {
    "execution": {
     "iopub.execute_input": "2020-11-08T15:24:57.945719Z",
     "iopub.status.busy": "2020-11-08T15:24:57.944654Z",
     "iopub.status.idle": "2020-11-08T15:24:57.962140Z",
     "shell.execute_reply": "2020-11-08T15:24:57.961527Z"
    },
    "papermill": {
     "duration": 0.095096,
     "end_time": "2020-11-08T15:24:57.962277",
     "exception": false,
     "start_time": "2020-11-08T15:24:57.867181",
     "status": "completed"
    },
    "tags": []
   },
   "outputs": [],
   "source": [
    "for col in ['original_language']:\n",
    "    le = LabelEncoder()\n",
    "    le.fit(list(train[col].fillna('')) + list(test[col].fillna('')))\n",
    "    train[col] = le.transform(train[col].fillna('').astype(str))\n",
    "    test[col] = le.transform(test[col].fillna('').astype(str))\n",
    "    train.original_language.describe()"
   ]
  },
  {
   "cell_type": "markdown",
   "metadata": {
    "papermill": {
     "duration": 0.065146,
     "end_time": "2020-11-08T15:24:58.092747",
     "exception": false,
     "start_time": "2020-11-08T15:24:58.027601",
     "status": "completed"
    },
    "tags": []
   },
   "source": [
    "**Genres**"
   ]
  },
  {
   "cell_type": "code",
   "execution_count": 19,
   "metadata": {
    "execution": {
     "iopub.execute_input": "2020-11-08T15:24:58.252830Z",
     "iopub.status.busy": "2020-11-08T15:24:58.242411Z",
     "iopub.status.idle": "2020-11-08T15:24:58.733253Z",
     "shell.execute_reply": "2020-11-08T15:24:58.732486Z"
    },
    "papermill": {
     "duration": 0.57554,
     "end_time": "2020-11-08T15:24:58.733377",
     "exception": false,
     "start_time": "2020-11-08T15:24:58.157837",
     "status": "completed"
    },
    "tags": []
   },
   "outputs": [
    {
     "data": {
      "text/plain": [
       "0                            [Comedy]\n",
       "1    [Comedy, Drama, Family, Romance]\n",
       "2                             [Drama]\n",
       "3                   [Thriller, Drama]\n",
       "4                  [Action, Thriller]\n",
       "Name: genres, dtype: object"
      ]
     },
     "execution_count": 19,
     "metadata": {},
     "output_type": "execute_result"
    }
   ],
   "source": [
    "# Apply the same preprocessing on the string values\n",
    "train.genres = train.genres.apply(lambda x: list(map(lambda d: list(d.values())[1], ast.literal_eval(x)) if isinstance(x, str) else []))\n",
    "test.genres = test.genres.apply(lambda x: list(map(lambda d: list(d.values())[1], ast.literal_eval(x)) if isinstance(x, str) else []))\n",
    "\n",
    "train.genres.head()"
   ]
  },
  {
   "cell_type": "code",
   "execution_count": 20,
   "metadata": {
    "execution": {
     "iopub.execute_input": "2020-11-08T15:24:58.880895Z",
     "iopub.status.busy": "2020-11-08T15:24:58.879976Z",
     "iopub.status.idle": "2020-11-08T15:24:58.884767Z",
     "shell.execute_reply": "2020-11-08T15:24:58.884034Z"
    },
    "papermill": {
     "duration": 0.084527,
     "end_time": "2020-11-08T15:24:58.884892",
     "exception": false,
     "start_time": "2020-11-08T15:24:58.800365",
     "status": "completed"
    },
    "tags": []
   },
   "outputs": [
    {
     "data": {
      "text/plain": [
       "Counter({'Comedy': 2605,\n",
       "         'Drama': 3676,\n",
       "         'Family': 675,\n",
       "         'Romance': 1435,\n",
       "         'Thriller': 1869,\n",
       "         'Action': 1735,\n",
       "         'Animation': 382,\n",
       "         'Adventure': 1116,\n",
       "         'Horror': 735,\n",
       "         'Documentary': 221,\n",
       "         'Music': 267,\n",
       "         'Crime': 1084,\n",
       "         'Science Fiction': 744,\n",
       "         'Mystery': 550,\n",
       "         'Foreign': 84,\n",
       "         'Fantasy': 628,\n",
       "         'War': 243,\n",
       "         'Western': 117,\n",
       "         'History': 295,\n",
       "         'TV Movie': 1})"
      ]
     },
     "execution_count": 20,
     "metadata": {},
     "output_type": "execute_result"
    }
   ],
   "source": [
    "genres = Counter(itertools.chain.from_iterable(pd.concat((train.genres, test.genres), axis=0).values))\n",
    "genres"
   ]
  },
  {
   "cell_type": "code",
   "execution_count": 21,
   "metadata": {
    "execution": {
     "iopub.execute_input": "2020-11-08T15:24:59.028724Z",
     "iopub.status.busy": "2020-11-08T15:24:59.027110Z",
     "iopub.status.idle": "2020-11-08T15:24:59.245997Z",
     "shell.execute_reply": "2020-11-08T15:24:59.245222Z"
    },
    "papermill": {
     "duration": 0.294663,
     "end_time": "2020-11-08T15:24:59.246146",
     "exception": false,
     "start_time": "2020-11-08T15:24:58.951483",
     "status": "completed"
    },
    "tags": []
   },
   "outputs": [
    {
     "name": "stdout",
     "output_type": "stream",
     "text": [
      "Wall time: 143 ms\n"
     ]
    }
   ],
   "source": [
    "%%time\n",
    "temp_train = train[['id', 'genres']]\n",
    "temp_test = test[['id', 'genres']]\n",
    "\n",
    "for g in genres:\n",
    "    temp_train[g] = temp_train.genres.apply(lambda x: 1 if g in x else 0)\n",
    "    temp_test[g] = temp_test.genres.apply(lambda x: 1 if g in x else 0)\n",
    "    \n",
    "X_train = temp_train.drop(['genres', 'id'], axis=1).values\n",
    "X_test = temp_test.drop(['genres', 'id'], axis=1).values\n",
    "\n",
    "# Number of features we want for genres\n",
    "n_comp_genres = 3\n",
    "\n",
    "# Build the SVD pipeline\n",
    "svd = make_pipeline(\n",
    "    TruncatedSVD(n_components=n_comp_genres),\n",
    "    Normalizer(norm='l2', copy=False)\n",
    ")\n",
    "\n",
    "# Here are our new features\n",
    "f_train = svd.fit_transform(X_train)\n",
    "f_test = svd.transform(X_test)\n"
   ]
  },
  {
   "cell_type": "code",
   "execution_count": 22,
   "metadata": {
    "execution": {
     "iopub.execute_input": "2020-11-08T15:24:59.391559Z",
     "iopub.status.busy": "2020-11-08T15:24:59.390527Z",
     "iopub.status.idle": "2020-11-08T15:24:59.395428Z",
     "shell.execute_reply": "2020-11-08T15:24:59.394774Z"
    },
    "papermill": {
     "duration": 0.078907,
     "end_time": "2020-11-08T15:24:59.395565",
     "exception": false,
     "start_time": "2020-11-08T15:24:59.316658",
     "status": "completed"
    },
    "tags": []
   },
   "outputs": [
    {
     "data": {
      "text/plain": [
       "['Comedy',\n",
       " 'Drama',\n",
       " 'Family',\n",
       " 'Romance',\n",
       " 'Thriller',\n",
       " 'Action',\n",
       " 'Animation',\n",
       " 'Adventure',\n",
       " 'Horror',\n",
       " 'Documentary',\n",
       " 'Music',\n",
       " 'Crime',\n",
       " 'Science Fiction',\n",
       " 'Mystery',\n",
       " 'Foreign',\n",
       " 'Fantasy',\n",
       " 'War',\n",
       " 'Western',\n",
       " 'History']"
      ]
     },
     "execution_count": 22,
     "metadata": {},
     "output_type": "execute_result"
    }
   ],
   "source": [
    "my_genres = [g for g in genres if g != 'TV Movie']\n",
    "my_genres\n"
   ]
  },
  {
   "cell_type": "code",
   "execution_count": 23,
   "metadata": {
    "execution": {
     "iopub.execute_input": "2020-11-08T15:24:59.545146Z",
     "iopub.status.busy": "2020-11-08T15:24:59.543503Z",
     "iopub.status.idle": "2020-11-08T15:24:59.585750Z",
     "shell.execute_reply": "2020-11-08T15:24:59.586318Z"
    },
    "papermill": {
     "duration": 0.122509,
     "end_time": "2020-11-08T15:24:59.586490",
     "exception": false,
     "start_time": "2020-11-08T15:24:59.463981",
     "status": "completed"
    },
    "tags": []
   },
   "outputs": [
    {
     "name": "stdout",
     "output_type": "stream",
     "text": [
      "<class 'pandas.core.frame.DataFrame'>\n",
      "RangeIndex: 3000 entries, 0 to 2999\n",
      "Data columns (total 44 columns):\n",
      " #   Column                 Non-Null Count  Dtype  \n",
      "---  ------                 --------------  -----  \n",
      " 0   id                     3000 non-null   int64  \n",
      " 1   belongs_to_collection  604 non-null    object \n",
      " 2   budget                 3000 non-null   int64  \n",
      " 3   genres                 3000 non-null   object \n",
      " 4   homepage               946 non-null    object \n",
      " 5   imdb_id                3000 non-null   object \n",
      " 6   original_language      3000 non-null   int32  \n",
      " 7   original_title         3000 non-null   object \n",
      " 8   overview               2992 non-null   object \n",
      " 9   popularity             3000 non-null   float64\n",
      " 10  poster_path            2999 non-null   object \n",
      " 11  production_companies   2844 non-null   object \n",
      " 12  production_countries   2945 non-null   object \n",
      " 13  runtime                2998 non-null   float64\n",
      " 14  spoken_languages       2980 non-null   object \n",
      " 15  status                 3000 non-null   object \n",
      " 16  tagline                2403 non-null   object \n",
      " 17  title                  3000 non-null   object \n",
      " 18  Keywords               2724 non-null   object \n",
      " 19  cast                   2987 non-null   object \n",
      " 20  crew                   2984 non-null   object \n",
      " 21  revenue                3000 non-null   int64  \n",
      " 22  release_year           3000 non-null   int64  \n",
      " 23  release_month          3000 non-null   int64  \n",
      " 24  genres                 3000 non-null   object \n",
      " 25  Comedy                 3000 non-null   int64  \n",
      " 26  Drama                  3000 non-null   int64  \n",
      " 27  Family                 3000 non-null   int64  \n",
      " 28  Romance                3000 non-null   int64  \n",
      " 29  Thriller               3000 non-null   int64  \n",
      " 30  Action                 3000 non-null   int64  \n",
      " 31  Animation              3000 non-null   int64  \n",
      " 32  Adventure              3000 non-null   int64  \n",
      " 33  Horror                 3000 non-null   int64  \n",
      " 34  Documentary            3000 non-null   int64  \n",
      " 35  Music                  3000 non-null   int64  \n",
      " 36  Crime                  3000 non-null   int64  \n",
      " 37  Science Fiction        3000 non-null   int64  \n",
      " 38  Mystery                3000 non-null   int64  \n",
      " 39  Foreign                3000 non-null   int64  \n",
      " 40  Fantasy                3000 non-null   int64  \n",
      " 41  War                    3000 non-null   int64  \n",
      " 42  Western                3000 non-null   int64  \n",
      " 43  History                3000 non-null   int64  \n",
      "dtypes: float64(2), int32(1), int64(24), object(17)\n",
      "memory usage: 1019.7+ KB\n"
     ]
    }
   ],
   "source": [
    "train = pd.concat([train, temp_train.iloc[:,1:]], axis=1) \n",
    "train.drop(train.columns[-1],axis=1, inplace = True)\n",
    "\n",
    "test = pd.concat([test, temp_test.iloc[:,1:]], axis=1) \n",
    "test.drop(test.columns[-1], axis=1, inplace = True)\n",
    "\n",
    "train.info()"
   ]
  },
  {
   "cell_type": "markdown",
   "metadata": {
    "papermill": {
     "duration": 0.068722,
     "end_time": "2020-11-08T15:24:59.723147",
     "exception": false,
     "start_time": "2020-11-08T15:24:59.654425",
     "status": "completed"
    },
    "tags": []
   },
   "source": [
    "**Production companies**"
   ]
  },
  {
   "cell_type": "code",
   "execution_count": 24,
   "metadata": {
    "execution": {
     "iopub.execute_input": "2020-11-08T15:24:59.915798Z",
     "iopub.status.busy": "2020-11-08T15:24:59.905492Z",
     "iopub.status.idle": "2020-11-08T15:25:15.645006Z",
     "shell.execute_reply": "2020-11-08T15:25:15.644370Z"
    },
    "papermill": {
     "duration": 15.85303,
     "end_time": "2020-11-08T15:25:15.645148",
     "exception": false,
     "start_time": "2020-11-08T15:24:59.792118",
     "status": "completed"
    },
    "tags": []
   },
   "outputs": [],
   "source": [
    "# Transforming fron JSON to Dictionary columns:\n",
    "dict_columns = ['production_companies','cast', 'crew']\n",
    "\n",
    "def text_to_dict(df):\n",
    "    for column in dict_columns:\n",
    "        df[column] = df[column].apply(lambda x: {} if pd.isna(x) else ast.literal_eval(x) )\n",
    "    return df\n",
    "        \n",
    "train = text_to_dict(train)\n",
    "test = text_to_dict(test)"
   ]
  },
  {
   "cell_type": "code",
   "execution_count": 25,
   "metadata": {
    "execution": {
     "iopub.execute_input": "2020-11-08T15:25:15.805257Z",
     "iopub.status.busy": "2020-11-08T15:25:15.793802Z",
     "iopub.status.idle": "2020-11-08T15:25:16.091308Z",
     "shell.execute_reply": "2020-11-08T15:25:16.090600Z"
    },
    "papermill": {
     "duration": 0.375147,
     "end_time": "2020-11-08T15:25:16.091435",
     "exception": false,
     "start_time": "2020-11-08T15:25:15.716288",
     "status": "completed"
    },
    "tags": []
   },
   "outputs": [
    {
     "data": {
      "image/png": "[encoded data removed]",
      "text/plain": [
       "<Figure size 720x432 with 1 Axes>"
      ]
     },
     "metadata": {},
     "output_type": "display_data"
    }
   ],
   "source": [
    "# Counting the frequency of production company \n",
    "\n",
    "list_of_companies = list(train['production_companies'].apply(lambda x: [i['name'] for i in x] if x != {} else []).values)\n",
    "\n",
    "most_common_companies=Counter([i for j in list_of_companies for i in j]).most_common(20)\n",
    "\n",
    "fig = plt.figure(figsize=(10, 6))\n",
    "data=dict(most_common_companies)\n",
    "names = list(data.keys())\n",
    "values = list(data.values())\n",
    "\n",
    "plt.barh(sorted(range(len(data)),reverse=True),values,tick_label=names, color='pink')\n",
    "plt.xlabel('Count')\n",
    "plt.title('Top 20 Production Company Count')\n",
    "plt.show()"
   ]
  },
  {
   "cell_type": "code",
   "execution_count": 26,
   "metadata": {
    "execution": {
     "iopub.execute_input": "2020-11-08T15:25:16.248239Z",
     "iopub.status.busy": "2020-11-08T15:25:16.243065Z",
     "iopub.status.idle": "2020-11-08T15:25:16.665899Z",
     "shell.execute_reply": "2020-11-08T15:25:16.665035Z"
    },
    "papermill": {
     "duration": 0.502835,
     "end_time": "2020-11-08T15:25:16.666079",
     "exception": false,
     "start_time": "2020-11-08T15:25:16.163244",
     "status": "completed"
    },
    "tags": []
   },
   "outputs": [
    {
     "name": "stdout",
     "output_type": "stream",
     "text": [
      "<class 'pandas.core.frame.DataFrame'>\n",
      "RangeIndex: 3000 entries, 0 to 2999\n",
      "Data columns (total 74 columns):\n",
      " #   Column                                                     Non-Null Count  Dtype  \n",
      "---  ------                                                     --------------  -----  \n",
      " 0   id                                                         3000 non-null   int64  \n",
      " 1   belongs_to_collection                                      604 non-null    object \n",
      " 2   budget                                                     3000 non-null   int64  \n",
      " 3   genres                                                     3000 non-null   object \n",
      " 4   homepage                                                   946 non-null    object \n",
      " 5   imdb_id                                                    3000 non-null   object \n",
      " 6   original_language                                          3000 non-null   int32  \n",
      " 7   original_title                                             3000 non-null   object \n",
      " 8   overview                                                   2992 non-null   object \n",
      " 9   popularity                                                 3000 non-null   float64\n",
      " 10  poster_path                                                2999 non-null   object \n",
      " 11  production_countries                                       2945 non-null   object \n",
      " 12  runtime                                                    2998 non-null   float64\n",
      " 13  spoken_languages                                           2980 non-null   object \n",
      " 14  status                                                     3000 non-null   object \n",
      " 15  tagline                                                    2403 non-null   object \n",
      " 16  title                                                      3000 non-null   object \n",
      " 17  Keywords                                                   2724 non-null   object \n",
      " 18  cast                                                       3000 non-null   object \n",
      " 19  crew                                                       3000 non-null   object \n",
      " 20  revenue                                                    3000 non-null   int64  \n",
      " 21  release_year                                               3000 non-null   int64  \n",
      " 22  release_month                                              3000 non-null   int64  \n",
      " 23  genres                                                     3000 non-null   object \n",
      " 24  Comedy                                                     3000 non-null   int64  \n",
      " 25  Drama                                                      3000 non-null   int64  \n",
      " 26  Family                                                     3000 non-null   int64  \n",
      " 27  Romance                                                    3000 non-null   int64  \n",
      " 28  Thriller                                                   3000 non-null   int64  \n",
      " 29  Action                                                     3000 non-null   int64  \n",
      " 30  Animation                                                  3000 non-null   int64  \n",
      " 31  Adventure                                                  3000 non-null   int64  \n",
      " 32  Horror                                                     3000 non-null   int64  \n",
      " 33  Documentary                                                3000 non-null   int64  \n",
      " 34  Music                                                      3000 non-null   int64  \n",
      " 35  Crime                                                      3000 non-null   int64  \n",
      " 36  Science Fiction                                            3000 non-null   int64  \n",
      " 37  Mystery                                                    3000 non-null   int64  \n",
      " 38  Foreign                                                    3000 non-null   int64  \n",
      " 39  Fantasy                                                    3000 non-null   int64  \n",
      " 40  War                                                        3000 non-null   int64  \n",
      " 41  Western                                                    3000 non-null   int64  \n",
      " 42  History                                                    3000 non-null   int64  \n",
      " 43  num_companies                                              3000 non-null   int64  \n",
      " 44  production_company_Warner Bros.                            3000 non-null   int64  \n",
      " 45  production_company_Universal Pictures                      3000 non-null   int64  \n",
      " 46  production_company_Paramount Pictures                      3000 non-null   int64  \n",
      " 47  production_company_Twentieth Century Fox Film Corporation  3000 non-null   int64  \n",
      " 48  production_company_Columbia Pictures                       3000 non-null   int64  \n",
      " 49  production_company_Metro-Goldwyn-Mayer (MGM)               3000 non-null   int64  \n",
      " 50  production_company_New Line Cinema                         3000 non-null   int64  \n",
      " 51  production_company_Touchstone Pictures                     3000 non-null   int64  \n",
      " 52  production_company_Walt Disney Pictures                    3000 non-null   int64  \n",
      " 53  production_company_Columbia Pictures Corporation           3000 non-null   int64  \n",
      " 54  production_company_TriStar Pictures                        3000 non-null   int64  \n",
      " 55  production_company_Relativity Media                        3000 non-null   int64  \n",
      " 56  production_company_Canal+                                  3000 non-null   int64  \n",
      " 57  production_company_United Artists                          3000 non-null   int64  \n",
      " 58  production_company_Miramax Films                           3000 non-null   int64  \n",
      " 59  production_company_Village Roadshow Pictures               3000 non-null   int64  \n",
      " 60  production_company_Regency Enterprises                     3000 non-null   int64  \n",
      " 61  production_company_BBC Films                               3000 non-null   int64  \n",
      " 62  production_company_Dune Entertainment                      3000 non-null   int64  \n",
      " 63  production_company_Working Title Films                     3000 non-null   int64  \n",
      " 64  production_company_Fox Searchlight Pictures                3000 non-null   int64  \n",
      " 65  production_company_StudioCanal                             3000 non-null   int64  \n",
      " 66  production_company_Lionsgate                               3000 non-null   int64  \n",
      " 67  production_company_DreamWorks SKG                          3000 non-null   int64  \n",
      " 68  production_company_Fox 2000 Pictures                       3000 non-null   int64  \n",
      " 69  production_company_Summit Entertainment                    3000 non-null   int64  \n",
      " 70  production_company_Hollywood Pictures                      3000 non-null   int64  \n",
      " 71  production_company_Orion Pictures                          3000 non-null   int64  \n",
      " 72  production_company_Amblin Entertainment                    3000 non-null   int64  \n",
      " 73  production_company_Dimension Films                         3000 non-null   int64  \n",
      "dtypes: float64(2), int32(1), int64(55), object(16)\n",
      "memory usage: 1.7+ MB\n"
     ]
    }
   ],
   "source": [
    "train['num_companies'] = train['production_companies'].apply(lambda x: len(x) if x != {} else 0)\n",
    "train['all_production_companies'] = train['production_companies'].apply(lambda x: ' '.join(sorted([i['name'] for i in x])) if x != {} else '')\n",
    "top_companies = [m[0] for m in Counter([i for j in list_of_companies for i in j]).most_common(30)]\n",
    "for g in top_companies:\n",
    "    train['production_company_' + g] = train['all_production_companies'].apply(lambda x: 1 if g in x else 0)\n",
    "    \n",
    "test['num_companies'] = test['production_companies'].apply(lambda x: len(x) if x != {} else 0)\n",
    "test['all_production_companies'] = test['production_companies'].apply(lambda x: ' '.join(sorted([i['name'] for i in x])) if x != {} else '')\n",
    "for g in top_companies:\n",
    "    test['production_company_' + g] = test['all_production_companies'].apply(lambda x: 1 if g in x else 0)\n",
    "\n",
    "train = train.drop(['production_companies', 'all_production_companies'], axis=1)\n",
    "test = test.drop(['production_companies', 'all_production_companies'], axis=1)\n",
    "train.info()"
   ]
  },
  {
   "cell_type": "markdown",
   "metadata": {
    "papermill": {
     "duration": 0.072216,
     "end_time": "2020-11-08T15:25:16.812416",
     "exception": false,
     "start_time": "2020-11-08T15:25:16.740200",
     "status": "completed"
    },
    "tags": []
   },
   "source": [
    "**Cast**"
   ]
  },
  {
   "cell_type": "code",
   "execution_count": 27,
   "metadata": {
    "execution": {
     "iopub.execute_input": "2020-11-08T15:25:17.020077Z",
     "iopub.status.busy": "2020-11-08T15:25:16.986167Z",
     "iopub.status.idle": "2020-11-08T15:25:17.024758Z",
     "shell.execute_reply": "2020-11-08T15:25:17.024119Z"
    },
    "papermill": {
     "duration": 0.14036,
     "end_time": "2020-11-08T15:25:17.024883",
     "exception": false,
     "start_time": "2020-11-08T15:25:16.884523",
     "status": "completed"
    },
    "tags": []
   },
   "outputs": [
    {
     "data": {
      "text/plain": [
       "[('Samuel L. Jackson', 30),\n",
       " ('Robert De Niro', 30),\n",
       " ('Morgan Freeman', 27),\n",
       " ('J.K. Simmons', 25),\n",
       " ('Bruce Willis', 25),\n",
       " ('Liam Neeson', 25),\n",
       " ('Susan Sarandon', 25),\n",
       " ('Bruce McGill', 24),\n",
       " ('John Turturro', 24),\n",
       " ('Forest Whitaker', 23),\n",
       " ('Willem Dafoe', 23),\n",
       " ('Bill Murray', 22),\n",
       " ('Owen Wilson', 22),\n",
       " ('Nicolas Cage', 22),\n",
       " ('Sylvester Stallone', 21),\n",
       " ('Jason Statham', 21),\n",
       " ('Keith David', 21),\n",
       " ('John Goodman', 21),\n",
       " ('Mel Gibson', 21),\n",
       " ('Sigourney Weaver', 21)]"
      ]
     },
     "execution_count": 27,
     "metadata": {},
     "output_type": "execute_result"
    }
   ],
   "source": [
    "list_of_cast_names = list(train['cast'].apply(lambda x: [i['name'] for i in x] if x != {} else []).values)\n",
    "Counter([i for j in list_of_cast_names for i in j]).most_common(20)"
   ]
  },
  {
   "cell_type": "code",
   "execution_count": 28,
   "metadata": {
    "execution": {
     "iopub.execute_input": "2020-11-08T15:25:17.217236Z",
     "iopub.status.busy": "2020-11-08T15:25:17.203176Z",
     "iopub.status.idle": "2020-11-08T15:25:24.265137Z",
     "shell.execute_reply": "2020-11-08T15:25:24.264491Z"
    },
    "papermill": {
     "duration": 7.16824,
     "end_time": "2020-11-08T15:25:24.265278",
     "exception": false,
     "start_time": "2020-11-08T15:25:17.097038",
     "status": "completed"
    },
    "tags": []
   },
   "outputs": [],
   "source": [
    "train['num_cast'] = train['cast'].apply(lambda x: len(x) if x != {} else 0)\n",
    "top_cast_names = [m[0] for m in Counter([i for j in list_of_cast_names for i in j]).most_common(15)]\n",
    "for g in top_cast_names:\n",
    "    train['cast_name_' + g] = train['cast'].apply(lambda x: 1 if g in str(x) else 0)\n",
    "    \n",
    "test['num_cast'] = test['cast'].apply(lambda x: len(x) if x != {} else 0)\n",
    "for g in top_cast_names:\n",
    "    test['cast_name_' + g] = test['cast'].apply(lambda x: 1 if g in str(x) else 0)"
   ]
  },
  {
   "cell_type": "markdown",
   "metadata": {
    "papermill": {
     "duration": 0.071816,
     "end_time": "2020-11-08T15:25:24.409624",
     "exception": false,
     "start_time": "2020-11-08T15:25:24.337808",
     "status": "completed"
    },
    "tags": []
   },
   "source": [
    "**Crew**"
   ]
  },
  {
   "cell_type": "code",
   "execution_count": 29,
   "metadata": {
    "execution": {
     "iopub.execute_input": "2020-11-08T15:25:24.562783Z",
     "iopub.status.busy": "2020-11-08T15:25:24.562044Z",
     "iopub.status.idle": "2020-11-08T15:25:24.592456Z",
     "shell.execute_reply": "2020-11-08T15:25:24.593007Z"
    },
    "papermill": {
     "duration": 0.110533,
     "end_time": "2020-11-08T15:25:24.593169",
     "exception": false,
     "start_time": "2020-11-08T15:25:24.482636",
     "status": "completed"
    },
    "tags": []
   },
   "outputs": [
    {
     "data": {
      "text/plain": [
       "[('Ron Howard', 11),\n",
       " ('Clint Eastwood', 11),\n",
       " ('Steven Spielberg', 10),\n",
       " ('Blake Edwards', 9),\n",
       " ('Woody Allen', 9),\n",
       " ('Wes Craven', 8),\n",
       " ('Martin Scorsese', 8),\n",
       " ('Paul W.S. Anderson', 8),\n",
       " ('Alfred Hitchcock', 8),\n",
       " ('Michael Bay', 8),\n",
       " ('Francis Ford Coppola', 8),\n",
       " ('Brian De Palma', 8),\n",
       " ('Steven Soderbergh', 8),\n",
       " ('Joel Schumacher', 7),\n",
       " ('Peter Hyams', 7)]"
      ]
     },
     "execution_count": 29,
     "metadata": {},
     "output_type": "execute_result"
    }
   ],
   "source": [
    "directors = train['crew'].apply(lambda x: [i[\"name\"] for i in x if i['job'] == \"Director\"])\n",
    "Counter([i for j in directors for i in j]).most_common(15)\n"
   ]
  },
  {
   "cell_type": "code",
   "execution_count": 30,
   "metadata": {
    "execution": {
     "iopub.execute_input": "2020-11-08T15:25:24.760400Z",
     "iopub.status.busy": "2020-11-08T15:25:24.759475Z",
     "iopub.status.idle": "2020-11-08T15:25:30.763424Z",
     "shell.execute_reply": "2020-11-08T15:25:30.762118Z"
    },
    "papermill": {
     "duration": 6.097579,
     "end_time": "2020-11-08T15:25:30.763647",
     "exception": false,
     "start_time": "2020-11-08T15:25:24.666068",
     "status": "completed"
    },
    "tags": []
   },
   "outputs": [],
   "source": [
    "train['num_crew'] = train['crew'].apply(lambda x: len(x) if x != {} else 0)\n",
    "top_directors = [m[0] for m in Counter([i for j in directors for i in j]).most_common(15)]\n",
    "for g in top_directors:\n",
    "    train['director_' + g] = train['crew'].apply(lambda x: 1 if g in str(x) else 0)\n",
    "    \n",
    "test['num_crew'] = test['crew'].apply(lambda x: len(x) if x != {} else 0)\n",
    "for g in top_directors:\n",
    "    test['director_' + g] = train['crew'].apply(lambda x: 1 if g in str(x) else 0)\n"
   ]
  },
  {
   "cell_type": "markdown",
   "metadata": {
    "papermill": {
     "duration": 0.073537,
     "end_time": "2020-11-08T15:25:30.912797",
     "exception": false,
     "start_time": "2020-11-08T15:25:30.839260",
     "status": "completed"
    },
    "tags": []
   },
   "source": [
    "**Taking car of the rest:**"
   ]
  },
  {
   "cell_type": "code",
   "execution_count": 31,
   "metadata": {
    "execution": {
     "iopub.execute_input": "2020-11-08T15:25:31.073750Z",
     "iopub.status.busy": "2020-11-08T15:25:31.068624Z",
     "iopub.status.idle": "2020-11-08T15:25:31.081994Z",
     "shell.execute_reply": "2020-11-08T15:25:31.081343Z"
    },
    "papermill": {
     "duration": 0.096061,
     "end_time": "2020-11-08T15:25:31.082139",
     "exception": false,
     "start_time": "2020-11-08T15:25:30.986078",
     "status": "completed"
    },
    "tags": []
   },
   "outputs": [],
   "source": [
    "class FeatureAdder(BaseEstimator,TransformerMixin):\n",
    "    \n",
    "    def fit(self,df,y=None):\n",
    "     return self\n",
    "    \n",
    "    def transform(self,df, y=None):\n",
    "      df[\"tagline\"] = df.tagline.isnull() # Only keeping if the movie has a tagline or not\n",
    "      df[\"tagline\"] = df.tagline.astype(\"int32\")\n",
    "      df[\"homepage\"] = df.homepage.isnull() # Don't care about the address but lets check if movies with a homepage has a higher revenue(or lower).\n",
    "      df[\"homepage\"] = df.homepage.astype(\"int32\")\n",
    "      df[\"belongs_to_collection\"] = df.belongs_to_collection.isnull()\n",
    "      df[\"belongs_to_collection\"] = df.belongs_to_collection.astype(\"int32\")\n",
    "      df[\"title_length\"] = df.title.str.len()\n",
    "      df.drop(columns=[\"imdb_id\"], inplace=True)\n",
    "      df.drop(columns=[\"poster_path\"], inplace=True)\n",
    "      df.drop(columns=[\"status\"], inplace=True)\n",
    "      df.drop(columns=[\"overview\"], inplace=True)\n",
    "      df.drop(columns=[\"original_title\"], inplace=True)\n",
    "      df.drop(columns=[\"spoken_languages\"], inplace=True)\n",
    "      df.drop(columns=[\"Keywords\"], inplace=True)\n",
    "      df.drop(columns=[\"production_countries\"], inplace=True)\n",
    "      df.drop(columns=[\"title\"], inplace=True)\n",
    "      df.drop(columns=['crew'], inplace=True)\n",
    "      df.drop(columns=['genres'], inplace=True)\n",
    "      df.drop(columns=['cast'], inplace=True)\n",
    "        \n",
    "      return df"
   ]
  },
  {
   "cell_type": "code",
   "execution_count": 32,
   "metadata": {
    "execution": {
     "iopub.execute_input": "2020-11-08T15:25:31.239603Z",
     "iopub.status.busy": "2020-11-08T15:25:31.238777Z",
     "iopub.status.idle": "2020-11-08T15:25:31.292439Z",
     "shell.execute_reply": "2020-11-08T15:25:31.291762Z"
    },
    "papermill": {
     "duration": 0.135857,
     "end_time": "2020-11-08T15:25:31.292561",
     "exception": false,
     "start_time": "2020-11-08T15:25:31.156704",
     "status": "completed"
    },
    "tags": []
   },
   "outputs": [
    {
     "data": {
      "text/html": [
       "<div>\n",
       "<style scoped>\n",
       "    .dataframe tbody tr th:only-of-type {\n",
       "        vertical-align: middle;\n",
       "    }\n",
       "\n",
       "    .dataframe tbody tr th {\n",
       "        vertical-align: top;\n",
       "    }\n",
       "\n",
       "    .dataframe thead th {\n",
       "        text-align: right;\n",
       "    }\n",
       "</style>\n",
       "<table border=\"1\" class=\"dataframe\">\n",
       "  <thead>\n",
       "    <tr style=\"text-align: right;\">\n",
       "      <th></th>\n",
       "      <th>id</th>\n",
       "      <th>belongs_to_collection</th>\n",
       "      <th>budget</th>\n",
       "      <th>genres</th>\n",
       "      <th>homepage</th>\n",
       "      <th>imdb_id</th>\n",
       "      <th>original_language</th>\n",
       "      <th>original_title</th>\n",
       "      <th>overview</th>\n",
       "      <th>popularity</th>\n",
       "      <th>...</th>\n",
       "      <th>director_Wes Craven</th>\n",
       "      <th>director_Martin Scorsese</th>\n",
       "      <th>director_Paul W.S. Anderson</th>\n",
       "      <th>director_Alfred Hitchcock</th>\n",
       "      <th>director_Michael Bay</th>\n",
       "      <th>director_Francis Ford Coppola</th>\n",
       "      <th>director_Brian De Palma</th>\n",
       "      <th>director_Steven Soderbergh</th>\n",
       "      <th>director_Joel Schumacher</th>\n",
       "      <th>director_Peter Hyams</th>\n",
       "    </tr>\n",
       "  </thead>\n",
       "  <tbody>\n",
       "    <tr>\n",
       "      <th>0</th>\n",
       "      <td>3001</td>\n",
       "      <td>[{'id': 34055, 'name': 'Pokémon Collection', '...</td>\n",
       "      <td>0</td>\n",
       "      <td>[Adventure, Animation, Family, Fantasy]</td>\n",
       "      <td>http://www.pokemon.com/us/movies/movie-pokemon...</td>\n",
       "      <td>tt1226251</td>\n",
       "      <td>21</td>\n",
       "      <td>ディアルガVSパルキアVSダークライ</td>\n",
       "      <td>Ash and friends (this time accompanied by newc...</td>\n",
       "      <td>3.851534</td>\n",
       "      <td>...</td>\n",
       "      <td>0.0</td>\n",
       "      <td>0.0</td>\n",
       "      <td>0.0</td>\n",
       "      <td>0.0</td>\n",
       "      <td>0.0</td>\n",
       "      <td>0.0</td>\n",
       "      <td>0.0</td>\n",
       "      <td>0.0</td>\n",
       "      <td>0.0</td>\n",
       "      <td>0.0</td>\n",
       "    </tr>\n",
       "    <tr>\n",
       "      <th>1</th>\n",
       "      <td>3002</td>\n",
       "      <td>NaN</td>\n",
       "      <td>88000</td>\n",
       "      <td>[Horror, Science Fiction]</td>\n",
       "      <td>NaN</td>\n",
       "      <td>tt0051380</td>\n",
       "      <td>10</td>\n",
       "      <td>Attack of the 50 Foot Woman</td>\n",
       "      <td>When an abused wife grows to giant size becaus...</td>\n",
       "      <td>3.559789</td>\n",
       "      <td>...</td>\n",
       "      <td>0.0</td>\n",
       "      <td>0.0</td>\n",
       "      <td>0.0</td>\n",
       "      <td>0.0</td>\n",
       "      <td>0.0</td>\n",
       "      <td>0.0</td>\n",
       "      <td>0.0</td>\n",
       "      <td>0.0</td>\n",
       "      <td>0.0</td>\n",
       "      <td>0.0</td>\n",
       "    </tr>\n",
       "    <tr>\n",
       "      <th>2</th>\n",
       "      <td>3003</td>\n",
       "      <td>NaN</td>\n",
       "      <td>0</td>\n",
       "      <td>[Comedy, Romance]</td>\n",
       "      <td>NaN</td>\n",
       "      <td>tt0118556</td>\n",
       "      <td>10</td>\n",
       "      <td>Addicted to Love</td>\n",
       "      <td>Good-natured astronomer Sam is devastated when...</td>\n",
       "      <td>8.085194</td>\n",
       "      <td>...</td>\n",
       "      <td>0.0</td>\n",
       "      <td>0.0</td>\n",
       "      <td>0.0</td>\n",
       "      <td>0.0</td>\n",
       "      <td>0.0</td>\n",
       "      <td>0.0</td>\n",
       "      <td>0.0</td>\n",
       "      <td>0.0</td>\n",
       "      <td>0.0</td>\n",
       "      <td>0.0</td>\n",
       "    </tr>\n",
       "    <tr>\n",
       "      <th>3</th>\n",
       "      <td>3004</td>\n",
       "      <td>NaN</td>\n",
       "      <td>6800000</td>\n",
       "      <td>[Drama, War, Mystery]</td>\n",
       "      <td>http://www.sonyclassics.com/incendies/</td>\n",
       "      <td>tt1255953</td>\n",
       "      <td>14</td>\n",
       "      <td>Incendies</td>\n",
       "      <td>A mother's last wishes send twins Jeanne and S...</td>\n",
       "      <td>8.596012</td>\n",
       "      <td>...</td>\n",
       "      <td>0.0</td>\n",
       "      <td>0.0</td>\n",
       "      <td>0.0</td>\n",
       "      <td>0.0</td>\n",
       "      <td>0.0</td>\n",
       "      <td>0.0</td>\n",
       "      <td>0.0</td>\n",
       "      <td>0.0</td>\n",
       "      <td>0.0</td>\n",
       "      <td>0.0</td>\n",
       "    </tr>\n",
       "    <tr>\n",
       "      <th>4</th>\n",
       "      <td>3005</td>\n",
       "      <td>NaN</td>\n",
       "      <td>2000000</td>\n",
       "      <td>[History, Documentary]</td>\n",
       "      <td>NaN</td>\n",
       "      <td>tt0418753</td>\n",
       "      <td>10</td>\n",
       "      <td>Inside Deep Throat</td>\n",
       "      <td>In 1972, a seemingly typical shoestring budget...</td>\n",
       "      <td>3.217680</td>\n",
       "      <td>...</td>\n",
       "      <td>0.0</td>\n",
       "      <td>0.0</td>\n",
       "      <td>0.0</td>\n",
       "      <td>0.0</td>\n",
       "      <td>0.0</td>\n",
       "      <td>0.0</td>\n",
       "      <td>0.0</td>\n",
       "      <td>0.0</td>\n",
       "      <td>0.0</td>\n",
       "      <td>0.0</td>\n",
       "    </tr>\n",
       "    <tr>\n",
       "      <th>...</th>\n",
       "      <td>...</td>\n",
       "      <td>...</td>\n",
       "      <td>...</td>\n",
       "      <td>...</td>\n",
       "      <td>...</td>\n",
       "      <td>...</td>\n",
       "      <td>...</td>\n",
       "      <td>...</td>\n",
       "      <td>...</td>\n",
       "      <td>...</td>\n",
       "      <td>...</td>\n",
       "      <td>...</td>\n",
       "      <td>...</td>\n",
       "      <td>...</td>\n",
       "      <td>...</td>\n",
       "      <td>...</td>\n",
       "      <td>...</td>\n",
       "      <td>...</td>\n",
       "      <td>...</td>\n",
       "      <td>...</td>\n",
       "      <td>...</td>\n",
       "    </tr>\n",
       "    <tr>\n",
       "      <th>4393</th>\n",
       "      <td>7394</td>\n",
       "      <td>NaN</td>\n",
       "      <td>42000000</td>\n",
       "      <td>[Thriller]</td>\n",
       "      <td>NaN</td>\n",
       "      <td>tt0218922</td>\n",
       "      <td>10</td>\n",
       "      <td>Original Sin</td>\n",
       "      <td>A young man is plunged into a life of subterfu...</td>\n",
       "      <td>9.970359</td>\n",
       "      <td>...</td>\n",
       "      <td>NaN</td>\n",
       "      <td>NaN</td>\n",
       "      <td>NaN</td>\n",
       "      <td>NaN</td>\n",
       "      <td>NaN</td>\n",
       "      <td>NaN</td>\n",
       "      <td>NaN</td>\n",
       "      <td>NaN</td>\n",
       "      <td>NaN</td>\n",
       "      <td>NaN</td>\n",
       "    </tr>\n",
       "    <tr>\n",
       "      <th>4394</th>\n",
       "      <td>7395</td>\n",
       "      <td>[{'id': 146534, 'name': 'Without a Paddle Coll...</td>\n",
       "      <td>19000000</td>\n",
       "      <td>[Action, Adventure, Comedy, Thriller]</td>\n",
       "      <td>NaN</td>\n",
       "      <td>tt0364751</td>\n",
       "      <td>10</td>\n",
       "      <td>Without a Paddle</td>\n",
       "      <td>Three friends, whose lives have been drifting ...</td>\n",
       "      <td>6.046516</td>\n",
       "      <td>...</td>\n",
       "      <td>NaN</td>\n",
       "      <td>NaN</td>\n",
       "      <td>NaN</td>\n",
       "      <td>NaN</td>\n",
       "      <td>NaN</td>\n",
       "      <td>NaN</td>\n",
       "      <td>NaN</td>\n",
       "      <td>NaN</td>\n",
       "      <td>NaN</td>\n",
       "      <td>NaN</td>\n",
       "    </tr>\n",
       "    <tr>\n",
       "      <th>4395</th>\n",
       "      <td>7396</td>\n",
       "      <td>NaN</td>\n",
       "      <td>16000000</td>\n",
       "      <td>[Drama]</td>\n",
       "      <td>NaN</td>\n",
       "      <td>tt0084855</td>\n",
       "      <td>10</td>\n",
       "      <td>The Verdict</td>\n",
       "      <td>Frank Galvin is a down-on-his luck lawyer, red...</td>\n",
       "      <td>9.596883</td>\n",
       "      <td>...</td>\n",
       "      <td>NaN</td>\n",
       "      <td>NaN</td>\n",
       "      <td>NaN</td>\n",
       "      <td>NaN</td>\n",
       "      <td>NaN</td>\n",
       "      <td>NaN</td>\n",
       "      <td>NaN</td>\n",
       "      <td>NaN</td>\n",
       "      <td>NaN</td>\n",
       "      <td>NaN</td>\n",
       "    </tr>\n",
       "    <tr>\n",
       "      <th>4396</th>\n",
       "      <td>7397</td>\n",
       "      <td>NaN</td>\n",
       "      <td>2000000</td>\n",
       "      <td>[Horror, Thriller]</td>\n",
       "      <td>NaN</td>\n",
       "      <td>tt3235888</td>\n",
       "      <td>10</td>\n",
       "      <td>It Follows</td>\n",
       "      <td>For 19-year-old Jay, fall should be about scho...</td>\n",
       "      <td>20.359336</td>\n",
       "      <td>...</td>\n",
       "      <td>NaN</td>\n",
       "      <td>NaN</td>\n",
       "      <td>NaN</td>\n",
       "      <td>NaN</td>\n",
       "      <td>NaN</td>\n",
       "      <td>NaN</td>\n",
       "      <td>NaN</td>\n",
       "      <td>NaN</td>\n",
       "      <td>NaN</td>\n",
       "      <td>NaN</td>\n",
       "    </tr>\n",
       "    <tr>\n",
       "      <th>4397</th>\n",
       "      <td>7398</td>\n",
       "      <td>NaN</td>\n",
       "      <td>64000</td>\n",
       "      <td>[Drama]</td>\n",
       "      <td>NaN</td>\n",
       "      <td>tt0056663</td>\n",
       "      <td>14</td>\n",
       "      <td>Vivre sa vie: film en douze tableaux</td>\n",
       "      <td>Twelve episodic tales in the life of a Parisia...</td>\n",
       "      <td>11.305910</td>\n",
       "      <td>...</td>\n",
       "      <td>NaN</td>\n",
       "      <td>NaN</td>\n",
       "      <td>NaN</td>\n",
       "      <td>NaN</td>\n",
       "      <td>NaN</td>\n",
       "      <td>NaN</td>\n",
       "      <td>NaN</td>\n",
       "      <td>NaN</td>\n",
       "      <td>NaN</td>\n",
       "      <td>NaN</td>\n",
       "    </tr>\n",
       "  </tbody>\n",
       "</table>\n",
       "<p>4398 rows × 105 columns</p>\n",
       "</div>"
      ],
      "text/plain": [
       "        id                              belongs_to_collection    budget  \\\n",
       "0     3001  [{'id': 34055, 'name': 'Pokémon Collection', '...         0   \n",
       "1     3002                                                NaN     88000   \n",
       "2     3003                                                NaN         0   \n",
       "3     3004                                                NaN   6800000   \n",
       "4     3005                                                NaN   2000000   \n",
       "...    ...                                                ...       ...   \n",
       "4393  7394                                                NaN  42000000   \n",
       "4394  7395  [{'id': 146534, 'name': 'Without a Paddle Coll...  19000000   \n",
       "4395  7396                                                NaN  16000000   \n",
       "4396  7397                                                NaN   2000000   \n",
       "4397  7398                                                NaN     64000   \n",
       "\n",
       "                                       genres  \\\n",
       "0     [Adventure, Animation, Family, Fantasy]   \n",
       "1                   [Horror, Science Fiction]   \n",
       "2                           [Comedy, Romance]   \n",
       "3                       [Drama, War, Mystery]   \n",
       "4                      [History, Documentary]   \n",
       "...                                       ...   \n",
       "4393                               [Thriller]   \n",
       "4394    [Action, Adventure, Comedy, Thriller]   \n",
       "4395                                  [Drama]   \n",
       "4396                       [Horror, Thriller]   \n",
       "4397                                  [Drama]   \n",
       "\n",
       "                                               homepage    imdb_id  \\\n",
       "0     http://www.pokemon.com/us/movies/movie-pokemon...  tt1226251   \n",
       "1                                                   NaN  tt0051380   \n",
       "2                                                   NaN  tt0118556   \n",
       "3                http://www.sonyclassics.com/incendies/  tt1255953   \n",
       "4                                                   NaN  tt0418753   \n",
       "...                                                 ...        ...   \n",
       "4393                                                NaN  tt0218922   \n",
       "4394                                                NaN  tt0364751   \n",
       "4395                                                NaN  tt0084855   \n",
       "4396                                                NaN  tt3235888   \n",
       "4397                                                NaN  tt0056663   \n",
       "\n",
       "      original_language                        original_title  \\\n",
       "0                    21                    ディアルガVSパルキアVSダークライ   \n",
       "1                    10           Attack of the 50 Foot Woman   \n",
       "2                    10                      Addicted to Love   \n",
       "3                    14                             Incendies   \n",
       "4                    10                    Inside Deep Throat   \n",
       "...                 ...                                   ...   \n",
       "4393                 10                          Original Sin   \n",
       "4394                 10                      Without a Paddle   \n",
       "4395                 10                           The Verdict   \n",
       "4396                 10                            It Follows   \n",
       "4397                 14  Vivre sa vie: film en douze tableaux   \n",
       "\n",
       "                                               overview  popularity  ...  \\\n",
       "0     Ash and friends (this time accompanied by newc...    3.851534  ...   \n",
       "1     When an abused wife grows to giant size becaus...    3.559789  ...   \n",
       "2     Good-natured astronomer Sam is devastated when...    8.085194  ...   \n",
       "3     A mother's last wishes send twins Jeanne and S...    8.596012  ...   \n",
       "4     In 1972, a seemingly typical shoestring budget...    3.217680  ...   \n",
       "...                                                 ...         ...  ...   \n",
       "4393  A young man is plunged into a life of subterfu...    9.970359  ...   \n",
       "4394  Three friends, whose lives have been drifting ...    6.046516  ...   \n",
       "4395  Frank Galvin is a down-on-his luck lawyer, red...    9.596883  ...   \n",
       "4396  For 19-year-old Jay, fall should be about scho...   20.359336  ...   \n",
       "4397  Twelve episodic tales in the life of a Parisia...   11.305910  ...   \n",
       "\n",
       "     director_Wes Craven director_Martin Scorsese  \\\n",
       "0                    0.0                      0.0   \n",
       "1                    0.0                      0.0   \n",
       "2                    0.0                      0.0   \n",
       "3                    0.0                      0.0   \n",
       "4                    0.0                      0.0   \n",
       "...                  ...                      ...   \n",
       "4393                 NaN                      NaN   \n",
       "4394                 NaN                      NaN   \n",
       "4395                 NaN                      NaN   \n",
       "4396                 NaN                      NaN   \n",
       "4397                 NaN                      NaN   \n",
       "\n",
       "      director_Paul W.S. Anderson director_Alfred Hitchcock  \\\n",
       "0                             0.0                       0.0   \n",
       "1                             0.0                       0.0   \n",
       "2                             0.0                       0.0   \n",
       "3                             0.0                       0.0   \n",
       "4                             0.0                       0.0   \n",
       "...                           ...                       ...   \n",
       "4393                          NaN                       NaN   \n",
       "4394                          NaN                       NaN   \n",
       "4395                          NaN                       NaN   \n",
       "4396                          NaN                       NaN   \n",
       "4397                          NaN                       NaN   \n",
       "\n",
       "     director_Michael Bay director_Francis Ford Coppola  \\\n",
       "0                     0.0                           0.0   \n",
       "1                     0.0                           0.0   \n",
       "2                     0.0                           0.0   \n",
       "3                     0.0                           0.0   \n",
       "4                     0.0                           0.0   \n",
       "...                   ...                           ...   \n",
       "4393                  NaN                           NaN   \n",
       "4394                  NaN                           NaN   \n",
       "4395                  NaN                           NaN   \n",
       "4396                  NaN                           NaN   \n",
       "4397                  NaN                           NaN   \n",
       "\n",
       "     director_Brian De Palma director_Steven Soderbergh  \\\n",
       "0                        0.0                        0.0   \n",
       "1                        0.0                        0.0   \n",
       "2                        0.0                        0.0   \n",
       "3                        0.0                        0.0   \n",
       "4                        0.0                        0.0   \n",
       "...                      ...                        ...   \n",
       "4393                     NaN                        NaN   \n",
       "4394                     NaN                        NaN   \n",
       "4395                     NaN                        NaN   \n",
       "4396                     NaN                        NaN   \n",
       "4397                     NaN                        NaN   \n",
       "\n",
       "     director_Joel Schumacher director_Peter Hyams  \n",
       "0                         0.0                  0.0  \n",
       "1                         0.0                  0.0  \n",
       "2                         0.0                  0.0  \n",
       "3                         0.0                  0.0  \n",
       "4                         0.0                  0.0  \n",
       "...                       ...                  ...  \n",
       "4393                      NaN                  NaN  \n",
       "4394                      NaN                  NaN  \n",
       "4395                      NaN                  NaN  \n",
       "4396                      NaN                  NaN  \n",
       "4397                      NaN                  NaN  \n",
       "\n",
       "[4398 rows x 105 columns]"
      ]
     },
     "execution_count": 32,
     "metadata": {},
     "output_type": "execute_result"
    }
   ],
   "source": [
    "test"
   ]
  },
  {
   "cell_type": "code",
   "execution_count": 33,
   "metadata": {
    "execution": {
     "iopub.execute_input": "2020-11-08T15:25:31.452951Z",
     "iopub.status.busy": "2020-11-08T15:25:31.451691Z",
     "iopub.status.idle": "2020-11-08T15:25:31.604578Z",
     "shell.execute_reply": "2020-11-08T15:25:31.603759Z"
    },
    "papermill": {
     "duration": 0.236364,
     "end_time": "2020-11-08T15:25:31.604704",
     "exception": false,
     "start_time": "2020-11-08T15:25:31.368340",
     "status": "completed"
    },
    "tags": []
   },
   "outputs": [],
   "source": [
    "test = test.drop(\"id\", axis=1)\n",
    "\n",
    "train = FeatureAdder().fit_transform(train)\n",
    "test = FeatureAdder().transform(test)\n"
   ]
  },
  {
   "cell_type": "code",
   "execution_count": 34,
   "metadata": {
    "execution": {
     "iopub.execute_input": "2020-11-08T15:25:31.763454Z",
     "iopub.status.busy": "2020-11-08T15:25:31.762513Z",
     "iopub.status.idle": "2020-11-08T15:25:31.766261Z",
     "shell.execute_reply": "2020-11-08T15:25:31.765501Z"
    },
    "papermill": {
     "duration": 0.085376,
     "end_time": "2020-11-08T15:25:31.766405",
     "exception": false,
     "start_time": "2020-11-08T15:25:31.681029",
     "status": "completed"
    },
    "tags": []
   },
   "outputs": [],
   "source": [
    "# What have we done example:\n",
    "\n",
    "# train[[\"release_year\", \"release_month\"]].describe()"
   ]
  },
  {
   "cell_type": "code",
   "execution_count": 35,
   "metadata": {
    "execution": {
     "iopub.execute_input": "2020-11-08T15:25:31.922603Z",
     "iopub.status.busy": "2020-11-08T15:25:31.921818Z",
     "iopub.status.idle": "2020-11-08T15:25:31.984125Z",
     "shell.execute_reply": "2020-11-08T15:25:31.983264Z"
    },
    "papermill": {
     "duration": 0.142825,
     "end_time": "2020-11-08T15:25:31.984263",
     "exception": false,
     "start_time": "2020-11-08T15:25:31.841438",
     "status": "completed"
    },
    "tags": []
   },
   "outputs": [
    {
     "data": {
      "text/plain": [
       "revenue                  1.000000\n",
       "budget                   0.752965\n",
       "popularity               0.461460\n",
       "num_crew                 0.372110\n",
       "num_cast                 0.335737\n",
       "                           ...   \n",
       "original_language       -0.090763\n",
       "Drama                   -0.158280\n",
       "tagline                 -0.180366\n",
       "homepage                -0.263179\n",
       "belongs_to_collection   -0.339425\n",
       "Name: revenue, Length: 94, dtype: float64"
      ]
     },
     "execution_count": 35,
     "metadata": {},
     "output_type": "execute_result"
    }
   ],
   "source": [
    "# checking how the train data correlates to label(revenue)\n",
    "\n",
    "corr_matrix = train.corr()\n",
    "corr_matrix[\"revenue\"].sort_values(ascending=False)\n"
   ]
  },
  {
   "cell_type": "code",
   "execution_count": 36,
   "metadata": {
    "execution": {
     "iopub.execute_input": "2020-11-08T15:25:32.147438Z",
     "iopub.status.busy": "2020-11-08T15:25:32.146534Z",
     "iopub.status.idle": "2020-11-08T15:25:32.150085Z",
     "shell.execute_reply": "2020-11-08T15:25:32.149314Z"
    },
    "papermill": {
     "duration": 0.08963,
     "end_time": "2020-11-08T15:25:32.150215",
     "exception": false,
     "start_time": "2020-11-08T15:25:32.060585",
     "status": "completed"
    },
    "tags": []
   },
   "outputs": [],
   "source": [
    "# removing Label(revenue) and id before scaling\n",
    "\n",
    "train_backup = train \n",
    "labels = train[\"revenue\"].copy() \n",
    "X=train.drop(['id', 'revenue'], axis=1)\n",
    "\n",
    "\n",
    "y = np.log1p(train['revenue'])\n",
    "\n"
   ]
  },
  {
   "cell_type": "code",
   "execution_count": 37,
   "metadata": {
    "execution": {
     "iopub.execute_input": "2020-11-08T15:25:32.312620Z",
     "iopub.status.busy": "2020-11-08T15:25:32.311721Z",
     "iopub.status.idle": "2020-11-08T15:25:32.354881Z",
     "shell.execute_reply": "2020-11-08T15:25:32.354280Z"
    },
    "papermill": {
     "duration": 0.129082,
     "end_time": "2020-11-08T15:25:32.355030",
     "exception": false,
     "start_time": "2020-11-08T15:25:32.225948",
     "status": "completed"
    },
    "tags": []
   },
   "outputs": [],
   "source": [
    "# pipeline for scaling and imputing\n",
    "\n",
    "pipeline = Pipeline([\n",
    "    (\"std_scaler\", StandardScaler()),\n",
    "    (\"imputer\", SimpleImputer(strategy=\"median\")),\n",
    "])\n",
    "\n",
    "prepared = pipeline.fit_transform(X)\n",
    "\n",
    "X_train, X_valid, y_train, y_valid = train_test_split(X, y, test_size=0.2)"
   ]
  },
  {
   "cell_type": "code",
   "execution_count": 38,
   "metadata": {
    "execution": {
     "iopub.execute_input": "2020-11-08T15:25:32.521604Z",
     "iopub.status.busy": "2020-11-08T15:25:32.520773Z",
     "iopub.status.idle": "2020-11-08T15:25:33.982462Z",
     "shell.execute_reply": "2020-11-08T15:25:33.983195Z"
    },
    "papermill": {
     "duration": 1.552002,
     "end_time": "2020-11-08T15:25:33.983389",
     "exception": false,
     "start_time": "2020-11-08T15:25:32.431387",
     "status": "completed"
    },
    "tags": []
   },
   "outputs": [
    {
     "name": "stdout",
     "output_type": "stream",
     "text": [
      "[LightGBM] [Warning] num_threads is set with n_jobs=-1, nthread=4 will be ignored. Current value: num_threads=-1\n",
      "[LightGBM] [Warning] boosting is set=gbdt, boosting_type=gbdt will be ignored. Current value: boosting=gbdt\n",
      "[LightGBM] [Warning] feature_fraction is set=0.9, colsample_bytree=1.0 will be ignored. Current value: feature_fraction=0.9\n",
      "[LightGBM] [Warning] min_data_in_leaf is set=20, min_child_samples=20 will be ignored. Current value: min_data_in_leaf=20\n",
      "[LightGBM] [Warning] lambda_l1 is set=0.2, reg_alpha=0.0 will be ignored. Current value: lambda_l1=0.2\n",
      "[LightGBM] [Warning] bagging_fraction is set=0.9, subsample=1.0 will be ignored. Current value: bagging_fraction=0.9\n",
      "[LightGBM] [Warning] bagging_freq is set=1, subsample_freq=0 will be ignored. Current value: bagging_freq=1\n",
      "Training until validation scores don't improve for 200 rounds\n",
      "[1000]\ttraining's rmse: 1.58849\tvalid_1's rmse: 1.97207\n",
      "Early stopping, best iteration is:\n",
      "[1338]\ttraining's rmse: 1.49609\tvalid_1's rmse: 1.96318\n"
     ]
    },
    {
     "data": {
      "text/html": [
       "\n",
       "    <style>\n",
       "    table.eli5-weights tr:hover {\n",
       "        filter: brightness(85%);\n",
       "    }\n",
       "</style>\n",
       "\n",
       "\n",
       "\n",
       "    \n",
       "\n",
       "    \n",
       "\n",
       "    \n",
       "\n",
       "    \n",
       "\n",
       "    \n",
       "\n",
       "    \n",
       "\n",
       "\n",
       "    \n",
       "\n",
       "    \n",
       "\n",
       "    \n",
       "\n",
       "    \n",
       "\n",
       "    \n",
       "\n",
       "    \n",
       "\n",
       "\n",
       "    \n",
       "\n",
       "    \n",
       "\n",
       "    \n",
       "\n",
       "    \n",
       "\n",
       "    \n",
       "        <table class=\"eli5-weights eli5-feature-importances\" style=\"border-collapse: collapse; border: none; margin-top: 0em; table-layout: auto;\">\n",
       "    <thead>\n",
       "    <tr style=\"border: none;\">\n",
       "        <th style=\"padding: 0 1em 0 0.5em; text-align: right; border: none;\">Weight</th>\n",
       "        <th style=\"padding: 0 0.5em 0 0.5em; text-align: left; border: none;\">Feature</th>\n",
       "    </tr>\n",
       "    </thead>\n",
       "    <tbody>\n",
       "    \n",
       "        <tr style=\"background-color: hsl(120, 100.00%, 80.00%); border: none;\">\n",
       "            <td style=\"padding: 0 1em 0 0.5em; text-align: right; border: none;\">\n",
       "                0.4542\n",
       "                \n",
       "            </td>\n",
       "            <td style=\"padding: 0 0.5em 0 0.5em; text-align: left; border: none;\">\n",
       "                budget\n",
       "            </td>\n",
       "        </tr>\n",
       "    \n",
       "        <tr style=\"background-color: hsl(120, 100.00%, 89.88%); border: none;\">\n",
       "            <td style=\"padding: 0 1em 0 0.5em; text-align: right; border: none;\">\n",
       "                0.1717\n",
       "                \n",
       "            </td>\n",
       "            <td style=\"padding: 0 0.5em 0 0.5em; text-align: left; border: none;\">\n",
       "                popularity\n",
       "            </td>\n",
       "        </tr>\n",
       "    \n",
       "        <tr style=\"background-color: hsl(120, 100.00%, 93.70%); border: none;\">\n",
       "            <td style=\"padding: 0 1em 0 0.5em; text-align: right; border: none;\">\n",
       "                0.0873\n",
       "                \n",
       "            </td>\n",
       "            <td style=\"padding: 0 0.5em 0 0.5em; text-align: left; border: none;\">\n",
       "                release_year\n",
       "            </td>\n",
       "        </tr>\n",
       "    \n",
       "        <tr style=\"background-color: hsl(120, 100.00%, 95.44%); border: none;\">\n",
       "            <td style=\"padding: 0 1em 0 0.5em; text-align: right; border: none;\">\n",
       "                0.0550\n",
       "                \n",
       "            </td>\n",
       "            <td style=\"padding: 0 0.5em 0 0.5em; text-align: left; border: none;\">\n",
       "                runtime\n",
       "            </td>\n",
       "        </tr>\n",
       "    \n",
       "        <tr style=\"background-color: hsl(120, 100.00%, 96.55%); border: none;\">\n",
       "            <td style=\"padding: 0 1em 0 0.5em; text-align: right; border: none;\">\n",
       "                0.0369\n",
       "                \n",
       "            </td>\n",
       "            <td style=\"padding: 0 0.5em 0 0.5em; text-align: left; border: none;\">\n",
       "                num_crew\n",
       "            </td>\n",
       "        </tr>\n",
       "    \n",
       "        <tr style=\"background-color: hsl(120, 100.00%, 96.94%); border: none;\">\n",
       "            <td style=\"padding: 0 1em 0 0.5em; text-align: right; border: none;\">\n",
       "                0.0311\n",
       "                \n",
       "            </td>\n",
       "            <td style=\"padding: 0 0.5em 0 0.5em; text-align: left; border: none;\">\n",
       "                num_cast\n",
       "            </td>\n",
       "        </tr>\n",
       "    \n",
       "        <tr style=\"background-color: hsl(120, 100.00%, 97.20%); border: none;\">\n",
       "            <td style=\"padding: 0 1em 0 0.5em; text-align: right; border: none;\">\n",
       "                0.0274\n",
       "                \n",
       "            </td>\n",
       "            <td style=\"padding: 0 0.5em 0 0.5em; text-align: left; border: none;\">\n",
       "                title_length\n",
       "            </td>\n",
       "        </tr>\n",
       "    \n",
       "        <tr style=\"background-color: hsl(120, 100.00%, 97.61%); border: none;\">\n",
       "            <td style=\"padding: 0 1em 0 0.5em; text-align: right; border: none;\">\n",
       "                0.0218\n",
       "                \n",
       "            </td>\n",
       "            <td style=\"padding: 0 0.5em 0 0.5em; text-align: left; border: none;\">\n",
       "                original_language\n",
       "            </td>\n",
       "        </tr>\n",
       "    \n",
       "        <tr style=\"background-color: hsl(120, 100.00%, 97.87%); border: none;\">\n",
       "            <td style=\"padding: 0 1em 0 0.5em; text-align: right; border: none;\">\n",
       "                0.0186\n",
       "                \n",
       "            </td>\n",
       "            <td style=\"padding: 0 0.5em 0 0.5em; text-align: left; border: none;\">\n",
       "                release_month\n",
       "            </td>\n",
       "        </tr>\n",
       "    \n",
       "        <tr style=\"background-color: hsl(120, 100.00%, 97.91%); border: none;\">\n",
       "            <td style=\"padding: 0 1em 0 0.5em; text-align: right; border: none;\">\n",
       "                0.0180\n",
       "                \n",
       "            </td>\n",
       "            <td style=\"padding: 0 0.5em 0 0.5em; text-align: left; border: none;\">\n",
       "                belongs_to_collection\n",
       "            </td>\n",
       "        </tr>\n",
       "    \n",
       "        <tr style=\"background-color: hsl(120, 100.00%, 98.60%); border: none;\">\n",
       "            <td style=\"padding: 0 1em 0 0.5em; text-align: right; border: none;\">\n",
       "                0.0102\n",
       "                \n",
       "            </td>\n",
       "            <td style=\"padding: 0 0.5em 0 0.5em; text-align: left; border: none;\">\n",
       "                num_companies\n",
       "            </td>\n",
       "        </tr>\n",
       "    \n",
       "        <tr style=\"background-color: hsl(120, 100.00%, 98.66%); border: none;\">\n",
       "            <td style=\"padding: 0 1em 0 0.5em; text-align: right; border: none;\">\n",
       "                0.0096\n",
       "                \n",
       "            </td>\n",
       "            <td style=\"padding: 0 0.5em 0 0.5em; text-align: left; border: none;\">\n",
       "                tagline\n",
       "            </td>\n",
       "        </tr>\n",
       "    \n",
       "        <tr style=\"background-color: hsl(120, 100.00%, 98.75%); border: none;\">\n",
       "            <td style=\"padding: 0 1em 0 0.5em; text-align: right; border: none;\">\n",
       "                0.0086\n",
       "                \n",
       "            </td>\n",
       "            <td style=\"padding: 0 0.5em 0 0.5em; text-align: left; border: none;\">\n",
       "                Drama\n",
       "            </td>\n",
       "        </tr>\n",
       "    \n",
       "        <tr style=\"background-color: hsl(120, 100.00%, 99.17%); border: none;\">\n",
       "            <td style=\"padding: 0 1em 0 0.5em; text-align: right; border: none;\">\n",
       "                0.0048\n",
       "                \n",
       "            </td>\n",
       "            <td style=\"padding: 0 0.5em 0 0.5em; text-align: left; border: none;\">\n",
       "                homepage\n",
       "            </td>\n",
       "        </tr>\n",
       "    \n",
       "        <tr style=\"background-color: hsl(120, 100.00%, 99.19%); border: none;\">\n",
       "            <td style=\"padding: 0 1em 0 0.5em; text-align: right; border: none;\">\n",
       "                0.0047\n",
       "                \n",
       "            </td>\n",
       "            <td style=\"padding: 0 0.5em 0 0.5em; text-align: left; border: none;\">\n",
       "                Comedy\n",
       "            </td>\n",
       "        </tr>\n",
       "    \n",
       "        <tr style=\"background-color: hsl(120, 100.00%, 99.20%); border: none;\">\n",
       "            <td style=\"padding: 0 1em 0 0.5em; text-align: right; border: none;\">\n",
       "                0.0046\n",
       "                \n",
       "            </td>\n",
       "            <td style=\"padding: 0 0.5em 0 0.5em; text-align: left; border: none;\">\n",
       "                Family\n",
       "            </td>\n",
       "        </tr>\n",
       "    \n",
       "        <tr style=\"background-color: hsl(120, 100.00%, 99.21%); border: none;\">\n",
       "            <td style=\"padding: 0 1em 0 0.5em; text-align: right; border: none;\">\n",
       "                0.0045\n",
       "                \n",
       "            </td>\n",
       "            <td style=\"padding: 0 0.5em 0 0.5em; text-align: left; border: none;\">\n",
       "                Thriller\n",
       "            </td>\n",
       "        </tr>\n",
       "    \n",
       "        <tr style=\"background-color: hsl(120, 100.00%, 99.31%); border: none;\">\n",
       "            <td style=\"padding: 0 1em 0 0.5em; text-align: right; border: none;\">\n",
       "                0.0037\n",
       "                \n",
       "            </td>\n",
       "            <td style=\"padding: 0 0.5em 0 0.5em; text-align: left; border: none;\">\n",
       "                Adventure\n",
       "            </td>\n",
       "        </tr>\n",
       "    \n",
       "        <tr style=\"background-color: hsl(120, 100.00%, 99.43%); border: none;\">\n",
       "            <td style=\"padding: 0 1em 0 0.5em; text-align: right; border: none;\">\n",
       "                0.0028\n",
       "                \n",
       "            </td>\n",
       "            <td style=\"padding: 0 0.5em 0 0.5em; text-align: left; border: none;\">\n",
       "                Crime\n",
       "            </td>\n",
       "        </tr>\n",
       "    \n",
       "        <tr style=\"background-color: hsl(120, 100.00%, 99.51%); border: none;\">\n",
       "            <td style=\"padding: 0 1em 0 0.5em; text-align: right; border: none;\">\n",
       "                0.0022\n",
       "                \n",
       "            </td>\n",
       "            <td style=\"padding: 0 0.5em 0 0.5em; text-align: left; border: none;\">\n",
       "                Action\n",
       "            </td>\n",
       "        </tr>\n",
       "    \n",
       "    \n",
       "        \n",
       "            <tr style=\"background-color: hsl(120, 100.00%, 99.51%); border: none;\">\n",
       "                <td colspan=\"2\" style=\"padding: 0 0.5em 0 0.5em; text-align: center; border: none; white-space: nowrap;\">\n",
       "                    <i>&hellip; 72 more &hellip;</i>\n",
       "                </td>\n",
       "            </tr>\n",
       "        \n",
       "    \n",
       "    </tbody>\n",
       "</table>\n",
       "    \n",
       "\n",
       "    \n",
       "\n",
       "\n",
       "    \n",
       "\n",
       "    \n",
       "\n",
       "    \n",
       "\n",
       "    \n",
       "\n",
       "    \n",
       "\n",
       "    \n",
       "\n",
       "\n",
       "\n"
      ],
      "text/plain": [
       "<IPython.core.display.HTML object>"
      ]
     },
     "execution_count": 38,
     "metadata": {},
     "output_type": "execute_result"
    }
   ],
   "source": [
    "params = {'num_leaves': 30,\n",
    "         'min_data_in_leaf': 20,\n",
    "         'objective': 'regression',\n",
    "         'max_depth': 5,\n",
    "         'learning_rate': 0.01,\n",
    "         \"boosting\": \"gbdt\",\n",
    "         \"feature_fraction\": 0.9,\n",
    "         \"bagging_freq\": 1,\n",
    "         \"bagging_fraction\": 0.9,\n",
    "         \"bagging_seed\": 11,\n",
    "         \"metric\": 'rmse',\n",
    "         \"lambda_l1\": 0.2,\n",
    "         \"verbosity\": -1}\n",
    "\n",
    "lgb_model = lgb.LGBMRegressor(**params, n_estimators = 10000, nthread = 4, n_jobs = -1)\n",
    "lgb_model.fit(X_train, y_train, \n",
    "        eval_set=[(X_train, y_train), (X_valid, y_valid)], eval_metric='rmse',\n",
    "        verbose=1000, early_stopping_rounds=200)\n",
    "\n",
    "eli5.show_weights(lgb_model, feature_filter=lambda x: x != '<BIAS>')\n",
    "\n"
   ]
  },
  {
   "cell_type": "code",
   "execution_count": 39,
   "metadata": {
    "execution": {
     "iopub.execute_input": "2020-11-08T15:25:34.181475Z",
     "iopub.status.busy": "2020-11-08T15:25:34.180683Z",
     "iopub.status.idle": "2020-11-08T15:26:42.547529Z",
     "shell.execute_reply": "2020-11-08T15:26:42.548261Z"
    },
    "papermill": {
     "duration": 68.469317,
     "end_time": "2020-11-08T15:26:42.548460",
     "exception": false,
     "start_time": "2020-11-08T15:25:34.079143",
     "status": "completed"
    },
    "tags": []
   },
   "outputs": [
    {
     "name": "stdout",
     "output_type": "stream",
     "text": [
      "Fitting 3 folds for each of 2 candidates, totalling 6 fits\n"
     ]
    },
    {
     "name": "stderr",
     "output_type": "stream",
     "text": [
      "[Parallel(n_jobs=-1)]: Using backend LokyBackend with 8 concurrent workers.\n",
      "[Parallel(n_jobs=-1)]: Done   3 out of   6 | elapsed:   15.5s remaining:   15.5s\n",
      "[Parallel(n_jobs=-1)]: Done   6 out of   6 | elapsed:   15.9s finished\n"
     ]
    },
    {
     "name": "stdout",
     "output_type": "stream",
     "text": [
      "{'boosting_type': 'gbdt', 'learning_rate': 0.01, 'max_depth': 4, 'min_data_in_leaf': 15, 'num_leaves': 40, 'objective': 'regression', 'random_state': 501, 'reg_alpha': 1, 'reg_lambda': 1.5}\n",
      "0.4527844527356331\n",
      "Fitting 3 folds for each of 1 candidates, totalling 3 fits\n"
     ]
    },
    {
     "name": "stderr",
     "output_type": "stream",
     "text": [
      "[Parallel(n_jobs=1)]: Using backend SequentialBackend with 1 concurrent workers.\n"
     ]
    },
    {
     "name": "stdout",
     "output_type": "stream",
     "text": [
      "[LightGBM] [Warning] num_threads is set with n_jobs=-1, nthread=4 will be ignored. Current value: num_threads=-1\n",
      "[LightGBM] [Warning] boosting is set=gbdt, boosting_type=gbdt will be ignored. Current value: boosting=gbdt\n",
      "[LightGBM] [Warning] feature_fraction is set=0.9, colsample_bytree=1.0 will be ignored. Current value: feature_fraction=0.9\n",
      "[LightGBM] [Warning] min_data_in_leaf is set=15, min_child_samples=20 will be ignored. Current value: min_data_in_leaf=15\n",
      "[LightGBM] [Warning] lambda_l1 is set=0.2, reg_alpha=0.0 will be ignored. Current value: lambda_l1=0.2\n",
      "[LightGBM] [Warning] bagging_fraction is set=0.9, subsample=1.0 will be ignored. Current value: bagging_fraction=0.9\n",
      "[LightGBM] [Warning] bagging_freq is set=1, subsample_freq=0 will be ignored. Current value: bagging_freq=1\n",
      "[LightGBM] [Warning] num_threads is set with n_jobs=-1, nthread=4 will be ignored. Current value: num_threads=-1\n",
      "[LightGBM] [Warning] boosting is set=gbdt, boosting_type=gbdt will be ignored. Current value: boosting=gbdt\n",
      "[LightGBM] [Warning] feature_fraction is set=0.9, colsample_bytree=1.0 will be ignored. Current value: feature_fraction=0.9\n",
      "[LightGBM] [Warning] min_data_in_leaf is set=15, min_child_samples=20 will be ignored. Current value: min_data_in_leaf=15\n",
      "[LightGBM] [Warning] lambda_l1 is set=0.2, reg_alpha=0.0 will be ignored. Current value: lambda_l1=0.2\n",
      "[LightGBM] [Warning] bagging_fraction is set=0.9, subsample=1.0 will be ignored. Current value: bagging_fraction=0.9\n",
      "[LightGBM] [Warning] bagging_freq is set=1, subsample_freq=0 will be ignored. Current value: bagging_freq=1\n"
     ]
    },
    {
     "name": "stderr",
     "output_type": "stream",
     "text": [
      "[Parallel(n_jobs=1)]: Done   3 out of   3 | elapsed:  2.4min finished\n"
     ]
    },
    {
     "name": "stdout",
     "output_type": "stream",
     "text": [
      "[LightGBM] [Warning] num_threads is set with n_jobs=-1, nthread=4 will be ignored. Current value: num_threads=-1\n",
      "[LightGBM] [Warning] boosting is set=gbdt, boosting_type=gbdt will be ignored. Current value: boosting=gbdt\n",
      "[LightGBM] [Warning] feature_fraction is set=0.9, colsample_bytree=1.0 will be ignored. Current value: feature_fraction=0.9\n",
      "[LightGBM] [Warning] min_data_in_leaf is set=15, min_child_samples=20 will be ignored. Current value: min_data_in_leaf=15\n",
      "[LightGBM] [Warning] lambda_l1 is set=0.2, reg_alpha=0.0 will be ignored. Current value: lambda_l1=0.2\n",
      "[LightGBM] [Warning] bagging_fraction is set=0.9, subsample=1.0 will be ignored. Current value: bagging_fraction=0.9\n",
      "[LightGBM] [Warning] bagging_freq is set=1, subsample_freq=0 will be ignored. Current value: bagging_freq=1\n",
      "Best score reached: 0.4511382684456467 with params: {'random_state': 501, 'objective': 'regression', 'num_leaves': 40, 'min_data_in_leaf': 15, 'max_depth': 4, 'learning_rate': 0.01, 'boosting_type': 'gbdt'} \n"
     ]
    }
   ],
   "source": [
    "\n",
    "# Print the best parameters found\n",
    "gridParams = {\n",
    "    \"max_depth\": [4],\n",
    "    \"min_data_in_leaf\": [15],\n",
    "    'learning_rate': [0.01],\n",
    "    'num_leaves': [40],\n",
    "    'boosting_type' : ['gbdt'],\n",
    "    'objective' : ['regression'],\n",
    "    'random_state' : [501], \n",
    "    'reg_alpha' : [1],\n",
    "    'reg_lambda' : [1.4, 1.5]\n",
    "    }\n",
    "\n",
    "grid_search = GridSearchCV(lgb_model, n_jobs=-1, param_grid=gridParams, cv = 3, verbose=5)\n",
    "grid_search.fit(X_train, y_train)\n",
    "print(grid_search.best_params_)\n",
    "print(grid_search.best_score_)\n",
    "\n",
    "\n",
    "Random_Search_Params ={\n",
    "    \"max_depth\": [4],\n",
    "    \"min_data_in_leaf\": [15],\n",
    "    'learning_rate': [0.01],\n",
    "    'num_leaves': [40],\n",
    "    'boosting_type' : ['gbdt'],\n",
    "    'objective' : ['regression'],\n",
    "    'random_state' : [501], \n",
    "    }\n",
    "\n",
    "n_HP_points_to_test = 50\n",
    "\n",
    "random_search = RandomizedSearchCV(\n",
    "    estimator=lgb_model, param_distributions= Random_Search_Params, \n",
    "    n_iter=n_HP_points_to_test,\n",
    "    cv=3,\n",
    "    refit=True,\n",
    "    random_state=314,\n",
    "    verbose=True)\n",
    "\n",
    "random_search.fit(X_train, y_train)\n",
    "print('Best score reached: {} with params: {} '.format(random_search.best_score_, random_search.best_params_))\n",
    "\n",
    "# Using parameters already set above, replace in the best from the random search\n",
    "\n",
    "params['learning_rate'] = random_search.best_params_['learning_rate']\n",
    "params['max_depth'] = random_search.best_params_['max_depth']\n",
    "params['num_leaves'] = random_search.best_params_['num_leaves']"
   ]
  },
  {
   "cell_type": "code",
   "execution_count": 40,
   "metadata": {
    "execution": {
     "iopub.execute_input": "2020-11-08T15:26:42.720588Z",
     "iopub.status.busy": "2020-11-08T15:26:42.719806Z",
     "iopub.status.idle": "2020-11-08T15:26:43.835482Z",
     "shell.execute_reply": "2020-11-08T15:26:43.834725Z"
    },
    "papermill": {
     "duration": 1.202967,
     "end_time": "2020-11-08T15:26:43.835628",
     "exception": false,
     "start_time": "2020-11-08T15:26:42.632661",
     "status": "completed"
    },
    "tags": []
   },
   "outputs": [
    {
     "data": {
      "text/plain": [
       "4398"
      ]
     },
     "execution_count": 40,
     "metadata": {},
     "output_type": "execute_result"
    }
   ],
   "source": [
    "final_model = grid_search.best_estimator_\n",
    "final_predict = final_model.predict(test)\n",
    "len(final_predict)\n"
   ]
  },
  {
   "cell_type": "code",
   "execution_count": 43,
   "metadata": {},
   "outputs": [
    {
     "data": {
      "text/html": [
       "<div>\n",
       "<style scoped>\n",
       "    .dataframe tbody tr th:only-of-type {\n",
       "        vertical-align: middle;\n",
       "    }\n",
       "\n",
       "    .dataframe tbody tr th {\n",
       "        vertical-align: top;\n",
       "    }\n",
       "\n",
       "    .dataframe thead th {\n",
       "        text-align: right;\n",
       "    }\n",
       "</style>\n",
       "<table border=\"1\" class=\"dataframe\">\n",
       "  <thead>\n",
       "    <tr style=\"text-align: right;\">\n",
       "      <th></th>\n",
       "      <th>belongs_to_collection</th>\n",
       "      <th>budget</th>\n",
       "      <th>homepage</th>\n",
       "      <th>original_language</th>\n",
       "      <th>popularity</th>\n",
       "      <th>runtime</th>\n",
       "      <th>tagline</th>\n",
       "      <th>release_year</th>\n",
       "      <th>release_month</th>\n",
       "      <th>Comedy</th>\n",
       "      <th>...</th>\n",
       "      <th>director_Martin Scorsese</th>\n",
       "      <th>director_Paul W.S. Anderson</th>\n",
       "      <th>director_Alfred Hitchcock</th>\n",
       "      <th>director_Michael Bay</th>\n",
       "      <th>director_Francis Ford Coppola</th>\n",
       "      <th>director_Brian De Palma</th>\n",
       "      <th>director_Steven Soderbergh</th>\n",
       "      <th>director_Joel Schumacher</th>\n",
       "      <th>director_Peter Hyams</th>\n",
       "      <th>title_length</th>\n",
       "    </tr>\n",
       "  </thead>\n",
       "  <tbody>\n",
       "    <tr>\n",
       "      <th>count</th>\n",
       "      <td>4398.000000</td>\n",
       "      <td>4.398000e+03</td>\n",
       "      <td>4398.000000</td>\n",
       "      <td>4398.000000</td>\n",
       "      <td>4398.000000</td>\n",
       "      <td>4394.000000</td>\n",
       "      <td>4398.000000</td>\n",
       "      <td>4397.000000</td>\n",
       "      <td>4397.000000</td>\n",
       "      <td>4398.000000</td>\n",
       "      <td>...</td>\n",
       "      <td>3000.000000</td>\n",
       "      <td>3000.000000</td>\n",
       "      <td>3000.000000</td>\n",
       "      <td>3000.000000</td>\n",
       "      <td>3000.00000</td>\n",
       "      <td>3000.000000</td>\n",
       "      <td>3000.000000</td>\n",
       "      <td>3000.000000</td>\n",
       "      <td>3000.000000</td>\n",
       "      <td>4395.000000</td>\n",
       "    </tr>\n",
       "    <tr>\n",
       "      <th>mean</th>\n",
       "      <td>0.800591</td>\n",
       "      <td>2.264929e+07</td>\n",
       "      <td>0.677126</td>\n",
       "      <td>11.454297</td>\n",
       "      <td>8.550230</td>\n",
       "      <td>107.622212</td>\n",
       "      <td>0.196226</td>\n",
       "      <td>1999.675233</td>\n",
       "      <td>6.889015</td>\n",
       "      <td>0.358572</td>\n",
       "      <td>...</td>\n",
       "      <td>0.003667</td>\n",
       "      <td>0.002667</td>\n",
       "      <td>0.002667</td>\n",
       "      <td>0.004333</td>\n",
       "      <td>0.00600</td>\n",
       "      <td>0.002667</td>\n",
       "      <td>0.005000</td>\n",
       "      <td>0.002667</td>\n",
       "      <td>0.003000</td>\n",
       "      <td>15.127873</td>\n",
       "    </tr>\n",
       "    <tr>\n",
       "      <th>std</th>\n",
       "      <td>0.399601</td>\n",
       "      <td>3.689991e+07</td>\n",
       "      <td>0.467628</td>\n",
       "      <td>5.272996</td>\n",
       "      <td>12.209014</td>\n",
       "      <td>21.058290</td>\n",
       "      <td>0.397186</td>\n",
       "      <td>15.288433</td>\n",
       "      <td>3.370233</td>\n",
       "      <td>0.479636</td>\n",
       "      <td>...</td>\n",
       "      <td>0.060452</td>\n",
       "      <td>0.051579</td>\n",
       "      <td>0.051579</td>\n",
       "      <td>0.065696</td>\n",
       "      <td>0.07724</td>\n",
       "      <td>0.051579</td>\n",
       "      <td>0.070545</td>\n",
       "      <td>0.051579</td>\n",
       "      <td>0.054699</td>\n",
       "      <td>8.390288</td>\n",
       "    </tr>\n",
       "    <tr>\n",
       "      <th>min</th>\n",
       "      <td>0.000000</td>\n",
       "      <td>0.000000e+00</td>\n",
       "      <td>0.000000</td>\n",
       "      <td>0.000000</td>\n",
       "      <td>0.000001</td>\n",
       "      <td>0.000000</td>\n",
       "      <td>0.000000</td>\n",
       "      <td>1922.000000</td>\n",
       "      <td>1.000000</td>\n",
       "      <td>0.000000</td>\n",
       "      <td>...</td>\n",
       "      <td>0.000000</td>\n",
       "      <td>0.000000</td>\n",
       "      <td>0.000000</td>\n",
       "      <td>0.000000</td>\n",
       "      <td>0.00000</td>\n",
       "      <td>0.000000</td>\n",
       "      <td>0.000000</td>\n",
       "      <td>0.000000</td>\n",
       "      <td>0.000000</td>\n",
       "      <td>1.000000</td>\n",
       "    </tr>\n",
       "    <tr>\n",
       "      <th>25%</th>\n",
       "      <td>1.000000</td>\n",
       "      <td>0.000000e+00</td>\n",
       "      <td>0.000000</td>\n",
       "      <td>10.000000</td>\n",
       "      <td>3.895186</td>\n",
       "      <td>94.000000</td>\n",
       "      <td>0.000000</td>\n",
       "      <td>1992.000000</td>\n",
       "      <td>4.000000</td>\n",
       "      <td>0.000000</td>\n",
       "      <td>...</td>\n",
       "      <td>0.000000</td>\n",
       "      <td>0.000000</td>\n",
       "      <td>0.000000</td>\n",
       "      <td>0.000000</td>\n",
       "      <td>0.00000</td>\n",
       "      <td>0.000000</td>\n",
       "      <td>0.000000</td>\n",
       "      <td>0.000000</td>\n",
       "      <td>0.000000</td>\n",
       "      <td>9.000000</td>\n",
       "    </tr>\n",
       "    <tr>\n",
       "      <th>50%</th>\n",
       "      <td>1.000000</td>\n",
       "      <td>7.450000e+06</td>\n",
       "      <td>1.000000</td>\n",
       "      <td>10.000000</td>\n",
       "      <td>7.482241</td>\n",
       "      <td>104.000000</td>\n",
       "      <td>0.000000</td>\n",
       "      <td>2004.000000</td>\n",
       "      <td>7.000000</td>\n",
       "      <td>0.000000</td>\n",
       "      <td>...</td>\n",
       "      <td>0.000000</td>\n",
       "      <td>0.000000</td>\n",
       "      <td>0.000000</td>\n",
       "      <td>0.000000</td>\n",
       "      <td>0.00000</td>\n",
       "      <td>0.000000</td>\n",
       "      <td>0.000000</td>\n",
       "      <td>0.000000</td>\n",
       "      <td>0.000000</td>\n",
       "      <td>13.000000</td>\n",
       "    </tr>\n",
       "    <tr>\n",
       "      <th>75%</th>\n",
       "      <td>1.000000</td>\n",
       "      <td>2.800000e+07</td>\n",
       "      <td>1.000000</td>\n",
       "      <td>10.000000</td>\n",
       "      <td>10.938524</td>\n",
       "      <td>118.000000</td>\n",
       "      <td>0.000000</td>\n",
       "      <td>2011.000000</td>\n",
       "      <td>10.000000</td>\n",
       "      <td>1.000000</td>\n",
       "      <td>...</td>\n",
       "      <td>0.000000</td>\n",
       "      <td>0.000000</td>\n",
       "      <td>0.000000</td>\n",
       "      <td>0.000000</td>\n",
       "      <td>0.00000</td>\n",
       "      <td>0.000000</td>\n",
       "      <td>0.000000</td>\n",
       "      <td>0.000000</td>\n",
       "      <td>0.000000</td>\n",
       "      <td>19.000000</td>\n",
       "    </tr>\n",
       "    <tr>\n",
       "      <th>max</th>\n",
       "      <td>1.000000</td>\n",
       "      <td>2.600000e+08</td>\n",
       "      <td>1.000000</td>\n",
       "      <td>43.000000</td>\n",
       "      <td>547.488298</td>\n",
       "      <td>320.000000</td>\n",
       "      <td>1.000000</td>\n",
       "      <td>2018.000000</td>\n",
       "      <td>12.000000</td>\n",
       "      <td>1.000000</td>\n",
       "      <td>...</td>\n",
       "      <td>1.000000</td>\n",
       "      <td>1.000000</td>\n",
       "      <td>1.000000</td>\n",
       "      <td>1.000000</td>\n",
       "      <td>1.00000</td>\n",
       "      <td>1.000000</td>\n",
       "      <td>1.000000</td>\n",
       "      <td>1.000000</td>\n",
       "      <td>1.000000</td>\n",
       "      <td>104.000000</td>\n",
       "    </tr>\n",
       "  </tbody>\n",
       "</table>\n",
       "<p>8 rows × 92 columns</p>\n",
       "</div>"
      ],
      "text/plain": [
       "       belongs_to_collection        budget     homepage  original_language  \\\n",
       "count            4398.000000  4.398000e+03  4398.000000        4398.000000   \n",
       "mean                0.800591  2.264929e+07     0.677126          11.454297   \n",
       "std                 0.399601  3.689991e+07     0.467628           5.272996   \n",
       "min                 0.000000  0.000000e+00     0.000000           0.000000   \n",
       "25%                 1.000000  0.000000e+00     0.000000          10.000000   \n",
       "50%                 1.000000  7.450000e+06     1.000000          10.000000   \n",
       "75%                 1.000000  2.800000e+07     1.000000          10.000000   \n",
       "max                 1.000000  2.600000e+08     1.000000          43.000000   \n",
       "\n",
       "        popularity      runtime      tagline  release_year  release_month  \\\n",
       "count  4398.000000  4394.000000  4398.000000   4397.000000    4397.000000   \n",
       "mean      8.550230   107.622212     0.196226   1999.675233       6.889015   \n",
       "std      12.209014    21.058290     0.397186     15.288433       3.370233   \n",
       "min       0.000001     0.000000     0.000000   1922.000000       1.000000   \n",
       "25%       3.895186    94.000000     0.000000   1992.000000       4.000000   \n",
       "50%       7.482241   104.000000     0.000000   2004.000000       7.000000   \n",
       "75%      10.938524   118.000000     0.000000   2011.000000      10.000000   \n",
       "max     547.488298   320.000000     1.000000   2018.000000      12.000000   \n",
       "\n",
       "            Comedy  ...  director_Martin Scorsese  \\\n",
       "count  4398.000000  ...               3000.000000   \n",
       "mean      0.358572  ...                  0.003667   \n",
       "std       0.479636  ...                  0.060452   \n",
       "min       0.000000  ...                  0.000000   \n",
       "25%       0.000000  ...                  0.000000   \n",
       "50%       0.000000  ...                  0.000000   \n",
       "75%       1.000000  ...                  0.000000   \n",
       "max       1.000000  ...                  1.000000   \n",
       "\n",
       "       director_Paul W.S. Anderson  director_Alfred Hitchcock  \\\n",
       "count                  3000.000000                3000.000000   \n",
       "mean                      0.002667                   0.002667   \n",
       "std                       0.051579                   0.051579   \n",
       "min                       0.000000                   0.000000   \n",
       "25%                       0.000000                   0.000000   \n",
       "50%                       0.000000                   0.000000   \n",
       "75%                       0.000000                   0.000000   \n",
       "max                       1.000000                   1.000000   \n",
       "\n",
       "       director_Michael Bay  director_Francis Ford Coppola  \\\n",
       "count           3000.000000                     3000.00000   \n",
       "mean               0.004333                        0.00600   \n",
       "std                0.065696                        0.07724   \n",
       "min                0.000000                        0.00000   \n",
       "25%                0.000000                        0.00000   \n",
       "50%                0.000000                        0.00000   \n",
       "75%                0.000000                        0.00000   \n",
       "max                1.000000                        1.00000   \n",
       "\n",
       "       director_Brian De Palma  director_Steven Soderbergh  \\\n",
       "count              3000.000000                 3000.000000   \n",
       "mean                  0.002667                    0.005000   \n",
       "std                   0.051579                    0.070545   \n",
       "min                   0.000000                    0.000000   \n",
       "25%                   0.000000                    0.000000   \n",
       "50%                   0.000000                    0.000000   \n",
       "75%                   0.000000                    0.000000   \n",
       "max                   1.000000                    1.000000   \n",
       "\n",
       "       director_Joel Schumacher  director_Peter Hyams  title_length  \n",
       "count               3000.000000           3000.000000   4395.000000  \n",
       "mean                   0.002667              0.003000     15.127873  \n",
       "std                    0.051579              0.054699      8.390288  \n",
       "min                    0.000000              0.000000      1.000000  \n",
       "25%                    0.000000              0.000000      9.000000  \n",
       "50%                    0.000000              0.000000     13.000000  \n",
       "75%                    0.000000              0.000000     19.000000  \n",
       "max                    1.000000              1.000000    104.000000  \n",
       "\n",
       "[8 rows x 92 columns]"
      ]
     },
     "execution_count": 43,
     "metadata": {},
     "output_type": "execute_result"
    }
   ],
   "source": [
    "test.describe()"
   ]
  },
  {
   "cell_type": "code",
   "execution_count": 42,
   "metadata": {
    "execution": {
     "iopub.execute_input": "2020-11-08T15:26:44.032915Z",
     "iopub.status.busy": "2020-11-08T15:26:44.031835Z",
     "iopub.status.idle": "2020-11-08T15:26:44.241016Z",
     "shell.execute_reply": "2020-11-08T15:26:44.240342Z"
    },
    "papermill": {
     "duration": 0.306053,
     "end_time": "2020-11-08T15:26:44.241146",
     "exception": false,
     "start_time": "2020-11-08T15:26:43.935093",
     "status": "completed"
    },
    "tags": []
   },
   "outputs": [],
   "source": [
    "# sample_submission['revenue'] = np.expm1(final_prediction + y_pred)/2\n",
    "sample_submission['revenue'] = np.expm1(final_predict)\n",
    "sample_submission.to_csv('first.csv', index=False)"
   ]
  },
  {
   "cell_type": "code",
   "execution_count": null,
   "metadata": {},
   "outputs": [],
   "source": [
    "from joblib import dump"
   ]
  },
  {
   "cell_type": "code",
   "execution_count": null,
   "metadata": {},
   "outputs": [],
   "source": []
  }
 ],
 "metadata": {
  "kernelspec": {
   "display_name": "Python 3",
   "language": "python",
   "name": "python3"
  },
  "language_info": {
   "codemirror_mode": {
    "name": "ipython",
    "version": 3
   },
   "file_extension": ".py",
   "mimetype": "text/x-python",
   "name": "python",
   "nbconvert_exporter": "python",
   "pygments_lexer": "ipython3",
   "version": "3.8.2"
  },
  "papermill": {
   "duration": 126.919638,
   "end_time": "2020-11-08T15:26:44.446944",
   "environment_variables": {},
   "exception": null,
   "input_path": "__notebook__.ipynb",
   "output_path": "__notebook__.ipynb",
   "parameters": {},
   "start_time": "2020-11-08T15:24:37.527306",
   "version": "2.1.0"
  }
 },
 "nbformat": 4,
 "nbformat_minor": 4
}
