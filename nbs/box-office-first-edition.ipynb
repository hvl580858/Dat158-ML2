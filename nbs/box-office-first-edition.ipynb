{
 "cells": [
  {
   "cell_type": "markdown",
   "metadata": {
    "papermill": {
     "duration": 0.078773,
     "end_time": "2020-11-15T18:26:14.432340",
     "exception": false,
     "start_time": "2020-11-15T18:26:14.353567",
     "status": "completed"
    },
    "tags": []
   },
   "source": [
    "\n",
    "\n",
    "Oblig2 ML Dat158 Playing the whole game (Niklas Johansson, Darren Bernardo, Per-Helge Litzheim, Hassan Ali Abdullahi)\n",
    "\n",
    "During this exercise we will follow the eight steps of Appendix B:\n",
    "\n",
    " 1   Frame the problem and look at the big picture\n",
    " 2   Get the data\n",
    " 3   Explore the data to gain insights\n",
    " 4   Prepare the data\n",
    " 5   Explore many different models and short-list the best ones\n",
    " 6   Fine-tune your models and combine them into a great solution\n",
    " 7   Present your solution\n",
    " 8   Launch, monitor and maintain your system\n",
    "    "
   ]
  },
  {
   "cell_type": "markdown",
   "metadata": {
    "papermill": {
     "duration": 0.077432,
     "end_time": "2020-11-15T18:26:14.587228",
     "exception": false,
     "start_time": "2020-11-15T18:26:14.509796",
     "status": "completed"
    },
    "tags": []
   },
   "source": [
    "**1. Framing the problem**\n"
   ]
  },
  {
   "cell_type": "markdown",
   "metadata": {
    "papermill": {
     "duration": 0.07699,
     "end_time": "2020-11-15T18:26:14.742705",
     "exception": false,
     "start_time": "2020-11-15T18:26:14.665715",
     "status": "completed"
    },
    "tags": []
   },
   "source": [
    "**2. Getting the Data**"
   ]
  },
  {
   "cell_type": "code",
   "execution_count": 4,
   "metadata": {
    "execution": {
     "iopub.execute_input": "2020-11-15T18:26:15.068512Z",
     "iopub.status.busy": "2020-11-15T18:26:15.063467Z",
     "iopub.status.idle": "2020-11-15T18:26:24.156022Z",
     "shell.execute_reply": "2020-11-15T18:26:24.156414Z"
    },
    "papermill": {
     "duration": 9.180864,
     "end_time": "2020-11-15T18:26:24.156555",
     "exception": false,
     "start_time": "2020-11-15T18:26:14.975691",
     "status": "completed"
    },
    "tags": []
   },
   "outputs": [],
   "source": [
    "%matplotlib inline\n",
    "import numpy as np # linear algebra\n",
    "import pandas as pd # data processing, CSV file I/O (e.g. pd.read_csv)\n",
    "import matplotlib.pyplot as plt\n",
    "import seaborn as sns # prettier plotting\n",
    "import lightgbm as lgb\n",
    "import itertools\n",
    "import ast\n",
    "import eli5\n",
    "import time\n",
    "import xgboost as xgb\n",
    "\n",
    "from sklearn.preprocessing import RobustScaler\n",
    "from sklearn.feature_extraction.text import TfidfVectorizer\n",
    "from sklearn.model_selection import train_test_split, KFold\n",
    "from scipy import stats\n",
    "from sklearn.base import BaseEstimator,TransformerMixin,RegressorMixin\n",
    "from sklearn.pipeline import Pipeline\n",
    "from sklearn.preprocessing import OneHotEncoder\n",
    "from sklearn.preprocessing import StandardScaler\n",
    "from sklearn.ensemble import RandomForestRegressor\n",
    "from sklearn.metrics import mean_squared_error\n",
    "from sklearn.model_selection import GridSearchCV, train_test_split, RandomizedSearchCV, GridSearchCV\n",
    "from sklearn.feature_selection import f_regression\n",
    "from sklearn.preprocessing import OrdinalEncoder\n",
    "from sklearn.impute import SimpleImputer\n",
    "from sklearn.tree import DecisionTreeRegressor\n",
    "from collections import Counter\n",
    "from sklearn.decomposition import TruncatedSVD\n",
    "from sklearn.preprocessing import Normalizer\n",
    "from sklearn.pipeline import make_pipeline\n",
    "from sklearn.preprocessing import LabelEncoder, OneHotEncoder\n",
    "from sklearn import model_selection\n",
    "import warnings\n",
    "\n",
    "warnings.filterwarnings(\"ignore\")\n",
    "plt.style.use('fivethirtyeight')\n",
    "\n",
    "\n",
    "import os\n",
    "for dirname, _, filenames in os.walk('/kaggle/input'):\n",
    "    for filename in filenames:\n",
    "        print(os.path.join(dirname, filename))\n",
    "\n",
    "# You can write up to 5GB to the current directory (/kaggle/working/) that gets preserved as output when you create a version using \"Save & Run All\" \n",
    "# You can also write temporary files to /kaggle/temp/, but they won't be saved outside of the current session"
   ]
  },
  {
   "cell_type": "code",
   "execution_count": 5,
   "metadata": {
    "_cell_guid": "79c7e3d0-c299-4dcb-8224-4455121ee9b0",
    "_uuid": "d629ff2d2480ee46fbb7e2d37f6b5fab8052498a",
    "execution": {
     "iopub.execute_input": "2020-11-15T18:26:24.246768Z",
     "iopub.status.busy": "2020-11-15T18:26:24.246062Z",
     "iopub.status.idle": "2020-11-15T18:26:25.200848Z",
     "shell.execute_reply": "2020-11-15T18:26:25.200217Z"
    },
    "papermill": {
     "duration": 1.006334,
     "end_time": "2020-11-15T18:26:25.200953",
     "exception": false,
     "start_time": "2020-11-15T18:26:24.194619",
     "status": "completed"
    },
    "tags": []
   },
   "outputs": [
    {
     "name": "stdout",
     "output_type": "stream",
     "text": [
      "<class 'pandas.core.frame.DataFrame'>\n",
      "RangeIndex: 3000 entries, 0 to 2999\n",
      "Data columns (total 23 columns):\n",
      " #   Column                 Non-Null Count  Dtype  \n",
      "---  ------                 --------------  -----  \n",
      " 0   id                     3000 non-null   int64  \n",
      " 1   belongs_to_collection  604 non-null    object \n",
      " 2   budget                 3000 non-null   int64  \n",
      " 3   genres                 2993 non-null   object \n",
      " 4   homepage               946 non-null    object \n",
      " 5   imdb_id                3000 non-null   object \n",
      " 6   original_language      3000 non-null   object \n",
      " 7   original_title         3000 non-null   object \n",
      " 8   overview               2992 non-null   object \n",
      " 9   popularity             3000 non-null   float64\n",
      " 10  poster_path            2999 non-null   object \n",
      " 11  production_companies   2844 non-null   object \n",
      " 12  production_countries   2945 non-null   object \n",
      " 13  release_date           3000 non-null   object \n",
      " 14  runtime                2998 non-null   float64\n",
      " 15  spoken_languages       2980 non-null   object \n",
      " 16  status                 3000 non-null   object \n",
      " 17  tagline                2403 non-null   object \n",
      " 18  title                  3000 non-null   object \n",
      " 19  Keywords               2724 non-null   object \n",
      " 20  cast                   2987 non-null   object \n",
      " 21  crew                   2984 non-null   object \n",
      " 22  revenue                3000 non-null   float64\n",
      "dtypes: float64(3), int64(2), object(18)\n",
      "memory usage: 539.2+ KB\n"
     ]
    }
   ],
   "source": [
    "#train = pd.read_csv('../input/tmdb-box-office-prediction/train.csv')\n",
    "#test = pd.read_csv('../input/tmdb-box-office-prediction/test.csv')\n",
    "#sample_submission = pd.read_csv('../input/tmdb-box-office-prediction/sample_submission.csv')\n",
    "\n",
    "train = pd.read_csv('DATA/train.csv')\n",
    "test = pd.read_csv('DATA/test.csv')\n",
    "sample_submission = pd.read_csv('DATA/sample_submission.csv')\n",
    "\n",
    "X = train\n",
    "X.revenue = np.log1p(train.revenue) # Metric to use: Root-Mean-Squared-Logarithmic-Error (RMSLE) between the predicted value and the actual revenue. Logs are taken to not overweight blockbuster revenue movies.\n",
    "train.info()"
   ]
  },
  {
   "cell_type": "code",
   "execution_count": 6,
   "metadata": {
    "execution": {
     "iopub.execute_input": "2020-11-15T18:26:25.318856Z",
     "iopub.status.busy": "2020-11-15T18:26:25.318107Z",
     "iopub.status.idle": "2020-11-15T18:26:25.322543Z",
     "shell.execute_reply": "2020-11-15T18:26:25.323095Z"
    },
    "papermill": {
     "duration": 0.068004,
     "end_time": "2020-11-15T18:26:25.323255",
     "exception": false,
     "start_time": "2020-11-15T18:26:25.255251",
     "status": "completed"
    },
    "tags": []
   },
   "outputs": [
    {
     "data": {
      "text/plain": [
       "((3000, 23), (4398, 22))"
      ]
     },
     "execution_count": 6,
     "metadata": {},
     "output_type": "execute_result"
    }
   ],
   "source": [
    "# checking shape of data\n",
    "shape = train.shape\n",
    "train.shape, test.shape\n",
    "\n"
   ]
  },
  {
   "cell_type": "markdown",
   "metadata": {
    "papermill": {
     "duration": 0.054615,
     "end_time": "2020-11-15T18:26:25.542246",
     "exception": false,
     "start_time": "2020-11-15T18:26:25.487631",
     "status": "completed"
    },
    "tags": []
   },
   "source": [
    "\n",
    "**3. Exploring the data**\n",
    "\n",
    "The set has allready been split into a train and a test set. In this case we have 3000 entries in the test set and 4398 in the test set. This is far away from the normal 80/20 split and seems unfortunate when the test set is so small. With 21 columns of data there is a lot to play with so lets see what it contains:\n"
   ]
  },
  {
   "cell_type": "code",
   "execution_count": 7,
   "metadata": {
    "execution": {
     "iopub.execute_input": "2020-11-15T18:26:25.669434Z",
     "iopub.status.busy": "2020-11-15T18:26:25.668761Z",
     "iopub.status.idle": "2020-11-15T18:26:26.073890Z",
     "shell.execute_reply": "2020-11-15T18:26:26.073380Z"
    },
    "papermill": {
     "duration": 0.476416,
     "end_time": "2020-11-15T18:26:26.074012",
     "exception": false,
     "start_time": "2020-11-15T18:26:25.597596",
     "status": "completed"
    },
    "tags": []
   },
   "outputs": [
    {
     "data": {
      "image/png": "[encoded data removed]",
      "text/plain": [
       "<Figure size 1440x576 with 1 Axes>"
      ]
     },
     "metadata": {},
     "output_type": "display_data"
    }
   ],
   "source": [
    "# calculate percentage of missing values\n",
    "pct_nans = round(train.isnull().sum()/shape[0]*100,1).to_frame().sort_values(by=[0], ascending=False)\n",
    "# create a bar chart\n",
    "plt.figure(figsize=(20,8))\n",
    "sns.barplot(x=pct_nans.index, y=pct_nans[0])\n",
    "plt.axhline(10, ls=\"--\")\n",
    "plt.xticks(rotation=90, fontsize=14)\n",
    "plt.title(\"Percentage of missing values\", fontsize=14)\n",
    "plt.ylabel(\"Missing values [%]\", fontsize=14)\n",
    "plt.show()"
   ]
  },
  {
   "cell_type": "code",
   "execution_count": 8,
   "metadata": {
    "execution": {
     "iopub.execute_input": "2020-11-15T18:26:26.200559Z",
     "iopub.status.busy": "2020-11-15T18:26:26.196173Z",
     "iopub.status.idle": "2020-11-15T18:26:26.264157Z",
     "shell.execute_reply": "2020-11-15T18:26:26.263481Z"
    },
    "papermill": {
     "duration": 0.133715,
     "end_time": "2020-11-15T18:26:26.264268",
     "exception": false,
     "start_time": "2020-11-15T18:26:26.130553",
     "status": "completed"
    },
    "tags": []
   },
   "outputs": [
    {
     "data": {
      "text/html": [
       "<div>\n",
       "<style scoped>\n",
       "    .dataframe tbody tr th:only-of-type {\n",
       "        vertical-align: middle;\n",
       "    }\n",
       "\n",
       "    .dataframe tbody tr th {\n",
       "        vertical-align: top;\n",
       "    }\n",
       "\n",
       "    .dataframe thead th {\n",
       "        text-align: right;\n",
       "    }\n",
       "</style>\n",
       "<table border=\"1\" class=\"dataframe\">\n",
       "  <thead>\n",
       "    <tr style=\"text-align: right;\">\n",
       "      <th></th>\n",
       "      <th>id</th>\n",
       "      <th>belongs_to_collection</th>\n",
       "      <th>budget</th>\n",
       "      <th>genres</th>\n",
       "      <th>homepage</th>\n",
       "      <th>imdb_id</th>\n",
       "      <th>original_language</th>\n",
       "      <th>original_title</th>\n",
       "      <th>overview</th>\n",
       "      <th>popularity</th>\n",
       "      <th>...</th>\n",
       "      <th>release_date</th>\n",
       "      <th>runtime</th>\n",
       "      <th>spoken_languages</th>\n",
       "      <th>status</th>\n",
       "      <th>tagline</th>\n",
       "      <th>title</th>\n",
       "      <th>Keywords</th>\n",
       "      <th>cast</th>\n",
       "      <th>crew</th>\n",
       "      <th>revenue</th>\n",
       "    </tr>\n",
       "  </thead>\n",
       "  <tbody>\n",
       "    <tr>\n",
       "      <th>0</th>\n",
       "      <td>1</td>\n",
       "      <td>[{'id': 313576, 'name': 'Hot Tub Time Machine ...</td>\n",
       "      <td>14000000</td>\n",
       "      <td>[{'id': 35, 'name': 'Comedy'}]</td>\n",
       "      <td>NaN</td>\n",
       "      <td>tt2637294</td>\n",
       "      <td>en</td>\n",
       "      <td>Hot Tub Time Machine 2</td>\n",
       "      <td>When Lou, who has become the \"father of the In...</td>\n",
       "      <td>6.575393</td>\n",
       "      <td>...</td>\n",
       "      <td>2/20/15</td>\n",
       "      <td>93.0</td>\n",
       "      <td>[{'iso_639_1': 'en', 'name': 'English'}]</td>\n",
       "      <td>Released</td>\n",
       "      <td>The Laws of Space and Time are About to be Vio...</td>\n",
       "      <td>Hot Tub Time Machine 2</td>\n",
       "      <td>[{'id': 4379, 'name': 'time travel'}, {'id': 9...</td>\n",
       "      <td>[{'cast_id': 4, 'character': 'Lou', 'credit_id...</td>\n",
       "      <td>[{'credit_id': '59ac067c92514107af02c8c8', 'de...</td>\n",
       "      <td>16.326300</td>\n",
       "    </tr>\n",
       "    <tr>\n",
       "      <th>1</th>\n",
       "      <td>2</td>\n",
       "      <td>[{'id': 107674, 'name': 'The Princess Diaries ...</td>\n",
       "      <td>40000000</td>\n",
       "      <td>[{'id': 35, 'name': 'Comedy'}, {'id': 18, 'nam...</td>\n",
       "      <td>NaN</td>\n",
       "      <td>tt0368933</td>\n",
       "      <td>en</td>\n",
       "      <td>The Princess Diaries 2: Royal Engagement</td>\n",
       "      <td>Mia Thermopolis is now a college graduate and ...</td>\n",
       "      <td>8.248895</td>\n",
       "      <td>...</td>\n",
       "      <td>8/6/04</td>\n",
       "      <td>113.0</td>\n",
       "      <td>[{'iso_639_1': 'en', 'name': 'English'}]</td>\n",
       "      <td>Released</td>\n",
       "      <td>It can take a lifetime to find true love; she'...</td>\n",
       "      <td>The Princess Diaries 2: Royal Engagement</td>\n",
       "      <td>[{'id': 2505, 'name': 'coronation'}, {'id': 42...</td>\n",
       "      <td>[{'cast_id': 1, 'character': 'Mia Thermopolis'...</td>\n",
       "      <td>[{'credit_id': '52fe43fe9251416c7502563d', 'de...</td>\n",
       "      <td>18.370959</td>\n",
       "    </tr>\n",
       "    <tr>\n",
       "      <th>2</th>\n",
       "      <td>3</td>\n",
       "      <td>NaN</td>\n",
       "      <td>3300000</td>\n",
       "      <td>[{'id': 18, 'name': 'Drama'}]</td>\n",
       "      <td>http://sonyclassics.com/whiplash/</td>\n",
       "      <td>tt2582802</td>\n",
       "      <td>en</td>\n",
       "      <td>Whiplash</td>\n",
       "      <td>Under the direction of a ruthless instructor, ...</td>\n",
       "      <td>64.299990</td>\n",
       "      <td>...</td>\n",
       "      <td>10/10/14</td>\n",
       "      <td>105.0</td>\n",
       "      <td>[{'iso_639_1': 'en', 'name': 'English'}]</td>\n",
       "      <td>Released</td>\n",
       "      <td>The road to greatness can take you to the edge.</td>\n",
       "      <td>Whiplash</td>\n",
       "      <td>[{'id': 1416, 'name': 'jazz'}, {'id': 1523, 'n...</td>\n",
       "      <td>[{'cast_id': 5, 'character': 'Andrew Neimann',...</td>\n",
       "      <td>[{'credit_id': '54d5356ec3a3683ba0000039', 'de...</td>\n",
       "      <td>16.387512</td>\n",
       "    </tr>\n",
       "    <tr>\n",
       "      <th>3</th>\n",
       "      <td>4</td>\n",
       "      <td>NaN</td>\n",
       "      <td>1200000</td>\n",
       "      <td>[{'id': 53, 'name': 'Thriller'}, {'id': 18, 'n...</td>\n",
       "      <td>http://kahaanithefilm.com/</td>\n",
       "      <td>tt1821480</td>\n",
       "      <td>hi</td>\n",
       "      <td>Kahaani</td>\n",
       "      <td>Vidya Bagchi (Vidya Balan) arrives in Kolkata ...</td>\n",
       "      <td>3.174936</td>\n",
       "      <td>...</td>\n",
       "      <td>3/9/12</td>\n",
       "      <td>122.0</td>\n",
       "      <td>[{'iso_639_1': 'en', 'name': 'English'}, {'iso...</td>\n",
       "      <td>Released</td>\n",
       "      <td>NaN</td>\n",
       "      <td>Kahaani</td>\n",
       "      <td>[{'id': 10092, 'name': 'mystery'}, {'id': 1054...</td>\n",
       "      <td>[{'cast_id': 1, 'character': 'Vidya Bagchi', '...</td>\n",
       "      <td>[{'credit_id': '52fe48779251416c9108d6eb', 'de...</td>\n",
       "      <td>16.588099</td>\n",
       "    </tr>\n",
       "    <tr>\n",
       "      <th>4</th>\n",
       "      <td>5</td>\n",
       "      <td>NaN</td>\n",
       "      <td>0</td>\n",
       "      <td>[{'id': 28, 'name': 'Action'}, {'id': 53, 'nam...</td>\n",
       "      <td>NaN</td>\n",
       "      <td>tt1380152</td>\n",
       "      <td>ko</td>\n",
       "      <td>마린보이</td>\n",
       "      <td>Marine Boy is the story of a former national s...</td>\n",
       "      <td>1.148070</td>\n",
       "      <td>...</td>\n",
       "      <td>2/5/09</td>\n",
       "      <td>118.0</td>\n",
       "      <td>[{'iso_639_1': 'ko', 'name': '한국어/조선말'}]</td>\n",
       "      <td>Released</td>\n",
       "      <td>NaN</td>\n",
       "      <td>Marine Boy</td>\n",
       "      <td>NaN</td>\n",
       "      <td>[{'cast_id': 3, 'character': 'Chun-soo', 'cred...</td>\n",
       "      <td>[{'credit_id': '52fe464b9251416c75073b43', 'de...</td>\n",
       "      <td>15.182615</td>\n",
       "    </tr>\n",
       "    <tr>\n",
       "      <th>...</th>\n",
       "      <td>...</td>\n",
       "      <td>...</td>\n",
       "      <td>...</td>\n",
       "      <td>...</td>\n",
       "      <td>...</td>\n",
       "      <td>...</td>\n",
       "      <td>...</td>\n",
       "      <td>...</td>\n",
       "      <td>...</td>\n",
       "      <td>...</td>\n",
       "      <td>...</td>\n",
       "      <td>...</td>\n",
       "      <td>...</td>\n",
       "      <td>...</td>\n",
       "      <td>...</td>\n",
       "      <td>...</td>\n",
       "      <td>...</td>\n",
       "      <td>...</td>\n",
       "      <td>...</td>\n",
       "      <td>...</td>\n",
       "      <td>...</td>\n",
       "    </tr>\n",
       "    <tr>\n",
       "      <th>2995</th>\n",
       "      <td>2996</td>\n",
       "      <td>NaN</td>\n",
       "      <td>0</td>\n",
       "      <td>[{'id': 35, 'name': 'Comedy'}, {'id': 10749, '...</td>\n",
       "      <td>NaN</td>\n",
       "      <td>tt0109403</td>\n",
       "      <td>en</td>\n",
       "      <td>Chasers</td>\n",
       "      <td>Military men Rock Reilly and Eddie Devane are ...</td>\n",
       "      <td>9.853270</td>\n",
       "      <td>...</td>\n",
       "      <td>4/22/94</td>\n",
       "      <td>102.0</td>\n",
       "      <td>[{'iso_639_1': 'en', 'name': 'English'}]</td>\n",
       "      <td>Released</td>\n",
       "      <td>It was supposed to be a routine prisoner trans...</td>\n",
       "      <td>Chasers</td>\n",
       "      <td>[{'id': 378, 'name': 'prison'}, {'id': 572, 'n...</td>\n",
       "      <td>[{'cast_id': 2, 'character': 'Rock Reilly', 'c...</td>\n",
       "      <td>[{'credit_id': '52fe4494c3a368484e02ac7d', 'de...</td>\n",
       "      <td>14.283442</td>\n",
       "    </tr>\n",
       "    <tr>\n",
       "      <th>2996</th>\n",
       "      <td>2997</td>\n",
       "      <td>NaN</td>\n",
       "      <td>0</td>\n",
       "      <td>[{'id': 18, 'name': 'Drama'}, {'id': 10402, 'n...</td>\n",
       "      <td>NaN</td>\n",
       "      <td>tt2364975</td>\n",
       "      <td>sv</td>\n",
       "      <td>Vi är bäst!</td>\n",
       "      <td>Three girls in 1980s Stockholm decide to form ...</td>\n",
       "      <td>3.727996</td>\n",
       "      <td>...</td>\n",
       "      <td>3/28/13</td>\n",
       "      <td>102.0</td>\n",
       "      <td>[{'iso_639_1': 'sv', 'name': 'svenska'}]</td>\n",
       "      <td>Released</td>\n",
       "      <td>NaN</td>\n",
       "      <td>We Are the Best!</td>\n",
       "      <td>[{'id': 1192, 'name': 'sweden'}, {'id': 4470, ...</td>\n",
       "      <td>[{'cast_id': 5, 'character': 'Bobo', 'credit_i...</td>\n",
       "      <td>[{'credit_id': '5716b72ac3a3686678012c84', 'de...</td>\n",
       "      <td>12.103990</td>\n",
       "    </tr>\n",
       "    <tr>\n",
       "      <th>2997</th>\n",
       "      <td>2998</td>\n",
       "      <td>NaN</td>\n",
       "      <td>65000000</td>\n",
       "      <td>[{'id': 80, 'name': 'Crime'}, {'id': 28, 'name...</td>\n",
       "      <td>NaN</td>\n",
       "      <td>tt0116908</td>\n",
       "      <td>en</td>\n",
       "      <td>The Long Kiss Goodnight</td>\n",
       "      <td>Samantha Caine, suburban homemaker, is the ide...</td>\n",
       "      <td>14.482345</td>\n",
       "      <td>...</td>\n",
       "      <td>10/11/96</td>\n",
       "      <td>120.0</td>\n",
       "      <td>[{'iso_639_1': 'en', 'name': 'English'}]</td>\n",
       "      <td>Released</td>\n",
       "      <td>What's forgotten is not always gone.</td>\n",
       "      <td>The Long Kiss Goodnight</td>\n",
       "      <td>[{'id': 441, 'name': 'assassination'}, {'id': ...</td>\n",
       "      <td>[{'cast_id': 10, 'character': 'Samantha Caine ...</td>\n",
       "      <td>[{'credit_id': '52fe443a9251416c7502d579', 'de...</td>\n",
       "      <td>18.309266</td>\n",
       "    </tr>\n",
       "    <tr>\n",
       "      <th>2998</th>\n",
       "      <td>2999</td>\n",
       "      <td>NaN</td>\n",
       "      <td>42000000</td>\n",
       "      <td>[{'id': 35, 'name': 'Comedy'}, {'id': 10749, '...</td>\n",
       "      <td>http://www.alongcamepolly.com/</td>\n",
       "      <td>tt0343135</td>\n",
       "      <td>en</td>\n",
       "      <td>Along Came Polly</td>\n",
       "      <td>Reuben Feffer is a guy who's spent his entire ...</td>\n",
       "      <td>15.725542</td>\n",
       "      <td>...</td>\n",
       "      <td>1/16/04</td>\n",
       "      <td>90.0</td>\n",
       "      <td>[{'iso_639_1': 'en', 'name': 'English'}]</td>\n",
       "      <td>Released</td>\n",
       "      <td>For the most cautious man on Earth, life is ab...</td>\n",
       "      <td>Along Came Polly</td>\n",
       "      <td>[{'id': 966, 'name': 'beach'}, {'id': 2676, 'n...</td>\n",
       "      <td>[{'cast_id': 8, 'character': 'Reuben Feffer', ...</td>\n",
       "      <td>[{'credit_id': '556f817b9251410866000a63', 'de...</td>\n",
       "      <td>18.962792</td>\n",
       "    </tr>\n",
       "    <tr>\n",
       "      <th>2999</th>\n",
       "      <td>3000</td>\n",
       "      <td>NaN</td>\n",
       "      <td>35000000</td>\n",
       "      <td>[{'id': 53, 'name': 'Thriller'}, {'id': 28, 'n...</td>\n",
       "      <td>http://www.abductionthefilm.com/</td>\n",
       "      <td>tt1600195</td>\n",
       "      <td>en</td>\n",
       "      <td>Abduction</td>\n",
       "      <td>A young man sets out to uncover the truth abou...</td>\n",
       "      <td>10.512109</td>\n",
       "      <td>...</td>\n",
       "      <td>9/22/11</td>\n",
       "      <td>106.0</td>\n",
       "      <td>[{'iso_639_1': 'en', 'name': 'English'}]</td>\n",
       "      <td>Released</td>\n",
       "      <td>They stole his life. He's taking it back.</td>\n",
       "      <td>Abduction</td>\n",
       "      <td>[{'id': 591, 'name': 'cia'}, {'id': 822, 'name...</td>\n",
       "      <td>[{'cast_id': 2, 'character': 'Nathan Harper', ...</td>\n",
       "      <td>[{'credit_id': '5391990d0e0a260fb5001629', 'de...</td>\n",
       "      <td>18.223292</td>\n",
       "    </tr>\n",
       "  </tbody>\n",
       "</table>\n",
       "<p>3000 rows × 23 columns</p>\n",
       "</div>"
      ],
      "text/plain": [
       "        id                              belongs_to_collection    budget  \\\n",
       "0        1  [{'id': 313576, 'name': 'Hot Tub Time Machine ...  14000000   \n",
       "1        2  [{'id': 107674, 'name': 'The Princess Diaries ...  40000000   \n",
       "2        3                                                NaN   3300000   \n",
       "3        4                                                NaN   1200000   \n",
       "4        5                                                NaN         0   \n",
       "...    ...                                                ...       ...   \n",
       "2995  2996                                                NaN         0   \n",
       "2996  2997                                                NaN         0   \n",
       "2997  2998                                                NaN  65000000   \n",
       "2998  2999                                                NaN  42000000   \n",
       "2999  3000                                                NaN  35000000   \n",
       "\n",
       "                                                 genres  \\\n",
       "0                        [{'id': 35, 'name': 'Comedy'}]   \n",
       "1     [{'id': 35, 'name': 'Comedy'}, {'id': 18, 'nam...   \n",
       "2                         [{'id': 18, 'name': 'Drama'}]   \n",
       "3     [{'id': 53, 'name': 'Thriller'}, {'id': 18, 'n...   \n",
       "4     [{'id': 28, 'name': 'Action'}, {'id': 53, 'nam...   \n",
       "...                                                 ...   \n",
       "2995  [{'id': 35, 'name': 'Comedy'}, {'id': 10749, '...   \n",
       "2996  [{'id': 18, 'name': 'Drama'}, {'id': 10402, 'n...   \n",
       "2997  [{'id': 80, 'name': 'Crime'}, {'id': 28, 'name...   \n",
       "2998  [{'id': 35, 'name': 'Comedy'}, {'id': 10749, '...   \n",
       "2999  [{'id': 53, 'name': 'Thriller'}, {'id': 28, 'n...   \n",
       "\n",
       "                               homepage    imdb_id original_language  \\\n",
       "0                                   NaN  tt2637294                en   \n",
       "1                                   NaN  tt0368933                en   \n",
       "2     http://sonyclassics.com/whiplash/  tt2582802                en   \n",
       "3            http://kahaanithefilm.com/  tt1821480                hi   \n",
       "4                                   NaN  tt1380152                ko   \n",
       "...                                 ...        ...               ...   \n",
       "2995                                NaN  tt0109403                en   \n",
       "2996                                NaN  tt2364975                sv   \n",
       "2997                                NaN  tt0116908                en   \n",
       "2998     http://www.alongcamepolly.com/  tt0343135                en   \n",
       "2999   http://www.abductionthefilm.com/  tt1600195                en   \n",
       "\n",
       "                                original_title  \\\n",
       "0                       Hot Tub Time Machine 2   \n",
       "1     The Princess Diaries 2: Royal Engagement   \n",
       "2                                     Whiplash   \n",
       "3                                      Kahaani   \n",
       "4                                         마린보이   \n",
       "...                                        ...   \n",
       "2995                                   Chasers   \n",
       "2996                               Vi är bäst!   \n",
       "2997                   The Long Kiss Goodnight   \n",
       "2998                          Along Came Polly   \n",
       "2999                                 Abduction   \n",
       "\n",
       "                                               overview  popularity  ...  \\\n",
       "0     When Lou, who has become the \"father of the In...    6.575393  ...   \n",
       "1     Mia Thermopolis is now a college graduate and ...    8.248895  ...   \n",
       "2     Under the direction of a ruthless instructor, ...   64.299990  ...   \n",
       "3     Vidya Bagchi (Vidya Balan) arrives in Kolkata ...    3.174936  ...   \n",
       "4     Marine Boy is the story of a former national s...    1.148070  ...   \n",
       "...                                                 ...         ...  ...   \n",
       "2995  Military men Rock Reilly and Eddie Devane are ...    9.853270  ...   \n",
       "2996  Three girls in 1980s Stockholm decide to form ...    3.727996  ...   \n",
       "2997  Samantha Caine, suburban homemaker, is the ide...   14.482345  ...   \n",
       "2998  Reuben Feffer is a guy who's spent his entire ...   15.725542  ...   \n",
       "2999  A young man sets out to uncover the truth abou...   10.512109  ...   \n",
       "\n",
       "     release_date runtime                                   spoken_languages  \\\n",
       "0         2/20/15    93.0           [{'iso_639_1': 'en', 'name': 'English'}]   \n",
       "1          8/6/04   113.0           [{'iso_639_1': 'en', 'name': 'English'}]   \n",
       "2        10/10/14   105.0           [{'iso_639_1': 'en', 'name': 'English'}]   \n",
       "3          3/9/12   122.0  [{'iso_639_1': 'en', 'name': 'English'}, {'iso...   \n",
       "4          2/5/09   118.0           [{'iso_639_1': 'ko', 'name': '한국어/조선말'}]   \n",
       "...           ...     ...                                                ...   \n",
       "2995      4/22/94   102.0           [{'iso_639_1': 'en', 'name': 'English'}]   \n",
       "2996      3/28/13   102.0           [{'iso_639_1': 'sv', 'name': 'svenska'}]   \n",
       "2997     10/11/96   120.0           [{'iso_639_1': 'en', 'name': 'English'}]   \n",
       "2998      1/16/04    90.0           [{'iso_639_1': 'en', 'name': 'English'}]   \n",
       "2999      9/22/11   106.0           [{'iso_639_1': 'en', 'name': 'English'}]   \n",
       "\n",
       "        status                                            tagline  \\\n",
       "0     Released  The Laws of Space and Time are About to be Vio...   \n",
       "1     Released  It can take a lifetime to find true love; she'...   \n",
       "2     Released    The road to greatness can take you to the edge.   \n",
       "3     Released                                                NaN   \n",
       "4     Released                                                NaN   \n",
       "...        ...                                                ...   \n",
       "2995  Released  It was supposed to be a routine prisoner trans...   \n",
       "2996  Released                                                NaN   \n",
       "2997  Released               What's forgotten is not always gone.   \n",
       "2998  Released  For the most cautious man on Earth, life is ab...   \n",
       "2999  Released          They stole his life. He's taking it back.   \n",
       "\n",
       "                                         title  \\\n",
       "0                       Hot Tub Time Machine 2   \n",
       "1     The Princess Diaries 2: Royal Engagement   \n",
       "2                                     Whiplash   \n",
       "3                                      Kahaani   \n",
       "4                                   Marine Boy   \n",
       "...                                        ...   \n",
       "2995                                   Chasers   \n",
       "2996                          We Are the Best!   \n",
       "2997                   The Long Kiss Goodnight   \n",
       "2998                          Along Came Polly   \n",
       "2999                                 Abduction   \n",
       "\n",
       "                                               Keywords  \\\n",
       "0     [{'id': 4379, 'name': 'time travel'}, {'id': 9...   \n",
       "1     [{'id': 2505, 'name': 'coronation'}, {'id': 42...   \n",
       "2     [{'id': 1416, 'name': 'jazz'}, {'id': 1523, 'n...   \n",
       "3     [{'id': 10092, 'name': 'mystery'}, {'id': 1054...   \n",
       "4                                                   NaN   \n",
       "...                                                 ...   \n",
       "2995  [{'id': 378, 'name': 'prison'}, {'id': 572, 'n...   \n",
       "2996  [{'id': 1192, 'name': 'sweden'}, {'id': 4470, ...   \n",
       "2997  [{'id': 441, 'name': 'assassination'}, {'id': ...   \n",
       "2998  [{'id': 966, 'name': 'beach'}, {'id': 2676, 'n...   \n",
       "2999  [{'id': 591, 'name': 'cia'}, {'id': 822, 'name...   \n",
       "\n",
       "                                                   cast  \\\n",
       "0     [{'cast_id': 4, 'character': 'Lou', 'credit_id...   \n",
       "1     [{'cast_id': 1, 'character': 'Mia Thermopolis'...   \n",
       "2     [{'cast_id': 5, 'character': 'Andrew Neimann',...   \n",
       "3     [{'cast_id': 1, 'character': 'Vidya Bagchi', '...   \n",
       "4     [{'cast_id': 3, 'character': 'Chun-soo', 'cred...   \n",
       "...                                                 ...   \n",
       "2995  [{'cast_id': 2, 'character': 'Rock Reilly', 'c...   \n",
       "2996  [{'cast_id': 5, 'character': 'Bobo', 'credit_i...   \n",
       "2997  [{'cast_id': 10, 'character': 'Samantha Caine ...   \n",
       "2998  [{'cast_id': 8, 'character': 'Reuben Feffer', ...   \n",
       "2999  [{'cast_id': 2, 'character': 'Nathan Harper', ...   \n",
       "\n",
       "                                                   crew    revenue  \n",
       "0     [{'credit_id': '59ac067c92514107af02c8c8', 'de...  16.326300  \n",
       "1     [{'credit_id': '52fe43fe9251416c7502563d', 'de...  18.370959  \n",
       "2     [{'credit_id': '54d5356ec3a3683ba0000039', 'de...  16.387512  \n",
       "3     [{'credit_id': '52fe48779251416c9108d6eb', 'de...  16.588099  \n",
       "4     [{'credit_id': '52fe464b9251416c75073b43', 'de...  15.182615  \n",
       "...                                                 ...        ...  \n",
       "2995  [{'credit_id': '52fe4494c3a368484e02ac7d', 'de...  14.283442  \n",
       "2996  [{'credit_id': '5716b72ac3a3686678012c84', 'de...  12.103990  \n",
       "2997  [{'credit_id': '52fe443a9251416c7502d579', 'de...  18.309266  \n",
       "2998  [{'credit_id': '556f817b9251410866000a63', 'de...  18.962792  \n",
       "2999  [{'credit_id': '5391990d0e0a260fb5001629', 'de...  18.223292  \n",
       "\n",
       "[3000 rows x 23 columns]"
      ]
     },
     "execution_count": 8,
     "metadata": {},
     "output_type": "execute_result"
    }
   ],
   "source": [
    "train"
   ]
  },
  {
   "cell_type": "markdown",
   "metadata": {
    "papermill": {
     "duration": 0.056987,
     "end_time": "2020-11-15T18:26:26.378243",
     "exception": false,
     "start_time": "2020-11-15T18:26:26.321256",
     "status": "completed"
    },
    "tags": []
   },
   "source": [
    "**Belongs_to_collection:**  \n",
    "Contains the TMDB Id, Name, Movie Poster and Backdrop URL of a movie in JSON format. Lets keep it simple and make it a yes(1)/no(0).\n",
    "\n"
   ]
  },
  {
   "cell_type": "code",
   "execution_count": 9,
   "metadata": {
    "execution": {
     "iopub.execute_input": "2020-11-15T18:26:26.507612Z",
     "iopub.status.busy": "2020-11-15T18:26:26.506868Z",
     "iopub.status.idle": "2020-11-15T18:26:26.511379Z",
     "shell.execute_reply": "2020-11-15T18:26:26.510709Z"
    },
    "papermill": {
     "duration": 0.073058,
     "end_time": "2020-11-15T18:26:26.511492",
     "exception": false,
     "start_time": "2020-11-15T18:26:26.438434",
     "status": "completed"
    },
    "tags": []
   },
   "outputs": [
    {
     "data": {
      "text/plain": [
       "count                                                   604\n",
       "unique                                                  422\n",
       "top       [{'id': 645, 'name': 'James Bond Collection', ...\n",
       "freq                                                     16\n",
       "Name: belongs_to_collection, dtype: object"
      ]
     },
     "execution_count": 9,
     "metadata": {},
     "output_type": "execute_result"
    }
   ],
   "source": [
    "train.belongs_to_collection.describe()"
   ]
  },
  {
   "cell_type": "markdown",
   "metadata": {
    "papermill": {
     "duration": 0.052672,
     "end_time": "2020-11-15T18:26:26.622427",
     "exception": false,
     "start_time": "2020-11-15T18:26:26.569755",
     "status": "completed"
    },
    "tags": []
   },
   "source": [
    "**Budget:** \n",
    "Budget of a movie in dollars. 0 values mean unknown. A lot of unknown values, we should try to replace theese(values can be stolen from other Notebooks)"
   ]
  },
  {
   "cell_type": "markdown",
   "metadata": {
    "papermill": {
     "duration": 0.040188,
     "end_time": "2020-11-15T18:26:26.703793",
     "exception": false,
     "start_time": "2020-11-15T18:26:26.663605",
     "status": "completed"
    },
    "tags": []
   },
   "source": [
    "**Homepage:** \n",
    "Contains the official homepage URL of a movie.    "
   ]
  },
  {
   "cell_type": "markdown",
   "metadata": {
    "papermill": {
     "duration": 0.040728,
     "end_time": "2020-11-15T18:26:26.785507",
     "exception": false,
     "start_time": "2020-11-15T18:26:26.744779",
     "status": "completed"
    },
    "tags": []
   },
   "source": [
    "**Imdb_id, Keywords, Poster path, Original_title, Overview,Spoken languages, Status & Title:**\n",
    "Theese contains mostly useless links or are of little consequence, I'll drop'em for now!"
   ]
  },
  {
   "cell_type": "code",
   "execution_count": 10,
   "metadata": {
    "execution": {
     "iopub.execute_input": "2020-11-15T18:26:26.880572Z",
     "iopub.status.busy": "2020-11-15T18:26:26.879805Z",
     "iopub.status.idle": "2020-11-15T18:26:26.884479Z",
     "shell.execute_reply": "2020-11-15T18:26:26.883793Z"
    },
    "papermill": {
     "duration": 0.056208,
     "end_time": "2020-11-15T18:26:26.884590",
     "exception": false,
     "start_time": "2020-11-15T18:26:26.828382",
     "status": "completed"
    },
    "tags": []
   },
   "outputs": [
    {
     "data": {
      "text/plain": [
       "Released    2996\n",
       "Rumored        4\n",
       "Name: status, dtype: int64"
      ]
     },
     "execution_count": 10,
     "metadata": {},
     "output_type": "execute_result"
    }
   ],
   "source": [
    "# Status: Only 4 values in \"Rumored\"! Remove Status..\n",
    "train.status.value_counts()"
   ]
  },
  {
   "cell_type": "code",
   "execution_count": 11,
   "metadata": {
    "execution": {
     "iopub.execute_input": "2020-11-15T18:26:27.020679Z",
     "iopub.status.busy": "2020-11-15T18:26:27.016998Z",
     "iopub.status.idle": "2020-11-15T18:26:27.025994Z",
     "shell.execute_reply": "2020-11-15T18:26:27.026640Z"
    },
    "papermill": {
     "duration": 0.080162,
     "end_time": "2020-11-15T18:26:27.026815",
     "exception": false,
     "start_time": "2020-11-15T18:26:26.946653",
     "status": "completed"
    },
    "tags": []
   },
   "outputs": [
    {
     "data": {
      "text/plain": [
       "[{'id': 10183, 'name': 'independent film'}]                                                                                                                                                                                                                                                                                                                                                                                                                                                                                                                              27\n",
       "[{'id': 187056, 'name': 'woman director'}]                                                                                                                                                                                                                                                                                                                                                                                                                                                                                                                               19\n",
       "[{'id': 179431, 'name': 'duringcreditsstinger'}]                                                                                                                                                                                                                                                                                                                                                                                                                                                                                                                          7\n",
       "[{'id': 9937, 'name': 'suspense'}]                                                                                                                                                                                                                                                                                                                                                                                                                                                                                                                                        6\n",
       "[{'id': 5565, 'name': 'biography'}]                                                                                                                                                                                                                                                                                                                                                                                                                                                                                                                                       5\n",
       "                                                                                                                                                                                                                                                                                                                                                                                                                                                                                                                                                                         ..\n",
       "[{'id': 5490, 'name': 'girlfriend'}, {'id': 5600, 'name': 'daughter'}, {'id': 5905, 'name': 'father'}, {'id': 13130, 'name': 'teenager'}]                                                                                                                                                                                                                                                                                                                                                                                                                                 1\n",
       "[{'id': 4932, 'name': 'farm'}, {'id': 5543, 'name': 'cow'}, {'id': 18165, 'name': 'animal'}]                                                                                                                                                                                                                                                                                                                                                                                                                                                                              1\n",
       "[{'id': 848, 'name': 'double life'}, {'id': 970, 'name': 'parent child relationship'}, {'id': 1155, 'name': 'brother sister relationship'}, {'id': 2143, 'name': 'loss of parents'}, {'id': 4289, 'name': 'secret agent'}, {'id': 14544, 'name': 'robot'}]                                                                                                                                                                                                                                                                                                                1\n",
       "[{'id': 1332, 'name': 'cheating'}, {'id': 13027, 'name': 'wedding'}, {'id': 40798, 'name': 'romantic literature'}, {'id': 187056, 'name': 'woman director'}]                                                                                                                                                                                                                                                                                                                                                                                                              1\n",
       "[{'id': 497, 'name': 'shakespeare'}, {'id': 5923, 'name': 'sister'}, {'id': 6270, 'name': 'high school'}, {'id': 8224, 'name': 'cannabis'}, {'id': 9758, 'name': 'deception'}, {'id': 11870, 'name': 'teen movie'}, {'id': 53994, 'name': 'shrew'}, {'id': 53995, 'name': 'archery'}, {'id': 156115, 'name': 'feel-good ending'}, {'id': 165301, 'name': 'opposites attract'}, {'id': 179431, 'name': 'duringcreditsstinger'}, {'id': 188237, 'name': 'teenage romance'}, {'id': 214594, 'name': 'play adaptation'}, {'id': 218182, 'name': 'overprotective father'}]     1\n",
       "Name: Keywords, Length: 2648, dtype: int64"
      ]
     },
     "execution_count": 11,
     "metadata": {},
     "output_type": "execute_result"
    }
   ],
   "source": [
    "train.Keywords.value_counts()"
   ]
  },
  {
   "cell_type": "markdown",
   "metadata": {
    "papermill": {
     "duration": 0.058286,
     "end_time": "2020-11-15T18:26:27.143837",
     "exception": false,
     "start_time": "2020-11-15T18:26:27.085551",
     "status": "completed"
    },
    "tags": []
   },
   "source": [
    "**Original_language:**\n",
    "Two digit code of the original language, in which the movie was made. Like: en = English, fr = french. (Finished)"
   ]
  },
  {
   "cell_type": "markdown",
   "metadata": {
    "papermill": {
     "duration": 0.058129,
     "end_time": "2020-11-15T18:26:27.260363",
     "exception": false,
     "start_time": "2020-11-15T18:26:27.202234",
     "status": "completed"
    },
    "tags": []
   },
   "source": [
    "**Popularity:** Popularity of the movie in float"
   ]
  },
  {
   "cell_type": "markdown",
   "metadata": {
    "papermill": {
     "duration": 0.057793,
     "end_time": "2020-11-15T18:26:27.376393",
     "exception": false,
     "start_time": "2020-11-15T18:26:27.318600",
     "status": "completed"
    },
    "tags": []
   },
   "source": [
    "**Production_companies:** All production company name and TMDB id in JSON format of a movie."
   ]
  },
  {
   "cell_type": "markdown",
   "metadata": {
    "papermill": {
     "duration": 0.058711,
     "end_time": "2020-11-15T18:26:27.494465",
     "exception": false,
     "start_time": "2020-11-15T18:26:27.435754",
     "status": "completed"
    },
    "tags": []
   },
   "source": [
    "**Production_countries:** Two digit code and full name of the production company in JSON format."
   ]
  },
  {
   "cell_type": "code",
   "execution_count": 12,
   "metadata": {
    "execution": {
     "iopub.execute_input": "2020-11-15T18:26:27.618633Z",
     "iopub.status.busy": "2020-11-15T18:26:27.617834Z",
     "iopub.status.idle": "2020-11-15T18:26:27.623352Z",
     "shell.execute_reply": "2020-11-15T18:26:27.622844Z"
    },
    "papermill": {
     "duration": 0.071482,
     "end_time": "2020-11-15T18:26:27.623443",
     "exception": false,
     "start_time": "2020-11-15T18:26:27.551961",
     "status": "completed"
    },
    "tags": []
   },
   "outputs": [
    {
     "data": {
      "text/plain": [
       "[{'iso_3166_1': 'US', 'name': 'United States of America'}]                                                                                                                            1752\n",
       "[{'iso_3166_1': 'GB', 'name': 'United Kingdom'}, {'iso_3166_1': 'US', 'name': 'United States of America'}]                                                                             118\n",
       "[{'iso_3166_1': 'GB', 'name': 'United Kingdom'}]                                                                                                                                        94\n",
       "[{'iso_3166_1': 'IN', 'name': 'India'}]                                                                                                                                                 69\n",
       "[{'iso_3166_1': 'FR', 'name': 'France'}]                                                                                                                                                51\n",
       "                                                                                                                                                                                      ... \n",
       "[{'iso_3166_1': 'FR', 'name': 'France'}, {'iso_3166_1': 'DE', 'name': 'Germany'}, {'iso_3166_1': 'IT', 'name': 'Italy'}, {'iso_3166_1': 'US', 'name': 'United States of America'}]       1\n",
       "[{'iso_3166_1': 'AU', 'name': 'Australia'}, {'iso_3166_1': 'TW', 'name': 'Taiwan'}]                                                                                                      1\n",
       "[{'iso_3166_1': 'CZ', 'name': 'Czech Republic'}, {'iso_3166_1': 'US', 'name': 'United States of America'}, {'iso_3166_1': 'AE', 'name': 'United Arab Emirates'}]                         1\n",
       "[{'iso_3166_1': 'DE', 'name': 'Germany'}, {'iso_3166_1': 'TR', 'name': 'Turkey'}]                                                                                                        1\n",
       "[{'iso_3166_1': 'CA', 'name': 'Canada'}, {'iso_3166_1': 'IT', 'name': 'Italy'}, {'iso_3166_1': 'US', 'name': 'United States of America'}]                                                1\n",
       "Name: production_countries, Length: 321, dtype: int64"
      ]
     },
     "execution_count": 12,
     "metadata": {},
     "output_type": "execute_result"
    }
   ],
   "source": [
    "train.production_countries.value_counts()"
   ]
  },
  {
   "cell_type": "markdown",
   "metadata": {
    "papermill": {
     "duration": 0.041499,
     "end_time": "2020-11-15T18:26:27.708029",
     "exception": false,
     "start_time": "2020-11-15T18:26:27.666530",
     "status": "completed"
    },
    "tags": []
   },
   "source": [
    "**Release_date:** Release date of a movie in mm/dd/yy format."
   ]
  },
  {
   "cell_type": "code",
   "execution_count": 13,
   "metadata": {
    "execution": {
     "iopub.execute_input": "2020-11-15T18:26:27.799647Z",
     "iopub.status.busy": "2020-11-15T18:26:27.798078Z",
     "iopub.status.idle": "2020-11-15T18:26:27.805013Z",
     "shell.execute_reply": "2020-11-15T18:26:27.803915Z"
    },
    "papermill": {
     "duration": 0.056347,
     "end_time": "2020-11-15T18:26:27.805597",
     "exception": false,
     "start_time": "2020-11-15T18:26:27.749250",
     "status": "completed"
    },
    "tags": []
   },
   "outputs": [
    {
     "data": {
      "text/plain": [
       "0      7/14/07\n",
       "1      5/19/58\n",
       "2      5/23/97\n",
       "3       9/4/10\n",
       "4      2/11/05\n",
       "5       2/7/96\n",
       "6     12/23/10\n",
       "7      2/11/00\n",
       "8       3/2/07\n",
       "9     10/30/99\n",
       "10      9/1/05\n",
       "11     6/27/14\n",
       "12     9/10/80\n",
       "13     5/16/02\n",
       "14      9/9/08\n",
       "15     9/12/10\n",
       "16     3/26/10\n",
       "17     4/16/14\n",
       "18    12/20/79\n",
       "19    11/18/97\n",
       "Name: release_date, dtype: object"
      ]
     },
     "execution_count": 13,
     "metadata": {},
     "output_type": "execute_result"
    }
   ],
   "source": [
    "test.release_date.head(20)"
   ]
  },
  {
   "cell_type": "markdown",
   "metadata": {
    "papermill": {
     "duration": 0.046514,
     "end_time": "2020-11-15T18:26:27.894768",
     "exception": false,
     "start_time": "2020-11-15T18:26:27.848254",
     "status": "completed"
    },
    "tags": []
   },
   "source": [
    "**Runtime:** Total runtime of a movie in minutes (Integer)."
   ]
  },
  {
   "cell_type": "markdown",
   "metadata": {
    "papermill": {
     "duration": 0.060101,
     "end_time": "2020-11-15T18:26:28.014560",
     "exception": false,
     "start_time": "2020-11-15T18:26:27.954459",
     "status": "completed"
    },
    "tags": []
   },
   "source": [
    "**Tagline**: Tagline of a movie "
   ]
  },
  {
   "cell_type": "markdown",
   "metadata": {
    "papermill": {
     "duration": 0.0596,
     "end_time": "2020-11-15T18:26:28.135354",
     "exception": false,
     "start_time": "2020-11-15T18:26:28.075754",
     "status": "completed"
    },
    "tags": []
   },
   "source": [
    "**Cast:** All cast TMDB id, name, character name, gender (1 = Female, 2 = Male) in JSON format"
   ]
  },
  {
   "cell_type": "code",
   "execution_count": 14,
   "metadata": {
    "execution": {
     "iopub.execute_input": "2020-11-15T18:26:28.281463Z",
     "iopub.status.busy": "2020-11-15T18:26:28.278017Z",
     "iopub.status.idle": "2020-11-15T18:26:28.288102Z",
     "shell.execute_reply": "2020-11-15T18:26:28.287428Z"
    },
    "papermill": {
     "duration": 0.093361,
     "end_time": "2020-11-15T18:26:28.288245",
     "exception": false,
     "start_time": "2020-11-15T18:26:28.194884",
     "status": "completed"
    },
    "tags": []
   },
   "outputs": [
    {
     "data": {
      "text/plain": [
       "count     2987\n",
       "unique    2975\n",
       "top         []\n",
       "freq        13\n",
       "Name: cast, dtype: object"
      ]
     },
     "execution_count": 14,
     "metadata": {},
     "output_type": "execute_result"
    }
   ],
   "source": [
    "train.cast.describe()\n",
    "#train.cast.head()"
   ]
  },
  {
   "cell_type": "markdown",
   "metadata": {
    "papermill": {
     "duration": 0.060784,
     "end_time": "2020-11-15T18:26:28.410569",
     "exception": false,
     "start_time": "2020-11-15T18:26:28.349785",
     "status": "completed"
    },
    "tags": []
   },
   "source": [
    "**Crew:** Name, TMDB id, profile path of various kind of crew members job like Director, Writer, Art, Sound etc. (Use Director)"
   ]
  },
  {
   "cell_type": "code",
   "execution_count": 15,
   "metadata": {
    "execution": {
     "iopub.execute_input": "2020-11-15T18:26:28.561720Z",
     "iopub.status.busy": "2020-11-15T18:26:28.560778Z",
     "iopub.status.idle": "2020-11-15T18:26:28.591949Z",
     "shell.execute_reply": "2020-11-15T18:26:28.592526Z"
    },
    "papermill": {
     "duration": 0.113187,
     "end_time": "2020-11-15T18:26:28.592676",
     "exception": false,
     "start_time": "2020-11-15T18:26:28.479489",
     "status": "completed"
    },
    "tags": []
   },
   "outputs": [
    {
     "data": {
      "text/plain": [
       "[{'credit_id': '52fe426ac3a36847f801ce4d', 'department': 'Directing', 'gender': 2, 'id': 24, 'job': 'Director', 'name': 'Robert Zemeckis', 'profile_path': '/isCuZ9PWIOyXzdf3ihodXzjIumL.jpg'}, {'credit_id': '52fe426ac3a36847f801ce53', 'department': 'Writing', 'gender': 2, 'id': 10293, 'job': 'Novel', 'name': 'Carl Sagan', 'profile_path': '/rFUPXJSBi6ybau4x56vLrTjvitb.jpg'}, {'credit_id': '52fe426ac3a36847f801ce59', 'department': 'Writing', 'gender': 2, 'id': 10295, 'job': 'Screenplay', 'name': 'James V. Hart', 'profile_path': '/uwRqqSLT3qY2tYJET0uDFUbyiHK.jpg'}, {'credit_id': '52fe426ac3a36847f801ce5f', 'department': 'Writing', 'gender': 2, 'id': 10296, 'job': 'Screenplay', 'name': 'Michael Goldenberg', 'profile_path': '/qU4WTFJN8z7w3VYYDbl9EH3ifNn.jpg'}, {'credit_id': '52fe426ac3a36847f801ce85', 'department': 'Sound', 'gender': 2, 'id': 37, 'job': 'Original Music Composer', 'name': 'Alan Silvestri', 'profile_path': '/chEsfnDEtRmv1bfOaNAoVEzhCc6.jpg'}, {'credit_id': '52fe426ac3a36847f801ce8b', 'department': 'Camera', 'gender': 2, 'id': 36, 'job': 'Director of Photography', 'name': 'Don Burgess', 'profile_path': None}, {'credit_id': '52fe426ac3a36847f801ce91', 'department': 'Editing', 'gender': 2, 'id': 38, 'job': 'Editor', 'name': 'Arthur Schmidt', 'profile_path': None}, {'credit_id': '52fe426ac3a36847f801ce97', 'department': 'Production', 'gender': 2, 'id': 30, 'job': 'Producer', 'name': 'Steve Starkey', 'profile_path': None}, {'credit_id': '52fe426ac3a36847f801ce9d', 'department': 'Production', 'gender': 2, 'id': 24, 'job': 'Producer', 'name': 'Robert Zemeckis', 'profile_path': '/isCuZ9PWIOyXzdf3ihodXzjIumL.jpg'}, {'credit_id': '52fe426ac3a36847f801ceab', 'department': 'Production', 'gender': 1, 'id': 1324, 'job': 'Casting', 'name': 'Victoria Burrows', 'profile_path': None}, {'credit_id': '52fe426ac3a36847f801ceb1', 'department': 'Costume & Make-Up', 'gender': 1, 'id': 498, 'job': 'Costume Design', 'name': 'Joanna Johnston', 'profile_path': None}, {'credit_id': '54b5377ac3a368094e0097ba', 'department': 'Crew', 'gender': 0, 'id': 1413157, 'job': 'Special Effects', 'name': 'Marzette Bonar', 'profile_path': None}, {'credit_id': '54b534b8c3a368094e00976e', 'department': 'Art', 'gender': 2, 'id': 4953, 'job': 'Production Design', 'name': 'Ed Verreaux', 'profile_path': None}, {'credit_id': '54b534c9925141746c00838b', 'department': 'Art', 'gender': 2, 'id': 13434, 'job': 'Art Direction', 'name': 'Bruce Crone', 'profile_path': None}, {'credit_id': '54b534da92514152d40019b5', 'department': 'Art', 'gender': 2, 'id': 903, 'job': 'Art Direction', 'name': 'Lawrence A. Hubbs', 'profile_path': None}, {'credit_id': '54b5352c9251415321001ae5', 'department': 'Art', 'gender': 2, 'id': 1171347, 'job': 'Set Decoration', 'name': 'Michael Taylor', 'profile_path': None}, {'credit_id': '54b5356bc3a36809400093b3', 'department': 'Costume & Make-Up', 'gender': 0, 'id': 83064, 'job': 'Hairstylist', 'name': 'Frances Mathias', 'profile_path': None}, {'credit_id': '54b535b29251416fa3000144', 'department': 'Costume & Make-Up', 'gender': 0, 'id': 1405373, 'job': 'Hairstylist', 'name': 'Audrey L. Anzures', 'profile_path': None}, {'credit_id': '54b535d492514152d40019c9', 'department': 'Costume & Make-Up', 'gender': 1, 'id': 1402016, 'job': 'Hairstylist', 'name': 'Carolyn Elias', 'profile_path': None}, {'credit_id': '54b535ee92514107e0008478', 'department': 'Costume & Make-Up', 'gender': 0, 'id': 1327149, 'job': 'Makeup Artist', 'name': \"Hallie D'Amore\", 'profile_path': None}, {'credit_id': '54b536039251417472008f96', 'department': 'Costume & Make-Up', 'gender': 1, 'id': 23787, 'job': 'Makeup Artist', 'name': 'Deborah La Mia Denaver', 'profile_path': None}, {'credit_id': '54b53618c3a3680287003a8e', 'department': 'Costume & Make-Up', 'gender': 0, 'id': 1413146, 'job': 'Makeup Artist', 'name': 'Roxanna Floyd', 'profile_path': None}, {'credit_id': '54b5362fc3a36877db000160', 'department': 'Costume & Make-Up', 'gender': 0, 'id': 32281, 'job': 'Makeup Artist', 'name': 'Margaret E. Elliott', 'profile_path': None}, {'credit_id': '54b53661c3a3680287003a9a', 'department': 'Costume & Make-Up', 'gender': 0, 'id': 1406384, 'job': 'Makeup Artist', 'name': 'Jean-Luc Russier', 'profile_path': None}, {'credit_id': '54b5368092514107e000848d', 'department': 'Art', 'gender': 0, 'id': 1413149, 'job': 'Art Department Coordinator', 'name': 'Beth Bernstein', 'profile_path': None}, {'credit_id': '54b536bac3a368783b002420', 'department': 'Art', 'gender': 0, 'id': 497, 'job': 'Assistant Art Director', 'name': 'Doug J. Meerdink', 'profile_path': None}, {'credit_id': '54b536d2925141746c0083bf', 'department': 'Art', 'gender': 0, 'id': 21796, 'job': 'Assistant Art Director', 'name': 'Sally Thornton', 'profile_path': None}, {'credit_id': '54b536eb9251417369004c7e', 'department': 'Art', 'gender': 2, 'id': 8705, 'job': 'Assistant Art Director', 'name': 'Brad Ricker', 'profile_path': None}, {'credit_id': '54b5370e9251412ffc003721', 'department': 'Crew', 'gender': 2, 'id': 22486, 'job': 'Property Master', 'name': 'Robin L. Miller', 'profile_path': None}, {'credit_id': '54b53728c3a368166d00009d', 'department': 'Art', 'gender': 0, 'id': 1413153, 'job': 'Construction Coordinator', 'name': 'Michael Diersing', 'profile_path': None}, {'credit_id': '54b5373bc3a368094e0097b1', 'department': 'Art', 'gender': 0, 'id': 1413154, 'job': 'Construction Foreman', 'name': 'Scott E. Handt', 'profile_path': None}, {'credit_id': '54b53755c3a368783b002430', 'department': 'Art', 'gender': 0, 'id': 1413156, 'job': 'Construction Foreman', 'name': 'Jerrold F. Brooks', 'profile_path': None}, {'credit_id': '54b53799c3a368094e0097bf', 'department': 'Art', 'gender': 0, 'id': 1364403, 'job': 'Greensman', 'name': 'Frank McEldowney', 'profile_path': None}, {'credit_id': '54b537b6c3a36877db00019c', 'department': 'Art', 'gender': 0, 'id': 1413158, 'job': 'Greensman', 'name': 'Hap Weaver', 'profile_path': None}, {'credit_id': '54b537e5c3a368783b002440', 'department': 'Art', 'gender': 0, 'id': 1413159, 'job': 'Leadman', 'name': 'David Manhan', 'profile_path': None}, {'credit_id': '54b53805c3a368166d0000af', 'department': 'Art', 'gender': 0, 'id': 1413160, 'job': 'Set Designer', 'name': 'Evelyn Barbier', 'profile_path': None}, {'credit_id': '54b5381592514152d4001a01', 'department': 'Art', 'gender': 0, 'id': 1413161, 'job': 'Set Designer', 'name': 'Mariko Braswell', 'profile_path': None}, {'credit_id': '54b538289251415321001b2a', 'department': 'Art', 'gender': 0, 'id': 1413162, 'job': 'Set Designer', 'name': 'James F. Claytor Sr.', 'profile_path': None}, {'credit_id': '54b5383cc3a36809400093ec', 'department': 'Art', 'gender': 0, 'id': 1334782, 'job': 'Set Designer', 'name': 'Josh Lusby', 'profile_path': None}, {'credit_id': '54b53856c3a3687a63002ecb', 'department': 'Art', 'gender': 0, 'id': 1390520, 'job': 'Set Designer', 'name': 'Kristen Pratt', 'profile_path': None}, {'credit_id': '54b5386d9251417369004ca8', 'department': 'Art', 'gender': 0, 'id': 1068056, 'job': 'Set Designer', 'name': 'Easton Michael Smith', 'profile_path': None}, {'credit_id': '54b53886c3a368783b002453', 'department': 'Art', 'gender': 2, 'id': 969743, 'job': 'Set Designer', 'name': 'Dean Wolcott', 'profile_path': None}, {'credit_id': '54b538f292514107e00084cd', 'department': 'Sound', 'gender': 0, 'id': 404895, 'job': 'Supervising Sound Editor', 'name': 'Phil Benson', 'profile_path': None}, {'credit_id': '54b539239251415321001b46', 'department': 'Sound', 'gender': 0, 'id': 7537, 'job': 'Sound Effects Editor', 'name': 'Steve Boeddeker', 'profile_path': None}, {'credit_id': '54b5393b9251417369004cbb', 'department': 'Sound', 'gender': 1, 'id': 15893, 'job': 'Sound Effects Editor', 'name': 'Teresa Eckton', 'profile_path': None}, {'credit_id': '54b539569251417472008ffa', 'department': 'Sound', 'gender': 0, 'id': 1389134, 'job': 'Sound Effects Editor', 'name': 'Douglas Murray', 'profile_path': None}, {'credit_id': '54b5397392514107e00084dd', 'department': 'Sound', 'gender': 0, 'id': 1413167, 'job': 'Sound Effects Editor', 'name': 'Marian Wilde', 'profile_path': None}, {'credit_id': '54b539a29251415321001b5b', 'department': 'Sound', 'gender': 0, 'id': 42267, 'job': 'Sound Designer', 'name': 'Randy Thom', 'profile_path': '/gENCvbLHHHtxeZcPJIHcSq6Y4BW.jpg'}, {'credit_id': '54b539d992514107e00084ea', 'department': 'Sound', 'gender': 2, 'id': 3996, 'job': 'Sound Re-Recording Mixer', 'name': 'Tom Johnson', 'profile_path': None}, {'credit_id': '54b539f9925141747200900a', 'department': 'Sound', 'gender': 0, 'id': 138618, 'job': 'Sound Re-Recording Mixer', 'name': 'Gary Rizzo', 'profile_path': None}, {'credit_id': '54b53a1fc3a36877db0001e0', 'department': 'Sound', 'gender': 2, 'id': 1413169, 'job': 'Sound Re-Recording Mixer', 'name': 'Dennis S. Sands', 'profile_path': None}, {'credit_id': '54b53a379251416fa30001a9', 'department': 'Sound', 'gender': 0, 'id': 42267, 'job': 'Sound Re-Recording Mixer', 'name': 'Randy Thom', 'profile_path': '/gENCvbLHHHtxeZcPJIHcSq6Y4BW.jpg'}, {'credit_id': '54b53a50c3a3687a63002ef7', 'department': 'Editing', 'gender': 0, 'id': 1413171, 'job': 'Dialogue Editor', 'name': 'Barbara McBane', 'profile_path': None}, {'credit_id': '54b53a669251415321001b74', 'department': 'Editing', 'gender': 0, 'id': 8158, 'job': 'Dialogue Editor', 'name': 'Michael Silvers', 'profile_path': None}, {'credit_id': '54b53a88c3a36877db0001ec', 'department': 'Editing', 'gender': 0, 'id': 1400905, 'job': 'Dialogue Editor', 'name': 'Ewa Sztompke', 'profile_path': None}, {'credit_id': '54b53ad292514107e0008506', 'department': 'Sound', 'gender': 0, 'id': 1413172, 'job': 'ADR & Dubbing', 'name': 'Sue Fox', 'profile_path': None}, {'credit_id': '54b53af09251412ffc00377b', 'department': 'Sound', 'gender': 0, 'id': 9439, 'job': 'Foley', 'name': 'Catherine Harper', 'profile_path': None}, {'credit_id': '54b53b0e92514152d4001a71', 'department': 'Sound', 'gender': 0, 'id': 8160, 'job': 'Foley', 'name': 'Dennie Thorpe', 'profile_path': None}, {'credit_id': '54b53b59925141747200902f', 'department': 'Crew', 'gender': 0, 'id': 1413174, 'job': 'Special Effects Coordinator', 'name': 'Eric Cook', 'profile_path': None}, {'credit_id': '54b53b78c3a368783b00249c', 'department': 'Crew', 'gender': 0, 'id': 1413175, 'job': 'CG Supervisor', 'name': 'Matt Aitken', 'profile_path': None}, {'credit_id': '54b53baec3a36877db000202', 'department': 'Visual Effects', 'gender': 0, 'id': 1413176, 'job': 'Visual Effects Producer', 'name': 'C. Marie Davis', 'profile_path': None}, {'credit_id': '54b53bc392514107e000851e', 'department': 'Visual Effects', 'gender': 0, 'id': 42268, 'job': 'Visual Effects Producer', 'name': 'Debbie Denise', 'profile_path': None}, {'credit_id': '54b53bdd92514152d4001a89', 'department': 'Visual Effects', 'gender': 0, 'id': 1169459, 'job': 'Visual Effects Producer', 'name': 'Julia Frey', 'profile_path': None}, {'credit_id': '54b53c169251412ffc003793', 'department': 'Crew', 'gender': 0, 'id': 1413178, 'job': 'Sequence Supervisor', 'name': \"Kee-Suk 'Ken' Hahn\", 'profile_path': None}, {'credit_id': '54b53c53c3a368166d00012b', 'department': 'Crew', 'gender': 2, 'id': 1405209, 'job': 'Sequence Supervisor', 'name': 'David Jones', 'profile_path': None}, {'credit_id': '54b53c84c3a36877db00021d', 'department': 'Visual Effects', 'gender': 0, 'id': 1413179, 'job': 'Visual Effects Producer', 'name': 'Mark S. Miller', 'profile_path': None}, {'credit_id': '54b53ca29251416fa30001e9', 'department': 'Crew', 'gender': 0, 'id': 1413180, 'job': 'Sequence Supervisor', 'name': 'Jay Redd', 'profile_path': None}, {'credit_id': '54b53cb9c3a3687a63002f37', 'department': 'Crew', 'gender': 0, 'id': 1413181, 'job': 'Sequence Supervisor', 'name': 'Sam Richards', 'profile_path': None}, {'credit_id': '54b53ce6c3a3687a63002f3f', 'department': 'Visual Effects', 'gender': 0, 'id': 1399635, 'job': 'Visual Effects Supervisor', 'name': 'Ariel Velasco-Shaw', 'profile_path': None}, {'credit_id': '54b53d009251416fa30001f8', 'department': 'Crew', 'gender': 0, 'id': 1413182, 'job': 'Sequence Supervisor', 'name': 'Laurence Treweek', 'profile_path': None}, {'credit_id': '54b53d1a925141746c008476', 'department': 'Crew', 'gender': 0, 'id': 1408326, 'job': 'Visual Effects Editor', 'name': 'Kosta Saric', 'profile_path': None}, {'credit_id': '54b53d2f9251416fa3000201', 'department': 'Visual Effects', 'gender': 0, 'id': 1271932, 'job': 'Visual Effects Supervisor', 'name': 'Stephen Rosenbaum', 'profile_path': None}, {'credit_id': '54b53d43c3a368094000945c', 'department': 'Visual Effects', 'gender': 0, 'id': 1413183, 'job': 'Visual Effects Supervisor', 'name': 'Lauren Alexandra Ritchie', 'profile_path': None}, {'credit_id': '54b53d85c3a3680940009463', 'department': 'Crew', 'gender': 0, 'id': 1403524, 'job': 'Visual Effects Editor', 'name': 'Heather J. Morrison', 'profile_path': None}, {'credit_id': '54b53da09251412ffc0037c3', 'department': 'Crew', 'gender': 0, 'id': 237398, 'job': 'Visual Effects Editor', 'name': 'Michael McGovern', 'profile_path': None}, {'credit_id': '54b53db49251416fa3000209', 'department': 'Visual Effects', 'gender': 0, 'id': 1413185, 'job': 'Visual Effects Supervisor', 'name': 'Joe Matza', 'profile_path': None}, {'credit_id': '54b53de5c3a36877db000255', 'department': 'Visual Effects', 'gender': 0, 'id': 1392136, 'job': 'Visual Effects Supervisor', 'name': 'Kenneth Jones', 'profile_path': None}, {'credit_id': '54b53e359251412ffc0037d7', 'department': 'Visual Effects', 'gender': 0, 'id': 1406922, 'job': 'Visual Effects Supervisor', 'name': 'Michael L. Fink', 'profile_path': None}, {'credit_id': '54b53eea9251417369004d45', 'department': 'Crew', 'gender': 2, 'id': 14049, 'job': 'Stunt Coordinator', 'name': 'Bud Davis', 'profile_path': '/21iRoOXunwnWPcWZCv2PmWNaDe9.jpg'}, {'credit_id': '54b53f03c3a368783b0024fa', 'department': 'Camera', 'gender': 0, 'id': 1400373, 'job': 'Camera Operator', 'name': 'Josh Bleibtreu', 'profile_path': None}, {'credit_id': '54b53f199251417369004d52', 'department': 'Camera', 'gender': 0, 'id': 1190250, 'job': 'Camera Operator', 'name': 'Robert LaBonge', 'profile_path': None}, {'credit_id': '54b53f31925141746c0084b1', 'department': 'Camera', 'gender': 2, 'id': 65643, 'job': 'Camera Operator', 'name': 'Nick Phillips', 'profile_path': '/zVbtedfHFFZJrl8aainKs3xPKXg.jpg'}, {'credit_id': '54b53f52c3a3680940009491', 'department': 'Camera', 'gender': 0, 'id': 1391130, 'job': 'Steadicam Operator', 'name': \"Mark O'Kane\", 'profile_path': None}, {'credit_id': '54b53f6bc3a3685fbd001dd0', 'department': 'Camera', 'gender': 2, 'id': 1412990, 'job': 'Steadicam Operator', 'name': 'Gregory Lundsgaard', 'profile_path': None}, {'credit_id': '54b53f829251416fa300023a', 'department': 'Camera', 'gender': 0, 'id': 1177850, 'job': 'Still Photographer', 'name': 'Fran√ßois Duhamel', 'profile_path': None}, {'credit_id': '54b53f9c92514107e00085a0', 'department': 'Camera', 'gender': 2, 'id': 1413192, 'job': 'Still Photographer', 'name': 'Michael Douglas Middleton', 'profile_path': None}, {'credit_id': '54b53fcb9251417369004d65', 'department': 'Crew', 'gender': 0, 'id': 1413193, 'job': 'Video Assist Operator', 'name': 'Michael Noles', 'profile_path': None}, {'credit_id': '54b53fe3c3a368166d00018a', 'department': 'Crew', 'gender': 0, 'id': 85216, 'job': 'Video Assist Operator', 'name': 'David Presley', 'profile_path': None}, {'credit_id': '54b540299251417369004d74', 'department': 'Camera', 'gender': 0, 'id': 1399899, 'job': 'Camera Technician', 'name': 'Steven J. Winslow', 'profile_path': None}, {'credit_id': '54b54066c3a3687a63002f92', 'department': 'Lighting', 'gender': 0, 'id': 3976, 'job': 'Lighting Technician', 'name': 'Steven C. McGee', 'profile_path': None}, {'credit_id': '54b5408492514174720090ae', 'department': 'Lighting', 'gender': 0, 'id': 1413194, 'job': 'Rigging Grip', 'name': 'Rand R. Vargas', 'profile_path': None}, {'credit_id': '54b540b1c3a3680287003bb2', 'department': 'Costume & Make-Up', 'gender': 0, 'id': 1413195, 'job': 'Costume Supervisor', 'name': 'Betty Brikowski', 'profile_path': None}, {'credit_id': '54b540cec3a3687a63002f9f', 'department': 'Costume & Make-Up', 'gender': 0, 'id': 1323768, 'job': 'Costume Supervisor', 'name': 'Pamela Wise', 'profile_path': None}, {'credit_id': '54b540e9c3a3680287003bb7', 'department': 'Costume & Make-Up', 'gender': 0, 'id': 1413196, 'job': 'Set Costumer', 'name': 'Patricia Bercsi', 'profile_path': None}, {'credit_id': '54b540fd9251417369004d96', 'department': 'Costume & Make-Up', 'gender': 0, 'id': 1405727, 'job': 'Set Costumer', 'name': 'Steve Ellsworth', 'profile_path': None}, {'credit_id': '54b5411392514152d4001b06', 'department': 'Costume & Make-Up', 'gender': 0, 'id': 1392109, 'job': 'Set Costumer', 'name': 'Kenn Smiley', 'profile_path': None}, {'credit_id': '54b5412a9251412ffc003820', 'department': 'Costume & Make-Up', 'gender': 0, 'id': 1413197, 'job': 'Set Costumer', 'name': 'Taryn Weaver', 'profile_path': None}, {'credit_id': '54b5414ac3a36809400094bb', 'department': 'Editing', 'gender': 2, 'id': 42359, 'job': 'First Assistant Editor', 'name': 'R. Orlando Duenas', 'profile_path': None}, {'credit_id': '54b54161c3a3685fbd001e18', 'department': 'Editing', 'gender': 0, 'id': 23781, 'job': 'First Assistant Editor', 'name': \"Jeremiah O'Driscoll\", 'profile_path': None}, {'credit_id': '54b54175c3a36877db0002b3', 'department': 'Editing', 'gender': 0, 'id': 42283, 'job': 'First Assistant Editor', 'name': 'Carin-Anne Strohmaier', 'profile_path': None}, {'credit_id': '54b5418dc3a3687a63002faf', 'department': 'Sound', 'gender': 2, 'id': 1394306, 'job': 'Music Editor', 'name': 'Kenneth Karman', 'profile_path': None}, {'credit_id': '54b541a792514107e00085d4', 'department': 'Crew', 'gender': 0, 'id': 1399328, 'job': 'Transportation Coordinator', 'name': 'Joel Marrow', 'profile_path': None}, {'credit_id': '54b541cac3a368783b002543', 'department': 'Directing', 'gender': 1, 'id': 1262129, 'job': 'Script Supervisor', 'name': 'Luca Kouimelis', 'profile_path': None}, {'credit_id': '54b541ea9251415321001c21', 'department': 'Production', 'gender': 0, 'id': 1413198, 'job': 'Location Manager', 'name': 'Luz Eneida Nu√±ez', 'profile_path': None}, {'credit_id': '54b54201c3a3680287003bd5', 'department': 'Production', 'gender': 0, 'id': 1399147, 'job': 'Location Manager', 'name': 'Paul Pav', 'profile_path': None}, {'credit_id': '54b5421392514107e00085e0', 'department': 'Production', 'gender': 0, 'id': 1391604, 'job': 'Location Manager', 'name': 'Peggy Pridemore', 'profile_path': None}, {'credit_id': '54b5423a925141746c0084e3', 'department': 'Crew', 'gender': 0, 'id': 1271933, 'job': 'Unit Publicist', 'name': 'Jane E. Russell', 'profile_path': None}, {'credit_id': '54b54263c3a3680287003bdf', 'department': 'Production', 'gender': 0, 'id': 1413201, 'job': 'Production Accountant', 'name': 'Allen E. Taylor', 'profile_path': None}, {'credit_id': '54b5428ec3a3685fbd001e34', 'department': 'Crew', 'gender': 0, 'id': 13050, 'job': 'Dialect Coach', 'name': 'Tim Monich', 'profile_path': None}, {'credit_id': '557cb4189251411e790002c8', 'department': 'Writing', 'gender': 1, 'id': 1224289, 'job': 'Story', 'name': 'Ann Druyan', 'profile_path': '/qbg833KqVVbKQbPpUvO2Q3gKu2d.jpg'}, {'credit_id': '557cb43b925141539b002fbd', 'department': 'Production', 'gender': 0, 'id': 42358, 'job': 'Associate Producer', 'name': 'Steven J. Boyd', 'profile_path': None}, {'credit_id': '557cb447925141539b002fc1', 'department': 'Production', 'gender': 1, 'id': 11712, 'job': 'Executive Producer', 'name': 'Joan Bradshaw', 'profile_path': None}, {'credit_id': '557cb45292514104140008ac', 'department': 'Production', 'gender': 1, 'id': 1224289, 'job': 'Co-Producer', 'name': 'Ann Druyan', 'profile_path': '/qbg833KqVVbKQbPpUvO2Q3gKu2d.jpg'}, {'credit_id': '557cb45dc3a3682e280002e6', 'department': 'Production', 'gender': 1, 'id': 2162, 'job': 'Executive Producer', 'name': 'Lynda Obst', 'profile_path': None}, {'credit_id': '557cb46dc3a36863280029bb', 'department': 'Production', 'gender': 0, 'id': 1477006, 'job': 'Associate Producer', 'name': 'Rick Porras', 'profile_path': None}, {'credit_id': '557cb479c3a36863280029bf', 'department': 'Production', 'gender': 2, 'id': 10293, 'job': 'Co-Producer', 'name': 'Carl Sagan', 'profile_path': '/rFUPXJSBi6ybau4x56vLrTjvitb.jpg'}, {'credit_id': '596ba46dc3a3684c73001b4b', 'department': 'Costume & Make-Up', 'gender': 0, 'id': 1402015, 'job': 'Key Hair Stylist', 'name': 'Kathryn Blondell', 'profile_path': None}, {'credit_id': '570834339251415bca00055a', 'department': 'Visual Effects', 'gender': 0, 'id': 1368867, 'job': 'Special Effects Supervisor', 'name': 'Allen Hall', 'profile_path': None}, {'credit_id': '57688290c3a3680d210000a8', 'department': 'Writing', 'gender': 2, 'id': 10293, 'job': 'Story', 'name': 'Carl Sagan', 'profile_path': '/rFUPXJSBi6ybau4x56vLrTjvitb.jpg'}, {'credit_id': '596ba3119251413b6e00185c', 'department': 'Art', 'gender': 0, 'id': 1324261, 'job': 'Art Department Assistant', 'name': 'John B. Josselyn', 'profile_path': None}, {'credit_id': '596ba3519251413b60001872', 'department': 'Art', 'gender': 0, 'id': 1418019, 'job': 'Conceptual Design', 'name': 'George Denes Suhayda', 'profile_path': None}, {'credit_id': '596ba371c3a3684c73001a5d', 'department': 'Art', 'gender': 0, 'id': 1622079, 'job': 'Location Scout', 'name': 'Kathleen Beall', 'profile_path': None}, {'credit_id': '596ba39bc3a3684c6100197f', 'department': 'Art', 'gender': 0, 'id': 1684307, 'job': 'Standby Painter', 'name': 'Robert E. Denne', 'profile_path': None}, {'credit_id': '596ba3bac3a3684c610019a3', 'department': 'Camera', 'gender': 0, 'id': 1852627, 'job': 'Additional Photography', 'name': 'Dennis Boni', 'profile_path': None}, {'credit_id': '596ba3e19251413b20001919', 'department': 'Camera', 'gender': 0, 'id': 1174405, 'job': 'First Assistant Camera', 'name': 'Michael Condro', 'profile_path': None}, {'credit_id': '596ba4009251413b24001a7d', 'department': 'Camera', 'gender': 0, 'id': 1644462, 'job': 'Key Grip', 'name': 'Steve Smith', 'profile_path': None}, {'credit_id': '596ba412c3a3684c61001a07', 'department': 'Camera', 'gender': 0, 'id': 1852628, 'job': 'Grip', 'name': 'James Conroy', 'profile_path': None}, {'credit_id': '596ba426c3a3684bcb001810', 'department': 'Crew', 'gender': 0, 'id': 111187, 'job': 'Aerial Coordinator', 'name': 'Kevin LaRosa', 'profile_path': None}, {'credit_id': '596ba44cc3a3684c10001785', 'department': 'Costume & Make-Up', 'gender': 0, 'id': 1552346, 'job': 'Assistant Costume Designer', 'name': 'Jessica Fasman', 'profile_path': None}, {'credit_id': '596ba491c3a3684c2c001bb9', 'department': 'Costume & Make-Up', 'gender': 0, 'id': 42030, 'job': 'Prosthetic Makeup Artist', 'name': 'Keith VanderLaan', 'profile_path': None}, {'credit_id': '596ba4aec3a3684c02001b65', 'department': 'Costume & Make-Up', 'gender': 0, 'id': 1852630, 'job': 'Set Dressing Artist', 'name': 'Sara Gardner-Gail', 'profile_path': None}, {'credit_id': '596ba4bd9251413b3d001b1e', 'department': 'Crew', 'gender': 0, 'id': 1852631, 'job': 'Carpenter', 'name': 'Thomas C. Mentzer', 'profile_path': None}, {'credit_id': '596ba4d19251413b570019f0', 'department': 'Crew', 'gender': 0, 'id': 109245, 'job': 'Craft Service', 'name': 'John Wright Jr.', 'profile_path': None}, {'credit_id': '596ba4ecc3a3684c61001b17', 'department': 'Crew', 'gender': 0, 'id': 1852632, 'job': 'Digital Effects Supervisor', 'name': 'Victor Jimenez', 'profile_path': None}, {'credit_id': '596ba4f99251413b1800190b', 'department': 'Crew', 'gender': 0, 'id': 1733530, 'job': 'Driver', 'name': 'Dan Brizendine', 'profile_path': None}, {'credit_id': '596ba5199251413b57001a3f', 'department': 'Crew', 'gender': 0, 'id': 1318476, 'job': 'Mix Technician', 'name': 'Kent Sparling', 'profile_path': None}, {'credit_id': '596ba5419251413b20001a7b', 'department': 'Crew', 'gender': 0, 'id': 1413201, 'job': 'Production Controller', 'name': 'Allen E. Taylor', 'profile_path': None}, {'credit_id': '596ba55c9251413b24001bf2', 'department': 'Production', 'gender': 0, 'id': 72110, 'job': 'Production Office Coordinator', 'name': 'Ines Mongil-Echandi', 'profile_path': None}, {'credit_id': '596ba57a9251413b18001984', 'department': 'Crew', 'gender': 0, 'id': 1564219, 'job': 'Projection', 'name': 'Edward J. Ertel', 'profile_path': None}, {'credit_id': '596ba5929251413b6e001ae8', 'department': 'Crew', 'gender': 0, 'id': 1616460, 'job': 'Propmaker', 'name': 'Wayne Eaton', 'profile_path': None}, {'credit_id': '596ba5a8c3a3684c50001d22', 'department': 'Crew', 'gender': 0, 'id': 1852633, 'job': 'Scenic Artist', 'name': 'Susanna Glattly', 'profile_path': None}, {'credit_id': '596ba5b9c3a3684c02001c72', 'department': 'Crew', 'gender': 2, 'id': 30, 'job': 'Second Unit Cinematographer', 'name': 'Steve Starkey', 'profile_path': None}, {'credit_id': '596ba5e69251413b57001b04', 'department': 'Crew', 'gender': 0, 'id': 1508462, 'job': 'Set Medic', 'name': 'Jeff Johnson', 'profile_path': None}, {'credit_id': '596ba5fcc3a3684c02001cad', 'department': 'Crew', 'gender': 0, 'id': 61873, 'job': 'Set Production Assistant', 'name': 'Michelle Vogler', 'profile_path': None}, {'credit_id': '596ba60c9251413b3d001c99', 'department': 'Crew', 'gender': 0, 'id': 1728549, 'job': 'Software Engineer', 'name': 'Rob Engle', 'profile_path': None}, {'credit_id': '596ba61a9251413b57001b3f', 'department': 'Sound', 'gender': 0, 'id': 1585001, 'job': 'Sound Recordist', 'name': 'Randolph Saucedo', 'profile_path': None}, {'credit_id': '596ba647c3a3684c39001b6b', 'department': 'Crew', 'gender': 0, 'id': 1808950, 'job': 'Stand In', 'name': 'Michael Egan', 'profile_path': None}, {'credit_id': '596ba663c3a3684c50001dfd', 'department': 'Crew', 'gender': 2, 'id': 14050, 'job': 'Stunts', 'name': 'Jay Caputo', 'profile_path': '/gUaiBUfbJRgomCCoBWxXx6ddElp.jpg'}, {'credit_id': '596ba6819251413b24001d3e', 'department': 'Crew', 'gender': 0, 'id': 1852635, 'job': 'Technical Supervisor', 'name': 'Bill Feightner', 'profile_path': None}, {'credit_id': '596ba68f9251413b18001a8a', 'department': 'Crew', 'gender': 0, 'id': 1555639, 'job': 'Transportation Captain', 'name': 'Randy Cantor', 'profile_path': None}, {'credit_id': '596ba6aa9251413b3d001d34', 'department': 'Crew', 'gender': 0, 'id': 1852636, 'job': 'Transportation Co-Captain', 'name': 'David Diaz', 'profile_path': None}, {'credit_id': '596ba6bbc3a3684c50001e4f', 'department': 'Production', 'gender': 1, 'id': 11712, 'job': 'Unit Production Manager', 'name': 'Joan Bradshaw', 'profile_path': None}, {'credit_id': '596bac599251413b3d002380', 'department': 'Directing', 'gender': 2, 'id': 13930, 'job': 'Assistant Director', 'name': 'Bruce Moriarty', 'profile_path': None}, {'credit_id': '596bac7d9251413b18002061', 'department': 'Editing', 'gender': 0, 'id': 1630675, 'job': 'Color Timer', 'name': 'Bob Putynkowski', 'profile_path': None}, {'credit_id': '596baca69251413b2400242a', 'department': 'Lighting', 'gender': 0, 'id': 1852651, 'job': 'Electrician', 'name': 'Dave Mikutsky', 'profile_path': None}, {'credit_id': '596bacb7c3a3684c39002228', 'department': 'Lighting', 'gender': 2, 'id': 1294897, 'job': 'Gaffer', 'name': 'David Morton', 'profile_path': None}, {'credit_id': '596bace39251413b6e0022de', 'department': 'Production', 'gender': 0, 'id': 42360, 'job': 'Casting Associate', 'name': 'Scot Boland', 'profile_path': None}, {'credit_id': '596bad0f9251413b1c00238a', 'department': 'Production', 'gender': 0, 'id': 1852652, 'job': 'Production Coordinator', 'name': 'Darcy Fray', 'profile_path': None}, {'credit_id': '596bad2f9251413b240024c9', 'department': 'Production', 'gender': 0, 'id': 1852653, 'job': 'Production Supervisor', 'name': 'Dawn Guinta', 'profile_path': None}, {'credit_id': '596bad41c3a3684c10002033', 'department': 'Sound', 'gender': 0, 'id': 55228, 'job': 'Boom Operator', 'name': 'Earl Sampson', 'profile_path': None}, {'credit_id': '596bad649251413b1c0023df', 'department': 'Sound', 'gender': 0, 'id': 1556634, 'job': 'Assistant Sound Editor', 'name': 'Kent Brown', 'profile_path': None}, {'credit_id': '596bad87c3a3684c6100249c', 'department': 'Sound', 'gender': 2, 'id': 11166, 'job': 'Orchestrator', 'name': 'William Ross', 'profile_path': None}, {'credit_id': '596bada19251413b200022d7', 'department': 'Sound', 'gender': 0, 'id': 55227, 'job': 'Production Sound Mixer', 'name': 'William B. Kaplan', 'profile_path': None}, {'credit_id': '596baddb9251413b240025bd', 'department': 'Visual Effects', 'gender': 0, 'id': 1852654, 'job': '24 Frame Playback', 'name': 'Mark Marcum', 'profile_path': None}, {'credit_id': '596badefc3a3684c2c0026d3', 'department': 'Visual Effects', 'gender': 0, 'id': 1762503, 'job': '3D Artist', 'name': 'Timothy Wilcox', 'profile_path': None}, {'credit_id': '596bae0fc3a3684c02002540', 'department': 'Visual Effects', 'gender': 0, 'id': 11300, 'job': 'Digital Compositors', 'name': 'Tim Alexander', 'profile_path': None}, {'credit_id': '596bae529251413b2000238a', 'department': 'Visual Effects', 'gender': 0, 'id': 1591776, 'job': 'Visual Effects Coordinator', 'name': 'Theresa Corrao', 'profile_path': None}, {'credit_id': '596bae91c3a3684c500026b8', 'department': 'Writing', 'gender': 0, 'id': 1737230, 'job': 'Storyboard', 'name': 'Darryl Henley', 'profile_path': None}, {'credit_id': '596baf3ec3a3684c73002732', 'department': 'Crew', 'gender': 0, 'id': 42277, 'job': 'Visual Effects Art Director', 'name': 'Martin A. Kline', 'profile_path': None}, {'credit_id': '596baf649251413b6e00256a', 'department': 'Editing', 'gender': 2, 'id': 1061, 'job': 'Additional Editing', 'name': 'Harry Keramidas', 'profile_path': None}, {'credit_id': '596baf819251413b6000254a', 'department': 'Visual Effects', 'gender': 0, 'id': 1852656, 'job': 'Mechanical Designer', 'name': 'Jeff Deyoe', 'profile_path': None}, {'credit_id': '596baf919251413b1c002628', 'department': 'Production', 'gender': 0, 'id': 1617346, 'job': 'Unit Manager', 'name': 'Nannette Rosa Collazo', 'profile_path': None}]    1\n",
       "[{'credit_id': '5762f0fec3a3684b6700003c', 'department': 'Production', 'gender': 1, 'id': 3686, 'job': 'Casting', 'name': 'Johanna Ray', 'profile_path': None}, {'credit_id': '5762f16f9251415b8300004e', 'department': 'Production', 'gender': 2, 'id': 322, 'job': 'Producer', 'name': 'Steve Golin', 'profile_path': None}, {'credit_id': '5762f0e49251415b92000044', 'department': 'Sound', 'gender': 2, 'id': 1400, 'job': 'Original Music Composer', 'name': 'Wojciech Kilar', 'profile_path': None}, {'credit_id': '5762f15bc3a3684b7d00005d', 'department': 'Production', 'gender': 0, 'id': 6589, 'job': 'Producer', 'name': 'Monty Montgomery', 'profile_path': None}, {'credit_id': '5762f0ecc3a3684b6000002d', 'department': 'Camera', 'gender': 2, 'id': 7262, 'job': 'Director of Photography', 'name': 'Stuart Dryburgh', 'profile_path': None}, {'credit_id': '52fe46089251416c91046c67', 'department': 'Directing', 'gender': 1, 'id': 10757, 'job': 'Director', 'name': 'Jane Campion', 'profile_path': '/4Bx7nrotQmiGB80ynUvPDPoiJCe.jpg'}, {'credit_id': '5762f0f69251415b8f000038', 'department': 'Editing', 'gender': 0, 'id': 10762, 'job': 'Editor', 'name': 'Veronika Jenet', 'profile_path': None}, {'credit_id': '5762f127c3a3684b6b00003e', 'department': 'Art', 'gender': 2, 'id': 11456, 'job': 'Supervising Art Director', 'name': 'Martin Childs', 'profile_path': None}, {'credit_id': '5467894deaeb8118b20003c9', 'department': 'Writing', 'gender': 2, 'id': 39013, 'job': 'Novel', 'name': 'Henry James', 'profile_path': '/xR2YUBp0saT4Ss4uRHNWtpBfNnG.jpg'}, {'credit_id': '5762f12ec3a3684b8700003e', 'department': 'Art', 'gender': 2, 'id': 49345, 'job': 'Art Direction', 'name': 'Mark Raggett', 'profile_path': None}, {'credit_id': '5467893e22136e1e0e0003cc', 'department': 'Writing', 'gender': 1, 'id': 65035, 'job': 'Screenplay', 'name': 'Laura Jones', 'profile_path': None}, {'credit_id': '5762f1489251415b8b00004b', 'department': 'Production', 'gender': 2, 'id': 75478, 'job': 'Associate Producer', 'name': 'Mark Turnbull', 'profile_path': None}, {'credit_id': '5762f11dc3a3684b67000047', 'department': 'Art', 'gender': 0, 'id': 75479, 'job': 'Production Design', 'name': 'Janet Patterson', 'profile_path': None}, {'credit_id': '5762f135c3a3684b6b000042', 'department': 'Costume & Make-Up', 'gender': 0, 'id': 75479, 'job': 'Costume Design', 'name': 'Janet Patterson', 'profile_path': None}, {'credit_id': '5762f13fc3a3684b7d00004f', 'department': 'Production', 'gender': 1, 'id': 141569, 'job': 'Co-Producer', 'name': 'Ann Wingate', 'profile_path': None}, {'credit_id': '5762f1689251415b9400004d', 'department': 'Production', 'gender': 0, 'id': 1213180, 'job': 'Associate Producer', 'name': 'Ute Leonhardt', 'profile_path': None}, {'credit_id': '5762f150c3a3684b87000043', 'department': 'Production', 'gender': 0, 'id': 1636929, 'job': 'Associate Producer', 'name': 'Heidrun Resh√∂ft', 'profile_path': None}]                                                                                                                                                                                                                                                                                                                                                                                                                                                                                                                                                                                                                                                                                                                                                                                                                                                                                                                                                                                                                                                                                                                                                                                                                                                                                                                                                                                                                                                                                                                                                                                                                                                                                                                                                                                                                                                                                                                                                                                                                                                                                                                                                                                                                                                                                                                                                                                                                                                                                                                                                                                                                                                                                                                                                                                                                                                                                                                                                                                                                                                                                                                                                                                                                                                                                                                                                                                                                                                                                                                                                                                                                                                                                                                                                                                                                                                                                                                                                                                                                                                                                                                                                                                                                                                                                                                                                                                                                                                                                                                                                                                                                                                                                                                                                                                                                                                                                                                                                                                                                                                                                                                                                                                                                                                                                                                                                                                                                                                                                                                                                                                                                                                                                                                                                                                                                                                                                                                                                                                                                                                                                                                                                                                                                                                                                                                                                                                                                                                                                                                                                                                                                                                                                                                                                                                                                                                                                                                                                                                                                                                                                                                                                                                                                                                                                                                                                                                                                                                                                                                                                                                                                                                                                                                                                                                                                                                                                                                                                                                                                                                                                                                                                                                                                                                                                                                                                                                                                                                                                                                                                                                                                                                                                                                                                                                                                                                                                                                                                                                                                                                                                                                                                                                                                                                                                                                                                                                                                                                                                                                                                                                                                                                                                                                                                                                                                                                                                                                                                                                                                                                                                                                                                                                                                                                                                                                                                                                                                                                                                                                                                                                                                                                                                                                                                                                                                                                                                                                                                                                                                                                                                                                                                                                                                                                                                                                                                                                                                                                                                                                                                                                                                                                                                                                                                                                                                                                                                                                                                                                                                                                                                                                                                                                                                                                                                                                                                                                                                                                                                                                                                                                                                                                                                                                                                                                                                                                                                                                                                                                                                                                                                                                                                                                                                                                                                                                                                                                                                                                                                                                                                                                                                                                                                                                                                                                                                                                                                                                                                                                                                                                                                                                                                                                                                                                                                                                                                                                                                                                                                                                                                                                                                                                                                                                                                                                                                                                                                                                                                                                                                                                                                                                                                                                                                                                                                                                                                                                                                                                                                                                                                                                                                                                                                                                                                                                                                                                                                                                                                                                                                                                                                                                                                                                                                                                                                                                                                                                                                                                                                                                                                                                                                                                                                                                                                                                                                                                                                                                                                                                                                                                                                                                                                                                                                                                                                                                                                                                                                                                                                                                                                                                                                                                                                                                                                                                                                                                                                                                                                                                                                                                                                                                                                                                                                                                                                                                                                                                                                                                                                                                                                                                                                                                                                                                                                                                                                                                                                                                                                                                                                                                                                                                                                                                                                                                                                                                                                                                                                                                                                                                                                                                                                                                                                                                                                                                                                                                                                                                                                                                                                                                                                                                                                                                                                                                                                                                                                                                                                                                                                                                                                                                                                                                                                                                                                                                                                                                                                                                                                                                                                                                                                                                                                                                                                                                                                                                                                                                                                                                                                                                                                                                                                                                                                                                                                                                                                                                                                                                                                                                                                                                                                                                                                                                                                                                                                                                                                                                                                                                                                                                                                                                                                                                                                                                                                                                                                                                                                                                                                                                                                                                                                                                                                                                                                                                                                                                                                                                                                                                                                                                                                                                                                                                                                                                                                                                                                                                                                                                                                                                                                                                                                                                                                                                                                                                                                                                                                                                                                                                                                                                                                                                                                                                                                                                                                                                                                                                                                                                                                                                                                                                                                                                                                                                                                                                                                                                                                                                                                                                                                                                                                                                                                                                                                                                                                                                                                                                                                                                                                                                                                                                                                                                                                                                                                                                                                                                                                                                                                                                                                                                                                                                                                                                                                                                                                                                                                                                                                                                                                                                                                                                                                                                                                                                                                                                                                                                                                                                                                                                                                                                                                                                                                                                                                                                                                                                                                                                                                                                                                                                                                                                                                                  1\n",
       "[{'credit_id': '5705344ac3a3680f3d0002d4', 'department': 'Crew', 'gender': 2, 'id': 3644, 'job': 'Stunts', 'name': 'Dean Smith', 'profile_path': None}, {'credit_id': '52fe4234c3a36847f800c10f', 'department': 'Sound', 'gender': 2, 'id': 4082, 'job': 'Original Music Composer', 'name': 'Dimitri Tiomkin', 'profile_path': None}, {'credit_id': '52fe4234c3a36847f800c0ad', 'department': 'Writing', 'gender': 0, 'id': 4296, 'job': 'Author', 'name': 'B.H. McCampbell', 'profile_path': None}, {'credit_id': '52fe4234c3a36847f800c0b3', 'department': 'Writing', 'gender': 2, 'id': 4297, 'job': 'Screenplay', 'name': 'Jules Furthman', 'profile_path': None}, {'credit_id': '52fe4234c3a36847f800c0b9', 'department': 'Writing', 'gender': 1, 'id': 4298, 'job': 'Screenplay', 'name': 'Leigh Brackett', 'profile_path': None}, {'credit_id': '52fe4234c3a36847f800c0e7', 'department': 'Camera', 'gender': 2, 'id': 4308, 'job': 'Director of Photography', 'name': 'Russell Harlan', 'profile_path': '/yDYlBTYPEMARI8sKwPjnleqQvFL.jpg'}, {'credit_id': '52fe4234c3a36847f800c0ed', 'department': 'Editing', 'gender': 2, 'id': 4309, 'job': 'Editor', 'name': 'Folmar Blangsted', 'profile_path': None}, {'credit_id': '52fe4234c3a36847f800c0f3', 'department': 'Art', 'gender': 2, 'id': 4311, 'job': 'Set Decoration', 'name': 'Ralph S. Hurst', 'profile_path': None}, {'credit_id': '52fe4234c3a36847f800c0f9', 'department': 'Costume & Make-Up', 'gender': 1, 'id': 4312, 'job': 'Costume Design', 'name': 'Marjorie Best', 'profile_path': None}, {'credit_id': '52fe4234c3a36847f800c0ff', 'department': 'Costume & Make-Up', 'gender': 2, 'id': 4313, 'job': 'Makeup Artist', 'name': 'Gordon Bau', 'profile_path': None}, {'credit_id': '52fe4234c3a36847f800c105', 'department': 'Sound', 'gender': 2, 'id': 4315, 'job': 'Sound Designer', 'name': 'Robert B. Lee', 'profile_path': None}, {'credit_id': '52fe4234c3a36847f800c11b', 'department': 'Directing', 'gender': 0, 'id': 11435, 'job': 'Director', 'name': 'Howard Hawks', 'profile_path': '/yekSHa7JRzGMg0M7X4HP530GeyV.jpg'}, {'credit_id': '52fe4234c3a36847f800c115', 'department': 'Production', 'gender': 0, 'id': 11435, 'job': 'Producer', 'name': 'Howard Hawks', 'profile_path': '/yekSHa7JRzGMg0M7X4HP530GeyV.jpg'}, {'credit_id': '57045c4dc3a368698500143f', 'department': 'Sound', 'gender': 0, 'id': 34228, 'job': 'Orchestrator', 'name': 'George Parrish', 'profile_path': None}, {'credit_id': '57045b749251415bb9001313', 'department': 'Crew', 'gender': 2, 'id': 88979, 'job': 'Stunt Coordinator', 'name': 'Yakima Canutt', 'profile_path': '/8cLKXYJymj4753C2XzoINfaJllv.jpg'}, {'credit_id': '5703f9aac3a368696f000212', 'department': 'Directing', 'gender': 2, 'id': 95744, 'job': 'Assistant Director', 'name': 'Paul Helmick', 'profile_path': None}, {'credit_id': '52fe4234c3a36847f800c121', 'department': 'Art', 'gender': 0, 'id': 1077688, 'job': 'Art Direction', 'name': 'Leo K. Kuter', 'profile_path': None}, {'credit_id': '5703f9c7c3a36869770002a6', 'department': 'Crew', 'gender': 0, 'id': 1344749, 'job': 'Stunts', 'name': 'Jack N. Young', 'profile_path': None}, {'credit_id': '57045bcf9251415bb20012b5', 'department': 'Camera', 'gender': 0, 'id': 1435312, 'job': 'First Assistant Camera', 'name': 'Terry K. Meade', 'profile_path': None}, {'credit_id': '57045c1c9251415f27000443', 'department': 'Sound', 'gender': 0, 'id': 1531943, 'job': 'Orchestrator', 'name': 'Maurice De Packh', 'profile_path': None}]                                                                                                                                                                                                                                                                                                                                                                                                                                                                                                                                                                                                                                                                                                                                                                                                                                                                                                                                                                                                                                                                                                                                                                                                                                                                                                                                                                                                                                                                                                                                                                                                                                                                                                                                                                                                                                                                                                                                                                                                                                                                                                                                                                                                                                                                                                                                                                                                                                                                                                                                                                                                                                                                                                                                                                                                                                                                                                                                                                                                                                                                                                                                                                                                                                                                                                                                                                                                                                                                                                                                                                                                                                                                                                                                                                                                                                                                                                                                                                                                                                                                                                                                                                                                                                                                                                                                                                                                                                                                                                                                                                                                                                                                                                                                                                                                                                                                                                                                                                                                                                                                                                                                                                                                                                                                                                                                                                                                                                                                                                                                                                                                                                                                                                                                                                                                                                                                                                                                                                                                                                                                                                                                                                                                                                                                                                                                                                                                                                                                                                                                                                                                                                                                                                                                                                                                                                                                                                                                                                                                                                                                                                                                                                                                                                                                                                                                                                                                                                                                                                                                                                                                                                                                                                                                                                                                                                                                                                                                                                                                                                                                                                                                                                                                                                                                                                                                                                                                                                                                                                                                                                                                                                                                                                                                                                                                                                                                                                                                                                                                                                                                                                                                                                                                                                                                                                                                                                                                                                                                                                                                                                                                                                                                                                                                                                                                                                                                                                                                                                                                                                                                                                                                                                                                                                                                                                                                                                                                                                                                                                                                                                                                                                                                                                                                                                                                                                                                                                                                                                                                                                                                                                                                                                                                                                                                                                                                                                                                                                                                                                                                                                                                                                                                                                                                                                                                                                                                                                                                                                                                                                                                                                                                                                                                                                                                                                                                                                                                                                                                                                                                                                                                                                                                                                                                                                                                                                                                                                                                                                                                                                                                                                                                                                                                                                                                                                                                                                                                                                                                                                                                                                                                                                                                                                                                                                                                                                                                                                                                                                                                                                                                                                                                                                                                                                                                                                                                                                                                                                                                                                                                                                                                                                                                                                                                                                                                                                                                                                                                                                                                                                                                                                                                                                                                                                                                                                                                                                                                                                                                                                                                                                                                                                                                                                                                                                                                                                                                                                                                                                                                                                                                                                                                                                                                                                                                                                                                                                                                                                                                                                                                                                                                                                                                                                                                                                                                                                                                                                                                                                                                                                                                                                                                                                                                                                                                                                                                                                                                                                                                                                                                                                                                                                                                                                                                                                                                                                                                                                                                                                                                                                                                                                                                                                                                                                                                                                                                                                                                                                                                                                                                                                                                                                                                                                                                                                                                                                                                                                                                                                                                                                                                                                                                                                                                                                                                                                                                                                                                                                                                                                                                                                                                                                                                                                                                                                                                                                                                                                                                                                                                                                                                                                                                                                                                                                                                                                                                                                                                                                                                                                                                                                                                                                                                                                                                                                                                                                                                                                                                                                                                                                                                                                                                                                                                                                                                                                                                                                                                                                                                                                                                                                                                                                                                                                                                                                                                                                                                                                                                                                                                                                                                                                                                                                                                                                                                                                                                                                                                                                                                                                                                                                                                                                                                                                                                                                                                                                                                                                                                                                                                                                                                                                                                                                                                                                                                                                                                                                                                                                                                                                                                                                                                                                                                                                                                                                                                                                                                                                                                                                                                                                                                                                                                                                                                                                                                                                                                                                                                                                                                                                                                                                                                                                                                                                                                                                                                                                                                                                                                                                                                                                                                                                                                                                                                                                                                                                                                                                                                                                                                                                                                                                                                                                                                                                                                                                                                                                                                                                                                                                                                                                                                                                                                                                                                                                                                                                                                                                                                                                                                                                                                                                                                                                                                                                                                                                                                                                                                                                                                                                                                                                                                                                                                                                                                                                                                                                                                                                                                                                                                                                                                                      1\n",
       "[{'credit_id': '52fe44b89251416c9101a7d7', 'department': 'Directing', 'gender': 2, 'id': 1788, 'job': 'Director', 'name': 'Nicholas Meyer', 'profile_path': '/942wEyuJVs1K0rGN2Q0ug2Yi7GE.jpg'}, {'credit_id': '52fe44b89251416c9101a7dd', 'department': 'Writing', 'gender': 2, 'id': 1788, 'job': 'Writer', 'name': 'Nicholas Meyer', 'profile_path': '/942wEyuJVs1K0rGN2Q0ug2Yi7GE.jpg'}]                                                                                                                                                                                                                                                                                                                                                                                                                                                                                                                                                                                                                                                                                                                                                                                                                                                                                                                                                                                                                                                                                                                                                                                                                                                                                                                                                                                                                                                                                                                                                                                                                                                                                                                                                                                                                                                                                                                                                                                                                                                                                                                                                                                                                                                                                                                                                                                                                                                                                                                                                                                                                                                                                                                                                                                                                                                                                                                                                                                                                                                                                                                                                                                                                                                                                                                                                                                                                                                                                                                                                                                                                                                                                                                                                                                                                                                                                                                                                                                                                                                                                                                                                                                                                                                                                                                                                                                                                                                                                                                                                                                                                                                                                                                                                                                                                                                                                                                                                                                                                                                                                                                                                                                                                                                                                                                                                                                                                                                                                                                                                                                                                                                                                                                                                                                                                                                                                                                                                                                                                                                                                                                                                                                                                                                                                                                                                                                                                                                                                                                                                                                                                                                                                                                                                                                                                                                                                                                                                                                                                                                                                                                                                                                                                                                                                                                                                                                                                                                                                                                                                                                                                                                                                                                                                                                                                                                                                                                                                                                                                                                                                                                                                                                                                                                                                                                                                                                                                                                                                                                                                                                                                                                                                                                                                                                                                                                                                                                                                                                                                                                                                                                                                                                                                                                                                                                                                                                                                                                                                                                                                                                                                                                                                                                                                                                                                                                                                                                                                                                                                                                                                                                                                                                                                                                                                                                                                                                                                                                                                                                                                                                                                                                                                                                                                                                                                                                                                                                                                                                                                                                                                                                                                                                                                                                                                                                                                                                                                                                                                                                                                                                                                                                                                                                                                                                                                                                                                                                                                                                                                                                                                                                                                                                                                                                                                                                                                                                                                                                                                                                                                                                                                                                                                                                                                                                                                                                                                                                                                                                                                                                                                                                                                                                                                                                                                                                                                                                                                                                                                                                                                                                                                                                                                                                                                                                                                                                                                                                                                                                                                                                                                                                                                                                                                                                                                                                                                                                                                                                                                                                                                                                                                                                                                                                                                                                                                                                                                                                                                                                                                                                                                                                                                                                                                                                                                                                                                                                                                                                                                                                                                                                                                                                                                                                                                                                                                                                                                                                                                                                                                                                                                                                                                                                                                                                                                                                                                                                                                                                                                                                                                                                                                                                                                                                                                                                                                                                                                                                                                                                                                                                                                                                                                                                                                                                                                                                                                                                                                                                                                                                                                                                                                                                                                                                                                                                                                                                                                                                                                                                                                                                                                                                                                                                                                                                                                                                                                                                                                                                                                                                                                                                                                                                                                                                                                                                                                                                                                                                                                                                                                                                                                                                                                                                                                                                                                                                                                                                                                                                                                                                                                                                                                                                                                                                                                                                                                                                                                                                                                                                                                                                                                                                                                                                                                                                                                                                                                                                                                                                                                                                                                                                                                                                                                                                                                                                                                                                                                                                                                                                                                                                                                                                                                                                                                                                                                                                                                                                                                                                                                                                                                                                                                                                                                                                                                                                                                                                                                                                                                                                                                                                                                                                                                                                                                                                                                                                                                                                                                                                                                                                                                                                                                                                                                                                                                                                                                                                                                                                                                                                                                                                                                                                                                                                                                                                                                                                                                                                                                                                                                                                                                                                                                                                                                                                                                                                                                                                                                                                                                                                                                                                                                                                                                                                                                                                                                                                                                                                                                                                                                                                                                                                                                                                                                                                                                                                                                                                                                                                                                                                                                                                                                                                                                                                                                                                                                                                                                                                                                                                                                                                                                                                                                                                                                                                                                                                                                                                                                                                                                                                                                                                                                                                                                                                                                                                                                                                                                                                                                                                                                                                                                                                                                                                                                                                                                                                                                                                                                                                                                                                                                                                                                                                                                                                                                                                                                                                                                                                                                                                                                                                                                                                                                                                                                                                                                                                                                                                                                                                                                                                                                                                                                                                                                                                                                                                                                                                                                                                                                                                                                                                                                                                                                                                                                                                                                                                                                                                                                                                                                                                                                                                                                                                                                                                                                                                                                                                                                                                                                                                                                                                                                                                                                                                                                                                                                                                                                                                                                                                                                                                                                                                                                                                                                                                                                                                                                                                                                                                                                                                                                                                                                                                                                                                                                                                    1\n",
       "[{'credit_id': '581ece0c9251410a110155e0', 'department': 'Production', 'gender': 0, 'id': 10877, 'job': 'Producer', 'name': 'Alexandre Mallet-Guy', 'profile_path': None}, {'credit_id': '5686bd09c3a368607501f3d9', 'department': 'Directing', 'gender': 2, 'id': 229931, 'job': 'Director', 'name': 'Asghar Farhadi', 'profile_path': '/lvWXK3yhFE2lVZAc16fxGTT9sVW.jpg'}, {'credit_id': '581ece05c3a368576a000008', 'department': 'Production', 'gender': 2, 'id': 229931, 'job': 'Producer', 'name': 'Asghar Farhadi', 'profile_path': '/lvWXK3yhFE2lVZAc16fxGTT9sVW.jpg'}, {'credit_id': '5686bd1f92514132db01e000', 'department': 'Writing', 'gender': 2, 'id': 229931, 'job': 'Writer', 'name': 'Asghar Farhadi', 'profile_path': '/lvWXK3yhFE2lVZAc16fxGTT9sVW.jpg'}, {'credit_id': '581ece2dc3a368548e0000cd', 'department': 'Art', 'gender': 2, 'id': 1083060, 'job': 'Art Direction', 'name': 'Keyvan Moghaddam', 'profile_path': None}, {'credit_id': '581ece18c3a36856ed000036', 'department': 'Sound', 'gender': 2, 'id': 1083064, 'job': 'Original Music Composer', 'name': 'Sattar Oraki', 'profile_path': None}, {'credit_id': '581ece27925141204900003e', 'department': 'Editing', 'gender': 2, 'id': 1083065, 'job': 'Editor', 'name': 'Hayedeh Safiyari', 'profile_path': None}, {'credit_id': '581ecf0092514121e2000047', 'department': 'Costume & Make-Up', 'gender': 0, 'id': 1141700, 'job': 'Makeup Artist', 'name': 'Mehrdad Mirkiani', 'profile_path': None}, {'credit_id': '58ce64219251415a8b01fe18', 'department': 'Sound', 'gender': 0, 'id': 1141702, 'job': 'Sound Designer', 'name': 'Mohammad Reza Delpak', 'profile_path': None}, {'credit_id': '581ece129251410a110155e8', 'department': 'Production', 'gender': 0, 'id': 1451497, 'job': 'Co-Producer', 'name': 'Olivier P√®re', 'profile_path': None}, {'credit_id': '58ce6434c3a36850d701dd0e', 'department': 'Sound', 'gender': 0, 'id': 1532374, 'job': 'Sound Editor', 'name': 'Reza Narimizadeh', 'profile_path': None}, {'credit_id': '581ece219251410a110155f2', 'department': 'Camera', 'gender': 0, 'id': 1534556, 'job': 'Director of Photography', 'name': 'Hossein Jafarian', 'profile_path': None}, {'credit_id': '581ece33c3a368548e0000d2', 'department': 'Costume & Make-Up', 'gender': 0, 'id': 1704817, 'job': 'Costume Design', 'name': 'Sara Samiee', 'profile_path': None}, {'credit_id': '581ecf0ac3a368572a0000b6', 'department': 'Production', 'gender': 0, 'id': 1704818, 'job': 'Production Manager', 'name': 'Hasan Mostafavi', 'profile_path': None}, {'credit_id': '58ce63d9c3a368510401e1bf', 'department': 'Camera', 'gender': 0, 'id': 1727735, 'job': 'Still Photographer', 'name': 'Habib Majidi', 'profile_path': None}, {'credit_id': '58ce637c9251415a3d02063b', 'department': 'Art', 'gender': 2, 'id': 1779672, 'job': 'Assistant Art Director', 'name': 'Edris Azizi', 'profile_path': None}, {'credit_id': '58ce63a5c3a36850c001ba36', 'department': 'Visual Effects', 'gender': 0, 'id': 1779674, 'job': 'Visual Effects Supervisor', 'name': 'Javad Matoori', 'profile_path': None}, {'credit_id': '58ce63c79251415a3d020670', 'department': 'Camera', 'gender': 0, 'id': 1779675, 'job': 'Camera Operator', 'name': 'Payman Shadmanfar', 'profile_path': None}, {'credit_id': '58ce63f29251415a61020fdd', 'department': 'Directing', 'gender': 0, 'id': 1779676, 'job': 'Script Supervisor', 'name': 'Parisa Gorgen', 'profile_path': None}, {'credit_id': '58ce64079251415a8b01fe04', 'department': 'Crew', 'gender': 0, 'id': 1779677, 'job': 'Unit Publicist', 'name': 'Samin Mohajerani', 'profile_path': None}]                                                                                                                                                                                                                                                                                                                                                                                                                                                                                                                                                                                                                                                                                                                                                                                                                                                                                                                                                                                                                                                                                                                                                                                                                                                                                                                                                                                                                                                                                                                                                                                                                                                                                                                                                                                                                                                                                                                                                                                                                                                                                                                                                                                                                                                                                                                                                                                                                                                                                                                                                                                                                                                                                                                                                                                                                                                                                                                                                                                                                                                                                                                                                                                                                                                                                                                                                                                                                                                                                                                                                                                                                                                                                                                                                                                                                                                                                                                                                                                                                                                                                                                                                                                                                                                                                                                                                                                                                                                                                                                                                                                                                                                                                                                                                                                                                                                                                                                                                                                                                                                                                                                                                                                                                                                                                                                                                                                                                                                                                                                                                                                                                                                                                                                                                                                                                                                                                                                                                                                                                                                                                                                                                                                                                                                                                                                                                                                                                                                                                                                                                                                                                                                                                                                                                                                                                                                                                                                                                                                                                                                                                                                                                                                                                                                                                                                                                                                                                                                                                                                                                                                                                                                                                                                                                                                                                                                                                                                                                                                                                                                                                                                                                                                                                                                                                                                                                                                                                                                                                                                                                                                                                                                                                                                                                                                                                                                                                                                                                                                                                                                                                                                                                                                                                                                                                                                                                                                                                                                                                                                                                                                                                                                                                                                                                                                                                                                                                                                                                                                                                                                                                                                                                                                                                                                                                                                                                                                                                                                                                                                                                                                                                                                                                                                                                                                                                                                                                                                                                                                                                                                                                                                                                                                                                                                                                                                                                                                                                                                                                                                                                                                                                                                                                                                                                                                                                                                                                                                                                                                                                                                                                                                                                                                                                                                                                                                                                                                                                                                                                                                                                                                                                                                                                                                                                                                                                                                                                                                                                                                                                                                                                                                                                                                                                                                                                                                                                                                                                                                                                                                                                                                                                                                                                                                                                                                                                                                                                                                                                                                                                                                                                                                                                                                                                                                                                                                                                                                                                                                                                                                                                                                                                                                                                                                                                                                                                                                                                                                                                                                                                                                                                                                                                                                                                                                                                                                                                                                                                                                                                                                                                                                                                                                                                                                                                                                                                                                                                                                                                                                                                                                                                                                                                                                                                                                                                                                                                                                                                                                                                                                                                                                                                                                                                                                                                                                                                                                                                                                                                                                                                                                                                                                                                                                                                                                                                                                                                                                                                                                                                                                                                                                                                                                                                                                                                                                                                                                                                                                                                                                                                                                                                                                                                                                                                                                                                                                                                                                                                                                                                                                                                                                                                                                                                                                                                                                                                                                                                                                                                                                                                                                                                                                                                                                                                                                                                                                                                                                                                                                                                                                                                                                                                                                                                                                                                                                                                                                                                                                                                                                                                                                                                                                                                                                                                                                                                                                                                                                                                                                                                                                                                                                                                                                                                                                                                                                                                                                                                                                                                                                                                                                                                                                                                                                                                                                                                                                                                                                                                                                                                                                                                                                                                                                                                                                                                                                                                                                                                                                                                                                                                                                                                                                                                                                                                                                                                                                                                                                                                                                                                                                                                                                                                                                                                                                                                                                                                                                                                                                                                                                                                                                                                                                                                                                                                                                                                                                                                                                                                                                                                                                                                                                                                                                                                                                                                                                                                                                                                                                                                                                                                                                                                                                                                                                                                                                                                                                                                                                                                                                                                                                                                                                                                                                                                                                                                                                                                                                                                                                                                                                                                                                                                                                                                                                                                                                                                                                                                                                                                                                                                                                                                                                                                                                                                                                                                                                                                                                                                                                                                                                                                                                                                                                                                                                                                                                                                                                                                                                                                                                                                                                                                                                                                                                                                                                                                                                                                                                                                                                                                                                                                                                                                                                                                                                                                                                                                                                                                                                                                                                         1\n",
       "                                                                                                                                                                                                                                                                                                                                                                                                                                                                                                                                                                                                                                                                                                                                                                                                                                                                                                                                                                                                                                                                                                                                                                                                                                                                                                                                                                                                                                                                                                                                                                                                                                                                                                                                                                                                                                                                                                                                                                                                                                                                                                                                                                                                                                                                                                                                                                                                                                                                                                                                                                                                                                                                                                                                                                                                                                                                                                                                                                                                                                                                                                                                                                                                                                                                                                                                                                                                                                                                                                                                                                                                                                                                                                                                                                                                                                                                                                                                                                                                                                                                                                                                                                                                                                                                                                                                                                                                                                                                                                                                                                                                                                                                                                                                                                                                                                                                                                                                                                                                                                                                                                                                                                                                                                                                                                                                                                                                                                                                                                                                                                                                                                                                                                                                                                                                                                                                                                                                                                                                                                                                                                                                                                                                                                                                                                                                                                                                                                                                                                                                                                                                                                                                                                                                                                                                                                                                                                                                                                                                                                                                                                                                                                                                                                                                                                                                                                                                                                                                                                                                                                                                                                                                                                                                                                                                                                                                                                                                                                                                                                                                                                                                                                                                                                                                                                                                                                                                                                                                                                                                                                                                                                                                                                                                                                                                                                                                                                                                                                                                                                                                                                                                                                                                                                                                                                                                                                                                                                                                                                                                                                                                                                                                                                                                                                                                                                                                                                                                                                                                                                                                                                                                                                                                                                                                                                                                                                                                                                                                                                                                                                                                                                                                                                                                                                                                                                                                                                                                                                                                                                                                                                                                                                                                                                                                                                                                                                                                                                                                                                                                                                                                                                                                                                                                                                                                                                                                                                                                                                                                                                                                                                                                                                                                                                                                                                                                                                                                                                                                                                                                                                                                                                                                                                                                                                                                                                                                                                                                                                                                                                                                                                                                                                                                                                                                                                                                                                                                                                                                                                                                                                                                                                                                                                                                                                                                                                                                                                                                                                                                                                                                                                                                                                                                                                                                                                                                                                                                                                                                                                                                                                                                                                                                                                                                                                                                                                                                                                                                                                                                                                                                                                                                                                                                                                                                                                                                                                                                                                                                                                                                                                                                                                                                                                                                                                                                                                                                                                                                                                                                                                                                                                                                                                                                                                                                                                                                                                                                                                                                                                                                                                                                                                                                                                                                                                                                                                                                                                                                                                                                                                                                                                                                                                                                                                                                                                                                                                                                                                                                                                                                                                                                                                                                                                                                                                                                                                                                                                                                                                                                                                                                                                                                                                                                                                                                                                                                                                                                                                                                                                                                                                                                                                                                                                                                                                                                                                                                                                                                                                                                                                                                                                                                                                                                                                                                                                                                                                                                                                                                                                                                                                                                                                                                                                                                                                                                                                                                                                                                                                                                                                                                                                                                                                                                                                                                                                                                                                                                                                                                                                                                                                                                                                                                                                                                                                                                                                                                                                                                                                                                                                                                                                                                                                                                                                                                                                                                                                                                                                                                                                                                                                                                                                                                                                                                                                                                                                                                                                                                                                                                                                                                                                                                                                                                                                                                                                                                                                                                                                                                                                                                                                                                                                                                                                                                                                                                                                                                                                                                                                                                                                                                                                                                                                                                                                                                                                                                                                                                                                                                                                                                                                                                                                                                                                                                                                                                                                                                                                                                                                                                                                                                                                                                                                                                                                                                                                                                                                                                                                                                                                                                                                                                                                                                                                                                                                                                                                                                                                                                                                                                                                                                                                                                                                                                                                                                                                                                                                                                                                                                                                                                                                                                                                                                                                                                                                                                                                                                                                                                                                                                                                                                                                                                                                                                                                                                                                                                                                                                                                                                                                                                                                                                                                                                                                                                                                                                                                                                                                                                                                                                                                                                                                                                                                                                                                                                                                                                                                                                                                                                                                                                                                                                                                                                                                                                                                                                                                                                                                                                                                                                                                                                                                                                                                                                                                                                                                                                                                                                                                                                                                                                                                                                                                                                                                                                                                                                                                                                                                                                                                                                                                                                                                                                                                                                                                                                                                                                                                                                                                                                                                                                                                                                                                                                                                                                                                                                                                                                                                                                                                                                                                                                                                                                                                                                                                                                                                                                                                                                                                                                                                                                                                                                                                                                                                                                                                                                                                                                                                                                                                                                                                                                                                               ..\n",
       "[{'credit_id': '54bf25349251413635008b9e', 'department': 'Directing', 'gender': 2, 'id': 588822, 'job': 'Director', 'name': 'Radu Jude', 'profile_path': '/aRVYVYQvKBXKI7zIkaoN3vaU2uu.jpg'}, {'credit_id': '54e07945c3a368537a0049c5', 'department': 'Writing', 'gender': 0, 'id': 1315263, 'job': 'Screenplay', 'name': 'Florin Lazarescu', 'profile_path': None}, {'credit_id': '54e07951925141027c004ba2', 'department': 'Writing', 'gender': 2, 'id': 588822, 'job': 'Screenplay', 'name': 'Radu Jude', 'profile_path': '/aRVYVYQvKBXKI7zIkaoN3vaU2uu.jpg'}, {'credit_id': '54e0795dc3a3684551005a07', 'department': 'Production', 'gender': 0, 'id': 1425608, 'job': 'Producer', 'name': 'Jiri Konecny', 'profile_path': None}, {'credit_id': '54e07967c3a3684551005a0a', 'department': 'Production', 'gender': 0, 'id': 1427387, 'job': 'Producer', 'name': 'Elie Meirovitz', 'profile_path': None}, {'credit_id': '54e07972c3a36857560033ad', 'department': 'Production', 'gender': 0, 'id': 60407, 'job': 'Producer', 'name': 'Ada Solomon', 'profile_path': None}, {'credit_id': '54e0797c925141027c004ba6', 'department': 'Production', 'gender': 0, 'id': 1427389, 'job': 'Producer', 'name': 'Rossitsa Valkanova', 'profile_path': None}, {'credit_id': '54e07987c3a3685446004354', 'department': 'Camera', 'gender': 2, 'id': 931382, 'job': 'Director of Photography', 'name': 'Marius Panduru', 'profile_path': None}, {'credit_id': '54fee71c9251410e51001504', 'department': 'Costume & Make-Up', 'gender': 0, 'id': 1437663, 'job': 'Costume Design', 'name': 'Dana Paparuz', 'profile_path': None}, {'credit_id': '54fee73a9251417893001293', 'department': 'Art', 'gender': 0, 'id': 1389453, 'job': 'Production Design', 'name': 'Augustina Stanciu', 'profile_path': None}, {'credit_id': '54fee74cc3a36810a4001769', 'department': 'Editing', 'gender': 0, 'id': 1437664, 'job': 'Editor', 'name': 'Catalin Cristutiu', 'profile_path': None}, {'credit_id': '54fee782c3a368109800159c', 'department': 'Production', 'gender': 0, 'id': 1437665, 'job': 'Casting', 'name': 'Viorica Capdefier', 'profile_path': None}]                                                                                                                                                                                                                                                                                                                                                                                                                                                                                                                                                                                                                                                                                                                                                                                                                                                                                                                                                                                                                                                                                                                                                                                                                                                                                                                                                                                                                                                                                                                                                                                                                                                                                                                                                                                                                                                                                                                                                                                                                                                                                                                                                                                                                                                                                                                                                                                                                                                                                                                                                                                                                                                                                                                                                                                                                                                                                                                                                                                                                                                                                                                                                                                                                                                                                                                                                                                                                                                                                                                                                                                                                                                                                                                                                                                                                                                                                                                                                                                                                                                                                                                                                                                                                                                                                                                                                                                                                                                                                                                                                                                                                                                                                                                                                                                                                                                                                                                                                                                                                                                                                                                                                                                                                                                                                                                                                                                                                                                                                                                                                                                                                                                                                                                                                                                                                                                                                                                                                                                                                                                                                                                                                                                                                                                                                                                                                                                                                                                                                                                                                                                                                                                                                                                                                                                                                                                                                                                                                                                                                                                                                                                                                                                                                                                                                                                                                                                                                                                                                                                                                                                                                                                                                                                                                                                                                                                                                                                                                                                                                                                                                                                                                                                                                                                                                                                                                                                                                                                                                                                                                                                                                                                                                                                                                                                                                                                                                                                                                                                                                                                                                                                                                                                                                                                                                                                                                                                                                                                                                                                                                                                                                                                                                                                                                                                                                                                                                                                                                                                                                                                                                                                                                                                                                                                                                                                                                                                                                                                                                                                                                                                                                                                                                                                                                                                                                                                                                                                                                                                                                                                                                                                                                                                                                                                                                                                                                                                                                                                                                                                                                                                                                                                                                                                                                                                                                                                                                                                                                                                                                                                                                                                                                                                                                                                                                                                                                                                                                                                                                                                                                                                                                                                                                                                                                                                                                                                                                                                                                                                                                                                                                                                                                                                                                                                                                                                                                                                                                                                                                                                                                                                                                                                                                                                                                                                                                                                                                                                                                                                                                                                                                                                                                                                                                                                                                                                                                                                                                                                                                                                                                                                                                                                                                                                                                                                                                                                                                                                                                                                                                                                                                                                                                                                                                                                                                                                                                                                                                                                                                                                                                                                                                                                                                                                                                                                                                                                                                                                                                                                                                                                                                                                                                                                                                                                                                                                                                                                                                                                                                                                                                                                                                                                                                                                                                                                                                                                                                                                                                                                                                                                                                                                                                                                                                                                                                                                                                                                                                                                                                                                                                                                                                                                                                                                                                                                                                                                                                                                                                                                                                                                                                                                                                                                                                                                                                                                                                                                                                                                                                                                                                                                                                                                                                                                                                                                                                                                                                                                                                                                                                                                                                                                                                                                                                                                                                                                                                                                                                                                                                                                                                                                                                                                                                                                                                                                                                                                                                                                                                                                                                                                                                                                                                                                                                                                                                                                                                                                                                                                                                                                                                                                                                                                                                                                                                                                                                                                                                                                                                                                                                                                                                                                                                                                                                                                                                                                                                                                                                                                                                                                                                                                                                                                                                                                                                                                                                                                                                                                                                                                                                                                                                                                                                                                                                                                                                                                                                                                                                                                                                                                                                                                                                                                                                                                                                                                                                                                                                                                                                                                                                                                                                                                                                                                                                                                                                                                                                                                                                                                                                                                                                                                                                                                                                                                                                                                                                                                                                                                                                                                                                                                                                                                                                                                                                                                                                                                                                                                                                                                                                                                                                                                                                                                                                                                                                                                                                                                                                                                                                                                                                                                                                                                                                                                                                                                                                                                                                                                                                                                                                                                                                                                                                                                                                                                                                                                                                                                                                                                                                                                                                                                                                                                                                                                                                                                                                                                                                                                                                                                                                                                                                                                                                                                                                                                                                                                                                                                                                                                                                                                                                                                                                                                                                                                                                                                                                                                                                                                                                                                                                                                                                                                                                                                                                                                                                                                                                                                                                                                                                                                                                                                                                                                                                                                                                                                                                                                                                                                                                                                                                                                                                                                                                                                                                                                                                                                                                                                                                                                                                                  1\n",
       "[{'credit_id': '52fe450ec3a36847f80b9ca1', 'department': 'Production', 'gender': 2, 'id': 1090, 'job': 'Producer', 'name': 'John McTiernan', 'profile_path': '/tknmquMIO2oAVUZ0vVX78ALHyaT.jpg'}, {'credit_id': '52fe450ec3a36847f80b9ca7', 'department': 'Writing', 'gender': 2, 'id': 1108, 'job': 'Screenplay', 'name': 'Shane Black', 'profile_path': '/lEyKmYizNVNLsOEgeaPFwX9MZoA.jpg'}, {'credit_id': '52fe450ec3a36847f80b9cad', 'department': 'Writing', 'gender': 2, 'id': 57910, 'job': 'Screenplay', 'name': 'David Arnott', 'profile_path': '/aupiOm5Rvii1g7l22dJidFglhiK.jpg'}, {'credit_id': '52fe450ec3a36847f80b9cb3', 'department': 'Production', 'gender': 2, 'id': 40437, 'job': 'Producer', 'name': 'Stephen J. Roth', 'profile_path': None}, {'credit_id': '52fe450ec3a36847f80b9cb9', 'department': 'Production', 'gender': 2, 'id': 1100, 'job': 'Executive Producer', 'name': 'Arnold Schwarzenegger', 'profile_path': '/sOkCXc9xuSr6v7mdAq9LwEBje68.jpg'}, {'credit_id': '52fe450ec3a36847f80b9cbf', 'department': 'Sound', 'gender': 2, 'id': 7714, 'job': 'Original Music Composer', 'name': 'Michael Kamen', 'profile_path': '/y83bqw1VP1PkuvOhG2XROwc9eXG.jpg'}, {'credit_id': '52fe450ec3a36847f80b9cc5', 'department': 'Camera', 'gender': 2, 'id': 4501, 'job': 'Director of Photography', 'name': 'Dean Semler', 'profile_path': '/AnqGebF9LTL5mkertSBIegQvlB7.jpg'}, {'credit_id': '52fe450ec3a36847f80b9ccb', 'department': 'Editing', 'gender': 2, 'id': 3985, 'job': 'Editor', 'name': 'Richard A. Harris', 'profile_path': None}, {'credit_id': '52fe450ec3a36847f80b9cd1', 'department': 'Editing', 'gender': 2, 'id': 8752, 'job': 'Editor', 'name': 'John Wright', 'profile_path': None}, {'credit_id': '52fe450ec3a36847f80b9cd7', 'department': 'Directing', 'gender': 2, 'id': 1090, 'job': 'Director', 'name': 'John McTiernan', 'profile_path': '/tknmquMIO2oAVUZ0vVX78ALHyaT.jpg'}, {'credit_id': '552d71d2c3a3686be200029a', 'department': 'Production', 'gender': 0, 'id': 1395352, 'job': 'Production Manager', 'name': 'Craig Sost', 'profile_path': None}, {'credit_id': '557ddbad9251410a3d0002c2', 'department': 'Writing', 'gender': 2, 'id': 11011, 'job': 'Story', 'name': 'Zak Penn', 'profile_path': '/tPwOS2wk8FFoWpXnDYK77bKcuWB.jpg'}, {'credit_id': '557ddbb9c3a36821ab0002ec', 'department': 'Writing', 'gender': 0, 'id': 57872, 'job': 'Story', 'name': 'Adam Leff', 'profile_path': None}, {'credit_id': '557ddbdec3a36821930003a6', 'department': 'Production', 'gender': 0, 'id': 1411706, 'job': 'Associate Producer', 'name': 'Robert H. Lemer', 'profile_path': None}, {'credit_id': '557ddbe99251410a2c00027b', 'department': 'Production', 'gender': 0, 'id': 1477267, 'job': 'Co-Producer', 'name': 'Neal Nordlinger', 'profile_path': None}, {'credit_id': '557ddbf4c3a36821b00002a2', 'department': 'Production', 'gender': 2, 'id': 14055, 'job': 'Co-Producer', 'name': 'Robert E. Relyea', 'profile_path': None}, {'credit_id': '557ddc0c9251410a2f0002b9', 'department': 'Production', 'gender': 1, 'id': 2874, 'job': 'Casting', 'name': 'Janet Hirshenson', 'profile_path': None}, {'credit_id': '557ddc189251410a2a0002a9', 'department': 'Production', 'gender': 1, 'id': 3275, 'job': 'Casting', 'name': 'Jane Jenkins', 'profile_path': '/aVOlC6UkKaxZpzvpdRxCjkMtJHI.jpg'}, {'credit_id': '59a08ccbc3a36847f6019081', 'department': 'Art', 'gender': 2, 'id': 961533, 'job': 'Production Design', 'name': 'Eugenio Zanetti', 'profile_path': None}, {'credit_id': '59a08cf7c3a368481e0198ee', 'department': 'Art', 'gender': 0, 'id': 25748, 'job': 'Art Direction', 'name': 'Marek Dobrowolski', 'profile_path': None}, {'credit_id': '59a08d11c3a36847e5018977', 'department': 'Art', 'gender': 2, 'id': 1226, 'job': 'Art Direction', 'name': 'Rick Heinrichs', 'profile_path': None}, {'credit_id': '59a08e2b9251417793019e99', 'department': 'Art', 'gender': 1, 'id': 11079, 'job': 'Set Decoration', 'name': 'Cindy Carr', 'profile_path': '/vSTmvvf9X00fufN6zFBwgOxIPF1.jpg'}, {'credit_id': '59a08e47925141779f0196e3', 'department': 'Costume & Make-Up', 'gender': 1, 'id': 9255, 'job': 'Costume Design', 'name': 'Gloria Gresham', 'profile_path': None}, {'credit_id': '59a08ebf9251417781019590', 'department': 'Art', 'gender': 2, 'id': 961534, 'job': 'Assistant Art Director', 'name': 'Jim Dultz', 'profile_path': None}, {'credit_id': '59a08edb9251417793019f59', 'department': 'Art', 'gender': 0, 'id': 1378162, 'job': 'Construction Coordinator', 'name': 'Stacey S. McIntosh', 'profile_path': None}, {'credit_id': '59a08ef1c3a36847f60192a2', 'department': 'Art', 'gender': 0, 'id': 1435578, 'job': 'Construction Foreman', 'name': 'Walt Hadfield', 'profile_path': None}, {'credit_id': '59a08f07925141779a019d1b', 'department': 'Art', 'gender': 0, 'id': 1877101, 'job': 'Greensman', 'name': 'Randy Martens', 'profile_path': None}, {'credit_id': '59a08f13c3a36847d4018925', 'department': 'Art', 'gender': 2, 'id': 18458, 'job': 'Leadman', 'name': 'Jon Danniells', 'profile_path': None}, {'credit_id': '59a08f2ec3a36847e5018b97', 'department': 'Art', 'gender': 0, 'id': 1877102, 'job': 'Painter', 'name': 'Sharon Barnebey', 'profile_path': None}, {'credit_id': '59a08f459251417793019fd0', 'department': 'Art', 'gender': 2, 'id': 21701, 'job': 'Production Illustrator', 'name': 'Mauro Borrelli', 'profile_path': None}, {'credit_id': '59a08f9e925141774b01a872', 'department': 'Art', 'gender': 2, 'id': 1423834, 'job': 'Sculptor', 'name': 'Joe Colwell', 'profile_path': None}, {'credit_id': '59a08fbdc3a36847d40189c1', 'department': 'Art', 'gender': 2, 'id': 1855155, 'job': 'Set Designer', 'name': 'Peter J. Kelly', 'profile_path': None}, {'credit_id': '59a08fd2925141779301a068', 'department': 'Art', 'gender': 0, 'id': 1877103, 'job': 'Standby Painter', 'name': 'William Girod', 'profile_path': None}, {'credit_id': '59a08fe3c3a36847f6019399', 'department': 'Camera', 'gender': 0, 'id': 1704939, 'job': 'Camera Operator', 'name': 'Douglas Ryan', 'profile_path': None}, {'credit_id': '59a08ffc925141779301a097', 'department': 'Camera', 'gender': 0, 'id': 1551226, 'job': 'First Assistant Camera', 'name': 'Lee Blasingame', 'profile_path': None}, {'credit_id': '59a09018c3a368481e019c6a', 'department': 'Camera', 'gender': 0, 'id': 1741629, 'job': 'Key Grip', 'name': \"William 'Bear' Paul\", 'profile_path': None}, {'credit_id': '59a0903a925141778101973c', 'department': 'Camera', 'gender': 0, 'id': 1770873, 'job': 'Grip', 'name': 'Doug Cowden', 'profile_path': None}, {'credit_id': '59a09051925141779a019ea5', 'department': 'Camera', 'gender': 0, 'id': 1391130, 'job': 'Steadicam Operator', 'name': \"Mark O'Kane\", 'profile_path': None}, {'credit_id': '59a09065c3a36847e5018d1c', 'department': 'Camera', 'gender': 0, 'id': 1400082, 'job': 'Still Photographer', 'name': 'Zade Rosenthal', 'profile_path': None}, {'credit_id': '59a09080c3a36847d4018a9a', 'department': 'Costume & Make-Up', 'gender': 0, 'id': 1411166, 'job': 'Hairstylist', 'name': 'Peter Tothpal', 'profile_path': None}, {'credit_id': '59a0909ec3a368481e019d2e', 'department': 'Costume & Make-Up', 'gender': 0, 'id': 1877104, 'job': 'Key Hair Stylist', 'name': 'Robert Chiu', 'profile_path': None}, {'credit_id': '59a090b1c3a368478f018d0f', 'department': 'Costume & Make-Up', 'gender': 0, 'id': 1338146, 'job': 'Makeup Artist', 'name': 'Natalie Wood', 'profile_path': None}, {'credit_id': '59a09100925141779a019f96', 'department': 'Costume & Make-Up', 'gender': 0, 'id': 1877107, 'job': 'Set Costumer', 'name': 'James Roberts', 'profile_path': None}, {'credit_id': '59a09131925141774f019658', 'department': 'Costume & Make-Up', 'gender': 0, 'id': 83072, 'job': 'Set Dressing Artist', 'name': 'P. Scott Bailey', 'profile_path': None}, {'credit_id': '59a09186c3a368478f018e10', 'department': 'Crew', 'gender': 0, 'id': 1646230, 'job': 'Armorer', 'name': 'Harry Lu', 'profile_path': None}, {'credit_id': '59a091dc925141775b019c71', 'department': 'Crew', 'gender': 0, 'id': 1355527, 'job': 'Carpenter', 'name': 'Doug Crawford', 'profile_path': None}, {'credit_id': '59a091f9c3a368480e0189b2', 'department': 'Crew', 'gender': 0, 'id': 1701247, 'job': 'Craft Service', 'name': 'Michael G. Kehoe', 'profile_path': None}, {'credit_id': '59a09212c3a368478f018eb4', 'department': 'Crew', 'gender': 0, 'id': 1403192, 'job': 'Digital Effects Supervisor', 'name': 'Laurel Klick', 'profile_path': None}, {'credit_id': '59a09225c3a36847f6019660', 'department': 'Crew', 'gender': 0, 'id': 1877112, 'job': 'Driver', 'name': 'Carol Autenrieth', 'profile_path': None}, {'credit_id': '59a09234c3a368480e018a11', 'department': 'Crew', 'gender': 0, 'id': 1803767, 'job': 'Loader', 'name': 'Larissa Supplitt', 'profile_path': None}, {'credit_id': '59a092f9c3a36847d4018daf', 'department': 'Crew', 'gender': 2, 'id': 1579709, 'job': 'Post Production Supervisor', 'name': 'Michael Sweeney', 'profile_path': None}, {'credit_id': '59a09313c3a36847c501b56b', 'department': 'Production', 'gender': 1, 'id': 1002581, 'job': 'Production Office Coordinator', 'name': 'Katherine Kennedy', 'profile_path': None}, {'credit_id': '59a09325925141775b019e15', 'department': 'Crew', 'gender': 0, 'id': 1877115, 'job': 'Propmaker', 'name': 'Daniel W. Blaha', 'profile_path': None}, {'credit_id': '59a0933b925141774b01ad12', 'department': 'Art', 'gender': 0, 'id': 1410345, 'job': 'Property Master', 'name': 'Tommy Tomlinson', 'profile_path': None}, {'credit_id': '59a0980e9251417781019ff5', 'department': 'Crew', 'gender': 0, 'id': 1586929, 'job': 'Scenic Artist', 'name': 'Michael Denering', 'profile_path': None}, {'credit_id': '59a09823c3a368480e018feb', 'department': 'Crew', 'gender': 2, 'id': 956222, 'job': 'Second Unit Cinematographer', 'name': 'Fred Waugh', 'profile_path': None}, {'credit_id': '59a09835c3a3684830019b6c', 'department': 'Crew', 'gender': 2, 'id': 208403, 'job': 'Set Medic', 'name': 'Jeffrey D. Stevens', 'profile_path': None}, {'credit_id': '59a0984dc3a36847f6019c8b', 'department': 'Crew', 'gender': 0, 'id': 1877133, 'job': 'Set Production Assistant', 'name': 'Charles Montoya', 'profile_path': None}, {'credit_id': '59a09864925141779a01a7df', 'department': 'Crew', 'gender': 0, 'id': 13457, 'job': 'Special Effects Coordinator', 'name': 'Thomas L. Fisher', 'profile_path': None}, {'credit_id': '59a09877c3a368481e01a5c3', 'department': 'Crew', 'gender': 0, 'id': 1503891, 'job': 'Stand In', 'name': 'Dieter Rauter', 'profile_path': None}, {'credit_id': '59a09895c3a368480e019051', 'department': 'Crew', 'gender': 2, 'id': 15358, 'job': 'Stunt Coordinator', 'name': 'Vic Armstrong', 'profile_path': None}, {'credit_id': '59a098b0c3a36847e50195d2', 'department': 'Crew', 'gender': 0, 'id': 1485666, 'job': 'Stunts', 'name': 'Gregory J. Barnett', 'profile_path': None}, {'credit_id': '59a098d1925141774b01b291', 'department': 'Crew', 'gender': 0, 'id': 1877138, 'job': 'Telecine Colorist', 'name': 'Scot Deer', 'profile_path': None}, {'credit_id': '59a09923925141779a01a88c', 'department': 'Crew', 'gender': 0, 'id': 1877139, 'job': 'Transportation Captain', 'name': 'Donald R. Casella', 'profile_path': None}, {'credit_id': '59a09933925141779f01a2a8', 'department': 'Crew', 'gender': 0, 'id': 1877140, 'job': 'Transportation Co-Captain', 'name': 'John Hager', 'profile_path': None}, {'credit_id': '59a09941925141774b01b2fb', 'department': 'Production', 'gender': 2, 'id': 950637, 'job': 'Unit Production Manager', 'name': 'William C. Gerrity', 'profile_path': None}, {'credit_id': '59a09953c3a3684830019c70', 'department': 'Crew', 'gender': 0, 'id': 1877142, 'job': 'Unit Publicist', 'name': 'Rebecca Bennett', 'profile_path': None}, {'credit_id': '59a0995fc3a36847d4019413', 'department': 'Crew', 'gender': 0, 'id': 1538365, 'job': 'Utility Stunts', 'name': 'Anthony G. Schmidt', 'profile_path': None}, {'credit_id': '59a09973c3a368480e019118', 'department': 'Crew', 'gender': 0, 'id': 1877143, 'job': 'Video Assist Operator', 'name': 'Douglas A. Degrazzio', 'profile_path': None}, {'credit_id': '59a09982c3a36847f6019dca', 'department': 'Crew', 'gender': 0, 'id': 1379396, 'job': 'Visual Effects Editor', 'name': 'Miller Drake', 'profile_path': None}, {'credit_id': '59a0999ac3a36847d4019459', 'department': 'Directing', 'gender': 2, 'id': 5015, 'job': 'Assistant Director', 'name': 'Brian W. Cook', 'profile_path': None}, {'credit_id': '59a099ad92514177a701a369', 'department': 'Sound', 'gender': 0, 'id': 3430, 'job': 'Dialogue Editor', 'name': 'Clayton Collins', 'profile_path': None}, {'credit_id': '59a099c1925141779f01a328', 'department': 'Lighting', 'gender': 0, 'id': 1877145, 'job': 'Best Boy Electric', 'name': 'Peter John Petraglia', 'profile_path': None}, {'credit_id': '59a099ce925141778101a1af', 'department': 'Lighting', 'gender': 0, 'id': 1400559, 'job': 'Electrician', 'name': 'David Bartholomew', 'profile_path': None}, {'credit_id': '59a099dfc3a368480e019174', 'department': 'Lighting', 'gender': 0, 'id': 1877146, 'job': 'Gaffer', 'name': 'Andrea Sachs', 'profile_path': None}, {'credit_id': '59a099f5925141779a01a940', 'department': 'Lighting', 'gender': 0, 'id': 1550801, 'job': 'Rigging Grip', 'name': 'Billy Kerwick', 'profile_path': None}, {'credit_id': '59a09a09c3a368481e01a759', 'department': 'Production', 'gender': 0, 'id': 1411706, 'job': 'Location Manager', 'name': 'Robert H. Lemer', 'profile_path': None}, {'credit_id': '59a09a27c3a36847f6019e77', 'department': 'Production', 'gender': 0, 'id': 1877147, 'job': 'Production Accountant', 'name': 'Diane Bandolas', 'profile_path': None}, {'credit_id': '59a09a3b925141779a01a985', 'department': 'Production', 'gender': 0, 'id': 1684385, 'job': 'Production Coordinator', 'name': 'Susan Dukow', 'profile_path': None}, {'credit_id': '59a09a70c3a368478f01970d', 'department': 'Sound', 'gender': 2, 'id': 3991, 'job': 'Boom Operator', 'name': 'Nicholas R. Allen', 'profile_path': None}, {'credit_id': '59a09a84c3a3684830019d88', 'department': 'Sound', 'gender': 0, 'id': 1778009, 'job': 'Assistant Sound Editor', 'name': 'Catherine Calleson', 'profile_path': None}, {'credit_id': '59a09a96925141775b01a5f0', 'department': 'Sound', 'gender': 0, 'id': 1546873, 'job': 'Foley Editor', 'name': 'Linda Folk', 'profile_path': None}, {'credit_id': '59a09aa9c3a36847d401957e', 'department': 'Sound', 'gender': 2, 'id': 1458533, 'job': 'Music Editor', 'name': 'Christopher Brooks', 'profile_path': None}, {'credit_id': '59a09abdc3a36847f6019f04', 'department': 'Sound', 'gender': 0, 'id': 1376311, 'job': 'Orchestrator', 'name': 'Lolita Ritmanis', 'profile_path': None}, {'credit_id': '59a09ad592514177a701a48c', 'department': 'Sound', 'gender': 0, 'id': 1545540, 'job': 'Production Sound Mixer', 'name': 'Lee Orloff', 'profile_path': None}, {'credit_id': '59a09b0092514177a701a4ad', 'department': 'Sound', 'gender': 0, 'id': 1408311, 'job': 'Sound Effects Editor', 'name': 'David A. Arnold', 'profile_path': None}, {'credit_id': '59a09b2292514177a701a4cd', 'department': 'Sound', 'gender': 2, 'id': 1391387, 'job': 'Supervising Sound Editor', 'name': 'Jerry Ross', 'profile_path': None}, {'credit_id': '59a09b3ac3a368478f0197ba', 'department': 'Sound', 'gender': 0, 'id': 1390524, 'job': 'Supervising Sound Effects Editor', 'name': 'Jay Wilkinson', 'profile_path': None}, {'credit_id': '59a09b52925141774f01a09a', 'department': 'Visual Effects', 'gender': 0, 'id': 1551515, 'job': '3D Animator', 'name': 'Gray Marshall', 'profile_path': None}, {'credit_id': '59a09b66925141774f01a0ab', 'department': 'Visual Effects', 'gender': 0, 'id': 1672567, 'job': 'Animation Supervisor', 'name': 'Jane Baer', 'profile_path': None}, {'credit_id': '59a09b7fc3a3684830019e73', 'department': 'Visual Effects', 'gender': 0, 'id': 1360108, 'job': 'Digital Compositors', 'name': 'Don Lee', 'profile_path': None}, {'credit_id': '59a09b9ac3a368480e019303', 'department': 'Visual Effects', 'gender': 0, 'id': 1877149, 'job': 'I/O Supervisor', 'name': 'Linda Renaud', 'profile_path': None}, {'credit_id': '59a09bb4c3a36847e5019855', 'department': 'Visual Effects', 'gender': 0, 'id': 1877150, 'job': 'Visual Effects Coordinator', 'name': 'Suzanne Pastor', 'profile_path': None}, {'credit_id': '59a09bd7c3a368480e019333', 'department': 'Visual Effects', 'gender': 0, 'id': 1412705, 'job': 'Visual Effects Producer', 'name': 'Tricia Henry Ashford', 'profile_path': None}, {'credit_id': '59a09bed925141775b01a746', 'department': 'Visual Effects', 'gender': 0, 'id': 15849, 'job': 'Visual Effects Supervisor', 'name': 'Neil Krepela', 'profile_path': None}, {'credit_id': '59a09c03925141779a01ab15', 'department': 'Crew', 'gender': 0, 'id': 1753783, 'job': 'Studio Teachers', 'name': 'Pia Mehr', 'profile_path': None}, {'credit_id': '59a09c19925141775b01a786', 'department': 'Editing', 'gender': 0, 'id': 17886, 'job': 'Additional Editing', 'name': 'Robert K. Lambert', 'profile_path': None}]                                                                                                                                                                                                                                                                                                                                                                                                                                                                                                                                                                                                                                                                                                                                                                                                                                                                                                                                                                                                                                                                                                                                                                                                                                                                                                                                                                                                                                                                                                                                                                                                                                                                                                                                                                                                                                                                                                                                                                                                                                                                                                                                                                                                                                                                                                                                                                                                                                                                                                                                                                                                                                                                                                                                                                                                                                                                                                                                                                                                                                                                                                                                                                                                                                                                                                                                                                                                                                                                                                                                                                                                                                                                                                                                                                                                                                                                                                                                                                                                                                                                                                                                                                                                                                                                                                                                                                                                                                                                                                                                                                                                                                                                                                                                                                                                                                                                                                                                                                                                                                                                                                                                                                                                                                                                                                                                                                                                                                                                                                                                                                                                                                                                                                                                                                                                                                                                                                                                                                                                                                                                                                                                                                                                                                                                                                                                                                                                                                                                                                                                                                                                                                                                                                                                                                                                                                                                                                                                                                                                                                                                                                                                                                                                                                                                                                                                                                                                                                                                                                                                                                                                                                                                                                                                                                                                                                                                                                                                                                                                                                                                                                                                                                                                                                                                                                                                                                                                                                                                                                                                                                                                                                                                                                                                                                                                                                                                                                                                                                                                                                                                                                                                                                                                                                                                                                                                                                                                                                                                                                                                                                                                                                                                                                                                                                                                                                                                                                                                                                                                                                                                                                                                                                                                                                                                                                                                                                                                                                                                                                                                                                                                                                                                                                                                                                                                                                                                                                                                                                                                                                                                                                                                                                                                                                                                                                                                                                                                                                                                                                                                                                                                                                                                                                                                                                                                                                                                                                                                                                                                                                                                                                                                                                                                                                                                                                                                                                                                                                                                                                                                                                                                                                                                                                                                                                                                                                                                                                                                                                                                                                                                                                                                                                                                                                                                                                                                                                                                                                                                                                                                                                                                                                                                                               1\n",
       "[{'credit_id': '52fe45219251416c9102886f', 'department': 'Directing', 'gender': 2, 'id': 44916, 'job': 'Director', 'name': 'Stanley Tong', 'profile_path': '/sG4jGodAJpyymBEEODAc0D09bBG.jpg'}, {'credit_id': '52fe45219251416c91028875', 'department': 'Writing', 'gender': 0, 'id': 46318, 'job': 'Writer', 'name': 'Edward Tang', 'profile_path': None}, {'credit_id': '52fe45219251416c9102887b', 'department': 'Writing', 'gender': 0, 'id': 46319, 'job': 'Writer', 'name': 'Fibe Ma', 'profile_path': None}, {'credit_id': '57e146d392514104530063d9', 'department': 'Production', 'gender': 0, 'id': 46321, 'job': 'Producer', 'name': 'Barbie Tung', 'profile_path': None}]                                                                                                                                                                                                                                                                                                                                                                                                                                                                                                                                                                                                                                                                                                                                                                                                                                                                                                                                                                                                                                                                                                                                                                                                                                                                                                                                                                                                                                                                                                                                                                                                                                                                                                                                                                                                                                                                                                                                                                                                                                                                                                                                                                                                                                                                                                                                                                                                                                                                                                                                                                                                                                                                                                                                                                                                                                                                                                                                                                                                                                                                                                                                                                                                                                                                                                                                                                                                                                                                                                                                                                                                                                                                                                                                                                                                                                                                                                                                                                                                                                                                                                                                                                                                                                                                                                                                                                                                                                                                                                                                                                                                                                                                                                                                                                                                                                                                                                                                                                                                                                                                                                                                                                                                                                                                                                                                                                                                                                                                                                                                                                                                                                                                                                                                                                                                                                                                                                                                                                                                                                                                                                                                                                                                                                                                                                                                                                                                                                                                                                                                                                                                                                                                                                                                                                                                                                                                                                                                                                                                                                                                                                                                                                                                                                                                                                                                                                                                                                                                                                                                                                                                                                                                                                                                                                                                                                                                                                                                                                                                                                                                                                                                                                                                                                                                                                                                                                                                                                                                                                                                                                                                                                                                                                                                                                                                                                                                                                                                                                                                                                                                                                                                                                                                                                                                                                                                                                                                                                                                                                                                                                                                                                                                                                                                                                                                                                                                                                                                                                                                                                                                                                                                                                                                                                                                                                                                                                                                                                                                                                                                                                                                                                                                                                                                                                                                                                                                                                                                                                                                                                                                                                                                                                                                                                                                                                                                                                                                                                                                                                                                                                                                                                                                                                                                                                                                                                                                                                                                                                                                                                                                                                                                                                                                                                                                                                                                                                                                                                                                                                                                                                                                                                                                                                                                                                                                                                                                                                                                                                                                                                                                                                                                                                                                                                                                                                                                                                                                                                                                                                                                                                                                                                                                                                                                                                                                                                                                                                                                                                                                                                                                                                                                                                                                                                                                                                                                                                                                                                                                                                                                                                                                                                                                                                                                                                                                                                                                                                                                                                                                                                                                                                                                                                                                                                                                                                                                                                                                                                                                                                                                                                                                                                                                                                                                                                                                                                                                                                                                                                                                                                                                                                                                                                                                                                                                                                                                                                                                                                                                                                                                                                                                                                                                                                                                                                                                                                                                                                                                                                                                                                                                                                                                                                                                                                                                                                                                                                                                                                                                                                                                                                                                                                                                                                                                                                                                                                                                                                                                                                                                                                                                                                                                                                                                                                                                                                                                                                                                                                                                                                                                                                                                                                                                                                                                                                                                                                                                                                                                                                                                                                                                                                                                                                                                                                                                                                                                                                                                                                                                                                                                                                                                                                                                                                                                                                                                                                                                                                                                                                                                                                                                                                                                                                                                                                                                                                                                                                                                                                                                                                                                                                                                                                                                                                                                                                                                                                                                                                                                                                                                                                                                                                                                                                                                                                                                                                                                                                                                                                                                                                                                                                                                                                                                                                                                                                                                                                                                                                                                                                                                                                                                                                                                                                                                                                                                                                                                                                                                                                                                                                                                                                                                                                                                                                                                                                                                                                                                                                                                                                                                                                                                                                                                                                                                                                                                                                                                                                                                                                                                                                                                                                                                                                                                                                                                                                                                                                                                                                                                                                                                                                                                                                                                                                                                                                                                                                                                                                                                                                                                                                                                                                                                                                                                                                                                                                                                                                                                                                                                                                                                                                                                                                                                                                                                                                                                                                                                                                                                                                                                                                                                                                                                                                                                                                                                                                                                                                                                                                                                                                                                                                                                                                                                                                                                                                                                                                                                                                                                                                                                                                                                                                                                                                                                                                                                                                                                                                                                                                                                                                                                                                                                                                                                                                                                                                                                                                                                                                                                                                                                                                                                                                                                                                                                                                                                                                                                                                                                                                                                                                                                                                                                                                                                                                                                                                                                                                                                                                                                                                                                                                                                                                                                                                                                                                                                                                                                                                                                                                                                                                                                                                                                                                                                                                                                                                                                                                                                                                                                                                                                                                                                                                                                                                                                                                                                                                                                                                                                                                                                                                                                                                                                                                                                                                                                                                                                                                                                                                                                                            1\n",
       "[{'credit_id': '52fe4f0ac3a36847f82b919b', 'department': 'Directing', 'gender': 2, 'id': 71872, 'job': 'Director', 'name': 'Jeff Nichols', 'profile_path': '/btNKCdChsG2sUQY2Pedijhm5A1I.jpg'}, {'credit_id': '52fe4f0ac3a36847f82b91a1', 'department': 'Writing', 'gender': 2, 'id': 71872, 'job': 'Screenplay', 'name': 'Jeff Nichols', 'profile_path': '/btNKCdChsG2sUQY2Pedijhm5A1I.jpg'}, {'credit_id': '52fe4f0ac3a36847f82b91a7', 'department': 'Production', 'gender': 1, 'id': 16398, 'job': 'Producer', 'name': 'Sarah Green', 'profile_path': None}, {'credit_id': '52fe4f0ac3a36847f82b91ad', 'department': 'Production', 'gender': 0, 'id': 999763, 'job': 'Producer', 'name': 'Brian Kavanaugh-Jones', 'profile_path': None}, {'credit_id': '5526dcad9251417678000712', 'department': 'Editing', 'gender': 1, 'id': 53645, 'job': 'Editor', 'name': 'Julie Monroe', 'profile_path': None}, {'credit_id': '5723e62e9251417c00000763', 'department': 'Art', 'gender': 2, 'id': 19663, 'job': 'Art Direction', 'name': 'Austin Gorg', 'profile_path': None}, {'credit_id': '5723e66c92514155c3000ad0', 'department': 'Art', 'gender': 2, 'id': 984533, 'job': 'Set Decoration', 'name': 'Adam Willis', 'profile_path': None}, {'credit_id': '5723e69592514122a9001073', 'department': 'Production', 'gender': 1, 'id': 6410, 'job': 'Casting', 'name': 'Francine Maisler', 'profile_path': '/7kOKhRSuwDXqyd2Dm2xdWdi18lQ.jpg'}, {'credit_id': '57125d7fc3a368537800acbe', 'department': 'Crew', 'gender': 0, 'id': 1407019, 'job': 'Visual Effects Editor', 'name': 'Mark Edward Wright', 'profile_path': None}, {'credit_id': '5723e60492514155c3000ac6', 'department': 'Crew', 'gender': 2, 'id': 1406839, 'job': 'Stunt Coordinator', 'name': 'Scott Rogers', 'profile_path': None}, {'credit_id': '5723e61b92514122a9001061', 'department': 'Camera', 'gender': 2, 'id': 71880, 'job': 'Director of Photography', 'name': 'Adam Stone', 'profile_path': None}, {'credit_id': '5723e638925141529300003a', 'department': 'Art', 'gender': 0, 'id': 928074, 'job': 'Production Design', 'name': 'Chad Keith', 'profile_path': None}, {'credit_id': '5723e64492514122a9001065', 'department': 'Costume & Make-Up', 'gender': 1, 'id': 1193620, 'job': 'Costume Design', 'name': 'Erin Benach', 'profile_path': '/azMHWW1hW3tvl89yQevxmopWVsT.jpg'}, {'credit_id': '576fd0a392514179360066f5', 'department': 'Art', 'gender': 0, 'id': 1612808, 'job': 'Art Department Coordinator', 'name': 'Venessa De Anda', 'profile_path': None}, {'credit_id': '576fd0cb925141765700130c', 'department': 'Art', 'gender': 0, 'id': 1027140, 'job': 'Assistant Art Director', 'name': 'Jonathan Guggenheim', 'profile_path': None}, {'credit_id': '576fd0f2c3a3682dc5001257', 'department': 'Production', 'gender': 0, 'id': 1337656, 'job': 'Casting', 'name': 'Meagan Lewis', 'profile_path': None}, {'credit_id': '576fd10bc3a36809d6005f3e', 'department': 'Production', 'gender': 0, 'id': 1641656, 'job': 'Casting Associate', 'name': 'Rachel Jacob', 'profile_path': None}, {'credit_id': '576fd14dc3a3680a7900604c', 'department': 'Production', 'gender': 0, 'id': 1641657, 'job': 'Casting Associate', 'name': 'Kate Evans', 'profile_path': None}, {'credit_id': '576fd174c3a3680bda006068', 'department': 'Costume & Make-Up', 'gender': 0, 'id': 1493522, 'job': 'Assistant Costume Designer', 'name': 'Lindsay McKay', 'profile_path': None}, {'credit_id': '576fd18b92514177420013f1', 'department': 'Costume & Make-Up', 'gender': 0, 'id': 1326407, 'job': 'Costume Supervisor', 'name': 'Jonny Pray', 'profile_path': None}, {'credit_id': '576fd1ad92514176d30012f8', 'department': 'Directing', 'gender': 0, 'id': 1396984, 'job': 'Script Supervisor', 'name': 'Jean-Paul Chreky', 'profile_path': None}, {'credit_id': '576fd1d3c3a3682ecb001542', 'department': 'Sound', 'gender': 0, 'id': 1389624, 'job': 'Music Editor', 'name': 'Jay B. Richardson', 'profile_path': None}, {'credit_id': '576fd21092514176e6001451', 'department': 'Camera', 'gender': 0, 'id': 1641658, 'job': 'Camera Operator', 'name': 'Kenneth Neil Moore', 'profile_path': None}, {'credit_id': '576fd22592514177350013c4', 'department': 'Camera', 'gender': 0, 'id': 1399071, 'job': 'Helicopter Camera', 'name': 'Hans Bjerno', 'profile_path': '/tzeE3ATzHWyEQH32GYeGuSgr1xz.jpg'}, {'credit_id': '576fd23cc3a3682ecb001573', 'department': 'Camera', 'gender': 0, 'id': 1565123, 'job': 'Steadicam Operator', 'name': 'Matthew A. Petrosky', 'profile_path': None}, {'credit_id': '576fd251c3a3682dc500130c', 'department': 'Camera', 'gender': 2, 'id': 1391729, 'job': 'Still Photographer', 'name': 'Ben Rothstein', 'profile_path': None}, {'credit_id': '576fd288c3a3680bda0060fb', 'department': 'Lighting', 'gender': 0, 'id': 1641659, 'job': 'Gaffer', 'name': 'Michael Roy', 'profile_path': None}, {'credit_id': '576fd2dcc3a36809d6006003', 'department': 'Visual Effects', 'gender': 0, 'id': 1641660, 'job': 'Animation', 'name': 'Caroline Labrie', 'profile_path': None}, {'credit_id': '576fd2f8c3a3680a79006135', 'department': 'Crew', 'gender': 0, 'id': 1434565, 'job': 'CG Supervisor', 'name': 'Joel Sevilla', 'profile_path': None}, {'credit_id': '576fd317925141190f005e6f', 'department': 'Visual Effects', 'gender': 0, 'id': 1632006, 'job': 'Visual Effects Coordinator', 'name': 'CJ Cole', 'profile_path': None}, {'credit_id': '576fd33e925141793600685c', 'department': 'Visual Effects', 'gender': 0, 'id': 1350252, 'job': 'Visual Effects Producer', 'name': 'Eric A. Kohler', 'profile_path': None}, {'credit_id': '576fd39cc3a3682dc50013ad', 'department': 'Editing', 'gender': 0, 'id': 1415009, 'job': 'Dialogue Editor', 'name': 'Joel Dougherty', 'profile_path': None}, {'credit_id': '576fd3b1c3a3682ecb001633', 'department': 'Sound', 'gender': 0, 'id': 1571058, 'job': 'Foley', 'name': 'Frank Rinella', 'profile_path': None}, {'credit_id': '576fd3cb9251417742001521', 'department': 'Sound', 'gender': 0, 'id': 1394418, 'job': 'Sound Designer', 'name': 'Jeremy Bowker', 'profile_path': None}, {'credit_id': '576fd3e5c3a3682dc50013d2', 'department': 'Sound', 'gender': 0, 'id': 1453667, 'job': 'Sound Effects Editor', 'name': 'Erik Foreman', 'profile_path': None}, {'credit_id': '576fd3f692514179360068c8', 'department': 'Sound', 'gender': 0, 'id': 1412984, 'job': 'Sound Effects Editor', 'name': 'Pascal Garneau', 'profile_path': None}, {'credit_id': '576fd40ac3a3680bda0061c9', 'department': 'Sound', 'gender': 0, 'id': 1414178, 'job': 'Sound Effects Editor', 'name': 'Scott Guitteau', 'profile_path': None}, {'credit_id': '576fd424c3a36847dd006c44', 'department': 'Sound', 'gender': 0, 'id': 1389133, 'job': 'Supervising Sound Editor', 'name': 'Will Files', 'profile_path': None}, {'credit_id': '576fd4469251417742001565', 'department': 'Costume & Make-Up', 'gender': 0, 'id': 1458987, 'job': 'Hair Department Head', 'name': 'Tony Ward', 'profile_path': None}, {'credit_id': '576fd468c3a3682e510016ff', 'department': 'Costume & Make-Up', 'gender': 0, 'id': 578730, 'job': 'Key Hair Stylist', 'name': 'Amy Wood', 'profile_path': None}, {'credit_id': '576fd47dc3a3682dc500141c', 'department': 'Costume & Make-Up', 'gender': 0, 'id': 578724, 'job': 'Makeup Department Head', 'name': 'Stacy Kelly', 'profile_path': None}, {'credit_id': '576fd48c92514176570014d6', 'department': 'Costume & Make-Up', 'gender': 0, 'id': 1415334, 'job': 'Makeup Artist', 'name': 'Paige Reeves', 'profile_path': None}, {'credit_id': '576fd4a2c3a3682ecb0016c1', 'department': 'Art', 'gender': 0, 'id': 1393372, 'job': 'Construction Coordinator', 'name': 'Chuck Stringer', 'profile_path': None}, {'credit_id': '576fd4c492514177420015b3', 'department': 'Editing', 'gender': 0, 'id': 1432047, 'job': 'Digital Intermediate', 'name': 'Robert E. Phillips', 'profile_path': None}, {'credit_id': '576fd4d9c3a3682e5100173c', 'department': 'Editing', 'gender': 0, 'id': 1394954, 'job': 'First Assistant Editor', 'name': 'Samuel Craven', 'profile_path': None}, {'credit_id': '576fd4ec925141793600696b', 'department': 'Editing', 'gender': 0, 'id': 1632331, 'job': 'First Assistant Editor', 'name': 'Richard B. Molina', 'profile_path': None}]                                                                                                                                                                                                                                                                                                                                                                                                                                                                                                                                                                                                                                                                                                                                                                                                                                                                                                                                                                                                                                                                                                                                                                                                                                                                                                                                                                                                                                                                                                                                                                                                                                                                                                                                                                                                                                                                                                                                                                                                                                                                                                                                                                                                                                                                                                                                                                                                                                                                                                                                                                                                                                                                                                                                                                                                                                                                                                                                                                                                                                                                                                                                                                                                                                                                                                                                                                                                                                                                                                                                                                                                                                                                                                                                                                                                                                                                                                                                                                                                                                                                                                                                                                                                                                                                                                                                                                                                                                                                                                                                                                                                                                                                                                                                                                                                                                                                                                                                                                                                                                                                                                                                                                                                                                                                                                                                                                                                                                                                                                                                                                                                                                                                                                                                                                                                                                                                                                                                                                                                                                                                                                                                                                                                                                                                                                                                                                                                                                                                                                                                                                                                                                                                                                                                                                                                                                                                                                                                                                                                                                                                                                                                                                                                                                                                                                                                                                                                                                                                                                                                                                                                                                                                                                                                                                                                                                                                                                                                                                                                                                                                                                                                                                                                                                                                                                                                                                                                                                                                                                                                                                                                                                                                                                                                                                                                                                                                                                                                                                                                                                                                                                                                                                                                                                                                                                                                                                                                                                                                                                                                                                                                                                                                                                                                                                                                                                                                                                                                                                                                                                                                                                                                                                                                                                                                                                                                                                                                                                                                                                                                                                                                                                                                                                                                                                                                                                                                                                                                                                                                                                                                                                                                                                                                                                                                                                                                                                                                                                                                                                                                                                                                                                                                                                                                                                                                                                                                                                                                                                                                                                                                                                                                                                                                                                                                                                                                                                                                                                                                                                                                                                                                                                                                                                                                                                                                                                                                                                                                                                                                                                                                                                                                                                                                                                                                                                                                                                                                                                                                                                                                                                                                                                                                                                                                                                                                                                                                                                                                                                                                                                                                                                                                                                                                                                                                                                                                                                                                                                                                                                                                                                                                                                                                                                                                                                                                                                                                                                                                                                                                                                                                                                                                                                                                                                                                                                                                                                                                                                                                                                                                                                                                                                                                                                                                                                                                                                                                                                                                                                                                                                                                                                                                                                                                                                                                                                                                                                                                                                                                                                                                                                                                                                                                                                                                                                                                                                                                                                                                                                                                                                                                                                                                                                                                                                                                                                                                                                                                                                                                                                                                                                                                                                                                                                                                                                                                                                                                                                                                                                                                                                                                                                                                                                                                                                                                                                                                                                                                                                                                                                                                                                                                                                                                                                                                                                                                                                                                                                                                                                                                                                                                                                                                                                                                                                                                                                                                                                                                                                                                                                                                                                                                                                                                                                                                                                                                                                                                                                                                                                                                                                                                                                                                                                                                                                                                                                                                                                                                                                                                                                                                                                                                                                                                                                                                                                                                                                                                                                                                                                                                                                                                                                                                                                                                                                                                                                                                                                                                                                                                                                                                                                                                                                                                                                                                                                                                                                                                                                                                                                                                                                                                                                                                                                                                                                                                                                                                                                                                                                                                                                                                                                                                                                                                                                                                                 1\n",
       "[{'credit_id': '52fe47a7c3a368484e0d2a4f', 'department': 'Directing', 'gender': 2, 'id': 81476, 'job': 'Director', 'name': 'Ariel Vromen', 'profile_path': '/6aLuWH2FKSvYoGHsmxF1wgv3lXh.jpg'}, {'credit_id': '52fe47a7c3a368484e0d2a55', 'department': 'Writing', 'gender': 2, 'id': 81476, 'job': 'Screenplay', 'name': 'Ariel Vromen', 'profile_path': '/6aLuWH2FKSvYoGHsmxF1wgv3lXh.jpg'}, {'credit_id': '52fe47a7c3a368484e0d2a7f', 'department': 'Production', 'gender': 2, 'id': 36999, 'job': 'Producer', 'name': 'Ehud Bleiberg', 'profile_path': None}, {'credit_id': '52fe47a7c3a368484e0d2a85', 'department': 'Production', 'gender': 2, 'id': 81476, 'job': 'Producer', 'name': 'Ariel Vromen', 'profile_path': '/6aLuWH2FKSvYoGHsmxF1wgv3lXh.jpg'}, {'credit_id': '52fe47a7c3a368484e0d2a8b', 'department': 'Production', 'gender': 2, 'id': 5328, 'job': 'Casting', 'name': 'Kerry Barden', 'profile_path': '/zb3khdNgVHerkFz4esvjSZHnbDW.jpg'}, {'credit_id': '52fe47a7c3a368484e0d2a91', 'department': 'Production', 'gender': 0, 'id': 19689, 'job': 'Casting', 'name': 'Paul Schnee', 'profile_path': None}, {'credit_id': '52fe47a7c3a368484e0d2a97', 'department': 'Sound', 'gender': 0, 'id': 1210567, 'job': 'Music', 'name': 'Haim Mazar', 'profile_path': None}, {'credit_id': '52fe47a7c3a368484e0d2a9d', 'department': 'Costume & Make-Up', 'gender': 1, 'id': 18321, 'job': 'Costume Design', 'name': 'Donna Zakowska', 'profile_path': None}, {'credit_id': '52fe47a7c3a368484e0d2aa3', 'department': 'Camera', 'gender': 2, 'id': 1209263, 'job': 'Director of Photography', 'name': 'Bobby Bukowski', 'profile_path': None}]                                                                                                                                                                                                                                                                                                                                                                                                                                                                                                                                                                                                                                                                                                                                                                                                                                                                                                                                                                                                                                                                                                                                                                                                                                                                                                                                                                                                                                                                                                                                                                                                                                                                                                                                                                                                                                                                                                                                                                                                                                                                                                                                                                                                                                                                                                                                                                                                                                                                                                                                                                                                                                                                                                                                                                                                                                                                                                                                                                                                                                                                                                                                                                                                                                                                                                                                                                                                                                                                                                                                                                                                                                                                                                                                                                                                                                                                                                                                                                                                                                                                                                                                                                                                                                                                                                                                                                                                                                                                                                                                                                                                                                                                                                                                                                                                                                                                                                                                                                                                                                                                                                                                                                                                                                                                                                                                                                                                                                                                                                                                                                                                                                                                                                                                                                                                                                                                                                                                                                                                                                                                                                                                                                                                                                                                                                                                                                                                                                                                                                                                                                                                                                                                                                                                                                                                                                                                                                                                                                                                                                                                                                                                                                                                                                                                                                                                                                                                                                                                                                                                                                                                                                                                                                                                                                                                                                                                                                                                                                                                                                                                                                                                                                                                                                                                                                                                                                                                                                                                                                                                                                                                                                                                                                                                                                                                                                                                                                                                                                                                                                                                                                                                                                                                                                                                                                                                                                                                                                                                                                                                                                                                                                                                                                                                                                                                                                                                                                                                                                                                                                                                                                                                                                                                                                                                                                                                                                                                                                                                                                                                                                                                                                                                                                                                                                                                                                                                                                                                                                                                                                                                                                                                                                                                                                                                                                                                                                                                                                                                                                                                                                                                                                                                                                                                                                                                                                                                                                                                                                                                                                                                                                                                                                                                                                                                                                                                                                                                                                                                                                                                                                                                                                                                                                                                                                                                                                                                                                                                                                                                                                                                                                                                                                                                                                                                                                                                                                                                                                                                                                                                                                                                                                                                                                                                                                                                                                                                                                                                                                                                                                                                                                                                                                                                                                                                                                                                                                                                                                                                                                                                                                                                                                                                                                                                                                                                                                                                                                                                                                                                                                                                                                                                                                                                                                                                                                                                                                                                                                                                                                                                                                                                                                                                                                                                                                                                                                                                                                                                                                                                                                                                                                                                                                                                                                                                                                                                                                                                                                                                                                                                                                                                                                                                                                                                                                                                                                                                                                                                                                                                                                                                                                                                                                                                                                                                                                                                                                                                                                                                                                                                                                                                                                                                                                                                                                                                                                                                                                                                                                                                                                                                                                                                                                                                                                                                                                                                                                                                                                                                                                                                                                                                                                                                                                                                                                                                                                                                                                                                                                                                                                                                                                                                                                                                                                                                                                                                                                                                                                                                                                                                                                                                                                                                                                                                                                                                                                                                                                                                                                                                                                                                                                                                                                                                                                                                                                                                                                                                                                                                                                                                                                                                                                                                                                                                                                                                                                                                                                                                                                                                                                                                                                                                                                                                                                                                                                                                                                                                                                                                                                                                                                                                                                                                                                                                                                                                                                                                                                                                                                                                                                                                                                                                                                                                                                                                                                                                                                                                                                                                                                                                                                                                                                                                                                                                                                                                                                                                                                                                                                                                                                                                                                                                                                                                                                                                                                                                                                                                                                                                                                                                                                                                                                                                                                                                                                                                                                                                                                                                                                                                                                                                                                                                                                                                                                                                                                                                                                                                                                                                                                                                                                                                                                                                                                                                                                                                                                                                                                                                                                                                                                                                                                                                                                                                                                                                                                                                                                                                                                                                                                                                                                                                                                                                                                                                                                                                                                                                                                                                                                                                                                                                                                                                                                                                                                                                                                                                                                                                                                                                                                                                                                                                                                                                                                                                                                                                                                                                                                                                                                                                                                                                                                                                                                                                                                                                                                                                                                                                                                                                                                                                                                                                                                                                                                                                                                                                                                                                                                                                                                                                                                                                                                                                                                                                                                                                                                                                                                                                                                                                                                                                                                                                                                                                                                                                                                                                                                                                                                                                                                                                                                                                                                                                                                                                                                                                                                                                                                                                                                                     1\n",
       "Name: crew, Length: 2984, dtype: int64"
      ]
     },
     "execution_count": 15,
     "metadata": {},
     "output_type": "execute_result"
    }
   ],
   "source": [
    "train.crew.value_counts()"
   ]
  },
  {
   "cell_type": "markdown",
   "metadata": {
    "papermill": {
     "duration": 0.065611,
     "end_time": "2020-11-15T18:26:28.724776",
     "exception": false,
     "start_time": "2020-11-15T18:26:28.659165",
     "status": "completed"
    },
    "tags": []
   },
   "source": [
    "**Revenue:** Total revenue earned by a movie in dollars. (Label)"
   ]
  },
  {
   "cell_type": "code",
   "execution_count": 16,
   "metadata": {
    "execution": {
     "iopub.execute_input": "2020-11-15T18:26:28.858067Z",
     "iopub.status.busy": "2020-11-15T18:26:28.854517Z",
     "iopub.status.idle": "2020-11-15T18:26:28.863787Z",
     "shell.execute_reply": "2020-11-15T18:26:28.863299Z"
    },
    "papermill": {
     "duration": 0.073102,
     "end_time": "2020-11-15T18:26:28.863886",
     "exception": false,
     "start_time": "2020-11-15T18:26:28.790784",
     "status": "completed"
    },
    "tags": []
   },
   "outputs": [
    {
     "data": {
      "text/plain": [
       "revenue       1.000000\n",
       "budget        0.485856\n",
       "popularity    0.288506\n",
       "runtime       0.210098\n",
       "id            0.014447\n",
       "Name: revenue, dtype: float64"
      ]
     },
     "execution_count": 16,
     "metadata": {},
     "output_type": "execute_result"
    }
   ],
   "source": [
    "# checking how the train data correlates to label(revenue)\n",
    "\n",
    "corr_matrix = train.corr()\n",
    "corr_matrix[\"revenue\"].sort_values(ascending=False)"
   ]
  },
  {
   "cell_type": "code",
   "execution_count": 17,
   "metadata": {
    "execution": {
     "iopub.execute_input": "2020-11-15T18:26:29.061016Z",
     "iopub.status.busy": "2020-11-15T18:26:29.060129Z",
     "iopub.status.idle": "2020-11-15T18:26:29.307323Z",
     "shell.execute_reply": "2020-11-15T18:26:29.306583Z"
    },
    "papermill": {
     "duration": 0.347973,
     "end_time": "2020-11-15T18:26:29.307467",
     "exception": false,
     "start_time": "2020-11-15T18:26:28.959494",
     "status": "completed"
    },
    "tags": []
   },
   "outputs": [
    {
     "data": {
      "text/plain": [
       "Text(0.5, 1.0, 'Budget')"
      ]
     },
     "execution_count": 17,
     "metadata": {},
     "output_type": "execute_result"
    },
    {
     "data": {
      "image/png": "[encoded data removed]",
      "text/plain": [
       "<Figure size 432x288 with 1 Axes>"
      ]
     },
     "metadata": {},
     "output_type": "display_data"
    }
   ],
   "source": [
    "sns.distplot(train[\"budget\"])\n",
    "plt.title( \"Budget\", fontsize=14)"
   ]
  },
  {
   "cell_type": "code",
   "execution_count": 18,
   "metadata": {
    "execution": {
     "iopub.execute_input": "2020-11-15T18:26:29.475953Z",
     "iopub.status.busy": "2020-11-15T18:26:29.475072Z",
     "iopub.status.idle": "2020-11-15T18:26:29.887253Z",
     "shell.execute_reply": "2020-11-15T18:26:29.886442Z"
    },
    "papermill": {
     "duration": 0.501865,
     "end_time": "2020-11-15T18:26:29.887383",
     "exception": false,
     "start_time": "2020-11-15T18:26:29.385518",
     "status": "completed"
    },
    "tags": []
   },
   "outputs": [
    {
     "data": {
      "text/plain": [
       "Text(0.5, 1.0, 'Revenue')"
      ]
     },
     "execution_count": 18,
     "metadata": {},
     "output_type": "execute_result"
    },
    {
     "data": {
      "image/png": "[encoded data removed]",
      "text/plain": [
       "<Figure size 432x288 with 1 Axes>"
      ]
     },
     "metadata": {},
     "output_type": "display_data"
    }
   ],
   "source": [
    "sns.distplot(train[\"revenue\"])\n",
    "plt.title( \"Revenue\", fontsize=14)"
   ]
  },
  {
   "cell_type": "markdown",
   "metadata": {
    "papermill": {
     "duration": 0.098801,
     "end_time": "2020-11-15T18:26:30.156368",
     "exception": false,
     "start_time": "2020-11-15T18:26:30.057567",
     "status": "completed"
    },
    "tags": []
   },
   "source": [
    "\n",
    "\n",
    "**4. Preparing the data**\n",
    "\n",
    "Time to fix the things that needed fixing, a lot of cleaning needed:\n"
   ]
  },
  {
   "cell_type": "markdown",
   "metadata": {
    "papermill": {
     "duration": 0.097696,
     "end_time": "2020-11-15T18:26:30.352271",
     "exception": false,
     "start_time": "2020-11-15T18:26:30.254575",
     "status": "completed"
    },
    "tags": []
   },
   "source": [
    "**release_date**"
   ]
  },
  {
   "cell_type": "code",
   "execution_count": 19,
   "metadata": {
    "execution": {
     "iopub.execute_input": "2020-11-15T18:26:30.573700Z",
     "iopub.status.busy": "2020-11-15T18:26:30.568460Z",
     "iopub.status.idle": "2020-11-15T18:26:30.855351Z",
     "shell.execute_reply": "2020-11-15T18:26:30.854962Z"
    },
    "papermill": {
     "duration": 0.403911,
     "end_time": "2020-11-15T18:26:30.855434",
     "exception": false,
     "start_time": "2020-11-15T18:26:30.451523",
     "status": "completed"
    },
    "tags": []
   },
   "outputs": [
    {
     "data": {
      "text/html": [
       "<div>\n",
       "<style scoped>\n",
       "    .dataframe tbody tr th:only-of-type {\n",
       "        vertical-align: middle;\n",
       "    }\n",
       "\n",
       "    .dataframe tbody tr th {\n",
       "        vertical-align: top;\n",
       "    }\n",
       "\n",
       "    .dataframe thead th {\n",
       "        text-align: right;\n",
       "    }\n",
       "</style>\n",
       "<table border=\"1\" class=\"dataframe\">\n",
       "  <thead>\n",
       "    <tr style=\"text-align: right;\">\n",
       "      <th></th>\n",
       "      <th>release_year</th>\n",
       "      <th>release_month</th>\n",
       "    </tr>\n",
       "  </thead>\n",
       "  <tbody>\n",
       "    <tr>\n",
       "      <th>count</th>\n",
       "      <td>3000.000000</td>\n",
       "      <td>3000.000000</td>\n",
       "    </tr>\n",
       "    <tr>\n",
       "      <th>mean</th>\n",
       "      <td>2004.779667</td>\n",
       "      <td>6.775333</td>\n",
       "    </tr>\n",
       "    <tr>\n",
       "      <th>std</th>\n",
       "      <td>15.664767</td>\n",
       "      <td>3.409115</td>\n",
       "    </tr>\n",
       "    <tr>\n",
       "      <th>min</th>\n",
       "      <td>1970.000000</td>\n",
       "      <td>1.000000</td>\n",
       "    </tr>\n",
       "    <tr>\n",
       "      <th>25%</th>\n",
       "      <td>1995.000000</td>\n",
       "      <td>4.000000</td>\n",
       "    </tr>\n",
       "    <tr>\n",
       "      <th>50%</th>\n",
       "      <td>2006.000000</td>\n",
       "      <td>7.000000</td>\n",
       "    </tr>\n",
       "    <tr>\n",
       "      <th>75%</th>\n",
       "      <td>2012.000000</td>\n",
       "      <td>10.000000</td>\n",
       "    </tr>\n",
       "    <tr>\n",
       "      <th>max</th>\n",
       "      <td>2069.000000</td>\n",
       "      <td>12.000000</td>\n",
       "    </tr>\n",
       "  </tbody>\n",
       "</table>\n",
       "</div>"
      ],
      "text/plain": [
       "       release_year  release_month\n",
       "count   3000.000000    3000.000000\n",
       "mean    2004.779667       6.775333\n",
       "std       15.664767       3.409115\n",
       "min     1970.000000       1.000000\n",
       "25%     1995.000000       4.000000\n",
       "50%     2006.000000       7.000000\n",
       "75%     2012.000000      10.000000\n",
       "max     2069.000000      12.000000"
      ]
     },
     "execution_count": 19,
     "metadata": {},
     "output_type": "execute_result"
    }
   ],
   "source": [
    "# Splitting release_date into multiple columns\n",
    "def date_features(df):\n",
    "    df['release_date'] = pd.to_datetime(df['release_date'])\n",
    "    df['release_year'] = df['release_date'].dt.year\n",
    "    df['release_month'] = df['release_date'].dt.month\n",
    "    df.drop(columns=['release_date'], inplace=True)\n",
    "    return df\n",
    "\n",
    "train = date_features(train)\n",
    "\n",
    "#What have we done!?\n",
    "train[[\"release_year\", \"release_month\"]].describe()"
   ]
  },
  {
   "cell_type": "markdown",
   "metadata": {
    "papermill": {
     "duration": 0.069682,
     "end_time": "2020-11-15T18:26:30.990947",
     "exception": false,
     "start_time": "2020-11-15T18:26:30.921265",
     "status": "completed"
    },
    "tags": []
   },
   "source": [
    "I'm slightly worried about release_year = 2069 (hopefully its back to the future) lets check this:"
   ]
  },
  {
   "cell_type": "code",
   "execution_count": 20,
   "metadata": {
    "execution": {
     "iopub.execute_input": "2020-11-15T18:26:31.142069Z",
     "iopub.status.busy": "2020-11-15T18:26:31.141203Z",
     "iopub.status.idle": "2020-11-15T18:26:31.192779Z",
     "shell.execute_reply": "2020-11-15T18:26:31.192094Z"
    },
    "papermill": {
     "duration": 0.133104,
     "end_time": "2020-11-15T18:26:31.192890",
     "exception": false,
     "start_time": "2020-11-15T18:26:31.059786",
     "status": "completed"
    },
    "tags": []
   },
   "outputs": [
    {
     "data": {
      "text/html": [
       "<div>\n",
       "<style scoped>\n",
       "    .dataframe tbody tr th:only-of-type {\n",
       "        vertical-align: middle;\n",
       "    }\n",
       "\n",
       "    .dataframe tbody tr th {\n",
       "        vertical-align: top;\n",
       "    }\n",
       "\n",
       "    .dataframe thead th {\n",
       "        text-align: right;\n",
       "    }\n",
       "</style>\n",
       "<table border=\"1\" class=\"dataframe\">\n",
       "  <thead>\n",
       "    <tr style=\"text-align: right;\">\n",
       "      <th></th>\n",
       "      <th>id</th>\n",
       "      <th>belongs_to_collection</th>\n",
       "      <th>budget</th>\n",
       "      <th>genres</th>\n",
       "      <th>homepage</th>\n",
       "      <th>imdb_id</th>\n",
       "      <th>original_language</th>\n",
       "      <th>original_title</th>\n",
       "      <th>overview</th>\n",
       "      <th>popularity</th>\n",
       "      <th>...</th>\n",
       "      <th>spoken_languages</th>\n",
       "      <th>status</th>\n",
       "      <th>tagline</th>\n",
       "      <th>title</th>\n",
       "      <th>Keywords</th>\n",
       "      <th>cast</th>\n",
       "      <th>crew</th>\n",
       "      <th>revenue</th>\n",
       "      <th>release_year</th>\n",
       "      <th>release_month</th>\n",
       "    </tr>\n",
       "  </thead>\n",
       "  <tbody>\n",
       "    <tr>\n",
       "      <th>39</th>\n",
       "      <td>40</td>\n",
       "      <td>NaN</td>\n",
       "      <td>3800000</td>\n",
       "      <td>[{'id': 10752, 'name': 'War'}, {'id': 37, 'nam...</td>\n",
       "      <td>NaN</td>\n",
       "      <td>tt0059418</td>\n",
       "      <td>en</td>\n",
       "      <td>Major Dundee</td>\n",
       "      <td>During the last winter of the Civil War, caval...</td>\n",
       "      <td>3.055936</td>\n",
       "      <td>...</td>\n",
       "      <td>[{'iso_639_1': 'en', 'name': 'English'}, {'iso...</td>\n",
       "      <td>Released</td>\n",
       "      <td>NaN</td>\n",
       "      <td>Major Dundee</td>\n",
       "      <td>[{'id': 534, 'name': 'mexico'}, {'id': 1968, '...</td>\n",
       "      <td>[{'cast_id': 1, 'character': 'Major Amos Charl...</td>\n",
       "      <td>[{'credit_id': '52fe45f5c3a368484e078d7b', 'de...</td>\n",
       "      <td>9.607370</td>\n",
       "      <td>2065</td>\n",
       "      <td>4</td>\n",
       "    </tr>\n",
       "    <tr>\n",
       "      <th>41</th>\n",
       "      <td>42</td>\n",
       "      <td>NaN</td>\n",
       "      <td>3000000</td>\n",
       "      <td>[{'id': 80, 'name': 'Crime'}, {'id': 18, 'name...</td>\n",
       "      <td>NaN</td>\n",
       "      <td>tt0061512</td>\n",
       "      <td>en</td>\n",
       "      <td>Cool Hand Luke</td>\n",
       "      <td>When petty criminal Luke Jackson is sentenced ...</td>\n",
       "      <td>9.718713</td>\n",
       "      <td>...</td>\n",
       "      <td>[{'iso_639_1': 'en', 'name': 'English'}]</td>\n",
       "      <td>Released</td>\n",
       "      <td>What we've got here is failure to communicate.</td>\n",
       "      <td>Cool Hand Luke</td>\n",
       "      <td>[{'id': 378, 'name': 'prison'}, {'id': 526, 'n...</td>\n",
       "      <td>[{'cast_id': 13, 'character': 'Luke Jackson', ...</td>\n",
       "      <td>[{'credit_id': '52fe428ac3a36847f8026d8d', 'de...</td>\n",
       "      <td>16.601618</td>\n",
       "      <td>2067</td>\n",
       "      <td>6</td>\n",
       "    </tr>\n",
       "    <tr>\n",
       "      <th>48</th>\n",
       "      <td>49</td>\n",
       "      <td>NaN</td>\n",
       "      <td>0</td>\n",
       "      <td>[{'id': 18, 'name': 'Drama'}, {'id': 35, 'name...</td>\n",
       "      <td>NaN</td>\n",
       "      <td>tt1781058</td>\n",
       "      <td>en</td>\n",
       "      <td>Wilson</td>\n",
       "      <td>Middle-aged and divorced, Wilson finds himself...</td>\n",
       "      <td>8.984386</td>\n",
       "      <td>...</td>\n",
       "      <td>[{'iso_639_1': 'en', 'name': 'English'}]</td>\n",
       "      <td>Released</td>\n",
       "      <td>NaN</td>\n",
       "      <td>Wilson</td>\n",
       "      <td>[{'id': 2487, 'name': 'naivety'}, {'id': 2794,...</td>\n",
       "      <td>[{'cast_id': 5, 'character': 'Wilson', 'credit...</td>\n",
       "      <td>[{'credit_id': '5590cb95c3a36807f6000075', 'de...</td>\n",
       "      <td>13.390789</td>\n",
       "      <td>2017</td>\n",
       "      <td>3</td>\n",
       "    </tr>\n",
       "    <tr>\n",
       "      <th>51</th>\n",
       "      <td>52</td>\n",
       "      <td>NaN</td>\n",
       "      <td>12000000</td>\n",
       "      <td>[{'id': 12, 'name': 'Adventure'}, {'id': 35, '...</td>\n",
       "      <td>NaN</td>\n",
       "      <td>tt0059243</td>\n",
       "      <td>en</td>\n",
       "      <td>The Great Race</td>\n",
       "      <td>Professional daredevil and white-suited hero, ...</td>\n",
       "      <td>4.473327</td>\n",
       "      <td>...</td>\n",
       "      <td>[{'iso_639_1': 'en', 'name': 'English'}, {'iso...</td>\n",
       "      <td>Released</td>\n",
       "      <td>The movie with 20,000-mile or one-million-laug...</td>\n",
       "      <td>The Great Race</td>\n",
       "      <td>[{'id': 9253, 'name': 'slapstick'}, {'id': 159...</td>\n",
       "      <td>[{'cast_id': 1, 'character': 'Prof. Fate', 'cr...</td>\n",
       "      <td>[{'credit_id': '52fe445e9251416c75032581', 'de...</td>\n",
       "      <td>17.047632</td>\n",
       "      <td>2065</td>\n",
       "      <td>7</td>\n",
       "    </tr>\n",
       "    <tr>\n",
       "      <th>61</th>\n",
       "      <td>62</td>\n",
       "      <td>NaN</td>\n",
       "      <td>4000000</td>\n",
       "      <td>[{'id': 18, 'name': 'Drama'}]</td>\n",
       "      <td>NaN</td>\n",
       "      <td>tt0049875</td>\n",
       "      <td>en</td>\n",
       "      <td>Trapeze</td>\n",
       "      <td>A pair of men try to perform the dangerous \"tr...</td>\n",
       "      <td>1.801071</td>\n",
       "      <td>...</td>\n",
       "      <td>[{'iso_639_1': 'en', 'name': 'English'}, {'iso...</td>\n",
       "      <td>Released</td>\n",
       "      <td>High...High...High...Above Them All! - in exci...</td>\n",
       "      <td>Trapeze</td>\n",
       "      <td>[{'id': 291, 'name': 'circus'}, {'id': 180181,...</td>\n",
       "      <td>[{'cast_id': 2, 'character': 'Mike Ribble', 'c...</td>\n",
       "      <td>[{'credit_id': '52fe4594c3a36847f80cf3b9', 'de...</td>\n",
       "      <td>16.482739</td>\n",
       "      <td>2056</td>\n",
       "      <td>5</td>\n",
       "    </tr>\n",
       "    <tr>\n",
       "      <th>...</th>\n",
       "      <td>...</td>\n",
       "      <td>...</td>\n",
       "      <td>...</td>\n",
       "      <td>...</td>\n",
       "      <td>...</td>\n",
       "      <td>...</td>\n",
       "      <td>...</td>\n",
       "      <td>...</td>\n",
       "      <td>...</td>\n",
       "      <td>...</td>\n",
       "      <td>...</td>\n",
       "      <td>...</td>\n",
       "      <td>...</td>\n",
       "      <td>...</td>\n",
       "      <td>...</td>\n",
       "      <td>...</td>\n",
       "      <td>...</td>\n",
       "      <td>...</td>\n",
       "      <td>...</td>\n",
       "      <td>...</td>\n",
       "      <td>...</td>\n",
       "    </tr>\n",
       "    <tr>\n",
       "      <th>2945</th>\n",
       "      <td>2946</td>\n",
       "      <td>NaN</td>\n",
       "      <td>1000000</td>\n",
       "      <td>[{'id': 12, 'name': 'Adventure'}, {'id': 35, '...</td>\n",
       "      <td>NaN</td>\n",
       "      <td>tt0057590</td>\n",
       "      <td>en</td>\n",
       "      <td>Tom Jones</td>\n",
       "      <td>Tom loves Sophie and Sophie loves Tom. But Tom...</td>\n",
       "      <td>3.315827</td>\n",
       "      <td>...</td>\n",
       "      <td>[{'iso_639_1': 'en', 'name': 'English'}]</td>\n",
       "      <td>Released</td>\n",
       "      <td>Tom Jones! . . . loves and loves and loves and...</td>\n",
       "      <td>Tom Jones</td>\n",
       "      <td>[{'id': 5626, 'name': 'from rags to riches'}, ...</td>\n",
       "      <td>[{'cast_id': 6, 'character': 'Tom Jones', 'cre...</td>\n",
       "      <td>[{'credit_id': '52fe4421c3a36847f8084025', 'de...</td>\n",
       "      <td>17.442515</td>\n",
       "      <td>2063</td>\n",
       "      <td>10</td>\n",
       "    </tr>\n",
       "    <tr>\n",
       "      <th>2946</th>\n",
       "      <td>2947</td>\n",
       "      <td>NaN</td>\n",
       "      <td>483103</td>\n",
       "      <td>[{'id': 18, 'name': 'Drama'}, {'id': 35, 'name...</td>\n",
       "      <td>NaN</td>\n",
       "      <td>tt0018183</td>\n",
       "      <td>en</td>\n",
       "      <td>My Best Girl</td>\n",
       "      <td>Joe Merrill, son of the millionaire owner of a...</td>\n",
       "      <td>0.205671</td>\n",
       "      <td>...</td>\n",
       "      <td>[{'iso_639_1': 'en', 'name': 'English'}]</td>\n",
       "      <td>Released</td>\n",
       "      <td>NaN</td>\n",
       "      <td>My Best Girl</td>\n",
       "      <td>NaN</td>\n",
       "      <td>[{'cast_id': 1, 'character': 'Maggie Johnson',...</td>\n",
       "      <td>[{'credit_id': '58f2c8ac9251413d6e007220', 'de...</td>\n",
       "      <td>13.842890</td>\n",
       "      <td>2027</td>\n",
       "      <td>10</td>\n",
       "    </tr>\n",
       "    <tr>\n",
       "      <th>2962</th>\n",
       "      <td>2963</td>\n",
       "      <td>NaN</td>\n",
       "      <td>20000000</td>\n",
       "      <td>[{'id': 18, 'name': 'Drama'}, {'id': 14, 'name...</td>\n",
       "      <td>http://www.theshack.movie</td>\n",
       "      <td>tt2872518</td>\n",
       "      <td>en</td>\n",
       "      <td>The Shack</td>\n",
       "      <td>After suffering a family tragedy, Mack Phillip...</td>\n",
       "      <td>16.392712</td>\n",
       "      <td>...</td>\n",
       "      <td>[{'iso_639_1': 'en', 'name': 'English'}]</td>\n",
       "      <td>Released</td>\n",
       "      <td>You're never as alone as you think.</td>\n",
       "      <td>The Shack</td>\n",
       "      <td>[{'id': 818, 'name': 'based on novel'}, {'id':...</td>\n",
       "      <td>[{'cast_id': 0, 'character': 'Mack Phillips', ...</td>\n",
       "      <td>[{'credit_id': '591ed967c3a368799b03016c', 'de...</td>\n",
       "      <td>17.864350</td>\n",
       "      <td>2017</td>\n",
       "      <td>3</td>\n",
       "    </tr>\n",
       "    <tr>\n",
       "      <th>2967</th>\n",
       "      <td>2968</td>\n",
       "      <td>[{'id': 387219, 'name': 'The Hustler Collectio...</td>\n",
       "      <td>2000000</td>\n",
       "      <td>[{'id': 18, 'name': 'Drama'}]</td>\n",
       "      <td>NaN</td>\n",
       "      <td>tt0054997</td>\n",
       "      <td>en</td>\n",
       "      <td>The Hustler</td>\n",
       "      <td>Fast Eddie Felson is a small-time pool hustler...</td>\n",
       "      <td>9.333533</td>\n",
       "      <td>...</td>\n",
       "      <td>[{'iso_639_1': 'en', 'name': 'English'}]</td>\n",
       "      <td>Released</td>\n",
       "      <td>They called him Fast Eddie. He was a winner. H...</td>\n",
       "      <td>The Hustler</td>\n",
       "      <td>[{'id': 236, 'name': 'suicide'}, {'id': 395, '...</td>\n",
       "      <td>[{'cast_id': 15, 'character': 'Eddie Felson', ...</td>\n",
       "      <td>[{'credit_id': '52fe4297c3a36847f802a989', 'de...</td>\n",
       "      <td>15.843659</td>\n",
       "      <td>2061</td>\n",
       "      <td>9</td>\n",
       "    </tr>\n",
       "    <tr>\n",
       "      <th>2992</th>\n",
       "      <td>2993</td>\n",
       "      <td>NaN</td>\n",
       "      <td>1135654</td>\n",
       "      <td>[{'id': 28, 'name': 'Action'}, {'id': 12, 'nam...</td>\n",
       "      <td>NaN</td>\n",
       "      <td>tt0015400</td>\n",
       "      <td>en</td>\n",
       "      <td>The Thief of Bagdad</td>\n",
       "      <td>A recalcitrant thief vies with a duplicitous M...</td>\n",
       "      <td>3.878515</td>\n",
       "      <td>...</td>\n",
       "      <td>[{'iso_639_1': 'xx', 'name': 'No Language'}]</td>\n",
       "      <td>Released</td>\n",
       "      <td>\"Happiness Must Be Earned\"</td>\n",
       "      <td>The Thief of Bagdad</td>\n",
       "      <td>[{'id': 255, 'name': 'male nudity'}, {'id': 14...</td>\n",
       "      <td>[{'cast_id': 3, 'character': 'The Thief of Bag...</td>\n",
       "      <td>[{'credit_id': '52fe45bec3a368484e06c70b', 'de...</td>\n",
       "      <td>14.009333</td>\n",
       "      <td>2024</td>\n",
       "      <td>3</td>\n",
       "    </tr>\n",
       "  </tbody>\n",
       "</table>\n",
       "<p>192 rows × 24 columns</p>\n",
       "</div>"
      ],
      "text/plain": [
       "        id                              belongs_to_collection    budget  \\\n",
       "39      40                                                NaN   3800000   \n",
       "41      42                                                NaN   3000000   \n",
       "48      49                                                NaN         0   \n",
       "51      52                                                NaN  12000000   \n",
       "61      62                                                NaN   4000000   \n",
       "...    ...                                                ...       ...   \n",
       "2945  2946                                                NaN   1000000   \n",
       "2946  2947                                                NaN    483103   \n",
       "2962  2963                                                NaN  20000000   \n",
       "2967  2968  [{'id': 387219, 'name': 'The Hustler Collectio...   2000000   \n",
       "2992  2993                                                NaN   1135654   \n",
       "\n",
       "                                                 genres  \\\n",
       "39    [{'id': 10752, 'name': 'War'}, {'id': 37, 'nam...   \n",
       "41    [{'id': 80, 'name': 'Crime'}, {'id': 18, 'name...   \n",
       "48    [{'id': 18, 'name': 'Drama'}, {'id': 35, 'name...   \n",
       "51    [{'id': 12, 'name': 'Adventure'}, {'id': 35, '...   \n",
       "61                        [{'id': 18, 'name': 'Drama'}]   \n",
       "...                                                 ...   \n",
       "2945  [{'id': 12, 'name': 'Adventure'}, {'id': 35, '...   \n",
       "2946  [{'id': 18, 'name': 'Drama'}, {'id': 35, 'name...   \n",
       "2962  [{'id': 18, 'name': 'Drama'}, {'id': 14, 'name...   \n",
       "2967                      [{'id': 18, 'name': 'Drama'}]   \n",
       "2992  [{'id': 28, 'name': 'Action'}, {'id': 12, 'nam...   \n",
       "\n",
       "                       homepage    imdb_id original_language  \\\n",
       "39                          NaN  tt0059418                en   \n",
       "41                          NaN  tt0061512                en   \n",
       "48                          NaN  tt1781058                en   \n",
       "51                          NaN  tt0059243                en   \n",
       "61                          NaN  tt0049875                en   \n",
       "...                         ...        ...               ...   \n",
       "2945                        NaN  tt0057590                en   \n",
       "2946                        NaN  tt0018183                en   \n",
       "2962  http://www.theshack.movie  tt2872518                en   \n",
       "2967                        NaN  tt0054997                en   \n",
       "2992                        NaN  tt0015400                en   \n",
       "\n",
       "           original_title                                           overview  \\\n",
       "39           Major Dundee  During the last winter of the Civil War, caval...   \n",
       "41         Cool Hand Luke  When petty criminal Luke Jackson is sentenced ...   \n",
       "48                 Wilson  Middle-aged and divorced, Wilson finds himself...   \n",
       "51         The Great Race  Professional daredevil and white-suited hero, ...   \n",
       "61                Trapeze  A pair of men try to perform the dangerous \"tr...   \n",
       "...                   ...                                                ...   \n",
       "2945            Tom Jones  Tom loves Sophie and Sophie loves Tom. But Tom...   \n",
       "2946         My Best Girl  Joe Merrill, son of the millionaire owner of a...   \n",
       "2962            The Shack  After suffering a family tragedy, Mack Phillip...   \n",
       "2967          The Hustler  Fast Eddie Felson is a small-time pool hustler...   \n",
       "2992  The Thief of Bagdad  A recalcitrant thief vies with a duplicitous M...   \n",
       "\n",
       "      popularity  ...                                   spoken_languages  \\\n",
       "39      3.055936  ...  [{'iso_639_1': 'en', 'name': 'English'}, {'iso...   \n",
       "41      9.718713  ...           [{'iso_639_1': 'en', 'name': 'English'}]   \n",
       "48      8.984386  ...           [{'iso_639_1': 'en', 'name': 'English'}]   \n",
       "51      4.473327  ...  [{'iso_639_1': 'en', 'name': 'English'}, {'iso...   \n",
       "61      1.801071  ...  [{'iso_639_1': 'en', 'name': 'English'}, {'iso...   \n",
       "...          ...  ...                                                ...   \n",
       "2945    3.315827  ...           [{'iso_639_1': 'en', 'name': 'English'}]   \n",
       "2946    0.205671  ...           [{'iso_639_1': 'en', 'name': 'English'}]   \n",
       "2962   16.392712  ...           [{'iso_639_1': 'en', 'name': 'English'}]   \n",
       "2967    9.333533  ...           [{'iso_639_1': 'en', 'name': 'English'}]   \n",
       "2992    3.878515  ...       [{'iso_639_1': 'xx', 'name': 'No Language'}]   \n",
       "\n",
       "        status                                            tagline  \\\n",
       "39    Released                                                NaN   \n",
       "41    Released     What we've got here is failure to communicate.   \n",
       "48    Released                                                NaN   \n",
       "51    Released  The movie with 20,000-mile or one-million-laug...   \n",
       "61    Released  High...High...High...Above Them All! - in exci...   \n",
       "...        ...                                                ...   \n",
       "2945  Released  Tom Jones! . . . loves and loves and loves and...   \n",
       "2946  Released                                                NaN   \n",
       "2962  Released                You're never as alone as you think.   \n",
       "2967  Released  They called him Fast Eddie. He was a winner. H...   \n",
       "2992  Released                         \"Happiness Must Be Earned\"   \n",
       "\n",
       "                    title                                           Keywords  \\\n",
       "39           Major Dundee  [{'id': 534, 'name': 'mexico'}, {'id': 1968, '...   \n",
       "41         Cool Hand Luke  [{'id': 378, 'name': 'prison'}, {'id': 526, 'n...   \n",
       "48                 Wilson  [{'id': 2487, 'name': 'naivety'}, {'id': 2794,...   \n",
       "51         The Great Race  [{'id': 9253, 'name': 'slapstick'}, {'id': 159...   \n",
       "61                Trapeze  [{'id': 291, 'name': 'circus'}, {'id': 180181,...   \n",
       "...                   ...                                                ...   \n",
       "2945            Tom Jones  [{'id': 5626, 'name': 'from rags to riches'}, ...   \n",
       "2946         My Best Girl                                                NaN   \n",
       "2962            The Shack  [{'id': 818, 'name': 'based on novel'}, {'id':...   \n",
       "2967          The Hustler  [{'id': 236, 'name': 'suicide'}, {'id': 395, '...   \n",
       "2992  The Thief of Bagdad  [{'id': 255, 'name': 'male nudity'}, {'id': 14...   \n",
       "\n",
       "                                                   cast  \\\n",
       "39    [{'cast_id': 1, 'character': 'Major Amos Charl...   \n",
       "41    [{'cast_id': 13, 'character': 'Luke Jackson', ...   \n",
       "48    [{'cast_id': 5, 'character': 'Wilson', 'credit...   \n",
       "51    [{'cast_id': 1, 'character': 'Prof. Fate', 'cr...   \n",
       "61    [{'cast_id': 2, 'character': 'Mike Ribble', 'c...   \n",
       "...                                                 ...   \n",
       "2945  [{'cast_id': 6, 'character': 'Tom Jones', 'cre...   \n",
       "2946  [{'cast_id': 1, 'character': 'Maggie Johnson',...   \n",
       "2962  [{'cast_id': 0, 'character': 'Mack Phillips', ...   \n",
       "2967  [{'cast_id': 15, 'character': 'Eddie Felson', ...   \n",
       "2992  [{'cast_id': 3, 'character': 'The Thief of Bag...   \n",
       "\n",
       "                                                   crew    revenue  \\\n",
       "39    [{'credit_id': '52fe45f5c3a368484e078d7b', 'de...   9.607370   \n",
       "41    [{'credit_id': '52fe428ac3a36847f8026d8d', 'de...  16.601618   \n",
       "48    [{'credit_id': '5590cb95c3a36807f6000075', 'de...  13.390789   \n",
       "51    [{'credit_id': '52fe445e9251416c75032581', 'de...  17.047632   \n",
       "61    [{'credit_id': '52fe4594c3a36847f80cf3b9', 'de...  16.482739   \n",
       "...                                                 ...        ...   \n",
       "2945  [{'credit_id': '52fe4421c3a36847f8084025', 'de...  17.442515   \n",
       "2946  [{'credit_id': '58f2c8ac9251413d6e007220', 'de...  13.842890   \n",
       "2962  [{'credit_id': '591ed967c3a368799b03016c', 'de...  17.864350   \n",
       "2967  [{'credit_id': '52fe4297c3a36847f802a989', 'de...  15.843659   \n",
       "2992  [{'credit_id': '52fe45bec3a368484e06c70b', 'de...  14.009333   \n",
       "\n",
       "     release_year release_month  \n",
       "39           2065             4  \n",
       "41           2067             6  \n",
       "48           2017             3  \n",
       "51           2065             7  \n",
       "61           2056             5  \n",
       "...           ...           ...  \n",
       "2945         2063            10  \n",
       "2946         2027            10  \n",
       "2962         2017             3  \n",
       "2967         2061             9  \n",
       "2992         2024             3  \n",
       "\n",
       "[192 rows x 24 columns]"
      ]
     },
     "execution_count": 20,
     "metadata": {},
     "output_type": "execute_result"
    }
   ],
   "source": [
    "train[train[\"release_year\"] >=2017]"
   ]
  },
  {
   "cell_type": "markdown",
   "metadata": {
    "papermill": {
     "duration": 0.070334,
     "end_time": "2020-11-15T18:26:31.333654",
     "exception": false,
     "start_time": "2020-11-15T18:26:31.263320",
     "status": "completed"
    },
    "tags": []
   },
   "source": [
    "Ok so we can note two things. The \"newest\" movies are from 2017. And the movies from the future is actually from the past i.e. The Hustler('2061') is actually from 1961.\n",
    "\n",
    "Let's check if the same is true for the test set:"
   ]
  },
  {
   "cell_type": "code",
   "execution_count": 21,
   "metadata": {
    "execution": {
     "iopub.execute_input": "2020-11-15T18:26:31.482495Z",
     "iopub.status.busy": "2020-11-15T18:26:31.481800Z",
     "iopub.status.idle": "2020-11-15T18:26:31.484851Z",
     "shell.execute_reply": "2020-11-15T18:26:31.485374Z"
    },
    "papermill": {
     "duration": 0.080453,
     "end_time": "2020-11-15T18:26:31.485544",
     "exception": false,
     "start_time": "2020-11-15T18:26:31.405091",
     "status": "completed"
    },
    "tags": []
   },
   "outputs": [],
   "source": [
    "#test[[\"release_year\", \"release_month\"]].describe()"
   ]
  },
  {
   "cell_type": "markdown",
   "metadata": {
    "papermill": {
     "duration": 0.07117,
     "end_time": "2020-11-15T18:26:31.628128",
     "exception": false,
     "start_time": "2020-11-15T18:26:31.556958",
     "status": "completed"
    },
    "tags": []
   },
   "source": [
    "Yes, all movies prior to 1970 has been misslabled as 20??. So we can correct this or we can just remove the incorrect values. If the point is to predict future releases you probably should opt for removing old films.\n"
   ]
  },
  {
   "cell_type": "markdown",
   "metadata": {
    "papermill": {
     "duration": 0.069948,
     "end_time": "2020-11-15T18:26:31.771104",
     "exception": false,
     "start_time": "2020-11-15T18:26:31.701156",
     "status": "completed"
    },
    "tags": []
   },
   "source": [
    "**Original Language**"
   ]
  },
  {
   "cell_type": "code",
   "execution_count": 22,
   "metadata": {
    "execution": {
     "iopub.execute_input": "2020-11-15T18:26:31.920722Z",
     "iopub.status.busy": "2020-11-15T18:26:31.919936Z",
     "iopub.status.idle": "2020-11-15T18:26:31.924584Z",
     "shell.execute_reply": "2020-11-15T18:26:31.925068Z"
    },
    "papermill": {
     "duration": 0.082585,
     "end_time": "2020-11-15T18:26:31.925232",
     "exception": false,
     "start_time": "2020-11-15T18:26:31.842647",
     "status": "completed"
    },
    "tags": []
   },
   "outputs": [
    {
     "data": {
      "text/plain": [
       "0       en\n",
       "1       en\n",
       "2       en\n",
       "3       hi\n",
       "4       ko\n",
       "        ..\n",
       "2995    en\n",
       "2996    sv\n",
       "2997    en\n",
       "2998    en\n",
       "2999    en\n",
       "Name: original_language, Length: 3000, dtype: object"
      ]
     },
     "execution_count": 22,
     "metadata": {},
     "output_type": "execute_result"
    }
   ],
   "source": [
    "train.original_language"
   ]
  },
  {
   "cell_type": "code",
   "execution_count": 23,
   "metadata": {
    "execution": {
     "iopub.execute_input": "2020-11-15T18:26:32.082814Z",
     "iopub.status.busy": "2020-11-15T18:26:32.082175Z",
     "iopub.status.idle": "2020-11-15T18:26:32.094895Z",
     "shell.execute_reply": "2020-11-15T18:26:32.094278Z"
    },
    "papermill": {
     "duration": 0.096155,
     "end_time": "2020-11-15T18:26:32.095013",
     "exception": false,
     "start_time": "2020-11-15T18:26:31.998858",
     "status": "completed"
    },
    "tags": []
   },
   "outputs": [],
   "source": [
    "for col in ['original_language']:\n",
    "    le = LabelEncoder()\n",
    "    le.fit(list(train[col].fillna('')) + list(test[col].fillna('')))\n",
    "    train[col] = le.transform(train[col].fillna('').astype(str))\n",
    "    test[col] = le.transform(test[col].fillna('').astype(str))\n",
    "    train.original_language.describe()"
   ]
  },
  {
   "cell_type": "markdown",
   "metadata": {
    "papermill": {
     "duration": 0.071402,
     "end_time": "2020-11-15T18:26:32.237848",
     "exception": false,
     "start_time": "2020-11-15T18:26:32.166446",
     "status": "completed"
    },
    "tags": []
   },
   "source": [
    "**Genres**"
   ]
  },
  {
   "cell_type": "code",
   "execution_count": 24,
   "metadata": {
    "execution": {
     "iopub.execute_input": "2020-11-15T18:26:32.386736Z",
     "iopub.status.busy": "2020-11-15T18:26:32.385862Z",
     "iopub.status.idle": "2020-11-15T18:26:32.391341Z",
     "shell.execute_reply": "2020-11-15T18:26:32.391961Z"
    },
    "papermill": {
     "duration": 0.082909,
     "end_time": "2020-11-15T18:26:32.392174",
     "exception": false,
     "start_time": "2020-11-15T18:26:32.309265",
     "status": "completed"
    },
    "tags": []
   },
   "outputs": [
    {
     "data": {
      "text/plain": [
       "(3000,)"
      ]
     },
     "execution_count": 24,
     "metadata": {},
     "output_type": "execute_result"
    }
   ],
   "source": [
    "train.genres.shape"
   ]
  },
  {
   "cell_type": "code",
   "execution_count": 25,
   "metadata": {
    "execution": {
     "iopub.execute_input": "2020-11-15T18:26:32.617753Z",
     "iopub.status.busy": "2020-11-15T18:26:32.616896Z",
     "iopub.status.idle": "2020-11-15T18:26:32.622322Z",
     "shell.execute_reply": "2020-11-15T18:26:32.621679Z"
    },
    "papermill": {
     "duration": 0.117126,
     "end_time": "2020-11-15T18:26:32.622440",
     "exception": false,
     "start_time": "2020-11-15T18:26:32.505314",
     "status": "completed"
    },
    "tags": []
   },
   "outputs": [
    {
     "data": {
      "text/plain": [
       "0                          [{'id': 35, 'name': 'Comedy'}]\n",
       "1       [{'id': 35, 'name': 'Comedy'}, {'id': 18, 'nam...\n",
       "2                           [{'id': 18, 'name': 'Drama'}]\n",
       "3       [{'id': 53, 'name': 'Thriller'}, {'id': 18, 'n...\n",
       "4       [{'id': 28, 'name': 'Action'}, {'id': 53, 'nam...\n",
       "                              ...                        \n",
       "2995    [{'id': 35, 'name': 'Comedy'}, {'id': 10749, '...\n",
       "2996    [{'id': 18, 'name': 'Drama'}, {'id': 10402, 'n...\n",
       "2997    [{'id': 80, 'name': 'Crime'}, {'id': 28, 'name...\n",
       "2998    [{'id': 35, 'name': 'Comedy'}, {'id': 10749, '...\n",
       "2999    [{'id': 53, 'name': 'Thriller'}, {'id': 28, 'n...\n",
       "Name: genres, Length: 3000, dtype: object"
      ]
     },
     "execution_count": 25,
     "metadata": {},
     "output_type": "execute_result"
    }
   ],
   "source": [
    "train.genres"
   ]
  },
  {
   "cell_type": "code",
   "execution_count": 26,
   "metadata": {
    "execution": {
     "iopub.execute_input": "2020-11-15T18:26:32.801586Z",
     "iopub.status.busy": "2020-11-15T18:26:32.791853Z",
     "iopub.status.idle": "2020-11-15T18:26:32.919292Z",
     "shell.execute_reply": "2020-11-15T18:26:32.918604Z"
    },
    "papermill": {
     "duration": 0.220916,
     "end_time": "2020-11-15T18:26:32.919403",
     "exception": false,
     "start_time": "2020-11-15T18:26:32.698487",
     "status": "completed"
    },
    "tags": []
   },
   "outputs": [],
   "source": [
    "# Removing everything besides the actual genres\n",
    "train.genres = train.genres.apply(lambda x: list(map(lambda d: list(d.values())[1], ast.literal_eval(x)) if isinstance(x, str) else []))"
   ]
  },
  {
   "cell_type": "code",
   "execution_count": 27,
   "metadata": {
    "execution": {
     "iopub.execute_input": "2020-11-15T18:26:33.075268Z",
     "iopub.status.busy": "2020-11-15T18:26:33.074092Z",
     "iopub.status.idle": "2020-11-15T18:26:33.079404Z",
     "shell.execute_reply": "2020-11-15T18:26:33.078963Z"
    },
    "papermill": {
     "duration": 0.087679,
     "end_time": "2020-11-15T18:26:33.079491",
     "exception": false,
     "start_time": "2020-11-15T18:26:32.991812",
     "status": "completed"
    },
    "tags": []
   },
   "outputs": [
    {
     "data": {
      "text/plain": [
       "0                                 [Comedy]\n",
       "1         [Comedy, Drama, Family, Romance]\n",
       "2                                  [Drama]\n",
       "3                        [Thriller, Drama]\n",
       "4                       [Action, Thriller]\n",
       "                       ...                \n",
       "2995                     [Comedy, Romance]\n",
       "2996                        [Drama, Music]\n",
       "2997    [Crime, Action, Mystery, Thriller]\n",
       "2998                     [Comedy, Romance]\n",
       "2999           [Thriller, Action, Mystery]\n",
       "Name: genres, Length: 3000, dtype: object"
      ]
     },
     "execution_count": 27,
     "metadata": {},
     "output_type": "execute_result"
    }
   ],
   "source": [
    "train.genres"
   ]
  },
  {
   "cell_type": "code",
   "execution_count": 28,
   "metadata": {
    "execution": {
     "iopub.execute_input": "2020-11-15T18:26:33.198500Z",
     "iopub.status.busy": "2020-11-15T18:26:33.197588Z",
     "iopub.status.idle": "2020-11-15T18:26:33.201468Z",
     "shell.execute_reply": "2020-11-15T18:26:33.201954Z"
    },
    "papermill": {
     "duration": 0.070939,
     "end_time": "2020-11-15T18:26:33.202099",
     "exception": false,
     "start_time": "2020-11-15T18:26:33.131160",
     "status": "completed"
    },
    "tags": []
   },
   "outputs": [],
   "source": [
    "# Transforming from str(genres) to 1/0 with only the \"best\" four genres =1\n",
    "train.best_genres = train.genres.apply(lambda y: list(map(lambda x: 1 if (x == \"Action\" or x == \"Adventure\" or x == \"Family\" or x == \"Fantasy\") else 0, y)))\n",
    "train[\"best_genres\"] = train.best_genres.apply(lambda x: 1 if (sum(x)>0) else 0)"
   ]
  },
  {
   "cell_type": "code",
   "execution_count": 29,
   "metadata": {
    "execution": {
     "iopub.execute_input": "2020-11-15T18:26:33.366329Z",
     "iopub.status.busy": "2020-11-15T18:26:33.365509Z",
     "iopub.status.idle": "2020-11-15T18:26:33.371040Z",
     "shell.execute_reply": "2020-11-15T18:26:33.370466Z"
    },
    "papermill": {
     "duration": 0.095144,
     "end_time": "2020-11-15T18:26:33.371177",
     "exception": false,
     "start_time": "2020-11-15T18:26:33.276033",
     "status": "completed"
    },
    "tags": []
   },
   "outputs": [
    {
     "data": {
      "text/plain": [
       "0                 [0]\n",
       "1        [0, 0, 1, 0]\n",
       "2                 [0]\n",
       "3              [0, 0]\n",
       "4              [1, 0]\n",
       "5           [0, 1, 1]\n",
       "6              [0, 0]\n",
       "7                 [0]\n",
       "8     [1, 0, 0, 1, 1]\n",
       "9              [0, 0]\n",
       "10                [0]\n",
       "11                [0]\n",
       "12                [0]\n",
       "13             [0, 0]\n",
       "14       [1, 0, 0, 0]\n",
       "15          [1, 0, 0]\n",
       "16             [0, 0]\n",
       "17             [0, 0]\n",
       "18             [0, 0]\n",
       "19          [1, 0, 0]\n",
       "20          [1, 1, 0]\n",
       "21             [0, 0]\n",
       "22             [0, 0]\n",
       "23          [0, 0, 0]\n",
       "24             [0, 0]\n",
       "25       [0, 0, 0, 0]\n",
       "26       [0, 0, 0, 0]\n",
       "27          [0, 0, 0]\n",
       "28                [0]\n",
       "29       [1, 1, 0, 0]\n",
       "Name: genres, dtype: object"
      ]
     },
     "execution_count": 29,
     "metadata": {},
     "output_type": "execute_result"
    }
   ],
   "source": [
    "train.best_genres.head(30)\n"
   ]
  },
  {
   "cell_type": "code",
   "execution_count": 30,
   "metadata": {
    "execution": {
     "iopub.execute_input": "2020-11-15T18:26:33.524041Z",
     "iopub.status.busy": "2020-11-15T18:26:33.523413Z",
     "iopub.status.idle": "2020-11-15T18:26:33.526410Z",
     "shell.execute_reply": "2020-11-15T18:26:33.525764Z"
    },
    "papermill": {
     "duration": 0.081562,
     "end_time": "2020-11-15T18:26:33.526523",
     "exception": false,
     "start_time": "2020-11-15T18:26:33.444961",
     "status": "completed"
    },
    "tags": []
   },
   "outputs": [],
   "source": [
    "train[\"best_genres\"] = train.best_genres"
   ]
  },
  {
   "cell_type": "code",
   "execution_count": 31,
   "metadata": {
    "execution": {
     "iopub.execute_input": "2020-11-15T18:26:33.688688Z",
     "iopub.status.busy": "2020-11-15T18:26:33.683028Z",
     "iopub.status.idle": "2020-11-15T18:26:33.732388Z",
     "shell.execute_reply": "2020-11-15T18:26:33.731716Z"
    },
    "papermill": {
     "duration": 0.132799,
     "end_time": "2020-11-15T18:26:33.732496",
     "exception": false,
     "start_time": "2020-11-15T18:26:33.599697",
     "status": "completed"
    },
    "tags": []
   },
   "outputs": [
    {
     "data": {
      "text/html": [
       "<div>\n",
       "<style scoped>\n",
       "    .dataframe tbody tr th:only-of-type {\n",
       "        vertical-align: middle;\n",
       "    }\n",
       "\n",
       "    .dataframe tbody tr th {\n",
       "        vertical-align: top;\n",
       "    }\n",
       "\n",
       "    .dataframe thead th {\n",
       "        text-align: right;\n",
       "    }\n",
       "</style>\n",
       "<table border=\"1\" class=\"dataframe\">\n",
       "  <thead>\n",
       "    <tr style=\"text-align: right;\">\n",
       "      <th></th>\n",
       "      <th>id</th>\n",
       "      <th>budget</th>\n",
       "      <th>original_language</th>\n",
       "      <th>popularity</th>\n",
       "      <th>runtime</th>\n",
       "      <th>revenue</th>\n",
       "      <th>release_year</th>\n",
       "      <th>release_month</th>\n",
       "    </tr>\n",
       "  </thead>\n",
       "  <tbody>\n",
       "    <tr>\n",
       "      <th>count</th>\n",
       "      <td>3000.000000</td>\n",
       "      <td>3.000000e+03</td>\n",
       "      <td>3000.000000</td>\n",
       "      <td>3000.000000</td>\n",
       "      <td>2998.000000</td>\n",
       "      <td>3000.000000</td>\n",
       "      <td>3000.000000</td>\n",
       "      <td>3000.000000</td>\n",
       "    </tr>\n",
       "    <tr>\n",
       "      <th>mean</th>\n",
       "      <td>1500.500000</td>\n",
       "      <td>2.253133e+07</td>\n",
       "      <td>11.475000</td>\n",
       "      <td>8.463274</td>\n",
       "      <td>107.856571</td>\n",
       "      <td>15.961986</td>\n",
       "      <td>2004.779667</td>\n",
       "      <td>6.775333</td>\n",
       "    </tr>\n",
       "    <tr>\n",
       "      <th>std</th>\n",
       "      <td>866.169729</td>\n",
       "      <td>3.702609e+07</td>\n",
       "      <td>5.321981</td>\n",
       "      <td>12.104000</td>\n",
       "      <td>22.086434</td>\n",
       "      <td>3.061311</td>\n",
       "      <td>15.664767</td>\n",
       "      <td>3.409115</td>\n",
       "    </tr>\n",
       "    <tr>\n",
       "      <th>min</th>\n",
       "      <td>1.000000</td>\n",
       "      <td>0.000000e+00</td>\n",
       "      <td>1.000000</td>\n",
       "      <td>0.000001</td>\n",
       "      <td>0.000000</td>\n",
       "      <td>0.693147</td>\n",
       "      <td>1970.000000</td>\n",
       "      <td>1.000000</td>\n",
       "    </tr>\n",
       "    <tr>\n",
       "      <th>25%</th>\n",
       "      <td>750.750000</td>\n",
       "      <td>0.000000e+00</td>\n",
       "      <td>10.000000</td>\n",
       "      <td>4.018053</td>\n",
       "      <td>94.000000</td>\n",
       "      <td>14.682517</td>\n",
       "      <td>1995.000000</td>\n",
       "      <td>4.000000</td>\n",
       "    </tr>\n",
       "    <tr>\n",
       "      <th>50%</th>\n",
       "      <td>1500.500000</td>\n",
       "      <td>8.000000e+06</td>\n",
       "      <td>10.000000</td>\n",
       "      <td>7.374861</td>\n",
       "      <td>104.000000</td>\n",
       "      <td>16.637310</td>\n",
       "      <td>2006.000000</td>\n",
       "      <td>7.000000</td>\n",
       "    </tr>\n",
       "    <tr>\n",
       "      <th>75%</th>\n",
       "      <td>2250.250000</td>\n",
       "      <td>2.900000e+07</td>\n",
       "      <td>10.000000</td>\n",
       "      <td>10.890983</td>\n",
       "      <td>118.000000</td>\n",
       "      <td>18.048445</td>\n",
       "      <td>2012.000000</td>\n",
       "      <td>10.000000</td>\n",
       "    </tr>\n",
       "    <tr>\n",
       "      <th>max</th>\n",
       "      <td>3000.000000</td>\n",
       "      <td>3.800000e+08</td>\n",
       "      <td>43.000000</td>\n",
       "      <td>294.337037</td>\n",
       "      <td>338.000000</td>\n",
       "      <td>21.141685</td>\n",
       "      <td>2069.000000</td>\n",
       "      <td>12.000000</td>\n",
       "    </tr>\n",
       "  </tbody>\n",
       "</table>\n",
       "</div>"
      ],
      "text/plain": [
       "                id        budget  original_language   popularity      runtime  \\\n",
       "count  3000.000000  3.000000e+03        3000.000000  3000.000000  2998.000000   \n",
       "mean   1500.500000  2.253133e+07          11.475000     8.463274   107.856571   \n",
       "std     866.169729  3.702609e+07           5.321981    12.104000    22.086434   \n",
       "min       1.000000  0.000000e+00           1.000000     0.000001     0.000000   \n",
       "25%     750.750000  0.000000e+00          10.000000     4.018053    94.000000   \n",
       "50%    1500.500000  8.000000e+06          10.000000     7.374861   104.000000   \n",
       "75%    2250.250000  2.900000e+07          10.000000    10.890983   118.000000   \n",
       "max    3000.000000  3.800000e+08          43.000000   294.337037   338.000000   \n",
       "\n",
       "           revenue  release_year  release_month  \n",
       "count  3000.000000   3000.000000    3000.000000  \n",
       "mean     15.961986   2004.779667       6.775333  \n",
       "std       3.061311     15.664767       3.409115  \n",
       "min       0.693147   1970.000000       1.000000  \n",
       "25%      14.682517   1995.000000       4.000000  \n",
       "50%      16.637310   2006.000000       7.000000  \n",
       "75%      18.048445   2012.000000      10.000000  \n",
       "max      21.141685   2069.000000      12.000000  "
      ]
     },
     "execution_count": 31,
     "metadata": {},
     "output_type": "execute_result"
    }
   ],
   "source": [
    "train.describe()"
   ]
  },
  {
   "cell_type": "code",
   "execution_count": 32,
   "metadata": {
    "execution": {
     "iopub.execute_input": "2020-11-15T18:26:33.889456Z",
     "iopub.status.busy": "2020-11-15T18:26:33.888836Z",
     "iopub.status.idle": "2020-11-15T18:26:33.895917Z",
     "shell.execute_reply": "2020-11-15T18:26:33.895453Z"
    },
    "papermill": {
     "duration": 0.087642,
     "end_time": "2020-11-15T18:26:33.896001",
     "exception": false,
     "start_time": "2020-11-15T18:26:33.808359",
     "status": "completed"
    },
    "tags": []
   },
   "outputs": [
    {
     "data": {
      "text/plain": [
       "revenue              1.000000\n",
       "budget               0.485856\n",
       "popularity           0.288506\n",
       "runtime              0.210098\n",
       "release_month        0.031051\n",
       "id                   0.014447\n",
       "release_year        -0.071098\n",
       "original_language   -0.139569\n",
       "Name: revenue, dtype: float64"
      ]
     },
     "execution_count": 32,
     "metadata": {},
     "output_type": "execute_result"
    }
   ],
   "source": [
    "corr_matrix = train.corr()\n",
    "corr_matrix[\"revenue\"].sort_values(ascending=False)"
   ]
  },
  {
   "cell_type": "markdown",
   "metadata": {
    "papermill": {
     "duration": 0.053664,
     "end_time": "2020-11-15T18:26:34.002693",
     "exception": false,
     "start_time": "2020-11-15T18:26:33.949029",
     "status": "completed"
    },
    "tags": []
   },
   "source": [
    "**Production companies**"
   ]
  },
  {
   "cell_type": "code",
   "execution_count": 33,
   "metadata": {
    "execution": {
     "iopub.execute_input": "2020-11-15T18:26:34.141185Z",
     "iopub.status.busy": "2020-11-15T18:26:34.131395Z",
     "iopub.status.idle": "2020-11-15T18:26:47.303827Z",
     "shell.execute_reply": "2020-11-15T18:26:47.303249Z"
    },
    "papermill": {
     "duration": 13.247478,
     "end_time": "2020-11-15T18:26:47.303939",
     "exception": false,
     "start_time": "2020-11-15T18:26:34.056461",
     "status": "completed"
    },
    "tags": []
   },
   "outputs": [],
   "source": [
    "# Transforming fron JSON to Dictionary columns:\n",
    "dict_columns = ['production_companies','cast', 'crew']\n",
    "\n",
    "def text_to_dict(df):\n",
    "    for column in dict_columns:\n",
    "        df[column] = df[column].apply(lambda x: {} if pd.isna(x) else ast.literal_eval(x) )\n",
    "    return df\n",
    "        \n",
    "train = text_to_dict(train)\n",
    "test = text_to_dict(test)"
   ]
  },
  {
   "cell_type": "code",
   "execution_count": 34,
   "metadata": {
    "execution": {
     "iopub.execute_input": "2020-11-15T18:26:47.482309Z",
     "iopub.status.busy": "2020-11-15T18:26:47.481535Z",
     "iopub.status.idle": "2020-11-15T18:26:47.724646Z",
     "shell.execute_reply": "2020-11-15T18:26:47.723977Z"
    },
    "papermill": {
     "duration": 0.345531,
     "end_time": "2020-11-15T18:26:47.724754",
     "exception": false,
     "start_time": "2020-11-15T18:26:47.379223",
     "status": "completed"
    },
    "tags": []
   },
   "outputs": [
    {
     "data": {
      "image/png": "[encoded data removed]",
      "text/plain": [
       "<Figure size 720x432 with 1 Axes>"
      ]
     },
     "metadata": {},
     "output_type": "display_data"
    }
   ],
   "source": [
    "# Counting the frequency of production company \n",
    "\n",
    "list_of_companies = list(train['production_companies'].apply(lambda x: [i['name'] for i in x] if x != {} else []).values)\n",
    "\n",
    "most_common_companies=Counter([i for j in list_of_companies for i in j]).most_common(20)\n",
    "\n",
    "fig = plt.figure(figsize=(10, 6))\n",
    "data=dict(most_common_companies)\n",
    "names = list(data.keys())\n",
    "values = list(data.values())\n",
    "\n",
    "plt.barh(sorted(range(len(data)),reverse=True),values,tick_label=names, color='pink')\n",
    "plt.xlabel('Count')\n",
    "plt.title('Top 20 Production Company Count')\n",
    "plt.show()"
   ]
  },
  {
   "cell_type": "code",
   "execution_count": 35,
   "metadata": {
    "execution": {
     "iopub.execute_input": "2020-11-15T18:26:48.007372Z",
     "iopub.status.busy": "2020-11-15T18:26:47.984328Z",
     "iopub.status.idle": "2020-11-15T18:26:48.131598Z",
     "shell.execute_reply": "2020-11-15T18:26:48.130617Z"
    },
    "papermill": {
     "duration": 0.329715,
     "end_time": "2020-11-15T18:26:48.131776",
     "exception": false,
     "start_time": "2020-11-15T18:26:47.802061",
     "status": "completed"
    },
    "tags": []
   },
   "outputs": [
    {
     "name": "stdout",
     "output_type": "stream",
     "text": [
      "<class 'pandas.core.frame.DataFrame'>\n",
      "RangeIndex: 3000 entries, 0 to 2999\n",
      "Data columns (total 55 columns):\n",
      " #   Column                                                     Non-Null Count  Dtype  \n",
      "---  ------                                                     --------------  -----  \n",
      " 0   id                                                         3000 non-null   int64  \n",
      " 1   belongs_to_collection                                      604 non-null    object \n",
      " 2   budget                                                     3000 non-null   int64  \n",
      " 3   genres                                                     3000 non-null   object \n",
      " 4   homepage                                                   946 non-null    object \n",
      " 5   imdb_id                                                    3000 non-null   object \n",
      " 6   original_language                                          3000 non-null   int32  \n",
      " 7   original_title                                             3000 non-null   object \n",
      " 8   overview                                                   2992 non-null   object \n",
      " 9   popularity                                                 3000 non-null   float64\n",
      " 10  poster_path                                                2999 non-null   object \n",
      " 11  production_countries                                       2945 non-null   object \n",
      " 12  runtime                                                    2998 non-null   float64\n",
      " 13  spoken_languages                                           2980 non-null   object \n",
      " 14  status                                                     3000 non-null   object \n",
      " 15  tagline                                                    2403 non-null   object \n",
      " 16  title                                                      3000 non-null   object \n",
      " 17  Keywords                                                   2724 non-null   object \n",
      " 18  cast                                                       3000 non-null   object \n",
      " 19  crew                                                       3000 non-null   object \n",
      " 20  revenue                                                    3000 non-null   float64\n",
      " 21  release_year                                               3000 non-null   int64  \n",
      " 22  release_month                                              3000 non-null   int64  \n",
      " 23  best_genres                                                3000 non-null   object \n",
      " 24  num_companies                                              3000 non-null   int64  \n",
      " 25  production_company_Warner Bros.                            3000 non-null   int64  \n",
      " 26  production_company_Universal Pictures                      3000 non-null   int64  \n",
      " 27  production_company_Paramount Pictures                      3000 non-null   int64  \n",
      " 28  production_company_Twentieth Century Fox Film Corporation  3000 non-null   int64  \n",
      " 29  production_company_Columbia Pictures                       3000 non-null   int64  \n",
      " 30  production_company_Metro-Goldwyn-Mayer (MGM)               3000 non-null   int64  \n",
      " 31  production_company_New Line Cinema                         3000 non-null   int64  \n",
      " 32  production_company_Touchstone Pictures                     3000 non-null   int64  \n",
      " 33  production_company_Walt Disney Pictures                    3000 non-null   int64  \n",
      " 34  production_company_Columbia Pictures Corporation           3000 non-null   int64  \n",
      " 35  production_company_TriStar Pictures                        3000 non-null   int64  \n",
      " 36  production_company_Relativity Media                        3000 non-null   int64  \n",
      " 37  production_company_Canal+                                  3000 non-null   int64  \n",
      " 38  production_company_United Artists                          3000 non-null   int64  \n",
      " 39  production_company_Miramax Films                           3000 non-null   int64  \n",
      " 40  production_company_Village Roadshow Pictures               3000 non-null   int64  \n",
      " 41  production_company_Regency Enterprises                     3000 non-null   int64  \n",
      " 42  production_company_BBC Films                               3000 non-null   int64  \n",
      " 43  production_company_Dune Entertainment                      3000 non-null   int64  \n",
      " 44  production_company_Working Title Films                     3000 non-null   int64  \n",
      " 45  production_company_Fox Searchlight Pictures                3000 non-null   int64  \n",
      " 46  production_company_StudioCanal                             3000 non-null   int64  \n",
      " 47  production_company_Lionsgate                               3000 non-null   int64  \n",
      " 48  production_company_DreamWorks SKG                          3000 non-null   int64  \n",
      " 49  production_company_Fox 2000 Pictures                       3000 non-null   int64  \n",
      " 50  production_company_Summit Entertainment                    3000 non-null   int64  \n",
      " 51  production_company_Hollywood Pictures                      3000 non-null   int64  \n",
      " 52  production_company_Orion Pictures                          3000 non-null   int64  \n",
      " 53  production_company_Amblin Entertainment                    3000 non-null   int64  \n",
      " 54  production_company_Dimension Films                         3000 non-null   int64  \n",
      "dtypes: float64(3), int32(1), int64(35), object(16)\n",
      "memory usage: 1.2+ MB\n"
     ]
    }
   ],
   "source": [
    "train['num_companies'] = train['production_companies'].apply(lambda x: len(x) if x != {} else 0)\n",
    "train['all_production_companies'] = train['production_companies'].apply(lambda x: ' '.join(sorted([i['name'] for i in x])) if x != {} else '')\n",
    "top_companies = [m[0] for m in Counter([i for j in list_of_companies for i in j]).most_common(30)]\n",
    "for g in top_companies:\n",
    "    train['production_company_' + g] = train['all_production_companies'].apply(lambda x: 1 if g in x else 0)\n",
    "    \n",
    "test['num_companies'] = test['production_companies'].apply(lambda x: len(x) if x != {} else 0)\n",
    "test['all_production_companies'] = test['production_companies'].apply(lambda x: ' '.join(sorted([i['name'] for i in x])) if x != {} else '')\n",
    "for g in top_companies:\n",
    "    test['production_company_' + g] = test['all_production_companies'].apply(lambda x: 1 if g in x else 0)\n",
    "\n",
    "train = train.drop(['production_companies', 'all_production_companies'], axis=1)\n",
    "test = test.drop(['production_companies', 'all_production_companies'], axis=1)\n",
    "train.info()"
   ]
  },
  {
   "cell_type": "markdown",
   "metadata": {
    "papermill": {
     "duration": 0.077373,
     "end_time": "2020-11-15T18:26:48.292474",
     "exception": false,
     "start_time": "2020-11-15T18:26:48.215101",
     "status": "completed"
    },
    "tags": []
   },
   "source": [
    "**Cast**"
   ]
  },
  {
   "cell_type": "code",
   "execution_count": 36,
   "metadata": {
    "execution": {
     "iopub.execute_input": "2020-11-15T18:26:48.469932Z",
     "iopub.status.busy": "2020-11-15T18:26:48.459489Z",
     "iopub.status.idle": "2020-11-15T18:26:48.513374Z",
     "shell.execute_reply": "2020-11-15T18:26:48.512543Z"
    },
    "papermill": {
     "duration": 0.143151,
     "end_time": "2020-11-15T18:26:48.513513",
     "exception": false,
     "start_time": "2020-11-15T18:26:48.370362",
     "status": "completed"
    },
    "tags": []
   },
   "outputs": [
    {
     "data": {
      "text/plain": [
       "[('Samuel L. Jackson', 30),\n",
       " ('Robert De Niro', 30),\n",
       " ('Morgan Freeman', 27),\n",
       " ('J.K. Simmons', 25),\n",
       " ('Bruce Willis', 25),\n",
       " ('Liam Neeson', 25),\n",
       " ('Susan Sarandon', 25),\n",
       " ('Bruce McGill', 24),\n",
       " ('John Turturro', 24),\n",
       " ('Forest Whitaker', 23),\n",
       " ('Willem Dafoe', 23),\n",
       " ('Bill Murray', 22),\n",
       " ('Owen Wilson', 22),\n",
       " ('Nicolas Cage', 22),\n",
       " ('Sylvester Stallone', 21),\n",
       " ('Jason Statham', 21),\n",
       " ('Keith David', 21),\n",
       " ('John Goodman', 21),\n",
       " ('Mel Gibson', 21),\n",
       " ('Sigourney Weaver', 21),\n",
       " ('Frank Welker', 20),\n",
       " ('Michael Caine', 20),\n",
       " ('George Clooney', 20),\n",
       " ('Denzel Washington', 20),\n",
       " ('Robert Duvall', 20),\n",
       " ('Ed Harris', 20),\n",
       " ('Dennis Quaid', 20),\n",
       " ('Richard Jenkins', 20),\n",
       " ('Matt Damon', 20),\n",
       " ('Christopher Plummer', 19)]"
      ]
     },
     "execution_count": 36,
     "metadata": {},
     "output_type": "execute_result"
    }
   ],
   "source": [
    "list_of_cast_names = list(train['cast'].apply(lambda x: [i['name'] for i in x] if x != {} else []).values)\n",
    "Counter([i for j in list_of_cast_names for i in j]).most_common(30)"
   ]
  },
  {
   "cell_type": "code",
   "execution_count": 37,
   "metadata": {
    "execution": {
     "iopub.execute_input": "2020-11-15T18:26:48.773366Z",
     "iopub.status.busy": "2020-11-15T18:26:48.768417Z",
     "iopub.status.idle": "2020-11-15T18:26:48.780053Z",
     "shell.execute_reply": "2020-11-15T18:26:48.779559Z"
    },
    "papermill": {
     "duration": 0.15191,
     "end_time": "2020-11-15T18:26:48.780196",
     "exception": false,
     "start_time": "2020-11-15T18:26:48.628286",
     "status": "completed"
    },
    "tags": []
   },
   "outputs": [],
   "source": [
    "top_cast_names = [m[0] for m in Counter([i for j in list_of_cast_names for i in j]).most_common(29)]"
   ]
  },
  {
   "cell_type": "code",
   "execution_count": 38,
   "metadata": {
    "execution": {
     "iopub.execute_input": "2020-11-15T18:26:48.943462Z",
     "iopub.status.busy": "2020-11-15T18:26:48.942526Z",
     "iopub.status.idle": "2020-11-15T18:26:48.947831Z",
     "shell.execute_reply": "2020-11-15T18:26:48.946901Z"
    },
    "papermill": {
     "duration": 0.089167,
     "end_time": "2020-11-15T18:26:48.948041",
     "exception": false,
     "start_time": "2020-11-15T18:26:48.858874",
     "status": "completed"
    },
    "tags": []
   },
   "outputs": [
    {
     "data": {
      "text/plain": [
       "['Samuel L. Jackson',\n",
       " 'Robert De Niro',\n",
       " 'Morgan Freeman',\n",
       " 'J.K. Simmons',\n",
       " 'Bruce Willis',\n",
       " 'Liam Neeson',\n",
       " 'Susan Sarandon',\n",
       " 'Bruce McGill',\n",
       " 'John Turturro',\n",
       " 'Forest Whitaker',\n",
       " 'Willem Dafoe',\n",
       " 'Bill Murray',\n",
       " 'Owen Wilson',\n",
       " 'Nicolas Cage',\n",
       " 'Sylvester Stallone',\n",
       " 'Jason Statham',\n",
       " 'Keith David',\n",
       " 'John Goodman',\n",
       " 'Mel Gibson',\n",
       " 'Sigourney Weaver',\n",
       " 'Frank Welker',\n",
       " 'Michael Caine',\n",
       " 'George Clooney',\n",
       " 'Denzel Washington',\n",
       " 'Robert Duvall',\n",
       " 'Ed Harris',\n",
       " 'Dennis Quaid',\n",
       " 'Richard Jenkins',\n",
       " 'Matt Damon']"
      ]
     },
     "execution_count": 38,
     "metadata": {},
     "output_type": "execute_result"
    }
   ],
   "source": [
    "top_cast_names"
   ]
  },
  {
   "cell_type": "code",
   "execution_count": 39,
   "metadata": {
    "execution": {
     "iopub.execute_input": "2020-11-15T18:26:49.121312Z",
     "iopub.status.busy": "2020-11-15T18:26:49.120786Z",
     "iopub.status.idle": "2020-11-15T18:26:49.124734Z",
     "shell.execute_reply": "2020-11-15T18:26:49.124029Z"
    },
    "papermill": {
     "duration": 0.096576,
     "end_time": "2020-11-15T18:26:49.124849",
     "exception": false,
     "start_time": "2020-11-15T18:26:49.028273",
     "status": "completed"
    },
    "tags": []
   },
   "outputs": [],
   "source": [
    "train.best_genres = train.genres.apply(lambda y: list(map(lambda x: 1 if (x == \"Action\" or x == \"Adventure\" or x == \"Family\" or x == \"Fantasy\") else 0, y)))\n",
    "train[\"best_genres\"] = train.best_genres.apply(lambda x: 1 if (sum(x)>0) else 0)"
   ]
  },
  {
   "cell_type": "code",
   "execution_count": 40,
   "metadata": {
    "execution": {
     "iopub.execute_input": "2020-11-15T18:26:49.305214Z",
     "iopub.status.busy": "2020-11-15T18:26:49.294803Z",
     "iopub.status.idle": "2020-11-15T18:26:49.355250Z",
     "shell.execute_reply": "2020-11-15T18:26:49.354695Z"
    },
    "papermill": {
     "duration": 0.15076,
     "end_time": "2020-11-15T18:26:49.355364",
     "exception": false,
     "start_time": "2020-11-15T18:26:49.204604",
     "status": "completed"
    },
    "tags": []
   },
   "outputs": [],
   "source": [
    "train[\"includes_famous_actor\"] = train[\"cast\"].apply(lambda x: list(map(lambda y: 1 if (y in top_cast_names) else 0, x)))\n",
    "#[s for s in train[\"cast\"] if any(xs in s for xs in top_cast_names)]"
   ]
  },
  {
   "cell_type": "code",
   "execution_count": 41,
   "metadata": {
    "execution": {
     "iopub.execute_input": "2020-11-15T18:26:49.522285Z",
     "iopub.status.busy": "2020-11-15T18:26:49.521673Z",
     "iopub.status.idle": "2020-11-15T18:26:49.525895Z",
     "shell.execute_reply": "2020-11-15T18:26:49.525194Z"
    },
    "papermill": {
     "duration": 0.091833,
     "end_time": "2020-11-15T18:26:49.526013",
     "exception": false,
     "start_time": "2020-11-15T18:26:49.434180",
     "status": "completed"
    },
    "tags": []
   },
   "outputs": [],
   "source": [
    "train[\"includes_famous_actor\"] = train[\"includes_famous_actor\"].apply(lambda x: 1 if (sum(x)>0) else 0)"
   ]
  },
  {
   "cell_type": "code",
   "execution_count": 42,
   "metadata": {
    "execution": {
     "iopub.execute_input": "2020-11-15T18:26:49.694970Z",
     "iopub.status.busy": "2020-11-15T18:26:49.694208Z",
     "iopub.status.idle": "2020-11-15T18:26:49.699933Z",
     "shell.execute_reply": "2020-11-15T18:26:49.699263Z"
    },
    "papermill": {
     "duration": 0.093778,
     "end_time": "2020-11-15T18:26:49.700041",
     "exception": false,
     "start_time": "2020-11-15T18:26:49.606263",
     "status": "completed"
    },
    "tags": []
   },
   "outputs": [
    {
     "data": {
      "text/plain": [
       "0     0\n",
       "1     0\n",
       "2     0\n",
       "3     0\n",
       "4     0\n",
       "5     0\n",
       "6     0\n",
       "7     0\n",
       "8     0\n",
       "9     0\n",
       "10    0\n",
       "11    0\n",
       "12    0\n",
       "13    0\n",
       "14    0\n",
       "15    0\n",
       "16    0\n",
       "17    0\n",
       "18    0\n",
       "19    0\n",
       "20    0\n",
       "21    0\n",
       "22    0\n",
       "23    0\n",
       "24    0\n",
       "25    0\n",
       "26    0\n",
       "27    0\n",
       "28    0\n",
       "29    0\n",
       "30    0\n",
       "31    0\n",
       "32    0\n",
       "33    0\n",
       "34    0\n",
       "35    0\n",
       "36    0\n",
       "37    0\n",
       "38    0\n",
       "Name: includes_famous_actor, dtype: int64"
      ]
     },
     "execution_count": 42,
     "metadata": {},
     "output_type": "execute_result"
    }
   ],
   "source": [
    "train[\"includes_famous_actor\"].head(39)"
   ]
  },
  {
   "cell_type": "code",
   "execution_count": 43,
   "metadata": {
    "execution": {
     "iopub.execute_input": "2020-11-15T18:26:49.870045Z",
     "iopub.status.busy": "2020-11-15T18:26:49.869125Z",
     "iopub.status.idle": "2020-11-15T18:26:49.873701Z",
     "shell.execute_reply": "2020-11-15T18:26:49.873081Z"
    },
    "papermill": {
     "duration": 0.093494,
     "end_time": "2020-11-15T18:26:49.873814",
     "exception": false,
     "start_time": "2020-11-15T18:26:49.780320",
     "status": "completed"
    },
    "tags": []
   },
   "outputs": [
    {
     "data": {
      "text/plain": [
       "0       0\n",
       "1       0\n",
       "2       0\n",
       "3       0\n",
       "4       0\n",
       "       ..\n",
       "2995    0\n",
       "2996    0\n",
       "2997    0\n",
       "2998    0\n",
       "2999    0\n",
       "Name: includes_famous_actor, Length: 3000, dtype: int64"
      ]
     },
     "execution_count": 43,
     "metadata": {},
     "output_type": "execute_result"
    }
   ],
   "source": [
    " train[\"includes_famous_actor\"]"
   ]
  },
  {
   "cell_type": "code",
   "execution_count": 44,
   "metadata": {
    "execution": {
     "iopub.execute_input": "2020-11-15T18:26:50.068165Z",
     "iopub.status.busy": "2020-11-15T18:26:50.044498Z",
     "iopub.status.idle": "2020-11-15T18:26:52.456912Z",
     "shell.execute_reply": "2020-11-15T18:26:52.457628Z"
    },
    "papermill": {
     "duration": 2.503024,
     "end_time": "2020-11-15T18:26:52.457799",
     "exception": false,
     "start_time": "2020-11-15T18:26:49.954775",
     "status": "completed"
    },
    "tags": []
   },
   "outputs": [],
   "source": [
    "top_cast_names = [m[0] for m in Counter([i for j in list_of_cast_names for i in j]).most_common(15)]\n",
    "for g in top_cast_names:\n",
    "    train['cast_name_' + g] = train['cast'].apply(lambda x: 1 if g in str(x) else 0)\n"
   ]
  },
  {
   "cell_type": "code",
   "execution_count": 45,
   "metadata": {
    "execution": {
     "iopub.execute_input": "2020-11-15T18:26:52.667305Z",
     "iopub.status.busy": "2020-11-15T18:26:52.665406Z",
     "iopub.status.idle": "2020-11-15T18:26:52.707590Z",
     "shell.execute_reply": "2020-11-15T18:26:52.706940Z"
    },
    "papermill": {
     "duration": 0.132471,
     "end_time": "2020-11-15T18:26:52.707693",
     "exception": false,
     "start_time": "2020-11-15T18:26:52.575222",
     "status": "completed"
    },
    "tags": []
   },
   "outputs": [
    {
     "data": {
      "text/html": [
       "<div>\n",
       "<style scoped>\n",
       "    .dataframe tbody tr th:only-of-type {\n",
       "        vertical-align: middle;\n",
       "    }\n",
       "\n",
       "    .dataframe tbody tr th {\n",
       "        vertical-align: top;\n",
       "    }\n",
       "\n",
       "    .dataframe thead th {\n",
       "        text-align: right;\n",
       "    }\n",
       "</style>\n",
       "<table border=\"1\" class=\"dataframe\">\n",
       "  <thead>\n",
       "    <tr style=\"text-align: right;\">\n",
       "      <th></th>\n",
       "      <th>id</th>\n",
       "      <th>belongs_to_collection</th>\n",
       "      <th>budget</th>\n",
       "      <th>genres</th>\n",
       "      <th>homepage</th>\n",
       "      <th>imdb_id</th>\n",
       "      <th>original_language</th>\n",
       "      <th>original_title</th>\n",
       "      <th>overview</th>\n",
       "      <th>popularity</th>\n",
       "      <th>...</th>\n",
       "      <th>cast_name_Liam Neeson</th>\n",
       "      <th>cast_name_Susan Sarandon</th>\n",
       "      <th>cast_name_Bruce McGill</th>\n",
       "      <th>cast_name_John Turturro</th>\n",
       "      <th>cast_name_Forest Whitaker</th>\n",
       "      <th>cast_name_Willem Dafoe</th>\n",
       "      <th>cast_name_Bill Murray</th>\n",
       "      <th>cast_name_Owen Wilson</th>\n",
       "      <th>cast_name_Nicolas Cage</th>\n",
       "      <th>cast_name_Sylvester Stallone</th>\n",
       "    </tr>\n",
       "  </thead>\n",
       "  <tbody>\n",
       "    <tr>\n",
       "      <th>0</th>\n",
       "      <td>1</td>\n",
       "      <td>[{'id': 313576, 'name': 'Hot Tub Time Machine ...</td>\n",
       "      <td>14000000</td>\n",
       "      <td>[Comedy]</td>\n",
       "      <td>NaN</td>\n",
       "      <td>tt2637294</td>\n",
       "      <td>10</td>\n",
       "      <td>Hot Tub Time Machine 2</td>\n",
       "      <td>When Lou, who has become the \"father of the In...</td>\n",
       "      <td>6.575393</td>\n",
       "      <td>...</td>\n",
       "      <td>0</td>\n",
       "      <td>0</td>\n",
       "      <td>0</td>\n",
       "      <td>0</td>\n",
       "      <td>0</td>\n",
       "      <td>0</td>\n",
       "      <td>0</td>\n",
       "      <td>0</td>\n",
       "      <td>0</td>\n",
       "      <td>0</td>\n",
       "    </tr>\n",
       "    <tr>\n",
       "      <th>1</th>\n",
       "      <td>2</td>\n",
       "      <td>[{'id': 107674, 'name': 'The Princess Diaries ...</td>\n",
       "      <td>40000000</td>\n",
       "      <td>[Comedy, Drama, Family, Romance]</td>\n",
       "      <td>NaN</td>\n",
       "      <td>tt0368933</td>\n",
       "      <td>10</td>\n",
       "      <td>The Princess Diaries 2: Royal Engagement</td>\n",
       "      <td>Mia Thermopolis is now a college graduate and ...</td>\n",
       "      <td>8.248895</td>\n",
       "      <td>...</td>\n",
       "      <td>0</td>\n",
       "      <td>0</td>\n",
       "      <td>0</td>\n",
       "      <td>0</td>\n",
       "      <td>0</td>\n",
       "      <td>0</td>\n",
       "      <td>0</td>\n",
       "      <td>0</td>\n",
       "      <td>0</td>\n",
       "      <td>0</td>\n",
       "    </tr>\n",
       "    <tr>\n",
       "      <th>2</th>\n",
       "      <td>3</td>\n",
       "      <td>NaN</td>\n",
       "      <td>3300000</td>\n",
       "      <td>[Drama]</td>\n",
       "      <td>http://sonyclassics.com/whiplash/</td>\n",
       "      <td>tt2582802</td>\n",
       "      <td>10</td>\n",
       "      <td>Whiplash</td>\n",
       "      <td>Under the direction of a ruthless instructor, ...</td>\n",
       "      <td>64.299990</td>\n",
       "      <td>...</td>\n",
       "      <td>0</td>\n",
       "      <td>0</td>\n",
       "      <td>0</td>\n",
       "      <td>0</td>\n",
       "      <td>0</td>\n",
       "      <td>0</td>\n",
       "      <td>0</td>\n",
       "      <td>0</td>\n",
       "      <td>0</td>\n",
       "      <td>0</td>\n",
       "    </tr>\n",
       "    <tr>\n",
       "      <th>3</th>\n",
       "      <td>4</td>\n",
       "      <td>NaN</td>\n",
       "      <td>1200000</td>\n",
       "      <td>[Thriller, Drama]</td>\n",
       "      <td>http://kahaanithefilm.com/</td>\n",
       "      <td>tt1821480</td>\n",
       "      <td>16</td>\n",
       "      <td>Kahaani</td>\n",
       "      <td>Vidya Bagchi (Vidya Balan) arrives in Kolkata ...</td>\n",
       "      <td>3.174936</td>\n",
       "      <td>...</td>\n",
       "      <td>0</td>\n",
       "      <td>0</td>\n",
       "      <td>0</td>\n",
       "      <td>0</td>\n",
       "      <td>0</td>\n",
       "      <td>0</td>\n",
       "      <td>0</td>\n",
       "      <td>0</td>\n",
       "      <td>0</td>\n",
       "      <td>0</td>\n",
       "    </tr>\n",
       "    <tr>\n",
       "      <th>4</th>\n",
       "      <td>5</td>\n",
       "      <td>NaN</td>\n",
       "      <td>0</td>\n",
       "      <td>[Action, Thriller]</td>\n",
       "      <td>NaN</td>\n",
       "      <td>tt1380152</td>\n",
       "      <td>24</td>\n",
       "      <td>마린보이</td>\n",
       "      <td>Marine Boy is the story of a former national s...</td>\n",
       "      <td>1.148070</td>\n",
       "      <td>...</td>\n",
       "      <td>0</td>\n",
       "      <td>0</td>\n",
       "      <td>0</td>\n",
       "      <td>0</td>\n",
       "      <td>0</td>\n",
       "      <td>0</td>\n",
       "      <td>0</td>\n",
       "      <td>0</td>\n",
       "      <td>0</td>\n",
       "      <td>0</td>\n",
       "    </tr>\n",
       "    <tr>\n",
       "      <th>...</th>\n",
       "      <td>...</td>\n",
       "      <td>...</td>\n",
       "      <td>...</td>\n",
       "      <td>...</td>\n",
       "      <td>...</td>\n",
       "      <td>...</td>\n",
       "      <td>...</td>\n",
       "      <td>...</td>\n",
       "      <td>...</td>\n",
       "      <td>...</td>\n",
       "      <td>...</td>\n",
       "      <td>...</td>\n",
       "      <td>...</td>\n",
       "      <td>...</td>\n",
       "      <td>...</td>\n",
       "      <td>...</td>\n",
       "      <td>...</td>\n",
       "      <td>...</td>\n",
       "      <td>...</td>\n",
       "      <td>...</td>\n",
       "      <td>...</td>\n",
       "    </tr>\n",
       "    <tr>\n",
       "      <th>2995</th>\n",
       "      <td>2996</td>\n",
       "      <td>NaN</td>\n",
       "      <td>0</td>\n",
       "      <td>[Comedy, Romance]</td>\n",
       "      <td>NaN</td>\n",
       "      <td>tt0109403</td>\n",
       "      <td>10</td>\n",
       "      <td>Chasers</td>\n",
       "      <td>Military men Rock Reilly and Eddie Devane are ...</td>\n",
       "      <td>9.853270</td>\n",
       "      <td>...</td>\n",
       "      <td>0</td>\n",
       "      <td>0</td>\n",
       "      <td>0</td>\n",
       "      <td>0</td>\n",
       "      <td>0</td>\n",
       "      <td>0</td>\n",
       "      <td>0</td>\n",
       "      <td>0</td>\n",
       "      <td>0</td>\n",
       "      <td>0</td>\n",
       "    </tr>\n",
       "    <tr>\n",
       "      <th>2996</th>\n",
       "      <td>2997</td>\n",
       "      <td>NaN</td>\n",
       "      <td>0</td>\n",
       "      <td>[Drama, Music]</td>\n",
       "      <td>NaN</td>\n",
       "      <td>tt2364975</td>\n",
       "      <td>35</td>\n",
       "      <td>Vi är bäst!</td>\n",
       "      <td>Three girls in 1980s Stockholm decide to form ...</td>\n",
       "      <td>3.727996</td>\n",
       "      <td>...</td>\n",
       "      <td>0</td>\n",
       "      <td>0</td>\n",
       "      <td>0</td>\n",
       "      <td>0</td>\n",
       "      <td>0</td>\n",
       "      <td>0</td>\n",
       "      <td>0</td>\n",
       "      <td>0</td>\n",
       "      <td>0</td>\n",
       "      <td>0</td>\n",
       "    </tr>\n",
       "    <tr>\n",
       "      <th>2997</th>\n",
       "      <td>2998</td>\n",
       "      <td>NaN</td>\n",
       "      <td>65000000</td>\n",
       "      <td>[Crime, Action, Mystery, Thriller]</td>\n",
       "      <td>NaN</td>\n",
       "      <td>tt0116908</td>\n",
       "      <td>10</td>\n",
       "      <td>The Long Kiss Goodnight</td>\n",
       "      <td>Samantha Caine, suburban homemaker, is the ide...</td>\n",
       "      <td>14.482345</td>\n",
       "      <td>...</td>\n",
       "      <td>0</td>\n",
       "      <td>0</td>\n",
       "      <td>0</td>\n",
       "      <td>0</td>\n",
       "      <td>0</td>\n",
       "      <td>0</td>\n",
       "      <td>0</td>\n",
       "      <td>0</td>\n",
       "      <td>0</td>\n",
       "      <td>0</td>\n",
       "    </tr>\n",
       "    <tr>\n",
       "      <th>2998</th>\n",
       "      <td>2999</td>\n",
       "      <td>NaN</td>\n",
       "      <td>42000000</td>\n",
       "      <td>[Comedy, Romance]</td>\n",
       "      <td>http://www.alongcamepolly.com/</td>\n",
       "      <td>tt0343135</td>\n",
       "      <td>10</td>\n",
       "      <td>Along Came Polly</td>\n",
       "      <td>Reuben Feffer is a guy who's spent his entire ...</td>\n",
       "      <td>15.725542</td>\n",
       "      <td>...</td>\n",
       "      <td>0</td>\n",
       "      <td>0</td>\n",
       "      <td>0</td>\n",
       "      <td>0</td>\n",
       "      <td>0</td>\n",
       "      <td>0</td>\n",
       "      <td>0</td>\n",
       "      <td>0</td>\n",
       "      <td>0</td>\n",
       "      <td>0</td>\n",
       "    </tr>\n",
       "    <tr>\n",
       "      <th>2999</th>\n",
       "      <td>3000</td>\n",
       "      <td>NaN</td>\n",
       "      <td>35000000</td>\n",
       "      <td>[Thriller, Action, Mystery]</td>\n",
       "      <td>http://www.abductionthefilm.com/</td>\n",
       "      <td>tt1600195</td>\n",
       "      <td>10</td>\n",
       "      <td>Abduction</td>\n",
       "      <td>A young man sets out to uncover the truth abou...</td>\n",
       "      <td>10.512109</td>\n",
       "      <td>...</td>\n",
       "      <td>0</td>\n",
       "      <td>0</td>\n",
       "      <td>0</td>\n",
       "      <td>0</td>\n",
       "      <td>0</td>\n",
       "      <td>0</td>\n",
       "      <td>0</td>\n",
       "      <td>0</td>\n",
       "      <td>0</td>\n",
       "      <td>0</td>\n",
       "    </tr>\n",
       "  </tbody>\n",
       "</table>\n",
       "<p>3000 rows × 71 columns</p>\n",
       "</div>"
      ],
      "text/plain": [
       "        id                              belongs_to_collection    budget  \\\n",
       "0        1  [{'id': 313576, 'name': 'Hot Tub Time Machine ...  14000000   \n",
       "1        2  [{'id': 107674, 'name': 'The Princess Diaries ...  40000000   \n",
       "2        3                                                NaN   3300000   \n",
       "3        4                                                NaN   1200000   \n",
       "4        5                                                NaN         0   \n",
       "...    ...                                                ...       ...   \n",
       "2995  2996                                                NaN         0   \n",
       "2996  2997                                                NaN         0   \n",
       "2997  2998                                                NaN  65000000   \n",
       "2998  2999                                                NaN  42000000   \n",
       "2999  3000                                                NaN  35000000   \n",
       "\n",
       "                                  genres                           homepage  \\\n",
       "0                               [Comedy]                                NaN   \n",
       "1       [Comedy, Drama, Family, Romance]                                NaN   \n",
       "2                                [Drama]  http://sonyclassics.com/whiplash/   \n",
       "3                      [Thriller, Drama]         http://kahaanithefilm.com/   \n",
       "4                     [Action, Thriller]                                NaN   \n",
       "...                                  ...                                ...   \n",
       "2995                   [Comedy, Romance]                                NaN   \n",
       "2996                      [Drama, Music]                                NaN   \n",
       "2997  [Crime, Action, Mystery, Thriller]                                NaN   \n",
       "2998                   [Comedy, Romance]     http://www.alongcamepolly.com/   \n",
       "2999         [Thriller, Action, Mystery]   http://www.abductionthefilm.com/   \n",
       "\n",
       "        imdb_id  original_language                            original_title  \\\n",
       "0     tt2637294                 10                    Hot Tub Time Machine 2   \n",
       "1     tt0368933                 10  The Princess Diaries 2: Royal Engagement   \n",
       "2     tt2582802                 10                                  Whiplash   \n",
       "3     tt1821480                 16                                   Kahaani   \n",
       "4     tt1380152                 24                                      마린보이   \n",
       "...         ...                ...                                       ...   \n",
       "2995  tt0109403                 10                                   Chasers   \n",
       "2996  tt2364975                 35                               Vi är bäst!   \n",
       "2997  tt0116908                 10                   The Long Kiss Goodnight   \n",
       "2998  tt0343135                 10                          Along Came Polly   \n",
       "2999  tt1600195                 10                                 Abduction   \n",
       "\n",
       "                                               overview  popularity  ...  \\\n",
       "0     When Lou, who has become the \"father of the In...    6.575393  ...   \n",
       "1     Mia Thermopolis is now a college graduate and ...    8.248895  ...   \n",
       "2     Under the direction of a ruthless instructor, ...   64.299990  ...   \n",
       "3     Vidya Bagchi (Vidya Balan) arrives in Kolkata ...    3.174936  ...   \n",
       "4     Marine Boy is the story of a former national s...    1.148070  ...   \n",
       "...                                                 ...         ...  ...   \n",
       "2995  Military men Rock Reilly and Eddie Devane are ...    9.853270  ...   \n",
       "2996  Three girls in 1980s Stockholm decide to form ...    3.727996  ...   \n",
       "2997  Samantha Caine, suburban homemaker, is the ide...   14.482345  ...   \n",
       "2998  Reuben Feffer is a guy who's spent his entire ...   15.725542  ...   \n",
       "2999  A young man sets out to uncover the truth abou...   10.512109  ...   \n",
       "\n",
       "     cast_name_Liam Neeson cast_name_Susan Sarandon  cast_name_Bruce McGill  \\\n",
       "0                        0                        0                       0   \n",
       "1                        0                        0                       0   \n",
       "2                        0                        0                       0   \n",
       "3                        0                        0                       0   \n",
       "4                        0                        0                       0   \n",
       "...                    ...                      ...                     ...   \n",
       "2995                     0                        0                       0   \n",
       "2996                     0                        0                       0   \n",
       "2997                     0                        0                       0   \n",
       "2998                     0                        0                       0   \n",
       "2999                     0                        0                       0   \n",
       "\n",
       "     cast_name_John Turturro cast_name_Forest Whitaker cast_name_Willem Dafoe  \\\n",
       "0                          0                         0                      0   \n",
       "1                          0                         0                      0   \n",
       "2                          0                         0                      0   \n",
       "3                          0                         0                      0   \n",
       "4                          0                         0                      0   \n",
       "...                      ...                       ...                    ...   \n",
       "2995                       0                         0                      0   \n",
       "2996                       0                         0                      0   \n",
       "2997                       0                         0                      0   \n",
       "2998                       0                         0                      0   \n",
       "2999                       0                         0                      0   \n",
       "\n",
       "     cast_name_Bill Murray cast_name_Owen Wilson cast_name_Nicolas Cage  \\\n",
       "0                        0                     0                      0   \n",
       "1                        0                     0                      0   \n",
       "2                        0                     0                      0   \n",
       "3                        0                     0                      0   \n",
       "4                        0                     0                      0   \n",
       "...                    ...                   ...                    ...   \n",
       "2995                     0                     0                      0   \n",
       "2996                     0                     0                      0   \n",
       "2997                     0                     0                      0   \n",
       "2998                     0                     0                      0   \n",
       "2999                     0                     0                      0   \n",
       "\n",
       "     cast_name_Sylvester Stallone  \n",
       "0                               0  \n",
       "1                               0  \n",
       "2                               0  \n",
       "3                               0  \n",
       "4                               0  \n",
       "...                           ...  \n",
       "2995                            0  \n",
       "2996                            0  \n",
       "2997                            0  \n",
       "2998                            0  \n",
       "2999                            0  \n",
       "\n",
       "[3000 rows x 71 columns]"
      ]
     },
     "execution_count": 45,
     "metadata": {},
     "output_type": "execute_result"
    }
   ],
   "source": [
    "train"
   ]
  },
  {
   "cell_type": "markdown",
   "metadata": {
    "papermill": {
     "duration": 0.082769,
     "end_time": "2020-11-15T18:26:53.457486",
     "exception": false,
     "start_time": "2020-11-15T18:26:53.374717",
     "status": "completed"
    },
    "tags": []
   },
   "source": [
    "**Crew**"
   ]
  },
  {
   "cell_type": "code",
   "execution_count": 48,
   "metadata": {
    "execution": {
     "iopub.execute_input": "2020-11-15T18:26:53.635004Z",
     "iopub.status.busy": "2020-11-15T18:26:53.634543Z",
     "iopub.status.idle": "2020-11-15T18:26:53.680099Z",
     "shell.execute_reply": "2020-11-15T18:26:53.679423Z"
    },
    "papermill": {
     "duration": 0.140473,
     "end_time": "2020-11-15T18:26:53.680245",
     "exception": false,
     "start_time": "2020-11-15T18:26:53.539772",
     "status": "completed"
    },
    "tags": []
   },
   "outputs": [
    {
     "data": {
      "text/plain": [
       "[('Ron Howard', 11),\n",
       " ('Clint Eastwood', 11),\n",
       " ('Steven Spielberg', 10),\n",
       " ('Blake Edwards', 9),\n",
       " ('Woody Allen', 9),\n",
       " ('Wes Craven', 8),\n",
       " ('Martin Scorsese', 8),\n",
       " ('Paul W.S. Anderson', 8),\n",
       " ('Alfred Hitchcock', 8),\n",
       " ('Michael Bay', 8),\n",
       " ('Francis Ford Coppola', 8),\n",
       " ('Brian De Palma', 8),\n",
       " ('Steven Soderbergh', 8),\n",
       " ('Joel Schumacher', 7),\n",
       " ('Peter Hyams', 7)]"
      ]
     },
     "execution_count": 48,
     "metadata": {},
     "output_type": "execute_result"
    }
   ],
   "source": [
    "directors = train['crew'].apply(lambda x: [i[\"name\"] for i in x if i['job'] == \"Director\"])\n",
    "Counter([i for j in directors for i in j]).most_common(15)\n"
   ]
  },
  {
   "cell_type": "code",
   "execution_count": 49,
   "metadata": {
    "execution": {
     "iopub.execute_input": "2020-11-15T18:26:53.883315Z",
     "iopub.status.busy": "2020-11-15T18:26:53.854934Z",
     "iopub.status.idle": "2020-11-15T18:27:00.692988Z",
     "shell.execute_reply": "2020-11-15T18:27:00.692326Z"
    },
    "papermill": {
     "duration": 6.929407,
     "end_time": "2020-11-15T18:27:00.693100",
     "exception": false,
     "start_time": "2020-11-15T18:26:53.763693",
     "status": "completed"
    },
    "tags": []
   },
   "outputs": [],
   "source": [
    "train['num_crew'] = train['crew'].apply(lambda x: len(x) if x != {} else 0)\n",
    "top_directors = [m[0] for m in Counter([i for j in directors for i in j]).most_common(15)]\n",
    "for g in top_directors:\n",
    "    train['director_' + g] = train['crew'].apply(lambda x: 1 if g in str(x) else 0)\n",
    "    \n",
    "test['num_crew'] = test['crew'].apply(lambda x: len(x) if x != {} else 0)\n",
    "for g in top_directors:\n",
    "    test['director_' + g] = train['crew'].apply(lambda x: 1 if g in str(x) else 0)\n"
   ]
  },
  {
   "cell_type": "code",
   "execution_count": 51,
   "metadata": {
    "execution": {
     "iopub.execute_input": "2020-11-15T18:26:52.876412Z",
     "iopub.status.busy": "2020-11-15T18:26:52.875681Z",
     "iopub.status.idle": "2020-11-15T18:26:53.291183Z",
     "shell.execute_reply": "2020-11-15T18:26:53.290486Z"
    },
    "papermill": {
     "duration": 0.502845,
     "end_time": "2020-11-15T18:26:53.291311",
     "exception": false,
     "start_time": "2020-11-15T18:26:52.788466",
     "status": "completed"
    },
    "tags": []
   },
   "outputs": [
    {
     "data": {
      "text/plain": [
       "0       72\n",
       "1        9\n",
       "2       64\n",
       "3        3\n",
       "4        2\n",
       "        ..\n",
       "2995    17\n",
       "2996    15\n",
       "2997    10\n",
       "2998    89\n",
       "2999    48\n",
       "Name: num_crew, Length: 3000, dtype: int64"
      ]
     },
     "execution_count": 51,
     "metadata": {},
     "output_type": "execute_result"
    }
   ],
   "source": [
    "train['num_crew']"
   ]
  },
  {
   "cell_type": "markdown",
   "metadata": {
    "papermill": {
     "duration": 0.083707,
     "end_time": "2020-11-15T18:27:00.860964",
     "exception": false,
     "start_time": "2020-11-15T18:27:00.777257",
     "status": "completed"
    },
    "tags": []
   },
   "source": [
    "**Taking car of the rest:**"
   ]
  },
  {
   "cell_type": "code",
   "execution_count": 52,
   "metadata": {
    "execution": {
     "iopub.execute_input": "2020-11-15T18:27:01.017227Z",
     "iopub.status.busy": "2020-11-15T18:27:01.016623Z",
     "iopub.status.idle": "2020-11-15T18:27:01.055291Z",
     "shell.execute_reply": "2020-11-15T18:27:01.054439Z"
    },
    "papermill": {
     "duration": 0.110564,
     "end_time": "2020-11-15T18:27:01.055425",
     "exception": false,
     "start_time": "2020-11-15T18:27:00.944861",
     "status": "completed"
    },
    "tags": []
   },
   "outputs": [
    {
     "data": {
      "text/plain": [
       "original_language              -0.139569\n",
       "release_year                   -0.071098\n",
       "production_company_BBC Films   -0.016566\n",
       "production_company_Canal+      -0.008120\n",
       "director_Alfred Hitchcock      -0.000128\n",
       "                                  ...   \n",
       "popularity                      0.288506\n",
       "num_crew                        0.341304\n",
       "budget                          0.485856\n",
       "revenue                         1.000000\n",
       "includes_famous_actor                NaN\n",
       "Name: revenue, Length: 72, dtype: float64"
      ]
     },
     "execution_count": 52,
     "metadata": {},
     "output_type": "execute_result"
    }
   ],
   "source": [
    "corr_matrix = train.corr()\n",
    "corr_matrix[\"revenue\"].sort_values(ascending=True)"
   ]
  },
  {
   "cell_type": "code",
   "execution_count": 62,
   "metadata": {
    "execution": {
     "iopub.execute_input": "2020-11-15T18:27:01.317621Z",
     "iopub.status.busy": "2020-11-15T18:27:01.309377Z",
     "iopub.status.idle": "2020-11-15T18:27:01.320861Z",
     "shell.execute_reply": "2020-11-15T18:27:01.320221Z"
    },
    "papermill": {
     "duration": 0.143112,
     "end_time": "2020-11-15T18:27:01.320975",
     "exception": false,
     "start_time": "2020-11-15T18:27:01.177863",
     "status": "completed"
    },
    "tags": []
   },
   "outputs": [],
   "source": [
    "class FeatureAdder(BaseEstimator,TransformerMixin):\n",
    "    \n",
    "    def fit(self,df,y=None):\n",
    "            return self\n",
    "    \n",
    "    def transform(self,df, y=None):\n",
    "            \"\"\"\n",
    "            This is done in a cell further up\n",
    "            df['release_date'] = pd.to_datetime(df['release_date'])\n",
    "            df['release_year'] = df['release_date'].dt.year\n",
    "            df['release_month'] = df['release_date'].dt.month\n",
    "            df.drop(columns=['release_date'], inplace=True)\n",
    "            df['release_year']=np.where(df['release_year']> 2018, df['release_year']-100, df['release_year'])\n",
    "            \"\"\"\n",
    "            df[\"tagline\"] = df.tagline.isnull() # Only keeping if the movie has a tagline or not\n",
    "            df[\"tagline\"] = df.tagline.astype(\"int32\")\n",
    "            \n",
    "            df[\"homepage\"] = df.homepage.isnull() # Don't care about the address but lets check if movies with a homepage has a higher revenue(or lower).\n",
    "            df[\"homepage\"] = df.homepage.astype(\"int32\")\n",
    "            \n",
    "            df[\"belongs_to_collection\"] = df.belongs_to_collection.isnull()\n",
    "            df[\"belongs_to_collection\"] = df.belongs_to_collection.astype(\"int32\")\n",
    "            \n",
    "            df[\"title_length\"] = df.title.str.len()\n",
    "            df.drop(columns=[\"imdb_id\"], inplace=True)\n",
    "            df.drop(columns=[\"poster_path\"], inplace=True)\n",
    "            df.drop(columns=[\"status\"], inplace=True)\n",
    "            df.drop(columns=[\"overview\"], inplace=True)\n",
    "            df.drop(columns=[\"original_title\"], inplace=True)\n",
    "            df.drop(columns=[\"spoken_languages\"], inplace=True)\n",
    "            df.drop(columns=[\"Keywords\"], inplace=True)\n",
    "            df.drop(columns=[\"production_countries\"], inplace=True)\n",
    "            df.drop(columns=[\"title\"], inplace=True)\n",
    "            df.drop(columns=['crew'], inplace=True)\n",
    "            df.drop(columns=['genres'], inplace=True)\n",
    "            df.drop(columns=['cast'], inplace=True)\n",
    "            return df"
   ]
  },
  {
   "cell_type": "code",
   "execution_count": 56,
   "metadata": {
    "execution": {
     "iopub.execute_input": "2020-11-15T18:27:01.496459Z",
     "iopub.status.busy": "2020-11-15T18:27:01.495576Z",
     "iopub.status.idle": "2020-11-15T18:27:01.501456Z",
     "shell.execute_reply": "2020-11-15T18:27:01.500774Z"
    },
    "papermill": {
     "duration": 0.095874,
     "end_time": "2020-11-15T18:27:01.501563",
     "exception": false,
     "start_time": "2020-11-15T18:27:01.405689",
     "status": "completed"
    },
    "tags": []
   },
   "outputs": [],
   "source": [
    "#test\n",
    "\n",
    "\n",
    "    #return df\n",
    "\n",
    "#train = date_features(train)\n",
    "#test = date_features(test)"
   ]
  },
  {
   "cell_type": "code",
   "execution_count": 75,
   "metadata": {
    "execution": {
     "iopub.execute_input": "2020-11-15T18:27:01.682199Z",
     "iopub.status.busy": "2020-11-15T18:27:01.681606Z",
     "iopub.status.idle": "2020-11-15T18:27:01.792208Z",
     "shell.execute_reply": "2020-11-15T18:27:01.793058Z"
    },
    "papermill": {
     "duration": 0.20479,
     "end_time": "2020-11-15T18:27:01.793266",
     "exception": false,
     "start_time": "2020-11-15T18:27:01.588476",
     "status": "completed"
    },
    "tags": []
   },
   "outputs": [],
   "source": [
    "if(\"id\" in test.columns):\n",
    "    test = test.drop(\"id\", axis=1)"
   ]
  },
  {
   "cell_type": "code",
   "execution_count": 64,
   "metadata": {},
   "outputs": [],
   "source": [
    "train = FeatureAdder().fit_transform(train)\n",
    "test = FeatureAdder().transform(test)"
   ]
  },
  {
   "cell_type": "code",
   "execution_count": 65,
   "metadata": {
    "execution": {
     "iopub.execute_input": "2020-11-15T18:27:02.049354Z",
     "iopub.status.busy": "2020-11-15T18:27:02.048507Z",
     "iopub.status.idle": "2020-11-15T18:27:02.083936Z",
     "shell.execute_reply": "2020-11-15T18:27:02.084597Z"
    },
    "papermill": {
     "duration": 0.166063,
     "end_time": "2020-11-15T18:27:02.084758",
     "exception": false,
     "start_time": "2020-11-15T18:27:01.918695",
     "status": "completed"
    },
    "tags": []
   },
   "outputs": [
    {
     "data": {
      "text/plain": [
       "revenue                  1.000000\n",
       "budget                   0.485856\n",
       "num_crew                 0.341304\n",
       "popularity               0.288506\n",
       "best_genres              0.235526\n",
       "                           ...   \n",
       "original_language       -0.139569\n",
       "homepage                -0.143133\n",
       "belongs_to_collection   -0.256553\n",
       "tagline                 -0.319559\n",
       "includes_famous_actor         NaN\n",
       "Name: revenue, Length: 76, dtype: float64"
      ]
     },
     "execution_count": 65,
     "metadata": {},
     "output_type": "execute_result"
    }
   ],
   "source": [
    "# checking how the train data correlates to label(revenue)\n",
    "\n",
    "corr_matrix = train.corr()\n",
    "corr_matrix[\"revenue\"].sort_values(ascending=False)\n"
   ]
  },
  {
   "cell_type": "code",
   "execution_count": 66,
   "metadata": {
    "execution": {
     "iopub.execute_input": "2020-11-15T18:27:02.366866Z",
     "iopub.status.busy": "2020-11-15T18:27:02.365922Z",
     "iopub.status.idle": "2020-11-15T18:27:02.372226Z",
     "shell.execute_reply": "2020-11-15T18:27:02.371575Z"
    },
    "papermill": {
     "duration": 0.157044,
     "end_time": "2020-11-15T18:27:02.372330",
     "exception": false,
     "start_time": "2020-11-15T18:27:02.215286",
     "status": "completed"
    },
    "tags": []
   },
   "outputs": [],
   "source": [
    "# removing Label(revenue) and id before scaling\n",
    "\n",
    "train_backup = train \n",
    "labels = train[\"revenue\"].copy() \n",
    "X=train.drop(['id', 'revenue'], axis=1)\n",
    "\n",
    "\n",
    "y = np.log1p(train['revenue'])\n",
    "\n"
   ]
  },
  {
   "cell_type": "code",
   "execution_count": 67,
   "metadata": {
    "execution": {
     "iopub.execute_input": "2020-11-15T18:27:02.579985Z",
     "iopub.status.busy": "2020-11-15T18:27:02.558838Z",
     "iopub.status.idle": "2020-11-15T18:27:02.620918Z",
     "shell.execute_reply": "2020-11-15T18:27:02.620415Z"
    },
    "papermill": {
     "duration": 0.159441,
     "end_time": "2020-11-15T18:27:02.621021",
     "exception": false,
     "start_time": "2020-11-15T18:27:02.461580",
     "status": "completed"
    },
    "tags": []
   },
   "outputs": [],
   "source": [
    "# pipeline for scaling and imputing\n",
    "\n",
    "pipeline = Pipeline([\n",
    "    (\"rbt_scaler\", RobustScaler()),\n",
    "    (\"imputer\", SimpleImputer(strategy=\"median\")),\n",
    "])\n",
    "\n",
    "prepared = pipeline.fit_transform(X)\n",
    "\n",
    "X_train, X_valid, y_train, y_valid = train_test_split(X, y, test_size=0.2)"
   ]
  },
  {
   "cell_type": "code",
   "execution_count": 68,
   "metadata": {
    "execution": {
     "iopub.execute_input": "2020-11-15T18:27:02.814164Z",
     "iopub.status.busy": "2020-11-15T18:27:02.808743Z",
     "iopub.status.idle": "2020-11-15T18:27:02.835279Z",
     "shell.execute_reply": "2020-11-15T18:27:02.835633Z"
    },
    "papermill": {
     "duration": 0.124082,
     "end_time": "2020-11-15T18:27:02.835735",
     "exception": false,
     "start_time": "2020-11-15T18:27:02.711653",
     "status": "completed"
    },
    "tags": []
   },
   "outputs": [
    {
     "name": "stdout",
     "output_type": "stream",
     "text": [
      "[LightGBM] [Warning] num_threads is set with n_jobs=-1, nthread=4 will be ignored. Current value: num_threads=-1\n",
      "[LightGBM] [Warning] boosting is set=gbdt, boosting_type=gbdt will be ignored. Current value: boosting=gbdt\n",
      "[LightGBM] [Warning] feature_fraction is set=0.9, colsample_bytree=1.0 will be ignored. Current value: feature_fraction=0.9\n",
      "[LightGBM] [Warning] min_data_in_leaf is set=20, min_child_samples=20 will be ignored. Current value: min_data_in_leaf=20\n",
      "[LightGBM] [Warning] lambda_l1 is set=0.2, reg_alpha=0.0 will be ignored. Current value: lambda_l1=0.2\n",
      "[LightGBM] [Warning] bagging_fraction is set=0.9, subsample=1.0 will be ignored. Current value: bagging_fraction=0.9\n",
      "[LightGBM] [Warning] bagging_freq is set=1, subsample_freq=0 will be ignored. Current value: bagging_freq=1\n",
      "Training until validation scores don't improve for 200 rounds\n",
      "[1000]\ttraining's rmse: 0.151474\tvalid_1's rmse: 0.193851\n",
      "[2000]\ttraining's rmse: 0.129206\tvalid_1's rmse: 0.192774\n",
      "Early stopping, best iteration is:\n",
      "[1985]\ttraining's rmse: 0.129533\tvalid_1's rmse: 0.192704\n"
     ]
    },
    {
     "data": {
      "text/html": [
       "\n",
       "    <style>\n",
       "    table.eli5-weights tr:hover {\n",
       "        filter: brightness(85%);\n",
       "    }\n",
       "</style>\n",
       "\n",
       "\n",
       "\n",
       "    \n",
       "\n",
       "    \n",
       "\n",
       "    \n",
       "\n",
       "    \n",
       "\n",
       "    \n",
       "\n",
       "    \n",
       "\n",
       "\n",
       "    \n",
       "\n",
       "    \n",
       "\n",
       "    \n",
       "\n",
       "    \n",
       "\n",
       "    \n",
       "\n",
       "    \n",
       "\n",
       "\n",
       "    \n",
       "\n",
       "    \n",
       "\n",
       "    \n",
       "\n",
       "    \n",
       "\n",
       "    \n",
       "        <table class=\"eli5-weights eli5-feature-importances\" style=\"border-collapse: collapse; border: none; margin-top: 0em; table-layout: auto;\">\n",
       "    <thead>\n",
       "    <tr style=\"border: none;\">\n",
       "        <th style=\"padding: 0 1em 0 0.5em; text-align: right; border: none;\">Weight</th>\n",
       "        <th style=\"padding: 0 0.5em 0 0.5em; text-align: left; border: none;\">Feature</th>\n",
       "    </tr>\n",
       "    </thead>\n",
       "    <tbody>\n",
       "    \n",
       "        <tr style=\"background-color: hsl(120, 100.00%, 80.00%); border: none;\">\n",
       "            <td style=\"padding: 0 1em 0 0.5em; text-align: right; border: none;\">\n",
       "                0.3908\n",
       "                \n",
       "            </td>\n",
       "            <td style=\"padding: 0 0.5em 0 0.5em; text-align: left; border: none;\">\n",
       "                budget\n",
       "            </td>\n",
       "        </tr>\n",
       "    \n",
       "        <tr style=\"background-color: hsl(120, 100.00%, 87.56%); border: none;\">\n",
       "            <td style=\"padding: 0 1em 0 0.5em; text-align: right; border: none;\">\n",
       "                0.1984\n",
       "                \n",
       "            </td>\n",
       "            <td style=\"padding: 0 0.5em 0 0.5em; text-align: left; border: none;\">\n",
       "                popularity\n",
       "            </td>\n",
       "        </tr>\n",
       "    \n",
       "        <tr style=\"background-color: hsl(120, 100.00%, 92.05%); border: none;\">\n",
       "            <td style=\"padding: 0 1em 0 0.5em; text-align: right; border: none;\">\n",
       "                0.1047\n",
       "                \n",
       "            </td>\n",
       "            <td style=\"padding: 0 0.5em 0 0.5em; text-align: left; border: none;\">\n",
       "                release_year\n",
       "            </td>\n",
       "        </tr>\n",
       "    \n",
       "        <tr style=\"background-color: hsl(120, 100.00%, 92.95%); border: none;\">\n",
       "            <td style=\"padding: 0 1em 0 0.5em; text-align: right; border: none;\">\n",
       "                0.0882\n",
       "                \n",
       "            </td>\n",
       "            <td style=\"padding: 0 0.5em 0 0.5em; text-align: left; border: none;\">\n",
       "                runtime\n",
       "            </td>\n",
       "        </tr>\n",
       "    \n",
       "        <tr style=\"background-color: hsl(120, 100.00%, 95.17%); border: none;\">\n",
       "            <td style=\"padding: 0 1em 0 0.5em; text-align: right; border: none;\">\n",
       "                0.0513\n",
       "                \n",
       "            </td>\n",
       "            <td style=\"padding: 0 0.5em 0 0.5em; text-align: left; border: none;\">\n",
       "                num_crew\n",
       "            </td>\n",
       "        </tr>\n",
       "    \n",
       "        <tr style=\"background-color: hsl(120, 100.00%, 95.33%); border: none;\">\n",
       "            <td style=\"padding: 0 1em 0 0.5em; text-align: right; border: none;\">\n",
       "                0.0490\n",
       "                \n",
       "            </td>\n",
       "            <td style=\"padding: 0 0.5em 0 0.5em; text-align: left; border: none;\">\n",
       "                release_month\n",
       "            </td>\n",
       "        </tr>\n",
       "    \n",
       "        <tr style=\"background-color: hsl(120, 100.00%, 95.36%); border: none;\">\n",
       "            <td style=\"padding: 0 1em 0 0.5em; text-align: right; border: none;\">\n",
       "                0.0485\n",
       "                \n",
       "            </td>\n",
       "            <td style=\"padding: 0 0.5em 0 0.5em; text-align: left; border: none;\">\n",
       "                title_length\n",
       "            </td>\n",
       "        </tr>\n",
       "    \n",
       "        <tr style=\"background-color: hsl(120, 100.00%, 97.55%); border: none;\">\n",
       "            <td style=\"padding: 0 1em 0 0.5em; text-align: right; border: none;\">\n",
       "                0.0195\n",
       "                \n",
       "            </td>\n",
       "            <td style=\"padding: 0 0.5em 0 0.5em; text-align: left; border: none;\">\n",
       "                num_companies\n",
       "            </td>\n",
       "        </tr>\n",
       "    \n",
       "        <tr style=\"background-color: hsl(120, 100.00%, 97.58%); border: none;\">\n",
       "            <td style=\"padding: 0 1em 0 0.5em; text-align: right; border: none;\">\n",
       "                0.0191\n",
       "                \n",
       "            </td>\n",
       "            <td style=\"padding: 0 0.5em 0 0.5em; text-align: left; border: none;\">\n",
       "                original_language\n",
       "            </td>\n",
       "        </tr>\n",
       "    \n",
       "        <tr style=\"background-color: hsl(120, 100.00%, 98.35%); border: none;\">\n",
       "            <td style=\"padding: 0 1em 0 0.5em; text-align: right; border: none;\">\n",
       "                0.0111\n",
       "                \n",
       "            </td>\n",
       "            <td style=\"padding: 0 0.5em 0 0.5em; text-align: left; border: none;\">\n",
       "                tagline\n",
       "            </td>\n",
       "        </tr>\n",
       "    \n",
       "        <tr style=\"background-color: hsl(120, 100.00%, 98.69%); border: none;\">\n",
       "            <td style=\"padding: 0 1em 0 0.5em; text-align: right; border: none;\">\n",
       "                0.0080\n",
       "                \n",
       "            </td>\n",
       "            <td style=\"padding: 0 0.5em 0 0.5em; text-align: left; border: none;\">\n",
       "                belongs_to_collection\n",
       "            </td>\n",
       "        </tr>\n",
       "    \n",
       "        <tr style=\"background-color: hsl(120, 100.00%, 99.25%); border: none;\">\n",
       "            <td style=\"padding: 0 1em 0 0.5em; text-align: right; border: none;\">\n",
       "                0.0036\n",
       "                \n",
       "            </td>\n",
       "            <td style=\"padding: 0 0.5em 0 0.5em; text-align: left; border: none;\">\n",
       "                best_genres\n",
       "            </td>\n",
       "        </tr>\n",
       "    \n",
       "        <tr style=\"background-color: hsl(120, 100.00%, 99.40%); border: none;\">\n",
       "            <td style=\"padding: 0 1em 0 0.5em; text-align: right; border: none;\">\n",
       "                0.0026\n",
       "                \n",
       "            </td>\n",
       "            <td style=\"padding: 0 0.5em 0 0.5em; text-align: left; border: none;\">\n",
       "                homepage\n",
       "            </td>\n",
       "        </tr>\n",
       "    \n",
       "        <tr style=\"background-color: hsl(120, 100.00%, 99.75%); border: none;\">\n",
       "            <td style=\"padding: 0 1em 0 0.5em; text-align: right; border: none;\">\n",
       "                0.0007\n",
       "                \n",
       "            </td>\n",
       "            <td style=\"padding: 0 0.5em 0 0.5em; text-align: left; border: none;\">\n",
       "                production_company_Universal_Pictures\n",
       "            </td>\n",
       "        </tr>\n",
       "    \n",
       "        <tr style=\"background-color: hsl(120, 100.00%, 99.77%); border: none;\">\n",
       "            <td style=\"padding: 0 1em 0 0.5em; text-align: right; border: none;\">\n",
       "                0.0007\n",
       "                \n",
       "            </td>\n",
       "            <td style=\"padding: 0 0.5em 0 0.5em; text-align: left; border: none;\">\n",
       "                production_company_Paramount_Pictures\n",
       "            </td>\n",
       "        </tr>\n",
       "    \n",
       "        <tr style=\"background-color: hsl(120, 100.00%, 99.80%); border: none;\">\n",
       "            <td style=\"padding: 0 1em 0 0.5em; text-align: right; border: none;\">\n",
       "                0.0006\n",
       "                \n",
       "            </td>\n",
       "            <td style=\"padding: 0 0.5em 0 0.5em; text-align: left; border: none;\">\n",
       "                production_company_Touchstone_Pictures\n",
       "            </td>\n",
       "        </tr>\n",
       "    \n",
       "        <tr style=\"background-color: hsl(120, 100.00%, 99.81%); border: none;\">\n",
       "            <td style=\"padding: 0 1em 0 0.5em; text-align: right; border: none;\">\n",
       "                0.0005\n",
       "                \n",
       "            </td>\n",
       "            <td style=\"padding: 0 0.5em 0 0.5em; text-align: left; border: none;\">\n",
       "                production_company_Walt_Disney_Pictures\n",
       "            </td>\n",
       "        </tr>\n",
       "    \n",
       "        <tr style=\"background-color: hsl(120, 100.00%, 99.81%); border: none;\">\n",
       "            <td style=\"padding: 0 1em 0 0.5em; text-align: right; border: none;\">\n",
       "                0.0005\n",
       "                \n",
       "            </td>\n",
       "            <td style=\"padding: 0 0.5em 0 0.5em; text-align: left; border: none;\">\n",
       "                production_company_Fox_Searchlight_Pictures\n",
       "            </td>\n",
       "        </tr>\n",
       "    \n",
       "        <tr style=\"background-color: hsl(120, 100.00%, 99.81%); border: none;\">\n",
       "            <td style=\"padding: 0 1em 0 0.5em; text-align: right; border: none;\">\n",
       "                0.0005\n",
       "                \n",
       "            </td>\n",
       "            <td style=\"padding: 0 0.5em 0 0.5em; text-align: left; border: none;\">\n",
       "                production_company_New_Line_Cinema\n",
       "            </td>\n",
       "        </tr>\n",
       "    \n",
       "        <tr style=\"background-color: hsl(120, 100.00%, 99.84%); border: none;\">\n",
       "            <td style=\"padding: 0 1em 0 0.5em; text-align: right; border: none;\">\n",
       "                0.0004\n",
       "                \n",
       "            </td>\n",
       "            <td style=\"padding: 0 0.5em 0 0.5em; text-align: left; border: none;\">\n",
       "                production_company_Columbia_Pictures\n",
       "            </td>\n",
       "        </tr>\n",
       "    \n",
       "    \n",
       "        \n",
       "            <tr style=\"background-color: hsl(120, 100.00%, 99.84%); border: none;\">\n",
       "                <td colspan=\"2\" style=\"padding: 0 0.5em 0 0.5em; text-align: center; border: none; white-space: nowrap;\">\n",
       "                    <i>&hellip; 54 more &hellip;</i>\n",
       "                </td>\n",
       "            </tr>\n",
       "        \n",
       "    \n",
       "    </tbody>\n",
       "</table>\n",
       "    \n",
       "\n",
       "    \n",
       "\n",
       "\n",
       "    \n",
       "\n",
       "    \n",
       "\n",
       "    \n",
       "\n",
       "    \n",
       "\n",
       "    \n",
       "\n",
       "    \n",
       "\n",
       "\n",
       "\n"
      ],
      "text/plain": [
       "<IPython.core.display.HTML object>"
      ]
     },
     "execution_count": 68,
     "metadata": {},
     "output_type": "execute_result"
    }
   ],
   "source": [
    "params = {'num_leaves': 30,\n",
    "         'min_data_in_leaf': 20,\n",
    "         'objective': 'regression',\n",
    "         'max_depth': 5,\n",
    "         'learning_rate': 0.01,\n",
    "         \"boosting\": \"gbdt\",\n",
    "         \"feature_fraction\": 0.9,\n",
    "         \"bagging_freq\": 1,\n",
    "         \"bagging_fraction\": 0.9,\n",
    "         \"bagging_seed\": 11,\n",
    "         \"metric\": 'rmse',\n",
    "         \"lambda_l1\": 0.2,\n",
    "         \"verbosity\": -1}\n",
    "\n",
    "lgb_model = lgb.LGBMRegressor(**params, n_estimators = 10000, nthread = 4, n_jobs = -1)\n",
    "lgb_model.fit(X_train, y_train, \n",
    "        eval_set=[(X_train, y_train), (X_valid, y_valid)], eval_metric='rmse',\n",
    "        verbose=1000, early_stopping_rounds=200)\n",
    "\n",
    "eli5.show_weights(lgb_model, feature_filter=lambda x: x != '<BIAS>')\n",
    "\n"
   ]
  },
  {
   "cell_type": "code",
   "execution_count": 69,
   "metadata": {
    "execution": {
     "iopub.execute_input": "2020-11-15T18:27:03.025465Z",
     "iopub.status.busy": "2020-11-15T18:27:03.011381Z",
     "iopub.status.idle": "2020-11-15T18:27:03.030898Z",
     "shell.execute_reply": "2020-11-15T18:27:03.030313Z"
    },
    "papermill": {
     "duration": 0.124839,
     "end_time": "2020-11-15T18:27:03.031009",
     "exception": false,
     "start_time": "2020-11-15T18:27:02.906170",
     "status": "completed"
    },
    "tags": []
   },
   "outputs": [
    {
     "name": "stdout",
     "output_type": "stream",
     "text": [
      "Fitting 3 folds for each of 2 candidates, totalling 6 fits\n"
     ]
    },
    {
     "name": "stderr",
     "output_type": "stream",
     "text": [
      "[Parallel(n_jobs=-1)]: Using backend LokyBackend with 8 concurrent workers.\n",
      "[Parallel(n_jobs=-1)]: Done   3 out of   6 | elapsed:   15.9s remaining:   15.9s\n",
      "[Parallel(n_jobs=-1)]: Done   6 out of   6 | elapsed:   16.8s finished\n"
     ]
    },
    {
     "name": "stdout",
     "output_type": "stream",
     "text": [
      "{'boosting_type': 'gbdt', 'learning_rate': 0.01, 'max_depth': 4, 'min_data_in_leaf': 15, 'num_leaves': 40, 'objective': 'regression', 'random_state': 501, 'reg_alpha': 1, 'reg_lambda': 1.5}\n",
      "0.23198086897793757\n",
      "Fitting 3 folds for each of 1 candidates, totalling 3 fits\n"
     ]
    },
    {
     "name": "stderr",
     "output_type": "stream",
     "text": [
      "[Parallel(n_jobs=1)]: Using backend SequentialBackend with 1 concurrent workers.\n"
     ]
    },
    {
     "name": "stdout",
     "output_type": "stream",
     "text": [
      "[LightGBM] [Warning] num_threads is set with n_jobs=-1, nthread=4 will be ignored. Current value: num_threads=-1\n",
      "[LightGBM] [Warning] boosting is set=gbdt, boosting_type=gbdt will be ignored. Current value: boosting=gbdt\n",
      "[LightGBM] [Warning] feature_fraction is set=0.9, colsample_bytree=1.0 will be ignored. Current value: feature_fraction=0.9\n",
      "[LightGBM] [Warning] min_data_in_leaf is set=15, min_child_samples=20 will be ignored. Current value: min_data_in_leaf=15\n",
      "[LightGBM] [Warning] lambda_l1 is set=0.2, reg_alpha=0.0 will be ignored. Current value: lambda_l1=0.2\n",
      "[LightGBM] [Warning] bagging_fraction is set=0.9, subsample=1.0 will be ignored. Current value: bagging_fraction=0.9\n",
      "[LightGBM] [Warning] bagging_freq is set=1, subsample_freq=0 will be ignored. Current value: bagging_freq=1\n",
      "[LightGBM] [Warning] num_threads is set with n_jobs=-1, nthread=4 will be ignored. Current value: num_threads=-1\n",
      "[LightGBM] [Warning] boosting is set=gbdt, boosting_type=gbdt will be ignored. Current value: boosting=gbdt\n",
      "[LightGBM] [Warning] feature_fraction is set=0.9, colsample_bytree=1.0 will be ignored. Current value: feature_fraction=0.9\n",
      "[LightGBM] [Warning] min_data_in_leaf is set=15, min_child_samples=20 will be ignored. Current value: min_data_in_leaf=15\n",
      "[LightGBM] [Warning] lambda_l1 is set=0.2, reg_alpha=0.0 will be ignored. Current value: lambda_l1=0.2\n",
      "[LightGBM] [Warning] bagging_fraction is set=0.9, subsample=1.0 will be ignored. Current value: bagging_fraction=0.9\n",
      "[LightGBM] [Warning] bagging_freq is set=1, subsample_freq=0 will be ignored. Current value: bagging_freq=1\n"
     ]
    },
    {
     "name": "stderr",
     "output_type": "stream",
     "text": [
      "[Parallel(n_jobs=1)]: Done   3 out of   3 | elapsed:  1.8min finished\n"
     ]
    },
    {
     "name": "stdout",
     "output_type": "stream",
     "text": [
      "[LightGBM] [Warning] num_threads is set with n_jobs=-1, nthread=4 will be ignored. Current value: num_threads=-1\n",
      "[LightGBM] [Warning] boosting is set=gbdt, boosting_type=gbdt will be ignored. Current value: boosting=gbdt\n",
      "[LightGBM] [Warning] feature_fraction is set=0.9, colsample_bytree=1.0 will be ignored. Current value: feature_fraction=0.9\n",
      "[LightGBM] [Warning] min_data_in_leaf is set=15, min_child_samples=20 will be ignored. Current value: min_data_in_leaf=15\n",
      "[LightGBM] [Warning] lambda_l1 is set=0.2, reg_alpha=0.0 will be ignored. Current value: lambda_l1=0.2\n",
      "[LightGBM] [Warning] bagging_fraction is set=0.9, subsample=1.0 will be ignored. Current value: bagging_fraction=0.9\n",
      "[LightGBM] [Warning] bagging_freq is set=1, subsample_freq=0 will be ignored. Current value: bagging_freq=1\n",
      "Best score reached: 0.23161666225423416 with params: {'random_state': 501, 'objective': 'regression', 'num_leaves': 40, 'min_data_in_leaf': 15, 'max_depth': 4, 'learning_rate': 0.01, 'boosting_type': 'gbdt'} \n"
     ]
    }
   ],
   "source": [
    "\n",
    "# Print the best parameters found\n",
    "gridParams = {\n",
    "    \"max_depth\": [4],\n",
    "    \"min_data_in_leaf\": [15],\n",
    "    'learning_rate': [0.01],\n",
    "    'num_leaves': [40],\n",
    "    'boosting_type' : ['gbdt'],\n",
    "    'objective' : ['regression'],\n",
    "    'random_state' : [501], \n",
    "    'reg_alpha' : [1],\n",
    "    'reg_lambda' : [1.4, 1.5]\n",
    "    }\n",
    "\n",
    "grid_search = GridSearchCV(lgb_model, n_jobs=-1, param_grid=gridParams, cv = 3, verbose=5)\n",
    "grid_search.fit(X_train, y_train)\n",
    "print(grid_search.best_params_)\n",
    "print(grid_search.best_score_)\n",
    "\n",
    "\n",
    "Random_Search_Params ={\n",
    "    \"max_depth\": [4],\n",
    "    \"min_data_in_leaf\": [15],\n",
    "    'learning_rate': [0.01],\n",
    "    'num_leaves': [40],\n",
    "    'boosting_type' : ['gbdt'],\n",
    "    'objective' : ['regression'],\n",
    "    'random_state' : [501], \n",
    "    }\n",
    "\n",
    "n_HP_points_to_test = 50\n",
    "\n",
    "random_search = RandomizedSearchCV(\n",
    "    estimator=lgb_model, param_distributions= Random_Search_Params, \n",
    "    n_iter=n_HP_points_to_test,\n",
    "    cv=3,\n",
    "    refit=True,\n",
    "    random_state=314,\n",
    "    verbose=True)\n",
    "\n",
    "random_search.fit(X_train, y_train)\n",
    "print('Best score reached: {} with params: {} '.format(random_search.best_score_, random_search.best_params_))\n",
    "\n",
    "# Using parameters already set above, replace in the best from the random search\n",
    "\n",
    "params['learning_rate'] = random_search.best_params_['learning_rate']\n",
    "params['max_depth'] = random_search.best_params_['max_depth']\n",
    "params['num_leaves'] = random_search.best_params_['num_leaves']"
   ]
  },
  {
   "cell_type": "markdown",
   "metadata": {
    "papermill": {
     "duration": 0.087094,
     "end_time": "2020-11-15T18:27:03.204953",
     "exception": false,
     "start_time": "2020-11-15T18:27:03.117859",
     "status": "completed"
    },
    "tags": []
   },
   "source": [
    "**Random Forrest**"
   ]
  },
  {
   "cell_type": "code",
   "execution_count": 70,
   "metadata": {
    "execution": {
     "iopub.execute_input": "2020-11-15T18:27:03.387275Z",
     "iopub.status.busy": "2020-11-15T18:27:03.386582Z",
     "iopub.status.idle": "2020-11-15T18:27:03.389222Z",
     "shell.execute_reply": "2020-11-15T18:27:03.388677Z"
    },
    "papermill": {
     "duration": 0.096255,
     "end_time": "2020-11-15T18:27:03.389336",
     "exception": false,
     "start_time": "2020-11-15T18:27:03.293081",
     "status": "completed"
    },
    "tags": []
   },
   "outputs": [],
   "source": [
    "\n",
    "\n",
    "def rmse(x,y): return math.sqrt(((x-y)**2).mean())\n",
    "\n",
    "# print_score function depending on the evaluation metric: rmse\n",
    "def print_score(m):\n",
    "    res = [rmse(m.predict(X_train), y_train), rmse(m.predict(X_valid), y_valid),\n",
    "                m.score(X_train, y_train), m.score(X_valid, y_valid)]\n",
    "    if hasattr(m, 'oob_score_'): res.append(m.oob_score_)\n",
    "    print(res)\n",
    "\n"
   ]
  },
  {
   "cell_type": "code",
   "execution_count": 71,
   "metadata": {
    "execution": {
     "iopub.execute_input": "2020-11-15T18:27:03.580192Z",
     "iopub.status.busy": "2020-11-15T18:27:03.579485Z",
     "iopub.status.idle": "2020-11-15T18:27:03.595776Z",
     "shell.execute_reply": "2020-11-15T18:27:03.595244Z"
    },
    "papermill": {
     "duration": 0.115592,
     "end_time": "2020-11-15T18:27:03.595894",
     "exception": false,
     "start_time": "2020-11-15T18:27:03.480302",
     "status": "completed"
    },
    "tags": []
   },
   "outputs": [
    {
     "ename": "ValueError",
     "evalue": "Input contains NaN, infinity or a value too large for dtype('float32').",
     "output_type": "error",
     "traceback": [
      "\u001b[1;31m---------------------------------------------------------------------------\u001b[0m",
      "\u001b[1;31mValueError\u001b[0m                                Traceback (most recent call last)",
      "\u001b[1;32m<ipython-input-71-64190039aa9e>\u001b[0m in \u001b[0;36m<module>\u001b[1;34m\u001b[0m\n\u001b[0;32m      1\u001b[0m \u001b[1;31m#rf with hyper parameters\u001b[0m\u001b[1;33m\u001b[0m\u001b[1;33m\u001b[0m\u001b[1;33m\u001b[0m\u001b[0m\n\u001b[0;32m      2\u001b[0m \u001b[0mm\u001b[0m \u001b[1;33m=\u001b[0m \u001b[0mRandomForestRegressor\u001b[0m\u001b[1;33m(\u001b[0m\u001b[0mn_estimators\u001b[0m\u001b[1;33m=\u001b[0m\u001b[1;36m40\u001b[0m\u001b[1;33m,\u001b[0m \u001b[0mmin_samples_leaf\u001b[0m\u001b[1;33m=\u001b[0m\u001b[1;36m10\u001b[0m\u001b[1;33m,\u001b[0m \u001b[0mmax_features\u001b[0m\u001b[1;33m=\u001b[0m\u001b[1;36m0.5\u001b[0m\u001b[1;33m,\u001b[0m \u001b[0mn_jobs\u001b[0m\u001b[1;33m=\u001b[0m\u001b[1;33m-\u001b[0m\u001b[1;36m1\u001b[0m\u001b[1;33m,\u001b[0m \u001b[0moob_score\u001b[0m\u001b[1;33m=\u001b[0m\u001b[1;32mTrue\u001b[0m\u001b[1;33m)\u001b[0m\u001b[1;33m\u001b[0m\u001b[1;33m\u001b[0m\u001b[0m\n\u001b[1;32m----> 3\u001b[1;33m \u001b[0mm\u001b[0m\u001b[1;33m.\u001b[0m\u001b[0mfit\u001b[0m\u001b[1;33m(\u001b[0m\u001b[0mX_train\u001b[0m\u001b[1;33m,\u001b[0m \u001b[0my_train\u001b[0m\u001b[1;33m)\u001b[0m\u001b[1;33m\u001b[0m\u001b[1;33m\u001b[0m\u001b[0m\n\u001b[0m\u001b[0;32m      4\u001b[0m \u001b[0mprint_score\u001b[0m\u001b[1;33m(\u001b[0m\u001b[0mm\u001b[0m\u001b[1;33m)\u001b[0m\u001b[1;33m\u001b[0m\u001b[1;33m\u001b[0m\u001b[0m\n",
      "\u001b[1;32mc:\\users\\ph\\pycharmprojects\\dat158ml2\\venv\\lib\\site-packages\\sklearn\\ensemble\\_forest.py\u001b[0m in \u001b[0;36mfit\u001b[1;34m(self, X, y, sample_weight)\u001b[0m\n\u001b[0;32m    301\u001b[0m                 \u001b[1;34m\"sparse multilabel-indicator for y is not supported.\"\u001b[0m\u001b[1;33m\u001b[0m\u001b[1;33m\u001b[0m\u001b[0m\n\u001b[0;32m    302\u001b[0m             )\n\u001b[1;32m--> 303\u001b[1;33m         X, y = self._validate_data(X, y, multi_output=True,\n\u001b[0m\u001b[0;32m    304\u001b[0m                                    accept_sparse=\"csc\", dtype=DTYPE)\n\u001b[0;32m    305\u001b[0m         \u001b[1;32mif\u001b[0m \u001b[0msample_weight\u001b[0m \u001b[1;32mis\u001b[0m \u001b[1;32mnot\u001b[0m \u001b[1;32mNone\u001b[0m\u001b[1;33m:\u001b[0m\u001b[1;33m\u001b[0m\u001b[1;33m\u001b[0m\u001b[0m\n",
      "\u001b[1;32mc:\\users\\ph\\pycharmprojects\\dat158ml2\\venv\\lib\\site-packages\\sklearn\\base.py\u001b[0m in \u001b[0;36m_validate_data\u001b[1;34m(self, X, y, reset, validate_separately, **check_params)\u001b[0m\n\u001b[0;32m    430\u001b[0m                 \u001b[0my\u001b[0m \u001b[1;33m=\u001b[0m \u001b[0mcheck_array\u001b[0m\u001b[1;33m(\u001b[0m\u001b[0my\u001b[0m\u001b[1;33m,\u001b[0m \u001b[1;33m**\u001b[0m\u001b[0mcheck_y_params\u001b[0m\u001b[1;33m)\u001b[0m\u001b[1;33m\u001b[0m\u001b[1;33m\u001b[0m\u001b[0m\n\u001b[0;32m    431\u001b[0m             \u001b[1;32melse\u001b[0m\u001b[1;33m:\u001b[0m\u001b[1;33m\u001b[0m\u001b[1;33m\u001b[0m\u001b[0m\n\u001b[1;32m--> 432\u001b[1;33m                 \u001b[0mX\u001b[0m\u001b[1;33m,\u001b[0m \u001b[0my\u001b[0m \u001b[1;33m=\u001b[0m \u001b[0mcheck_X_y\u001b[0m\u001b[1;33m(\u001b[0m\u001b[0mX\u001b[0m\u001b[1;33m,\u001b[0m \u001b[0my\u001b[0m\u001b[1;33m,\u001b[0m \u001b[1;33m**\u001b[0m\u001b[0mcheck_params\u001b[0m\u001b[1;33m)\u001b[0m\u001b[1;33m\u001b[0m\u001b[1;33m\u001b[0m\u001b[0m\n\u001b[0m\u001b[0;32m    433\u001b[0m             \u001b[0mout\u001b[0m \u001b[1;33m=\u001b[0m \u001b[0mX\u001b[0m\u001b[1;33m,\u001b[0m \u001b[0my\u001b[0m\u001b[1;33m\u001b[0m\u001b[1;33m\u001b[0m\u001b[0m\n\u001b[0;32m    434\u001b[0m \u001b[1;33m\u001b[0m\u001b[0m\n",
      "\u001b[1;32mc:\\users\\ph\\pycharmprojects\\dat158ml2\\venv\\lib\\site-packages\\sklearn\\utils\\validation.py\u001b[0m in \u001b[0;36minner_f\u001b[1;34m(*args, **kwargs)\u001b[0m\n\u001b[0;32m     70\u001b[0m                           FutureWarning)\n\u001b[0;32m     71\u001b[0m         \u001b[0mkwargs\u001b[0m\u001b[1;33m.\u001b[0m\u001b[0mupdate\u001b[0m\u001b[1;33m(\u001b[0m\u001b[1;33m{\u001b[0m\u001b[0mk\u001b[0m\u001b[1;33m:\u001b[0m \u001b[0marg\u001b[0m \u001b[1;32mfor\u001b[0m \u001b[0mk\u001b[0m\u001b[1;33m,\u001b[0m \u001b[0marg\u001b[0m \u001b[1;32min\u001b[0m \u001b[0mzip\u001b[0m\u001b[1;33m(\u001b[0m\u001b[0msig\u001b[0m\u001b[1;33m.\u001b[0m\u001b[0mparameters\u001b[0m\u001b[1;33m,\u001b[0m \u001b[0margs\u001b[0m\u001b[1;33m)\u001b[0m\u001b[1;33m}\u001b[0m\u001b[1;33m)\u001b[0m\u001b[1;33m\u001b[0m\u001b[1;33m\u001b[0m\u001b[0m\n\u001b[1;32m---> 72\u001b[1;33m         \u001b[1;32mreturn\u001b[0m \u001b[0mf\u001b[0m\u001b[1;33m(\u001b[0m\u001b[1;33m**\u001b[0m\u001b[0mkwargs\u001b[0m\u001b[1;33m)\u001b[0m\u001b[1;33m\u001b[0m\u001b[1;33m\u001b[0m\u001b[0m\n\u001b[0m\u001b[0;32m     73\u001b[0m     \u001b[1;32mreturn\u001b[0m \u001b[0minner_f\u001b[0m\u001b[1;33m\u001b[0m\u001b[1;33m\u001b[0m\u001b[0m\n\u001b[0;32m     74\u001b[0m \u001b[1;33m\u001b[0m\u001b[0m\n",
      "\u001b[1;32mc:\\users\\ph\\pycharmprojects\\dat158ml2\\venv\\lib\\site-packages\\sklearn\\utils\\validation.py\u001b[0m in \u001b[0;36mcheck_X_y\u001b[1;34m(X, y, accept_sparse, accept_large_sparse, dtype, order, copy, force_all_finite, ensure_2d, allow_nd, multi_output, ensure_min_samples, ensure_min_features, y_numeric, estimator)\u001b[0m\n\u001b[0;32m    793\u001b[0m         \u001b[1;32mraise\u001b[0m \u001b[0mValueError\u001b[0m\u001b[1;33m(\u001b[0m\u001b[1;34m\"y cannot be None\"\u001b[0m\u001b[1;33m)\u001b[0m\u001b[1;33m\u001b[0m\u001b[1;33m\u001b[0m\u001b[0m\n\u001b[0;32m    794\u001b[0m \u001b[1;33m\u001b[0m\u001b[0m\n\u001b[1;32m--> 795\u001b[1;33m     X = check_array(X, accept_sparse=accept_sparse,\n\u001b[0m\u001b[0;32m    796\u001b[0m                     \u001b[0maccept_large_sparse\u001b[0m\u001b[1;33m=\u001b[0m\u001b[0maccept_large_sparse\u001b[0m\u001b[1;33m,\u001b[0m\u001b[1;33m\u001b[0m\u001b[1;33m\u001b[0m\u001b[0m\n\u001b[0;32m    797\u001b[0m                     \u001b[0mdtype\u001b[0m\u001b[1;33m=\u001b[0m\u001b[0mdtype\u001b[0m\u001b[1;33m,\u001b[0m \u001b[0morder\u001b[0m\u001b[1;33m=\u001b[0m\u001b[0morder\u001b[0m\u001b[1;33m,\u001b[0m \u001b[0mcopy\u001b[0m\u001b[1;33m=\u001b[0m\u001b[0mcopy\u001b[0m\u001b[1;33m,\u001b[0m\u001b[1;33m\u001b[0m\u001b[1;33m\u001b[0m\u001b[0m\n",
      "\u001b[1;32mc:\\users\\ph\\pycharmprojects\\dat158ml2\\venv\\lib\\site-packages\\sklearn\\utils\\validation.py\u001b[0m in \u001b[0;36minner_f\u001b[1;34m(*args, **kwargs)\u001b[0m\n\u001b[0;32m     70\u001b[0m                           FutureWarning)\n\u001b[0;32m     71\u001b[0m         \u001b[0mkwargs\u001b[0m\u001b[1;33m.\u001b[0m\u001b[0mupdate\u001b[0m\u001b[1;33m(\u001b[0m\u001b[1;33m{\u001b[0m\u001b[0mk\u001b[0m\u001b[1;33m:\u001b[0m \u001b[0marg\u001b[0m \u001b[1;32mfor\u001b[0m \u001b[0mk\u001b[0m\u001b[1;33m,\u001b[0m \u001b[0marg\u001b[0m \u001b[1;32min\u001b[0m \u001b[0mzip\u001b[0m\u001b[1;33m(\u001b[0m\u001b[0msig\u001b[0m\u001b[1;33m.\u001b[0m\u001b[0mparameters\u001b[0m\u001b[1;33m,\u001b[0m \u001b[0margs\u001b[0m\u001b[1;33m)\u001b[0m\u001b[1;33m}\u001b[0m\u001b[1;33m)\u001b[0m\u001b[1;33m\u001b[0m\u001b[1;33m\u001b[0m\u001b[0m\n\u001b[1;32m---> 72\u001b[1;33m         \u001b[1;32mreturn\u001b[0m \u001b[0mf\u001b[0m\u001b[1;33m(\u001b[0m\u001b[1;33m**\u001b[0m\u001b[0mkwargs\u001b[0m\u001b[1;33m)\u001b[0m\u001b[1;33m\u001b[0m\u001b[1;33m\u001b[0m\u001b[0m\n\u001b[0m\u001b[0;32m     73\u001b[0m     \u001b[1;32mreturn\u001b[0m \u001b[0minner_f\u001b[0m\u001b[1;33m\u001b[0m\u001b[1;33m\u001b[0m\u001b[0m\n\u001b[0;32m     74\u001b[0m \u001b[1;33m\u001b[0m\u001b[0m\n",
      "\u001b[1;32mc:\\users\\ph\\pycharmprojects\\dat158ml2\\venv\\lib\\site-packages\\sklearn\\utils\\validation.py\u001b[0m in \u001b[0;36mcheck_array\u001b[1;34m(array, accept_sparse, accept_large_sparse, dtype, order, copy, force_all_finite, ensure_2d, allow_nd, ensure_min_samples, ensure_min_features, estimator)\u001b[0m\n\u001b[0;32m    642\u001b[0m \u001b[1;33m\u001b[0m\u001b[0m\n\u001b[0;32m    643\u001b[0m         \u001b[1;32mif\u001b[0m \u001b[0mforce_all_finite\u001b[0m\u001b[1;33m:\u001b[0m\u001b[1;33m\u001b[0m\u001b[1;33m\u001b[0m\u001b[0m\n\u001b[1;32m--> 644\u001b[1;33m             _assert_all_finite(array,\n\u001b[0m\u001b[0;32m    645\u001b[0m                                allow_nan=force_all_finite == 'allow-nan')\n\u001b[0;32m    646\u001b[0m \u001b[1;33m\u001b[0m\u001b[0m\n",
      "\u001b[1;32mc:\\users\\ph\\pycharmprojects\\dat158ml2\\venv\\lib\\site-packages\\sklearn\\utils\\validation.py\u001b[0m in \u001b[0;36m_assert_all_finite\u001b[1;34m(X, allow_nan, msg_dtype)\u001b[0m\n\u001b[0;32m     94\u001b[0m                 not allow_nan and not np.isfinite(X).all()):\n\u001b[0;32m     95\u001b[0m             \u001b[0mtype_err\u001b[0m \u001b[1;33m=\u001b[0m \u001b[1;34m'infinity'\u001b[0m \u001b[1;32mif\u001b[0m \u001b[0mallow_nan\u001b[0m \u001b[1;32melse\u001b[0m \u001b[1;34m'NaN, infinity'\u001b[0m\u001b[1;33m\u001b[0m\u001b[1;33m\u001b[0m\u001b[0m\n\u001b[1;32m---> 96\u001b[1;33m             raise ValueError(\n\u001b[0m\u001b[0;32m     97\u001b[0m                     \u001b[0mmsg_err\u001b[0m\u001b[1;33m.\u001b[0m\u001b[0mformat\u001b[0m\u001b[1;33m\u001b[0m\u001b[1;33m\u001b[0m\u001b[0m\n\u001b[0;32m     98\u001b[0m                     (type_err,\n",
      "\u001b[1;31mValueError\u001b[0m: Input contains NaN, infinity or a value too large for dtype('float32')."
     ]
    }
   ],
   "source": [
    "#rf with hyper parameters\n",
    "m = RandomForestRegressor(n_estimators=40, min_samples_leaf=10, max_features=0.5, n_jobs=-1, oob_score=True)\n",
    "m.fit(X_train, y_train)\n",
    "print_score(m)"
   ]
  },
  {
   "cell_type": "markdown",
   "metadata": {
    "papermill": {
     "duration": 0.087573,
     "end_time": "2020-11-15T18:27:03.773322",
     "exception": false,
     "start_time": "2020-11-15T18:27:03.685749",
     "status": "completed"
    },
    "tags": []
   },
   "source": [
    "**Feature Importance**"
   ]
  },
  {
   "cell_type": "code",
   "execution_count": 57,
   "metadata": {
    "execution": {
     "iopub.execute_input": "2020-11-15T18:27:03.967621Z",
     "iopub.status.busy": "2020-11-15T18:27:03.960243Z",
     "iopub.status.idle": "2020-11-15T18:27:03.974236Z",
     "shell.execute_reply": "2020-11-15T18:27:03.973692Z"
    },
    "papermill": {
     "duration": 0.112833,
     "end_time": "2020-11-15T18:27:03.974347",
     "exception": false,
     "start_time": "2020-11-15T18:27:03.861514",
     "status": "completed"
    },
    "tags": []
   },
   "outputs": [
    {
     "ename": "NameError",
     "evalue": "name 'rf_feat_importance' is not defined",
     "output_type": "error",
     "traceback": [
      "\u001b[0;31m---------------------------------------------------------------------------\u001b[0m",
      "\u001b[0;31mNameError\u001b[0m                                 Traceback (most recent call last)",
      "\u001b[0;32m<ipython-input-57-fc22b4078924>\u001b[0m in \u001b[0;36m<module>\u001b[0;34m\u001b[0m\n\u001b[0;32m----> 1\u001b[0;31m \u001b[0mfi\u001b[0m \u001b[0;34m=\u001b[0m \u001b[0mrf_feat_importance\u001b[0m\u001b[0;34m(\u001b[0m\u001b[0mm\u001b[0m\u001b[0;34m,\u001b[0m \u001b[0mdf_trn\u001b[0m\u001b[0;34m)\u001b[0m\u001b[0;34m\u001b[0m\u001b[0;34m\u001b[0m\u001b[0m\n\u001b[0m\u001b[1;32m      2\u001b[0m \u001b[0mfi\u001b[0m\u001b[0;34m\u001b[0m\u001b[0;34m\u001b[0m\u001b[0m\n",
      "\u001b[0;31mNameError\u001b[0m: name 'rf_feat_importance' is not defined"
     ]
    }
   ],
   "source": [
    "fi = rf_feat_importance(m, df_trn)\n",
    "fi"
   ]
  },
  {
   "cell_type": "code",
   "execution_count": 73,
   "metadata": {
    "execution": {
     "iopub.execute_input": "2020-11-15T18:27:04.162654Z",
     "iopub.status.busy": "2020-11-15T18:27:04.157463Z",
     "iopub.status.idle": "2020-11-15T18:27:04.183784Z",
     "shell.execute_reply": "2020-11-15T18:27:04.184393Z"
    },
    "papermill": {
     "duration": 0.120187,
     "end_time": "2020-11-15T18:27:04.184542",
     "exception": false,
     "start_time": "2020-11-15T18:27:04.064355",
     "status": "completed"
    },
    "tags": []
   },
   "outputs": [
    {
     "ename": "ValueError",
     "evalue": "could not convert string to float: '7/14/07'",
     "output_type": "error",
     "traceback": [
      "\u001b[1;31m---------------------------------------------------------------------------\u001b[0m",
      "\u001b[1;31mValueError\u001b[0m                                Traceback (most recent call last)",
      "\u001b[1;32m<ipython-input-73-c7890bf1b49b>\u001b[0m in \u001b[0;36m<module>\u001b[1;34m\u001b[0m\n\u001b[0;32m      1\u001b[0m \u001b[0mfinal_model\u001b[0m \u001b[1;33m=\u001b[0m \u001b[0mgrid_search\u001b[0m\u001b[1;33m.\u001b[0m\u001b[0mbest_estimator_\u001b[0m\u001b[1;33m\u001b[0m\u001b[1;33m\u001b[0m\u001b[0m\n\u001b[1;32m----> 2\u001b[1;33m \u001b[0mtest_prepared\u001b[0m \u001b[1;33m=\u001b[0m \u001b[0mpipeline\u001b[0m\u001b[1;33m.\u001b[0m\u001b[0mfit\u001b[0m\u001b[1;33m(\u001b[0m\u001b[0mtest\u001b[0m\u001b[1;33m)\u001b[0m\u001b[1;33m\u001b[0m\u001b[1;33m\u001b[0m\u001b[0m\n\u001b[0m\u001b[0;32m      3\u001b[0m \u001b[0mfinal_predict\u001b[0m \u001b[1;33m=\u001b[0m \u001b[0mfinal_model\u001b[0m\u001b[1;33m.\u001b[0m\u001b[0mpredict\u001b[0m\u001b[1;33m(\u001b[0m\u001b[0mtest\u001b[0m\u001b[1;33m)\u001b[0m\u001b[1;33m\u001b[0m\u001b[1;33m\u001b[0m\u001b[0m\n\u001b[0;32m      4\u001b[0m \u001b[0mlen\u001b[0m\u001b[1;33m(\u001b[0m\u001b[0mfinal_predict\u001b[0m\u001b[1;33m)\u001b[0m\u001b[1;33m\u001b[0m\u001b[1;33m\u001b[0m\u001b[0m\n",
      "\u001b[1;32mc:\\users\\ph\\pycharmprojects\\dat158ml2\\venv\\lib\\site-packages\\sklearn\\pipeline.py\u001b[0m in \u001b[0;36mfit\u001b[1;34m(self, X, y, **fit_params)\u001b[0m\n\u001b[0;32m    328\u001b[0m         \"\"\"\n\u001b[0;32m    329\u001b[0m         \u001b[0mfit_params_steps\u001b[0m \u001b[1;33m=\u001b[0m \u001b[0mself\u001b[0m\u001b[1;33m.\u001b[0m\u001b[0m_check_fit_params\u001b[0m\u001b[1;33m(\u001b[0m\u001b[1;33m**\u001b[0m\u001b[0mfit_params\u001b[0m\u001b[1;33m)\u001b[0m\u001b[1;33m\u001b[0m\u001b[1;33m\u001b[0m\u001b[0m\n\u001b[1;32m--> 330\u001b[1;33m         \u001b[0mXt\u001b[0m \u001b[1;33m=\u001b[0m \u001b[0mself\u001b[0m\u001b[1;33m.\u001b[0m\u001b[0m_fit\u001b[0m\u001b[1;33m(\u001b[0m\u001b[0mX\u001b[0m\u001b[1;33m,\u001b[0m \u001b[0my\u001b[0m\u001b[1;33m,\u001b[0m \u001b[1;33m**\u001b[0m\u001b[0mfit_params_steps\u001b[0m\u001b[1;33m)\u001b[0m\u001b[1;33m\u001b[0m\u001b[1;33m\u001b[0m\u001b[0m\n\u001b[0m\u001b[0;32m    331\u001b[0m         with _print_elapsed_time('Pipeline',\n\u001b[0;32m    332\u001b[0m                                  self._log_message(len(self.steps) - 1)):\n",
      "\u001b[1;32mc:\\users\\ph\\pycharmprojects\\dat158ml2\\venv\\lib\\site-packages\\sklearn\\pipeline.py\u001b[0m in \u001b[0;36m_fit\u001b[1;34m(self, X, y, **fit_params_steps)\u001b[0m\n\u001b[0;32m    290\u001b[0m                 \u001b[0mcloned_transformer\u001b[0m \u001b[1;33m=\u001b[0m \u001b[0mclone\u001b[0m\u001b[1;33m(\u001b[0m\u001b[0mtransformer\u001b[0m\u001b[1;33m)\u001b[0m\u001b[1;33m\u001b[0m\u001b[1;33m\u001b[0m\u001b[0m\n\u001b[0;32m    291\u001b[0m             \u001b[1;31m# Fit or load from cache the current transformer\u001b[0m\u001b[1;33m\u001b[0m\u001b[1;33m\u001b[0m\u001b[1;33m\u001b[0m\u001b[0m\n\u001b[1;32m--> 292\u001b[1;33m             X, fitted_transformer = fit_transform_one_cached(\n\u001b[0m\u001b[0;32m    293\u001b[0m                 \u001b[0mcloned_transformer\u001b[0m\u001b[1;33m,\u001b[0m \u001b[0mX\u001b[0m\u001b[1;33m,\u001b[0m \u001b[0my\u001b[0m\u001b[1;33m,\u001b[0m \u001b[1;32mNone\u001b[0m\u001b[1;33m,\u001b[0m\u001b[1;33m\u001b[0m\u001b[1;33m\u001b[0m\u001b[0m\n\u001b[0;32m    294\u001b[0m                 \u001b[0mmessage_clsname\u001b[0m\u001b[1;33m=\u001b[0m\u001b[1;34m'Pipeline'\u001b[0m\u001b[1;33m,\u001b[0m\u001b[1;33m\u001b[0m\u001b[1;33m\u001b[0m\u001b[0m\n",
      "\u001b[1;32mc:\\users\\ph\\pycharmprojects\\dat158ml2\\venv\\lib\\site-packages\\joblib\\memory.py\u001b[0m in \u001b[0;36m__call__\u001b[1;34m(self, *args, **kwargs)\u001b[0m\n\u001b[0;32m    350\u001b[0m \u001b[1;33m\u001b[0m\u001b[0m\n\u001b[0;32m    351\u001b[0m     \u001b[1;32mdef\u001b[0m \u001b[0m__call__\u001b[0m\u001b[1;33m(\u001b[0m\u001b[0mself\u001b[0m\u001b[1;33m,\u001b[0m \u001b[1;33m*\u001b[0m\u001b[0margs\u001b[0m\u001b[1;33m,\u001b[0m \u001b[1;33m**\u001b[0m\u001b[0mkwargs\u001b[0m\u001b[1;33m)\u001b[0m\u001b[1;33m:\u001b[0m\u001b[1;33m\u001b[0m\u001b[1;33m\u001b[0m\u001b[0m\n\u001b[1;32m--> 352\u001b[1;33m         \u001b[1;32mreturn\u001b[0m \u001b[0mself\u001b[0m\u001b[1;33m.\u001b[0m\u001b[0mfunc\u001b[0m\u001b[1;33m(\u001b[0m\u001b[1;33m*\u001b[0m\u001b[0margs\u001b[0m\u001b[1;33m,\u001b[0m \u001b[1;33m**\u001b[0m\u001b[0mkwargs\u001b[0m\u001b[1;33m)\u001b[0m\u001b[1;33m\u001b[0m\u001b[1;33m\u001b[0m\u001b[0m\n\u001b[0m\u001b[0;32m    353\u001b[0m \u001b[1;33m\u001b[0m\u001b[0m\n\u001b[0;32m    354\u001b[0m     \u001b[1;32mdef\u001b[0m \u001b[0mcall_and_shelve\u001b[0m\u001b[1;33m(\u001b[0m\u001b[0mself\u001b[0m\u001b[1;33m,\u001b[0m \u001b[1;33m*\u001b[0m\u001b[0margs\u001b[0m\u001b[1;33m,\u001b[0m \u001b[1;33m**\u001b[0m\u001b[0mkwargs\u001b[0m\u001b[1;33m)\u001b[0m\u001b[1;33m:\u001b[0m\u001b[1;33m\u001b[0m\u001b[1;33m\u001b[0m\u001b[0m\n",
      "\u001b[1;32mc:\\users\\ph\\pycharmprojects\\dat158ml2\\venv\\lib\\site-packages\\sklearn\\pipeline.py\u001b[0m in \u001b[0;36m_fit_transform_one\u001b[1;34m(transformer, X, y, weight, message_clsname, message, **fit_params)\u001b[0m\n\u001b[0;32m    738\u001b[0m     \u001b[1;32mwith\u001b[0m \u001b[0m_print_elapsed_time\u001b[0m\u001b[1;33m(\u001b[0m\u001b[0mmessage_clsname\u001b[0m\u001b[1;33m,\u001b[0m \u001b[0mmessage\u001b[0m\u001b[1;33m)\u001b[0m\u001b[1;33m:\u001b[0m\u001b[1;33m\u001b[0m\u001b[1;33m\u001b[0m\u001b[0m\n\u001b[0;32m    739\u001b[0m         \u001b[1;32mif\u001b[0m \u001b[0mhasattr\u001b[0m\u001b[1;33m(\u001b[0m\u001b[0mtransformer\u001b[0m\u001b[1;33m,\u001b[0m \u001b[1;34m'fit_transform'\u001b[0m\u001b[1;33m)\u001b[0m\u001b[1;33m:\u001b[0m\u001b[1;33m\u001b[0m\u001b[1;33m\u001b[0m\u001b[0m\n\u001b[1;32m--> 740\u001b[1;33m             \u001b[0mres\u001b[0m \u001b[1;33m=\u001b[0m \u001b[0mtransformer\u001b[0m\u001b[1;33m.\u001b[0m\u001b[0mfit_transform\u001b[0m\u001b[1;33m(\u001b[0m\u001b[0mX\u001b[0m\u001b[1;33m,\u001b[0m \u001b[0my\u001b[0m\u001b[1;33m,\u001b[0m \u001b[1;33m**\u001b[0m\u001b[0mfit_params\u001b[0m\u001b[1;33m)\u001b[0m\u001b[1;33m\u001b[0m\u001b[1;33m\u001b[0m\u001b[0m\n\u001b[0m\u001b[0;32m    741\u001b[0m         \u001b[1;32melse\u001b[0m\u001b[1;33m:\u001b[0m\u001b[1;33m\u001b[0m\u001b[1;33m\u001b[0m\u001b[0m\n\u001b[0;32m    742\u001b[0m             \u001b[0mres\u001b[0m \u001b[1;33m=\u001b[0m \u001b[0mtransformer\u001b[0m\u001b[1;33m.\u001b[0m\u001b[0mfit\u001b[0m\u001b[1;33m(\u001b[0m\u001b[0mX\u001b[0m\u001b[1;33m,\u001b[0m \u001b[0my\u001b[0m\u001b[1;33m,\u001b[0m \u001b[1;33m**\u001b[0m\u001b[0mfit_params\u001b[0m\u001b[1;33m)\u001b[0m\u001b[1;33m.\u001b[0m\u001b[0mtransform\u001b[0m\u001b[1;33m(\u001b[0m\u001b[0mX\u001b[0m\u001b[1;33m)\u001b[0m\u001b[1;33m\u001b[0m\u001b[1;33m\u001b[0m\u001b[0m\n",
      "\u001b[1;32mc:\\users\\ph\\pycharmprojects\\dat158ml2\\venv\\lib\\site-packages\\sklearn\\base.py\u001b[0m in \u001b[0;36mfit_transform\u001b[1;34m(self, X, y, **fit_params)\u001b[0m\n\u001b[0;32m    688\u001b[0m         \u001b[1;32mif\u001b[0m \u001b[0my\u001b[0m \u001b[1;32mis\u001b[0m \u001b[1;32mNone\u001b[0m\u001b[1;33m:\u001b[0m\u001b[1;33m\u001b[0m\u001b[1;33m\u001b[0m\u001b[0m\n\u001b[0;32m    689\u001b[0m             \u001b[1;31m# fit method of arity 1 (unsupervised transformation)\u001b[0m\u001b[1;33m\u001b[0m\u001b[1;33m\u001b[0m\u001b[1;33m\u001b[0m\u001b[0m\n\u001b[1;32m--> 690\u001b[1;33m             \u001b[1;32mreturn\u001b[0m \u001b[0mself\u001b[0m\u001b[1;33m.\u001b[0m\u001b[0mfit\u001b[0m\u001b[1;33m(\u001b[0m\u001b[0mX\u001b[0m\u001b[1;33m,\u001b[0m \u001b[1;33m**\u001b[0m\u001b[0mfit_params\u001b[0m\u001b[1;33m)\u001b[0m\u001b[1;33m.\u001b[0m\u001b[0mtransform\u001b[0m\u001b[1;33m(\u001b[0m\u001b[0mX\u001b[0m\u001b[1;33m)\u001b[0m\u001b[1;33m\u001b[0m\u001b[1;33m\u001b[0m\u001b[0m\n\u001b[0m\u001b[0;32m    691\u001b[0m         \u001b[1;32melse\u001b[0m\u001b[1;33m:\u001b[0m\u001b[1;33m\u001b[0m\u001b[1;33m\u001b[0m\u001b[0m\n\u001b[0;32m    692\u001b[0m             \u001b[1;31m# fit method of arity 2 (supervised transformation)\u001b[0m\u001b[1;33m\u001b[0m\u001b[1;33m\u001b[0m\u001b[1;33m\u001b[0m\u001b[0m\n",
      "\u001b[1;32mc:\\users\\ph\\pycharmprojects\\dat158ml2\\venv\\lib\\site-packages\\sklearn\\preprocessing\\_data.py\u001b[0m in \u001b[0;36mfit\u001b[1;34m(self, X, y)\u001b[0m\n\u001b[0;32m   1198\u001b[0m         \u001b[1;31m# at fit, convert sparse matrices to csc for optimized computation of\u001b[0m\u001b[1;33m\u001b[0m\u001b[1;33m\u001b[0m\u001b[1;33m\u001b[0m\u001b[0m\n\u001b[0;32m   1199\u001b[0m         \u001b[1;31m# the quantiles\u001b[0m\u001b[1;33m\u001b[0m\u001b[1;33m\u001b[0m\u001b[1;33m\u001b[0m\u001b[0m\n\u001b[1;32m-> 1200\u001b[1;33m         X = self._validate_data(X, accept_sparse='csc', estimator=self,\n\u001b[0m\u001b[0;32m   1201\u001b[0m                                 \u001b[0mdtype\u001b[0m\u001b[1;33m=\u001b[0m\u001b[0mFLOAT_DTYPES\u001b[0m\u001b[1;33m,\u001b[0m\u001b[1;33m\u001b[0m\u001b[1;33m\u001b[0m\u001b[0m\n\u001b[0;32m   1202\u001b[0m                                 force_all_finite='allow-nan')\n",
      "\u001b[1;32mc:\\users\\ph\\pycharmprojects\\dat158ml2\\venv\\lib\\site-packages\\sklearn\\base.py\u001b[0m in \u001b[0;36m_validate_data\u001b[1;34m(self, X, y, reset, validate_separately, **check_params)\u001b[0m\n\u001b[0;32m    418\u001b[0m                     \u001b[1;34mf\"requires y to be passed, but the target y is None.\"\u001b[0m\u001b[1;33m\u001b[0m\u001b[1;33m\u001b[0m\u001b[0m\n\u001b[0;32m    419\u001b[0m                 )\n\u001b[1;32m--> 420\u001b[1;33m             \u001b[0mX\u001b[0m \u001b[1;33m=\u001b[0m \u001b[0mcheck_array\u001b[0m\u001b[1;33m(\u001b[0m\u001b[0mX\u001b[0m\u001b[1;33m,\u001b[0m \u001b[1;33m**\u001b[0m\u001b[0mcheck_params\u001b[0m\u001b[1;33m)\u001b[0m\u001b[1;33m\u001b[0m\u001b[1;33m\u001b[0m\u001b[0m\n\u001b[0m\u001b[0;32m    421\u001b[0m             \u001b[0mout\u001b[0m \u001b[1;33m=\u001b[0m \u001b[0mX\u001b[0m\u001b[1;33m\u001b[0m\u001b[1;33m\u001b[0m\u001b[0m\n\u001b[0;32m    422\u001b[0m         \u001b[1;32melse\u001b[0m\u001b[1;33m:\u001b[0m\u001b[1;33m\u001b[0m\u001b[1;33m\u001b[0m\u001b[0m\n",
      "\u001b[1;32mc:\\users\\ph\\pycharmprojects\\dat158ml2\\venv\\lib\\site-packages\\sklearn\\utils\\validation.py\u001b[0m in \u001b[0;36minner_f\u001b[1;34m(*args, **kwargs)\u001b[0m\n\u001b[0;32m     70\u001b[0m                           FutureWarning)\n\u001b[0;32m     71\u001b[0m         \u001b[0mkwargs\u001b[0m\u001b[1;33m.\u001b[0m\u001b[0mupdate\u001b[0m\u001b[1;33m(\u001b[0m\u001b[1;33m{\u001b[0m\u001b[0mk\u001b[0m\u001b[1;33m:\u001b[0m \u001b[0marg\u001b[0m \u001b[1;32mfor\u001b[0m \u001b[0mk\u001b[0m\u001b[1;33m,\u001b[0m \u001b[0marg\u001b[0m \u001b[1;32min\u001b[0m \u001b[0mzip\u001b[0m\u001b[1;33m(\u001b[0m\u001b[0msig\u001b[0m\u001b[1;33m.\u001b[0m\u001b[0mparameters\u001b[0m\u001b[1;33m,\u001b[0m \u001b[0margs\u001b[0m\u001b[1;33m)\u001b[0m\u001b[1;33m}\u001b[0m\u001b[1;33m)\u001b[0m\u001b[1;33m\u001b[0m\u001b[1;33m\u001b[0m\u001b[0m\n\u001b[1;32m---> 72\u001b[1;33m         \u001b[1;32mreturn\u001b[0m \u001b[0mf\u001b[0m\u001b[1;33m(\u001b[0m\u001b[1;33m**\u001b[0m\u001b[0mkwargs\u001b[0m\u001b[1;33m)\u001b[0m\u001b[1;33m\u001b[0m\u001b[1;33m\u001b[0m\u001b[0m\n\u001b[0m\u001b[0;32m     73\u001b[0m     \u001b[1;32mreturn\u001b[0m \u001b[0minner_f\u001b[0m\u001b[1;33m\u001b[0m\u001b[1;33m\u001b[0m\u001b[0m\n\u001b[0;32m     74\u001b[0m \u001b[1;33m\u001b[0m\u001b[0m\n",
      "\u001b[1;32mc:\\users\\ph\\pycharmprojects\\dat158ml2\\venv\\lib\\site-packages\\sklearn\\utils\\validation.py\u001b[0m in \u001b[0;36mcheck_array\u001b[1;34m(array, accept_sparse, accept_large_sparse, dtype, order, copy, force_all_finite, ensure_2d, allow_nd, ensure_min_samples, ensure_min_features, estimator)\u001b[0m\n\u001b[0;32m    596\u001b[0m                     \u001b[0marray\u001b[0m \u001b[1;33m=\u001b[0m \u001b[0marray\u001b[0m\u001b[1;33m.\u001b[0m\u001b[0mastype\u001b[0m\u001b[1;33m(\u001b[0m\u001b[0mdtype\u001b[0m\u001b[1;33m,\u001b[0m \u001b[0mcasting\u001b[0m\u001b[1;33m=\u001b[0m\u001b[1;34m\"unsafe\"\u001b[0m\u001b[1;33m,\u001b[0m \u001b[0mcopy\u001b[0m\u001b[1;33m=\u001b[0m\u001b[1;32mFalse\u001b[0m\u001b[1;33m)\u001b[0m\u001b[1;33m\u001b[0m\u001b[1;33m\u001b[0m\u001b[0m\n\u001b[0;32m    597\u001b[0m                 \u001b[1;32melse\u001b[0m\u001b[1;33m:\u001b[0m\u001b[1;33m\u001b[0m\u001b[1;33m\u001b[0m\u001b[0m\n\u001b[1;32m--> 598\u001b[1;33m                     \u001b[0marray\u001b[0m \u001b[1;33m=\u001b[0m \u001b[0mnp\u001b[0m\u001b[1;33m.\u001b[0m\u001b[0masarray\u001b[0m\u001b[1;33m(\u001b[0m\u001b[0marray\u001b[0m\u001b[1;33m,\u001b[0m \u001b[0morder\u001b[0m\u001b[1;33m=\u001b[0m\u001b[0morder\u001b[0m\u001b[1;33m,\u001b[0m \u001b[0mdtype\u001b[0m\u001b[1;33m=\u001b[0m\u001b[0mdtype\u001b[0m\u001b[1;33m)\u001b[0m\u001b[1;33m\u001b[0m\u001b[1;33m\u001b[0m\u001b[0m\n\u001b[0m\u001b[0;32m    599\u001b[0m             \u001b[1;32mexcept\u001b[0m \u001b[0mComplexWarning\u001b[0m\u001b[1;33m:\u001b[0m\u001b[1;33m\u001b[0m\u001b[1;33m\u001b[0m\u001b[0m\n\u001b[0;32m    600\u001b[0m                 raise ValueError(\"Complex data not supported\\n\"\n",
      "\u001b[1;32mc:\\users\\ph\\pycharmprojects\\dat158ml2\\venv\\lib\\site-packages\\numpy\\core\\_asarray.py\u001b[0m in \u001b[0;36masarray\u001b[1;34m(a, dtype, order)\u001b[0m\n\u001b[0;32m     81\u001b[0m \u001b[1;33m\u001b[0m\u001b[0m\n\u001b[0;32m     82\u001b[0m     \"\"\"\n\u001b[1;32m---> 83\u001b[1;33m     \u001b[1;32mreturn\u001b[0m \u001b[0marray\u001b[0m\u001b[1;33m(\u001b[0m\u001b[0ma\u001b[0m\u001b[1;33m,\u001b[0m \u001b[0mdtype\u001b[0m\u001b[1;33m,\u001b[0m \u001b[0mcopy\u001b[0m\u001b[1;33m=\u001b[0m\u001b[1;32mFalse\u001b[0m\u001b[1;33m,\u001b[0m \u001b[0morder\u001b[0m\u001b[1;33m=\u001b[0m\u001b[0morder\u001b[0m\u001b[1;33m)\u001b[0m\u001b[1;33m\u001b[0m\u001b[1;33m\u001b[0m\u001b[0m\n\u001b[0m\u001b[0;32m     84\u001b[0m \u001b[1;33m\u001b[0m\u001b[0m\n\u001b[0;32m     85\u001b[0m \u001b[1;33m\u001b[0m\u001b[0m\n",
      "\u001b[1;32mc:\\users\\ph\\pycharmprojects\\dat158ml2\\venv\\lib\\site-packages\\pandas\\core\\generic.py\u001b[0m in \u001b[0;36m__array__\u001b[1;34m(self, dtype)\u001b[0m\n\u001b[0;32m   1779\u001b[0m \u001b[1;33m\u001b[0m\u001b[0m\n\u001b[0;32m   1780\u001b[0m     \u001b[1;32mdef\u001b[0m \u001b[0m__array__\u001b[0m\u001b[1;33m(\u001b[0m\u001b[0mself\u001b[0m\u001b[1;33m,\u001b[0m \u001b[0mdtype\u001b[0m\u001b[1;33m=\u001b[0m\u001b[1;32mNone\u001b[0m\u001b[1;33m)\u001b[0m \u001b[1;33m->\u001b[0m \u001b[0mnp\u001b[0m\u001b[1;33m.\u001b[0m\u001b[0mndarray\u001b[0m\u001b[1;33m:\u001b[0m\u001b[1;33m\u001b[0m\u001b[1;33m\u001b[0m\u001b[0m\n\u001b[1;32m-> 1781\u001b[1;33m         \u001b[1;32mreturn\u001b[0m \u001b[0mnp\u001b[0m\u001b[1;33m.\u001b[0m\u001b[0masarray\u001b[0m\u001b[1;33m(\u001b[0m\u001b[0mself\u001b[0m\u001b[1;33m.\u001b[0m\u001b[0m_values\u001b[0m\u001b[1;33m,\u001b[0m \u001b[0mdtype\u001b[0m\u001b[1;33m=\u001b[0m\u001b[0mdtype\u001b[0m\u001b[1;33m)\u001b[0m\u001b[1;33m\u001b[0m\u001b[1;33m\u001b[0m\u001b[0m\n\u001b[0m\u001b[0;32m   1782\u001b[0m \u001b[1;33m\u001b[0m\u001b[0m\n\u001b[0;32m   1783\u001b[0m     \u001b[1;32mdef\u001b[0m \u001b[0m__array_wrap__\u001b[0m\u001b[1;33m(\u001b[0m\u001b[0mself\u001b[0m\u001b[1;33m,\u001b[0m \u001b[0mresult\u001b[0m\u001b[1;33m,\u001b[0m \u001b[0mcontext\u001b[0m\u001b[1;33m=\u001b[0m\u001b[1;32mNone\u001b[0m\u001b[1;33m)\u001b[0m\u001b[1;33m:\u001b[0m\u001b[1;33m\u001b[0m\u001b[1;33m\u001b[0m\u001b[0m\n",
      "\u001b[1;32mc:\\users\\ph\\pycharmprojects\\dat158ml2\\venv\\lib\\site-packages\\numpy\\core\\_asarray.py\u001b[0m in \u001b[0;36masarray\u001b[1;34m(a, dtype, order)\u001b[0m\n\u001b[0;32m     81\u001b[0m \u001b[1;33m\u001b[0m\u001b[0m\n\u001b[0;32m     82\u001b[0m     \"\"\"\n\u001b[1;32m---> 83\u001b[1;33m     \u001b[1;32mreturn\u001b[0m \u001b[0marray\u001b[0m\u001b[1;33m(\u001b[0m\u001b[0ma\u001b[0m\u001b[1;33m,\u001b[0m \u001b[0mdtype\u001b[0m\u001b[1;33m,\u001b[0m \u001b[0mcopy\u001b[0m\u001b[1;33m=\u001b[0m\u001b[1;32mFalse\u001b[0m\u001b[1;33m,\u001b[0m \u001b[0morder\u001b[0m\u001b[1;33m=\u001b[0m\u001b[0morder\u001b[0m\u001b[1;33m)\u001b[0m\u001b[1;33m\u001b[0m\u001b[1;33m\u001b[0m\u001b[0m\n\u001b[0m\u001b[0;32m     84\u001b[0m \u001b[1;33m\u001b[0m\u001b[0m\n\u001b[0;32m     85\u001b[0m \u001b[1;33m\u001b[0m\u001b[0m\n",
      "\u001b[1;31mValueError\u001b[0m: could not convert string to float: '7/14/07'"
     ]
    }
   ],
   "source": [
    "final_model = grid_search.best_estimator_\n",
    "test_prepared = pipeline.fit(test)\n",
    "final_predict = final_model.predict(test)\n",
    "len(final_predict)\n"
   ]
  },
  {
   "cell_type": "code",
   "execution_count": 59,
   "metadata": {
    "execution": {
     "iopub.execute_input": "2020-11-15T18:27:04.374058Z",
     "iopub.status.busy": "2020-11-15T18:27:04.373588Z",
     "iopub.status.idle": "2020-11-15T18:27:04.401013Z",
     "shell.execute_reply": "2020-11-15T18:27:04.400375Z"
    },
    "papermill": {
     "duration": 0.126317,
     "end_time": "2020-11-15T18:27:04.401123",
     "exception": false,
     "start_time": "2020-11-15T18:27:04.274806",
     "status": "completed"
    },
    "tags": []
   },
   "outputs": [
    {
     "ename": "NameError",
     "evalue": "name 'final_predict' is not defined",
     "output_type": "error",
     "traceback": [
      "\u001b[0;31m---------------------------------------------------------------------------\u001b[0m",
      "\u001b[0;31mNameError\u001b[0m                                 Traceback (most recent call last)",
      "\u001b[0;32m<ipython-input-59-af7f76088116>\u001b[0m in \u001b[0;36m<module>\u001b[0;34m\u001b[0m\n\u001b[1;32m      1\u001b[0m \u001b[0msample_submission\u001b[0m \u001b[0;34m=\u001b[0m \u001b[0mpd\u001b[0m\u001b[0;34m.\u001b[0m\u001b[0mread_csv\u001b[0m\u001b[0;34m(\u001b[0m\u001b[0;34m'../input/tmdb-box-office-prediction/sample_submission.csv'\u001b[0m\u001b[0;34m)\u001b[0m\u001b[0;34m\u001b[0m\u001b[0;34m\u001b[0m\u001b[0m\n\u001b[1;32m      2\u001b[0m \u001b[0;31m# sample_submission['revenue'] = np.expm1(final_prediction + y_pred)/2\u001b[0m\u001b[0;34m\u001b[0m\u001b[0;34m\u001b[0m\u001b[0;34m\u001b[0m\u001b[0m\n\u001b[0;32m----> 3\u001b[0;31m \u001b[0msample_submission\u001b[0m\u001b[0;34m[\u001b[0m\u001b[0;34m'revenue'\u001b[0m\u001b[0;34m]\u001b[0m \u001b[0;34m=\u001b[0m \u001b[0mnp\u001b[0m\u001b[0;34m.\u001b[0m\u001b[0mexpm1\u001b[0m\u001b[0;34m(\u001b[0m\u001b[0mfinal_predict\u001b[0m\u001b[0;34m)\u001b[0m\u001b[0;34m\u001b[0m\u001b[0;34m\u001b[0m\u001b[0m\n\u001b[0m\u001b[1;32m      4\u001b[0m \u001b[0msample_submission\u001b[0m\u001b[0;34m.\u001b[0m\u001b[0mto_csv\u001b[0m\u001b[0;34m(\u001b[0m\u001b[0;34m'first.csv'\u001b[0m\u001b[0;34m,\u001b[0m \u001b[0mindex\u001b[0m\u001b[0;34m=\u001b[0m\u001b[0;32mFalse\u001b[0m\u001b[0;34m)\u001b[0m\u001b[0;34m\u001b[0m\u001b[0;34m\u001b[0m\u001b[0m\n",
      "\u001b[0;31mNameError\u001b[0m: name 'final_predict' is not defined"
     ]
    }
   ],
   "source": [
    "sample_submission = pd.read_csv('../input/tmdb-box-office-prediction/sample_submission.csv')\n",
    "# sample_submission['revenue'] = np.expm1(final_prediction + y_pred)/2\n",
    "sample_submission['revenue'] = np.expm1(final_predict)\n",
    "sample_submission.to_csv('first.csv', index=False)"
   ]
  }
 ],
 "metadata": {
  "kernelspec": {
   "display_name": "Python 3",
   "language": "python",
   "name": "python3"
  },
  "language_info": {
   "codemirror_mode": {
    "name": "ipython",
    "version": 3
   },
   "file_extension": ".py",
   "mimetype": "text/x-python",
   "name": "python",
   "nbconvert_exporter": "python",
   "pygments_lexer": "ipython3",
   "version": "3.8.2"
  },
  "papermill": {
   "duration": 54.956175,
   "end_time": "2020-11-15T18:27:04.601802",
   "environment_variables": {},
   "exception": null,
   "input_path": "__notebook__.ipynb",
   "output_path": "__notebook__.ipynb",
   "parameters": {},
   "start_time": "2020-11-15T18:26:09.645627",
   "version": "2.1.0"
  }
 },
 "nbformat": 4,
 "nbformat_minor": 4
}
