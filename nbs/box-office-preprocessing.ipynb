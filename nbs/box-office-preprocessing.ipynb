{
 "cells": [
  {
   "metadata": {},
   "cell_type": "markdown",
   "source": [
    "**Oblig2 ML Dat158 Playing the whole game**\n",
    "\n",
    "\n",
    "(Niklas Johansson, Darren Bernardo, Per-Helge Litzheim, Hassan Ali Abdullahi)\n",
    "\n",
    "\n",
    "1 Frame the problem and look at the big picture \n",
    "\n",
    "2 Get the data \n",
    "\n",
    "3 Explore the data to gain insights \n",
    "\n",
    "4 Prepare the data \n",
    "\n",
    "5 Explore many different models and short-list the best ones\n",
    "\n",
    "6 Fine-tune your models and combine them into a great solution \n",
    "\n",
    "7 Present your solution \n",
    "\n",
    "8 Launch, monitor and maintain your system\n"
   ]
  },
  {
   "metadata": {},
   "cell_type": "markdown",
   "source": [
    "**1. Framing the problem**\n",
    "\n",
    "We have choosen to work with the box_office data set. Our objective is to learn more about the data and then prepare the data for deployment.\n",
    "\n"
   ]
  },
  {
   "metadata": {
    "_uuid": "8f2839f25d086af736a60e9eeb907d3b93b6e0e5",
    "_cell_guid": "b1076dfc-b9ad-4769-8c92-a6c4dae69d19",
    "trusted": true
   },
   "cell_type": "code",
   "source": [
    "# All necessery imports in one place\n",
    "\n",
    "import numpy as np # linear algebra\n",
    "import pandas as pd # data processing, CSV file I/O (e.g. pd.read_csv)\n",
    "import matplotlib.pyplot as plt\n",
    "import lightgbm as lgb\n",
    "import itertools\n",
    "import ast\n",
    "import eli5\n",
    "import time\n",
    "import seaborn as sns # prettier plotting\n",
    "\n",
    "from scipy import stats\n",
    "\n",
    "from sklearn.pipeline import make_pipeline\n",
    "from sklearn.preprocessing import LabelEncoder, RobustScaler\n",
    "from sklearn import model_selection\n",
    "from sklearn.feature_extraction.text import TfidfVectorizer\n",
    "from sklearn.model_selection import train_test_split, KFold\n",
    "from sklearn.base import BaseEstimator,TransformerMixin,RegressorMixin\n",
    "from sklearn.pipeline import Pipeline, make_pipeline\n",
    "from sklearn.metrics import mean_squared_error\n",
    "from sklearn.model_selection import GridSearchCV, train_test_split, RandomizedSearchCV, GridSearchCV\n",
    "from sklearn.feature_selection import f_regression\n",
    "from sklearn.impute import SimpleImputer\n",
    "from collections import Counter\n",
    "\n",
    "import os\n",
    "import warnings\n",
    "\n",
    "warnings.filterwarnings(\"ignore\")\n",
    "plt.style.use('fivethirtyeight') # Prettier colors in plots\n"
   ],
   "execution_count": 10,
   "outputs": []
  },
  {
   "metadata": {},
   "cell_type": "markdown",
   "source": [
    "2 Get the data "
   ]
  },
  {
   "metadata": {
    "_uuid": "d629ff2d2480ee46fbb7e2d37f6b5fab8052498a",
    "_cell_guid": "79c7e3d0-c299-4dcb-8224-4455121ee9b0",
    "trusted": true
   },
   "cell_type": "code",
   "source": [
    "train = pd.read_csv('../input/tmdb-box-office-prediction/train.csv')\n",
    "test = pd.read_csv('../input/tmdb-box-office-prediction/test.csv')\n",
    "sample_submission = pd.read_csv('../input/tmdb-box-office-prediction/sample_submission.csv')\n",
    "train.info()"
   ],
   "execution_count": 11,
   "outputs": [
    {
     "output_type": "stream",
     "text": "<class 'pandas.core.frame.DataFrame'>\nRangeIndex: 3000 entries, 0 to 2999\nData columns (total 23 columns):\n #   Column                 Non-Null Count  Dtype  \n---  ------                 --------------  -----  \n 0   id                     3000 non-null   int64  \n 1   belongs_to_collection  604 non-null    object \n 2   budget                 3000 non-null   int64  \n 3   genres                 2993 non-null   object \n 4   homepage               946 non-null    object \n 5   imdb_id                3000 non-null   object \n 6   original_language      3000 non-null   object \n 7   original_title         3000 non-null   object \n 8   overview               2992 non-null   object \n 9   popularity             3000 non-null   float64\n 10  poster_path            2999 non-null   object \n 11  production_companies   2844 non-null   object \n 12  production_countries   2945 non-null   object \n 13  release_date           3000 non-null   object \n 14  runtime                2998 non-null   float64\n 15  spoken_languages       2980 non-null   object \n 16  status                 3000 non-null   object \n 17  tagline                2403 non-null   object \n 18  title                  3000 non-null   object \n 19  Keywords               2724 non-null   object \n 20  cast                   2987 non-null   object \n 21  crew                   2984 non-null   object \n 22  revenue                3000 non-null   int64  \ndtypes: float64(2), int64(3), object(18)\nmemory usage: 539.2+ KB\n",
     "name": "stdout"
    }
   ]
  },
  {
   "metadata": {},
   "cell_type": "markdown",
   "source": [
    "**3 Explore the data to gain insights**\n",
    "\n",
    "We will not have a lot of fancy visualiztion, rather keep it short and focused."
   ]
  },
  {
   "metadata": {
    "trusted": true
   },
   "cell_type": "code",
   "source": [
    "# checking shape of data\n",
    "shape = train.shape\n",
    "train.shape, test.shape"
   ],
   "execution_count": 12,
   "outputs": [
    {
     "output_type": "execute_result",
     "execution_count": 12,
     "data": {
      "text/plain": "((3000, 23), (4398, 22))"
     },
     "metadata": {}
    }
   ]
  },
  {
   "metadata": {
    "trusted": true
   },
   "cell_type": "code",
   "source": [],
   "execution_count": null,
   "outputs": []
  },
  {
   "metadata": {},
   "cell_type": "markdown",
   "source": [
    "Unsure why the test set is larger than the train.. However that seams to be our smallest problem. Many of the columns are in JSON format, others like budget contains 0 values which are probably unknown rather.\n"
   ]
  },
  {
   "metadata": {
    "trusted": true
   },
   "cell_type": "code",
   "source": [
    "train.budget.describe()"
   ],
   "execution_count": 13,
   "outputs": [
    {
     "output_type": "execute_result",
     "execution_count": 13,
     "data": {
      "text/plain": "count    3.000000e+03\nmean     2.253133e+07\nstd      3.702609e+07\nmin      0.000000e+00\n25%      0.000000e+00\n50%      8.000000e+06\n75%      2.900000e+07\nmax      3.800000e+08\nName: budget, dtype: float64"
     },
     "metadata": {}
    }
   ]
  },
  {
   "metadata": {
    "trusted": true
   },
   "cell_type": "code",
   "source": [
    "# calculate percentage of missing values\n",
    "pct_nans = round(train.isnull().sum()/shape[0]*100,1).to_frame().sort_values(by=[0], ascending=False)\n",
    "# create a bar chart\n",
    "plt.figure(figsize=(20,8))\n",
    "sns.barplot(x=pct_nans.index, y=pct_nans[0])\n",
    "plt.axhline(10, ls=\"--\")\n",
    "plt.xticks(rotation=90, fontsize=14)\n",
    "plt.title(\"Percentage of missing values\", fontsize=14)\n",
    "plt.ylabel(\"Missing values [%]\", fontsize=14)\n",
    "plt.show()"
   ],
   "execution_count": 14,
   "outputs": [
    {
     "output_type": "display_data",
     "data": {
      "text/plain": "<Figure size 1440x576 with 1 Axes>",
      "image/png": "[encoded data removed]"
     },
     "metadata": {}
    }
   ]
  },
  {
   "metadata": {},
   "cell_type": "markdown",
   "source": [
    "**4. Preparing the data**\n",
    "\n",
    "Time to fix the things that needed fixing, a lot of cleaning needed:"
   ]
  },
  {
   "metadata": {
    "trusted": true
   },
   "cell_type": "code",
   "source": [
    "# Found some of the missing values from budget/revenue in the notebook: EDA, Feature Engineering, LGB+XGB+CAT (Kamal Chhirang, has written that he himsel took from others)\n",
    "# https://www.kaggle.com/kamalchhirang/eda-feature-engineering-lgb-xgb-cat\n",
    "\n",
    "train.loc[train['id'] == 16,'revenue'] = 192864          # Skinning\n",
    "train.loc[train['id'] == 90,'budget'] = 30000000         # Sommersby          \n",
    "train.loc[train['id'] == 118,'budget'] = 60000000        # Wild Hogs\n",
    "train.loc[train['id'] == 149,'budget'] = 18000000        # Beethoven\n",
    "train.loc[train['id'] == 313,'revenue'] = 12000000       # The Cookout \n",
    "train.loc[train['id'] == 451,'revenue'] = 12000000       # Chasing Liberty\n",
    "train.loc[train['id'] == 464,'budget'] = 20000000        # Parenthood\n",
    "train.loc[train['id'] == 470,'budget'] = 13000000        # The Karate Kid, Part II\n",
    "train.loc[train['id'] == 513,'budget'] = 930000          # From Prada to Nada\n",
    "train.loc[train['id'] == 797,'budget'] = 8000000         # Welcome to Dongmakgol\n",
    "train.loc[train['id'] == 819,'budget'] = 90000000        # Alvin and the Chipmunks: The Road Chip\n",
    "train.loc[train['id'] == 850,'budget'] = 90000000        # Modern Times\n",
    "train.loc[train['id'] == 1007,'budget'] = 2              # Zyzzyx Road \n",
    "train.loc[train['id'] == 1112,'budget'] = 7500000        # An Officer and a Gentleman\n",
    "train.loc[train['id'] == 1131,'budget'] = 4300000        # Smokey and the Bandit   \n",
    "train.loc[train['id'] == 1359,'budget'] = 10000000       # Stir Crazy \n",
    "train.loc[train['id'] == 1542,'budget'] = 1              # All at Once\n",
    "train.loc[train['id'] == 1570,'budget'] = 15800000       # Crocodile Dundee II\n",
    "train.loc[train['id'] == 1571,'budget'] = 4000000        # Lady and the Tramp\n",
    "train.loc[train['id'] == 1714,'budget'] = 46000000       # The Recruit\n",
    "train.loc[train['id'] == 1721,'budget'] = 17500000       # Cocoon\n",
    "train.loc[train['id'] == 1865,'revenue'] = 25000000      # Scooby-Doo 2: Monsters Unleashed\n",
    "train.loc[train['id'] == 1885,'budget'] = 12             # In the Cut\n",
    "train.loc[train['id'] == 2091,'budget'] = 10             # Deadfall\n",
    "train.loc[train['id'] == 2268,'budget'] = 17500000       # Madea Goes to Jail budget\n",
    "train.loc[train['id'] == 2491,'budget'] = 6              # Never Talk to Strangers\n",
    "train.loc[train['id'] == 2602,'budget'] = 31000000       # Mr. Holland's Opus\n",
    "train.loc[train['id'] == 2612,'budget'] = 15000000       # Field of Dreams\n",
    "train.loc[train['id'] == 2696,'budget'] = 10000000       # Nurse 3-D\n",
    "train.loc[train['id'] == 2801,'budget'] = 10000000       # Fracture\n",
    "train.loc[train['id'] == 335,'budget'] = 2 \n",
    "train.loc[train['id'] == 348,'budget'] = 12\n",
    "train.loc[train['id'] == 470,'budget'] = 13000000 \n",
    "train.loc[train['id'] == 513,'budget'] = 1100000\n",
    "train.loc[train['id'] == 640,'budget'] = 6 \n",
    "train.loc[train['id'] == 696,'budget'] = 1\n",
    "train.loc[train['id'] == 797,'budget'] = 8000000 \n",
    "train.loc[train['id'] == 850,'budget'] = 1500000\n",
    "train.loc[train['id'] == 1199,'budget'] = 5 \n",
    "train.loc[train['id'] == 1282,'budget'] = 9               # Death at a Funeral\n",
    "train.loc[train['id'] == 1347,'budget'] = 1\n",
    "train.loc[train['id'] == 1755,'budget'] = 2\n",
    "train.loc[train['id'] == 1801,'budget'] = 5\n",
    "train.loc[train['id'] == 1918,'budget'] = 592 \n",
    "train.loc[train['id'] == 2033,'budget'] = 4\n",
    "train.loc[train['id'] == 2118,'budget'] = 344 \n",
    "train.loc[train['id'] == 2252,'budget'] = 130\n",
    "train.loc[train['id'] == 2256,'budget'] = 1 \n",
    "train.loc[train['id'] == 2696,'budget'] = 10000000\n",
    "\n",
    "#Clean Data\n",
    "test.loc[test['id'] == 6733,'budget'] = 5000000\n",
    "test.loc[test['id'] == 3889,'budget'] = 15000000\n",
    "test.loc[test['id'] == 6683,'budget'] = 50000000\n",
    "test.loc[test['id'] == 5704,'budget'] = 4300000\n",
    "test.loc[test['id'] == 6109,'budget'] = 281756\n",
    "test.loc[test['id'] == 7242,'budget'] = 10000000\n",
    "test.loc[test['id'] == 7021,'budget'] = 17540562       #  Two Is a Family\n",
    "test.loc[test['id'] == 5591,'budget'] = 4000000        # The Orphanage\n",
    "test.loc[test['id'] == 4282,'budget'] = 20000000       # Big Top Pee-wee\n",
    "test.loc[test['id'] == 3033,'budget'] = 250 \n",
    "test.loc[test['id'] == 3051,'budget'] = 50\n",
    "test.loc[test['id'] == 3084,'budget'] = 337\n",
    "test.loc[test['id'] == 3224,'budget'] = 4  \n",
    "test.loc[test['id'] == 3594,'budget'] = 25  \n",
    "test.loc[test['id'] == 3619,'budget'] = 500  \n",
    "test.loc[test['id'] == 3831,'budget'] = 3  \n",
    "test.loc[test['id'] == 3935,'budget'] = 500  \n",
    "test.loc[test['id'] == 4049,'budget'] = 995946 \n",
    "test.loc[test['id'] == 4424,'budget'] = 3  \n",
    "test.loc[test['id'] == 4460,'budget'] = 8  \n",
    "test.loc[test['id'] == 4555,'budget'] = 1200000 \n",
    "test.loc[test['id'] == 4624,'budget'] = 30 \n",
    "test.loc[test['id'] == 4645,'budget'] = 500 \n",
    "test.loc[test['id'] == 4709,'budget'] = 450 \n",
    "test.loc[test['id'] == 4839,'budget'] = 7\n",
    "test.loc[test['id'] == 3125,'budget'] = 25 \n",
    "test.loc[test['id'] == 3142,'budget'] = 1\n",
    "test.loc[test['id'] == 3201,'budget'] = 450\n",
    "test.loc[test['id'] == 3222,'budget'] = 6\n",
    "test.loc[test['id'] == 3545,'budget'] = 38\n",
    "test.loc[test['id'] == 3670,'budget'] = 18\n",
    "test.loc[test['id'] == 3792,'budget'] = 19\n",
    "test.loc[test['id'] == 3881,'budget'] = 7\n",
    "test.loc[test['id'] == 3969,'budget'] = 400\n",
    "test.loc[test['id'] == 4196,'budget'] = 6\n",
    "test.loc[test['id'] == 4221,'budget'] = 11\n",
    "test.loc[test['id'] == 4222,'budget'] = 500\n",
    "test.loc[test['id'] == 4285,'budget'] = 11\n",
    "test.loc[test['id'] == 4319,'budget'] = 1\n",
    "test.loc[test['id'] == 4639,'budget'] = 10\n",
    "test.loc[test['id'] == 4719,'budget'] = 45\n",
    "test.loc[test['id'] == 4822,'budget'] = 22\n",
    "test.loc[test['id'] == 4829,'budget'] = 20\n",
    "test.loc[test['id'] == 4969,'budget'] = 20\n",
    "test.loc[test['id'] == 5021,'budget'] = 40 \n",
    "test.loc[test['id'] == 5035,'budget'] = 1 \n",
    "test.loc[test['id'] == 5063,'budget'] = 14 \n",
    "test.loc[test['id'] == 5119,'budget'] = 2 \n",
    "test.loc[test['id'] == 5214,'budget'] = 30 \n",
    "test.loc[test['id'] == 5221,'budget'] = 50 \n",
    "test.loc[test['id'] == 4903,'budget'] = 15\n",
    "test.loc[test['id'] == 4983,'budget'] = 3\n",
    "test.loc[test['id'] == 5102,'budget'] = 28\n",
    "test.loc[test['id'] == 5217,'budget'] = 75\n",
    "test.loc[test['id'] == 5224,'budget'] = 3 \n",
    "test.loc[test['id'] == 5469,'budget'] = 20 \n",
    "test.loc[test['id'] == 5840,'budget'] = 1 \n",
    "test.loc[test['id'] == 5960,'budget'] = 30\n",
    "test.loc[test['id'] == 6506,'budget'] = 11 \n",
    "test.loc[test['id'] == 6553,'budget'] = 280\n",
    "test.loc[test['id'] == 6561,'budget'] = 7\n",
    "test.loc[test['id'] == 6582,'budget'] = 218\n",
    "test.loc[test['id'] == 6638,'budget'] = 5\n",
    "test.loc[test['id'] == 6749,'budget'] = 8 \n",
    "test.loc[test['id'] == 6759,'budget'] = 50 \n",
    "test.loc[test['id'] == 6856,'budget'] = 10\n",
    "test.loc[test['id'] == 6858,'budget'] =  100\n",
    "test.loc[test['id'] == 6876,'budget'] =  250\n",
    "test.loc[test['id'] == 6972,'budget'] = 1\n",
    "test.loc[test['id'] == 7079,'budget'] = 8000000\n",
    "test.loc[test['id'] == 7150,'budget'] = 118\n",
    "test.loc[test['id'] == 6506,'budget'] = 118\n",
    "test.loc[test['id'] == 7225,'budget'] = 6\n",
    "test.loc[test['id'] == 7231,'budget'] = 85\n",
    "test.loc[test['id'] == 5222,'budget'] = 5\n",
    "test.loc[test['id'] == 5322,'budget'] = 90\n",
    "test.loc[test['id'] == 5350,'budget'] = 70\n",
    "test.loc[test['id'] == 5378,'budget'] = 10\n",
    "test.loc[test['id'] == 5545,'budget'] = 80\n",
    "test.loc[test['id'] == 5810,'budget'] = 8\n",
    "test.loc[test['id'] == 5926,'budget'] = 300\n",
    "test.loc[test['id'] == 5927,'budget'] = 4\n",
    "test.loc[test['id'] == 5986,'budget'] = 1\n",
    "test.loc[test['id'] == 6053,'budget'] = 20\n",
    "test.loc[test['id'] == 6104,'budget'] = 1\n",
    "test.loc[test['id'] == 6130,'budget'] = 30\n",
    "test.loc[test['id'] == 6301,'budget'] = 150\n",
    "test.loc[test['id'] == 6276,'budget'] = 100\n",
    "test.loc[test['id'] == 6473,'budget'] = 100\n",
    "test.loc[test['id'] == 6842,'budget'] = 30\n"
   ],
   "execution_count": 15,
   "outputs": []
  },
  {
   "metadata": {
    "trusted": true
   },
   "cell_type": "code",
   "source": "# method for encoding str columns to int\n\ndef lab_encode(df):\n    for col in ['production_countries', 'all_genres', 'original_language' ]:\n        df[col]= LabelEncoder().fit_transform(df[col]) \n    ",
   "execution_count": 16,
   "outputs": []
  },
  {
   "metadata": {
    "trusted": true
   },
   "cell_type": "code",
   "source": "# To make the deployment as painless as possible we reduce the numbers of columns.\n# \n\nclass Preprocessor(BaseEstimator,TransformerMixin):\n    \n    def fit(self,df,y=None):\n            return self\n    \n    def transform(self,df, y=None):\n            #Changeing release date to Year and Month, also changeing release years from future dates to correct(ie. 2068 to 1968)\n            df['release_date'] = pd.to_datetime(df['release_date'])\n            df['release_year'] = df['release_date'].dt.year\n            df['release_month'] = df['release_date'].dt.month\n            df['release_year']=np.where(df['release_year']> 2018, df['release_year']-100, df['release_year']) \n            \n            df['budget_year_ratio'] = df['budget'] / (df['release_year'] * df['release_year'])\n            \n            df['genres']=df['genres'].apply(lambda x: {} if pd.isna(x) else ast.literal_eval(x) )\n            df['all_genres'] = df['genres'].apply(lambda x: ' '.join(sorted([i['name'] for i in x])) if x != {} else '')\n            \n            df[\"tagline\"] = df.tagline.isnull() # Only keeping if the movie has a tagline or not\n            df[\"tagline\"] = df.tagline.astype(\"int32\")\n\n            df[\"belongs_to_collection\"] = df.belongs_to_collection.isnull()\n            df[\"belongs_to_collection\"] = df.belongs_to_collection.astype(\"int32\")\n            \n            df['production_countries']=df['production_countries'].apply(lambda x: {} if pd.isna(x) else ast.literal_eval(x) )\n            df['production_countries']= df['production_countries'].apply(lambda x: ' '.join(sorted([i['iso_3166_1'] for i in x])) if x != {} else '')\n            \n            lab_encode(df) # calling the above method\n            \n            df.drop(columns=['release_date', \"imdb_id\"], inplace=True)\n            df.drop(columns=[\"poster_path\"], inplace=True)\n            df.drop(columns=[\"status\"], inplace=True)\n            df.drop(columns=[\"overview\"], inplace=True)\n            df.drop(columns=[\"original_title\"], inplace=True)\n            df.drop(columns=[\"spoken_languages\"], inplace=True)\n            df.drop(columns=[\"Keywords\"], inplace=True)\n            df.drop(columns=['production_companies'], inplace=True)\n            df.drop(columns=[\"title\"], inplace=True)  \n            df.drop(columns=['crew'], inplace=True)\n            df.drop(columns=['genres'], inplace=True)\n            df.drop(columns=['cast'], inplace=True)\n            df.drop(columns=['homepage'], inplace=True)\n            df.drop(columns=['id'], inplace=True)\n            return df",
   "execution_count": 17,
   "outputs": []
  },
  {
   "metadata": {
    "trusted": true
   },
   "cell_type": "code",
   "source": "train = Preprocessor().fit_transform(train)\ntest = Preprocessor().transform(test)",
   "execution_count": 18,
   "outputs": []
  },
  {
   "metadata": {
    "trusted": true
   },
   "cell_type": "code",
   "source": "# checking how the train data correlates to label(revenue)\ncorr_matrix = train.corr()\ncorr_matrix[\"revenue\"].sort_values(ascending=False)",
   "execution_count": 28,
   "outputs": [
    {
     "output_type": "execute_result",
     "execution_count": 28,
     "data": {
      "text/plain": "revenue                  1.000000\nbudget                   0.755986\nbudget_year_ratio        0.755321\npopularity               0.461522\nruntime                  0.216652\nrelease_year             0.137861\nproduction_countries     0.067025\nrelease_month            0.020557\noriginal_language       -0.092216\ntagline                 -0.180229\nall_genres              -0.245050\nbelongs_to_collection   -0.338683\nName: revenue, dtype: float64"
     },
     "metadata": {}
    }
   ]
  },
  {
   "metadata": {
    "trusted": true
   },
   "cell_type": "code",
   "source": "# Here is where we're done with this process we store the processed train set and its labels for further use\nlabels = train[\"revenue\"].copy() \nX=train.drop([\"revenue\"], axis=1)\n\ny = np.log1p(train['revenue'])",
   "execution_count": 29,
   "outputs": []
  },
  {
   "metadata": {
    "trusted": true
   },
   "cell_type": "code",
   "source": "# X.to_csv('pp_train.csv', index=False)\n# y.to_csv('pp_labels.csv', index=False)",
   "execution_count": null,
   "outputs": []
  },
  {
   "metadata": {},
   "cell_type": "markdown",
   "source": "**5 & 6 Explore models and Fine-tuning them**"
  },
  {
   "metadata": {
    "trusted": true
   },
   "cell_type": "code",
   "source": "from sklearn.model_selection import GridSearchCV\nfrom sklearn.feature_selection import SelectKBest, VarianceThreshold\n\n# pipeline for scaling and imputing\n\npipeline = Pipeline([\n    (\"Rbt_scaler\", RobustScaler()),\n    (\"imputer\", SimpleImputer(strategy=\"most_frequent\"))\n])\n\nprepared = pipeline.fit_transform(X, y)\npretest = pipeline.transform(test)",
   "execution_count": 22,
   "outputs": []
  },
  {
   "metadata": {
    "trusted": true
   },
   "cell_type": "code",
   "source": "X_train, X_valid, y_train, y_valid = train_test_split(X, y, test_size=0.2)",
   "execution_count": 30,
   "outputs": []
  },
  {
   "metadata": {
    "trusted": true
   },
   "cell_type": "code",
   "source": "params = {'num_leaves': 30,\n         'min_data_in_leaf': 20,\n         'objective': 'regression',\n         'max_depth': 5,\n         'learning_rate': 0.01,\n         \"boosting\": \"gbdt\",\n         \"feature_fraction\": 0.9,\n         \"bagging_freq\": 1,\n         \"bagging_fraction\": 0.9,\n         \"bagging_seed\": 11,\n         \"metric\": 'rmse',\n         \"lambda_l1\": 0.2,\n         \"verbosity\": -1}\n\nlgb_model = lgb.LGBMRegressor(**params, n_estimators = 10000, nthread = 4, n_jobs = -1)\nlgb_model.fit(X_train, y_train, \n        eval_set=[(X_train, y_train), (X_valid, y_valid)], eval_metric='rmse',\n        verbose=1000, early_stopping_rounds=200)\n\neli5.show_weights(lgb_model, feature_filter=lambda x: x != '<BIAS>')",
   "execution_count": 31,
   "outputs": [
    {
     "output_type": "stream",
     "text": "Training until validation scores don't improve for 200 rounds\n[1000]\ttraining's rmse: 1.4409\tvalid_1's rmse: 2.07334\nEarly stopping, best iteration is:\n[1226]\ttraining's rmse: 1.384\tvalid_1's rmse: 2.06842\n",
     "name": "stdout"
    },
    {
     "output_type": "execute_result",
     "execution_count": 31,
     "data": {
      "text/plain": "<IPython.core.display.HTML object>",
      "text/html": "\n    <style>\n    table.eli5-weights tr:hover {\n        filter: brightness(85%);\n    }\n</style>\n\n\n\n    \n\n    \n\n    \n\n    \n\n    \n\n    \n\n\n    \n\n    \n\n    \n\n    \n\n    \n\n    \n\n\n    \n\n    \n\n    \n\n    \n\n    \n        <table class=\"eli5-weights eli5-feature-importances\" style=\"border-collapse: collapse; border: none; margin-top: 0em; table-layout: auto;\">\n    <thead>\n    <tr style=\"border: none;\">\n        <th style=\"padding: 0 1em 0 0.5em; text-align: right; border: none;\">Weight</th>\n        <th style=\"padding: 0 0.5em 0 0.5em; text-align: left; border: none;\">Feature</th>\n    </tr>\n    </thead>\n    <tbody>\n    \n        <tr style=\"background-color: hsl(120, 100.00%, 80.00%); border: none;\">\n            <td style=\"padding: 0 1em 0 0.5em; text-align: right; border: none;\">\n                0.4074\n                \n            </td>\n            <td style=\"padding: 0 0.5em 0 0.5em; text-align: left; border: none;\">\n                budget_year_ratio\n            </td>\n        </tr>\n    \n        <tr style=\"background-color: hsl(120, 100.00%, 89.42%); border: none;\">\n            <td style=\"padding: 0 1em 0 0.5em; text-align: right; border: none;\">\n                0.1641\n                \n            </td>\n            <td style=\"padding: 0 0.5em 0 0.5em; text-align: left; border: none;\">\n                popularity\n            </td>\n        </tr>\n    \n        <tr style=\"background-color: hsl(120, 100.00%, 91.05%); border: none;\">\n            <td style=\"padding: 0 1em 0 0.5em; text-align: right; border: none;\">\n                0.1292\n                \n            </td>\n            <td style=\"padding: 0 0.5em 0 0.5em; text-align: left; border: none;\">\n                budget\n            </td>\n        </tr>\n    \n        <tr style=\"background-color: hsl(120, 100.00%, 92.81%); border: none;\">\n            <td style=\"padding: 0 1em 0 0.5em; text-align: right; border: none;\">\n                0.0945\n                \n            </td>\n            <td style=\"padding: 0 0.5em 0 0.5em; text-align: left; border: none;\">\n                release_year\n            </td>\n        </tr>\n    \n        <tr style=\"background-color: hsl(120, 100.00%, 95.34%); border: none;\">\n            <td style=\"padding: 0 1em 0 0.5em; text-align: right; border: none;\">\n                0.0509\n                \n            </td>\n            <td style=\"padding: 0 0.5em 0 0.5em; text-align: left; border: none;\">\n                runtime\n            </td>\n        </tr>\n    \n        <tr style=\"background-color: hsl(120, 100.00%, 95.39%); border: none;\">\n            <td style=\"padding: 0 1em 0 0.5em; text-align: right; border: none;\">\n                0.0501\n                \n            </td>\n            <td style=\"padding: 0 0.5em 0 0.5em; text-align: left; border: none;\">\n                all_genres\n            </td>\n        </tr>\n    \n        <tr style=\"background-color: hsl(120, 100.00%, 96.31%); border: none;\">\n            <td style=\"padding: 0 1em 0 0.5em; text-align: right; border: none;\">\n                0.0365\n                \n            </td>\n            <td style=\"padding: 0 0.5em 0 0.5em; text-align: left; border: none;\">\n                production_countries\n            </td>\n        </tr>\n    \n        <tr style=\"background-color: hsl(120, 100.00%, 97.23%); border: none;\">\n            <td style=\"padding: 0 1em 0 0.5em; text-align: right; border: none;\">\n                0.0242\n                \n            </td>\n            <td style=\"padding: 0 0.5em 0 0.5em; text-align: left; border: none;\">\n                release_month\n            </td>\n        </tr>\n    \n        <tr style=\"background-color: hsl(120, 100.00%, 97.78%); border: none;\">\n            <td style=\"padding: 0 1em 0 0.5em; text-align: right; border: none;\">\n                0.0176\n                \n            </td>\n            <td style=\"padding: 0 0.5em 0 0.5em; text-align: left; border: none;\">\n                belongs_to_collection\n            </td>\n        </tr>\n    \n        <tr style=\"background-color: hsl(120, 100.00%, 97.99%); border: none;\">\n            <td style=\"padding: 0 1em 0 0.5em; text-align: right; border: none;\">\n                0.0153\n                \n            </td>\n            <td style=\"padding: 0 0.5em 0 0.5em; text-align: left; border: none;\">\n                original_language\n            </td>\n        </tr>\n    \n        <tr style=\"background-color: hsl(120, 100.00%, 98.48%); border: none;\">\n            <td style=\"padding: 0 1em 0 0.5em; text-align: right; border: none;\">\n                0.0102\n                \n            </td>\n            <td style=\"padding: 0 0.5em 0 0.5em; text-align: left; border: none;\">\n                tagline\n            </td>\n        </tr>\n    \n    \n    </tbody>\n</table>\n    \n\n    \n\n\n    \n\n    \n\n    \n\n    \n\n    \n\n    \n\n\n\n"
     },
     "metadata": {}
    }
   ]
  },
  {
   "metadata": {},
   "cell_type": "markdown",
   "source": "Looks good! The only thing that worries me a bit is if we keep both budget and budget to year ratio the prediction will be \"budget heavy\"."
  },
  {
   "metadata": {
    "trusted": true
   },
   "cell_type": "code",
   "source": "Random_Search_Params ={\n    \"max_depth\": [4],\n    \"min_data_in_leaf\": [15],\n    'learning_rate': [0.01],\n    'num_leaves': [40],\n    'boosting_type' : ['gbdt'],\n    'objective' : ['regression'],\n    'random_state' : [501], \n    }\n\nn_HP_points_to_test = 50\n\nrandom_search = RandomizedSearchCV(\n    estimator=lgb_model, param_distributions= Random_Search_Params, \n    n_iter=n_HP_points_to_test,\n    cv=3,\n    refit=True,\n    random_state=314,\n    verbose=True)\n\nrandom_search.fit(X, y)\nprint('Best score reached: {} with params: {} '.format(random_search.best_score_, random_search.best_params_))\n\n# Using parameters already set above, replace in the best from the random search\n\nparams['learning_rate'] = random_search.best_params_['learning_rate']\nparams['max_depth'] = random_search.best_params_['max_depth']\nparams['num_leaves'] = random_search.best_params_['num_leaves']\n",
   "execution_count": 32,
   "outputs": [
    {
     "output_type": "stream",
     "text": "Fitting 3 folds for each of 1 candidates, totalling 3 fits\n",
     "name": "stdout"
    },
    {
     "output_type": "stream",
     "text": "[Parallel(n_jobs=1)]: Using backend SequentialBackend with 1 concurrent workers.\n[Parallel(n_jobs=1)]: Done   3 out of   3 | elapsed:   17.4s finished\n",
     "name": "stderr"
    },
    {
     "output_type": "stream",
     "text": "Best score reached: 0.5460315736640616 with params: {'random_state': 501, 'objective': 'regression', 'num_leaves': 40, 'min_data_in_leaf': 15, 'max_depth': 4, 'learning_rate': 0.01, 'boosting_type': 'gbdt'} \n",
     "name": "stdout"
    }
   ]
  },
  {
   "metadata": {
    "trusted": true
   },
   "cell_type": "code",
   "source": "final_model = random_search.best_estimator_\nfinal_predict = final_model.predict(test)\nlen(final_predict)",
   "execution_count": null,
   "outputs": []
  },
  {
   "metadata": {
    "trusted": true
   },
   "cell_type": "code",
   "source": "sample_submission['revenue']= np.expm1(final_predict)\nsample_submission.to_csv('finalllly_sub.csv', index=False)",
   "execution_count": null,
   "outputs": []
  }
 ],
 "metadata": {
  "kernelspec": {
   "name": "python3",
   "display_name": "Python 3",
   "language": "python"
  },
  "language_info": {
   "name": "python",
   "version": "3.7.6",
   "mimetype": "text/x-python",
   "codemirror_mode": {
    "name": "ipython",
    "version": 3
   },
   "pygments_lexer": "ipython3",
   "nbconvert_exporter": "python",
   "file_extension": ".py"
  }
 },
 "nbformat": 4,
 "nbformat_minor": 4
}